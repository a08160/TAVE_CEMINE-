{
 "cells": [
  {
   "cell_type": "markdown",
   "metadata": {},
   "source": [
    "# 인스타그램 해시태그 크롤링\n",
    "## 필요한 라이브러리 import"
   ]
  },
  {
   "cell_type": "code",
   "execution_count": 14,
   "metadata": {},
   "outputs": [],
   "source": [
    "#%pip install selenium\n",
    "#%pip install webdriver_manager\n",
    "#%pip install lxml\n",
    "#%pip install openpyxl\n",
    "#%pip install --upgrade pandas\n",
    "import pandas as pd\n",
    "from datetime import datetime\n",
    "from selenium import webdriver\n",
    "from selenium.webdriver.common.by import By\n",
    "from selenium.webdriver.common.keys import Keys\n",
    "from selenium.webdriver.support.ui import WebDriverWait\n",
    "from urllib.request import urlretrieve\n",
    "from urllib.parse import quote_plus\n",
    "from selenium.webdriver.support import expected_conditions as EC\n",
    "from selenium.webdriver.chrome.service import Service\n",
    "from webdriver_manager.chrome import ChromeDriverManager\n",
    "from bs4 import BeautifulSoup\n",
    "from lxml import html\n",
    "import urllib.request\n",
    "import requests\n",
    "import os\n",
    "import time\n",
    "import re\n",
    "import random"
   ]
  },
  {
   "cell_type": "markdown",
   "metadata": {},
   "source": [
    "## 해시태그 url 변수 저장"
   ]
  },
  {
   "cell_type": "code",
   "execution_count": 2,
   "metadata": {},
   "outputs": [],
   "source": [
    "# 해시태그 검색하여 url 변수에 저장\n",
    "def Search_hashtag(word):\n",
    "    url = \"https://www.instagram.com/explore/tags/\" + str(word)\n",
    "    return url"
   ]
  },
  {
   "cell_type": "markdown",
   "metadata": {},
   "source": [
    "## 열린 페이지에서 첫 번째 게시물 클릭"
   ]
  },
  {
   "cell_type": "code",
   "execution_count": 3,
   "metadata": {},
   "outputs": [],
   "source": [
    "def select_first(driver):\n",
    "  try:\n",
    "    first_post = WebDriverWait(driver, 10).until(\n",
    "      EC.presence_of_element_located((By.CSS_SELECTOR, 'a[href^=\"/p/\"]'))\n",
    "    )\n",
    "    first_post.click()\n",
    "  except Exception as e:\n",
    "    print(\"첫 번째 게시물 선택 오류: {e}\")\n",
    "    \n",
    "  #first = driver.find_element(By.CSS_SELECTOR, \"div._aagw\")\n",
    "  #time.sleep(3)"
   ]
  },
  {
   "cell_type": "markdown",
   "metadata": {},
   "source": [
    "## 첫 게시물 클릭 후 다음 게시물 클릭"
   ]
  },
  {
   "cell_type": "code",
   "execution_count": 4,
   "metadata": {},
   "outputs": [],
   "source": [
    "def move_next_post(driver):\n",
    "    try:\n",
    "        next_button = WebDriverWait(driver, 10).until(\n",
    "            EC.element_to_be_clickable((By.CSS_SELECTOR, \"._abl-\"))\n",
    "        )\n",
    "        next_button.click()\n",
    "    except Exception as e:\n",
    "        print(f\"다음 게시물로 이동 오류: {e}\")\n",
    "    # right = driver.find_element(By.CSS_SELECTOR, \"div._aaqg._aaqh\")\n",
    "    # time.sleep(3)"
   ]
  },
  {
   "cell_type": "markdown",
   "metadata": {},
   "source": [
    "## 크롤링 함수"
   ]
  },
  {
   "cell_type": "code",
   "execution_count": null,
   "metadata": {},
   "outputs": [],
   "source": [
    "# 이미지 저장\n",
    "def img_save(link, index):\n",
    "    try:\n",
    "        wait = WebDriverWait(driver, 10)\n",
    "        img_elements = wait.until(EC.presence_of_all_elements_located((By.CSS_SELECTOR, '.x5yr21d.xu96u03.x10l6tqk.x13vifvy.x87ps6o.xh8yej3')))\n",
    "    \n",
    "        # 첫 번째 이미지 요소만 저장\n",
    "        if len(img_elements) > 0:\n",
    "            img_element = img_elements[index]\n",
    "            img_url = img_element.get_attribute('src')\n",
    "        \n",
    "            # img_url 값 확인\n",
    "            print(f\"이미지 URL: {img_url}\")\n",
    "        \n",
    "        return img_url\n",
    "    except Exception as e:\n",
    "        print(f\"이미지 저장 오류: {e}\")\n",
    "    return None\n",
    "\n",
    "# 함수 정의: 이미지, 링크 가져오기\n",
    "def collect_links(driver, index):\n",
    "    try:\n",
    "        soup = BeautifulSoup(driver.page_source, 'html.parser')\n",
    "        link = soup.select('a[href^=\"/p/\"]')\n",
    "        return ['https://www.instagram.com' + link['href'] for link in link[:index]]\n",
    "    except Exception as e:\n",
    "        print(f\"링크 수집 오류: {e}\")\n",
    "        return []\n",
    "\n",
    "def get_content(driver, index):\n",
    "    html = driver.page_source\n",
    "    soup = BeautifulSoup(html, 'lxml')\n",
    "    \n",
    "    # 링크 수집\n",
    "    link = collect_links(driver, index)\n",
    "    print(\"수집된 링크: \")\n",
    "    print(link)\n",
    "    \n",
    "    if link:\n",
    "        # 이미지 저장\n",
    "        img_url = img_save(link, index)\n",
    "        data = {\"img_url\": img_url, \"link\": link}\n",
    "    return data"
   ]
  },
  {
   "cell_type": "markdown",
   "metadata": {},
   "source": [
    "## 로그인 함수"
   ]
  },
  {
   "cell_type": "code",
   "execution_count": 6,
   "metadata": {},
   "outputs": [],
   "source": [
    "\n",
    "def login_instagram(driver, username, password):\n",
    "    try:\n",
    "        username_input = WebDriverWait(driver, 10).until(\n",
    "            EC.presence_of_element_located((By.CSS_SELECTOR, \"input[name='username']\"))\n",
    "        )\n",
    "        username_input.send_keys(username)\n",
    "\n",
    "        password_input = WebDriverWait(driver, 10).until(\n",
    "            EC.presence_of_element_located((By.CSS_SELECTOR, \"input[name='password']\"))\n",
    "        )\n",
    "        password_input.send_keys(password)\n",
    "\n",
    "        login_button = WebDriverWait(driver, 10).until(\n",
    "            EC.element_to_be_clickable((By.CSS_SELECTOR, \"button[type='submit']\"))\n",
    "        )\n",
    "        login_button.click()\n",
    "        return True\n",
    "    except Exception as e:\n",
    "        print(f\"로그인 오류: {e}\")\n",
    "        return False\n"
   ]
  },
  {
   "cell_type": "markdown",
   "metadata": {},
   "source": [
    "## 크롤링 시작"
   ]
  },
  {
   "cell_type": "code",
   "execution_count": 51,
   "metadata": {
    "scrolled": false
   },
   "outputs": [
    {
     "name": "stdout",
     "output_type": "stream",
     "text": [
      "해시태그 마뗑킴코디에 대한 검색 결과 페이지 열기\n",
      "1/3 번째 게시물 수집 중...\n",
      "수집된 링크: \n",
      "https://www.instagram.com/p/C7OyNSAPfJB/?img_index=1\n",
      "이미지 URL: https://scontent-ssn1-1.cdninstagram.com/v/t51.29350-15/445117187_1437462806888811_7791906540257023493_n.jpg?stp=dst-jpg_e35&efg=eyJ2ZW5jb2RlX3RhZyI6ImltYWdlX3VybGdlbi4xNDQweDE4MDAuc2RyLmYyOTM1MCJ9&_nc_ht=scontent-ssn1-1.cdninstagram.com&_nc_cat=103&_nc_ohc=1oRpqWfLL0gQ7kNvgH7IfEK&edm=ALQROFkBAAAA&ccb=7-5&ig_cache_key=MzM3Mjg1Mzk3MzUzMzc0MDA3Ng%3D%3D.2-ccb7-5&oh=00_AYBTO3XTk-koRKx9Zfx0C2JCGQ9Tw76AX-Vz5wJoj7scow&oe=666F510F&_nc_sid=fc8dfb\n",
      "2/3 번째 게시물 수집 중...\n",
      "수집된 링크: \n",
      "https://www.instagram.com/p/CiO2v1zpLcI/\n",
      "이미지 URL: https://scontent-ssn1-1.cdninstagram.com/v/t51.29350-15/306043499_2803194229824615_6591241000885270086_n.jpg?stp=dst-jpg_e35&efg=eyJ2ZW5jb2RlX3RhZyI6ImltYWdlX3VybGdlbi4xNDQweDE0NDAuc2RyLmYyOTM1MCJ9&_nc_ht=scontent-ssn1-1.cdninstagram.com&_nc_cat=103&_nc_ohc=fjATgC4BSoAQ7kNvgE7PKhK&edm=ALQROFkBAAAA&ccb=7-5&ig_cache_key=MjkyMjUxMzk5MDMxMTc4NjI0OA%3D%3D.2-ccb7-5&oh=00_AYBSt9xm1669WMDB2AEeCZ5uqfxWosX_9Xq5-6aF3TNG6g&oe=666F4A3C&_nc_sid=fc8dfb\n",
      "3/3 번째 게시물 수집 중...\n",
      "수집된 링크: \n",
      "https://www.instagram.com/p/C7OyNSAPfJB/?img_index=1\n",
      "이미지 URL: https://scontent-ssn1-1.cdninstagram.com/v/t39.30808-6/432540334_18429325888052853_8919080614661133686_n.jpg?stp=dst-jpg_e35&efg=eyJ2ZW5jb2RlX3RhZyI6ImltYWdlX3VybGdlbi4xNDQweDE4MDAuc2RyLmYzMDgwOCJ9&_nc_ht=scontent-ssn1-1.cdninstagram.com&_nc_cat=109&_nc_ohc=9EqL_Mx17PcQ7kNvgEYnmJ8&edm=AGyKU4gAAAAA&ccb=7-5&ig_cache_key=MzMyMTQzMjQxNzM5NDAwMDc3OQ%3D%3D.2-ccb7-5&oh=00_AYBY60tALM2SwdPxCY9HCBAin8CMPyXzqUpHejQbLnOU4w&oe=666F40DF&_nc_sid=2011ad\n",
      "[{'img_url': 'https://scontent-ssn1-1.cdninstagram.com/v/t51.29350-15/445117187_1437462806888811_7791906540257023493_n.jpg?stp=dst-jpg_e35&efg=eyJ2ZW5jb2RlX3RhZyI6ImltYWdlX3VybGdlbi4xNDQweDE4MDAuc2RyLmYyOTM1MCJ9&_nc_ht=scontent-ssn1-1.cdninstagram.com&_nc_cat=103&_nc_ohc=1oRpqWfLL0gQ7kNvgH7IfEK&edm=ALQROFkBAAAA&ccb=7-5&ig_cache_key=MzM3Mjg1Mzk3MzUzMzc0MDA3Ng%3D%3D.2-ccb7-5&oh=00_AYBTO3XTk-koRKx9Zfx0C2JCGQ9Tw76AX-Vz5wJoj7scow&oe=666F510F&_nc_sid=fc8dfb', 'link': 'https://www.instagram.com/p/C7OyNSAPfJB/?img_index=1'}, {'img_url': 'https://scontent-ssn1-1.cdninstagram.com/v/t51.29350-15/306043499_2803194229824615_6591241000885270086_n.jpg?stp=dst-jpg_e35&efg=eyJ2ZW5jb2RlX3RhZyI6ImltYWdlX3VybGdlbi4xNDQweDE0NDAuc2RyLmYyOTM1MCJ9&_nc_ht=scontent-ssn1-1.cdninstagram.com&_nc_cat=103&_nc_ohc=fjATgC4BSoAQ7kNvgE7PKhK&edm=ALQROFkBAAAA&ccb=7-5&ig_cache_key=MjkyMjUxMzk5MDMxMTc4NjI0OA%3D%3D.2-ccb7-5&oh=00_AYBSt9xm1669WMDB2AEeCZ5uqfxWosX_9Xq5-6aF3TNG6g&oe=666F4A3C&_nc_sid=fc8dfb', 'link': 'https://www.instagram.com/p/CiO2v1zpLcI/'}, {'img_url': 'https://scontent-ssn1-1.cdninstagram.com/v/t39.30808-6/432540334_18429325888052853_8919080614661133686_n.jpg?stp=dst-jpg_e35&efg=eyJ2ZW5jb2RlX3RhZyI6ImltYWdlX3VybGdlbi4xNDQweDE4MDAuc2RyLmYzMDgwOCJ9&_nc_ht=scontent-ssn1-1.cdninstagram.com&_nc_cat=109&_nc_ohc=9EqL_Mx17PcQ7kNvgEYnmJ8&edm=AGyKU4gAAAAA&ccb=7-5&ig_cache_key=MzMyMTQzMjQxNzM5NDAwMDc3OQ%3D%3D.2-ccb7-5&oh=00_AYBY60tALM2SwdPxCY9HCBAin8CMPyXzqUpHejQbLnOU4w&oe=666F40DF&_nc_sid=2011ad', 'link': 'https://www.instagram.com/p/C7OyNSAPfJB/?img_index=1'}]\n"
     ]
    }
   ],
   "source": [
    "# 크롬 브라우저 열기\n",
    "try:\n",
    "    service = Service(ChromeDriverManager().install())\n",
    "    options = webdriver.ChromeOptions()\n",
    "    driver = webdriver.Chrome(service=service, options=options)\n",
    "    driver.implicitly_wait(10)\n",
    "    driver.get('https://www.instagram.com')\n",
    "except Exception as e:\n",
    "    print(f\"웹드라이버 초기화 오류: {e}\")\n",
    "    raise\n",
    "\n",
    "time.sleep(3)\n",
    "\n",
    "#인스타그램 로그인\n",
    "username = 'semlng'\n",
    "password = 'wkdtpals2wmrkt!'\n",
    "if not login_instagram(driver, username, password):\n",
    "    driver.quit()\n",
    "    raise Exception(\"로그인 실패\")\n",
    "\n",
    "time.sleep(5)\n",
    "\n",
    "# 해시태그 검색\n",
    "word = input(\"검색할 해시태그를 입력하세요: \")\n",
    "url = Search_hashtag(word)\n",
    "\n",
    "# 검색 결과 페이지 열기\n",
    "print(f\"해시태그 {word}에 대한 검색 결과 페이지 열기\")\n",
    "driver.get(url)\n",
    "time.sleep(10)\n",
    "\n",
    "# 첫 번째 게시물 클릭\n",
    "select_first(driver)\n",
    "\n",
    "# 데이터 수집 시작\n",
    "results = []\n",
    "# 수집할 게시물의 수\n",
    "target = 3\n",
    "for i in range(target):\n",
    "    print(f\"{i+1}/{target} 번째 게시물 수집 중...\")\n",
    "    try:\n",
    "        data = get_content(driver, i)\n",
    "        results.append(data)\n",
    "        move_next_post(driver)\n",
    "    except Exception as e:\n",
    "        print(f\"게시물 수집 오류 : {e}\")\n",
    "        move_next_post(driver)\n",
    "    time.sleep(5)\n",
    "    \n",
    "print(results)\n",
    "\n",
    "# 결과를 데이터프레임으로 저장\n",
    "date = datetime.today().strftime('%Y-%m-%d')\n",
    "results_df = pd.DataFrame(results)\n",
    "\n",
    "# 엑셀 파일로 저장\n",
    "results_df.to_excel('instagram_crawling.xlsx')\n",
    "\n",
    "# WebDriver 종료\n",
    "driver.quit()"
   ]
  },
  {
   "cell_type": "code",
   "execution_count": null,
   "metadata": {},
   "outputs": [],
   "source": [
    "# 변환할 엑셀 파일 경로\n",
    "excel_file = r'C:\\Users\\wkdwoo\\Desktop\\장세민\\이력서\\포트폴리오\\Git\\패션브랜드 소비자 대시보드 제작 프로젝트\\크롤링\\마뗑킴\\#merged_Martinkim.xlsx'\n",
    "\n",
    "# CSV 파일로 저장할 경로\n",
    "csv_file = r'C:\\Users\\wkdwoo\\Desktop\\장세민\\이력서\\포트폴리오\\Git\\패션브랜드 소비자 대시보드 제작 프로젝트\\크롤링\\마뗑킴\\#merged_Martinkim.csv'\n",
    "\n",
    "# 엑셀 파일 읽기\n",
    "df = pd.read_excel(excel_file)\n",
    "\n",
    "# CSV 파일로 저장\n",
    "df.to_csv(csv_file, index=False)"
   ]
  }
 ],
 "metadata": {
  "kernelspec": {
   "display_name": "programmers",
   "language": "python",
   "name": "programmers"
  },
  "language_info": {
   "codemirror_mode": {
    "name": "ipython",
    "version": 3
   },
   "file_extension": ".py",
   "mimetype": "text/x-python",
   "name": "python",
   "nbconvert_exporter": "python",
   "pygments_lexer": "ipython3",
   "version": "3.10.4"
  },
  "toc": {
   "base_numbering": 1,
   "nav_menu": {},
   "number_sections": true,
   "sideBar": true,
   "skip_h1_title": false,
   "title_cell": "Table of Contents",
   "title_sidebar": "Contents",
   "toc_cell": false,
   "toc_position": {},
   "toc_section_display": true,
   "toc_window_display": false
  }
 },
 "nbformat": 4,
 "nbformat_minor": 2
}
