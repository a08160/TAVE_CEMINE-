{
 "cells": [
  {
   "cell_type": "code",
   "execution_count": 1,
   "metadata": {},
   "outputs": [
    {
     "data": {
      "text/plain": [
       "'c:\\\\Users\\\\dpfls\\\\OneDrive - 숙명여자대학교\\\\바탕 화면\\\\Yerin\\\\Activity\\\\2024\\\\TAVE\\\\후반기 프로젝트'"
      ]
     },
     "execution_count": 1,
     "metadata": {},
     "output_type": "execute_result"
    }
   ],
   "source": [
    "from selenium import webdriver\n",
    "import time\n",
    "from bs4 import BeautifulSoup\n",
    "from selenium.webdriver import ActionChains\n",
    "from selenium.webdriver.common.keys import Keys\n",
    "import math\n",
    "import pandas as pd\n",
    "import numpy as np\n",
    "from tqdm import tqdm\n",
    "import os\n",
    "from selenium.webdriver.common.by import By\n",
    "import json\n",
    "import pygsheets\n",
    "from google.oauth2 import service_account\n",
    "import platform\n",
    "import datetime\n",
    "from dateutil.relativedelta import relativedelta\n",
    "import sys\n",
    "from selenium.webdriver.chrome.service import Service as ChromeService\n",
    "from webdriver_manager.chrome import ChromeDriverManager\n",
    "\n",
    "class MyChromeDriver(webdriver.Chrome):\n",
    "\n",
    "    def __init__(self, headless=False, maximize=True):\n",
    "\n",
    "        options = webdriver.ChromeOptions()\n",
    "        if headless:\n",
    "            options.add_argument('--headless')\n",
    "\n",
    "        webdriver.Chrome.__init__(self, service=ChromeService(ChromeDriverManager().install()), options=options)\n",
    "\n",
    "        if maximize:\n",
    "            self.maximize_window()\n",
    "\n",
    "driver = webdriver.Chrome(service=ChromeService(ChromeDriverManager().install()))\n",
    "\n",
    "if driver is None:\n",
    "        my_driver = MyChromeDriver()\n",
    "        time.sleep(10)\n",
    "else:\n",
    "    my_driver = driver\n",
    "\n",
    "os.getcwd()"
   ]
  },
  {
   "cell_type": "code",
   "execution_count": 2,
   "metadata": {},
   "outputs": [
    {
     "name": "stderr",
     "output_type": "stream",
     "text": [
      "  0%|          | 1/413 [00:01<08:39,  1.26s/it]"
     ]
    },
    {
     "name": "stdout",
     "output_type": "stream",
     "text": [
      "0 지금, 이 순간 영원히 기록될 T1의 여름 T1 X POLO RALPH LAUREN (티원, FAKER, ZEUS, ONER, GUMAYUSI, KERIA,폴로 랄프 로렌) https://youtu.be/xbTIUETEhUM&pp GQ KOREA 폴로\n"
     ]
    },
    {
     "name": "stderr",
     "output_type": "stream",
     "text": [
      "  0%|          | 2/413 [00:02<08:38,  1.26s/it]"
     ]
    },
    {
     "name": "stdout",
     "output_type": "stream",
     "text": [
      "1 [하와이Vlog] 폴로 160만원 질렀습니다 👚 폴로저렴하게사는법 | 와이켈레 아울렛 | 전세계 매장 가능 | 폴로쿠폰 | 하와이 쇼핑하울 | 폴로하울 | 폴로추천상품 https://youtu.be/XbKEj4JVmOc&pp 뉴미 NewMi 폴로\n"
     ]
    },
    {
     "name": "stderr",
     "output_type": "stream",
     "text": [
      "  1%|          | 3/413 [00:03<08:08,  1.19s/it]"
     ]
    },
    {
     "name": "stdout",
     "output_type": "stream",
     "text": [
      "2 [ENG] T1 카페에 갔습니다. 카페가 열린건 아니고 카페에서 T1 생각했습니다. 사실 커피도 안마셨습니다. 그냥 T1 상태입니다. (페이커, 제우스, 오너, 구마유시, 케리아) https://youtu.be/8KBJZZAMf0c&pp GQ KOREA 폴로\n"
     ]
    },
    {
     "name": "stderr",
     "output_type": "stream",
     "text": [
      "  1%|          | 4/413 [00:04<07:16,  1.07s/it]"
     ]
    },
    {
     "name": "stdout",
     "output_type": "stream",
     "text": [
      "3 폴로 랄프로렌 가품 확실한 구별법 (폴로 정품 짭 판별) https://youtu.be/fDS8aEif31M&pp b급TV 폴로\n"
     ]
    },
    {
     "name": "stderr",
     "output_type": "stream",
     "text": [
      "  1%|          | 5/413 [00:05<07:04,  1.04s/it]"
     ]
    },
    {
     "name": "stdout",
     "output_type": "stream",
     "text": [
      "4 마트에서 파는 폴로 랄프로렌 정품 가품 확인 (나이키, POLO, 타미... 모두 정품일까?) https://youtu.be/PBTlgVTuQVs&pp b급TV 폴로\n"
     ]
    },
    {
     "name": "stderr",
     "output_type": "stream",
     "text": [
      "  1%|▏         | 6/413 [00:06<07:23,  1.09s/it]"
     ]
    },
    {
     "name": "stdout",
     "output_type": "stream",
     "text": [
      "5 [ENG CC] 👕이것의 원조는 랄프 로렌이 아니다⁉️ | 폴로 셔츠 탄생 비하인드 썰👄 https://youtu.be/EljrY8SRJZ4&pp 슈스스TV 폴로\n"
     ]
    },
    {
     "name": "stderr",
     "output_type": "stream",
     "text": [
      "  2%|▏         | 7/413 [00:07<06:50,  1.01s/it]"
     ]
    },
    {
     "name": "stdout",
     "output_type": "stream",
     "text": [
      "6 [Haul] 폴로가 가장싼 미국아울렛🤭 73만원 할인이라니!!!! 💸(feat. 블랙프라이데이/ 캐시미어니트 / 꽈배기니트/ 모자) https://youtu.be/AbNBdnpuHGY&pp 이지로그 Eazzy_log 폴로\n"
     ]
    },
    {
     "name": "stderr",
     "output_type": "stream",
     "text": [
      "  2%|▏         | 8/413 [00:08<06:37,  1.02it/s]"
     ]
    },
    {
     "name": "stdout",
     "output_type": "stream",
     "text": [
      "7 천년만년 입는 폴로 아이템. 폴로에서 이거는 필수템! 셔츠 위주 추천 https://youtu.be/i7WmGPuw-Bc&pp 배사임당BAESAIMDANG 폴로\n"
     ]
    },
    {
     "name": "stderr",
     "output_type": "stream",
     "text": [
      "  2%|▏         | 9/413 [00:09<06:23,  1.05it/s]"
     ]
    },
    {
     "name": "stdout",
     "output_type": "stream",
     "text": [
      "8 여기도 가품이야? 폴로는 왜 이렇게 가품이 많을까? https://youtu.be/CSkfVqxF71I&pp 헬프맨 폴로\n"
     ]
    },
    {
     "name": "stderr",
     "output_type": "stream",
     "text": [
      "  2%|▏         | 10/413 [00:10<06:18,  1.06it/s]"
     ]
    },
    {
     "name": "stdout",
     "output_type": "stream",
     "text": [
      "9 언제 입어도 클래식한 김연아의 폴로 니트 #얼마예요 https://youtu.be/V__4W4xd6IA 얼마예요 폴로\n"
     ]
    },
    {
     "name": "stderr",
     "output_type": "stream",
     "text": [
      "  3%|▎         | 11/413 [00:11<06:13,  1.08it/s]"
     ]
    },
    {
     "name": "stdout",
     "output_type": "stream",
     "text": [
      "10 우리가 폴로에 진심인 \"진짜\" 이유 https://youtu.be/etqor2iEz6o&pp 오늘부터 회계사 폴로\n"
     ]
    },
    {
     "name": "stderr",
     "output_type": "stream",
     "text": [
      "  3%|▎         | 12/413 [00:11<05:59,  1.11it/s]"
     ]
    },
    {
     "name": "stdout",
     "output_type": "stream",
     "text": [
      "11 폴로니트 공구 정품일까? 해외직구, 아울렛 매장템과 비교 (165cm S사이즈) #폴로 https://youtu.be/S3R4Pk3FrkI&pp 리뷰하는 묘대리 폴로\n"
     ]
    },
    {
     "name": "stderr",
     "output_type": "stream",
     "text": [
      "  3%|▎         | 13/413 [00:12<05:36,  1.19it/s]"
     ]
    },
    {
     "name": "stdout",
     "output_type": "stream",
     "text": [
      "12 이번주 폴로만 입기 가능[셔츠 l 반바지 l 치노팬츠 l 블루종 l 스웨이드자켓 l 반팔셔츠] https://youtu.be/dXo-V5sqqeA&pp 보통남자들의 옷장 폴로\n"
     ]
    },
    {
     "name": "stderr",
     "output_type": "stream",
     "text": [
      "  3%|▎         | 14/413 [00:13<05:33,  1.20it/s]"
     ]
    },
    {
     "name": "stdout",
     "output_type": "stream",
     "text": [
      "13 랄프로렌 저렴하게 득템하고 싶으면 여기로! https://youtu.be/wukLZclJhOQ AkizStyle 아키즈스타일 폴로\n"
     ]
    },
    {
     "name": "stderr",
     "output_type": "stream",
     "text": [
      "  4%|▎         | 15/413 [00:14<05:24,  1.23it/s]"
     ]
    },
    {
     "name": "stdout",
     "output_type": "stream",
     "text": [
      "14 24SS🌸💗폴로 랄프로렌 코디 모음집💗직장인 일주일코디 #폴로코디 #출근룩 #올드머니룩 https://youtu.be/WkmOTOrGjKY 유로브U'Laube 폴로\n"
     ]
    },
    {
     "name": "stderr",
     "output_type": "stream",
     "text": [
      "  4%|▍         | 16/413 [00:15<05:14,  1.26it/s]"
     ]
    },
    {
     "name": "stdout",
     "output_type": "stream",
     "text": [
      "15 vlog.일주일 내내 폴로 입는 갓생직장인| 다이슨으로 시작하는 출근 준비| 메이크업 지속력 높이는 꿀템 소개| https://youtu.be/7O1bmmkYpqw&pp 방구석갓생 폴로\n"
     ]
    },
    {
     "name": "stderr",
     "output_type": "stream",
     "text": [
      "  4%|▍         | 17/413 [00:15<05:01,  1.31it/s]"
     ]
    },
    {
     "name": "stdout",
     "output_type": "stream",
     "text": [
      "16 🇺🇸 미국 폴로 최신가격 (23년 9월) 남자의류-  미국 아울렛 쇼핑 / 현지 가격은 얼마나 할까? POLO OUTLET https://youtu.be/Kjibw8coOCI&pp 캘리킴 CaliKim 폴로\n"
     ]
    },
    {
     "name": "stderr",
     "output_type": "stream",
     "text": [
      "  4%|▍         | 18/413 [00:16<04:55,  1.34it/s]"
     ]
    },
    {
     "name": "stdout",
     "output_type": "stream",
     "text": [
      "17 영원한 사랑 Polo💖ㅣ아울렛 매장 예쁜템+옷장 뒤져 스테디템까지! 언제 입어도 예쁘고 사랑스러운 폴로 랄프로렌 👕😊 https://youtu.be/2o8lXD-zO7E&pp 쪼슈라이프 JJOCHOULIFE 폴로\n"
     ]
    },
    {
     "name": "stderr",
     "output_type": "stream",
     "text": [
      "  5%|▍         | 19/413 [00:17<04:59,  1.31it/s]"
     ]
    },
    {
     "name": "stdout",
     "output_type": "stream",
     "text": [
      "18 유니클로U 와이드팬츠 리뷰 #르메르 #폴로 #랄프로렌 #요시다포터 #패션유튜버 https://youtu.be/I50ZV9QmF1w 말바지 폴로\n"
     ]
    },
    {
     "name": "stderr",
     "output_type": "stream",
     "text": [
      "  5%|▍         | 20/413 [00:17<04:47,  1.37it/s]"
     ]
    },
    {
     "name": "stdout",
     "output_type": "stream",
     "text": [
      "19 미국 폴로 아울렛은? 한국 비교해서 얼마나 세일해? https://youtu.be/jGv10SjzUS0 달라스라이프dallaslife1 폴로\n"
     ]
    },
    {
     "name": "stderr",
     "output_type": "stream",
     "text": [
      "  5%|▌         | 21/413 [00:18<04:53,  1.34it/s]"
     ]
    },
    {
     "name": "stdout",
     "output_type": "stream",
     "text": [
      "20 🍁가을 폴로ㅣ꽈배기 니트ㅣ럭비 티셔츠ㅣ스웻셔츠 까지! https://youtu.be/nJDmnlweFHg&pp 보라보나borabona 폴로\n"
     ]
    },
    {
     "name": "stderr",
     "output_type": "stream",
     "text": [
      "  5%|▌         | 22/413 [00:19<04:54,  1.33it/s]"
     ]
    },
    {
     "name": "stdout",
     "output_type": "stream",
     "text": [
      "21 올드머니 필수 브랜드들🧐 : 금수저 스타일? 폴로, 드파운드, bau by bride and you, 하나보, 미우미우 등 https://youtu.be/Jgrhnd0yWao&pp 유리아YuRia 폴로\n"
     ]
    },
    {
     "name": "stderr",
     "output_type": "stream",
     "text": [
      "  6%|▌         | 23/413 [00:20<05:02,  1.29it/s]"
     ]
    },
    {
     "name": "stdout",
     "output_type": "stream",
     "text": [
      "22 (패션필름) 이준호 ‘피아제’ 폴로 워치 캠페인 https://youtu.be/z4tJbFnBE_Q&pp TV패션쇼 TVfashionshow 폴로\n"
     ]
    },
    {
     "name": "stderr",
     "output_type": "stream",
     "text": [
      "  6%|▌         | 24/413 [00:21<05:05,  1.27it/s]"
     ]
    },
    {
     "name": "stdout",
     "output_type": "stream",
     "text": [
      "23 남자들은 이런 폴로 셔츠를 한 번 입지 않으면 여자들이 당신을 얼마나 좋아하는지 영원히 모릅니다! https://youtu.be/aPFUPg60U2g&pp AAAAzzzzzzhh807 폴로\n"
     ]
    },
    {
     "name": "stderr",
     "output_type": "stream",
     "text": [
      "  6%|▌         | 25/413 [00:21<05:06,  1.27it/s]"
     ]
    },
    {
     "name": "stdout",
     "output_type": "stream",
     "text": [
      "24 폴로 정가품을 구별하는 가장 간단한 방법 https://youtu.be/g3MHneshvLk&pp 포트배드Fashion Magazine 폴로\n"
     ]
    },
    {
     "name": "stderr",
     "output_type": "stream",
     "text": [
      "  6%|▋         | 26/413 [00:22<05:25,  1.19it/s]"
     ]
    },
    {
     "name": "stdout",
     "output_type": "stream",
     "text": [
      "25 결국 한 벌 더 샀다. 폴로 린넨셔츠 https://youtu.be/XZ6SbLdshrc&pp 임대리님 남자패션&트렌드 폴로\n"
     ]
    },
    {
     "name": "stderr",
     "output_type": "stream",
     "text": [
      "  7%|▋         | 27/413 [00:23<05:40,  1.13it/s]"
     ]
    },
    {
     "name": "stdout",
     "output_type": "stream",
     "text": [
      "26 🎯SNS에서 자꾸 물어봐서 가져왔다. 최근 자주 사용하는 여름 패션 아이템 12가지 | 아식스, 포터, 노스페이스, 폴로 랄프로렌, 리바이스, 지샥 https://youtu.be/0AoEK2kbR-k&pp 오늘의 주우재 폴로\n"
     ]
    },
    {
     "name": "stderr",
     "output_type": "stream",
     "text": [
      "  7%|▋         | 28/413 [00:24<05:40,  1.13it/s]"
     ]
    },
    {
     "name": "stdout",
     "output_type": "stream",
     "text": [
      "27 하늘보다 푸른 여름 날의 순간! | T1 X 폴로 랄프 로렌 & 지큐 코리아 https://youtu.be/Tlh6X9IoTio T1 Shorts 폴로\n"
     ]
    },
    {
     "name": "stderr",
     "output_type": "stream",
     "text": [
      "  7%|▋         | 29/413 [00:25<05:37,  1.14it/s]"
     ]
    },
    {
     "name": "stdout",
     "output_type": "stream",
     "text": [
      "28 🇺🇸 미국 폴로 최신가격 (23년 9월) 여자의류-  미국 아울렛 쇼핑 / 가격은 얼마나 저렴할까? POLO OUTLET https://youtu.be/gO4nbMYCiJI&pp 캘리킴 CaliKim 폴로\n"
     ]
    },
    {
     "name": "stderr",
     "output_type": "stream",
     "text": [
      "  7%|▋         | 30/413 [00:26<05:32,  1.15it/s]"
     ]
    },
    {
     "name": "stdout",
     "output_type": "stream",
     "text": [
      "29 평범한 폴로셔츠가 지겹다면 https://youtu.be/TuK456zrbeo&pp 임대리님 남자패션&트렌드 폴로\n"
     ]
    },
    {
     "name": "stderr",
     "output_type": "stream",
     "text": [
      "  8%|▊         | 31/413 [00:27<05:38,  1.13it/s]"
     ]
    },
    {
     "name": "stdout",
     "output_type": "stream",
     "text": [
      "30 남자들의 필수 기본템 카라티/니트! 근본부터 가성비까지 대량리뷰 https://youtu.be/tBCstCyhL2U&pp 패션튜브삭형 폴로\n"
     ]
    },
    {
     "name": "stderr",
     "output_type": "stream",
     "text": [
      "  8%|▊         | 32/413 [00:29<07:07,  1.12s/it]"
     ]
    },
    {
     "name": "stdout",
     "output_type": "stream",
     "text": [
      "31 폴로다레드 x IShowSpeed https://youtu.be/nKESkTD2NLk&pp 김민균TV 폴로\n"
     ]
    },
    {
     "name": "stderr",
     "output_type": "stream",
     "text": [
      "  8%|▊         | 33/413 [00:30<07:37,  1.20s/it]"
     ]
    },
    {
     "name": "stdout",
     "output_type": "stream",
     "text": [
      "32 🍃 2023 가디건 추천 기준 | 메종키츠네, 폴로, 아쎄르 사이즈 팁까지 https://youtu.be/7mdTxJtFsXE&pp 러브솔 폴로\n"
     ]
    },
    {
     "name": "stderr",
     "output_type": "stream",
     "text": [
      "  8%|▊         | 34/413 [00:31<07:35,  1.20s/it]"
     ]
    },
    {
     "name": "stdout",
     "output_type": "stream",
     "text": [
      "33 미국 폴로 팩토리 득템🛍️- 한국정가 110➡️23 | 치노자켓, 피마코튼 , 개강룩도 추천, 라코스테, 대학생룩, 미국 브이로그, 일상, polo factory https://youtu.be/at-jjLtQ3JU&pp 선U 폴로\n"
     ]
    },
    {
     "name": "stderr",
     "output_type": "stream",
     "text": [
      "  8%|▊         | 35/413 [00:32<07:17,  1.16s/it]"
     ]
    },
    {
     "name": "stdout",
     "output_type": "stream",
     "text": [
      "34 폴로 반팔니트를 착용한 여자연예인 모음.zip https://youtu.be/3DjKMZRc8A8 도래Dorae 폴로\n"
     ]
    },
    {
     "name": "stderr",
     "output_type": "stream",
     "text": [
      "  9%|▊         | 36/413 [00:33<07:06,  1.13s/it]"
     ]
    },
    {
     "name": "stdout",
     "output_type": "stream",
     "text": [
      "35 폴로 셔츠의 정석 사이즈랑 컬러 핏 비교까지 몽땅 해드림 ㅣ 우먼부터 맨사이즈까지 https://youtu.be/02yhtflEf4E&pp 해외직구는 뉴욕걸즈 폴로\n"
     ]
    },
    {
     "name": "stderr",
     "output_type": "stream",
     "text": [
      "  9%|▉         | 37/413 [00:35<07:50,  1.25s/it]"
     ]
    },
    {
     "name": "stdout",
     "output_type": "stream",
     "text": [
      "36 아직도 폴로셔츠 입으세요? 지금 사면 5년 뒤에도 입을 수 있는  셔츠 브랜드 5가지 추천 https://youtu.be/wIBeLl9xINY&pp Gonzo Tv 폴로\n"
     ]
    },
    {
     "name": "stderr",
     "output_type": "stream",
     "text": [
      "  9%|▉         | 38/413 [00:36<07:22,  1.18s/it]"
     ]
    },
    {
     "name": "stdout",
     "output_type": "stream",
     "text": [
      "37 가을맞이 가디건 / 폴로 걸즈 가디건 M , L 사이즈 6가지 색상 입어보기 / 폴로랄프로렌 공홈 구매대행 https://youtu.be/-ykXmI-Fj8U&pp 선브레드 폴로\n"
     ]
    },
    {
     "name": "stderr",
     "output_type": "stream",
     "text": [
      "  9%|▉         | 39/413 [00:37<06:46,  1.09s/it]"
     ]
    },
    {
     "name": "stdout",
     "output_type": "stream",
     "text": [
      "38 #폴로니트 정가품 판별법?! #폴로브이넥 #폴로 https://youtu.be/gBLdBoIOkvk 리뷰하는 묘대리 폴로\n"
     ]
    },
    {
     "name": "stderr",
     "output_type": "stream",
     "text": [
      " 10%|▉         | 40/413 [00:38<06:34,  1.06s/it]"
     ]
    },
    {
     "name": "stdout",
     "output_type": "stream",
     "text": [
      "39 [COVER HIGHLIGHTS] 폴로 랄프 로렌과 윈터의 첫 만남. 봄이니까. https://youtu.be/2RF59jvQZrQ&pp DAZED KOREA 폴로\n"
     ]
    },
    {
     "name": "stderr",
     "output_type": "stream",
     "text": [
      " 10%|▉         | 41/413 [00:39<06:15,  1.01s/it]"
     ]
    },
    {
     "name": "stdout",
     "output_type": "stream",
     "text": [
      "40 '랄프 로렌 퍼플 라벨' 한 눈에 알아보는 핵심 요약 강의! 2024 S/S Ralph Lauren Purple  label https://youtu.be/DIPWFV6X1WE&pp 박스까남 폴로\n"
     ]
    },
    {
     "name": "stderr",
     "output_type": "stream",
     "text": [
      " 10%|█         | 42/413 [00:39<06:06,  1.01it/s]"
     ]
    },
    {
     "name": "stdout",
     "output_type": "stream",
     "text": [
      "41 짱또샀 ㅣ아울렛에서 폴로 케이블 니트 사왔음 #폴로 #파주아울렛 https://youtu.be/PBaJr5AKgmM 짱구대디 폴로\n"
     ]
    },
    {
     "name": "stderr",
     "output_type": "stream",
     "text": [
      " 10%|█         | 43/413 [00:40<05:41,  1.08it/s]"
     ]
    },
    {
     "name": "stdout",
     "output_type": "stream",
     "text": [
      "42 올드머니 필수 브랜드들🧐 : 금수저 스타일? 폴로, 드파운드, bau by bride and you, 하나보, 미우미우 등 https://youtu.be/Jgrhnd0yWao&pp 유리아YuRia 폴로\n"
     ]
    },
    {
     "name": "stderr",
     "output_type": "stream",
     "text": [
      " 11%|█         | 44/413 [00:41<05:27,  1.13it/s]"
     ]
    },
    {
     "name": "stdout",
     "output_type": "stream",
     "text": [
      "43 [쇼핑𝘃𝗹𝗼𝗴] 폴로 하울 2탄🐻ㅣ파주 프리미엄 아울렛ㅣ80만원 쇼핑🛍️ㅣ폴로 니트ㅣ폴로 가디건ㅣ폴로 패딩 https://youtu.be/XThGbdWkyY4&pp 소이진 폴로\n"
     ]
    },
    {
     "name": "stderr",
     "output_type": "stream",
     "text": [
      " 11%|█         | 45/413 [00:42<05:27,  1.12it/s]"
     ]
    },
    {
     "name": "stdout",
     "output_type": "stream",
     "text": [
      "44 71kg 통통녀가 라코스테, 폴로 비교해서 입어봤다! (반값 득템 방법까지❤️) https://youtu.be/OX0BzyfPSOs 엘피디LPD 폴로\n"
     ]
    },
    {
     "name": "stderr",
     "output_type": "stream",
     "text": [
      " 11%|█         | 46/413 [00:43<05:18,  1.15it/s]"
     ]
    },
    {
     "name": "stdout",
     "output_type": "stream",
     "text": [
      "45 vlog_  자라에서 올드머니룩 따라잡기, 구찌 니트 하울, 폴로 여주아울렛, 독감 걸리고 탕후루 먹는 일상, 쇼핑브이로그 https://youtu.be/WlDIGBxFxeY&pp 엘라벨라블라 EllaBellaBlah 폴로\n"
     ]
    },
    {
     "name": "stderr",
     "output_type": "stream",
     "text": [
      " 11%|█▏        | 47/413 [00:44<05:16,  1.16it/s]"
     ]
    },
    {
     "name": "stdout",
     "output_type": "stream",
     "text": [
      "46 신세계 이마트에서 파는 폴로 랄프로렌이 가품? https://youtu.be/dAf2sq4rW28 b급TV 폴로\n"
     ]
    },
    {
     "name": "stderr",
     "output_type": "stream",
     "text": [
      " 12%|█▏        | 48/413 [00:44<05:09,  1.18it/s]"
     ]
    },
    {
     "name": "stdout",
     "output_type": "stream",
     "text": [
      "47 [Vlog] 뉴욕 우드버리 아울렛에서 반값으로 탕진잼💸 | 폴로60%할인| 최신 아이템들 | 버버리 | 아크네 | 마르지엘라 https://youtu.be/FUnO4UJGQsE&pp 듄턱Dunetuck 폴로\n"
     ]
    },
    {
     "name": "stderr",
     "output_type": "stream",
     "text": [
      " 12%|█▏        | 49/413 [00:45<05:18,  1.14it/s]"
     ]
    },
    {
     "name": "stdout",
     "output_type": "stream",
     "text": [
      "48 가을하면 폴로, 폴로하면 가을 아니겠어요?🤎ㅣ폴로 가을 룩북🍁🍂(feat.쉽겟)ㅣ폴로 니트ㅣ폴로 가디건ㅣ폴로 셔츠ㅣ패션하울ㅣ타오바오 하울📦 https://youtu.be/y0ml6O7_1Io&pp 소이진 폴로\n"
     ]
    },
    {
     "name": "stderr",
     "output_type": "stream",
     "text": [
      " 12%|█▏        | 50/413 [00:46<05:04,  1.19it/s]"
     ]
    },
    {
     "name": "stdout",
     "output_type": "stream",
     "text": [
      "49 유행은 반복되고, 2024년에는 이게 다시 유행합니다. 2024 S/S 패션 트렌드 정리 https://youtu.be/7W3g9WVe7JY&pp Mid Style 미드스타일 폴로\n"
     ]
    },
    {
     "name": "stderr",
     "output_type": "stream",
     "text": [
      " 12%|█▏        | 51/413 [00:47<05:01,  1.20it/s]"
     ]
    },
    {
     "name": "stdout",
     "output_type": "stream",
     "text": [
      "50 분홍색 셔츠 어렵지? 않아요~ #폴로 #폴로셔츠 #셔츠코디 #핑크셔츠 #봄코디 #남친룩 https://youtu.be/agvT8GOB7GI 슬우디 폴로\n"
     ]
    },
    {
     "name": "stderr",
     "output_type": "stream",
     "text": [
      " 13%|█▎        | 52/413 [00:48<05:07,  1.17it/s]"
     ]
    },
    {
     "name": "stdout",
     "output_type": "stream",
     "text": [
      "51 패션MD가 말아주는 폴로 아플리케 트윌 볼캡리뷰 https://youtu.be/AGB4pB9AxLc aginghyun(에이징현) 폴로\n"
     ]
    },
    {
     "name": "stderr",
     "output_type": "stream",
     "text": [
      " 13%|█▎        | 53/413 [00:49<04:55,  1.22it/s]"
     ]
    },
    {
     "name": "stdout",
     "output_type": "stream",
     "text": [
      "52 꾸안꾸의 정석 로고 반팔티(메종키츠네,폴로랄프로렌) 코디 꿀팁 #shorts https://youtu.be/F76MgdLBnSA 데일리룸 dailyroom 폴로\n"
     ]
    },
    {
     "name": "stderr",
     "output_type": "stream",
     "text": [
      " 13%|█▎        | 54/413 [00:49<04:57,  1.21it/s]"
     ]
    },
    {
     "name": "stdout",
     "output_type": "stream",
     "text": [
      "53 올드 머니룩 니트템 #폴로 의 계절🗽🇺🇸 #폴로랄프로렌 #폴로코디 #폴로니트 #폴로가디건 #폴로빈티지 #니트코디 #가을코디 #polo #poloralphlauren https://youtu.be/de5hMGzAWt4 요고조 YOGOJO 폴로\n"
     ]
    },
    {
     "name": "stderr",
     "output_type": "stream",
     "text": [
      " 13%|█▎        | 55/413 [00:50<05:16,  1.13it/s]"
     ]
    },
    {
     "name": "stdout",
     "output_type": "stream",
     "text": [
      "54 여름 필수템🌊 폴로 린넨 셔츠 속성 리뷰! | 클래식 M사이즈 #직구 #쇼핑 #폴로 #패션 https://youtu.be/Ix_B71uvJaQ 해외직구는 뉴욕걸즈 폴로\n"
     ]
    },
    {
     "name": "stderr",
     "output_type": "stream",
     "text": [
      " 14%|█▎        | 56/413 [00:51<05:19,  1.12it/s]"
     ]
    },
    {
     "name": "stdout",
     "output_type": "stream",
     "text": [
      "55 [Vlog] 직장인 브이로그 | 출근룩 𝑂𝑂𝑇𝐷 • 폴로.가내스라.던스트.원로그 | 폴로 가디건 코디🧶 | 마리떼 비니 언박싱❄️| 행궁동 맛집•카페•소품샵 추천🧵 https://youtu.be/DWx7m80CVHI&pp 바이올렛 Violet 폴로\n"
     ]
    },
    {
     "name": "stderr",
     "output_type": "stream",
     "text": [
      " 14%|█▍        | 57/413 [00:53<06:12,  1.05s/it]"
     ]
    },
    {
     "name": "stdout",
     "output_type": "stream",
     "text": [
      "56 폴로 랄프로렌 찰떡같이 소화한 에스파 윈터! https://youtu.be/XXRVweao35U 도래Dorae 폴로\n"
     ]
    },
    {
     "name": "stderr",
     "output_type": "stream",
     "text": [
      " 14%|█▍        | 58/413 [00:54<06:16,  1.06s/it]"
     ]
    },
    {
     "name": "stdout",
     "output_type": "stream",
     "text": [
      "57 패션 덕후가 확신으로 만든 패션왕국 #폴로 #폴로랄프로렌 #패션 #랄프로렌 Source✨: ralph lauren https://youtu.be/7sqZ_X9Od9M 피커Picker 폴로\n"
     ]
    },
    {
     "name": "stderr",
     "output_type": "stream",
     "text": [
      " 14%|█▍        | 59/413 [00:55<06:04,  1.03s/it]"
     ]
    },
    {
     "name": "stdout",
     "output_type": "stream",
     "text": [
      "58 🇺🇸Polo Ralph Lauren 미국 폴로 랄프로렌 봄신상🌱진짜 고급지다🧥미국 쇼핑 브이로그 #shorts #polo #ralphlauren #폴로 #폴로랄프로렌 https://youtu.be/TjU8IK3q49o LetsgoJenny 렛츠고제니  폴로\n"
     ]
    },
    {
     "name": "stderr",
     "output_type": "stream",
     "text": [
      " 15%|█▍        | 60/413 [00:56<05:57,  1.01s/it]"
     ]
    },
    {
     "name": "stdout",
     "output_type": "stream",
     "text": [
      "59 요즘 유행템 폴로셔츠 스타일링 따라해요 #shorts https://youtu.be/H8mcFQ597Lg 성주언니패션뷰 폴로\n"
     ]
    },
    {
     "name": "stderr",
     "output_type": "stream",
     "text": [
      " 15%|█▍        | 61/413 [00:57<06:09,  1.05s/it]"
     ]
    },
    {
     "name": "stdout",
     "output_type": "stream",
     "text": [
      "60 폴로 스윙톱 자켓 봄맞이 산뜻코디👨🏾‍🌾 #데일리룩 #룩북 #봄코디 #폴로 #자켓 #남자코디 #dailylook #ootd #streetstyle https://youtu.be/ONod5ePcY8Q 파도위의 순도리 폴로\n"
     ]
    },
    {
     "name": "stderr",
     "output_type": "stream",
     "text": [
      " 15%|█▌        | 62/413 [00:58<06:05,  1.04s/it]"
     ]
    },
    {
     "name": "stdout",
     "output_type": "stream",
     "text": [
      "61 폭닥폭닥 겨울 쇼핑 하울🧶 폴로 가디건 셔츠 모자. 가성비 부츠👢봄웜 립(입생로랑 틴트). 클락스 왈라비.. 미국 블랙프라이데이 쇼핑리스트 https://youtu.be/2Dqxsp6v5R8&pp 리은제이 LeeeunJ 폴로\n"
     ]
    },
    {
     "name": "stderr",
     "output_type": "stream",
     "text": [
      " 15%|█▌        | 63/413 [00:59<05:55,  1.02s/it]"
     ]
    },
    {
     "name": "stdout",
     "output_type": "stream",
     "text": [
      "62 VLOG | 폴로,라코스테,타미 등 아울렛 쇼핑하고 텅장 된 브이로그 (착샷 하울, 아웃백 메뉴 추천, 아울렛 2군데 비교 후기) https://youtu.be/6klyH1P1G_k&pp 밀 today's mmill 폴로\n"
     ]
    },
    {
     "name": "stderr",
     "output_type": "stream",
     "text": [
      " 15%|█▌        | 64/413 [01:00<05:58,  1.03s/it]"
     ]
    },
    {
     "name": "stdout",
     "output_type": "stream",
     "text": [
      "63 👕발리 폴로는 짝퉁이야! #shorts https://youtu.be/afJrbZBxAxc 할로필름 HALO FILM 폴로\n"
     ]
    },
    {
     "name": "stderr",
     "output_type": "stream",
     "text": [
      " 16%|█▌        | 65/413 [01:01<05:52,  1.01s/it]"
     ]
    },
    {
     "name": "stdout",
     "output_type": "stream",
     "text": [
      "64 폴로남방 추천 판매순위 Top10 || 가격 평점 후기 비교 https://youtu.be/6A01QHVikX4&pp 쇼핑헬퍼 폴로\n"
     ]
    },
    {
     "name": "stderr",
     "output_type": "stream",
     "text": [
      " 16%|█▌        | 66/413 [01:03<07:25,  1.28s/it]"
     ]
    },
    {
     "name": "stdout",
     "output_type": "stream",
     "text": [
      "65 폴로는 라코스테지 #lacoste  #폴로 #고태용 https://youtu.be/3ON7k2O8BRk 고태용 폴로\n"
     ]
    },
    {
     "name": "stderr",
     "output_type": "stream",
     "text": [
      " 16%|█▌        | 67/413 [01:04<07:11,  1.25s/it]"
     ]
    },
    {
     "name": "stdout",
     "output_type": "stream",
     "text": [
      "66 미국 현지에서 직접 바잉해서 보내드리는 폴로랄프로렌❤️ 올리브맘마켓입니다 #폴로직구#폴로공구#폴로코디#폴로랄프로렌 https://youtu.be/9kOtFksEPl4 올리브맘마켓 폴로\n"
     ]
    },
    {
     "name": "stderr",
     "output_type": "stream",
     "text": [
      " 16%|█▋        | 68/413 [01:05<06:28,  1.13s/it]"
     ]
    },
    {
     "name": "stdout",
     "output_type": "stream",
     "text": [
      "67 폴로 히말 파카 & 알든 9901 코디 #폴로랄프로렌 #패션 #코디 #알든 #남자패션 https://youtu.be/4j1kip2NCPM 젠틀백 폴로\n"
     ]
    },
    {
     "name": "stderr",
     "output_type": "stream",
     "text": [
      " 17%|█▋        | 69/413 [01:06<06:12,  1.08s/it]"
     ]
    },
    {
     "name": "stdout",
     "output_type": "stream",
     "text": [
      "68 폴로에서 올드머니룩 입어보기 🤎 #폴로 #폴로랄프로렌 #올드머니룩 https://youtu.be/6NuSLHrV7KM 블랑쉬엘르 폴로\n"
     ]
    },
    {
     "name": "stderr",
     "output_type": "stream",
     "text": [
      " 17%|█▋        | 70/413 [01:07<05:56,  1.04s/it]"
     ]
    },
    {
     "name": "stdout",
     "output_type": "stream",
     "text": [
      "69 폴로 니트 #룩북 💖 https://youtu.be/lRnOVQ5o5Z0 행자씨 haengzassi 폴로\n"
     ]
    },
    {
     "name": "stderr",
     "output_type": "stream",
     "text": [
      " 17%|█▋        | 71/413 [01:08<05:49,  1.02s/it]"
     ]
    },
    {
     "name": "stdout",
     "output_type": "stream",
     "text": [
      "70 가을맞이 가디건 / 폴로 걸즈 가디건 M , L 사이즈 6가지 색상 입어보기 / 폴로랄프로렌 공홈 구매대행 https://youtu.be/-ykXmI-Fj8U&pp 선브레드 폴로\n"
     ]
    },
    {
     "name": "stderr",
     "output_type": "stream",
     "text": [
      " 17%|█▋        | 72/413 [01:09<05:38,  1.01it/s]"
     ]
    },
    {
     "name": "stdout",
     "output_type": "stream",
     "text": [
      "71 폴로볼캡 추천 판매순위 Top10 || 가격 평점 후기 비교 https://youtu.be/aCRismumI-Y&pp 슬기로운 쇼핑생활 폴로\n"
     ]
    },
    {
     "name": "stderr",
     "output_type": "stream",
     "text": [
      " 18%|█▊        | 73/413 [01:10<05:26,  1.04it/s]"
     ]
    },
    {
     "name": "stdout",
     "output_type": "stream",
     "text": [
      "72 룰루레몬 에볼루션 폴로 https://youtu.be/MCi5cFeQ71w&pp 행복한프로그래머 폴로\n"
     ]
    },
    {
     "name": "stderr",
     "output_type": "stream",
     "text": [
      " 18%|█▊        | 74/413 [01:10<05:13,  1.08it/s]"
     ]
    },
    {
     "name": "stdout",
     "output_type": "stream",
     "text": [
      "73 폴로셔츠 추천 판매순위 Top10 || 가격 평점 후기 비교 https://youtu.be/ZLoNLcBN9Yo&pp 코코티비 폴로\n"
     ]
    },
    {
     "name": "stderr",
     "output_type": "stream",
     "text": [
      " 18%|█▊        | 75/413 [01:11<05:11,  1.09it/s]"
     ]
    },
    {
     "name": "stdout",
     "output_type": "stream",
     "text": [
      "74 내가 폴로를 판매하게 된 이유는 OO 때문이다 https://youtu.be/RdjKXQDtL10 letmerainpolo 폴로\n"
     ]
    },
    {
     "name": "stderr",
     "output_type": "stream",
     "text": [
      " 18%|█▊        | 76/413 [01:12<04:58,  1.13it/s]"
     ]
    },
    {
     "name": "stdout",
     "output_type": "stream",
     "text": [
      "75 [어바웃 뉴욕] 블랙프라이데이 오픈런 실제로 가보니 / 미국 폴로와 한국 폴로 가격 비교 / 블랙프라이데이의 유래 / 연말 소비의 가늠자 블프 https://youtu.be/KZaYoL1UyZ8&pp 매경 월가월부 폴로\n"
     ]
    },
    {
     "name": "stderr",
     "output_type": "stream",
     "text": [
      " 19%|█▊        | 77/413 [01:13<04:49,  1.16it/s]"
     ]
    },
    {
     "name": "stdout",
     "output_type": "stream",
     "text": [
      "76 폴로니트 추천 판매순위 Top10 || 가격 평점 후기 비교 https://youtu.be/Cx1iD-KNJSU&pp 별이 빛나는 쇼핑 폴로\n"
     ]
    },
    {
     "name": "stderr",
     "output_type": "stream",
     "text": [
      " 19%|█▉        | 78/413 [01:14<04:39,  1.20it/s]"
     ]
    },
    {
     "name": "stdout",
     "output_type": "stream",
     "text": [
      "77 폴로반팔티셔츠 추천 판매순위 Top10 || 가격 평점 후기 비교 https://youtu.be/d7hGZ8ZSdig&pp 슬기로운 쇼핑생활 폴로\n"
     ]
    },
    {
     "name": "stderr",
     "output_type": "stream",
     "text": [
      " 19%|█▉        | 79/413 [01:15<04:37,  1.20it/s]"
     ]
    },
    {
     "name": "stdout",
     "output_type": "stream",
     "text": [
      "78 자라에 이어 폴로 키즈 입어보기! 폴로는 과연 어땠을까요?? #폴로랄프로렌 #폴로 #폴로키즈 #키즈 #여자코디 #오오티디 #코디 #dailylook #daily https://youtu.be/XxhpsfpQ-Ts 솔 Sol 폴로\n"
     ]
    },
    {
     "name": "stderr",
     "output_type": "stream",
     "text": [
      " 19%|█▉        | 80/413 [01:15<04:30,  1.23it/s]"
     ]
    },
    {
     "name": "stdout",
     "output_type": "stream",
     "text": [
      "79 폴로바람막이 추천 판매순위 Top10 || 가격 평점 후기 비교 https://youtu.be/5gLz5m_I_js&pp 하나쇼핑 폴로\n"
     ]
    },
    {
     "name": "stderr",
     "output_type": "stream",
     "text": [
      " 20%|█▉        | 81/413 [01:16<04:31,  1.22it/s]"
     ]
    },
    {
     "name": "stdout",
     "output_type": "stream",
     "text": [
      "80 폴로티셔츠 추천 판매순위 Top10 || 가격 평점 후기 비교 https://youtu.be/xYX16aPNgu8&pp 별이 빛나는 쇼핑 폴로\n"
     ]
    },
    {
     "name": "stderr",
     "output_type": "stream",
     "text": [
      " 20%|█▉        | 82/413 [01:17<04:27,  1.24it/s]"
     ]
    },
    {
     "name": "stdout",
     "output_type": "stream",
     "text": [
      "81 폴로 셔츠 이렇게 입어볼까요? 봄 패션 필수 아이템 #폴로 #봄코디 #폴로셔츠코디 https://youtu.be/7-giM_4lZVY FASHION365 폴로\n"
     ]
    },
    {
     "name": "stderr",
     "output_type": "stream",
     "text": [
      " 20%|██        | 83/413 [01:18<04:34,  1.20it/s]"
     ]
    },
    {
     "name": "stdout",
     "output_type": "stream",
     "text": [
      "82 아직도 폴로셔츠 입으세요? 지금 사면 5년 뒤에도 입을 수 있는  셔츠 브랜드 5가지 추천 https://youtu.be/wIBeLl9xINY&pp Gonzo Tv 폴로\n"
     ]
    },
    {
     "name": "stderr",
     "output_type": "stream",
     "text": [
      " 20%|██        | 84/413 [01:19<04:34,  1.20it/s]"
     ]
    },
    {
     "name": "stdout",
     "output_type": "stream",
     "text": [
      "83 폴로 랄프로렌이 좋을까? #남자코디 #폴로 #랄프로렌 #창모 #폴로스포츠 #polo https://youtu.be/ZBLaMDO1r_0 치만 폴로\n"
     ]
    },
    {
     "name": "stderr",
     "output_type": "stream",
     "text": [
      " 21%|██        | 85/413 [01:19<04:33,  1.20it/s]"
     ]
    },
    {
     "name": "stdout",
     "output_type": "stream",
     "text": [
      "84 폴로바람막이 추천 판매순위 Top10 || 가격 평점 후기 비교 https://youtu.be/iHQgr208-LY&pp 어바웃쇼핑 폴로\n"
     ]
    },
    {
     "name": "stderr",
     "output_type": "stream",
     "text": [
      " 21%|██        | 86/413 [01:21<05:17,  1.03it/s]"
     ]
    },
    {
     "name": "stdout",
     "output_type": "stream",
     "text": [
      "85 폴로니트 추천 판매순위 Top10 || 가격 평점 후기 비교 https://youtu.be/xoVRYbt1tOg&pp 어바웃쇼핑 폴로\n"
     ]
    },
    {
     "name": "stderr",
     "output_type": "stream",
     "text": [
      " 21%|██        | 87/413 [01:22<05:33,  1.02s/it]"
     ]
    },
    {
     "name": "stdout",
     "output_type": "stream",
     "text": [
      "86 체크 셔츠 코디 #폴로 #셔츠코디 #고태용 https://youtu.be/Pu6l3KXMvGs 고태용 폴로\n"
     ]
    },
    {
     "name": "stderr",
     "output_type": "stream",
     "text": [
      " 21%|██▏       | 88/413 [01:23<06:15,  1.16s/it]"
     ]
    },
    {
     "name": "stdout",
     "output_type": "stream",
     "text": [
      "87 도대체 이런 벨트 왜 차시는거에요 으 #노이어 #폴로 #후미토간류 #GR10K https://youtu.be/5PERGHLBdMg Ian 시누 폴로\n"
     ]
    },
    {
     "name": "stderr",
     "output_type": "stream",
     "text": [
      " 22%|██▏       | 89/413 [01:24<05:42,  1.06s/it]"
     ]
    },
    {
     "name": "stdout",
     "output_type": "stream",
     "text": [
      "88 [Vlog] 직장인 브이로그 | 출근룩 𝑂𝑂𝑇𝐷 • 폴로.가내스라.던스트.원로그 | 폴로 가디건 코디🧶 | 마리떼 비니 언박싱❄️| 행궁동 맛집•카페•소품샵 추천🧵 https://youtu.be/DWx7m80CVHI&pp 바이올렛 Violet 폴로\n"
     ]
    },
    {
     "name": "stderr",
     "output_type": "stream",
     "text": [
      " 22%|██▏       | 90/413 [01:25<05:14,  1.03it/s]"
     ]
    },
    {
     "name": "stdout",
     "output_type": "stream",
     "text": [
      "89 남자들은 이런 폴로 셔츠를 한 번 입지 않으면 여자들이 당신을 얼마나 좋아하는지 영원히 모릅니다! https://youtu.be/rdDMpWMvzdY&pp AAAAzzzzzzhh807 폴로\n"
     ]
    },
    {
     "name": "stderr",
     "output_type": "stream",
     "text": [
      " 22%|██▏       | 91/413 [01:26<04:58,  1.08it/s]"
     ]
    },
    {
     "name": "stdout",
     "output_type": "stream",
     "text": [
      "90 폭닥폭닥 겨울 쇼핑 하울🧶 폴로 가디건 셔츠 모자. 가성비 부츠👢봄웜 립(입생로랑 틴트). 클락스 왈라비.. 미국 블랙프라이데이 쇼핑리스트 https://youtu.be/2Dqxsp6v5R8&pp 리은제이 LeeeunJ 폴로\n"
     ]
    },
    {
     "name": "stderr",
     "output_type": "stream",
     "text": [
      " 22%|██▏       | 92/413 [01:27<04:45,  1.13it/s]"
     ]
    },
    {
     "name": "stdout",
     "output_type": "stream",
     "text": [
      "91 여름 데일리룩 5가지 #남자패션 #남자코디 #여름코디 #바지추천 #데일리 https://youtu.be/UWjAU7nwIJI 하오칸 폴로\n"
     ]
    },
    {
     "name": "stderr",
     "output_type": "stream",
     "text": [
      " 23%|██▎       | 93/413 [01:28<04:48,  1.11it/s]"
     ]
    },
    {
     "name": "stdout",
     "output_type": "stream",
     "text": [
      "92 폴로버킷햇 추천 판매순위 Top10 || 가격 평점 후기 비교 https://youtu.be/oLZu34Oj7gY&pp 슬기로운 쇼핑생활 폴로\n"
     ]
    },
    {
     "name": "stderr",
     "output_type": "stream",
     "text": [
      " 23%|██▎       | 94/413 [01:28<04:32,  1.17it/s]"
     ]
    },
    {
     "name": "stdout",
     "output_type": "stream",
     "text": [
      "93 미국 폴로 팩토리 득템🛍️- 한국정가 110➡️23 | 치노자켓, 피마코튼 , 개강룩도 추천, 라코스테, 대학생룩, 미국 브이로그, 일상, polo factory https://youtu.be/at-jjLtQ3JU&pp 선U 폴로\n"
     ]
    },
    {
     "name": "stderr",
     "output_type": "stream",
     "text": [
      " 23%|██▎       | 95/413 [01:29<04:22,  1.21it/s]"
     ]
    },
    {
     "name": "stdout",
     "output_type": "stream",
     "text": [
      "94 빈티지 구제 폴로랄프로렌 치노팬츠 https://youtu.be/Ug9fI4baJq4 스위치클로젯 폴로\n"
     ]
    },
    {
     "name": "stderr",
     "output_type": "stream",
     "text": [
      " 23%|██▎       | 96/413 [01:30<04:22,  1.21it/s]"
     ]
    },
    {
     "name": "stdout",
     "output_type": "stream",
     "text": [
      "95 폴로 카라티 하나로 일주일 코디하기🖤🤍 polo카라티 저렴하게 구매하는 팁은 설명란에! https://youtu.be/mv6Laf0OPd4 켜나 KYUNA 폴로\n"
     ]
    },
    {
     "name": "stderr",
     "output_type": "stream",
     "text": [
      " 23%|██▎       | 97/413 [01:31<04:05,  1.29it/s]"
     ]
    },
    {
     "name": "stdout",
     "output_type": "stream",
     "text": [
      "96 폴로구매꿀팁 #폴로반값꿀팁 #폴로 #사바나이모저모 https://youtu.be/PCP7oM2SVGE 사바나 이모저모 폴로\n"
     ]
    },
    {
     "name": "stderr",
     "output_type": "stream",
     "text": [
      " 24%|██▎       | 98/413 [01:31<03:50,  1.37it/s]"
     ]
    },
    {
     "name": "stdout",
     "output_type": "stream",
     "text": [
      "97 폴로셔츠는 기본아이템 꾸안꾸 패션코디 #중년패션코디 #패션 #여름패션 https://youtu.be/5WsrbG_ZeYU 중년패션코디 폴로\n"
     ]
    },
    {
     "name": "stderr",
     "output_type": "stream",
     "text": [
      " 24%|██▍       | 99/413 [01:32<03:38,  1.44it/s]"
     ]
    },
    {
     "name": "stdout",
     "output_type": "stream",
     "text": [
      "98 올해 핫한 폴로랄프로렌 가디건 코디💕올드머니 브랜드 https://youtu.be/YfXFKmrJoVg 데라세르나 de la Serna 폴로\n"
     ]
    },
    {
     "name": "stderr",
     "output_type": "stream",
     "text": [
      " 24%|██▍       | 100/413 [01:32<03:34,  1.46it/s]"
     ]
    },
    {
     "name": "stdout",
     "output_type": "stream",
     "text": [
      "99 폴로데님셔츠 추천 판매순위 Top10 || 가격 평점 후기 비교 https://youtu.be/SzPrTUGGVNU&pp 슬기로운 쇼핑생활 폴로\n"
     ]
    },
    {
     "name": "stderr",
     "output_type": "stream",
     "text": [
      " 24%|██▍       | 101/413 [01:33<03:44,  1.39it/s]"
     ]
    },
    {
     "name": "stdout",
     "output_type": "stream",
     "text": [
      "100 옷 잘입는 여성의 기본템 폴로 코디 모음 #데일리룩 #중년패션코디 #룩북 https://youtu.be/ksCasa5Z3ZI 패션클릭 폴로\n"
     ]
    },
    {
     "name": "stderr",
     "output_type": "stream",
     "text": [
      " 25%|██▍       | 102/413 [01:34<03:29,  1.49it/s]"
     ]
    },
    {
     "name": "stdout",
     "output_type": "stream",
     "text": [
      "101 빈티지 구제 폴로피케셔츠 https://youtu.be/GLjoFQD_Ems 스위치클로젯 폴로\n"
     ]
    },
    {
     "name": "stderr",
     "output_type": "stream",
     "text": [
      " 25%|██▍       | 103/413 [01:34<03:28,  1.48it/s]"
     ]
    },
    {
     "name": "stdout",
     "output_type": "stream",
     "text": [
      "102 폴로 피케 반팔 니트 스웨터 걸즈  :) #폴로 #폴로랄프로렌 #폴로걸즈 #폴로반팔 https://youtu.be/Yr0fcGTPjVU minute d mond 폴로\n"
     ]
    },
    {
     "name": "stderr",
     "output_type": "stream",
     "text": [
      " 25%|██▌       | 104/413 [01:35<03:28,  1.48it/s]"
     ]
    },
    {
     "name": "stdout",
     "output_type": "stream",
     "text": [
      "103 폴로가디건 추천 판매순위 Top10 || 가격 평점 후기 비교 https://youtu.be/M8JsZ5vPQaw&pp 쇼핑투어 폴로\n"
     ]
    },
    {
     "name": "stderr",
     "output_type": "stream",
     "text": [
      " 25%|██▌       | 105/413 [01:36<03:22,  1.52it/s]"
     ]
    },
    {
     "name": "stdout",
     "output_type": "stream",
     "text": [
      "104 크리스탈이 선택한 폴로 랄프로렌 코디, 완벽한 매치의 비밀! https://youtu.be/-NBQd_pg1rA 셀럽패션인포 폴로\n"
     ]
    },
    {
     "name": "stderr",
     "output_type": "stream",
     "text": [
      " 26%|██▌       | 106/413 [01:36<03:25,  1.50it/s]"
     ]
    },
    {
     "name": "stdout",
     "output_type": "stream",
     "text": [
      "105 폴로랄프로렌을 저렴하게 구매하는 방법 2탄🧡 꿀팁 대공개 https://youtu.be/xcyzgnM-Pxs 설명서 폴로\n"
     ]
    },
    {
     "name": "stderr",
     "output_type": "stream",
     "text": [
      " 26%|██▌       | 107/413 [01:37<03:14,  1.57it/s]"
     ]
    },
    {
     "name": "stdout",
     "output_type": "stream",
     "text": [
      "106 ★초특가★ 폴로 랄프로렌Polo Ralph Lauren 코튼 치노 볼캡 #shorts https://youtu.be/jnnPzaTgzhk 코미디티비 Comedy TV 폴로\n"
     ]
    },
    {
     "name": "stderr",
     "output_type": "stream",
     "text": [
      " 26%|██▌       | 108/413 [01:38<03:25,  1.48it/s]"
     ]
    },
    {
     "name": "stdout",
     "output_type": "stream",
     "text": [
      "107 요즘 핫한 상품 폴로모자정품 상품 순위 top5 추천 리뷰 https://youtu.be/esp4Oq5f4qo 마이템 폴로\n"
     ]
    },
    {
     "name": "stderr",
     "output_type": "stream",
     "text": [
      " 26%|██▋       | 109/413 [01:38<03:23,  1.49it/s]"
     ]
    },
    {
     "name": "stdout",
     "output_type": "stream",
     "text": [
      "108 폴로니트 추천 판매순위 Top10 || 가격 평점 후기 비교 https://youtu.be/cEctrf5H8TU&pp 무무튜브 폴로\n"
     ]
    },
    {
     "name": "stderr",
     "output_type": "stream",
     "text": [
      " 27%|██▋       | 110/413 [01:39<03:19,  1.52it/s]"
     ]
    },
    {
     "name": "stdout",
     "output_type": "stream",
     "text": [
      "109 49만 원의 행복? 가난한 자의 피아제 폴로. 칼레이먼 마제스티 메탈시계 블루 리뷰 https://youtu.be/FlqQt9cJktQ&pp 강철물고기 폴로\n"
     ]
    },
    {
     "name": "stderr",
     "output_type": "stream",
     "text": [
      " 27%|██▋       | 111/413 [01:40<03:34,  1.41it/s]"
     ]
    },
    {
     "name": "stdout",
     "output_type": "stream",
     "text": [
      "110 폴로 OOTD 데일리 아웃핏 :) #폴로 #폴로랄프로렌 #폴로코디 https://youtu.be/FsWEwNvAcek minute d mond 폴로\n"
     ]
    },
    {
     "name": "stderr",
     "output_type": "stream",
     "text": [
      " 27%|██▋       | 112/413 [01:40<03:17,  1.52it/s]"
     ]
    },
    {
     "name": "stdout",
     "output_type": "stream",
     "text": [
      "111 마크와 폴로 랄프 로렌이 완성한 귀여움의 앙상블ㅣ마크, NCT, 폴로랄프로렌, 에스콰이어, ESQUIRE KOREA https://youtu.be/bney8Cs4tkY&pp ESQUIRE Korea 폴로\n"
     ]
    },
    {
     "name": "stderr",
     "output_type": "stream",
     "text": [
      " 27%|██▋       | 113/413 [01:41<03:08,  1.59it/s]"
     ]
    },
    {
     "name": "stdout",
     "output_type": "stream",
     "text": [
      "112 🇹🇭 방콕 푸드트립 1일차 | 룽르엉 돼지국수 | 폴로 프라이드 치킨 | 조드 페어 https://youtu.be/wdT2NLc54Qs&pp 푸드인디고 Food Indigo 폴로\n"
     ]
    },
    {
     "name": "stderr",
     "output_type": "stream",
     "text": [
      " 28%|██▊       | 114/413 [01:42<03:12,  1.56it/s]"
     ]
    },
    {
     "name": "stdout",
     "output_type": "stream",
     "text": [
      "113 폴로 테리 카라 반팔티(사이즈: L) https://youtu.be/3Fp0Yt2k-Qw ELOID 폴로\n"
     ]
    },
    {
     "name": "stderr",
     "output_type": "stream",
     "text": [
      " 28%|██▊       | 115/413 [01:42<03:07,  1.59it/s]"
     ]
    },
    {
     "name": "stdout",
     "output_type": "stream",
     "text": [
      "114 폴로셔츠는 기본템 꾸안꾸 남방코디 #중년패션코디 #여름코디 https://youtu.be/ZBAFQhzCsGs 럭셔리코드 LUXURY CODE 폴로\n"
     ]
    },
    {
     "name": "stderr",
     "output_type": "stream",
     "text": [
      " 28%|██▊       | 116/413 [01:43<03:07,  1.58it/s]"
     ]
    },
    {
     "name": "stdout",
     "output_type": "stream",
     "text": [
      "115 올해 여름패션 끝! 폴로 린넨 셔츠 코디법 모아봄❤️‍🔥 #직구 #폴로 #패션 #shorts https://youtu.be/fEEKXqmeSig 해외직구는 뉴욕걸즈 폴로\n"
     ]
    },
    {
     "name": "stderr",
     "output_type": "stream",
     "text": [
      " 28%|██▊       | 117/413 [01:44<03:11,  1.55it/s]"
     ]
    },
    {
     "name": "stdout",
     "output_type": "stream",
     "text": [
      "116 뉴욕 여행 쇼핑 추천템🛍️ #뉴욕여행 #shorts #폴로 #미국여행 https://youtu.be/G8GLr4uQr_o 선U 폴로\n"
     ]
    },
    {
     "name": "stderr",
     "output_type": "stream",
     "text": [
      " 29%|██▊       | 118/413 [01:44<03:04,  1.59it/s]"
     ]
    },
    {
     "name": "stdout",
     "output_type": "stream",
     "text": [
      "117 폴로 코트 입어보았다 오늘 https://youtu.be/7EOiI5Ogv90 패션사관학교 폴로\n"
     ]
    },
    {
     "name": "stderr",
     "output_type": "stream",
     "text": [
      " 29%|██▉       | 119/413 [01:45<03:03,  1.60it/s]"
     ]
    },
    {
     "name": "stdout",
     "output_type": "stream",
     "text": [
      "118 남자 직장인 반팔 PK티셔츠 코디 (폴로셔츠) https://youtu.be/HKXwHkGsKAM 비캐루키 폴로\n"
     ]
    },
    {
     "name": "stderr",
     "output_type": "stream",
     "text": [
      " 29%|██▉       | 120/413 [01:45<03:04,  1.59it/s]"
     ]
    },
    {
     "name": "stdout",
     "output_type": "stream",
     "text": [
      "119 깔끔한 폴로스타일에 여성스러움 한스푼 추가😍 🏷️21,000 https://youtu.be/1sMEzfOSM_c 오쥬드 폴로\n"
     ]
    },
    {
     "name": "stderr",
     "output_type": "stream",
     "text": [
      " 29%|██▉       | 121/413 [01:46<02:56,  1.66it/s]"
     ]
    },
    {
     "name": "stdout",
     "output_type": "stream",
     "text": [
      "120 여름 꿀템! 폴로 린넨셔츠 반값보다 싸게 구하는 법! #직구 #폴로 #쇼핑 #패션 https://youtu.be/YNAwFTX8mVk 해외직구는 뉴욕걸즈 폴로\n"
     ]
    },
    {
     "name": "stderr",
     "output_type": "stream",
     "text": [
      " 30%|██▉       | 122/413 [01:47<03:01,  1.61it/s]"
     ]
    },
    {
     "name": "stdout",
     "output_type": "stream",
     "text": [
      "121 RALPH LAUREN | Polo Ralph Lauren | Polo Originals https://youtu.be/bjSDuKo3ax8&pp Ralph Lauren 폴로\n"
     ]
    },
    {
     "name": "stderr",
     "output_type": "stream",
     "text": [
      " 30%|██▉       | 123/413 [01:47<02:55,  1.65it/s]"
     ]
    },
    {
     "name": "stdout",
     "output_type": "stream",
     "text": [
      "122 폴로니트반팔 추천 판매순위 Top10 || 가격 평점 후기 비교 https://youtu.be/WhgZFYZY800&pp 쇼핑투어 폴로\n"
     ]
    },
    {
     "name": "stderr",
     "output_type": "stream",
     "text": [
      " 30%|███       | 124/413 [01:48<02:58,  1.62it/s]"
     ]
    },
    {
     "name": "stdout",
     "output_type": "stream",
     "text": [
      "123 폴로 랄프 로렌 수트를 입고 카메라 앞에 선 T1 (Polo Ralph Lauren 페이커 FAKER 제우스 ZEUS 오너 ONER 구마유시 GUMAYUSI 케리아 KERIA) https://youtu.be/ednJ6Tg7LuM&pp GQ KOREA 폴로\n"
     ]
    },
    {
     "name": "stderr",
     "output_type": "stream",
     "text": [
      " 30%|███       | 125/413 [01:48<02:52,  1.67it/s]"
     ]
    },
    {
     "name": "stdout",
     "output_type": "stream",
     "text": [
      "124 폴로랄프로렌카라티 추천 판매순위 Top10 || 가격 평점 후기 비교 https://youtu.be/Va1_8DYeUhQ&pp 코코티비 폴로\n"
     ]
    },
    {
     "name": "stderr",
     "output_type": "stream",
     "text": [
      " 31%|███       | 126/413 [01:49<02:51,  1.67it/s]"
     ]
    },
    {
     "name": "stdout",
     "output_type": "stream",
     "text": [
      "125 폴로린넨셔츠남성 추천 판매순위 Top10 || 가격 평점 후기 비교 https://youtu.be/VbTyCRIv6-s&pp 하나쇼핑 폴로\n"
     ]
    },
    {
     "name": "stderr",
     "output_type": "stream",
     "text": [
      " 31%|███       | 127/413 [01:50<02:48,  1.69it/s]"
     ]
    },
    {
     "name": "stdout",
     "output_type": "stream",
     "text": [
      "126 폴로 신상은 왜 항상 예쁜거야?🩷 https://youtu.be/rnJDVNq2Zy8 쇼핑스, 해외라이브 쇼핑 플랫폼 폴로\n"
     ]
    },
    {
     "name": "stderr",
     "output_type": "stream",
     "text": [
      " 31%|███       | 128/413 [01:50<03:06,  1.53it/s]"
     ]
    },
    {
     "name": "stdout",
     "output_type": "stream",
     "text": [
      "127 2024 폭스바겐 폴로 - 외부 및 내부 세부 정보 https://youtu.be/DPcJP-6NME4&pp CARS ARENA 폴로\n"
     ]
    },
    {
     "name": "stderr",
     "output_type": "stream",
     "text": [
      " 31%|███       | 129/413 [01:51<02:57,  1.60it/s]"
     ]
    },
    {
     "name": "stdout",
     "output_type": "stream",
     "text": [
      "128 가을 데일리 룩북 PART 1 #폴로 #가디건 #올드머니룩 #shortvideo #니트추천 #간절기룩 https://youtu.be/VWAqSA9IibI 폴인몬스터스 폴로\n"
     ]
    },
    {
     "name": "stderr",
     "output_type": "stream",
     "text": [
      " 31%|███▏      | 130/413 [01:52<03:02,  1.55it/s]"
     ]
    },
    {
     "name": "stdout",
     "output_type": "stream",
     "text": [
      "129 #폴로랄프로렌 으로남자 톤온톤 코디 센스있게 하는 법👉 https://youtu.be/y4rSan1j7uM 4910 - 남성 패션부터 라이프스타일까지 폴로\n"
     ]
    },
    {
     "name": "stderr",
     "output_type": "stream",
     "text": [
      " 32%|███▏      | 131/413 [01:52<02:53,  1.62it/s]"
     ]
    },
    {
     "name": "stdout",
     "output_type": "stream",
     "text": [
      "130 폴로니트입꾸 여성스런 데이투룩 https://youtu.be/Xn2ozv1NLyY Eungelll 폴로\n"
     ]
    },
    {
     "name": "stderr",
     "output_type": "stream",
     "text": [
      " 32%|███▏      | 132/413 [01:53<03:06,  1.51it/s]"
     ]
    },
    {
     "name": "stdout",
     "output_type": "stream",
     "text": [
      "131 폴로티셔츠 추천 판매순위 Top10 || 가격 평점 후기 비교 https://youtu.be/AAbiSHsTB-0&pp 쇼핑헬퍼 폴로\n"
     ]
    },
    {
     "name": "stderr",
     "output_type": "stream",
     "text": [
      " 32%|███▏      | 133/413 [01:54<03:13,  1.45it/s]"
     ]
    },
    {
     "name": "stdout",
     "output_type": "stream",
     "text": [
      "132 폴로린넨셔츠 추천 판매순위 Top10 || 가격 평점 후기 비교 https://youtu.be/UAu83zsxmiA&pp 별이 빛나는 쇼핑 폴로\n"
     ]
    },
    {
     "name": "stderr",
     "output_type": "stream",
     "text": [
      " 32%|███▏      | 134/413 [01:54<03:05,  1.50it/s]"
     ]
    },
    {
     "name": "stdout",
     "output_type": "stream",
     "text": [
      "133 5시간동안 여주 프리미엄 아울렛 명절 쇼핑🛍️/ 남자친구 생일 선물 사냥 탕야 탕야~🔫/ 폴로 셔츠 사이즈 추천/ 보테가베네타 카드 케이스/ 타미 가디건 https://youtu.be/F2HNaZkU7eY&pp SummerIm 폴로\n"
     ]
    },
    {
     "name": "stderr",
     "output_type": "stream",
     "text": [
      " 33%|███▎      | 135/413 [01:55<03:01,  1.53it/s]"
     ]
    },
    {
     "name": "stdout",
     "output_type": "stream",
     "text": [
      "134 폴로vs타미 맨투맨 #이벤트 #맨카이브tv #맨카이브 #스타일가이 #식스타일 #맨투맨 #스웨트셔츠 https://youtu.be/lO-v4ZIOer0 맨카이브 TV 폴로\n"
     ]
    },
    {
     "name": "stderr",
     "output_type": "stream",
     "text": [
      " 33%|███▎      | 136/413 [01:56<02:57,  1.56it/s]"
     ]
    },
    {
     "name": "stdout",
     "output_type": "stream",
     "text": [
      "135 폴로모자 추천 판매순위 Top10 || 가격 평점 후기 비교 https://youtu.be/s5lryaHSDH8&pp 슬기로운 쇼핑생활 폴로\n"
     ]
    },
    {
     "name": "stderr",
     "output_type": "stream",
     "text": [
      " 33%|███▎      | 137/413 [01:56<02:56,  1.56it/s]"
     ]
    },
    {
     "name": "stdout",
     "output_type": "stream",
     "text": [
      "136 폴로카라티 추천 판매순위 Top10 || 가격 평점 후기 비교 https://youtu.be/dubVpM9z9gA&pp 코코티비 폴로\n"
     ]
    },
    {
     "name": "stderr",
     "output_type": "stream",
     "text": [
      " 33%|███▎      | 138/413 [01:57<02:57,  1.55it/s]"
     ]
    },
    {
     "name": "stdout",
     "output_type": "stream",
     "text": [
      "137 랄프로렌 폴로 미국 공홈 세일 언박싱😃🛍 https://youtu.be/jz8Ts08O2lc&pp 허니스킨 폴로\n"
     ]
    },
    {
     "name": "stderr",
     "output_type": "stream",
     "text": [
      " 34%|███▎      | 139/413 [01:58<03:00,  1.52it/s]"
     ]
    },
    {
     "name": "stdout",
     "output_type": "stream",
     "text": [
      "138 정품 폴로를 이가격에...? #폴로공구 #폴로 #남친룩추천 #남친룩 #남친룩코디 https://youtu.be/Kd7NNBbJYEw 에더트의 옷장쑈 폴로\n"
     ]
    },
    {
     "name": "stderr",
     "output_type": "stream",
     "text": [
      " 34%|███▍      | 140/413 [01:58<03:01,  1.50it/s]"
     ]
    },
    {
     "name": "stdout",
     "output_type": "stream",
     "text": [
      "139 4/5 빈티지샵 otjip 신상 업로드 완료 :) #shorts #폴로럭비티 #빈티지폴로 #폴로룩 https://youtu.be/Un2VosG7AaI 옷;집 폴로\n"
     ]
    },
    {
     "name": "stderr",
     "output_type": "stream",
     "text": [
      " 34%|███▍      | 141/413 [01:59<03:00,  1.51it/s]"
     ]
    },
    {
     "name": "stdout",
     "output_type": "stream",
     "text": [
      "140 폴로스트라이프셔츠 추천 판매순위 Top10 || 가격 평점 후기 비교 https://youtu.be/nIW5v0hae0I&pp 하나쇼핑 폴로\n"
     ]
    },
    {
     "name": "stderr",
     "output_type": "stream",
     "text": [
      " 34%|███▍      | 142/413 [02:00<03:00,  1.50it/s]"
     ]
    },
    {
     "name": "stdout",
     "output_type": "stream",
     "text": [
      "141 가을룩 폴로 셔츠 일주일 돌려입기 https://youtu.be/jgWCdVRLMeU 수룩 soolook 폴로\n"
     ]
    },
    {
     "name": "stderr",
     "output_type": "stream",
     "text": [
      " 35%|███▍      | 143/413 [02:00<02:55,  1.54it/s]"
     ]
    },
    {
     "name": "stdout",
     "output_type": "stream",
     "text": [
      "142 폴로 반팔 신상 컬러 리뷰 핑크 공쥬들 모여라💕#shortreview #리뷰어답터 https://youtu.be/_xJqy3FhVyE 크로켓 - 전세계 커넥팅 쇼핑 폴로\n"
     ]
    },
    {
     "name": "stderr",
     "output_type": "stream",
     "text": [
      " 35%|███▍      | 144/413 [02:01<02:57,  1.51it/s]"
     ]
    },
    {
     "name": "stdout",
     "output_type": "stream",
     "text": [
      "143 폴로반바지 추천 판매순위 Top10 || 가격 평점 후기 비교 https://youtu.be/qdEqBaxkfRA&pp 별이 빛나는 쇼핑 폴로\n"
     ]
    },
    {
     "name": "stderr",
     "output_type": "stream",
     "text": [
      " 35%|███▌      | 145/413 [02:01<02:53,  1.55it/s]"
     ]
    },
    {
     "name": "stdout",
     "output_type": "stream",
     "text": [
      "144 폴로니트 추천 판매순위 Top10 || 가격 평점 후기 비교 https://youtu.be/QkkyQGnuhCY&pp 하나쇼핑 폴로\n"
     ]
    },
    {
     "name": "stderr",
     "output_type": "stream",
     "text": [
      " 35%|███▌      | 146/413 [02:02<02:53,  1.54it/s]"
     ]
    },
    {
     "name": "stdout",
     "output_type": "stream",
     "text": [
      "145 폴로랄프로렌가디건 추천 판매순위 Top10 || 가격 평점 후기 비교 https://youtu.be/0AqvmNsiNXc&pp 무무튜브 폴로\n"
     ]
    },
    {
     "name": "stderr",
     "output_type": "stream",
     "text": [
      " 36%|███▌      | 147/413 [02:03<02:59,  1.48it/s]"
     ]
    },
    {
     "name": "stdout",
     "output_type": "stream",
     "text": [
      "146 귀여운 쿼카가 가져온 가성비 갑인 폴로 추천 BEST 5 !! https://youtu.be/1yE_rtfwwCA 이쿼보고카 폴로\n"
     ]
    },
    {
     "name": "stderr",
     "output_type": "stream",
     "text": [
      " 36%|███▌      | 148/413 [02:03<02:50,  1.55it/s]"
     ]
    },
    {
     "name": "stdout",
     "output_type": "stream",
     "text": [
      "147 폴로 하프집업 스웻셔츠:) #폴로  #폴로랄프로렌 #폴로스웻셔츠 https://youtu.be/M3ghOTYtyNE minute d mond 폴로\n"
     ]
    },
    {
     "name": "stderr",
     "output_type": "stream",
     "text": [
      " 36%|███▌      | 149/413 [02:04<02:52,  1.53it/s]"
     ]
    },
    {
     "name": "stdout",
     "output_type": "stream",
     "text": [
      "148 명품브랜드 폴로 랄프로렌홈 베딩커버 일본에서 사오기🎀일본에서 이불을 굳이 사오는 이유는?? https://youtu.be/kujCxLexMBM&pp 제니제리는 우리팀🤪jenny_jerry 폴로\n"
     ]
    },
    {
     "name": "stderr",
     "output_type": "stream",
     "text": [
      " 36%|███▋      | 150/413 [02:05<02:53,  1.51it/s]"
     ]
    },
    {
     "name": "stdout",
     "output_type": "stream",
     "text": [
      "149 🛍️POLO 폴로 아울렛에서 사야되는 이유!😳 최대67%할인????? https://youtu.be/5wJIaaNYm6M 현지시점 hyunji 폴로\n"
     ]
    },
    {
     "name": "stderr",
     "output_type": "stream",
     "text": [
      " 37%|███▋      | 151/413 [02:06<03:13,  1.35it/s]"
     ]
    },
    {
     "name": "stdout",
     "output_type": "stream",
     "text": [
      "150 #틱톡 #나나또또 #폴로 #나이키 #라코스테 #파타고니아 #스투시 #브랜드 #의류 #라이브방송 https://youtu.be/8olAf3fiYBQ 나나또또[nana_ddoddo] 폴로\n"
     ]
    },
    {
     "name": "stderr",
     "output_type": "stream",
     "text": [
      " 37%|███▋      | 152/413 [02:07<03:19,  1.31it/s]"
     ]
    },
    {
     "name": "stdout",
     "output_type": "stream",
     "text": [
      "151 폴로랄프로렌 소라색 반팔 피케이 티셔츠 / 제품 상세정보 및 구매는 댓글에 링크 남겨두었습니다 🙇🏻‍♂️ https://youtu.be/AGYDL8pd_TI 옷;집 폴로\n"
     ]
    },
    {
     "name": "stderr",
     "output_type": "stream",
     "text": [
      " 37%|███▋      | 153/413 [02:07<03:24,  1.27it/s]"
     ]
    },
    {
     "name": "stdout",
     "output_type": "stream",
     "text": [
      "152 진짜 개쩌는 치노팬츠 추천 ! 폴로 랄프로렌 치노팬츠 아닙니다. https://youtu.be/yxV2Z6KwqVI&pp 탈패션 FASHION 폴로\n"
     ]
    },
    {
     "name": "stderr",
     "output_type": "stream",
     "text": [
      " 37%|███▋      | 154/413 [02:08<03:26,  1.26it/s]"
     ]
    },
    {
     "name": "stdout",
     "output_type": "stream",
     "text": [
      "153 폴로셔츠 싸게 사는 법 https://youtu.be/1V-sn6Zei74 직장인 풍대리 폴로\n"
     ]
    },
    {
     "name": "stderr",
     "output_type": "stream",
     "text": [
      " 38%|███▊      | 155/413 [02:09<03:24,  1.26it/s]"
     ]
    },
    {
     "name": "stdout",
     "output_type": "stream",
     "text": [
      "154 또 나온 스테로이드 레전드 케이스?(CG 아님) https://youtu.be/GaUBDdjD6hQ JASON MEDIA 폴로\n"
     ]
    },
    {
     "name": "stderr",
     "output_type": "stream",
     "text": [
      " 38%|███▊      | 156/413 [02:10<03:15,  1.32it/s]"
     ]
    },
    {
     "name": "stdout",
     "output_type": "stream",
     "text": [
      "155 여름 신상 트렌드 자수 카라 폴로 티셔츠 반팔 https://youtu.be/zbySqGz5KDQ mshi wu 폴로\n"
     ]
    },
    {
     "name": "stderr",
     "output_type": "stream",
     "text": [
      " 38%|███▊      | 157/413 [02:10<03:06,  1.37it/s]"
     ]
    },
    {
     "name": "stdout",
     "output_type": "stream",
     "text": [
      "156 #폴로코디 #폴로공구중 28~3/1 무료이벤트도 진행중이니 인스타 타고 놀러오세요 🩷 #폴로니트 #폴로가디건 #폴로랄프로렌 #폴로라운드니트#봄코디#봄신상 https://youtu.be/_lTUL24v__g hyeji 혜지  폴로\n"
     ]
    },
    {
     "name": "stderr",
     "output_type": "stream",
     "text": [
      " 38%|███▊      | 158/413 [02:11<02:57,  1.43it/s]"
     ]
    },
    {
     "name": "stdout",
     "output_type": "stream",
     "text": [
      "157 💗에스파(AESPA) - 윈터 인스타 사복 패션정보 💗 #aespa #polo #폴로랄프로렌 #에스파 #에스파윈터 #윈터 #패션 #패션트렌드 #fashion https://youtu.be/OV85R1DvvNM stylefashion_report 폴로\n"
     ]
    },
    {
     "name": "stderr",
     "output_type": "stream",
     "text": [
      " 38%|███▊      | 159/413 [02:12<02:57,  1.43it/s]"
     ]
    },
    {
     "name": "stdout",
     "output_type": "stream",
     "text": [
      "158 뉴욕 우드버리 아울렛 한국보다 최소 절반 저렴한것들 (디올목걸이, 폴로, 캘빈클라인, 나이키) https://youtu.be/QPfl2pps_40&pp 길봉봉 bongbong 폴로\n"
     ]
    },
    {
     "name": "stderr",
     "output_type": "stream",
     "text": [
      " 39%|███▊      | 160/413 [02:12<03:02,  1.39it/s]"
     ]
    },
    {
     "name": "stdout",
     "output_type": "stream",
     "text": [
      "159 폴로 랄프로렌보다 근본에 싸고 좋습니다. 명품 치노팬츠 추천 제발 혼자보세요. https://youtu.be/tfJjb12oLcY&pp 탈패션 FASHION 폴로\n"
     ]
    },
    {
     "name": "stderr",
     "output_type": "stream",
     "text": [
      " 39%|███▉      | 161/413 [02:13<03:01,  1.38it/s]"
     ]
    },
    {
     "name": "stdout",
     "output_type": "stream",
     "text": [
      "160 폴로 랄프로렌을 수집한다면? https://youtu.be/AOGoEiVcJT0 수박 겉핥기 폴로\n"
     ]
    },
    {
     "name": "stderr",
     "output_type": "stream",
     "text": [
      " 39%|███▉      | 162/413 [02:14<03:02,  1.37it/s]"
     ]
    },
    {
     "name": "stdout",
     "output_type": "stream",
     "text": [
      "161 [천안명품편집샵 부오노] 스톤아일랜드 로고패치 폴로 반팔티셔츠 옐로우 남성 폴로 https://youtu.be/X1QHrLPwZMQ 천안명품편집샵 부오노 폴로\n"
     ]
    },
    {
     "name": "stderr",
     "output_type": "stream",
     "text": [
      " 39%|███▉      | 163/413 [02:15<03:03,  1.36it/s]"
     ]
    },
    {
     "name": "stdout",
     "output_type": "stream",
     "text": [
      "162 폴로가 올드머니 브랜드라고?! https://youtu.be/Bf7hOgyS_z4&pp 쩡대 폴로\n"
     ]
    },
    {
     "name": "stderr",
     "output_type": "stream",
     "text": [
      " 40%|███▉      | 164/413 [02:15<03:03,  1.36it/s]"
     ]
    },
    {
     "name": "stdout",
     "output_type": "stream",
     "text": [
      "163 여름 남자 일본계 자수 슬림 폴로 반팔 https://youtu.be/QeFRBeTVYJw mshi wu 폴로\n"
     ]
    },
    {
     "name": "stderr",
     "output_type": "stream",
     "text": [
      " 40%|███▉      | 165/413 [02:16<02:55,  1.41it/s]"
     ]
    },
    {
     "name": "stdout",
     "output_type": "stream",
     "text": [
      "164 폴로버킷햇 추천 판매순위 Top10 || 가격 평점 후기 비교 https://youtu.be/CJkxNF_N5kk&pp 쇼핑헬퍼 폴로\n"
     ]
    },
    {
     "name": "stderr",
     "output_type": "stream",
     "text": [
      " 40%|████      | 166/413 [02:17<02:51,  1.44it/s]"
     ]
    },
    {
     "name": "stdout",
     "output_type": "stream",
     "text": [
      "165 폴로 스트라이프 와플 롱슬리브 니트:) #폴로 #폴로랄프로렌 #폴로니트 https://youtu.be/E60Tq4Sl35I minute d mond 폴로\n"
     ]
    },
    {
     "name": "stderr",
     "output_type": "stream",
     "text": [
      " 40%|████      | 167/413 [02:17<02:48,  1.46it/s]"
     ]
    },
    {
     "name": "stdout",
     "output_type": "stream",
     "text": [
      "166 뭐든 잘 어울리는 폴로셔츠~~~코디하기 쉽죠 #폴로 #반팔 #여름 #인스타그램 #데일리룩 #골프웨어 #잇템 #잇츠홈 https://youtu.be/bOaOTo8qetQ 잇츠홈 폴로\n"
     ]
    },
    {
     "name": "stderr",
     "output_type": "stream",
     "text": [
      " 41%|████      | 168/413 [02:18<02:50,  1.43it/s]"
     ]
    },
    {
     "name": "stdout",
     "output_type": "stream",
     "text": [
      "167 폴로스트라이프셔츠 추천 판매순위 Top10 || 가격 평점 후기 비교 https://youtu.be/eHpk4kMhpDk&pp 별이 빛나는 쇼핑 폴로\n"
     ]
    },
    {
     "name": "stderr",
     "output_type": "stream",
     "text": [
      " 41%|████      | 169/413 [02:19<02:43,  1.49it/s]"
     ]
    },
    {
     "name": "stdout",
     "output_type": "stream",
     "text": [
      "168 폭스바겐 폴로 Volkswagen Polo 인제스피디움 [트랙주행] 이민재 https://youtu.be/Izlr37KVDqk&pp 고갯마루 Summit Corsa Gruppo 폴로\n"
     ]
    },
    {
     "name": "stderr",
     "output_type": "stream",
     "text": [
      " 41%|████      | 170/413 [02:19<02:42,  1.50it/s]"
     ]
    },
    {
     "name": "stdout",
     "output_type": "stream",
     "text": [
      "169 \"라코스테 폴로셔츠\" 100년이 지난 스포츠웨어는 우아한 일상복이 된다  | TLND EP.03 https://youtu.be/kUR3y34f2Ik&pp 풋티지브라더스 폴로\n"
     ]
    },
    {
     "name": "stderr",
     "output_type": "stream",
     "text": [
      " 41%|████▏     | 171/413 [02:20<02:46,  1.45it/s]"
     ]
    },
    {
     "name": "stdout",
     "output_type": "stream",
     "text": [
      "170 폴로랄프로렌반팔 추천 판매순위 Top10 || 가격 평점 후기 비교 https://youtu.be/MvgYCKpzGIY&pp 별이 빛나는 쇼핑 폴로\n"
     ]
    },
    {
     "name": "stderr",
     "output_type": "stream",
     "text": [
      " 42%|████▏     | 172/413 [02:21<02:49,  1.42it/s]"
     ]
    },
    {
     "name": "stdout",
     "output_type": "stream",
     "text": [
      "171 설 연휴 마카오 여행 브이로그ㅣ마카오 쇼핑 리스트ㅣ마카오 폴로공장ㅣ폴로랄프로렌 브룩스브라더스 쇼핑추천 https://youtu.be/ridtVUIq20c&pp healthy 핼씨 폴로\n"
     ]
    },
    {
     "name": "stderr",
     "output_type": "stream",
     "text": [
      " 42%|████▏     | 173/413 [02:22<02:58,  1.35it/s]"
     ]
    },
    {
     "name": "stdout",
     "output_type": "stream",
     "text": [
      "172 [천안명품편집샵 부오노] 스톤아일랜드 가슴로고패치 폴로 티셔츠 네이비 남성 티셔츠 https://youtu.be/8ogqaGC-vTI 천안명품편집샵 부오노 폴로\n"
     ]
    },
    {
     "name": "stderr",
     "output_type": "stream",
     "text": [
      " 42%|████▏     | 174/413 [02:22<03:03,  1.30it/s]"
     ]
    },
    {
     "name": "stdout",
     "output_type": "stream",
     "text": [
      "173 #폴로 #니트코디 폴로 니트를 활용한 #일주일데일리룩 🐴 https://youtu.be/qe-v7Xr0ayY 유자츄 yujachu 🐣 폴로\n"
     ]
    },
    {
     "name": "stderr",
     "output_type": "stream",
     "text": [
      " 42%|████▏     | 175/413 [02:23<03:06,  1.28it/s]"
     ]
    },
    {
     "name": "stdout",
     "output_type": "stream",
     "text": [
      "174 폴로셔츠는 기본아이템 꾸안꾸 패션코디 #중년패션코디 #패션 #여름패션#shorts https://youtu.be/oVT1INuPnnA fashion life 폴로\n"
     ]
    },
    {
     "name": "stderr",
     "output_type": "stream",
     "text": [
      " 43%|████▎     | 176/413 [02:24<03:04,  1.29it/s]"
     ]
    },
    {
     "name": "stdout",
     "output_type": "stream",
     "text": [
      "175 온스타 WMM22253W2 ⛳️ ONEX_코어 폴로 티셔츠로 스타일과 퍼포먼스를 동시에! https://youtu.be/E0aSwQ3zwTk 온스타 폴로\n"
     ]
    },
    {
     "name": "stderr",
     "output_type": "stream",
     "text": [
      " 43%|████▎     | 177/413 [02:25<03:18,  1.19it/s]"
     ]
    },
    {
     "name": "stdout",
     "output_type": "stream",
     "text": [
      "176 폴로카라티 추천 판매순위 Top10 || 가격 평점 후기 비교 https://youtu.be/GyvBzkXoVrU&pp 별이 빛나는 쇼핑 폴로\n"
     ]
    },
    {
     "name": "stderr",
     "output_type": "stream",
     "text": [
      " 43%|████▎     | 178/413 [02:26<03:26,  1.14it/s]"
     ]
    },
    {
     "name": "stdout",
     "output_type": "stream",
     "text": [
      "177 폴로반팔니트 추천 판매순위 Top10 || 가격 평점 후기 비교 https://youtu.be/Wp908WFrZiw&pp 무무튜브 폴로\n"
     ]
    },
    {
     "name": "stderr",
     "output_type": "stream",
     "text": [
      " 43%|████▎     | 179/413 [02:27<03:16,  1.19it/s]"
     ]
    },
    {
     "name": "stdout",
     "output_type": "stream",
     "text": [
      "178 폴로 인터락 터틀넥 :) #폴로#폴로랄프로렌 #폴로터틀넥 https://youtu.be/B-11fI-nR_Y minute d mond 폴로\n"
     ]
    },
    {
     "name": "stderr",
     "output_type": "stream",
     "text": [
      " 44%|████▎     | 180/413 [02:28<03:19,  1.17it/s]"
     ]
    },
    {
     "name": "stdout",
     "output_type": "stream",
     "text": [
      "179 아디다스 파이어버드 져지#아디다스#파이어버드#져지트랙탑 #나이키#폴로 #타미#바시티#올드스쿨#본빈티지 https://youtu.be/38C7xiFaXC0 life is dynamite라이프파티 폴로\n"
     ]
    },
    {
     "name": "stderr",
     "output_type": "stream",
     "text": [
      " 44%|████▍     | 181/413 [02:29<03:27,  1.12it/s]"
     ]
    },
    {
     "name": "stdout",
     "output_type": "stream",
     "text": [
      "180 아디다스 파이어버드 져지#아디다스#파이어버드#져지트랙탑 #나이키#폴로 #타미#바시티#올드스쿨#본빈티지 https://youtu.be/VrOj-ZcrmaA life is dynamite라이프파티 폴로\n"
     ]
    },
    {
     "name": "stderr",
     "output_type": "stream",
     "text": [
      " 44%|████▍     | 182/413 [02:29<03:24,  1.13it/s]"
     ]
    },
    {
     "name": "stdout",
     "output_type": "stream",
     "text": [
      "181 윈터의 폴로 랄프로렌 봄패션 #에스파윈터 #폴로랄프로렌 https://youtu.be/LBbbITTUUAU 플레이아웃핏 폴로\n"
     ]
    },
    {
     "name": "stderr",
     "output_type": "stream",
     "text": [
      " 44%|████▍     | 183/413 [02:30<03:18,  1.16it/s]"
     ]
    },
    {
     "name": "stdout",
     "output_type": "stream",
     "text": [
      "182 폴로후드집업 추천 판매순위 Top10 || 가격 평점 후기 비교 https://youtu.be/O67mYNk1-GQ&pp 무무튜브 폴로\n"
     ]
    },
    {
     "name": "stderr",
     "output_type": "stream",
     "text": [
      " 45%|████▍     | 184/413 [02:31<03:09,  1.21it/s]"
     ]
    },
    {
     "name": "stdout",
     "output_type": "stream",
     "text": [
      "183 2탄!! 가을맞이 니트, 가디건 / 폴로 우먼, 걸즈, 보이즈 입어보기 / 폴로랄프로렌 공홈 구매대행 https://youtu.be/I0Vz52mTfLM&pp 선브레드 폴로\n"
     ]
    },
    {
     "name": "stderr",
     "output_type": "stream",
     "text": [
      " 45%|████▍     | 185/413 [02:32<02:59,  1.27it/s]"
     ]
    },
    {
     "name": "stdout",
     "output_type": "stream",
     "text": [
      "184 30만원짜리 후리스 #패션유튜버 #남자패션 #아메카지 #폴로 #그랜파코어 https://youtu.be/bznotub6-RE 말바지 폴로\n"
     ]
    },
    {
     "name": "stderr",
     "output_type": "stream",
     "text": [
      " 45%|████▌     | 186/413 [02:33<03:01,  1.25it/s]"
     ]
    },
    {
     "name": "stdout",
     "output_type": "stream",
     "text": [
      "185 폴로스트라이프셔츠 추천 판매순위 Top10 || 가격 평점 후기 비교 https://youtu.be/ikZy-5ts0-c&pp 어바웃쇼핑 폴로\n"
     ]
    },
    {
     "name": "stderr",
     "output_type": "stream",
     "text": [
      " 45%|████▌     | 187/413 [02:33<02:59,  1.26it/s]"
     ]
    },
    {
     "name": "stdout",
     "output_type": "stream",
     "text": [
      "186 아디다스 파이어버드 져지#아디다스#파이어버드#져지트랙탑 #나이키#폴로 #타미#바시티#올드스쿨#본빈티지 https://youtu.be/9RidBQREc0M life is dynamite라이프파티 폴로\n"
     ]
    },
    {
     "name": "stderr",
     "output_type": "stream",
     "text": [
      " 46%|████▌     | 188/413 [02:34<02:54,  1.29it/s]"
     ]
    },
    {
     "name": "stdout",
     "output_type": "stream",
     "text": [
      "187 DRY-EX 스탠드 칼라 폴로 셔츠(아담 스콧) https://youtu.be/vMrNSsCd9oE 유니클로코리아 폴로\n"
     ]
    },
    {
     "name": "stderr",
     "output_type": "stream",
     "text": [
      " 46%|████▌     | 189/413 [02:35<02:59,  1.25it/s]"
     ]
    },
    {
     "name": "stdout",
     "output_type": "stream",
     "text": [
      "188 폴로 옥스포드 셔츠 핑크컬러 :) #폴로 #폴로랄프로렌 #폴로셔츠 https://youtu.be/hsjoZPwjYBc minute d mond 폴로\n"
     ]
    },
    {
     "name": "stderr",
     "output_type": "stream",
     "text": [
      " 46%|████▌     | 190/413 [02:36<02:59,  1.24it/s]"
     ]
    },
    {
     "name": "stdout",
     "output_type": "stream",
     "text": [
      "189 엥? 오늘은 뭐가 많다잉? 랄프로렌 폴로 세일, 뉴발 991 21만원, 피오갓 에센셜 후드 5.1만원, 메종키츠네 가디건 관부가세안, 젤리캣, 폴스미스, 아르켓 https://youtu.be/N6eRXvCaLVY&pp 직구정보통 폴로\n"
     ]
    },
    {
     "name": "stderr",
     "output_type": "stream",
     "text": [
      " 46%|████▌     | 191/413 [02:37<03:03,  1.21it/s]"
     ]
    },
    {
     "name": "stdout",
     "output_type": "stream",
     "text": [
      "190 4/12 빈티지샵 otjip 신상 업로드 완료 :) #shorts #폴로 #빈티지폴로 #클래식룩 https://youtu.be/iQLkX0uYleQ 옷;집 폴로\n"
     ]
    },
    {
     "name": "stderr",
     "output_type": "stream",
     "text": [
      " 46%|████▋     | 192/413 [02:38<03:10,  1.16it/s]"
     ]
    },
    {
     "name": "stdout",
     "output_type": "stream",
     "text": [
      "191 🇺🇸 미국 쇼핑 리스트 1탄 feat. 티파니, 미국 아울렛, 리바이스, 폴로, 나이키 https://youtu.be/mfAREcWQwns&pp 드림슈DREAMSHOE 폴로\n"
     ]
    },
    {
     "name": "stderr",
     "output_type": "stream",
     "text": [
      " 47%|████▋     | 193/413 [02:39<03:24,  1.08it/s]"
     ]
    },
    {
     "name": "stdout",
     "output_type": "stream",
     "text": [
      "192 폴로린넨셔츠 추천 판매순위 Top10 || 가격 평점 후기 비교 https://youtu.be/_zsnNH4JJcE&pp 무무튜브 폴로\n"
     ]
    },
    {
     "name": "stderr",
     "output_type": "stream",
     "text": [
      " 47%|████▋     | 194/413 [02:40<03:36,  1.01it/s]"
     ]
    },
    {
     "name": "stdout",
     "output_type": "stream",
     "text": [
      "193 지금 이 'OO'반팔은 피해주세요.. 유행하는 반팔 추천 vs 비추천 https://youtu.be/x1e54wG46rw&pp 깡스타일리스트 폴로\n"
     ]
    },
    {
     "name": "stderr",
     "output_type": "stream",
     "text": [
      " 47%|████▋     | 195/413 [02:41<03:28,  1.04it/s]"
     ]
    },
    {
     "name": "stdout",
     "output_type": "stream",
     "text": [
      "194 폴로 POLO를 둘러싼 의문 https://youtu.be/8qvgL-pYdMo 웨이브매거진 WAVE MAGAZINE 폴로\n"
     ]
    },
    {
     "name": "stderr",
     "output_type": "stream",
     "text": [
      " 47%|████▋     | 196/413 [02:42<03:25,  1.06it/s]"
     ]
    },
    {
     "name": "stdout",
     "output_type": "stream",
     "text": [
      "195 남성용 폴로 린넨 셔츠 여자가 입으면 어떤 핏일까? (폴로 클래식핏 셔츠, 볼캡, 워드로브NYC 바이커 쇼츠 코디) https://youtu.be/ojOne1Djuig&pp 멜코Melco 폴로\n"
     ]
    },
    {
     "name": "stderr",
     "output_type": "stream",
     "text": [
      " 48%|████▊     | 197/413 [02:43<03:42,  1.03s/it]"
     ]
    },
    {
     "name": "stdout",
     "output_type": "stream",
     "text": [
      "196 고급진 심플룩엔 역시 폴로 랄프로렌 https://youtu.be/Cm8NHAov-j0 실시간런던 폴로\n"
     ]
    },
    {
     "name": "stderr",
     "output_type": "stream",
     "text": [
      " 48%|████▊     | 198/413 [02:44<03:48,  1.06s/it]"
     ]
    },
    {
     "name": "stdout",
     "output_type": "stream",
     "text": [
      "197 폴로 코트와 더블 코트는 다릅니다 https://youtu.be/xtpsQirbgws 패션사관학교 폴로\n"
     ]
    },
    {
     "name": "stderr",
     "output_type": "stream",
     "text": [
      " 48%|████▊     | 199/413 [02:45<03:55,  1.10s/it]"
     ]
    },
    {
     "name": "stdout",
     "output_type": "stream",
     "text": [
      "198 BABY (feat. MIRANI) (베이베 (Feat. 미란이)) https://youtu.be/5pNuoSS5LUg&pp Polodared - Topic 폴로\n"
     ]
    },
    {
     "name": "stderr",
     "output_type": "stream",
     "text": [
      " 48%|████▊     | 200/413 [02:46<03:45,  1.06s/it]"
     ]
    },
    {
     "name": "stdout",
     "output_type": "stream",
     "text": [
      "199 폴로반팔 추천 판매순위 Top10 || 가격 평점 후기 비교 https://youtu.be/PQttH_cja9Y&pp 슬기로운 쇼핑생활 폴로\n"
     ]
    },
    {
     "name": "stderr",
     "output_type": "stream",
     "text": [
      " 49%|████▊     | 201/413 [02:47<03:32,  1.00s/it]"
     ]
    },
    {
     "name": "stdout",
     "output_type": "stream",
     "text": [
      "200 5/24 빈티지샵 otjip 신상 업로드 완료 :) #shorts #폴로랄프로렌 #폴로카라티 https://youtu.be/MIT_4XUC2UY 옷;집 폴로\n"
     ]
    },
    {
     "name": "stderr",
     "output_type": "stream",
     "text": [
      " 49%|████▉     | 202/413 [02:48<03:31,  1.00s/it]"
     ]
    },
    {
     "name": "stdout",
     "output_type": "stream",
     "text": [
      "201 폴로린넨셔츠남성 추천 판매순위 Top10 || 가격 평점 후기 비교 https://youtu.be/ILfM_z4f4sE&pp 별이 빛나는 쇼핑 폴로\n"
     ]
    },
    {
     "name": "stderr",
     "output_type": "stream",
     "text": [
      " 49%|████▉     | 203/413 [02:49<03:27,  1.01it/s]"
     ]
    },
    {
     "name": "stdout",
     "output_type": "stream",
     "text": [
      "202 [천안명품편집샵 부오노] 스톤아일랜드 가슴로고패치 폴로 티셔츠 오렌지 남성 티셔츠 https://youtu.be/tdBxfSJqV7Y 천안명품편집샵 부오노 폴로\n"
     ]
    },
    {
     "name": "stderr",
     "output_type": "stream",
     "text": [
      " 49%|████▉     | 204/413 [02:50<03:16,  1.07it/s]"
     ]
    },
    {
     "name": "stdout",
     "output_type": "stream",
     "text": [
      "203 한국에서 젤 싸게 폴로 사는 방법?! 크로켓으로 폴로 구매하고 언박싱까지! https://youtu.be/JaUsc3SMFs4&pp THIS IS SUE! - 국제커플 브이로그  폴로\n"
     ]
    },
    {
     "name": "stderr",
     "output_type": "stream",
     "text": [
      " 50%|████▉     | 205/413 [02:51<03:12,  1.08it/s]"
     ]
    },
    {
     "name": "stdout",
     "output_type": "stream",
     "text": [
      "204 피아제 폴로 스켈레톤 vs 크로노그래프 기변 후기 : 진작 살껄.. (piaget polo skeleton vs chronograph) https://youtu.be/0RfPc52P4QI&pp ELIM 엘림 TV 폴로\n"
     ]
    },
    {
     "name": "stderr",
     "output_type": "stream",
     "text": [
      " 50%|████▉     | 206/413 [02:52<03:12,  1.07it/s]"
     ]
    },
    {
     "name": "stdout",
     "output_type": "stream",
     "text": [
      "205 30초만에 보는 폴로니트 코디 6가지 https://youtu.be/2Ow8CjvPKOU 수미 SUMI 폴로\n"
     ]
    },
    {
     "name": "stderr",
     "output_type": "stream",
     "text": [
      " 50%|█████     | 207/413 [02:52<02:59,  1.15it/s]"
     ]
    },
    {
     "name": "stdout",
     "output_type": "stream",
     "text": [
      "206 폴로 모자 이제 지겹습니다. 좋은 모자의 기준을 확실히 알려드릴게요! https://youtu.be/ibF0sVubzm4&pp Gonzo Tv 폴로\n"
     ]
    },
    {
     "name": "stderr",
     "output_type": "stream",
     "text": [
      " 50%|█████     | 208/413 [02:53<03:00,  1.14it/s]"
     ]
    },
    {
     "name": "stdout",
     "output_type": "stream",
     "text": [
      "207 4/10 빈티지샵 otjip 신상 업로드 완료 :) #shorts #빈티지폴로 #폴로코디 #빈티지 https://youtu.be/tpdFWJA461Y 옷;집 폴로\n"
     ]
    },
    {
     "name": "stderr",
     "output_type": "stream",
     "text": [
      " 51%|█████     | 209/413 [02:54<03:07,  1.09it/s]"
     ]
    },
    {
     "name": "stdout",
     "output_type": "stream",
     "text": [
      "208 크로켓하면 뭐 다? (Feat.폴로) #크로켓 #폴로 #내돈내산 https://youtu.be/nFZ2CShe2SQ 크로켓 - 전세계 커넥팅 쇼핑 폴로\n"
     ]
    },
    {
     "name": "stderr",
     "output_type": "stream",
     "text": [
      " 51%|█████     | 210/413 [02:55<03:08,  1.08it/s]"
     ]
    },
    {
     "name": "stdout",
     "output_type": "stream",
     "text": [
      "209 VLOG 직장인 브이로그 | 겨울 출근룩🎄𝑁𝑒𝑤 폴로니트 언박싱🧶가내스라 쇼핑템 하울🤍 새해맞이 이태원 사주 | 안국 맛집.소품샵🧸 메리어라운드.닉앤니콜.메종키츠네 https://youtu.be/DkSMDhQOCgs&pp 바이올렛 Violet 폴로\n"
     ]
    },
    {
     "name": "stderr",
     "output_type": "stream",
     "text": [
      " 51%|█████     | 211/413 [02:56<03:06,  1.08it/s]"
     ]
    },
    {
     "name": "stdout",
     "output_type": "stream",
     "text": [
      "210 폴로셔츠 추천 판매순위 Top10 || 가격 평점 후기 비교 https://youtu.be/sYuEoQ-VP5E&pp 쇼핑투어 폴로\n"
     ]
    },
    {
     "name": "stderr",
     "output_type": "stream",
     "text": [
      " 51%|█████▏    | 212/413 [02:57<02:51,  1.17it/s]"
     ]
    },
    {
     "name": "stdout",
     "output_type": "stream",
     "text": [
      "211 여름 신상 트렌드 자수 카라 폴로 티셔츠 반팔 https://youtu.be/0CtLLYq96_o mshi wu 폴로\n"
     ]
    },
    {
     "name": "stderr",
     "output_type": "stream",
     "text": [
      " 52%|█████▏    | 213/413 [02:58<02:48,  1.19it/s]"
     ]
    },
    {
     "name": "stdout",
     "output_type": "stream",
     "text": [
      "212 폴로반팔티 추천 판매순위 Top10 || 가격 평점 후기 비교 https://youtu.be/YlZkRXeAK-k&pp 하나쇼핑 폴로\n"
     ]
    },
    {
     "name": "stderr",
     "output_type": "stream",
     "text": [
      " 52%|█████▏    | 214/413 [02:59<02:52,  1.16it/s]"
     ]
    },
    {
     "name": "stdout",
     "output_type": "stream",
     "text": [
      "213 폴로카라티 추천 판매순위 Top10 || 가격 평점 후기 비교 https://youtu.be/C-mcxCAAQFU&pp 하나쇼핑 폴로\n"
     ]
    },
    {
     "name": "stderr",
     "output_type": "stream",
     "text": [
      " 52%|█████▏    | 215/413 [02:59<02:46,  1.19it/s]"
     ]
    },
    {
     "name": "stdout",
     "output_type": "stream",
     "text": [
      "214 김나영 라코스테 폴로 셔츠 #라코스테 #폴로셔츠 #봄코디 https://youtu.be/glu_cnl-L-I FASHION365 폴로\n"
     ]
    },
    {
     "name": "stderr",
     "output_type": "stream",
     "text": [
      " 52%|█████▏    | 216/413 [03:00<02:37,  1.25it/s]"
     ]
    },
    {
     "name": "stdout",
     "output_type": "stream",
     "text": [
      "215 폭스바겐 폴로 Volkswagen Polo 인제스피디움 [트랙주행] 이민재 https://youtu.be/Izlr37KVDqk&pp 고갯마루 Summit Corsa Gruppo 폴로\n"
     ]
    },
    {
     "name": "stderr",
     "output_type": "stream",
     "text": [
      " 53%|█████▎    | 217/413 [03:01<02:30,  1.30it/s]"
     ]
    },
    {
     "name": "stdout",
     "output_type": "stream",
     "text": [
      "216 폴로랄프로렌 인디 블루 무지 반팔 티셔츠 / 제품 상세정보 및 규매는 댓글에 링크 남겨두었습니다 🙇🏻‍♂️ https://youtu.be/FpjYmpyh0ko 옷;집 폴로\n"
     ]
    },
    {
     "name": "stderr",
     "output_type": "stream",
     "text": [
      " 53%|█████▎    | 218/413 [03:01<02:23,  1.35it/s]"
     ]
    },
    {
     "name": "stdout",
     "output_type": "stream",
     "text": [
      "217 폴로 시즌 한정 달마시안 인타르시아 스웨터:) #폴로랄프로렌 #폴로스웨터 #폴로 https://youtu.be/15d4T_z3x7o minute d mond 폴로\n"
     ]
    },
    {
     "name": "stderr",
     "output_type": "stream",
     "text": [
      " 53%|█████▎    | 219/413 [03:02<02:22,  1.36it/s]"
     ]
    },
    {
     "name": "stdout",
     "output_type": "stream",
     "text": [
      "218 생일 기념 송도 나들이💗 송현아 폴로매장, 기버터스테이크, 송도카페, 자취집밥 해먹기, 혼카페, 저 곧 해외 나가요! 새 신카 발급 | 자취일상 vlog https://youtu.be/xgKv3nBL6fM&pp 인영 forever young 폴로\n"
     ]
    },
    {
     "name": "stderr",
     "output_type": "stream",
     "text": [
      " 53%|█████▎    | 220/413 [03:03<02:18,  1.39it/s]"
     ]
    },
    {
     "name": "stdout",
     "output_type": "stream",
     "text": [
      "219 폴로랄프로렌 블루 반팔 피케이 티셔츠 / 제품 상세정보 및 구매는 댓글에 링크 남겨두었습니다 🙇🏻‍♂️ https://youtu.be/bOg54BLajZw 옷;집 폴로\n"
     ]
    },
    {
     "name": "stderr",
     "output_type": "stream",
     "text": [
      " 54%|█████▎    | 221/413 [03:03<02:14,  1.42it/s]"
     ]
    },
    {
     "name": "stdout",
     "output_type": "stream",
     "text": [
      "220 🌟 폴로 랄프 로렌의 클래식: 당신의 스타일을 완성하는 크루넥 반팔티셔츠 3종 🌟 https://youtu.be/VTID7RDZNPY 온쇼핑 폴로\n"
     ]
    },
    {
     "name": "stderr",
     "output_type": "stream",
     "text": [
      " 54%|█████▍    | 222/413 [03:04<02:11,  1.45it/s]"
     ]
    },
    {
     "name": "stdout",
     "output_type": "stream",
     "text": [
      "221 폴로 랄프로렌 사이즈 고민 되세요? 드루와 드루와 폴로 랄프로렌 보이즈, 걸즈, 우먼 사이즈 완벽 비교해봤습니다!! https://youtu.be/gvjVFvTSip4&pp Like Dew 폴로\n"
     ]
    },
    {
     "name": "stderr",
     "output_type": "stream",
     "text": [
      " 54%|█████▍    | 223/413 [03:05<02:09,  1.46it/s]"
     ]
    },
    {
     "name": "stdout",
     "output_type": "stream",
     "text": [
      "222 폴로셔츠 추천 판매순위 Top10 || 가격 평점 후기 비교 https://youtu.be/GW--DA_cg64&pp 슬기로운 쇼핑생활 폴로\n"
     ]
    },
    {
     "name": "stderr",
     "output_type": "stream",
     "text": [
      " 54%|█████▍    | 224/413 [03:06<02:13,  1.41it/s]"
     ]
    },
    {
     "name": "stdout",
     "output_type": "stream",
     "text": [
      "223 폴로 반팔원피스 ,  ₩49,000 1+1, 정상가 54,100원 https://youtu.be/aTLs4DG7qJY Mai King 폴로\n"
     ]
    },
    {
     "name": "stderr",
     "output_type": "stream",
     "text": [
      " 54%|█████▍    | 225/413 [03:06<02:16,  1.38it/s]"
     ]
    },
    {
     "name": "stdout",
     "output_type": "stream",
     "text": [
      "224 내돈내산 3만원대 비니 추천! #shorts #유니클로 #폴로 #mlb https://youtu.be/VXXRxyHOAW4 허율 폴로\n"
     ]
    },
    {
     "name": "stderr",
     "output_type": "stream",
     "text": [
      " 55%|█████▍    | 226/413 [03:07<02:19,  1.34it/s]"
     ]
    },
    {
     "name": "stdout",
     "output_type": "stream",
     "text": [
      "225 👔 \"직구는 막고, 가격은 올리고!\" 그래도 없어서 못파는 '폴로'의 성적표 https://youtu.be/U5BWIYoBR48&pp 오늘부터 회계사 폴로\n"
     ]
    },
    {
     "name": "stderr",
     "output_type": "stream",
     "text": [
      " 55%|█████▍    | 227/413 [03:08<02:20,  1.32it/s]"
     ]
    },
    {
     "name": "stdout",
     "output_type": "stream",
     "text": [
      "226 워크자켓 나도 입어보자 #ootd #폴로 #워크자켓 #리바이스 #남자코디추천 https://youtu.be/m_GrEExtu6I 그랜트 폴로\n"
     ]
    },
    {
     "name": "stderr",
     "output_type": "stream",
     "text": [
      " 55%|█████▌    | 228/413 [03:09<02:24,  1.28it/s]"
     ]
    },
    {
     "name": "stdout",
     "output_type": "stream",
     "text": [
      "227 Polo#명품#폴로#폴로랄프로렌 #폴로셔츠#폴로니트#폴로연예인#최정원#김나영#빈지노#김우빈#헐리웃스타일#고급 https://youtu.be/Z-oalf_LkGw 부띠끄 블랙. Boutique black1104 폴로\n"
     ]
    },
    {
     "name": "stderr",
     "output_type": "stream",
     "text": [
      " 55%|█████▌    | 229/413 [03:09<02:20,  1.31it/s]"
     ]
    },
    {
     "name": "stdout",
     "output_type": "stream",
     "text": [
      "228 오버사이즈 폴로셔츠 코디1 ദ്ദി❁´◡`❁) https://youtu.be/Al0wogA6SNE 배배자매-BaeBae vlog 폴로\n"
     ]
    },
    {
     "name": "stderr",
     "output_type": "stream",
     "text": [
      " 56%|█████▌    | 230/413 [03:10<02:14,  1.36it/s]"
     ]
    },
    {
     "name": "stdout",
     "output_type": "stream",
     "text": [
      "229 Vlog | 직장인 브이로그 | 데일리룩 | 더로우 신상 | 르메르 원피스 | 여주아울렛 | COS코스 신상 추천템 | 폴로랄프로렌 | 마이테레사 | 출근룩 /simple.B https://youtu.be/axpUW6fWrTI&pp 심플비 simple.B 폴로\n"
     ]
    },
    {
     "name": "stderr",
     "output_type": "stream",
     "text": [
      " 56%|█████▌    | 231/413 [03:11<02:11,  1.38it/s]"
     ]
    },
    {
     "name": "stdout",
     "output_type": "stream",
     "text": [
      "230 폴로 랄프로렌 신상 코디 #폴로 #에스파 #윈터 #shorts https://youtu.be/Ecpp2zV_3kY 봄봄 폴로\n"
     ]
    },
    {
     "name": "stderr",
     "output_type": "stream",
     "text": [
      " 56%|█████▌    | 232/413 [03:11<02:07,  1.42it/s]"
     ]
    },
    {
     "name": "stdout",
     "output_type": "stream",
     "text": [
      "231 #톰브라운 #폴로 https://youtu.be/zR95DhVcqp8 MAMAs마마스 폴로\n"
     ]
    },
    {
     "name": "stderr",
     "output_type": "stream",
     "text": [
      " 56%|█████▋    | 233/413 [03:12<02:13,  1.35it/s]"
     ]
    },
    {
     "name": "stdout",
     "output_type": "stream",
     "text": [
      "232 [천안명품편집샵 부오노] 톰브라운 앵커 모티프 로고 폴로티셔츠 화이트 여성 https://youtu.be/H0j_rXk_sE4 천안명품편집샵 부오노 폴로\n"
     ]
    },
    {
     "name": "stderr",
     "output_type": "stream",
     "text": [
      " 57%|█████▋    | 234/413 [03:13<02:15,  1.32it/s]"
     ]
    },
    {
     "name": "stdout",
     "output_type": "stream",
     "text": [
      "233 [천안명품편집샵 부오노] 스톤아일랜드 로고 패치 폴로 티셔츠 민트 남성 티셔츠 https://youtu.be/twy5EPOBAyo 천안명품편집샵 부오노 폴로\n"
     ]
    },
    {
     "name": "stderr",
     "output_type": "stream",
     "text": [
      " 57%|█████▋    | 235/413 [03:14<02:12,  1.35it/s]"
     ]
    },
    {
     "name": "stdout",
     "output_type": "stream",
     "text": [
      "234 🆗싸다구몰 83번 폴로랄프로렌 95사이즈 가단49cm 판매가13000원 https://youtu.be/9Hwceb9YLvo 싸다구몰 폴로\n"
     ]
    },
    {
     "name": "stderr",
     "output_type": "stream",
     "text": [
      " 57%|█████▋    | 236/413 [03:15<02:09,  1.36it/s]"
     ]
    },
    {
     "name": "stdout",
     "output_type": "stream",
     "text": [
      "235 폴로랄프로렌 레드 반팔 티셔츠 / 제품 정보 및 구매는 댓글에 링크 걸어두었습니다 🙇🏻‍♂️ https://youtu.be/MTRV6xeNH0c 옷;집 폴로\n"
     ]
    },
    {
     "name": "stderr",
     "output_type": "stream",
     "text": [
      " 57%|█████▋    | 237/413 [03:15<02:05,  1.40it/s]"
     ]
    },
    {
     "name": "stdout",
     "output_type": "stream",
     "text": [
      "236 여성 여름 폴로 셔츠원피스 여자 반팔 카라 원피스 https://youtu.be/WX7nmSxkIDo 섹시하니 폴로\n"
     ]
    },
    {
     "name": "stderr",
     "output_type": "stream",
     "text": [
      " 58%|█████▊    | 238/413 [03:16<02:04,  1.41it/s]"
     ]
    },
    {
     "name": "stdout",
     "output_type": "stream",
     "text": [
      "237 폴로후리스 사기 전에 이 영상 먼저 보세요! ♥2024년 인기 많은 폴로후리스 추천 TOP5♥ https://youtu.be/4-hVvhMB6XY 특가천국 폴로\n"
     ]
    },
    {
     "name": "stderr",
     "output_type": "stream",
     "text": [
      " 58%|█████▊    | 239/413 [03:17<01:58,  1.46it/s]"
     ]
    },
    {
     "name": "stdout",
     "output_type": "stream",
     "text": [
      "238 [천안명품편집샵 부오노] 톰브라운 트리밍 코튼 니트 폴로티셔츠 라이트그레이 남성 반팔 https://youtu.be/gPlTW9v7kvg 천안명품편집샵 부오노 폴로\n"
     ]
    },
    {
     "name": "stderr",
     "output_type": "stream",
     "text": [
      " 58%|█████▊    | 240/413 [03:17<01:53,  1.52it/s]"
     ]
    },
    {
     "name": "stdout",
     "output_type": "stream",
     "text": [
      "239 배사가 무인도에 간다면 가지고 가는 옷, 옷장 필수템, 여행룩의 첫번째 화이트셔츠, 하늘색 셔츠들, 입는 법[폴로옥스포드셔츠, 폴로린넨셔츠, 어바닉, 라르고, 텐먼스, 웬위윌..] https://youtu.be/XY8YUpyRkPY&pp 배사임당BAESAIMDANG 폴로\n"
     ]
    },
    {
     "name": "stderr",
     "output_type": "stream",
     "text": [
      " 58%|█████▊    | 241/413 [03:18<01:56,  1.48it/s]"
     ]
    },
    {
     "name": "stdout",
     "output_type": "stream",
     "text": [
      "240 윔블던 ball boy 폴로 셔츠 https://youtu.be/4suKXQTAmsE 양씨 YangSee 폴로\n"
     ]
    },
    {
     "name": "stderr",
     "output_type": "stream",
     "text": [
      " 59%|█████▊    | 242/413 [03:19<01:56,  1.47it/s]"
     ]
    },
    {
     "name": "stdout",
     "output_type": "stream",
     "text": [
      "241 #폭스바겐 #폴로 #polo #연비 https://youtu.be/dSg3DQZQ758 남편하루 폴로\n"
     ]
    },
    {
     "name": "stderr",
     "output_type": "stream",
     "text": [
      " 59%|█████▉    | 243/413 [03:19<02:01,  1.40it/s]"
     ]
    },
    {
     "name": "stdout",
     "output_type": "stream",
     "text": [
      "242 폴로 POLO 랄프로렌 코치 자켓 coach jacket 리뷰 review https://youtu.be/jp41xT4-NvI&pp 아이스버그 폴로\n"
     ]
    },
    {
     "name": "stderr",
     "output_type": "stream",
     "text": [
      " 59%|█████▉    | 244/413 [03:20<01:57,  1.44it/s]"
     ]
    },
    {
     "name": "stdout",
     "output_type": "stream",
     "text": [
      "243 걔네가 파는 스투시,폴로 다 짭이라고 ㅋㅋ https://youtu.be/e7Ogvs8kOQE OFAD 오파드하이엔드 패션 폴로\n"
     ]
    },
    {
     "name": "stderr",
     "output_type": "stream",
     "text": [
      " 59%|█████▉    | 245/413 [03:21<01:55,  1.45it/s]"
     ]
    },
    {
     "name": "stdout",
     "output_type": "stream",
     "text": [
      "244 155cm 57kg | 4가지 폴로니트 코디 1탄! https://youtu.be/9DcR_nMCNbg 클래식룩은 바이블byble 폴로\n"
     ]
    },
    {
     "name": "stderr",
     "output_type": "stream",
     "text": [
      " 60%|█████▉    | 246/413 [03:21<01:50,  1.52it/s]"
     ]
    },
    {
     "name": "stdout",
     "output_type": "stream",
     "text": [
      "245 안티코 폴로니트,블랙진 코디 https://youtu.be/DJDgLUoIxQQ 용블리 폴로\n"
     ]
    },
    {
     "name": "stderr",
     "output_type": "stream",
     "text": [
      " 60%|█████▉    | 247/413 [03:22<01:48,  1.53it/s]"
     ]
    },
    {
     "name": "stdout",
     "output_type": "stream",
     "text": [
      "246 청소년은 시청이 불가능합니다! 넷플릭스가 제작비 \"1100억\" 투자해서 만든 역대급 드라마 ㅎㄷㄷ.... https://youtu.be/u-rzh1_v5dU&pp 무비타이저(Movie Appetizer) 폴로\n"
     ]
    },
    {
     "name": "stderr",
     "output_type": "stream",
     "text": [
      " 60%|██████    | 248/413 [03:23<01:56,  1.42it/s]"
     ]
    },
    {
     "name": "stdout",
     "output_type": "stream",
     "text": [
      "247 2024년 가성비 폴로데님셔츠 추천 TOP5 https://youtu.be/dys_jhDVqIg&pp 쇼핑고민끝 폴로\n"
     ]
    },
    {
     "name": "stderr",
     "output_type": "stream",
     "text": [
      " 60%|██████    | 249/413 [03:23<01:59,  1.38it/s]"
     ]
    },
    {
     "name": "stdout",
     "output_type": "stream",
     "text": [
      "248 폭스바겐 폴로 Volkswagen Polo 인제스피디움 [트랙주행] 이민재 https://youtu.be/Izlr37KVDqk&pp 고갯마루 Summit Corsa Gruppo 폴로\n"
     ]
    },
    {
     "name": "stderr",
     "output_type": "stream",
     "text": [
      " 61%|██████    | 250/413 [03:24<01:59,  1.37it/s]"
     ]
    },
    {
     "name": "stdout",
     "output_type": "stream",
     "text": [
      "249 폴로후드집업 추천 판매순위 Top10 || 가격 평점 후기 비교 https://youtu.be/IFhDkG-fCf4&pp 하나쇼핑 폴로\n"
     ]
    },
    {
     "name": "stderr",
     "output_type": "stream",
     "text": [
      " 61%|██████    | 251/413 [03:25<02:01,  1.33it/s]"
     ]
    },
    {
     "name": "stdout",
     "output_type": "stream",
     "text": [
      "250 157cm/55kg 데일리룩ㅣ폴로셔츠 그만 입는 법 난 모릅니다...ㅣ#데일리룩 #오오티디 https://youtu.be/R-taxmFy13s 문이름 폴로\n"
     ]
    },
    {
     "name": "stderr",
     "output_type": "stream",
     "text": [
      " 61%|██████    | 252/413 [03:26<01:53,  1.42it/s]"
     ]
    },
    {
     "name": "stdout",
     "output_type": "stream",
     "text": [
      "251 PreciousU 여름 남성 심플 배색 면마 린넨 칠부 반팔셔츠 폴로셔츠 와이셔츠 남방 생활한복 개량한복 1303 https://youtu.be/j-NQU0GvB-A PreciousU 폴로\n"
     ]
    },
    {
     "name": "stderr",
     "output_type": "stream",
     "text": [
      " 61%|██████▏   | 253/413 [03:26<01:51,  1.43it/s]"
     ]
    },
    {
     "name": "stdout",
     "output_type": "stream",
     "text": [
      "252 폴로반팔니트 추천 판매순위 Top10 || 가격 평점 후기 비교 https://youtu.be/bxM53lXrOho&pp 어바웃쇼핑 폴로\n"
     ]
    },
    {
     "name": "stderr",
     "output_type": "stream",
     "text": [
      " 62%|██████▏   | 254/413 [03:27<01:43,  1.54it/s]"
     ]
    },
    {
     "name": "stdout",
     "output_type": "stream",
     "text": [
      "253 폴로남방 추천 판매순위 Top10 || 가격 평점 후기 비교 https://youtu.be/tfXO-ET7VuE&pp 슬기로운 쇼핑생활 폴로\n"
     ]
    },
    {
     "name": "stderr",
     "output_type": "stream",
     "text": [
      " 62%|██████▏   | 255/413 [03:28<01:46,  1.49it/s]"
     ]
    },
    {
     "name": "stdout",
     "output_type": "stream",
     "text": [
      "254 #폴로니트 일주일 #데일리룩 ✨ #폴로 #랄프로렌 #데일리룩코디 #니트코디 #니트추천 #shorts #오오티디 #ootd https://youtu.be/J-l_ZPbD51g 민민 폴로\n"
     ]
    },
    {
     "name": "stderr",
     "output_type": "stream",
     "text": [
      " 62%|██████▏   | 256/413 [03:28<01:41,  1.54it/s]"
     ]
    },
    {
     "name": "stdout",
     "output_type": "stream",
     "text": [
      "255 🏇 폴로 여성 여름 상의(S,M,L) 티셔츠 니트 #종달맘공구 #폴로랄프로렌 https://youtu.be/MKRRSMoGzaM 🌈책육아 종달맘🐥 폴로\n"
     ]
    },
    {
     "name": "stderr",
     "output_type": "stream",
     "text": [
      " 62%|██████▏   | 257/413 [03:29<01:39,  1.58it/s]"
     ]
    },
    {
     "name": "stdout",
     "output_type": "stream",
     "text": [
      "256 205. 에스파 윈터 폴로 코디 🌊 https://youtu.be/wCpM_EYS6cA 룩북코리아 폴로\n"
     ]
    },
    {
     "name": "stderr",
     "output_type": "stream",
     "text": [
      " 62%|██████▏   | 258/413 [03:29<01:40,  1.54it/s]"
     ]
    },
    {
     "name": "stdout",
     "output_type": "stream",
     "text": [
      "257 폴로에서 90% 할인한다고? #문화충격 #폴로 #할인 #사바나이모저모 #서배너라이프 https://youtu.be/5bd5gHA3X4A 사바나 이모저모 폴로\n"
     ]
    },
    {
     "name": "stderr",
     "output_type": "stream",
     "text": [
      " 63%|██████▎   | 259/413 [03:30<01:39,  1.55it/s]"
     ]
    },
    {
     "name": "stdout",
     "output_type": "stream",
     "text": [
      "258 폴로에 오신 걸 환영합니다💛🫵🏻 | Polo Ralph Lauren Store Shooting Behind https://youtu.be/KvoZmpSWq8M&pp NCT 폴로\n"
     ]
    },
    {
     "name": "stderr",
     "output_type": "stream",
     "text": [
      " 63%|██████▎   | 260/413 [03:31<01:39,  1.53it/s]"
     ]
    },
    {
     "name": "stdout",
     "output_type": "stream",
     "text": [
      "259 폴로니트반팔 추천 판매순위 Top10 || 가격 평점 후기 비교 https://youtu.be/dJLDz_tohsI&pp 코코티비 폴로\n"
     ]
    },
    {
     "name": "stderr",
     "output_type": "stream",
     "text": [
      " 63%|██████▎   | 261/413 [03:31<01:34,  1.61it/s]"
     ]
    },
    {
     "name": "stdout",
     "output_type": "stream",
     "text": [
      "260 올 여름 시즌은 폴로 랄프 로렌을 입은 마크, 홍경 그리고 전소니처럼! https://youtu.be/a-tMJ7MaCj8 Harper's BAZAAR Korea 폴로\n"
     ]
    },
    {
     "name": "stderr",
     "output_type": "stream",
     "text": [
      " 63%|██████▎   | 262/413 [03:32<01:34,  1.60it/s]"
     ]
    },
    {
     "name": "stdout",
     "output_type": "stream",
     "text": [
      "261 폴로랄프로렌 네이비 자수 반팔 피케이 티셔츠 / 제품 상세정보 및 구매는 댓글에 링크 남겨두었습니다 🙇🏻‍♂️ https://youtu.be/nwAvXN6IRgE 옷;집 폴로\n"
     ]
    },
    {
     "name": "stderr",
     "output_type": "stream",
     "text": [
      " 64%|██████▎   | 263/413 [03:32<01:31,  1.65it/s]"
     ]
    },
    {
     "name": "stdout",
     "output_type": "stream",
     "text": [
      "262 로얄 44, 플리키뱅, 폴로다레드, 여호 - YG LIVE at HIPHOPPLAYA FESTIVAL 2023 https://youtu.be/wvLjmN5WP5k&pp HIPHOPPLAYA 폴로\n"
     ]
    },
    {
     "name": "stderr",
     "output_type": "stream",
     "text": [
      " 64%|██████▍   | 264/413 [03:33<01:31,  1.62it/s]"
     ]
    },
    {
     "name": "stdout",
     "output_type": "stream",
     "text": [
      "263 폴로 너무 비싸요ㅠ [최고의 가성비 카라티 추천 TOP3] https://youtu.be/6laHbjsZyR4 노노스타일 폴로\n"
     ]
    },
    {
     "name": "stderr",
     "output_type": "stream",
     "text": [
      " 64%|██████▍   | 265/413 [03:34<01:30,  1.64it/s]"
     ]
    },
    {
     "name": "stdout",
     "output_type": "stream",
     "text": [
      "264 아디다스 파이어버드 져지#아디다스#파이어버드#져지트랙탑 #나이키#폴로 #타미#바시티#올드스쿨#라이프파티 https://youtu.be/zk8G4_YfkS4 life is dynamite라이프파티 폴로\n"
     ]
    },
    {
     "name": "stderr",
     "output_type": "stream",
     "text": [
      " 64%|██████▍   | 266/413 [03:34<01:27,  1.68it/s]"
     ]
    },
    {
     "name": "stdout",
     "output_type": "stream",
     "text": [
      "265 [AMI] 아미 드 커 폴로 반팔 티셔츠 H20HJ207760 (4 COLOR) https://youtu.be/lsGhOawT_0I&pp 벨리븐 폴로\n"
     ]
    },
    {
     "name": "stderr",
     "output_type": "stream",
     "text": [
      " 65%|██████▍   | 267/413 [03:35<01:30,  1.62it/s]"
     ]
    },
    {
     "name": "stdout",
     "output_type": "stream",
     "text": [
      "266 폭스바겐 폴로 금호타이어 솔루스 TA51 215 45 16인치 교체 대전 서구 관저동 타이어 싼곳 예일모터스대전 https://youtu.be/RZLsSCDGjJE&pp 예일모터스 예일맨 폴로\n"
     ]
    },
    {
     "name": "stderr",
     "output_type": "stream",
     "text": [
      " 65%|██████▍   | 268/413 [03:36<01:27,  1.65it/s]"
     ]
    },
    {
     "name": "stdout",
     "output_type": "stream",
     "text": [
      "267 👔 \"직구는 막고, 가격은 올리고!\" 그래도 없어서 못파는 '폴로'의 성적표 https://youtu.be/U5BWIYoBR48&pp 오늘부터 회계사 폴로\n"
     ]
    },
    {
     "name": "stderr",
     "output_type": "stream",
     "text": [
      " 65%|██████▌   | 269/413 [03:36<01:26,  1.67it/s]"
     ]
    },
    {
     "name": "stdout",
     "output_type": "stream",
     "text": [
      "268 12/27 신상 업로드 완료 :) #short #빈티지쇼핑몰 #구제쇼핑몰 #폴로니트 #폴로 https://youtu.be/0WiIHhoSLmg 옷;집 폴로\n"
     ]
    },
    {
     "name": "stderr",
     "output_type": "stream",
     "text": [
      " 65%|██████▌   | 270/413 [03:37<01:26,  1.66it/s]"
     ]
    },
    {
     "name": "stdout",
     "output_type": "stream",
     "text": [
      "269 폭스바겐폴로1.4실차주 리뷰후기1편 #shorts #폭스바겐폴로 #폭스바겐 #디지털노마드 https://youtu.be/CpsEHFQyVTU 건티지 폴로\n"
     ]
    },
    {
     "name": "stderr",
     "output_type": "stream",
     "text": [
      " 66%|██████▌   | 271/413 [03:37<01:32,  1.54it/s]"
     ]
    },
    {
     "name": "stdout",
     "output_type": "stream",
     "text": [
      "270 5/23 빈티지샵 otjip 신상 업로드 완료 :) #shorts #폴로셔츠 #폴로룩 #클래식룩 https://youtu.be/VHw9RLpbOeU 옷;집 폴로\n"
     ]
    },
    {
     "name": "stderr",
     "output_type": "stream",
     "text": [
      " 66%|██████▌   | 272/413 [03:38<01:30,  1.55it/s]"
     ]
    },
    {
     "name": "stdout",
     "output_type": "stream",
     "text": [
      "271 상반기 최저가 세일 - 랄프로렌 폴로 셔츠 10만원, 아크네 미니백 12만원, 피오갓 에센셜 맨투맨 백로고, 헌터 부츠 11만원, 밀텍 M65 11만원, 미우미우 핸드백, 다이슨 https://youtu.be/9Tm_jYAn8No&pp 직구정보통 폴로\n"
     ]
    },
    {
     "name": "stderr",
     "output_type": "stream",
     "text": [
      " 66%|██████▌   | 273/413 [03:39<01:31,  1.53it/s]"
     ]
    },
    {
     "name": "stdout",
     "output_type": "stream",
     "text": [
      "272 폴로다레드 디스곡 '성인식', 언에듀까지 디스? https://youtu.be/bysqScAEH8w&pp 숑키 폴로\n"
     ]
    },
    {
     "name": "stderr",
     "output_type": "stream",
     "text": [
      " 66%|██████▋   | 274/413 [03:39<01:31,  1.51it/s]"
     ]
    },
    {
     "name": "stdout",
     "output_type": "stream",
     "text": [
      "273 폴로티셔츠 추천 판매순위 Top10 || 가격 평점 후기 비교 https://youtu.be/5Ib_mE7rZcI&pp 어바웃쇼핑 폴로\n"
     ]
    },
    {
     "name": "stderr",
     "output_type": "stream",
     "text": [
      " 67%|██████▋   | 275/413 [03:40<01:33,  1.47it/s]"
     ]
    },
    {
     "name": "stdout",
     "output_type": "stream",
     "text": [
      "274 1/6 빈티지샵 신상 업로드 완료:) #폴로니트 #폴로 #빈티지쇼핑몰 #빈티지샵 https://youtu.be/Qyh0bqJBK0Y 옷;집 폴로\n"
     ]
    },
    {
     "name": "stderr",
     "output_type": "stream",
     "text": [
      " 67%|██████▋   | 276/413 [03:41<01:31,  1.50it/s]"
     ]
    },
    {
     "name": "stdout",
     "output_type": "stream",
     "text": [
      "275 #T1 과 #폴로랄프로렌 팬 미팅 현장 #페이커, #제우스 https://youtu.be/Ac_lc1_6n3o HYPEBEAST KOREA 폴로\n"
     ]
    },
    {
     "name": "stderr",
     "output_type": "stream",
     "text": [
      " 67%|██████▋   | 277/413 [03:41<01:27,  1.56it/s]"
     ]
    },
    {
     "name": "stdout",
     "output_type": "stream",
     "text": [
      "276 폴로린넨셔츠 추천 판매순위 Top10 || 가격 평점 후기 비교 https://youtu.be/nEOoDJq5a3E&pp 하나쇼핑 폴로\n"
     ]
    },
    {
     "name": "stderr",
     "output_type": "stream",
     "text": [
      " 67%|██████▋   | 278/413 [03:42<01:23,  1.61it/s]"
     ]
    },
    {
     "name": "stdout",
     "output_type": "stream",
     "text": [
      "277 폴로다레드는 이하늘을 춤추게해 #이하늘 #shorts https://youtu.be/a0QoiQNJlvU 이하늘의 예쎼쑈 폴로\n"
     ]
    },
    {
     "name": "stderr",
     "output_type": "stream",
     "text": [
      " 68%|██████▊   | 279/413 [03:43<01:28,  1.51it/s]"
     ]
    },
    {
     "name": "stdout",
     "output_type": "stream",
     "text": [
      "278 폴로셔츠로 꾸안꾸룩 선보인 김고은 패션 #shorts https://youtu.be/l1GCYNU_eZM TVREPORT 폴로\n"
     ]
    },
    {
     "name": "stderr",
     "output_type": "stream",
     "text": [
      " 68%|██████▊   | 280/413 [03:43<01:29,  1.48it/s]"
     ]
    },
    {
     "name": "stdout",
     "output_type": "stream",
     "text": [
      "279 톰브라운 남성 체스트 포켓 인터록 폴로 반팔 티셔츠 _명품 편집샵 더그란데 @the_grande https://youtu.be/BnOYNOWFXKU 더그란데 폴로\n"
     ]
    },
    {
     "name": "stderr",
     "output_type": "stream",
     "text": [
      " 68%|██████▊   | 281/413 [03:44<01:28,  1.49it/s]"
     ]
    },
    {
     "name": "stdout",
     "output_type": "stream",
     "text": [
      "280 톰브라운 남성 깅엄 체크 폴로 반팔 티셔츠 _명품 편집샵 더그란데 @the_grande https://youtu.be/8vIMLvicKuA 더그란데 폴로\n"
     ]
    },
    {
     "name": "stderr",
     "output_type": "stream",
     "text": [
      " 68%|██████▊   | 282/413 [03:45<01:28,  1.47it/s]"
     ]
    },
    {
     "name": "stdout",
     "output_type": "stream",
     "text": [
      "281 가을 위시리스트 🍂🍂🍂🍁              #폴로랄프로렌 #폴로 #가디건 #올드머니룩 #폴로가디건 #여성가디건 #니트코디 #니트추천 https://youtu.be/SO2rZIMOZrI 폴인몬스터스 폴로\n"
     ]
    },
    {
     "name": "stderr",
     "output_type": "stream",
     "text": [
      " 69%|██████▊   | 283/413 [03:45<01:25,  1.52it/s]"
     ]
    },
    {
     "name": "stdout",
     "output_type": "stream",
     "text": [
      "282 24SS 폴로 린넨 셔츠 핫딜🩷 #캐나다구매대행 #세레나마켓 #폴로랄프로렌 https://youtu.be/AX1vfiUVnN4 캐나다 세레나마켓 폴로\n"
     ]
    },
    {
     "name": "stderr",
     "output_type": "stream",
     "text": [
      " 69%|██████▉   | 284/413 [03:46<01:24,  1.53it/s]"
     ]
    },
    {
     "name": "stdout",
     "output_type": "stream",
     "text": [
      "283 폴. 폴. 폴로셔츠‼️ #마라탕후루 #폴로셔츠 #실리카겔 https://youtu.be/vB3R7ETDoio 도시락(urban rock) 폴로\n"
     ]
    },
    {
     "name": "stderr",
     "output_type": "stream",
     "text": [
      " 69%|██████▉   | 285/413 [03:47<01:24,  1.52it/s]"
     ]
    },
    {
     "name": "stdout",
     "output_type": "stream",
     "text": [
      "284 폴로 직구하지 마세요! https://youtu.be/rLc9Kr-CONc 새부리 폴로\n"
     ]
    },
    {
     "name": "stderr",
     "output_type": "stream",
     "text": [
      " 69%|██████▉   | 286/413 [03:47<01:25,  1.49it/s]"
     ]
    },
    {
     "name": "stdout",
     "output_type": "stream",
     "text": [
      "285 2/4 빈티지샵 옷집 신상 업로드 완료 :) #shorts #빈티지샵 #폴로셔츠 #폴로니트 https://youtu.be/jtYEFX-qno4 옷;집 폴로\n"
     ]
    },
    {
     "name": "stderr",
     "output_type": "stream",
     "text": [
      " 69%|██████▉   | 287/413 [03:48<01:23,  1.50it/s]"
     ]
    },
    {
     "name": "stdout",
     "output_type": "stream",
     "text": [
      "286 #폴로랄프로렌 #복조리가방 #리폼 #셔츠 #바느질 #폴로 #남편 #가방만들기 #업사이클링 https://youtu.be/6t94WeCMCVM 새라새롭한복 폴로\n"
     ]
    },
    {
     "name": "stderr",
     "output_type": "stream",
     "text": [
      " 70%|██████▉   | 288/413 [03:49<01:20,  1.55it/s]"
     ]
    },
    {
     "name": "stdout",
     "output_type": "stream",
     "text": [
      "287 폴로반바지 추천 판매순위 Top10 || 가격 평점 후기 비교 https://youtu.be/PlXGmzQMe2g&pp 어바웃쇼핑 폴로\n"
     ]
    },
    {
     "name": "stderr",
     "output_type": "stream",
     "text": [
      " 70%|██████▉   | 289/413 [03:49<01:20,  1.53it/s]"
     ]
    },
    {
     "name": "stdout",
     "output_type": "stream",
     "text": [
      "288 폴로니트사이즈비교🧶ㅣ폴로우먼즈 폴로걸즈 사이즈 비교ㅣ157cm 48kg 폴로사이즈 리뷰ㅣ폴로니트후기ㅣ키작녀폴로니트추천 https://youtu.be/De9kGlGSgh8&pp 권정밍 폴로\n"
     ]
    },
    {
     "name": "stderr",
     "output_type": "stream",
     "text": [
      " 70%|███████   | 290/413 [03:50<01:18,  1.57it/s]"
     ]
    },
    {
     "name": "stdout",
     "output_type": "stream",
     "text": [
      "289 엠버서더로 예쁜 사진을 찍으러 왔습니다🥰📸 | aespa WINTER Polo Ralph Lauren Ambassador Contents Shooting Behind https://youtu.be/SblMIpIMUjs&pp aespa 폴로\n"
     ]
    },
    {
     "name": "stderr",
     "output_type": "stream",
     "text": [
      " 70%|███████   | 291/413 [03:51<01:19,  1.53it/s]"
     ]
    },
    {
     "name": "stdout",
     "output_type": "stream",
     "text": [
      "290 윈터 폴로 랄프로렌 착붙이다 아니다 #winter #poloralphlauren #aespa https://youtu.be/ED7deDhPHpM 클릭패션 폴로\n"
     ]
    },
    {
     "name": "stderr",
     "output_type": "stream",
     "text": [
      " 71%|███████   | 292/413 [03:51<01:15,  1.60it/s]"
     ]
    },
    {
     "name": "stdout",
     "output_type": "stream",
     "text": [
      "291 폴로데님셔츠 추천 판매순위 Top10 || 가격 평점 후기 비교 https://youtu.be/OMwD2dOZkbQ&pp 어바웃쇼핑 폴로\n"
     ]
    },
    {
     "name": "stderr",
     "output_type": "stream",
     "text": [
      " 71%|███████   | 293/413 [03:52<01:17,  1.54it/s]"
     ]
    },
    {
     "name": "stdout",
     "output_type": "stream",
     "text": [
      "292 간절기 폴로 코디 반바지룩 https://youtu.be/67us424nI68 관리남자 폴로\n"
     ]
    },
    {
     "name": "stderr",
     "output_type": "stream",
     "text": [
      " 71%|███████   | 294/413 [03:53<01:17,  1.53it/s]"
     ]
    },
    {
     "name": "stdout",
     "output_type": "stream",
     "text": [
      "293 폴로반팔 추천 판매순위 Top10 || 가격 평점 후기 비교 https://youtu.be/HytkxW7E5KM&pp 코코티비 폴로\n"
     ]
    },
    {
     "name": "stderr",
     "output_type": "stream",
     "text": [
      " 71%|███████▏  | 295/413 [03:53<01:22,  1.44it/s]"
     ]
    },
    {
     "name": "stdout",
     "output_type": "stream",
     "text": [
      "294 폴로반팔티셔츠 추천 판매순위 Top10 || 가격 평점 후기 비교 https://youtu.be/AGAi6PNTolM&pp 쇼핑투어 폴로\n"
     ]
    },
    {
     "name": "stderr",
     "output_type": "stream",
     "text": [
      " 72%|███████▏  | 296/413 [03:54<01:25,  1.37it/s]"
     ]
    },
    {
     "name": "stdout",
     "output_type": "stream",
     "text": [
      "295 아디다스 파이어버드 져지#아디다스#파이어버드#져지트랙탑 #나이키#폴로 #타미#바시티#올드스쿨#본빈티지 https://youtu.be/nTNbvNW4OhU life is dynamite라이프파티 폴로\n"
     ]
    },
    {
     "name": "stderr",
     "output_type": "stream",
     "text": [
      " 72%|███████▏  | 297/413 [03:55<01:29,  1.29it/s]"
     ]
    },
    {
     "name": "stdout",
     "output_type": "stream",
     "text": [
      "296 윔블던 ball boy 폴로 셔츠 2 https://youtu.be/hy4v4NhNZt0 양씨 YangSee 폴로\n"
     ]
    },
    {
     "name": "stderr",
     "output_type": "stream",
     "text": [
      " 72%|███████▏  | 298/413 [03:56<01:40,  1.15it/s]"
     ]
    },
    {
     "name": "stdout",
     "output_type": "stream",
     "text": [
      "297 폴로가디건 추천 판매순위 Top10 || 가격 평점 후기 비교 https://youtu.be/ViCGkivcTGY&pp 코코티비 폴로\n"
     ]
    },
    {
     "name": "stderr",
     "output_type": "stream",
     "text": [
      " 72%|███████▏  | 299/413 [03:57<01:38,  1.16it/s]"
     ]
    },
    {
     "name": "stdout",
     "output_type": "stream",
     "text": [
      "298 12/27 신상 업로드 완료 :) #short #빈티지쇼핑몰 #구제쇼핑몰 #폴로니트 #폴로 https://youtu.be/0WiIHhoSLmg 옷;집 폴로\n"
     ]
    },
    {
     "name": "stderr",
     "output_type": "stream",
     "text": [
      " 73%|███████▎  | 300/413 [03:58<01:45,  1.07it/s]"
     ]
    },
    {
     "name": "stdout",
     "output_type": "stream",
     "text": [
      "299 폴로카라티 추천 판매순위 Top10 || 가격 평점 후기 비교 https://youtu.be/2mQAcukw7ag&pp 어바웃쇼핑 폴로\n"
     ]
    },
    {
     "name": "stderr",
     "output_type": "stream",
     "text": [
      " 73%|███████▎  | 301/413 [03:59<01:37,  1.15it/s]"
     ]
    },
    {
     "name": "stdout",
     "output_type": "stream",
     "text": [
      "300 강원도 원주 창고형 구제샵 빈티지메카 폴로 카라티 입고 #빈티지메카 #원주구제샵 #원주빈티지샵 #구제샵 #빈티지샵 #폴로 #원주 #여주 #충주 #wonju #gangwondo https://youtu.be/IeHebvE-Z7E 브로비 폴로\n"
     ]
    },
    {
     "name": "stderr",
     "output_type": "stream",
     "text": [
      " 73%|███████▎  | 302/413 [03:59<01:29,  1.23it/s]"
     ]
    },
    {
     "name": "stdout",
     "output_type": "stream",
     "text": [
      "301 상반기 최저가 세일 - 랄프로렌 폴로 셔츠 10만원, 아크네 미니백 12만원, 피오갓 에센셜 맨투맨 백로고, 헌터 부츠 11만원, 밀텍 M65 11만원, 미우미우 핸드백, 다이슨 https://youtu.be/9Tm_jYAn8No&pp 직구정보통 폴로\n"
     ]
    },
    {
     "name": "stderr",
     "output_type": "stream",
     "text": [
      " 73%|███████▎  | 303/413 [04:00<01:26,  1.27it/s]"
     ]
    },
    {
     "name": "stdout",
     "output_type": "stream",
     "text": [
      "302 일본에서 만든 가난한 자의 피아제 폴로 https://youtu.be/B0PnHfHgvJ0 강철물고기 폴로\n"
     ]
    },
    {
     "name": "stderr",
     "output_type": "stream",
     "text": [
      " 74%|███████▎  | 304/413 [04:01<01:22,  1.33it/s]"
     ]
    },
    {
     "name": "stdout",
     "output_type": "stream",
     "text": [
      "303 크으 미국 폴로 #미국일상 #미국일상vlog #브이로그 #vlog #폴로랄프로렌 #폴로 #미국폴로#미국아울렛 #나이아가라 https://youtu.be/tzobPU10xfs 크으일상 폴로\n"
     ]
    },
    {
     "name": "stderr",
     "output_type": "stream",
     "text": [
      " 74%|███████▍  | 305/413 [04:02<01:19,  1.36it/s]"
     ]
    },
    {
     "name": "stdout",
     "output_type": "stream",
     "text": [
      "304 폴로후드집업 추천 판매순위 Top10 || 가격 평점 후기 비교 https://youtu.be/4xjVGHXmiTA&pp 어바웃쇼핑 폴로\n"
     ]
    },
    {
     "name": "stderr",
     "output_type": "stream",
     "text": [
      " 74%|███████▍  | 306/413 [04:02<01:18,  1.36it/s]"
     ]
    },
    {
     "name": "stdout",
     "output_type": "stream",
     "text": [
      "305 Haberland 여름 남성 캐주얼 배색 쿨링 스판 카라 폴로 반팔티 밴딩 반바지 잠옷세트 츄리닝 운동복 트레이닝복 3016 https://youtu.be/Cgd43AZz1Ww PreciousU 폴로\n"
     ]
    },
    {
     "name": "stderr",
     "output_type": "stream",
     "text": [
      " 74%|███████▍  | 307/413 [04:03<01:15,  1.41it/s]"
     ]
    },
    {
     "name": "stdout",
     "output_type": "stream",
     "text": [
      "306 [RL] 폴로 랄프로렌 ◤맨해튼튜브◢ https://youtu.be/nMwScHb_9B8 맨해튼튜브 폴로\n"
     ]
    },
    {
     "name": "stderr",
     "output_type": "stream",
     "text": [
      " 75%|███████▍  | 308/413 [04:04<01:14,  1.42it/s]"
     ]
    },
    {
     "name": "stdout",
     "output_type": "stream",
     "text": [
      "307 #라코스테 폴로셔츠의 헤리티지를 기념하는 팝업 스토어에서 하이컷에 인사를 건넨 셀럽은 몇 명? https://youtu.be/C8Z64NKG7-o HIGHCUTV 폴로\n"
     ]
    },
    {
     "name": "stderr",
     "output_type": "stream",
     "text": [
      " 75%|███████▍  | 309/413 [04:04<01:12,  1.43it/s]"
     ]
    },
    {
     "name": "stdout",
     "output_type": "stream",
     "text": [
      "308 폴로가디건 10일동안 돌려입기💙                           #폴로 #폴로가디건 #ootd #출근룩 https://youtu.be/2MC5f_bdMGE 요니 yoni 폴로\n"
     ]
    },
    {
     "name": "stderr",
     "output_type": "stream",
     "text": [
      " 75%|███████▌  | 310/413 [04:05<01:12,  1.42it/s]"
     ]
    },
    {
     "name": "stdout",
     "output_type": "stream",
     "text": [
      "309 폴로반바지 추천 판매순위 Top10 || 가격 평점 후기 비교 https://youtu.be/wSxN60TotYw&pp 하나쇼핑 폴로\n"
     ]
    },
    {
     "name": "stderr",
     "output_type": "stream",
     "text": [
      " 75%|███████▌  | 311/413 [04:06<01:15,  1.35it/s]"
     ]
    },
    {
     "name": "stdout",
     "output_type": "stream",
     "text": [
      "310 1/21 빈티지샵 옷집 신상 업로드 완료 :) #shorts #빈티지샵 #폴로니트 #폴로가디건 #폴로코디 https://youtu.be/Oz45CaYAcE0 옷;집 폴로\n"
     ]
    },
    {
     "name": "stderr",
     "output_type": "stream",
     "text": [
      " 76%|███████▌  | 312/413 [04:07<01:17,  1.31it/s]"
     ]
    },
    {
     "name": "stdout",
     "output_type": "stream",
     "text": [
      "311 여자 연예인 폴로 셔츠 스타일링#shorts#poloralphlauren https://youtu.be/WLs3SbKeeOU 언니들의패션 Her Style 폴로\n"
     ]
    },
    {
     "name": "stderr",
     "output_type": "stream",
     "text": [
      " 76%|███████▌  | 313/413 [04:08<01:20,  1.24it/s]"
     ]
    },
    {
     "name": "stdout",
     "output_type": "stream",
     "text": [
      "312 오피스 레이디 니트 폴로 넥 긴팔 블라우스, 페이크 투피스 스트라이프 프린트 셔츠, 봄 가을 패션, 여성 의류 https://youtu.be/657V3A-G2iM 모이모이스토어 폴로\n"
     ]
    },
    {
     "name": "stderr",
     "output_type": "stream",
     "text": [
      " 76%|███████▌  | 314/413 [04:09<01:24,  1.17it/s]"
     ]
    },
    {
     "name": "stdout",
     "output_type": "stream",
     "text": [
      "313 #마리가간다 '폴로 랄프 로렌' 행사 현장에 참석한 aespa 윈터, THE BOYZ 큐, 배우 전소니 그리고 NCT 마크, Billlie 츠키, 배우 홍경 https://youtu.be/Yd4j1RLY9SM Marie Claire Korea 폴로\n"
     ]
    },
    {
     "name": "stderr",
     "output_type": "stream",
     "text": [
      " 76%|███████▋  | 315/413 [04:09<01:22,  1.19it/s]"
     ]
    },
    {
     "name": "stdout",
     "output_type": "stream",
     "text": [
      "314 #폴로 #코듀로이 #자켓 으로 이구역 힙함 정점 찍고온 썰🧡 https://youtu.be/agFU4Glg744 유자츄 yujachu 🐣 폴로\n"
     ]
    },
    {
     "name": "stderr",
     "output_type": "stream",
     "text": [
      " 77%|███████▋  | 316/413 [04:10<01:19,  1.22it/s]"
     ]
    },
    {
     "name": "stdout",
     "output_type": "stream",
     "text": [
      "315 아디다스 파이어버드 져지#아디다스#파이어버드#져지트랙탑 #나이키#폴로 #타미#바시티#올드스쿨#본빈티지 https://youtu.be/atIeJBsRp1M life is dynamite라이프파티 폴로\n"
     ]
    },
    {
     "name": "stderr",
     "output_type": "stream",
     "text": [
      " 77%|███████▋  | 317/413 [04:11<01:16,  1.25it/s]"
     ]
    },
    {
     "name": "stdout",
     "output_type": "stream",
     "text": [
      "316 4주년 🌪️ / Polo G - Through da Storm [가사해석] https://youtu.be/_iPH8dtbUlc&pp 스노비 폴로\n"
     ]
    },
    {
     "name": "stderr",
     "output_type": "stream",
     "text": [
      " 77%|███████▋  | 318/413 [04:12<01:13,  1.28it/s]"
     ]
    },
    {
     "name": "stdout",
     "output_type": "stream",
     "text": [
      "317 무동력팬 마르코폴로 tcf 제품출시기념 | 선착순  5대 20만원 할인판매 #무동력팬 #캠핑용품 #동계캠핑 #등유난로 https://youtu.be/Y3OEZ6xG7PA&pp 파파스캠핑 폴로\n"
     ]
    },
    {
     "name": "stderr",
     "output_type": "stream",
     "text": [
      " 77%|███████▋  | 319/413 [04:12<01:12,  1.30it/s]"
     ]
    },
    {
     "name": "stdout",
     "output_type": "stream",
     "text": [
      "318 페이커가 전하는 스포츠맨십의 가치 (Faker's Made-to-Measure With Polo Ralph Lauren) https://youtu.be/evJ-LM81Ysg&pp GQ KOREA 폴로\n"
     ]
    },
    {
     "name": "stderr",
     "output_type": "stream",
     "text": [
      " 77%|███████▋  | 320/413 [04:13<01:09,  1.35it/s]"
     ]
    },
    {
     "name": "stdout",
     "output_type": "stream",
     "text": [
      "319 오늘의 출근룩 #ootd #가방추천 #폴로 #헌터부츠 #레인부츠 #shorts https://youtu.be/aHrzkgt7oh0 플로키모닝 plokimorning 폴로\n"
     ]
    },
    {
     "name": "stderr",
     "output_type": "stream",
     "text": [
      " 78%|███████▊  | 321/413 [04:14<01:04,  1.43it/s]"
     ]
    },
    {
     "name": "stdout",
     "output_type": "stream",
     "text": [
      "320 번아웃 온 4년차 중고신입 직장인 VLOG. 폴로 중독자 일주일 출근룩. 주말 한남동 코스 (레에스티우, 바부, 더바넷, 문달). 올랜드 보부상 가방 haul https://youtu.be/ujL3WJIC_2w&pp 지뭠 폴로\n"
     ]
    },
    {
     "name": "stderr",
     "output_type": "stream",
     "text": [
      " 78%|███████▊  | 322/413 [04:14<01:04,  1.42it/s]"
     ]
    },
    {
     "name": "stdout",
     "output_type": "stream",
     "text": [
      "321 라코스테 폴로 컬렉션의 역사를 한 자리에 🙊 라코스테 하우스 헤리티지를 기념하는 'LACOSTE 1933' 팝업 스토어 오픈! https://youtu.be/wH1gFFcFsPk&pp WWD KOREA 폴로\n"
     ]
    },
    {
     "name": "stderr",
     "output_type": "stream",
     "text": [
      " 78%|███████▊  | 323/413 [04:15<01:02,  1.44it/s]"
     ]
    },
    {
     "name": "stdout",
     "output_type": "stream",
     "text": [
      "322 5가지 daily lookbook😎 #fashion #shorts #ootd #데일리룩 #여름룩북 #폴로랄프로렌 #린넨 #트위드자켓 #다이어터 #통뼈 https://youtu.be/7sOd5D7fCrU 조무드  Jomood 폴로\n"
     ]
    },
    {
     "name": "stderr",
     "output_type": "stream",
     "text": [
      " 78%|███████▊  | 324/413 [04:16<01:01,  1.44it/s]"
     ]
    },
    {
     "name": "stdout",
     "output_type": "stream",
     "text": [
      "323 남성폴로정품셔츠 *새수준* 2만원 문자문의 센스빈티지구제 010 4288 6775~ https://youtu.be/gHU7agnTe6w 센스빈티지구제 폴로\n"
     ]
    },
    {
     "name": "stderr",
     "output_type": "stream",
     "text": [
      " 79%|███████▊  | 325/413 [04:16<00:59,  1.49it/s]"
     ]
    },
    {
     "name": "stdout",
     "output_type": "stream",
     "text": [
      "324 명현만 폴로다레드 복싱 스파링 https://youtu.be/S8HaLCz1jVg 명현만 MYUNG HYUN MAN 폴로\n"
     ]
    },
    {
     "name": "stderr",
     "output_type": "stream",
     "text": [
      " 79%|███████▉  | 326/413 [04:17<00:56,  1.54it/s]"
     ]
    },
    {
     "name": "stdout",
     "output_type": "stream",
     "text": [
      "325 에스파 윈터 '허리가 돋보이는 봄옷 입은 겨울이' (aespa WINTER)｜폴로 랄프 로렌 출퇴근길 240509 https://youtu.be/f_AP1OwxxFs&pp Spinel CAM 폴로\n"
     ]
    },
    {
     "name": "stderr",
     "output_type": "stream",
     "text": [
      " 79%|███████▉  | 327/413 [04:18<00:54,  1.59it/s]"
     ]
    },
    {
     "name": "stdout",
     "output_type": "stream",
     "text": [
      "326 폭스바겐폴로1.4실차주 리뷰후기1편 https://youtu.be/8esAmSFsJ0M&pp 건티지 폴로\n"
     ]
    },
    {
     "name": "stderr",
     "output_type": "stream",
     "text": [
      " 79%|███████▉  | 328/413 [04:18<00:50,  1.67it/s]"
     ]
    },
    {
     "name": "stdout",
     "output_type": "stream",
     "text": [
      "327 12/24 신상 업로드 완료 :) #shorts #폴로니트 #폴로자켓 #노스페이스 #빈티지쇼핑몰 #구제쇼핑몰 https://youtu.be/PNkEcpsoXQg 옷;집 폴로\n"
     ]
    },
    {
     "name": "stderr",
     "output_type": "stream",
     "text": [
      " 80%|███████▉  | 329/413 [04:19<00:51,  1.65it/s]"
     ]
    },
    {
     "name": "stdout",
     "output_type": "stream",
     "text": [
      "328 70% 세일 모음 - 랄프로렌 폴로, 스톤 맨투맨 25만원, 아미 빅하트 가디건, 톰브라운, 뉴발996v2 9.8만원, 아크테릭스 베타 자켓, 아디다스 X 웨일스보너, 폴스미스 https://youtu.be/-1CZWyT8y1A&pp 직구정보통 폴로\n"
     ]
    },
    {
     "name": "stderr",
     "output_type": "stream",
     "text": [
      " 80%|███████▉  | 330/413 [04:19<00:50,  1.64it/s]"
     ]
    },
    {
     "name": "stdout",
     "output_type": "stream",
     "text": [
      "329 폴로린넨셔츠 추천 판매순위 Top10 || 가격 평점 후기 비교 https://youtu.be/NiIa8r6GYxQ&pp 어바웃쇼핑 폴로\n"
     ]
    },
    {
     "name": "stderr",
     "output_type": "stream",
     "text": [
      " 80%|████████  | 331/413 [04:20<00:51,  1.60it/s]"
     ]
    },
    {
     "name": "stdout",
     "output_type": "stream",
     "text": [
      "330 아...내..지갑..(은 훼이크) 드롭마이 #폴로 #랄프로렌 #스니커즈 #럭셔리 https://youtu.be/kvnB7w7NtXE 롯데홈쇼핑 롯튜브  폴로\n"
     ]
    },
    {
     "name": "stderr",
     "output_type": "stream",
     "text": [
      " 80%|████████  | 332/413 [04:21<00:50,  1.60it/s]"
     ]
    },
    {
     "name": "stdout",
     "output_type": "stream",
     "text": [
      "331 #shorts 12/06 신상 업로드 완료 #빈티지샵 #구제샵 #폴로 #폴로니트 https://youtu.be/ujjTCb7I1Ts 옷;집 폴로\n"
     ]
    },
    {
     "name": "stderr",
     "output_type": "stream",
     "text": [
      " 81%|████████  | 333/413 [04:21<00:48,  1.66it/s]"
     ]
    },
    {
     "name": "stdout",
     "output_type": "stream",
     "text": [
      "332 폴로반팔티 추천 판매순위 Top10 || 가격 평점 후기 비교 https://youtu.be/Fa7c98yyMZc&pp 어바웃쇼핑 폴로\n"
     ]
    },
    {
     "name": "stderr",
     "output_type": "stream",
     "text": [
      " 81%|████████  | 334/413 [04:22<00:45,  1.74it/s]"
     ]
    },
    {
     "name": "stdout",
     "output_type": "stream",
     "text": [
      "333 랄프로렌 폴로 70% + 20%, 라코스테 맨투맨 7.2만원. 아미 빅하트 가디건 28만원, 버버리 스카프 17.4만원, 우영미 백로고 맨투맨 관부가세안, 바이레도, 딥티크 향수 https://youtu.be/38wTmkdP5sI&pp 직구정보통 폴로\n"
     ]
    },
    {
     "name": "stderr",
     "output_type": "stream",
     "text": [
      " 81%|████████  | 335/413 [04:22<00:50,  1.54it/s]"
     ]
    },
    {
     "name": "stdout",
     "output_type": "stream",
     "text": [
      "334 2023 여자 폴로 코디🧸 https://youtu.be/vq5J5zMU0_A 옷걸이 폴로\n"
     ]
    },
    {
     "name": "stderr",
     "output_type": "stream",
     "text": [
      " 81%|████████▏ | 336/413 [04:23<00:50,  1.52it/s]"
     ]
    },
    {
     "name": "stdout",
     "output_type": "stream",
     "text": [
      "335 https://m.smartstore.naver.com/dlmemo #폴로 #폴로랄프로렌 #shortvideo #가디건 #가디건코디 #간절기룩 #추석 #추석선물 https://youtu.be/70srNE7OUQI 폴인몬스터스 폴로\n"
     ]
    },
    {
     "name": "stderr",
     "output_type": "stream",
     "text": [
      " 82%|████████▏ | 337/413 [04:24<00:47,  1.59it/s]"
     ]
    },
    {
     "name": "stdout",
     "output_type": "stream",
     "text": [
      "336 폴로다레드 최상현 야차클럽 ㅋㅋㅋㅋㅋㅋㅋ https://youtu.be/Le8_c3VlGD0 앤원 폴로\n"
     ]
    },
    {
     "name": "stderr",
     "output_type": "stream",
     "text": [
      " 82%|████████▏ | 338/413 [04:24<00:47,  1.59it/s]"
     ]
    },
    {
     "name": "stdout",
     "output_type": "stream",
     "text": [
      "337 153cm의 메종키츠네, 폴로 티셔츠 사이즈 & 코디 팁! https://youtu.be/frbUDqlez38 m ! n i - f i 미니파이 폴로\n"
     ]
    },
    {
     "name": "stderr",
     "output_type": "stream",
     "text": [
      " 82%|████████▏ | 339/413 [04:25<00:48,  1.54it/s]"
     ]
    },
    {
     "name": "stdout",
     "output_type": "stream",
     "text": [
      "338 Making memories with The Mercedes-Benz Marco Polo - Mercedes-Benz South West https://youtu.be/8oyVUkLyoOU&pp Mercedes-Benz South West 폴로\n"
     ]
    },
    {
     "name": "stderr",
     "output_type": "stream",
     "text": [
      " 82%|████████▏ | 340/413 [04:26<00:48,  1.52it/s]"
     ]
    },
    {
     "name": "stdout",
     "output_type": "stream",
     "text": [
      "339 폴로 랄프로렌 자켓 소매기장줄임 수선 #옷수선#수선#리폼#자켓소매수선#폴로 https://youtu.be/3xXn_Pw-HVU 바지단 폴로\n"
     ]
    },
    {
     "name": "stderr",
     "output_type": "stream",
     "text": [
      " 83%|████████▎ | 341/413 [04:26<00:47,  1.51it/s]"
     ]
    },
    {
     "name": "stdout",
     "output_type": "stream",
     "text": [
      "340 직장인브이로그. 한남동 카페 추천. 런던베이글. 연말 쇼핑 언박싱. 코스. 폴로. 메종마르지엘라. 르917. 던스트. 노티아. 낫띵리튼. 한올. 셀린느 . 블루브릭 . 투티에 https://youtu.be/t8B21DrC7SQ&pp sun_유선 폴로\n"
     ]
    },
    {
     "name": "stderr",
     "output_type": "stream",
     "text": [
      " 83%|████████▎ | 342/413 [04:27<00:43,  1.62it/s]"
     ]
    },
    {
     "name": "stdout",
     "output_type": "stream",
     "text": [
      "341 폴로반바지 추천 판매순위 Top10 || 가격 평점 후기 비교 https://youtu.be/w6y4U3vm1wQ&pp 무무튜브 폴로\n"
     ]
    },
    {
     "name": "stderr",
     "output_type": "stream",
     "text": [
      " 83%|████████▎ | 343/413 [04:28<00:48,  1.44it/s]"
     ]
    },
    {
     "name": "stdout",
     "output_type": "stream",
     "text": [
      "342 폴로후드집업 추천 판매순위 Top10 || 가격 평점 후기 비교 https://youtu.be/V61wwyc_M50&pp 별이 빛나는 쇼핑 폴로\n"
     ]
    },
    {
     "name": "stderr",
     "output_type": "stream",
     "text": [
      " 83%|████████▎ | 344/413 [04:29<00:49,  1.39it/s]"
     ]
    },
    {
     "name": "stdout",
     "output_type": "stream",
     "text": [
      "343 [메이플스토리 맑음] 폴로 프리토 불꽃늑대 효율 총정리! / 룬 + 현상금 주기가 계속 밀리는 이유 / 고인물도 잘 모를 수 있는 각종 꿀팁 정보 정리 https://youtu.be/8ZeI6bmfXKU&pp 메이플스토리맑음 폴로\n"
     ]
    },
    {
     "name": "stderr",
     "output_type": "stream",
     "text": [
      " 84%|████████▎ | 345/413 [04:29<00:45,  1.48it/s]"
     ]
    },
    {
     "name": "stdout",
     "output_type": "stream",
     "text": [
      "344 여름니트를 시작해보세요! 시작을 반팔니트로! (니트폴로, 카라 니트) (베르노 by 테너리, 존스메들리, 윌리엄로키, 프루이) https://youtu.be/3VCu5ystBVU&pp 나틀맨-NATLEMAN 폴로\n"
     ]
    },
    {
     "name": "stderr",
     "output_type": "stream",
     "text": [
      " 84%|████████▍ | 346/413 [04:30<00:43,  1.55it/s]"
     ]
    },
    {
     "name": "stdout",
     "output_type": "stream",
     "text": [
      "345 🆗사다구몰 63번 폴로커스텀 100사이즈 가단54cm 판매가 15000원 https://youtu.be/D4moHl1M6AI 싸다구몰 폴로\n"
     ]
    },
    {
     "name": "stderr",
     "output_type": "stream",
     "text": [
      " 84%|████████▍ | 347/413 [04:30<00:40,  1.62it/s]"
     ]
    },
    {
     "name": "stdout",
     "output_type": "stream",
     "text": [
      "346 [ 엘피다 ] 나이키 폴로 쇼비뇽 등등 신상부터 달려보아요 #라방 #라이브방송 https://youtu.be/ngxfco2H7hA&pp 엘피다 폴로\n"
     ]
    },
    {
     "name": "stderr",
     "output_type": "stream",
     "text": [
      " 84%|████████▍ | 348/413 [04:31<00:39,  1.66it/s]"
     ]
    },
    {
     "name": "stdout",
     "output_type": "stream",
     "text": [
      "347 VLOG 직장인 브이로그 | 𝑾𝒊𝒏𝒕𝒆𝒓 출근룩❄️던스트.폴로.원로그.락피쉬 | 겨울 머플러 추천🧣(+구독자 이벤트🎁) | 연말 회식✨ https://youtu.be/xrRzC52LtGs&pp 바이올렛 Violet 폴로\n"
     ]
    },
    {
     "name": "stderr",
     "output_type": "stream",
     "text": [
      " 85%|████████▍ | 349/413 [04:31<00:36,  1.75it/s]"
     ]
    },
    {
     "name": "stdout",
     "output_type": "stream",
     "text": [
      "348 가위바위보 진사람 타투 박기 (Feat. 폴로다레드, 민우킴) https://youtu.be/iuFsHQM2l5U&pp 류정란 폴로\n"
     ]
    },
    {
     "name": "stderr",
     "output_type": "stream",
     "text": [
      " 85%|████████▍ | 350/413 [04:32<00:34,  1.82it/s]"
     ]
    },
    {
     "name": "stdout",
     "output_type": "stream",
     "text": [
      "349 스트라이프 폴로셔츠와 시어서커 자켓 활용 여름 남자 출근룩 https://youtu.be/96gZBiZXyw4 비캐루키 폴로\n"
     ]
    },
    {
     "name": "stderr",
     "output_type": "stream",
     "text": [
      " 85%|████████▍ | 351/413 [04:32<00:34,  1.82it/s]"
     ]
    },
    {
     "name": "stdout",
     "output_type": "stream",
     "text": [
      "350 #폴로 #폴로반팔티 #폴로코디 #폴로티셔츠 https://youtu.be/9zDfHv81DN0 블랑 폴로\n"
     ]
    },
    {
     "name": "stderr",
     "output_type": "stream",
     "text": [
      " 85%|████████▌ | 352/413 [04:33<00:37,  1.61it/s]"
     ]
    },
    {
     "name": "stdout",
     "output_type": "stream",
     "text": [
      "351 남자 겨울 코트 코디❄️ #아크네스튜디오 #폴로 #폴로랄프로렌 #아디다스 #자라하울 #겨울코디 #코트코디 #shorts #ootd #grwm #dailylook https://youtu.be/zQtCnIkCGaM 혁삼이 HYUK32 폴로\n"
     ]
    },
    {
     "name": "stderr",
     "output_type": "stream",
     "text": [
      " 85%|████████▌ | 353/413 [04:34<00:38,  1.54it/s]"
     ]
    },
    {
     "name": "stdout",
     "output_type": "stream",
     "text": [
      "352 폴로반팔티셔츠 추천 판매순위 Top10 || 가격 평점 후기 비교 https://youtu.be/9oVMdbvpJnU&pp 쇼핑헬퍼 폴로\n"
     ]
    },
    {
     "name": "stderr",
     "output_type": "stream",
     "text": [
      " 86%|████████▌ | 354/413 [04:35<00:38,  1.53it/s]"
     ]
    },
    {
     "name": "stdout",
     "output_type": "stream",
     "text": [
      "353 미국폴로 아울렛에서 옷 한벌에 만오천원도 안한다고 풀영상은 채널에 있어요 ~ 드르와 드르와 #미국 #미국일상 #육아 #쇼핑 #폴로 #아울렛 #shorts #국제커플 https://youtu.be/wm77JNOnPVg 더블랙패밀리 폴로\n"
     ]
    },
    {
     "name": "stderr",
     "output_type": "stream",
     "text": [
      " 86%|████████▌ | 355/413 [04:35<00:36,  1.60it/s]"
     ]
    },
    {
     "name": "stdout",
     "output_type": "stream",
     "text": [
      "354 💛피아제 신제품 폴로 필드 워치 x 이준호 캠페인 영상💛 #이준호 #Piaget #shorts https://youtu.be/2UjnNThw4B8 Giant_Tree  폴로\n"
     ]
    },
    {
     "name": "stderr",
     "output_type": "stream",
     "text": [
      " 86%|████████▌ | 356/413 [04:36<00:34,  1.64it/s]"
     ]
    },
    {
     "name": "stdout",
     "output_type": "stream",
     "text": [
      "355 Ralph Lauren Polo 67 https://youtu.be/Zivfiabn2kM&pp Andrés Perfume-Man 폴로\n"
     ]
    },
    {
     "name": "stderr",
     "output_type": "stream",
     "text": [
      " 86%|████████▋ | 357/413 [04:36<00:36,  1.56it/s]"
     ]
    },
    {
     "name": "stdout",
     "output_type": "stream",
     "text": [
      "356 폴로다레드는 이하늘을 춤추게해 #이하늘 #shorts https://youtu.be/a0QoiQNJlvU 이하늘의 예쎼쑈 폴로\n"
     ]
    },
    {
     "name": "stderr",
     "output_type": "stream",
     "text": [
      " 87%|████████▋ | 358/413 [04:37<00:36,  1.52it/s]"
     ]
    },
    {
     "name": "stdout",
     "output_type": "stream",
     "text": [
      "357 \"130KG 거구\"와 복싱스파링 했습니다.(폴로다레드) https://youtu.be/9R2JpZydhYA&pp 명현만 MYUNG HYUN MAN 폴로\n"
     ]
    },
    {
     "name": "stderr",
     "output_type": "stream",
     "text": [
      " 87%|████████▋ | 359/413 [04:38<00:35,  1.51it/s]"
     ]
    },
    {
     "name": "stdout",
     "output_type": "stream",
     "text": [
      "358 피아제 코리아 앰버서더 이준호가 선보이는 피아제 폴로 필드 워치💛 #이준호  #Piaget #shorts https://youtu.be/ilj8MqLF-zo Giant_Tree  폴로\n"
     ]
    },
    {
     "name": "stderr",
     "output_type": "stream",
     "text": [
      " 87%|████████▋ | 360/413 [04:38<00:34,  1.55it/s]"
     ]
    },
    {
     "name": "stdout",
     "output_type": "stream",
     "text": [
      "359 230619 YANGHONGWON - Polo (Paris) | 양홍원 - Polo (파리) https://youtu.be/g_F55Z5gTJg&pp oc3zj 폴로\n"
     ]
    },
    {
     "name": "stderr",
     "output_type": "stream",
     "text": [
      " 87%|████████▋ | 361/413 [04:39<00:32,  1.59it/s]"
     ]
    },
    {
     "name": "stdout",
     "output_type": "stream",
     "text": [
      "360 2024 폭스바겐 폴로 - 인상적인 소형차 https://youtu.be/ixqA4dJJ3Io&pp GoCars 폴로\n"
     ]
    },
    {
     "name": "stderr",
     "output_type": "stream",
     "text": [
      " 88%|████████▊ | 362/413 [04:40<00:35,  1.46it/s]"
     ]
    },
    {
     "name": "stdout",
     "output_type": "stream",
     "text": [
      "361 톰브라운 남성 트리밍 니트 폴로 반팔 티셔츠 (라이트그레이) MKP084A Y3017 055  @the_grande   #thombrowne https://youtu.be/TivlsZ5uv1A 더그란데 폴로\n"
     ]
    },
    {
     "name": "stderr",
     "output_type": "stream",
     "text": [
      " 88%|████████▊ | 363/413 [04:40<00:33,  1.50it/s]"
     ]
    },
    {
     "name": "stdout",
     "output_type": "stream",
     "text": [
      "362 9개월 아기와 피크닉 w폴로랄프로렌칠드런 https://youtu.be/nrb6sC_nGU8 베리뭄 VERYMOOM 폴로\n"
     ]
    },
    {
     "name": "stderr",
     "output_type": "stream",
     "text": [
      " 88%|████████▊ | 364/413 [04:41<00:30,  1.59it/s]"
     ]
    },
    {
     "name": "stdout",
     "output_type": "stream",
     "text": [
      "363 여름에도 폴로는 포기 못하지! #콜렉티브 #폴로셔츠 #폴로 https://youtu.be/F6JPRUU1_U8 새부리 폴로\n"
     ]
    },
    {
     "name": "stderr",
     "output_type": "stream",
     "text": [
      " 88%|████████▊ | 365/413 [04:41<00:28,  1.66it/s]"
     ]
    },
    {
     "name": "stdout",
     "output_type": "stream",
     "text": [
      "364 에스파 윈터 요트 위에 금발 여신 폴로 랄프 로렌 #winter #aespa https://youtu.be/f75DEaQoVpk Spinel CAM 폴로\n"
     ]
    },
    {
     "name": "stderr",
     "output_type": "stream",
     "text": [
      " 89%|████████▊ | 366/413 [04:42<00:26,  1.76it/s]"
     ]
    },
    {
     "name": "stdout",
     "output_type": "stream",
     "text": [
      "365 폴로 반팔티로 일주일 커플룩 코디하기 #커플룩 #폴로 https://youtu.be/7Zu1ajgcjdE 크로켓 - 전세계 커넥팅 쇼핑 폴로\n"
     ]
    },
    {
     "name": "stderr",
     "output_type": "stream",
     "text": [
      " 89%|████████▉ | 367/413 [04:43<00:25,  1.78it/s]"
     ]
    },
    {
     "name": "stdout",
     "output_type": "stream",
     "text": [
      "366 폴로 행사에서 연예인들 앞에서 옷자랑 하는 페이커 #t1 #faker #페이커 #폴로랄프로렌 #몬스타엑스 #박보영 #피식대학 #류준열 https://youtu.be/o8CmRVPJeNw 백아 폴로\n"
     ]
    },
    {
     "name": "stderr",
     "output_type": "stream",
     "text": [
      " 89%|████████▉ | 368/413 [04:44<00:35,  1.27it/s]"
     ]
    },
    {
     "name": "stdout",
     "output_type": "stream",
     "text": [
      "367 아디다스 파이어버드 져지#아디다스#파이어버드#져지트랙탑 #나이키#폴로 #타미#바시티#올드스쿨#본빈티지 https://youtu.be/Ld_9bqy5rBk life is dynamite라이프파티 폴로\n"
     ]
    },
    {
     "name": "stderr",
     "output_type": "stream",
     "text": [
      " 89%|████████▉ | 369/413 [04:45<00:37,  1.16it/s]"
     ]
    },
    {
     "name": "stdout",
     "output_type": "stream",
     "text": [
      "368 POLO & PAN — Odyssey (The Mixtape) https://youtu.be/C9k0_rNyK-E&pp Polo & Pan 폴로\n"
     ]
    },
    {
     "name": "stderr",
     "output_type": "stream",
     "text": [
      " 90%|████████▉ | 370/413 [04:45<00:34,  1.26it/s]"
     ]
    },
    {
     "name": "stdout",
     "output_type": "stream",
     "text": [
      "369 #다이소깡2탄#떡상떡상떡상#마이쮸#탑로탑#폴로#관리자 잘생김 https://youtu.be/_jXLD8gUq8E 비리 폴로\n"
     ]
    },
    {
     "name": "stderr",
     "output_type": "stream",
     "text": [
      " 90%|████████▉ | 371/413 [04:46<00:30,  1.36it/s]"
     ]
    },
    {
     "name": "stdout",
     "output_type": "stream",
     "text": [
      "370 인간폴로 할 수 있나…  ootd https://youtu.be/klXo5ajjTV4 제 2의 삶 Jay’s Life 폴로\n"
     ]
    },
    {
     "name": "stderr",
     "output_type": "stream",
     "text": [
      " 90%|█████████ | 372/413 [04:47<00:27,  1.47it/s]"
     ]
    },
    {
     "name": "stdout",
     "output_type": "stream",
     "text": [
      "371 폴로 로고가 다 한 코디🤗 https://youtu.be/Luyk9T_JaoU 오로라 Aurora 폴로\n"
     ]
    },
    {
     "name": "stderr",
     "output_type": "stream",
     "text": [
      " 90%|█████████ | 373/413 [04:47<00:27,  1.46it/s]"
     ]
    },
    {
     "name": "stdout",
     "output_type": "stream",
     "text": [
      "372 6명의 아티스와 함께한 라코스테 폴로셔츠 https://youtu.be/tD1tbFG0ZI0 First Magazine 폴로\n"
     ]
    },
    {
     "name": "stderr",
     "output_type": "stream",
     "text": [
      " 91%|█████████ | 374/413 [04:48<00:24,  1.62it/s]"
     ]
    },
    {
     "name": "stdout",
     "output_type": "stream",
     "text": [
      "373 폴로 반팔 가디건 사이즈별로 입어봤어요! #shorts #폴로 #poloralphlauren #폴로랄프로렌 #폴로니트 https://youtu.be/StWLW_c-d2k 째알라의 패션로그 폴로\n"
     ]
    },
    {
     "name": "stderr",
     "output_type": "stream",
     "text": [
      " 91%|█████████ | 375/413 [04:48<00:22,  1.70it/s]"
     ]
    },
    {
     "name": "stdout",
     "output_type": "stream",
     "text": [
      "374 23도 출근룩 , 폴로 원피스 꺼내입기 🩵 https://youtu.be/o4dAo-qetpU 이기리 폴로\n"
     ]
    },
    {
     "name": "stderr",
     "output_type": "stream",
     "text": [
      " 91%|█████████ | 376/413 [04:49<00:21,  1.69it/s]"
     ]
    },
    {
     "name": "stdout",
     "output_type": "stream",
     "text": [
      "375 폴로 다양한 데일리룩 모음 #폴로 #폴로랄프로렌 #폴로데일리룩 #polo #랄뽕 #데일리룩 #shorts https://youtu.be/MYn_TEXadwE 현기로운생활 폴로\n"
     ]
    },
    {
     "name": "stderr",
     "output_type": "stream",
     "text": [
      " 91%|█████████▏| 377/413 [04:50<00:21,  1.68it/s]"
     ]
    },
    {
     "name": "stdout",
     "output_type": "stream",
     "text": [
      "376 대한민국을 호구잡은 폴로 https://youtu.be/dUB3DjZStq4 오늘부터 회계사 폴로\n"
     ]
    },
    {
     "name": "stderr",
     "output_type": "stream",
     "text": [
      " 92%|█████████▏| 378/413 [04:50<00:20,  1.71it/s]"
     ]
    },
    {
     "name": "stdout",
     "output_type": "stream",
     "text": [
      "377 [왕자영요 캐퍼] 번개맨 마르코폴로 https://youtu.be/d_fqP-x2xKo&pp Honor of Kings 캐퍼 폴로\n"
     ]
    },
    {
     "name": "stderr",
     "output_type": "stream",
     "text": [
      " 92%|█████████▏| 379/413 [04:51<00:20,  1.70it/s]"
     ]
    },
    {
     "name": "stdout",
     "output_type": "stream",
     "text": [
      "378 231216 트레이비, 폴로다레드 - Trust Nobody, Batman, 화이팅, Real Talk, DDC & ME, 랄랄라 (외 3곡) @ DEM HITZ vol.6 https://youtu.be/JlZWStSj4M0&pp 삘인 IN DA HOUSE 폴로\n"
     ]
    },
    {
     "name": "stderr",
     "output_type": "stream",
     "text": [
      " 92%|█████████▏| 380/413 [04:51<00:19,  1.72it/s]"
     ]
    },
    {
     "name": "stdout",
     "output_type": "stream",
     "text": [
      "379 [동기의 방] 젊은 래퍼의 마음 아픈 이야기..(폴로다레드 편) https://youtu.be/ZlRTb6LleLc&pp 김모이 폴로\n"
     ]
    },
    {
     "name": "stderr",
     "output_type": "stream",
     "text": [
      " 92%|█████████▏| 381/413 [04:52<00:18,  1.77it/s]"
     ]
    },
    {
     "name": "stdout",
     "output_type": "stream",
     "text": [
      "380 폴로 하프 집업 니트 리뷰 (ENG SUB) https://youtu.be/8DMvo6v11Bw&pp 리뷰중 Reviewing 폴로\n"
     ]
    },
    {
     "name": "stderr",
     "output_type": "stream",
     "text": [
      " 92%|█████████▏| 382/413 [04:52<00:17,  1.77it/s]"
     ]
    },
    {
     "name": "stdout",
     "output_type": "stream",
     "text": [
      "381 #스타벅스노은점 #gooseberrylay&co#뉴스보이캡#폴로#랄프로렌#conversexcommedesgarcons##nixonrotolog#thenorthface#supreme https://youtu.be/JALPwR5gjaM 한광희 아무거나 올리는TV 폴로\n"
     ]
    },
    {
     "name": "stderr",
     "output_type": "stream",
     "text": [
      " 93%|█████████▎| 383/413 [04:53<00:17,  1.71it/s]"
     ]
    },
    {
     "name": "stdout",
     "output_type": "stream",
     "text": [
      "382 남자 폴로셔츠로 오버핏 출근룩 완성✨ https://youtu.be/h6BJmHkdTEg 심플선주 simplezoo 폴로\n"
     ]
    },
    {
     "name": "stderr",
     "output_type": "stream",
     "text": [
      " 93%|█████████▎| 384/413 [04:53<00:16,  1.76it/s]"
     ]
    },
    {
     "name": "stdout",
     "output_type": "stream",
     "text": [
      "383 우울한토요일출근룩 #30대패션 #40대패션  #폴로 #폴로랄프로렌 #반스 https://youtu.be/0-RWguPfnRs 비비드하네 폴로\n"
     ]
    },
    {
     "name": "stderr",
     "output_type": "stream",
     "text": [
      " 93%|█████████▎| 385/413 [04:54<00:16,  1.72it/s]"
     ]
    },
    {
     "name": "stdout",
     "output_type": "stream",
     "text": [
      "384 폴로로 연말룩 어떤데?🤍❤️ #christmas #ootd #polo #폴로 https://youtu.be/atVS5QO1qwo 만두렁 폴로\n"
     ]
    },
    {
     "name": "stderr",
     "output_type": "stream",
     "text": [
      " 93%|█████████▎| 386/413 [04:55<00:15,  1.75it/s]"
     ]
    },
    {
     "name": "stdout",
     "output_type": "stream",
     "text": [
      "385 폴로 랄프로렌 리셀로 2배 비싸게 파는 법 https://youtu.be/bHRSrwUg4Ik&pp 헬프맨 폴로\n"
     ]
    },
    {
     "name": "stderr",
     "output_type": "stream",
     "text": [
      " 94%|█████████▎| 387/413 [04:55<00:14,  1.76it/s]"
     ]
    },
    {
     "name": "stdout",
     "output_type": "stream",
     "text": [
      "386 Shop the BOSS Paddy Polo, a classic summer style from the German fashion brand https://youtu.be/3jazH0ET1zk Michael Stewart Menswear 폴로\n"
     ]
    },
    {
     "name": "stderr",
     "output_type": "stream",
     "text": [
      " 94%|█████████▍| 388/413 [04:56<00:14,  1.75it/s]"
     ]
    },
    {
     "name": "stdout",
     "output_type": "stream",
     "text": [
      "387 인간 폴로 그 잡채 https://youtu.be/pE8QkO2PMSs Issue Playlist 잇플리 폴로\n"
     ]
    },
    {
     "name": "stderr",
     "output_type": "stream",
     "text": [
      " 94%|█████████▍| 389/413 [04:56<00:13,  1.75it/s]"
     ]
    },
    {
     "name": "stdout",
     "output_type": "stream",
     "text": [
      "388 #폴로#택배가위개봉 https://youtu.be/91yImx5bYMg 지은 폴로\n"
     ]
    },
    {
     "name": "stderr",
     "output_type": "stream",
     "text": [
      " 94%|█████████▍| 390/413 [04:57<00:13,  1.77it/s]"
     ]
    },
    {
     "name": "stdout",
     "output_type": "stream",
     "text": [
      "389 24SS신상 미친 할인율 몽클레어 폴로셔츠 https://youtu.be/F90YVYKm9O8 실시간런던 폴로\n"
     ]
    },
    {
     "name": "stderr",
     "output_type": "stream",
     "text": [
      " 95%|█████████▍| 391/413 [04:58<00:12,  1.70it/s]"
     ]
    },
    {
     "name": "stdout",
     "output_type": "stream",
     "text": [
      "390 안효섭·이유미·이주빈·다니엘 헤니·유아, \"폴로 티셔츠 하나로 멋짐 가득\" l 'LACOSTE1933' PHOTOCALL [현장] https://youtu.be/7qV5VZtkN0E&pp 디스패치 / Dispatch 폴로\n"
     ]
    },
    {
     "name": "stderr",
     "output_type": "stream",
     "text": [
      " 95%|█████████▍| 392/413 [04:58<00:12,  1.75it/s]"
     ]
    },
    {
     "name": "stdout",
     "output_type": "stream",
     "text": [
      "391 \"130KG 거구\"와 복싱스파링 했습니다.(폴로다레드) https://youtu.be/9R2JpZydhYA&pp 명현만 MYUNG HYUN MAN 폴로\n"
     ]
    },
    {
     "name": "stderr",
     "output_type": "stream",
     "text": [
      " 95%|█████████▌| 393/413 [04:59<00:11,  1.81it/s]"
     ]
    },
    {
     "name": "stdout",
     "output_type": "stream",
     "text": [
      "392 폴로카라티 입고 비엔나 만들기 #shorts #폴로 #폴로랄프로렌 #아인슈페너 #수유카페 #개인카페브이로그 https://youtu.be/0uPD-7Fbl7I 성현이의 개인적인카페 폴로\n"
     ]
    },
    {
     "name": "stderr",
     "output_type": "stream",
     "text": [
      " 95%|█████████▌| 394/413 [04:59<00:10,  1.77it/s]"
     ]
    },
    {
     "name": "stdout",
     "output_type": "stream",
     "text": [
      "393 #폴로랄프로렌 #코디 #케이블니트 #쇼츠 https://youtu.be/ESomGyMR8HE 비욘드패션 폴로\n"
     ]
    },
    {
     "name": "stderr",
     "output_type": "stream",
     "text": [
      " 96%|█████████▌| 395/413 [05:00<00:09,  1.81it/s]"
     ]
    },
    {
     "name": "stdout",
     "output_type": "stream",
     "text": [
      "394 폴로키(FLOKI) 밈코인 대장 된다 심상치 않다 재단 물량 전부 소각 발표 도지 죽이고 개떡상 간다 #플로키코인 https://youtu.be/wyvlesRa1g0&pp 코인챔피온 폴로\n"
     ]
    },
    {
     "name": "stderr",
     "output_type": "stream",
     "text": [
      " 96%|█████████▌| 396/413 [05:00<00:09,  1.81it/s]"
     ]
    },
    {
     "name": "stdout",
     "output_type": "stream",
     "text": [
      "395 코디 필승템 폴로가디건 6만원대 구매 🐶꿀팁    #지그재그 #폴로 #가디건추천 #여자코디 #스타일 https://youtu.be/ISBYg-Nrj3o 또산니 폴로\n"
     ]
    },
    {
     "name": "stderr",
     "output_type": "stream",
     "text": [
      " 96%|█████████▌| 397/413 [05:01<00:09,  1.73it/s]"
     ]
    },
    {
     "name": "stdout",
     "output_type": "stream",
     "text": [
      "396 노인다육#폴로#2024 .4.2. https://youtu.be/-lsFhdfu6es 이애숙 폴로\n"
     ]
    },
    {
     "name": "stderr",
     "output_type": "stream",
     "text": [
      " 96%|█████████▋| 398/413 [05:01<00:08,  1.75it/s]"
     ]
    },
    {
     "name": "stdout",
     "output_type": "stream",
     "text": [
      "397 없어서 못 사는 폴로의 반품률은 얼마나 될까? https://youtu.be/A83t4bjqhwU 오늘부터 회계사 폴로\n"
     ]
    },
    {
     "name": "stderr",
     "output_type": "stream",
     "text": [
      " 97%|█████████▋| 399/413 [05:02<00:07,  1.79it/s]"
     ]
    },
    {
     "name": "stdout",
     "output_type": "stream",
     "text": [
      "398 폴로 랄프로렌 케이블 니트 착샷! 자세한 후기는 댓글링크 #폴로랄프로렌 #폴로 #폴로니트 #폴로랄프로렌니트 #여성니트 https://youtu.be/EXRx6K3Tk_0 째알라의 패션로그 폴로\n"
     ]
    },
    {
     "name": "stderr",
     "output_type": "stream",
     "text": [
      " 97%|█████████▋| 400/413 [05:03<00:07,  1.79it/s]"
     ]
    },
    {
     "name": "stdout",
     "output_type": "stream",
     "text": [
      "399 에디바우어 빅사이즈 폴로 셔츠 카라티를 소개 합니다!! (115,120호) #빅사이즈골프웨어 #빅사이즈등산복 https://youtu.be/QzkWmi_Jf9Q&pp 존스토어 폴로\n"
     ]
    },
    {
     "name": "stderr",
     "output_type": "stream",
     "text": [
      " 97%|█████████▋| 401/413 [05:03<00:06,  1.77it/s]"
     ]
    },
    {
     "name": "stdout",
     "output_type": "stream",
     "text": [
      "400 올해 가장 잘 팔린   폴로니트   오늘의 인기추천   BEST  ㅣ추천템ㅣ생활 꿀템ㅣ https://youtu.be/JOr1cHi2qMQ&pp 60초 아이쇼핑 폴로\n"
     ]
    },
    {
     "name": "stderr",
     "output_type": "stream",
     "text": [
      " 97%|█████████▋| 402/413 [05:04<00:06,  1.77it/s]"
     ]
    },
    {
     "name": "stdout",
     "output_type": "stream",
     "text": [
      "401 #창원 #폴로 #polo #매화꽃   #창원점polo  #커피한잔의여유 https://youtu.be/I70p4t3udIk 민수의오늘은 폴로\n"
     ]
    },
    {
     "name": "stderr",
     "output_type": "stream",
     "text": [
      " 98%|█████████▊| 403/413 [05:04<00:06,  1.60it/s]"
     ]
    },
    {
     "name": "stdout",
     "output_type": "stream",
     "text": [
      "402 (순삭주의) 폴로 미국 블프 세일 주문 성공했습니다! 팁 공유 - 따라해보아요 https://youtu.be/8_DPV0M2ig0&pp 직구왕 폴로\n"
     ]
    },
    {
     "name": "stderr",
     "output_type": "stream",
     "text": [
      " 98%|█████████▊| 404/413 [05:05<00:05,  1.60it/s]"
     ]
    },
    {
     "name": "stdout",
     "output_type": "stream",
     "text": [
      "403 폴로 니트ㅣ올드머니룩ㅣ직장인코디ㅣ봄 데일리룩ㅣ폴로니트 코디 https://youtu.be/ECu8DB5LkzQ 새벽별 폴로\n"
     ]
    },
    {
     "name": "stderr",
     "output_type": "stream",
     "text": [
      " 98%|█████████▊| 405/413 [05:06<00:06,  1.33it/s]"
     ]
    },
    {
     "name": "stdout",
     "output_type": "stream",
     "text": [
      "404 [T9 Marco Polo(ranked)] 랭크전 마르코폴로의 기묘한 모험. \"Hit-and-run\" https://youtu.be/2OMyC64rgxY&pp Ironsides_Warships Blitz 폴로\n"
     ]
    },
    {
     "name": "stderr",
     "output_type": "stream",
     "text": [
      " 98%|█████████▊| 406/413 [05:07<00:05,  1.23it/s]"
     ]
    },
    {
     "name": "stdout",
     "output_type": "stream",
     "text": [
      "405 일진녀 앞에서 고개숙인 남자... | [폴로다레드 X 밀크필름] 연기 연습 https://youtu.be/tb_rI2X8Vd8&pp dingo freestyle 폴로\n"
     ]
    },
    {
     "name": "stderr",
     "output_type": "stream",
     "text": [
      " 99%|█████████▊| 407/413 [05:08<00:04,  1.24it/s]"
     ]
    },
    {
     "name": "stdout",
     "output_type": "stream",
     "text": [
      "406 랄프로렌 폴로 타임 세일 구입 수월한 사이트, 아크테릭스 세일, 아디다스 추가 40%, 바나나리퍼블릭 면 반팔 1.9만원, 락포트 추가 29%, 이솝 25% https://youtu.be/fDFJH-dZh7I&pp 직구정보통 폴로\n"
     ]
    },
    {
     "name": "stderr",
     "output_type": "stream",
     "text": [
      " 99%|█████████▉| 408/413 [05:09<00:03,  1.29it/s]"
     ]
    },
    {
     "name": "stdout",
     "output_type": "stream",
     "text": [
      "407 [폴로맛 함뜨] 팔 늘림 마지막 /소매분리 https://youtu.be/65SSvpzhmN8&pp 히기킹 폴로\n"
     ]
    },
    {
     "name": "stderr",
     "output_type": "stream",
     "text": [
      " 99%|█████████▉| 409/413 [05:09<00:02,  1.34it/s]"
     ]
    },
    {
     "name": "stdout",
     "output_type": "stream",
     "text": [
      "408 vlog. 여름맞이 폰케이스 • 식물구입🌱 연남동/한남동 쇼핑 • 폴로 빈티지 • 어썸니즈모자 • 보닐라츄러스 • 데싱디바 https://youtu.be/YDlxJHhrzuU&pp 해딩HAEDING 폴로\n"
     ]
    },
    {
     "name": "stderr",
     "output_type": "stream",
     "text": [
      " 99%|█████████▉| 410/413 [05:10<00:02,  1.38it/s]"
     ]
    },
    {
     "name": "stdout",
     "output_type": "stream",
     "text": [
      "409 에스파 윈터 '요트 탄 폴로 여신' (aespa WINTER)｜폴로 랄프 로렌 240509 https://youtu.be/qQRFRNxj7_Q&pp Spinel CAM 폴로\n"
     ]
    },
    {
     "name": "stderr",
     "output_type": "stream",
     "text": [
      "100%|█████████▉| 411/413 [05:11<00:01,  1.45it/s]"
     ]
    },
    {
     "name": "stdout",
     "output_type": "stream",
     "text": [
      "410 #해외광고 #cf #폭스바겐 #shorts #폴로 https://youtu.be/FmIXodeMuAA 옛날티비박스 폴로\n"
     ]
    },
    {
     "name": "stderr",
     "output_type": "stream",
     "text": [
      "100%|█████████▉| 412/413 [05:11<00:00,  1.38it/s]"
     ]
    },
    {
     "name": "stdout",
     "output_type": "stream",
     "text": [
      "411 240509 엔시티 마크 폴로 행사 풀버전 #nct127 #mark https://youtu.be/AQgmekWY_QU&pp M. 폴로\n"
     ]
    },
    {
     "name": "stderr",
     "output_type": "stream",
     "text": [
      "100%|██████████| 413/413 [05:12<00:00,  1.32it/s]"
     ]
    },
    {
     "name": "stdout",
     "output_type": "stream",
     "text": [
      "412 [카이] 청바지에 폴로셔츠가 잘어울리는 남자❤ 190614 엑소 NR 더착한마음 영상모음 KAI Cut https://youtu.be/eBejnWFM-hk ONLYKAI 폴로\n"
     ]
    },
    {
     "name": "stderr",
     "output_type": "stream",
     "text": [
      "\n",
      "  0%|          | 1/580 [00:01<11:52,  1.23s/it]"
     ]
    },
    {
     "name": "stdout",
     "output_type": "stream",
     "text": [
      "0 마트에서 파는 폴로 랄프로렌 정품 가품 확인 (나이키, POLO, 타미... 모두 정품일까?) https://youtu.be/PBTlgVTuQVs&pp b급TV 폴로 랄프로렌\n"
     ]
    },
    {
     "name": "stderr",
     "output_type": "stream",
     "text": [
      "  0%|          | 2/580 [00:03<17:46,  1.85s/it]"
     ]
    },
    {
     "name": "stdout",
     "output_type": "stream",
     "text": [
      "1 폴로 랄프로렌 가품 확실한 구별법 (폴로 정품 짭 판별) https://youtu.be/fDS8aEif31M&pp b급TV 폴로 랄프로렌\n"
     ]
    },
    {
     "name": "stderr",
     "output_type": "stream",
     "text": [
      "  1%|          | 3/580 [00:05<16:53,  1.76s/it]"
     ]
    },
    {
     "name": "stdout",
     "output_type": "stream",
     "text": [
      "2 천년만년 입는 폴로 아이템. 폴로에서 이거는 필수템! 셔츠 위주 추천 https://youtu.be/i7WmGPuw-Bc&pp 배사임당BAESAIMDANG 폴로 랄프로렌\n"
     ]
    },
    {
     "name": "stderr",
     "output_type": "stream",
     "text": [
      "  1%|          | 4/580 [00:06<14:48,  1.54s/it]"
     ]
    },
    {
     "name": "stdout",
     "output_type": "stream",
     "text": [
      "3 랄프로렌 저렴하게 득템하고 싶으면 여기로! https://youtu.be/wukLZclJhOQ AkizStyle 아키즈스타일 폴로 랄프로렌\n"
     ]
    },
    {
     "name": "stderr",
     "output_type": "stream",
     "text": [
      "  1%|          | 5/580 [00:07<13:48,  1.44s/it]"
     ]
    },
    {
     "name": "stdout",
     "output_type": "stream",
     "text": [
      "4 올드머니 필수 브랜드들🧐 : 금수저 스타일? 폴로, 드파운드, bau by bride and you, 하나보, 미우미우 등 https://youtu.be/Jgrhnd0yWao&pp 유리아YuRia 폴로 랄프로렌\n"
     ]
    },
    {
     "name": "stderr",
     "output_type": "stream",
     "text": [
      "  1%|          | 6/580 [00:08<13:04,  1.37s/it]"
     ]
    },
    {
     "name": "stdout",
     "output_type": "stream",
     "text": [
      "5 패션 덕후가 확신으로 만든 패션왕국 #폴로 #폴로랄프로렌 #패션 #랄프로렌 Source✨: ralph lauren https://youtu.be/7sqZ_X9Od9M 피커Picker 폴로 랄프로렌\n"
     ]
    },
    {
     "name": "stderr",
     "output_type": "stream",
     "text": [
      "  1%|          | 7/580 [00:10<12:28,  1.31s/it]"
     ]
    },
    {
     "name": "stdout",
     "output_type": "stream",
     "text": [
      "6 #폴로니트 일주일 #데일리룩 ✨ #폴로 #랄프로렌 #데일리룩코디 #니트코디 #니트추천 #shorts #오오티디 #ootd https://youtu.be/J-l_ZPbD51g 민민 폴로 랄프로렌\n"
     ]
    },
    {
     "name": "stderr",
     "output_type": "stream",
     "text": [
      "  1%|▏         | 8/580 [00:11<14:22,  1.51s/it]"
     ]
    },
    {
     "name": "stdout",
     "output_type": "stream",
     "text": [
      "7 우리가 폴로에 진심인 \"진짜\" 이유 https://youtu.be/etqor2iEz6o&pp 오늘부터 회계사 폴로 랄프로렌\n"
     ]
    },
    {
     "name": "stderr",
     "output_type": "stream",
     "text": [
      "  2%|▏         | 9/580 [00:14<16:54,  1.78s/it]"
     ]
    },
    {
     "name": "stdout",
     "output_type": "stream",
     "text": [
      "8 꾸안꾸의 정석 로고 반팔티(메종키츠네,폴로랄프로렌) 코디 꿀팁 #shorts https://youtu.be/F76MgdLBnSA 데일리룸 dailyroom 폴로 랄프로렌\n"
     ]
    },
    {
     "name": "stderr",
     "output_type": "stream",
     "text": [
      "  2%|▏         | 10/580 [00:15<15:31,  1.63s/it]"
     ]
    },
    {
     "name": "stdout",
     "output_type": "stream",
     "text": [
      "9 폴로 랄프로렌 찰떡같이 소화한 에스파 윈터! https://youtu.be/XXRVweao35U 도래Dorae 폴로 랄프로렌\n"
     ]
    },
    {
     "name": "stderr",
     "output_type": "stream",
     "text": [
      "  2%|▏         | 11/580 [00:16<14:35,  1.54s/it]"
     ]
    },
    {
     "name": "stdout",
     "output_type": "stream",
     "text": [
      "10 폴로 직구 막힌거 아니였어?! https://youtu.be/Migi-Xi4bbw 쇼핑스, 해외라이브 쇼핑 플랫폼 폴로 랄프로렌\n"
     ]
    },
    {
     "name": "stderr",
     "output_type": "stream",
     "text": [
      "  2%|▏         | 12/580 [00:18<13:41,  1.45s/it]"
     ]
    },
    {
     "name": "stdout",
     "output_type": "stream",
     "text": [
      "11 유니클로U 와이드팬츠 리뷰 #르메르 #폴로 #랄프로렌 #요시다포터 #패션유튜버 https://youtu.be/I50ZV9QmF1w 말바지 폴로 랄프로렌\n"
     ]
    },
    {
     "name": "stderr",
     "output_type": "stream",
     "text": [
      "  2%|▏         | 13/580 [00:19<13:41,  1.45s/it]"
     ]
    },
    {
     "name": "stdout",
     "output_type": "stream",
     "text": [
      "12 🇺🇸 미국 폴로 최신가격 (23년 9월) 남자의류-  미국 아울렛 쇼핑 / 현지 가격은 얼마나 할까? POLO OUTLET https://youtu.be/Kjibw8coOCI&pp 캘리킴 CaliKim 폴로 랄프로렌\n"
     ]
    },
    {
     "name": "stderr",
     "output_type": "stream",
     "text": [
      "  2%|▏         | 14/580 [00:21<13:44,  1.46s/it]"
     ]
    },
    {
     "name": "stdout",
     "output_type": "stream",
     "text": [
      "13 🎯SNS에서 자꾸 물어봐서 가져왔다. 최근 자주 사용하는 여름 패션 아이템 12가지 | 아식스, 포터, 노스페이스, 폴로 랄프로렌, 리바이스, 지샥 https://youtu.be/0AoEK2kbR-k&pp 오늘의 주우재 폴로 랄프로렌\n"
     ]
    },
    {
     "name": "stderr",
     "output_type": "stream",
     "text": [
      "  3%|▎         | 15/580 [00:22<14:45,  1.57s/it]"
     ]
    },
    {
     "name": "stdout",
     "output_type": "stream",
     "text": [
      "14 폴로 랄프 로렌 수트를 입고 카메라 앞에 선 T1 (Polo Ralph Lauren 페이커 FAKER 제우스 ZEUS 오너 ONER 구마유시 GUMAYUSI 케리아 KERIA) https://youtu.be/ednJ6Tg7LuM&pp GQ KOREA 폴로 랄프로렌\n"
     ]
    },
    {
     "name": "stderr",
     "output_type": "stream",
     "text": [
      "  3%|▎         | 16/580 [00:24<15:27,  1.64s/it]"
     ]
    },
    {
     "name": "stdout",
     "output_type": "stream",
     "text": [
      "15 엠버서더로 예쁜 사진을 찍으러 왔습니다🥰📸 | aespa WINTER Polo Ralph Lauren Ambassador Contents Shooting Behind https://youtu.be/SblMIpIMUjs&pp aespa 폴로 랄프로렌\n"
     ]
    },
    {
     "name": "stderr",
     "output_type": "stream",
     "text": [
      "  3%|▎         | 17/580 [00:26<14:35,  1.55s/it]"
     ]
    },
    {
     "name": "stdout",
     "output_type": "stream",
     "text": [
      "16 40대인데 20대처럼 보이는 비결, 한지민의 폴로랄프로렌 니트 스웨터 스타일링 https://youtu.be/1MJFKTj_pbU 셀럽패션인포 폴로 랄프로렌\n"
     ]
    },
    {
     "name": "stderr",
     "output_type": "stream",
     "text": [
      "  3%|▎         | 18/580 [00:27<14:41,  1.57s/it]"
     ]
    },
    {
     "name": "stdout",
     "output_type": "stream",
     "text": [
      "17 👖워크웨어 끝판왕! RRL 희귀템 싹다 입어 보았습니다!(RRL, 랄프로렌 세컨 핸즈샵) https://youtu.be/R3DSR21MXCk&pp테이스터 션  Taster Shawn 폴로 랄프로렌\n"
     ]
    },
    {
     "name": "stderr",
     "output_type": "stream",
     "text": [
      "  3%|▎         | 19/580 [00:29<14:34,  1.56s/it]"
     ]
    },
    {
     "name": "stdout",
     "output_type": "stream",
     "text": [
      "18 다시 유행하는 MZ세대 브랜드 폴로 랄프로렌 https://youtu.be/U6riPiq87J0 핍스뉴욕 폴로 랄프로렌\n"
     ]
    },
    {
     "name": "stderr",
     "output_type": "stream",
     "text": [
      "  3%|▎         | 20/580 [00:30<14:36,  1.57s/it]"
     ]
    },
    {
     "name": "stdout",
     "output_type": "stream",
     "text": [
      "19 신세계 이마트에서 파는 폴로 랄프로렌이 가품? https://youtu.be/dAf2sq4rW28 b급TV 폴로 랄프로렌\n"
     ]
    },
    {
     "name": "stderr",
     "output_type": "stream",
     "text": [
      "  4%|▎         | 21/580 [00:32<14:17,  1.53s/it]"
     ]
    },
    {
     "name": "stdout",
     "output_type": "stream",
     "text": [
      "20 #폴로니트 정가품 판별법?! #폴로브이넥 #폴로 https://youtu.be/gBLdBoIOkvk 리뷰하는 묘대리 폴로 랄프로렌\n"
     ]
    },
    {
     "name": "stderr",
     "output_type": "stream",
     "text": [
      "  4%|▍         | 22/580 [00:33<14:13,  1.53s/it]"
     ]
    },
    {
     "name": "stdout",
     "output_type": "stream",
     "text": [
      "21 24SS🌸💗폴로 랄프로렌 코디 모음집💗직장인 일주일코디 #폴로코디 #출근룩 #올드머니룩 https://youtu.be/WkmOTOrGjKY 유로브U'Laube 폴로 랄프로렌\n"
     ]
    },
    {
     "name": "stderr",
     "output_type": "stream",
     "text": [
      "  4%|▍         | 23/580 [00:35<14:42,  1.58s/it]"
     ]
    },
    {
     "name": "stdout",
     "output_type": "stream",
     "text": [
      "22 언제 입어도 클래식한 김연아의 폴로 니트 #얼마예요 https://youtu.be/V__4W4xd6IA 얼마예요 폴로 랄프로렌\n"
     ]
    },
    {
     "name": "stderr",
     "output_type": "stream",
     "text": [
      "  4%|▍         | 24/580 [00:36<14:13,  1.54s/it]"
     ]
    },
    {
     "name": "stdout",
     "output_type": "stream",
     "text": [
      "23 올드 머니룩 니트템 #폴로 의 계절🗽🇺🇸 #폴로랄프로렌 #폴로코디 #폴로니트 #폴로가디건 #폴로빈티지 #니트코디 #가을코디 #polo #poloralphlauren https://youtu.be/de5hMGzAWt4 요고조 YOGOJO 폴로 랄프로렌\n"
     ]
    },
    {
     "name": "stderr",
     "output_type": "stream",
     "text": [
      "  4%|▍         | 25/580 [00:38<14:21,  1.55s/it]"
     ]
    },
    {
     "name": "stdout",
     "output_type": "stream",
     "text": [
      "24 뉴욕에서 대박난 폴로 랄프로렌 카페 https://youtu.be/x92GOUjLB9s 조지아형 Georgia Bro 폴로 랄프로렌\n"
     ]
    },
    {
     "name": "stderr",
     "output_type": "stream",
     "text": [
      "  4%|▍         | 26/580 [00:40<14:16,  1.55s/it]"
     ]
    },
    {
     "name": "stdout",
     "output_type": "stream",
     "text": [
      "25 랄프 로렌 남자 향수 추천 🏇 | 심플하면서도 현대적인 느낌의 랄프 로렌 폴로 향수 8종 [ONE brand] (폴로 그린, 블루, 블랙, 레드, 딥 블루, 스포츠, 프레쉬) https://youtu.be/F2QxpiPsqi4&pp 온내음 ONNAEEUM 폴로 랄프로렌\n"
     ]
    },
    {
     "name": "stderr",
     "output_type": "stream",
     "text": [
      "  5%|▍         | 27/580 [00:41<13:47,  1.50s/it]"
     ]
    },
    {
     "name": "stdout",
     "output_type": "stream",
     "text": [
      "26 폴로 히말 파카 & 알든 9901 코디 #폴로랄프로렌 #패션 #코디 #알든 #남자패션 https://youtu.be/4j1kip2NCPM 젠틀백 폴로 랄프로렌\n"
     ]
    },
    {
     "name": "stderr",
     "output_type": "stream",
     "text": [
      "  5%|▍         | 28/580 [00:42<13:36,  1.48s/it]"
     ]
    },
    {
     "name": "stdout",
     "output_type": "stream",
     "text": [
      "27 여기도 가품이야? 폴로는 왜 이렇게 가품이 많을까? https://youtu.be/CSkfVqxF71I&pp 헬프맨 폴로 랄프로렌\n"
     ]
    },
    {
     "name": "stderr",
     "output_type": "stream",
     "text": [
      "  5%|▌         | 29/580 [00:44<13:17,  1.45s/it]"
     ]
    },
    {
     "name": "stdout",
     "output_type": "stream",
     "text": [
      "28 미국 현지에서 직접 바잉해서 보내드리는 폴로랄프로렌❤️ 올리브맘마켓입니다 #폴로직구#폴로공구#폴로코디#폴로랄프로렌 https://youtu.be/9kOtFksEPl4 올리브맘마켓 폴로 랄프로렌\n"
     ]
    },
    {
     "name": "stderr",
     "output_type": "stream",
     "text": [
      "  5%|▌         | 30/580 [00:46<15:12,  1.66s/it]"
     ]
    },
    {
     "name": "stdout",
     "output_type": "stream",
     "text": [
      "29 폴로 정가품을 구별하는 가장 간단한 방법 https://youtu.be/g3MHneshvLk&pp 포트배드Fashion Magazine 폴로 랄프로렌\n"
     ]
    },
    {
     "name": "stderr",
     "output_type": "stream",
     "text": [
      "  5%|▌         | 31/580 [00:48<15:44,  1.72s/it]"
     ]
    },
    {
     "name": "stdout",
     "output_type": "stream",
     "text": [
      "30 폴로 랄프로렌, 23FW 가을 신상 컬러 나왔어요🍂 품절 되기 전에 사자🤎 https://youtu.be/D8dPC92Hi2U 쇼핑스, 해외라이브 쇼핑 플랫폼 폴로 랄프로렌\n"
     ]
    },
    {
     "name": "stderr",
     "output_type": "stream",
     "text": [
      "  6%|▌         | 32/580 [00:50<16:01,  1.75s/it]"
     ]
    },
    {
     "name": "stdout",
     "output_type": "stream",
     "text": [
      "31 '인간 폴로 랄프로렌' 김우빈의 레전드 공항패션 #shorts https://youtu.be/j18-Q2CKmSI TVREPORT 폴로 랄프로렌\n"
     ]
    },
    {
     "name": "stderr",
     "output_type": "stream",
     "text": [
      "  6%|▌         | 33/580 [00:51<15:51,  1.74s/it]"
     ]
    },
    {
     "name": "stdout",
     "output_type": "stream",
     "text": [
      "32 폴로 랄프로렌광고영상_단순컷편집,사운드추가 https://youtu.be/3qrKoW5U40U&pp 이유정 폴로 랄프로렌\n"
     ]
    },
    {
     "name": "stderr",
     "output_type": "stream",
     "text": [
      "  6%|▌         | 34/580 [00:53<15:23,  1.69s/it]"
     ]
    },
    {
     "name": "stdout",
     "output_type": "stream",
     "text": [
      "33 영원한 사랑 Polo💖ㅣ아울렛 매장 예쁜템+옷장 뒤져 스테디템까지! 언제 입어도 예쁘고 사랑스러운 폴로 랄프로렌 👕😊 https://youtu.be/2o8lXD-zO7E&pp 쪼슈라이프 JJOCHOULIFE 폴로 랄프로렌\n"
     ]
    },
    {
     "name": "stderr",
     "output_type": "stream",
     "text": [
      "  6%|▌         | 35/580 [00:55<15:08,  1.67s/it]"
     ]
    },
    {
     "name": "stdout",
     "output_type": "stream",
     "text": [
      "34 마크와 폴로 랄프 로렌이 완성한 귀여움의 앙상블ㅣ마크, NCT, 폴로랄프로렌, 에스콰이어, ESQUIRE KOREA https://youtu.be/bney8Cs4tkY&pp ESQUIRE Korea 폴로 랄프로렌\n"
     ]
    },
    {
     "name": "stderr",
     "output_type": "stream",
     "text": [
      "  6%|▌         | 36/580 [00:56<14:20,  1.58s/it]"
     ]
    },
    {
     "name": "stdout",
     "output_type": "stream",
     "text": [
      "35 24SS 폴로 린넨 셔츠 핫딜🩷 #캐나다구매대행 #세레나마켓 #폴로랄프로렌 https://youtu.be/AX1vfiUVnN4 캐나다 세레나마켓 폴로 랄프로렌\n"
     ]
    },
    {
     "name": "stderr",
     "output_type": "stream",
     "text": [
      "  6%|▋         | 37/580 [00:57<13:35,  1.50s/it]"
     ]
    },
    {
     "name": "stdout",
     "output_type": "stream",
     "text": [
      "36 여기저기 잘입는 정장이 있다? / 폴로 랄프로렌 치노(코튼) 셋업 https://youtu.be/piMchfmD_sk&pp 철사장 폴로 랄프로렌\n"
     ]
    },
    {
     "name": "stderr",
     "output_type": "stream",
     "text": [
      "  7%|▋         | 38/580 [00:58<12:44,  1.41s/it]"
     ]
    },
    {
     "name": "stdout",
     "output_type": "stream",
     "text": [
      "37 폴로에 오신 걸 환영합니다💛🫵🏻 | Polo Ralph Lauren Store Shooting Behind https://youtu.be/KvoZmpSWq8M&pp NCT 폴로 랄프로렌\n"
     ]
    },
    {
     "name": "stderr",
     "output_type": "stream",
     "text": [
      "  7%|▋         | 39/580 [01:00<11:56,  1.32s/it]"
     ]
    },
    {
     "name": "stdout",
     "output_type": "stream",
     "text": [
      "38 폴로에서 올드머니룩 입어보기 🤎 #폴로 #폴로랄프로렌 #올드머니룩 https://youtu.be/6NuSLHrV7KM 블랑쉬엘르 폴로 랄프로렌\n"
     ]
    },
    {
     "name": "stderr",
     "output_type": "stream",
     "text": [
      "  7%|▋         | 40/580 [01:01<11:34,  1.29s/it]"
     ]
    },
    {
     "name": "stdout",
     "output_type": "stream",
     "text": [
      "39 맠프포즈 사실 처음 하거든요🤭 | ‘랄프 로렌 뮤직라운지’ - 캘리포니아 in 한남 Behind https://youtu.be/A35GSU0E72s&pp NCT 폴로 랄프로렌\n"
     ]
    },
    {
     "name": "stderr",
     "output_type": "stream",
     "text": [
      "  7%|▋         | 41/580 [01:02<11:11,  1.25s/it]"
     ]
    },
    {
     "name": "stdout",
     "output_type": "stream",
     "text": [
      "40 폴로 랄프 로렌 우먼 오 드 뚜왈렛 향수 입니다 https://youtu.be/E6rafvsVGL8 공사삼 폴로 랄프로렌\n"
     ]
    },
    {
     "name": "stderr",
     "output_type": "stream",
     "text": [
      "  7%|▋         | 42/580 [01:03<11:37,  1.30s/it]"
     ]
    },
    {
     "name": "stdout",
     "output_type": "stream",
     "text": [
      "41 T1 × 폴로랄프로렌에 초대 받은 윤두준 https://youtu.be/kiMUVcU_zec 하이라이트 좋아할라 폴로 랄프로렌\n"
     ]
    },
    {
     "name": "stderr",
     "output_type": "stream",
     "text": [
      "  7%|▋         | 43/580 [01:05<11:51,  1.33s/it]"
     ]
    },
    {
     "name": "stdout",
     "output_type": "stream",
     "text": [
      "42 크리스탈이 선택한 폴로 랄프로렌 코디, 완벽한 매치의 비밀! https://youtu.be/-NBQd_pg1rA 셀럽패션인포 폴로 랄프로렌\n"
     ]
    },
    {
     "name": "stderr",
     "output_type": "stream",
     "text": [
      "  8%|▊         | 44/580 [01:06<11:25,  1.28s/it]"
     ]
    },
    {
     "name": "stdout",
     "output_type": "stream",
     "text": [
      "43 2024년 판매랭킹 상위품목 추천 ★   폴로 랄프로렌 가디건   오늘의 인기추천   BEST   ㅣ추천템ㅣ생활 꿀템ㅣ https://youtu.be/8mL8VE8YUlo&pp HotShop 폴로 랄프로렌\n"
     ]
    },
    {
     "name": "stderr",
     "output_type": "stream",
     "text": [
      "  8%|▊         | 45/580 [01:07<11:29,  1.29s/it]"
     ]
    },
    {
     "name": "stdout",
     "output_type": "stream",
     "text": [
      "44 #T1 과 #폴로랄프로렌 팬 미팅 현장 #페이커, #제우스 https://youtu.be/Ac_lc1_6n3o HYPEBEAST KOREA 폴로 랄프로렌\n"
     ]
    },
    {
     "name": "stderr",
     "output_type": "stream",
     "text": [
      "  8%|▊         | 46/580 [01:09<11:47,  1.33s/it]"
     ]
    },
    {
     "name": "stdout",
     "output_type": "stream",
     "text": [
      "45 2023 POLO Ralphlauren 폴로랄프로렌,폴로,랄프로렌,가디건 ,폴로니트,폴로가디건,폴로랄프로렌니트,polo,poloralphlauren,ralphlauren https://youtu.be/2_PynihVyVE Arcvly(아끄블리) 폴로 랄프로렌\n"
     ]
    },
    {
     "name": "stderr",
     "output_type": "stream",
     "text": [
      "  8%|▊         | 47/580 [01:10<12:14,  1.38s/it]"
     ]
    },
    {
     "name": "stdout",
     "output_type": "stream",
     "text": [
      "46 🇺🇸Polo Ralph Lauren 미국 폴로 랄프로렌 봄신상🌱진짜 고급지다🧥미국 쇼핑 브이로그 #shorts #polo #ralphlauren #폴로 #폴로랄프로렌 https://youtu.be/TjU8IK3q49o LetsgoJenny 렛츠고제니  폴로 랄프로렌\n"
     ]
    },
    {
     "name": "stderr",
     "output_type": "stream",
     "text": [
      "  8%|▊         | 48/580 [01:11<12:06,  1.37s/it]"
     ]
    },
    {
     "name": "stdout",
     "output_type": "stream",
     "text": [
      "47 폴로 랄프로렌 일주일 코디 Day 3 https://youtu.be/1zDpK3ji_ZM 구메gume 폴로 랄프로렌\n"
     ]
    },
    {
     "name": "stderr",
     "output_type": "stream",
     "text": [
      "  8%|▊         | 49/580 [01:13<11:25,  1.29s/it]"
     ]
    },
    {
     "name": "stdout",
     "output_type": "stream",
     "text": [
      "48 어린이날 쿠키박스×폴로 랄프로렌×선물 https://youtu.be/tP69_ZOEndM&pp 라비틀쿠키 폴로 랄프로렌\n"
     ]
    },
    {
     "name": "stderr",
     "output_type": "stream",
     "text": [
      "  9%|▊         | 50/580 [01:14<10:53,  1.23s/it]"
     ]
    },
    {
     "name": "stdout",
     "output_type": "stream",
     "text": [
      "49 폴로 랄프로렌을 대신할 남자다운 셔츠 추천 https://youtu.be/3U-BhdlDccc&pp 패션흥신소 폴로 랄프로렌\n"
     ]
    },
    {
     "name": "stderr",
     "output_type": "stream",
     "text": [
      "  9%|▉         | 51/580 [01:15<10:52,  1.23s/it]"
     ]
    },
    {
     "name": "stdout",
     "output_type": "stream",
     "text": [
      "50 폴로랄프로렌카라티 추천 판매순위 Top10 || 가격 평점 후기 비교 https://youtu.be/Va1_8DYeUhQ&pp 코코티비 폴로 랄프로렌\n"
     ]
    },
    {
     "name": "stderr",
     "output_type": "stream",
     "text": [
      "  9%|▉         | 52/580 [01:16<10:40,  1.21s/it]"
     ]
    },
    {
     "name": "stdout",
     "output_type": "stream",
     "text": [
      "51 광고❌ 셔츠 하나로 🏇억만장자가 된 미국 남자 이야기, ‘폴로’ 랄프로렌 썰 풀어드림  | 브랜드 썰🗡 https://youtu.be/hfdmuSFQdR0&pp 옆집언니 최실장 stylist unnie 폴로 랄프로렌\n"
     ]
    },
    {
     "name": "stderr",
     "output_type": "stream",
     "text": [
      "  9%|▉         | 53/580 [01:17<10:00,  1.14s/it]"
     ]
    },
    {
     "name": "stdout",
     "output_type": "stream",
     "text": [
      "52 톰포드와 맞먹을 정도!? 폴로 랄프로렌 브랜드 이야기 EP.5 https://youtu.be/v2ePNbdJArI 1분트렌드 X 1분랭킹 shorts 폴로 랄프로렌\n"
     ]
    },
    {
     "name": "stderr",
     "output_type": "stream",
     "text": [
      "  9%|▉         | 54/580 [01:18<09:59,  1.14s/it]"
     ]
    },
    {
     "name": "stdout",
     "output_type": "stream",
     "text": [
      "53 폴로 카라티 하나로 일주일 코디하기🖤🤍 polo카라티 저렴하게 구매하는 팁은 설명란에! https://youtu.be/mv6Laf0OPd4 켜나 KYUNA 폴로 랄프로렌\n"
     ]
    },
    {
     "name": "stderr",
     "output_type": "stream",
     "text": [
      "  9%|▉         | 55/580 [01:19<09:46,  1.12s/it]"
     ]
    },
    {
     "name": "stdout",
     "output_type": "stream",
     "text": [
      "54 빈티지 구제 폴로랄프로렌 피케셔츠 https://youtu.be/8RmKGlXzwao 스위치클로젯 폴로 랄프로렌\n"
     ]
    },
    {
     "name": "stderr",
     "output_type": "stream",
     "text": [
      " 10%|▉         | 56/580 [01:20<09:51,  1.13s/it]"
     ]
    },
    {
     "name": "stdout",
     "output_type": "stream",
     "text": [
      "55 [천안명품편집샵 부오노] 폴로랄프로렌 그린 포니 커스텀슬림핏 반팔티셔츠 오렌지 남성 반팔 https://youtu.be/pOj6SBd9aiY 천안명품편집샵 부오노 폴로 랄프로렌\n"
     ]
    },
    {
     "name": "stderr",
     "output_type": "stream",
     "text": [
      " 10%|▉         | 57/580 [01:22<09:52,  1.13s/it]"
     ]
    },
    {
     "name": "stdout",
     "output_type": "stream",
     "text": [
      "56 폴로 랄프로렌 #shorts https://youtu.be/5fMITVXt1e4 패션잡지 보구매거진 ( Bogoo magazine ) 폴로 랄프로렌\n"
     ]
    },
    {
     "name": "stderr",
     "output_type": "stream",
     "text": [
      " 10%|█         | 58/580 [01:23<09:46,  1.12s/it]"
     ]
    },
    {
     "name": "stdout",
     "output_type": "stream",
     "text": [
      "57 미국 아울렛 '폴로 랄프로렌' 가을 신상 털이하자🍂🤎 https://youtu.be/J32z8-mu-PE 쇼핑스, 해외라이브 쇼핑 플랫폼 폴로 랄프로렌\n"
     ]
    },
    {
     "name": "stderr",
     "output_type": "stream",
     "text": [
      " 10%|█         | 59/580 [01:24<09:16,  1.07s/it]"
     ]
    },
    {
     "name": "stdout",
     "output_type": "stream",
     "text": [
      "58 폴로 카라티를 더 예쁘게 입는 방법 https://youtu.be/7CSx_oH0b8Y 후스 폴로 랄프로렌\n"
     ]
    },
    {
     "name": "stderr",
     "output_type": "stream",
     "text": [
      " 10%|█         | 60/580 [01:24<08:53,  1.03s/it]"
     ]
    },
    {
     "name": "stdout",
     "output_type": "stream",
     "text": [
      "59 프로 랄뽕러의 주말 아울렛 쇼핑 루틴 공개 ( 짧음주의 ) https://youtu.be/nSstlOf3X9E&pp 로케주앙_Like ROKA 폴로 랄프로렌\n"
     ]
    },
    {
     "name": "stderr",
     "output_type": "stream",
     "text": [
      " 11%|█         | 61/580 [01:26<08:59,  1.04s/it]"
     ]
    },
    {
     "name": "stdout",
     "output_type": "stream",
     "text": [
      "60 폴로 랄프로렌 일주일 코디 Day 2 https://youtu.be/7ClsEDiwEUs 구메gume 폴로 랄프로렌\n"
     ]
    },
    {
     "name": "stderr",
     "output_type": "stream",
     "text": [
      " 11%|█         | 62/580 [01:27<09:01,  1.04s/it]"
     ]
    },
    {
     "name": "stdout",
     "output_type": "stream",
     "text": [
      "61 [천안명품편집샵 부오노] 폴로랄프로렌 남성 포니 로고 자수 슬림핏 반팔 티셔츠 (화이트) https://youtu.be/U_B_URm7GS8 천안명품편집샵 부오노 폴로 랄프로렌\n"
     ]
    },
    {
     "name": "stderr",
     "output_type": "stream",
     "text": [
      " 11%|█         | 63/580 [01:28<08:53,  1.03s/it]"
     ]
    },
    {
     "name": "stdout",
     "output_type": "stream",
     "text": [
      "62 윈터의 완벽한 연말 착장 #윈터  #에스파  #폴로랄프로렌 https://youtu.be/5_cyHr2YptI 오늘의패션 폴로 랄프로렌\n"
     ]
    },
    {
     "name": "stderr",
     "output_type": "stream",
     "text": [
      " 11%|█         | 64/580 [01:29<08:58,  1.04s/it]"
     ]
    },
    {
     "name": "stdout",
     "output_type": "stream",
     "text": [
      "63 폴로 랄프로렌 일주일 코디 Day 4 https://youtu.be/3mA092CO3_M 구메gume 폴로 랄프로렌\n"
     ]
    },
    {
     "name": "stderr",
     "output_type": "stream",
     "text": [
      " 11%|█         | 65/580 [01:30<09:08,  1.06s/it]"
     ]
    },
    {
     "name": "stdout",
     "output_type": "stream",
     "text": [
      "64 폴로랄프로렌 셔츠 스타일링 https://youtu.be/fpUjLYNzVH0 HIGH TO GIRL 폴로 랄프로렌\n"
     ]
    },
    {
     "name": "stderr",
     "output_type": "stream",
     "text": [
      " 11%|█▏        | 66/580 [01:31<09:10,  1.07s/it]"
     ]
    },
    {
     "name": "stdout",
     "output_type": "stream",
     "text": [
      "65 폴로랄프로렌 추천 판매순위 Top10 || 가격 평점 후기 비교 https://youtu.be/Ek2XInBnprg&pp 무무튜브 폴로 랄프로렌\n"
     ]
    },
    {
     "name": "stderr",
     "output_type": "stream",
     "text": [
      " 12%|█▏        | 67/580 [01:32<09:02,  1.06s/it]"
     ]
    },
    {
     "name": "stdout",
     "output_type": "stream",
     "text": [
      "66 빈티지 구제 폴로 랄프로렌 옥스포드 셔츠 https://youtu.be/CsPDD5tgk6o 스위치클로젯 폴로 랄프로렌\n"
     ]
    },
    {
     "name": "stderr",
     "output_type": "stream",
     "text": [
      " 12%|█▏        | 68/580 [01:33<09:23,  1.10s/it]"
     ]
    },
    {
     "name": "stdout",
     "output_type": "stream",
     "text": [
      "67 2024년 판매랭킹 상위품목 추천 ★   폴로 랄프로렌 슬림 가디건   오늘의 인기추천   BEST   ㅣ추천템ㅣ생활 꿀템ㅣ https://youtu.be/fu-2OwisJhU&pp 60초 아이쇼핑 폴로 랄프로렌\n"
     ]
    },
    {
     "name": "stderr",
     "output_type": "stream",
     "text": [
      " 12%|█▏        | 69/580 [01:34<09:18,  1.09s/it]"
     ]
    },
    {
     "name": "stdout",
     "output_type": "stream",
     "text": [
      "68 가을에는 #폴로랄프로렌 니트 코디모음🧶🍁 #위드엘에이 https://youtu.be/7T8UPQvWG3Y 위드엘에이 폴로 랄프로렌\n"
     ]
    },
    {
     "name": "stderr",
     "output_type": "stream",
     "text": [
      " 12%|█▏        | 70/580 [01:35<09:18,  1.10s/it]"
     ]
    },
    {
     "name": "stdout",
     "output_type": "stream",
     "text": [
      "69 폴로 랄프로렌 일주일 코디 Day 1 https://youtu.be/K8-QpD9qK_E 구메gume 폴로 랄프로렌\n"
     ]
    },
    {
     "name": "stderr",
     "output_type": "stream",
     "text": [
      " 12%|█▏        | 71/580 [01:37<09:45,  1.15s/it]"
     ]
    },
    {
     "name": "stdout",
     "output_type": "stream",
     "text": [
      "70 폴로 하울 4탄☔️ㅣ여주 프리미엄 아울렛ㅣ최대 60% 할인⁉️ㅣ50만원 쇼핑🫠ㅣ폴로 셔츠ㅣ폴로 카라티ㅣ라코스테 카라티 https://youtu.be/ZBkId2wBUns&pp 소이진 폴로 랄프로렌\n"
     ]
    },
    {
     "name": "stderr",
     "output_type": "stream",
     "text": [
      " 12%|█▏        | 72/580 [01:38<09:24,  1.11s/it]"
     ]
    },
    {
     "name": "stdout",
     "output_type": "stream",
     "text": [
      "71 가을 위시리스트 🍂🍂🍂🍁              #폴로랄프로렌 #폴로 #가디건 #올드머니룩 #폴로가디건 #여성가디건 #니트코디 #니트추천 https://youtu.be/SO2rZIMOZrI 폴인몬스터스 폴로 랄프로렌\n"
     ]
    },
    {
     "name": "stderr",
     "output_type": "stream",
     "text": [
      " 13%|█▎        | 73/580 [01:39<09:15,  1.10s/it]"
     ]
    },
    {
     "name": "stdout",
     "output_type": "stream",
     "text": [
      "72 #폴로랄프로렌 #꽈배기니트 #캐나다구매대행 #세레나마켓 https://youtu.be/Iyl98V_glhE 캐나다 세레나마켓 폴로 랄프로렌\n"
     ]
    },
    {
     "name": "stderr",
     "output_type": "stream",
     "text": [
      " 13%|█▎        | 74/580 [01:40<09:21,  1.11s/it]"
     ]
    },
    {
     "name": "stdout",
     "output_type": "stream",
     "text": [
      "73 명품브랜드 폴로 랄프로렌홈 베딩커버 일본에서 사오기🎀일본에서 이불을 굳이 사오는 이유는?? https://youtu.be/kujCxLexMBM&pp 제니제리는 우리팀🤪jenny_jerry 폴로 랄프로렌\n"
     ]
    },
    {
     "name": "stderr",
     "output_type": "stream",
     "text": [
      " 13%|█▎        | 75/580 [01:41<09:27,  1.12s/it]"
     ]
    },
    {
     "name": "stdout",
     "output_type": "stream",
     "text": [
      "74 [천안명품편집샵 부오노] 폴로랄프로렌 네이비 포니 슬림핏 반팔티셔츠 화이트 남성 반팔 https://youtu.be/XxJb0lDFXAs 천안명품편집샵 부오노 폴로 랄프로렌\n"
     ]
    },
    {
     "name": "stderr",
     "output_type": "stream",
     "text": [
      " 13%|█▎        | 76/580 [01:42<09:28,  1.13s/it]"
     ]
    },
    {
     "name": "stdout",
     "output_type": "stream",
     "text": [
      "75 폴로 랄프로렌 25000 105 사쥬 01039074107로문자우선!! 문자로만 받아여~문자첫번째분 우선!! 중전마마명품구제밴드로 놀러오세요~ https://youtu.be/3gezhocBhdA 중전마마 빈티지 구제의류 폴로 랄프로렌\n"
     ]
    },
    {
     "name": "stderr",
     "output_type": "stream",
     "text": [
      " 13%|█▎        | 77/580 [01:43<09:37,  1.15s/it]"
     ]
    },
    {
     "name": "stdout",
     "output_type": "stream",
     "text": [
      "76 빈티지 구제 폴로랄프로렌 치노팬츠 https://youtu.be/Ug9fI4baJq4 스위치클로젯 폴로 랄프로렌\n"
     ]
    },
    {
     "name": "stderr",
     "output_type": "stream",
     "text": [
      " 13%|█▎        | 78/580 [01:45<09:50,  1.18s/it]"
     ]
    },
    {
     "name": "stdout",
     "output_type": "stream",
     "text": [
      "77 폴로 랄프로렌보다 근본에 싸고 좋습니다. 명품 치노팬츠 추천 제발 혼자보세요. https://youtu.be/tfJjb12oLcY&pp 탈패션 FASHION 폴로 랄프로렌\n"
     ]
    },
    {
     "name": "stderr",
     "output_type": "stream",
     "text": [
      " 14%|█▎        | 79/580 [01:46<09:49,  1.18s/it]"
     ]
    },
    {
     "name": "stdout",
     "output_type": "stream",
     "text": [
      "78 미국 폴로 아울렛은? 한국 비교해서 얼마나 세일해? https://youtu.be/jGv10SjzUS0 달라스라이프dallaslife1 폴로 랄프로렌\n"
     ]
    },
    {
     "name": "stderr",
     "output_type": "stream",
     "text": [
      " 14%|█▍        | 80/580 [01:47<10:32,  1.27s/it]"
     ]
    },
    {
     "name": "stdout",
     "output_type": "stream",
     "text": [
      "79 [천안명품편집샵 부오노] 폴로랄프로렌 스카이 포니 커스텀슬림핏 반팔티셔츠 핑크 남성 https://youtu.be/jN5bhzGI4Yo 천안명품편집샵 부오노 폴로 랄프로렌\n"
     ]
    },
    {
     "name": "stderr",
     "output_type": "stream",
     "text": [
      " 14%|█▍        | 81/580 [01:49<11:10,  1.34s/it]"
     ]
    },
    {
     "name": "stdout",
     "output_type": "stream",
     "text": [
      "80 프로 랄뽕러의 주말 아울렛 쇼핑 루틴 공개 ( 짧음주의 ) https://youtu.be/nSstlOf3X9E&pp 로케주앙_Like ROKA 폴로 랄프로렌\n"
     ]
    },
    {
     "name": "stderr",
     "output_type": "stream",
     "text": [
      " 14%|█▍        | 82/580 [01:50<11:15,  1.36s/it]"
     ]
    },
    {
     "name": "stdout",
     "output_type": "stream",
     "text": [
      "81 [천안명품편집샵 부오노] 폴로랄프로렌 남성 레드 포니 로고 자수 슬림핏 반팔 티셔츠 (블랙) https://youtu.be/OyFm3sMnPN0 천안명품편집샵 부오노 폴로 랄프로렌\n"
     ]
    },
    {
     "name": "stderr",
     "output_type": "stream",
     "text": [
      " 14%|█▍        | 83/580 [01:51<11:12,  1.35s/it]"
     ]
    },
    {
     "name": "stdout",
     "output_type": "stream",
     "text": [
      "82 #폴로랄프로렌 으로남자 톤온톤 코디 센스있게 하는 법👉 https://youtu.be/y4rSan1j7uM 4910 - 남성 패션부터 라이프스타일까지 폴로 랄프로렌\n"
     ]
    },
    {
     "name": "stderr",
     "output_type": "stream",
     "text": [
      " 14%|█▍        | 84/580 [01:53<11:16,  1.36s/it]"
     ]
    },
    {
     "name": "stdout",
     "output_type": "stream",
     "text": [
      "83 가을 맞이🍂 폴로 랄프로렌에서 시작🤎 모두에게 사랑받는 폴로 데님셔츠 https://youtu.be/eDeG8biN8nw 쇼핑스, 해외라이브 쇼핑 플랫폼 폴로 랄프로렌\n"
     ]
    },
    {
     "name": "stderr",
     "output_type": "stream",
     "text": [
      " 15%|█▍        | 85/580 [01:55<12:59,  1.58s/it]"
     ]
    },
    {
     "name": "stdout",
     "output_type": "stream",
     "text": [
      "84 [천안명품편집샵 부오노] 폴로랄프로렌 그레이 포니 커스텀슬림핏 반팔티셔츠 블랙 남성 반팔 https://youtu.be/9yNWLkZ79Zc 천안명품편집샵 부오노 폴로 랄프로렌\n"
     ]
    },
    {
     "name": "stderr",
     "output_type": "stream",
     "text": [
      " 15%|█▍        | 86/580 [01:57<14:04,  1.71s/it]"
     ]
    },
    {
     "name": "stdout",
     "output_type": "stream",
     "text": [
      "85 빈티지 구제 폴로 랄프로렌 솔리드 피케셔츠 https://youtu.be/-9Cv3G9WZks 스위치클로젯 폴로 랄프로렌\n"
     ]
    },
    {
     "name": "stderr",
     "output_type": "stream",
     "text": [
      " 15%|█▌        | 87/580 [01:59<15:05,  1.84s/it]"
     ]
    },
    {
     "name": "stdout",
     "output_type": "stream",
     "text": [
      "86 골든베어 바시티 자켓과 폴로 랄프로렌 유콘필드 맨투맨 코디 #fashion #style #varsityjacket #ootd #패션 #남자패션 #코디 #골든베어 #바시티자켓 https://youtu.be/_Pw-xDxhyHE 젠틀백 폴로 랄프로렌\n"
     ]
    },
    {
     "name": "stderr",
     "output_type": "stream",
     "text": [
      " 15%|█▌        | 88/580 [02:01<14:06,  1.72s/it]"
     ]
    },
    {
     "name": "stdout",
     "output_type": "stream",
     "text": [
      "87 [천안명품편집샵 부오노] 폴로랄프로렌 네이비 포니 클래식 크루넥 울 니트 헌터네이비 남성 니트 https://youtu.be/R7rbr3SFbNk 천안명품편집샵 부오노 폴로 랄프로렌\n"
     ]
    },
    {
     "name": "stderr",
     "output_type": "stream",
     "text": [
      " 15%|█▌        | 89/580 [02:02<14:16,  1.74s/it]"
     ]
    },
    {
     "name": "stdout",
     "output_type": "stream",
     "text": [
      "88 월클을 만나 수줍은 제우스 #제우스 #피식대학 #정재형 #t1 #티원 #랄프로렌 #폴로랄프로렌 #zeus https://youtu.be/HanhttYI2D4 백아 폴로 랄프로렌\n"
     ]
    },
    {
     "name": "stderr",
     "output_type": "stream",
     "text": [
      " 16%|█▌        | 90/580 [02:04<13:38,  1.67s/it]"
     ]
    },
    {
     "name": "stdout",
     "output_type": "stream",
     "text": [
      "89 [천안명품편집샵 부오노] 폴로랄프로렌 브라운 포니 클래식 크루넥 울 스웨트 니트 브라운 남성 니트 https://youtu.be/nBXofk9nHdo 천안명품편집샵 부오노 폴로 랄프로렌\n"
     ]
    },
    {
     "name": "stderr",
     "output_type": "stream",
     "text": [
      " 16%|█▌        | 91/580 [02:06<15:32,  1.91s/it]"
     ]
    },
    {
     "name": "stdout",
     "output_type": "stream",
     "text": [
      "90 폴로 셔츠의 정석 사이즈랑 컬러 핏 비교까지 몽땅 해드림 ㅣ 우먼부터 맨사이즈까지 https://youtu.be/02yhtflEf4E&pp 해외직구는 뉴욕걸즈 폴로 랄프로렌\n"
     ]
    },
    {
     "name": "stderr",
     "output_type": "stream",
     "text": [
      " 16%|█▌        | 92/580 [02:08<15:14,  1.87s/it]"
     ]
    },
    {
     "name": "stdout",
     "output_type": "stream",
     "text": [
      "91 폴로 랄프로렌 야상 & 금장자켓 코디 #fashion #menswear #poloralphlauren #ootd #패션 #코디 #폴로랄프로렌 https://youtu.be/h7yPnQhWv1o 젠틀백 폴로 랄프로렌\n"
     ]
    },
    {
     "name": "stderr",
     "output_type": "stream",
     "text": [
      " 16%|█▌        | 93/580 [02:10<15:08,  1.87s/it]"
     ]
    },
    {
     "name": "stdout",
     "output_type": "stream",
     "text": [
      "92 리사의 플러팅에도 넘어가지 않는 남자?ㅋㅋㅋ https://youtu.be/5S5h00yHCgI 만두의 옷장 폴로 랄프로렌\n"
     ]
    },
    {
     "name": "stderr",
     "output_type": "stream",
     "text": [
      " 16%|█▌        | 94/580 [02:12<14:34,  1.80s/it]"
     ]
    },
    {
     "name": "stdout",
     "output_type": "stream",
     "text": [
      "93 https://m.smartstore.naver.com/dlmemo #폴로 #폴로랄프로렌 #shortvideo #가디건 #가디건코디 #간절기룩 #추석 #추석선물 https://youtu.be/70srNE7OUQI 폴인몬스터스 폴로 랄프로렌\n"
     ]
    },
    {
     "name": "stderr",
     "output_type": "stream",
     "text": [
      " 16%|█▋        | 95/580 [02:13<14:11,  1.76s/it]"
     ]
    },
    {
     "name": "stdout",
     "output_type": "stream",
     "text": [
      "94 [천안명품편집샵 부오노] 폴로랄프로렌 핑크 포니 커스텀슬림핏 반팔티셔츠 민트 남성 https://youtu.be/jFrE_PDZDfA 천안명품편집샵 부오노 폴로 랄프로렌\n"
     ]
    },
    {
     "name": "stderr",
     "output_type": "stream",
     "text": [
      " 17%|█▋        | 96/580 [02:15<13:42,  1.70s/it]"
     ]
    },
    {
     "name": "stdout",
     "output_type": "stream",
     "text": [
      "95 🇺🇸 미국 폴로 최신가격 (23년 9월) 여자의류-  미국 아울렛 쇼핑 / 가격은 얼마나 저렴할까? POLO OUTLET https://youtu.be/gO4nbMYCiJI&pp 캘리킴 CaliKim 폴로 랄프로렌\n"
     ]
    },
    {
     "name": "stderr",
     "output_type": "stream",
     "text": [
      " 17%|█▋        | 97/580 [02:16<13:24,  1.67s/it]"
     ]
    },
    {
     "name": "stdout",
     "output_type": "stream",
     "text": [
      "96 폴로랄프로렌 꽈배기 가디건🌼24SS봄신상 강추🫶💕 #캐나다구매대행 #세레나마켓 #폴로랄프로렌 https://youtu.be/-c8J3PAYF6c 캐나다 세레나마켓 폴로 랄프로렌\n"
     ]
    },
    {
     "name": "stderr",
     "output_type": "stream",
     "text": [
      " 17%|█▋        | 98/580 [02:18<13:26,  1.67s/it]"
     ]
    },
    {
     "name": "stdout",
     "output_type": "stream",
     "text": [
      "97 내가 찾던 폴로랄프로렌!! 가격 평점 리뷰 후기 총정리! https://youtu.be/cfBf3Ff3DaI&pp 재밌는 영상 폴로 랄프로렌\n"
     ]
    },
    {
     "name": "stderr",
     "output_type": "stream",
     "text": [
      " 17%|█▋        | 99/580 [02:19<12:44,  1.59s/it]"
     ]
    },
    {
     "name": "stdout",
     "output_type": "stream",
     "text": [
      "98 폴로 랄프 로렌 Polo Ralph Lauren https://youtu.be/eZVoawMIWl8 하루한벌 폴로 랄프로렌\n"
     ]
    },
    {
     "name": "stderr",
     "output_type": "stream",
     "text": [
      " 17%|█▋        | 100/580 [02:21<12:44,  1.59s/it]"
     ]
    },
    {
     "name": "stdout",
     "output_type": "stream",
     "text": [
      "99 현대프리미엄아울렛에서 폴로 맨투맨 득템😎 https://youtu.be/R9i4bF3yLJo 우룩WooLook 폴로 랄프로렌\n"
     ]
    },
    {
     "name": "stderr",
     "output_type": "stream",
     "text": [
      " 17%|█▋        | 101/580 [02:22<12:10,  1.53s/it]"
     ]
    },
    {
     "name": "stdout",
     "output_type": "stream",
     "text": [
      "100 여름 필수템🌊 폴로 린넨 셔츠 속성 리뷰! | 클래식 M사이즈 #직구 #쇼핑 #폴로 #패션 https://youtu.be/Ix_B71uvJaQ 해외직구는 뉴욕걸즈 폴로 랄프로렌\n"
     ]
    },
    {
     "name": "stderr",
     "output_type": "stream",
     "text": [
      " 18%|█▊        | 102/580 [02:24<11:51,  1.49s/it]"
     ]
    },
    {
     "name": "stdout",
     "output_type": "stream",
     "text": [
      "101 [천안명품편집샵 부오노] 폴로랄프로렌 레드 포니 커스텀슬림핏 반팔티셔츠 그린 남성 반팔 https://youtu.be/SumYPYLR9o8 천안명품편집샵 부오노 폴로 랄프로렌\n"
     ]
    },
    {
     "name": "stderr",
     "output_type": "stream",
     "text": [
      " 18%|█▊        | 103/580 [02:25<11:56,  1.50s/it]"
     ]
    },
    {
     "name": "stdout",
     "output_type": "stream",
     "text": [
      "102 폴로 랄프로렌 볼캡 https://youtu.be/5e4QeVOSdEE 에르모어 폴로 랄프로렌\n"
     ]
    },
    {
     "name": "stderr",
     "output_type": "stream",
     "text": [
      " 18%|█▊        | 104/580 [02:27<11:27,  1.44s/it]"
     ]
    },
    {
     "name": "stdout",
     "output_type": "stream",
     "text": [
      "103 폴로랄프로렌가디건 추천 판매순위 Top10 || 가격 평점 후기 비교 https://youtu.be/0AqvmNsiNXc&pp 무무튜브 폴로 랄프로렌\n"
     ]
    },
    {
     "name": "stderr",
     "output_type": "stream",
     "text": [
      " 18%|█▊        | 105/580 [02:28<11:15,  1.42s/it]"
     ]
    },
    {
     "name": "stdout",
     "output_type": "stream",
     "text": [
      "104 폴로랄프로렌반팔 추천 판매순위 Top10 || 가격 평점 후기 비교 https://youtu.be/kw0r8R1FQlM&pp 어바웃쇼핑 폴로 랄프로렌\n"
     ]
    },
    {
     "name": "stderr",
     "output_type": "stream",
     "text": [
      " 18%|█▊        | 106/580 [02:29<10:55,  1.38s/it]"
     ]
    },
    {
     "name": "stdout",
     "output_type": "stream",
     "text": [
      "105 클래식한 폴로 스타일 코디 룩북 #겨울패션 #폴로랄프로렌 https://youtu.be/aj9d5WnanCk 지지호 ziziho 폴로 랄프로렌\n"
     ]
    },
    {
     "name": "stderr",
     "output_type": "stream",
     "text": [
      " 18%|█▊        | 107/580 [02:31<10:29,  1.33s/it]"
     ]
    },
    {
     "name": "stdout",
     "output_type": "stream",
     "text": [
      "106 자라에 이어 폴로 키즈 입어보기! 폴로는 과연 어땠을까요?? #폴로랄프로렌 #폴로 #폴로키즈 #키즈 #여자코디 #오오티디 #코디 #dailylook #daily https://youtu.be/XxhpsfpQ-Ts 솔 Sol 폴로 랄프로렌\n"
     ]
    },
    {
     "name": "stderr",
     "output_type": "stream",
     "text": [
      " 19%|█▊        | 108/580 [02:32<10:18,  1.31s/it]"
     ]
    },
    {
     "name": "stdout",
     "output_type": "stream",
     "text": [
      "107 폴로 사이즈 추천과 득템하는 방법 #랄프로렌 #아울렛쇼핑 #여름옷코디 https://youtu.be/Zs9iwsC-Ip0 미운집 Miunzip 폴로 랄프로렌\n"
     ]
    },
    {
     "name": "stderr",
     "output_type": "stream",
     "text": [
      " 19%|█▉        | 109/580 [02:33<10:14,  1.30s/it]"
     ]
    },
    {
     "name": "stdout",
     "output_type": "stream",
     "text": [
      "108 폴로 랄프로렌과 양대산맥, 띠어리🤍 린넨셔츠가 최대 70% 할인 판매 https://youtu.be/H7yYi976pAQ 쇼핑스, 해외라이브 쇼핑 플랫폼 폴로 랄프로렌\n"
     ]
    },
    {
     "name": "stderr",
     "output_type": "stream",
     "text": [
      " 19%|█▉        | 110/580 [02:34<10:04,  1.29s/it]"
     ]
    },
    {
     "name": "stdout",
     "output_type": "stream",
     "text": [
      "109 폴로티셔츠 공구진행합니다 #폴로랄프로렌 #폴로무지티 #폴로티셔츠 #패션 https://youtu.be/XQfzrbXBw7w 미블리 폴로 랄프로렌\n"
     ]
    },
    {
     "name": "stderr",
     "output_type": "stream",
     "text": [
      " 19%|█▉        | 111/580 [02:36<09:54,  1.27s/it]"
     ]
    },
    {
     "name": "stdout",
     "output_type": "stream",
     "text": [
      "110 80's Polo Ralph Lauren USA Flag Corduroy Dungaree Denim Jacket XL105 구매 문의 인스타 𝐃𝐌. https://youtu.be/MDyCNYBZy9Q PoloRalphCode 폴로 랄프로렌\n"
     ]
    },
    {
     "name": "stderr",
     "output_type": "stream",
     "text": [
      " 19%|█▉        | 112/580 [02:37<09:40,  1.24s/it]"
     ]
    },
    {
     "name": "stdout",
     "output_type": "stream",
     "text": [
      "111 Polo Ralph Lauren type2 sportsman canoe repaired denim jacket XL105 구매 문의 인스타 𝐃𝐌. https://youtu.be/kNoXUR_Njro PoloRalphCode 폴로 랄프로렌\n"
     ]
    },
    {
     "name": "stderr",
     "output_type": "stream",
     "text": [
      " 19%|█▉        | 113/580 [02:38<09:16,  1.19s/it]"
     ]
    },
    {
     "name": "stdout",
     "output_type": "stream",
     "text": [
      "112 #캐나다구매대행 #세레나마켓 #폴로반집업 #폴로랄프로렌꽈배기 #남친룩 https://youtu.be/5giuPwoun0I 캐나다 세레나마켓 폴로 랄프로렌\n"
     ]
    },
    {
     "name": "stderr",
     "output_type": "stream",
     "text": [
      " 20%|█▉        | 114/580 [02:39<09:18,  1.20s/it]"
     ]
    },
    {
     "name": "stdout",
     "output_type": "stream",
     "text": [
      "113 #올드머니룩 하면 #폴로랄프로렌 🧸 https://youtu.be/pWkWEB5Dfp4 LovenFit 폴로 랄프로렌\n"
     ]
    },
    {
     "name": "stderr",
     "output_type": "stream",
     "text": [
      " 20%|█▉        | 115/580 [02:40<08:47,  1.13s/it]"
     ]
    },
    {
     "name": "stdout",
     "output_type": "stream",
     "text": [
      "114 폴로랄프로렌_과제_광고영상_22461082이유정 https://youtu.be/kjT-dSFa1SA&pp 이유정 폴로 랄프로렌\n"
     ]
    },
    {
     "name": "stderr",
     "output_type": "stream",
     "text": [
      " 20%|██        | 116/580 [02:41<08:19,  1.08s/it]"
     ]
    },
    {
     "name": "stdout",
     "output_type": "stream",
     "text": [
      "115 폴로랄프로렌 하프집업 https://youtu.be/NHteFTOLli8 리빙팁 폴로 랄프로렌\n"
     ]
    },
    {
     "name": "stderr",
     "output_type": "stream",
     "text": [
      " 20%|██        | 117/580 [02:42<08:24,  1.09s/it]"
     ]
    },
    {
     "name": "stdout",
     "output_type": "stream",
     "text": [
      "116 폴로바람막이 추천 판매순위 Top10 || 가격 평점 후기 비교 https://youtu.be/5gLz5m_I_js&pp 하나쇼핑 폴로 랄프로렌\n"
     ]
    },
    {
     "name": "stderr",
     "output_type": "stream",
     "text": [
      " 20%|██        | 118/580 [02:43<07:59,  1.04s/it]"
     ]
    },
    {
     "name": "stdout",
     "output_type": "stream",
     "text": [
      "117 랄프로렌st 깔끔 꾸안꾸 여름 데이트룩💙 https://youtu.be/WB7E2s6mQKg 멀린Merlin 폴로 랄프로렌\n"
     ]
    },
    {
     "name": "stderr",
     "output_type": "stream",
     "text": [
      " 21%|██        | 119/580 [02:44<07:42,  1.00s/it]"
     ]
    },
    {
     "name": "stdout",
     "output_type": "stream",
     "text": [
      "118 랄프로렌 폴로 스타일로 완성하는 올드머니룩#중년패션코디 #fashion #fashionstyle https://youtu.be/C4Nu80Qvlwg 중년코디 폴로 랄프로렌\n"
     ]
    },
    {
     "name": "stderr",
     "output_type": "stream",
     "text": [
      " 21%|██        | 120/580 [02:45<07:40,  1.00s/it]"
     ]
    },
    {
     "name": "stdout",
     "output_type": "stream",
     "text": [
      "119 #shots #쇼츠 폴로랄프로렌 해링턴, 바라쿠타 스타일링 #poloralphlauren #폴로랄프로렌 https://youtu.be/rKSsxXLWx-s BEKEI Barber 폴로 랄프로렌\n"
     ]
    },
    {
     "name": "stderr",
     "output_type": "stream",
     "text": [
      " 21%|██        | 121/580 [02:46<07:37,  1.00it/s]"
     ]
    },
    {
     "name": "stdout",
     "output_type": "stream",
     "text": [
      "120 폴로 피케 반팔 니트 스웨터 걸즈  :) #폴로 #폴로랄프로렌 #폴로걸즈 #폴로반팔 https://youtu.be/Yr0fcGTPjVU minute d mond 폴로 랄프로렌\n"
     ]
    },
    {
     "name": "stderr",
     "output_type": "stream",
     "text": [
      " 21%|██        | 122/580 [02:47<08:43,  1.14s/it]"
     ]
    },
    {
     "name": "stdout",
     "output_type": "stream",
     "text": [
      "121 폴로 반팔니트를 착용한 여자연예인 모음.zip https://youtu.be/3DjKMZRc8A8 도래Dorae 폴로 랄프로렌\n"
     ]
    },
    {
     "name": "stderr",
     "output_type": "stream",
     "text": [
      " 21%|██        | 123/580 [02:48<08:38,  1.13s/it]"
     ]
    },
    {
     "name": "stdout",
     "output_type": "stream",
     "text": [
      "122 폴로랄프로렌반팔 추천 판매순위 Top10 || 가격 평점 후기 비교 https://youtu.be/MvgYCKpzGIY&pp 별이 빛나는 쇼핑 폴로 랄프로렌\n"
     ]
    },
    {
     "name": "stderr",
     "output_type": "stream",
     "text": [
      " 21%|██▏       | 124/580 [02:50<09:16,  1.22s/it]"
     ]
    },
    {
     "name": "stdout",
     "output_type": "stream",
     "text": [
      "123 폴로 랄프로렌을 국내에서 구매하면 안되는 이유✔️ https://youtu.be/rJ41dHj_Dd4 설명서 폴로 랄프로렌\n"
     ]
    },
    {
     "name": "stderr",
     "output_type": "stream",
     "text": [
      " 22%|██▏       | 125/580 [02:51<08:46,  1.16s/it]"
     ]
    },
    {
     "name": "stdout",
     "output_type": "stream",
     "text": [
      "124 폴로 OOTD 데일리 아웃핏 :) #폴로 #폴로랄프로렌 #폴로코디 https://youtu.be/FsWEwNvAcek minute d mond 폴로 랄프로렌\n"
     ]
    },
    {
     "name": "stderr",
     "output_type": "stream",
     "text": [
      " 22%|██▏       | 126/580 [02:52<08:26,  1.12s/it]"
     ]
    },
    {
     "name": "stdout",
     "output_type": "stream",
     "text": [
      "125 오렌지 폴로셔츠로 오늘도 좋은 '예감'? https://youtu.be/Rh_WKKlq4o0 AkizStyle 아키즈스타일 폴로 랄프로렌\n"
     ]
    },
    {
     "name": "stderr",
     "output_type": "stream",
     "text": [
      " 22%|██▏       | 127/580 [02:53<08:38,  1.14s/it]"
     ]
    },
    {
     "name": "stdout",
     "output_type": "stream",
     "text": [
      "126 폴로 다양한 데일리룩 모음 #폴로 #폴로랄프로렌 #폴로데일리룩 #polo #랄뽕 #데일리룩 #shorts https://youtu.be/MYn_TEXadwE 현기로운생활 폴로 랄프로렌\n"
     ]
    },
    {
     "name": "stderr",
     "output_type": "stream",
     "text": [
      " 22%|██▏       | 128/580 [02:54<08:07,  1.08s/it]"
     ]
    },
    {
     "name": "stdout",
     "output_type": "stream",
     "text": [
      "127 랄프로렌/RRL/폴로/남성복/레트로/빈티지/패피/남자옷 https://youtu.be/F4o9k9MOPKM Prince Zang 폴로 랄프로렌\n"
     ]
    },
    {
     "name": "stderr",
     "output_type": "stream",
     "text": [
      " 22%|██▏       | 129/580 [02:55<07:46,  1.03s/it]"
     ]
    },
    {
     "name": "stdout",
     "output_type": "stream",
     "text": [
      "128 폴로 니트 #룩북 💖 https://youtu.be/lRnOVQ5o5Z0 행자씨 haengzassi 폴로 랄프로렌\n"
     ]
    },
    {
     "name": "stderr",
     "output_type": "stream",
     "text": [
      " 22%|██▏       | 130/580 [02:56<08:00,  1.07s/it]"
     ]
    },
    {
     "name": "stdout",
     "output_type": "stream",
     "text": [
      "129 브랜드 역사 읽어주는 퍼플가라지 #6 폴로 랄프로렌(POLO RALPH LAUREN)#shorts https://youtu.be/J4RSffnZI74 purple_garage 폴로 랄프로렌\n"
     ]
    },
    {
     "name": "stderr",
     "output_type": "stream",
     "text": [
      " 23%|██▎       | 131/580 [02:57<07:54,  1.06s/it]"
     ]
    },
    {
     "name": "stdout",
     "output_type": "stream",
     "text": [
      "130 올드머니룩의 대명사 폴로랄프로렌❗❗#올드머니룩 #폴로랄프로렌 #폴로 https://youtu.be/zBF-EvTDoSI 폴인몬스터스 폴로 랄프로렌\n"
     ]
    },
    {
     "name": "stderr",
     "output_type": "stream",
     "text": [
      " 23%|██▎       | 132/580 [02:58<07:40,  1.03s/it]"
     ]
    },
    {
     "name": "stdout",
     "output_type": "stream",
     "text": [
      "131 폴로 인터락 터틀넥 :) #폴로#폴로랄프로렌 #폴로터틀넥 https://youtu.be/B-11fI-nR_Y minute d mond 폴로 랄프로렌\n"
     ]
    },
    {
     "name": "stderr",
     "output_type": "stream",
     "text": [
      " 23%|██▎       | 133/580 [02:59<07:33,  1.01s/it]"
     ]
    },
    {
     "name": "stdout",
     "output_type": "stream",
     "text": [
      "132 폴로랄프로렌 꽈배기 브이넥 니트티 여자 긴팔 스웨터 12컬러 FW23 https://youtu.be/Lzsqhawoqys&pp 빨간단풍구매대행 폴로 랄프로렌\n"
     ]
    },
    {
     "name": "stderr",
     "output_type": "stream",
     "text": [
      " 23%|██▎       | 134/580 [03:00<07:53,  1.06s/it]"
     ]
    },
    {
     "name": "stdout",
     "output_type": "stream",
     "text": [
      "133 @폴로랄프로렌 여성 베이직 꽈배기 니트드레스. 너희 이거 입을수 이써?? 이뿌지!??? #full #money #배틀넷 #디아블로 https://youtu.be/zIgEZvqF67M ;(,LHJ9079) 폴로 랄프로렌\n"
     ]
    },
    {
     "name": "stderr",
     "output_type": "stream",
     "text": [
      " 23%|██▎       | 135/580 [03:01<07:51,  1.06s/it]"
     ]
    },
    {
     "name": "stdout",
     "output_type": "stream",
     "text": [
      "134 [small talk long walk #325] 폴로 랄프로렌 블루라벨을 수집한다면?! https://youtu.be/VsnmzIsDoTg&pp 수박 겉핥기 폴로 랄프로렌\n"
     ]
    },
    {
     "name": "stderr",
     "output_type": "stream",
     "text": [
      " 23%|██▎       | 136/580 [03:02<07:29,  1.01s/it]"
     ]
    },
    {
     "name": "stdout",
     "output_type": "stream",
     "text": [
      "135 한여름 코디 해주세요! https://youtu.be/q-XOrAkGRY8 AkizStyle 아키즈스타일 폴로 랄프로렌\n"
     ]
    },
    {
     "name": "stderr",
     "output_type": "stream",
     "text": [
      " 24%|██▎       | 137/580 [03:04<08:09,  1.11s/it]"
     ]
    },
    {
     "name": "stdout",
     "output_type": "stream",
     "text": [
      "136 폴로 랄프로렌가디건 추천 판매순위 Top10 || 가격 평점 후기 비교 https://youtu.be/D3atKQxi4uk&pp 슬기로운 쇼핑생활 폴로 랄프로렌\n"
     ]
    },
    {
     "name": "stderr",
     "output_type": "stream",
     "text": [
      " 24%|██▍       | 138/580 [03:05<08:23,  1.14s/it]"
     ]
    },
    {
     "name": "stdout",
     "output_type": "stream",
     "text": [
      "137 올해 가장 잘 팔린   폴로 랄프로렌 가디건   오늘의 인기추천   BEST  ㅣ내돈내산ㅣ생활 꿀템ㅣ https://youtu.be/ZxKSzt_yCPU&pp 품절각 폴로 랄프로렌\n"
     ]
    },
    {
     "name": "stderr",
     "output_type": "stream",
     "text": [
      " 24%|██▍       | 139/580 [03:06<08:19,  1.13s/it]"
     ]
    },
    {
     "name": "stdout",
     "output_type": "stream",
     "text": [
      "138 #폴로랄프로렌꽈배기니트 #폴로직구 #캐나다구매대행 #세레나마켓 👉좋아요 구독은 사랑❤️ https://youtu.be/FTpX0IYncfE 캐나다 세레나마켓 폴로 랄프로렌\n"
     ]
    },
    {
     "name": "stderr",
     "output_type": "stream",
     "text": [
      " 24%|██▍       | 140/580 [03:07<08:46,  1.20s/it]"
     ]
    },
    {
     "name": "stdout",
     "output_type": "stream",
     "text": [
      "139 폴로 하프집업 스웻셔츠:) #폴로  #폴로랄프로렌 #폴로스웻셔츠 https://youtu.be/M3ghOTYtyNE minute d mond 폴로 랄프로렌\n"
     ]
    },
    {
     "name": "stderr",
     "output_type": "stream",
     "text": [
      " 24%|██▍       | 141/580 [03:09<09:12,  1.26s/it]"
     ]
    },
    {
     "name": "stdout",
     "output_type": "stream",
     "text": [
      "140 해피추석🙌귀요미 가을코디🧸폴로 니트 사이즈팁&코디템 탈탈 털어줄겡🛍️ https://youtu.be/9p_s-TXPZEE 아랄라Beauty 폴로 랄프로렌\n"
     ]
    },
    {
     "name": "stderr",
     "output_type": "stream",
     "text": [
      " 24%|██▍       | 142/580 [03:10<08:54,  1.22s/it]"
     ]
    },
    {
     "name": "stdout",
     "output_type": "stream",
     "text": [
      "141 폴로랄프로렌 소라색 반팔 피케이 티셔츠 / 제품 상세정보 및 구매는 댓글에 링크 남겨두었습니다 🙇🏻‍♂️ https://youtu.be/AGYDL8pd_TI 옷;집 폴로 랄프로렌\n"
     ]
    },
    {
     "name": "stderr",
     "output_type": "stream",
     "text": [
      " 25%|██▍       | 143/580 [03:11<08:46,  1.20s/it]"
     ]
    },
    {
     "name": "stdout",
     "output_type": "stream",
     "text": [
      "142 폴로 걸즈와 보이즈에 차이점?, 차이점을 모르면 손해 본다? https://youtu.be/vC-mIoF6C4w 안나의 직구 스토리 폴로 랄프로렌\n"
     ]
    },
    {
     "name": "stderr",
     "output_type": "stream",
     "text": [
      " 25%|██▍       | 144/580 [03:12<08:32,  1.18s/it]"
     ]
    },
    {
     "name": "stdout",
     "output_type": "stream",
     "text": [
      "143 Polo Ralph Lauren Houndstooth 3roll2 Wool Blazer Jacket XL105 구매 문의 인스타 𝐃𝐌. https://youtu.be/CVQywNd9jHA PoloRalphCode 폴로 랄프로렌\n"
     ]
    },
    {
     "name": "stderr",
     "output_type": "stream",
     "text": [
      " 25%|██▌       | 145/580 [03:13<08:27,  1.17s/it]"
     ]
    },
    {
     "name": "stdout",
     "output_type": "stream",
     "text": [
      "144 #폴로랄프로렌 그린 코튼 풀오버 / 남자 100 여자 55~66 사이즈 #shorts https://youtu.be/7EsoVlfuwrc 옷;집 폴로 랄프로렌\n"
     ]
    },
    {
     "name": "stderr",
     "output_type": "stream",
     "text": [
      " 25%|██▌       | 146/580 [03:15<10:07,  1.40s/it]"
     ]
    },
    {
     "name": "stdout",
     "output_type": "stream",
     "text": [
      "145 70's Polo Ralph Lauren 91-b Ball Chain Wool Sports Coat Jacket L100 구매 문의 인스타 𝐃𝐌. https://youtu.be/vVT1OgWTcxI PoloRalphCode 폴로 랄프로렌\n"
     ]
    },
    {
     "name": "stderr",
     "output_type": "stream",
     "text": [
      " 25%|██▌       | 147/580 [03:16<09:35,  1.33s/it]"
     ]
    },
    {
     "name": "stdout",
     "output_type": "stream",
     "text": [
      "146 OTJIP OOTD / 여성 44~55 size  / 폴로랄프로렌 셔츠 원피스 코디 https://youtu.be/9My4YJ0HabM&pp 옷;집 폴로 랄프로렌\n"
     ]
    },
    {
     "name": "stderr",
     "output_type": "stream",
     "text": [
      " 26%|██▌       | 148/580 [03:18<09:29,  1.32s/it]"
     ]
    },
    {
     "name": "stdout",
     "output_type": "stream",
     "text": [
      "147 올해 핫한 폴로랄프로렌 가디건 코디💕올드머니 브랜드 https://youtu.be/YfXFKmrJoVg 데라세르나 de la Serna 폴로 랄프로렌\n"
     ]
    },
    {
     "name": "stderr",
     "output_type": "stream",
     "text": [
      " 26%|██▌       | 149/580 [03:19<09:38,  1.34s/it]"
     ]
    },
    {
     "name": "stdout",
     "output_type": "stream",
     "text": [
      "148 깔끔하게 입기 좋지만 폴로 때문에 힘을 못쓰는 브랜드? (폴로랄프로렌이 지겹다면 ?) #shorts https://youtu.be/1dadT-x6PSE 식스타일 폴로 랄프로렌\n"
     ]
    },
    {
     "name": "stderr",
     "output_type": "stream",
     "text": [
      " 26%|██▌       | 150/580 [03:20<09:45,  1.36s/it]"
     ]
    },
    {
     "name": "stdout",
     "output_type": "stream",
     "text": [
      "149 폴로로 해보는 깔끔한 색감코디! https://youtu.be/IAJo9hcNjls 레슬패션 폴로 랄프로렌\n"
     ]
    },
    {
     "name": "stderr",
     "output_type": "stream",
     "text": [
      " 26%|██▌       | 151/580 [03:22<09:48,  1.37s/it]"
     ]
    },
    {
     "name": "stdout",
     "output_type": "stream",
     "text": [
      "150 폴로 스트라이프 와플 롱슬리브 니트:) #폴로 #폴로랄프로렌 #폴로니트 https://youtu.be/E60Tq4Sl35I minute d mond 폴로 랄프로렌\n"
     ]
    },
    {
     "name": "stderr",
     "output_type": "stream",
     "text": [
      " 26%|██▌       | 152/580 [03:23<09:43,  1.36s/it]"
     ]
    },
    {
     "name": "stdout",
     "output_type": "stream",
     "text": [
      "151 폴로니트 공구 정품일까? 해외직구, 아울렛 매장템과 비교 (165cm S사이즈) #폴로 https://youtu.be/S3R4Pk3FrkI&pp 리뷰하는 묘대리 폴로 랄프로렌\n"
     ]
    },
    {
     "name": "stderr",
     "output_type": "stream",
     "text": [
      " 26%|██▋       | 153/580 [03:25<09:55,  1.40s/it]"
     ]
    },
    {
     "name": "stdout",
     "output_type": "stream",
     "text": [
      "152 누구나 다 아는 브랜드, 하지만 누구도 봐 주지 않는 가방들 (ft: Ralph Lauren Soft Ricky 33, MCM Aren Boston bag) https://youtu.be/rwXZilI9YSc&pp Maison Baro 메종 바로 스타일 폴로 랄프로렌\n"
     ]
    },
    {
     "name": "stderr",
     "output_type": "stream",
     "text": [
      " 27%|██▋       | 154/580 [03:26<09:54,  1.40s/it]"
     ]
    },
    {
     "name": "stdout",
     "output_type": "stream",
     "text": [
      "153 폴로 반팔 가디건 사이즈별로 입어봤어요! #shorts #폴로 #poloralphlauren #폴로랄프로렌 #폴로니트 https://youtu.be/StWLW_c-d2k 째알라의 패션로그 폴로 랄프로렌\n"
     ]
    },
    {
     "name": "stderr",
     "output_type": "stream",
     "text": [
      " 27%|██▋       | 155/580 [03:28<10:05,  1.42s/it]"
     ]
    },
    {
     "name": "stdout",
     "output_type": "stream",
     "text": [
      "154 [폴로 랄프로렌 3탄] 폴로 가격 논란? 같은 디자인인데 가격이 2배 차이 난다고?!('키즈' 편) https://youtu.be/tDe0-4qSUVI&pp 쇼핑스, 해외라이브 쇼핑 플랫폼 폴로 랄프로렌\n"
     ]
    },
    {
     "name": "stderr",
     "output_type": "stream",
     "text": [
      " 27%|██▋       | 156/580 [03:29<10:28,  1.48s/it]"
     ]
    },
    {
     "name": "stdout",
     "output_type": "stream",
     "text": [
      "155 폴로랄프로렌 판매순위 인기 TOP10 추천 / 할인정보 / 가격 / 후기 / 가성비 https://youtu.be/-5w2WoU2M6E&pp Third review 폴로 랄프로렌\n"
     ]
    },
    {
     "name": "stderr",
     "output_type": "stream",
     "text": [
      " 27%|██▋       | 157/580 [03:31<10:31,  1.49s/it]"
     ]
    },
    {
     "name": "stdout",
     "output_type": "stream",
     "text": [
      "156 최근쇼핑템들 #lelabo #폴로랄프로렌 #빈스 #vince #칼하트 #나이키 https://youtu.be/3Ib0t29vSmg 코키로키kokiroki 폴로 랄프로렌\n"
     ]
    },
    {
     "name": "stderr",
     "output_type": "stream",
     "text": [
      " 27%|██▋       | 158/580 [03:32<10:44,  1.53s/it]"
     ]
    },
    {
     "name": "stdout",
     "output_type": "stream",
     "text": [
      "157 🌼폴로랄프로렌 남성 야구 자켓🌼 https://youtu.be/DnlgFDAp040 빨간단풍구매대행 폴로 랄프로렌\n"
     ]
    },
    {
     "name": "stderr",
     "output_type": "stream",
     "text": [
      " 27%|██▋       | 159/580 [03:34<10:59,  1.57s/it]"
     ]
    },
    {
     "name": "stdout",
     "output_type": "stream",
     "text": [
      "158 #랄프로렌 #면자켓 #폴로자켓 https://youtu.be/htr2G1YlNH4 MAMAs마마스 폴로 랄프로렌\n"
     ]
    },
    {
     "name": "stderr",
     "output_type": "stream",
     "text": [
      " 28%|██▊       | 160/580 [03:36<11:09,  1.59s/it]"
     ]
    },
    {
     "name": "stdout",
     "output_type": "stream",
     "text": [
      "159 폴로 니트 가디건 성해은 여친룩 패션 https://youtu.be/Q0Pwpr8gTaQ 인끼패션 폴로 랄프로렌\n"
     ]
    },
    {
     "name": "stderr",
     "output_type": "stream",
     "text": [
      " 28%|██▊       | 161/580 [03:37<11:26,  1.64s/it]"
     ]
    },
    {
     "name": "stdout",
     "output_type": "stream",
     "text": [
      "160 230509 POLO RALPH LAUREN 2024 SPRING: 아트 오브 이스케이프 : MARK (현대요트 서울지점-더리버) https://youtu.be/KY0ojOZBVo4&pp moonlight_0325 폴로 랄프로렌\n"
     ]
    },
    {
     "name": "stderr",
     "output_type": "stream",
     "text": [
      " 28%|██▊       | 162/580 [03:39<11:10,  1.60s/it]"
     ]
    },
    {
     "name": "stdout",
     "output_type": "stream",
     "text": [
      "161 #폴로랄프로렌 인디 레드 긴팔 면 셔츠 #shorts https://youtu.be/69K2PMs9yjE 옷;집 폴로 랄프로렌\n"
     ]
    },
    {
     "name": "stderr",
     "output_type": "stream",
     "text": [
      " 28%|██▊       | 163/580 [03:40<10:57,  1.58s/it]"
     ]
    },
    {
     "name": "stdout",
     "output_type": "stream",
     "text": [
      "162 80's Polo Ralph Lauren Forest Green Corduroy Barracuda Jacket L100-XL105 구매 문의 인스타 𝐃𝐌. https://youtu.be/4bnK8t4xjA8 PoloRalphCode 폴로 랄프로렌\n"
     ]
    },
    {
     "name": "stderr",
     "output_type": "stream",
     "text": [
      " 28%|██▊       | 164/580 [03:42<10:56,  1.58s/it]"
     ]
    },
    {
     "name": "stdout",
     "output_type": "stream",
     "text": [
      "163 옷집 오오티디 otjipootd / 여성 44~55 사이즈 착장 / 폴로랄프로렌 린넨셔츠,리바이스 숏 팬츠 https://youtu.be/vV2VKh_MyYg 옷;집 폴로 랄프로렌\n"
     ]
    },
    {
     "name": "stderr",
     "output_type": "stream",
     "text": [
      " 28%|██▊       | 165/580 [03:43<10:34,  1.53s/it]"
     ]
    },
    {
     "name": "stdout",
     "output_type": "stream",
     "text": [
      "164 제가 샀던건 럭비티셔츠 였습니다! 2,3 중에 고민하다가 2 길이가 애매해서 3으로 겟. 싼 가격에 너무 잘 산거 같아요😆 #폴로 #폴로랄프로렌 #폴로키즈 #키즈 #폴로하울 https://youtu.be/0mKhbJMzuvQ 솔 Sol 폴로 랄프로렌\n"
     ]
    },
    {
     "name": "stderr",
     "output_type": "stream",
     "text": [
      " 29%|██▊       | 166/580 [03:45<10:39,  1.54s/it]"
     ]
    },
    {
     "name": "stdout",
     "output_type": "stream",
     "text": [
      "165 2024년 판매랭킹 상위품목 추천 ★   폴로 랄프로렌 린넨 셔츠   오늘의 인기추천   BEST   ㅣ추천템ㅣ생활 꿀템ㅣ https://youtu.be/X0mqC2njWEM&pp HotShop 폴로 랄프로렌\n"
     ]
    },
    {
     "name": "stderr",
     "output_type": "stream",
     "text": [
      " 29%|██▉       | 167/580 [03:46<10:09,  1.47s/it]"
     ]
    },
    {
     "name": "stdout",
     "output_type": "stream",
     "text": [
      "166 #빈티지 #폴로랄프로렌 레드 스트라이프 드레스셔츠 #shorts https://youtu.be/dRiVOOHGo1Q 옷;집 폴로 랄프로렌\n"
     ]
    },
    {
     "name": "stderr",
     "output_type": "stream",
     "text": [
      " 29%|██▉       | 168/580 [03:48<11:02,  1.61s/it]"
     ]
    },
    {
     "name": "stdout",
     "output_type": "stream",
     "text": [
      "167 하와이 와이켈레프리미엄아울렛 폴로 저렴하게 득템하는 꿀팁 가격정보 https://youtu.be/x2RI0_jTZ1Q 뉴미 NewMi 폴로 랄프로렌\n"
     ]
    },
    {
     "name": "stderr",
     "output_type": "stream",
     "text": [
      " 29%|██▉       | 169/580 [03:50<11:31,  1.68s/it]"
     ]
    },
    {
     "name": "stdout",
     "output_type": "stream",
     "text": [
      "168 Polo Ralph Lauren Black Corduroy Sports Coat Hunting Field Jacket 105-108 구매 문의 인스타 𝐃𝐌. https://youtu.be/xysAEqVk1V0 PoloRalphCode 폴로 랄프로렌\n"
     ]
    },
    {
     "name": "stderr",
     "output_type": "stream",
     "text": [
      " 29%|██▉       | 170/580 [03:52<11:54,  1.74s/it]"
     ]
    },
    {
     "name": "stdout",
     "output_type": "stream",
     "text": [
      "169 폴로 랄프로렌 남자 니트 사이즈 팁 #shorts https://youtu.be/p5Ml0ZQgXNQ 코즐리 Cozily 폴로 랄프로렌\n"
     ]
    },
    {
     "name": "stderr",
     "output_type": "stream",
     "text": [
      " 29%|██▉       | 171/580 [03:54<11:52,  1.74s/it]"
     ]
    },
    {
     "name": "stdout",
     "output_type": "stream",
     "text": [
      "170 바지 하나로 명품 여름 출근룩 완료!🧑🏻‍💻 | 톰브라운 | 폴로랄프로렌 | 겐조 | 메종 마르지엘라 | 브리오니 | 어도어럭스 https://youtu.be/uRUahjxP8-A&pp 어도어럭스 AdoreLUX 폴로 랄프로렌\n"
     ]
    },
    {
     "name": "stderr",
     "output_type": "stream",
     "text": [
      " 30%|██▉       | 172/580 [03:56<12:11,  1.79s/it]"
     ]
    },
    {
     "name": "stdout",
     "output_type": "stream",
     "text": [
      "171 #캐나다구매대행 #세레나마켓 #라이브방송 #폴로랄프로렌정품 #반팔니트 #폴로꽈배기니트 핫딜✨️ '세레나마켓'을 검색해주세요:) https://youtu.be/5I7mhw8CzCg 캐나다 세레나마켓 폴로 랄프로렌\n"
     ]
    },
    {
     "name": "stderr",
     "output_type": "stream",
     "text": [
      " 30%|██▉       | 173/580 [03:57<12:26,  1.84s/it]"
     ]
    },
    {
     "name": "stdout",
     "output_type": "stream",
     "text": [
      "172 가성비 폴로랄프로렌 추천 Top7, 트렌디한 폴로랄프로렌 후기 best 가격비교 리뷰 https://youtu.be/uCbvxOzA0qg&pp 트렌드모아 폴로 랄프로렌\n"
     ]
    },
    {
     "name": "stderr",
     "output_type": "stream",
     "text": [
      " 30%|███       | 174/580 [04:00<13:30,  2.00s/it]"
     ]
    },
    {
     "name": "stdout",
     "output_type": "stream",
     "text": [
      "173 폴로 랄프로렌 향수 추천 순위 TOP5 https://youtu.be/eM0SzAZN7pM&pp 아이템솔루션 폴로 랄프로렌\n"
     ]
    },
    {
     "name": "stderr",
     "output_type": "stream",
     "text": [
      " 30%|███       | 175/580 [04:02<13:22,  1.98s/it]"
     ]
    },
    {
     "name": "stdout",
     "output_type": "stream",
     "text": [
      "174 미국에서 한국으로!! #슈프림 #폴로랄프로렌  #브랜드유통 #상품소싱 https://youtu.be/38WGbvmBpKE 헬프맨 폴로 랄프로렌\n"
     ]
    },
    {
     "name": "stderr",
     "output_type": "stream",
     "text": [
      " 30%|███       | 176/580 [04:04<13:01,  1.93s/it]"
     ]
    },
    {
     "name": "stdout",
     "output_type": "stream",
     "text": [
      "175 직장인 폴로 니트 코디 모음🖤 https://youtu.be/1z6-2a1GS1A 해브윤 haveyun 폴로 랄프로렌\n"
     ]
    },
    {
     "name": "stderr",
     "output_type": "stream",
     "text": [
      " 31%|███       | 177/580 [04:05<12:14,  1.82s/it]"
     ]
    },
    {
     "name": "stdout",
     "output_type": "stream",
     "text": [
      "176 폴로 시즌 한정 달마시안 인타르시아 스웨터:) #폴로랄프로렌 #폴로스웨터 #폴로 https://youtu.be/15d4T_z3x7o minute d mond 폴로 랄프로렌\n"
     ]
    },
    {
     "name": "stderr",
     "output_type": "stream",
     "text": [
      " 31%|███       | 178/580 [04:07<11:27,  1.71s/it]"
     ]
    },
    {
     "name": "stdout",
     "output_type": "stream",
     "text": [
      "177 자칭 폴로랄프로렌 전문가가 선택한 사람들이 많이 찾는 폴로랄프로렌 추천 TOP 10 !! https://youtu.be/y8JDW7GeiWA&pp 이쿼보고카 폴로 랄프로렌\n"
     ]
    },
    {
     "name": "stderr",
     "output_type": "stream",
     "text": [
      " 31%|███       | 179/580 [04:08<11:00,  1.65s/it]"
     ]
    },
    {
     "name": "stdout",
     "output_type": "stream",
     "text": [
      "178 💖폴로랄프로렌 다이아몬드 여성 퀼팅 패딩 경량 패딩 숏 자켓 3컬러 FW23💖 https://youtu.be/OVSmgDtKTCI 빨간단풍구매대행 폴로 랄프로렌\n"
     ]
    },
    {
     "name": "stderr",
     "output_type": "stream",
     "text": [
      " 31%|███       | 180/580 [04:10<11:02,  1.66s/it]"
     ]
    },
    {
     "name": "stdout",
     "output_type": "stream",
     "text": [
      "179 폴로구매꿀팁 #폴로반값꿀팁 #폴로 #사바나이모저모 https://youtu.be/PCP7oM2SVGE 사바나 이모저모 폴로 랄프로렌\n"
     ]
    },
    {
     "name": "stderr",
     "output_type": "stream",
     "text": [
      " 31%|███       | 181/580 [04:11<10:06,  1.52s/it]"
     ]
    },
    {
     "name": "stdout",
     "output_type": "stream",
     "text": [
      "180 여름 꿀템! 폴로 린넨셔츠 반값보다 싸게 구하는 법! #직구 #폴로 #쇼핑 #패션 https://youtu.be/YNAwFTX8mVk 해외직구는 뉴욕걸즈 폴로 랄프로렌\n"
     ]
    },
    {
     "name": "stderr",
     "output_type": "stream",
     "text": [
      " 31%|███▏      | 182/580 [04:12<09:52,  1.49s/it]"
     ]
    },
    {
     "name": "stdout",
     "output_type": "stream",
     "text": [
      "181 5/24 빈티지샵 otjip 신상 업로드 완료 :) #shorts #폴로랄프로렌 #폴로카라티 https://youtu.be/MIT_4XUC2UY 옷;집 폴로 랄프로렌\n"
     ]
    },
    {
     "name": "stderr",
     "output_type": "stream",
     "text": [
      " 32%|███▏      | 183/580 [04:14<09:47,  1.48s/it]"
     ]
    },
    {
     "name": "stdout",
     "output_type": "stream",
     "text": [
      "182 폴로 랄프로렌 반팔티 여성  211506471 통기성 테스트 https://youtu.be/0KMTb0tWhkk&pp 주식회사 조아무역 JoaTrade 폴로 랄프로렌\n"
     ]
    },
    {
     "name": "stderr",
     "output_type": "stream",
     "text": [
      " 32%|███▏      | 184/580 [04:15<09:04,  1.38s/it]"
     ]
    },
    {
     "name": "stdout",
     "output_type": "stream",
     "text": [
      "183 빈티지 구제 폴로피케셔츠 https://youtu.be/GLjoFQD_Ems 스위치클로젯 폴로 랄프로렌\n"
     ]
    },
    {
     "name": "stderr",
     "output_type": "stream",
     "text": [
      " 32%|███▏      | 185/580 [04:16<08:38,  1.31s/it]"
     ]
    },
    {
     "name": "stdout",
     "output_type": "stream",
     "text": [
      "184 Polo Ralph Lauren Flight Ma-1 Usrl Wingstar Flight Jacket XL105 구매 문의 인스타 𝐃𝐌. https://youtu.be/45yFy1dFSDI PoloRalphCode 폴로 랄프로렌\n"
     ]
    },
    {
     "name": "stderr",
     "output_type": "stream",
     "text": [
      " 32%|███▏      | 186/580 [04:17<08:34,  1.31s/it]"
     ]
    },
    {
     "name": "stdout",
     "output_type": "stream",
     "text": [
      "185 내돈내산 택배 언박싱..  핫한 랄프로렌, 화이트셔츠, 고현정 그릇, 운동복 등 #shorts #언박싱 #패션 https://youtu.be/5jsr_tWVclY 정반대부부 폴로 랄프로렌\n"
     ]
    },
    {
     "name": "stderr",
     "output_type": "stream",
     "text": [
      " 32%|███▏      | 187/580 [04:19<08:20,  1.27s/it]"
     ]
    },
    {
     "name": "stdout",
     "output_type": "stream",
     "text": [
      "186 2024년 사람들이 많이 찾는 폴로랄프로렌 추천 TOP 10 https://youtu.be/uo07fRXrvZM&pp 이쿼보고카 폴로 랄프로렌\n"
     ]
    },
    {
     "name": "stderr",
     "output_type": "stream",
     "text": [
      " 32%|███▏      | 188/580 [04:20<08:02,  1.23s/it]"
     ]
    },
    {
     "name": "stdout",
     "output_type": "stream",
     "text": [
      "187 폴로랄프로렌 인디 블루 무지 반팔 티셔츠 / 제품 상세정보 및 규매는 댓글에 링크 남겨두었습니다 🙇🏻‍♂️ https://youtu.be/FpjYmpyh0ko 옷;집 폴로 랄프로렌\n"
     ]
    },
    {
     "name": "stderr",
     "output_type": "stream",
     "text": [
      " 33%|███▎      | 189/580 [04:21<07:55,  1.22s/it]"
     ]
    },
    {
     "name": "stdout",
     "output_type": "stream",
     "text": [
      "188 그 자켓 안추워? (B-10 플라이트 자켓) https://youtu.be/vp_SLHH_toA AkizStyle 아키즈스타일 폴로 랄프로렌\n"
     ]
    },
    {
     "name": "stderr",
     "output_type": "stream",
     "text": [
      " 33%|███▎      | 190/580 [04:22<07:55,  1.22s/it]"
     ]
    },
    {
     "name": "stdout",
     "output_type": "stream",
     "text": [
      "189 폴로니트 공구 정품일까? 해외직구, 아울렛 매장템과 비교 (165cm S사이즈) #폴로 https://youtu.be/S3R4Pk3FrkI&pp 리뷰하는 묘대리 폴로 랄프로렌\n"
     ]
    },
    {
     "name": "stderr",
     "output_type": "stream",
     "text": [
      " 33%|███▎      | 191/580 [04:23<07:58,  1.23s/it]"
     ]
    },
    {
     "name": "stdout",
     "output_type": "stream",
     "text": [
      "190 #테디뵈르하우스 간 날 #여름룩 #ootd #랄프로렌 #폴로랄프로렌 #자라 스커트 그리고 #cos #퀼팅백 #젤리캣 까지🧸 https://youtu.be/B1tBgV61XkQ 서애쿠 폴로 랄프로렌\n"
     ]
    },
    {
     "name": "stderr",
     "output_type": "stream",
     "text": [
      " 33%|███▎      | 192/580 [04:25<08:04,  1.25s/it]"
     ]
    },
    {
     "name": "stdout",
     "output_type": "stream",
     "text": [
      "191 폴로 보이즈 가을 신상은 어떤게 나왔을까?💛 미국에서 미리 봐보자! https://youtu.be/xsVyOCaD3IQ 쇼핑스, 해외라이브 쇼핑 플랫폼 폴로 랄프로렌\n"
     ]
    },
    {
     "name": "stderr",
     "output_type": "stream",
     "text": [
      " 33%|███▎      | 193/580 [04:26<07:43,  1.20s/it]"
     ]
    },
    {
     "name": "stdout",
     "output_type": "stream",
     "text": [
      "192 폴로 봄 코디 💓 #폴로코디 #폴로 #봄코디 #직장인데일리룩 #출근룩 #봄오오티디 #봄데이트룩 #데일리코디 #폴로랄프로렌 #올드머니룩 #데님셔츠 #폴로셔츠 https://youtu.be/jocJBHw9KZ0 해브윤 haveyun 폴로 랄프로렌\n"
     ]
    },
    {
     "name": "stderr",
     "output_type": "stream",
     "text": [
      " 33%|███▎      | 194/580 [04:27<07:12,  1.12s/it]"
     ]
    },
    {
     "name": "stdout",
     "output_type": "stream",
     "text": [
      "193 폴로랄프로렌을 저렴하게 구매하는 방법 2탄🧡 꿀팁 대공개 https://youtu.be/xcyzgnM-Pxs 설명서 폴로 랄프로렌\n"
     ]
    },
    {
     "name": "stderr",
     "output_type": "stream",
     "text": [
      " 34%|███▎      | 195/580 [04:28<07:11,  1.12s/it]"
     ]
    },
    {
     "name": "stdout",
     "output_type": "stream",
     "text": [
      "194 #폴로랄프로렌 블랙 니트 남자 115 빅사이즈 / #Shorts https://youtu.be/bIDXAr-ISa4 옷;집 폴로 랄프로렌\n"
     ]
    },
    {
     "name": "stderr",
     "output_type": "stream",
     "text": [
      " 34%|███▍      | 196/580 [04:29<06:55,  1.08s/it]"
     ]
    },
    {
     "name": "stdout",
     "output_type": "stream",
     "text": [
      "195 4/7 빈티지샵 OTJIP 신상 업로드 완료 :) #shorts #폴로랄프로렌 #폴로럭비티 #폴로코디 #폴로룩 https://youtu.be/i-8jXFfggdo 옷;집 폴로 랄프로렌\n"
     ]
    },
    {
     "name": "stderr",
     "output_type": "stream",
     "text": [
      " 34%|███▍      | 197/580 [04:30<06:32,  1.02s/it]"
     ]
    },
    {
     "name": "stdout",
     "output_type": "stream",
     "text": [
      "196 8월 첫째주, 옷잘입는 언니들이 산택한 아이템, 니트상의 https://youtu.be/mlDi_F89xrE 오늘도 뷰티풀 폴로 랄프로렌\n"
     ]
    },
    {
     "name": "stderr",
     "output_type": "stream",
     "text": [
      " 34%|███▍      | 198/580 [04:31<06:26,  1.01s/it]"
     ]
    },
    {
     "name": "stdout",
     "output_type": "stream",
     "text": [
      "197 진짜 개쩌는 치노팬츠 추천 ! 폴로 랄프로렌 치노팬츠 아닙니다. https://youtu.be/yxV2Z6KwqVI&pp 탈패션 FASHION 폴로 랄프로렌\n"
     ]
    },
    {
     "name": "stderr",
     "output_type": "stream",
     "text": [
      " 34%|███▍      | 199/580 [04:32<06:29,  1.02s/it]"
     ]
    },
    {
     "name": "stdout",
     "output_type": "stream",
     "text": [
      "198 #폴로랄프로렌 그린 스트라니프 셔츠 여자 44 사이드 #shorts https://youtu.be/8yRmjnkMIZc 옷;집 폴로 랄프로렌\n"
     ]
    },
    {
     "name": "stderr",
     "output_type": "stream",
     "text": [
      " 34%|███▍      | 200/580 [04:33<06:28,  1.02s/it]"
     ]
    },
    {
     "name": "stdout",
     "output_type": "stream",
     "text": [
      "199 폴로랄프로렌 추천 랭킹 BEST7 II 쇼핑 트렌드 폴로랄프로렌 인기 TOP7 https://youtu.be/CvpCA7s7n0o&pp dldbalc store 폴로 랄프로렌\n"
     ]
    },
    {
     "name": "stderr",
     "output_type": "stream",
     "text": [
      " 35%|███▍      | 201/580 [04:34<06:39,  1.05s/it]"
     ]
    },
    {
     "name": "stdout",
     "output_type": "stream",
     "text": [
      "200 🌻23FW 코듀로이 골덴 셔츠 폴로랄프로렌 남자 클래식핏 7컬러🌻 https://youtu.be/aDZqvMt0cWw 빨간단풍구매대행 폴로 랄프로렌\n"
     ]
    },
    {
     "name": "stderr",
     "output_type": "stream",
     "text": [
      " 35%|███▍      | 202/580 [04:35<06:56,  1.10s/it]"
     ]
    },
    {
     "name": "stdout",
     "output_type": "stream",
     "text": [
      "201 폴로 랄프로렌 맨투맨 https://youtu.be/rSF7PZfBMvQ 마딘프라 폴로 랄프로렌\n"
     ]
    },
    {
     "name": "stderr",
     "output_type": "stream",
     "text": [
      " 35%|███▌      | 203/580 [04:36<06:44,  1.07s/it]"
     ]
    },
    {
     "name": "stdout",
     "output_type": "stream",
     "text": [
      "202 Polo 6 lookbook #폴로니트 #폴로가디건 폴로공구진행중 https://youtu.be/kWQP0XgzNgg hyeji 혜지  폴로 랄프로렌\n"
     ]
    },
    {
     "name": "stderr",
     "output_type": "stream",
     "text": [
      " 35%|███▌      | 204/580 [04:37<06:37,  1.06s/it]"
     ]
    },
    {
     "name": "stdout",
     "output_type": "stream",
     "text": [
      "203 #폴로랄프로렌 그레이 #후드집업 남자 105~110 사이즈 #shorts https://youtu.be/YFWiBKcuVZQ 옷;집 폴로 랄프로렌\n"
     ]
    },
    {
     "name": "stderr",
     "output_type": "stream",
     "text": [
      " 35%|███▌      | 205/580 [04:38<06:51,  1.10s/it]"
     ]
    },
    {
     "name": "stdout",
     "output_type": "stream",
     "text": [
      "204 🥀폴로랄프로렌 여성 코듀로이 골덴 로고 패치 블레이저 자켓 FW23🥀 https://youtu.be/39ipGUrUe0Y 빨간단풍구매대행 폴로 랄프로렌\n"
     ]
    },
    {
     "name": "stderr",
     "output_type": "stream",
     "text": [
      " 36%|███▌      | 206/580 [04:39<06:49,  1.09s/it]"
     ]
    },
    {
     "name": "stdout",
     "output_type": "stream",
     "text": [
      "205 폴로랄프로렌 블루 반팔 피케이 티셔츠 / 제품 상세정보 및 구매는 댓글에 링크 남겨두었습니다 🙇🏻‍♂️ https://youtu.be/bOg54BLajZw 옷;집 폴로 랄프로렌\n"
     ]
    },
    {
     "name": "stderr",
     "output_type": "stream",
     "text": [
      " 36%|███▌      | 207/580 [04:41<06:44,  1.08s/it]"
     ]
    },
    {
     "name": "stdout",
     "output_type": "stream",
     "text": [
      "206 영국 폴로 랄프로렌의 담요와 쿠션 https://youtu.be/dSO5LpSK9ls 할로겐 Shorts 폴로 랄프로렌\n"
     ]
    },
    {
     "name": "stderr",
     "output_type": "stream",
     "text": [
      " 36%|███▌      | 208/580 [04:42<06:49,  1.10s/it]"
     ]
    },
    {
     "name": "stdout",
     "output_type": "stream",
     "text": [
      "207 폴로랄프로렌 남성 경량 패딩 후드 패딩 점퍼 3컬러 NEW FW23❤️ https://youtu.be/Lc8aog99VjQ 빨간단풍구매대행 폴로 랄프로렌\n"
     ]
    },
    {
     "name": "stderr",
     "output_type": "stream",
     "text": [
      " 36%|███▌      | 209/580 [04:43<06:52,  1.11s/it]"
     ]
    },
    {
     "name": "stdout",
     "output_type": "stream",
     "text": [
      "208 폴로랄프로렌 레드 반팔 티셔츠 / 제품 정보 및 구매는 댓글에 링크 걸어두었습니다 🙇🏻‍♂️ https://youtu.be/MTRV6xeNH0c 옷;집 폴로 랄프로렌\n"
     ]
    },
    {
     "name": "stderr",
     "output_type": "stream",
     "text": [
      " 36%|███▌      | 210/580 [04:44<06:42,  1.09s/it]"
     ]
    },
    {
     "name": "stdout",
     "output_type": "stream",
     "text": [
      "209 RALPH LAUREN | Polo Ralph Lauren | Polo Originals https://youtu.be/bjSDuKo3ax8&pp Ralph Lauren 폴로 랄프로렌\n"
     ]
    },
    {
     "name": "stderr",
     "output_type": "stream",
     "text": [
      " 36%|███▋      | 211/580 [04:45<06:45,  1.10s/it]"
     ]
    },
    {
     "name": "stdout",
     "output_type": "stream",
     "text": [
      "210 윈터의 폴로 랄프로렌 봄패션 #에스파윈터 #폴로랄프로렌 https://youtu.be/LBbbITTUUAU 플레이아웃핏 폴로 랄프로렌\n"
     ]
    },
    {
     "name": "stderr",
     "output_type": "stream",
     "text": [
      " 37%|███▋      | 212/580 [04:46<06:53,  1.12s/it]"
     ]
    },
    {
     "name": "stdout",
     "output_type": "stream",
     "text": [
      "211 내가 폴로를 판매하게 된 이유는 OO 때문이다 https://youtu.be/RdjKXQDtL10 letmerainpolo 폴로 랄프로렌\n"
     ]
    },
    {
     "name": "stderr",
     "output_type": "stream",
     "text": [
      " 37%|███▋      | 213/580 [04:47<06:48,  1.11s/it]"
     ]
    },
    {
     "name": "stdout",
     "output_type": "stream",
     "text": [
      "212 랄프로렌블루 향수 랄프로렌폴로 폴로향수 125ml  오두토일렛 https://youtu.be/tF7EpNjN0g4 위대한 안쌤 폴로 랄프로렌\n"
     ]
    },
    {
     "name": "stderr",
     "output_type": "stream",
     "text": [
      " 37%|███▋      | 214/580 [04:49<07:39,  1.26s/it]"
     ]
    },
    {
     "name": "stdout",
     "output_type": "stream",
     "text": [
      "213 남자 코디아이템 폴로 랄프로렌 셔츠 크게 입어보기!! https://youtu.be/SH9G8YWbHtU 호여니 패션 폴로 랄프로렌\n"
     ]
    },
    {
     "name": "stderr",
     "output_type": "stream",
     "text": [
      " 37%|███▋      | 215/580 [04:50<08:18,  1.37s/it]"
     ]
    },
    {
     "name": "stdout",
     "output_type": "stream",
     "text": [
      "214 #폴로랄프로렌 블루 멀티 스트라이프 드레스 셔츠 #Shorts https://youtu.be/xuOSsbMASx8 옷;집 폴로 랄프로렌\n"
     ]
    },
    {
     "name": "stderr",
     "output_type": "stream",
     "text": [
      " 37%|███▋      | 216/580 [04:52<07:52,  1.30s/it]"
     ]
    },
    {
     "name": "stdout",
     "output_type": "stream",
     "text": [
      "215 퀄리티 좋은 바지 고르는 방법과 치노 팬츠 모델 추천! feat. 유니클로 폴로랄프로렌 [Chino Pants] https://youtu.be/UBzARdTmRJ0&pp 용훈남ㅣ슬기로운 의생활 폴로 랄프로렌\n"
     ]
    },
    {
     "name": "stderr",
     "output_type": "stream",
     "text": [
      " 37%|███▋      | 217/580 [04:53<08:04,  1.33s/it]"
     ]
    },
    {
     "name": "stdout",
     "output_type": "stream",
     "text": [
      "216 3/29 빈티지샵 otjip 신상 업로드 완료 :) #short #빈티지 #폴로랄프로렌 #폴로셔츠 https://youtu.be/YjxnQRbHGDE 옷;집 폴로 랄프로렌\n"
     ]
    },
    {
     "name": "stderr",
     "output_type": "stream",
     "text": [
      " 38%|███▊      | 218/580 [04:54<08:01,  1.33s/it]"
     ]
    },
    {
     "name": "stdout",
     "output_type": "stream",
     "text": [
      "217 폴로 랄프로렌셔츠 추천 판매순위 Top10 || 가격 평점 후기 비교 https://youtu.be/pZgtrAO4Iyk&pp 쇼핑뉴스 폴로 랄프로렌\n"
     ]
    },
    {
     "name": "stderr",
     "output_type": "stream",
     "text": [
      " 38%|███▊      | 219/580 [04:56<07:43,  1.28s/it]"
     ]
    },
    {
     "name": "stdout",
     "output_type": "stream",
     "text": [
      "218 폴로 직구하지 마세요! https://youtu.be/rLc9Kr-CONc 새부리 폴로 랄프로렌\n"
     ]
    },
    {
     "name": "stderr",
     "output_type": "stream",
     "text": [
      " 38%|███▊      | 220/580 [04:57<07:53,  1.32s/it]"
     ]
    },
    {
     "name": "stdout",
     "output_type": "stream",
     "text": [
      "219 폴로셔츠는 기본아이템 꾸안꾸 패션코디 #중년패션코디 #패션 #여름패션 https://youtu.be/5WsrbG_ZeYU 중년패션코디 폴로 랄프로렌\n"
     ]
    },
    {
     "name": "stderr",
     "output_type": "stream",
     "text": [
      " 38%|███▊      | 221/580 [04:58<07:48,  1.30s/it]"
     ]
    },
    {
     "name": "stdout",
     "output_type": "stream",
     "text": [
      "220 봄에 이 아우터 없으면 안됨  #패션하울 https://youtu.be/NeBfuK8MKeQ 새부리 폴로 랄프로렌\n"
     ]
    },
    {
     "name": "stderr",
     "output_type": "stream",
     "text": [
      " 38%|███▊      | 222/580 [04:59<07:37,  1.28s/it]"
     ]
    },
    {
     "name": "stdout",
     "output_type": "stream",
     "text": [
      "221 폴로 랄프로렌가디건 추천 판매순위 Top10 || 가격 평점 후기 비교 https://youtu.be/egPdVK0tZoE&pp 쇼핑의 지혜 폴로 랄프로렌\n"
     ]
    },
    {
     "name": "stderr",
     "output_type": "stream",
     "text": [
      " 38%|███▊      | 223/580 [05:01<07:46,  1.31s/it]"
     ]
    },
    {
     "name": "stdout",
     "output_type": "stream",
     "text": [
      "222 요즘 가성비 최고 폴로 랄프로렌 맨투맨 추천 TOP5 https://youtu.be/Y4z39OZdAtM 모아모아뷰 폴로 랄프로렌\n"
     ]
    },
    {
     "name": "stderr",
     "output_type": "stream",
     "text": [
      " 39%|███▊      | 224/580 [05:02<07:59,  1.35s/it]"
     ]
    },
    {
     "name": "stdout",
     "output_type": "stream",
     "text": [
      "223 💖폴로랄프로렌 다이아몬드 여성 퀼팅 패딩 경량 패딩 숏 자켓 3컬러 FW23💖 https://youtu.be/brpttCB1Z_E 빨간단풍구매대행 폴로 랄프로렌\n"
     ]
    },
    {
     "name": "stderr",
     "output_type": "stream",
     "text": [
      " 39%|███▉      | 225/580 [05:04<08:12,  1.39s/it]"
     ]
    },
    {
     "name": "stdout",
     "output_type": "stream",
     "text": [
      "224 트렌드 지수 100점😎폴로 랄프로렌 꽈배기 반팔 니트 https://youtu.be/JCTe2GqhSX0 실시간런던 폴로 랄프로렌\n"
     ]
    },
    {
     "name": "stderr",
     "output_type": "stream",
     "text": [
      " 39%|███▉      | 226/580 [05:05<08:28,  1.44s/it]"
     ]
    },
    {
     "name": "stdout",
     "output_type": "stream",
     "text": [
      "225 [가을코디 추천] 폴로아울렛 매장구경하기 #코디추천 #ootd https://youtu.be/Ex2-eXX_NXM Lovu 폴로 랄프로렌\n"
     ]
    },
    {
     "name": "stderr",
     "output_type": "stream",
     "text": [
      " 39%|███▉      | 227/580 [05:07<08:22,  1.42s/it]"
     ]
    },
    {
     "name": "stdout",
     "output_type": "stream",
     "text": [
      "226 폴로 옥스포드 셔츠 핑크컬러 :) #폴로 #폴로랄프로렌 #폴로셔츠 https://youtu.be/hsjoZPwjYBc minute d mond 폴로 랄프로렌\n"
     ]
    },
    {
     "name": "stderr",
     "output_type": "stream",
     "text": [
      " 39%|███▉      | 228/580 [05:08<08:41,  1.48s/it]"
     ]
    },
    {
     "name": "stdout",
     "output_type": "stream",
     "text": [
      "227 가성비 폴로랄프로렌 추천! 가장핫한 폴로랄프로렌 Top8, 폴로랄프로렌 리뷰 best, 가격비교, 할인정보, 후기, 트렌드 https://youtu.be/hlh0mtxeJXU&pp 핫템만모아 폴로 랄프로렌\n"
     ]
    },
    {
     "name": "stderr",
     "output_type": "stream",
     "text": [
      " 39%|███▉      | 229/580 [05:10<08:23,  1.43s/it]"
     ]
    },
    {
     "name": "stdout",
     "output_type": "stream",
     "text": [
      "228 퓰로랄프로렌 플래그 프린트 쇼츠 https://youtu.be/bGitGYm54Ac camelwhale_ 폴로 랄프로렌\n"
     ]
    },
    {
     "name": "stderr",
     "output_type": "stream",
     "text": [
      " 40%|███▉      | 230/580 [05:12<09:55,  1.70s/it]"
     ]
    },
    {
     "name": "stdout",
     "output_type": "stream",
     "text": [
      "229 폴로랄프로렌 네이비 자수 반팔 피케이 티셔츠 / 제품 상세정보 및 구매는 댓글에 링크 남겨두었습니다 🙇🏻‍♂️ https://youtu.be/nwAvXN6IRgE 옷;집 폴로 랄프로렌\n"
     ]
    },
    {
     "name": "stderr",
     "output_type": "stream",
     "text": [
      " 40%|███▉      | 231/580 [05:14<10:10,  1.75s/it]"
     ]
    },
    {
     "name": "stdout",
     "output_type": "stream",
     "text": [
      "230 올드머니룩의 대표브랜드 폴로랄프로렌 인기템으로 데일리룩 코디 봄부터 겨울까지 https://youtu.be/z0yQWcudcEc&pp 이쏘 폴로 랄프로렌\n"
     ]
    },
    {
     "name": "stderr",
     "output_type": "stream",
     "text": [
      " 40%|████      | 232/580 [05:15<09:49,  1.70s/it]"
     ]
    },
    {
     "name": "stdout",
     "output_type": "stream",
     "text": [
      "231 🍄폴로랄프로렌 여자 헤링본 블레이저 자켓🍄 https://youtu.be/hQJkPsJnM3o 빨간단풍구매대행 폴로 랄프로렌\n"
     ]
    },
    {
     "name": "stderr",
     "output_type": "stream",
     "text": [
      " 40%|████      | 233/580 [05:17<09:14,  1.60s/it]"
     ]
    },
    {
     "name": "stdout",
     "output_type": "stream",
     "text": [
      "232 옷 잘입는 여성의 기본템 폴로 코디 모음 #데일리룩 #중년패션코디 #룩북 https://youtu.be/ksCasa5Z3ZI 패션클릭 폴로 랄프로렌\n"
     ]
    },
    {
     "name": "stderr",
     "output_type": "stream",
     "text": [
      " 40%|████      | 234/580 [05:18<09:01,  1.56s/it]"
     ]
    },
    {
     "name": "stdout",
     "output_type": "stream",
     "text": [
      "233 폴로 랄프로렌 CABLE 로고 울 머플러 목도리 https://youtu.be/oDdezXJAYeo 실시간런던 폴로 랄프로렌\n"
     ]
    },
    {
     "name": "stderr",
     "output_type": "stream",
     "text": [
      " 41%|████      | 235/580 [05:20<09:18,  1.62s/it]"
     ]
    },
    {
     "name": "stdout",
     "output_type": "stream",
     "text": [
      "234 폴로랄프로렌 남성 체크 울 혼방 간절기 콤비 자켓 https://youtu.be/1KAVf4DC19A 빨간단풍구매대행 폴로 랄프로렌\n"
     ]
    },
    {
     "name": "stderr",
     "output_type": "stream",
     "text": [
      " 41%|████      | 236/580 [05:21<08:59,  1.57s/it]"
     ]
    },
    {
     "name": "stdout",
     "output_type": "stream",
     "text": [
      "235 런던 폴로 랄프로렌 매장 https://youtu.be/qxYzQyr_ANo 할로겐 Shorts 폴로 랄프로렌\n"
     ]
    },
    {
     "name": "stderr",
     "output_type": "stream",
     "text": [
      " 41%|████      | 237/580 [05:23<09:01,  1.58s/it]"
     ]
    },
    {
     "name": "stdout",
     "output_type": "stream",
     "text": [
      "236 올가을 폴로 여성상품 신상 대박날듯🩷👍🏻 https://youtu.be/jl1ZQqF0VHs 쇼핑스, 해외라이브 쇼핑 플랫폼 폴로 랄프로렌\n"
     ]
    },
    {
     "name": "stderr",
     "output_type": "stream",
     "text": [
      " 41%|████      | 238/580 [05:25<08:58,  1.58s/it]"
     ]
    },
    {
     "name": "stdout",
     "output_type": "stream",
     "text": [
      "237 가을 볼캡 패션 트렌드 뉴욕양키즈 vs 폴로 랄프로렌 스타일링 코디 #shorts #쇼츠 #패션 https://youtu.be/4edOZIdkUKw 페르시 패션 뷰티 트렌드 폴로 랄프로렌\n"
     ]
    },
    {
     "name": "stderr",
     "output_type": "stream",
     "text": [
      " 41%|████      | 239/580 [05:26<08:56,  1.57s/it]"
     ]
    },
    {
     "name": "stdout",
     "output_type": "stream",
     "text": [
      "238 폴로랄프로렌 남자 경량패딩 베스트 조끼 https://youtu.be/CxJOMGOttZg 빨간단풍구매대행 폴로 랄프로렌\n"
     ]
    },
    {
     "name": "stderr",
     "output_type": "stream",
     "text": [
      " 41%|████▏     | 240/580 [05:28<08:51,  1.56s/it]"
     ]
    },
    {
     "name": "stdout",
     "output_type": "stream",
     "text": [
      "239 옷;집 otjip ootd / 여자 44~55 사이즈 피팅샷 / 폴로랄프로렌 피케, 리바이스 핫팬츠 https://youtu.be/EkqsO11bzm0 옷;집 폴로 랄프로렌\n"
     ]
    },
    {
     "name": "stderr",
     "output_type": "stream",
     "text": [
      " 42%|████▏     | 241/580 [05:29<08:19,  1.47s/it]"
     ]
    },
    {
     "name": "stdout",
     "output_type": "stream",
     "text": [
      "240 아...내..지갑..(은 훼이크) 드롭마이 #폴로 #랄프로렌 #스니커즈 #럭셔리 https://youtu.be/kvnB7w7NtXE 롯데홈쇼핑 롯튜브  폴로 랄프로렌\n"
     ]
    },
    {
     "name": "stderr",
     "output_type": "stream",
     "text": [
      " 42%|████▏     | 242/580 [05:30<08:18,  1.48s/it]"
     ]
    },
    {
     "name": "stdout",
     "output_type": "stream",
     "text": [
      "241 폴로 POLO 랄프로렌 코치 자켓 coach jacket 리뷰 review https://youtu.be/jp41xT4-NvI&pp 아이스버그 폴로 랄프로렌\n"
     ]
    },
    {
     "name": "stderr",
     "output_type": "stream",
     "text": [
      " 42%|████▏     | 243/580 [05:32<07:47,  1.39s/it]"
     ]
    },
    {
     "name": "stdout",
     "output_type": "stream",
     "text": [
      "242 폴로랄프로렌 꽈배기 니트 23ss https://youtu.be/pSBEjHsw0gs 어썸블레어 Awesome Blair 폴로 랄프로렌\n"
     ]
    },
    {
     "name": "stderr",
     "output_type": "stream",
     "text": [
      " 42%|████▏     | 244/580 [05:33<07:33,  1.35s/it]"
     ]
    },
    {
     "name": "stdout",
     "output_type": "stream",
     "text": [
      "243 폴로 반팔 신상 컬러 리뷰 핑크 공쥬들 모여라💕#shortreview #리뷰어답터 https://youtu.be/_xJqy3FhVyE 크로켓 - 전세계 커넥팅 쇼핑 폴로 랄프로렌\n"
     ]
    },
    {
     "name": "stderr",
     "output_type": "stream",
     "text": [
      " 42%|████▏     | 245/580 [05:34<07:31,  1.35s/it]"
     ]
    },
    {
     "name": "stdout",
     "output_type": "stream",
     "text": [
      "244 폴로 테리 카라 반팔티(사이즈: L) https://youtu.be/3Fp0Yt2k-Qw ELOID 폴로 랄프로렌\n"
     ]
    },
    {
     "name": "stderr",
     "output_type": "stream",
     "text": [
      " 42%|████▏     | 246/580 [05:35<07:12,  1.30s/it]"
     ]
    },
    {
     "name": "stdout",
     "output_type": "stream",
     "text": [
      "245 [랄뽕룩 #5] 최고의 반바지 폴로랄프로렌 프렙스터, 트래블러 쇼츠 (폴로반바지, 사이즈, 코디) https://youtu.be/1XOuCU6dIws&pp 현실스타일러 폴로 랄프로렌\n"
     ]
    },
    {
     "name": "stderr",
     "output_type": "stream",
     "text": [
      " 43%|████▎     | 247/580 [05:36<06:53,  1.24s/it]"
     ]
    },
    {
     "name": "stdout",
     "output_type": "stream",
     "text": [
      "246 미국 POLO 가격보면 한국에서 못사(마지막 가격확인) https://youtu.be/6ILLWzn-cJw 쇼핑스, 해외라이브 쇼핑 플랫폼 폴로 랄프로렌\n"
     ]
    },
    {
     "name": "stderr",
     "output_type": "stream",
     "text": [
      " 43%|████▎     | 248/580 [05:38<06:43,  1.22s/it]"
     ]
    },
    {
     "name": "stdout",
     "output_type": "stream",
     "text": [
      "247 폴로 랄프로렌 셔츠 빅사이즈 M 입어보기!! https://youtu.be/7KZRpH6MeSg 호여니 패션 폴로 랄프로렌\n"
     ]
    },
    {
     "name": "stderr",
     "output_type": "stream",
     "text": [
      " 43%|████▎     | 249/580 [05:39<06:34,  1.19s/it]"
     ]
    },
    {
     "name": "stdout",
     "output_type": "stream",
     "text": [
      "248 랄프로렌 카라티 남친룩 정석이죠! https://youtu.be/AiKvmROlo98 용블리 폴로 랄프로렌\n"
     ]
    },
    {
     "name": "stderr",
     "output_type": "stream",
     "text": [
      " 43%|████▎     | 250/580 [05:40<06:22,  1.16s/it]"
     ]
    },
    {
     "name": "stdout",
     "output_type": "stream",
     "text": [
      "249 ★초특가★ 폴로 랄프로렌Polo Ralph Lauren 코튼 치노 볼캡 #shorts https://youtu.be/jnnPzaTgzhk 코미디티비 Comedy TV 폴로 랄프로렌\n"
     ]
    },
    {
     "name": "stderr",
     "output_type": "stream",
     "text": [
      " 43%|████▎     | 251/580 [05:41<06:10,  1.13s/it]"
     ]
    },
    {
     "name": "stdout",
     "output_type": "stream",
     "text": [
      "250 #폴로랄프로렌 마드라스 체크 긴팔 면 셔츠 / 남자 110 사이즈 #shorts https://youtu.be/18CQ4BXLH0I 옷;집 폴로 랄프로렌\n"
     ]
    },
    {
     "name": "stderr",
     "output_type": "stream",
     "text": [
      " 43%|████▎     | 252/580 [05:42<05:52,  1.07s/it]"
     ]
    },
    {
     "name": "stdout",
     "output_type": "stream",
     "text": [
      "251 딱 예쁜 폴로 랄프로렌 스트라이프 티셔츠 https://youtu.be/IX85X9MZr5M 실시간런던 폴로 랄프로렌\n"
     ]
    },
    {
     "name": "stderr",
     "output_type": "stream",
     "text": [
      " 44%|████▎     | 253/580 [05:43<05:32,  1.02s/it]"
     ]
    },
    {
     "name": "stdout",
     "output_type": "stream",
     "text": [
      "252 랄프로렌 곰돌이 니트로 스타일링 하기 🐻 #랄프로렌 #패션 https://youtu.be/gS7xhvE3Mds 디테일런스 지승렬 폴로 랄프로렌\n"
     ]
    },
    {
     "name": "stderr",
     "output_type": "stream",
     "text": [
      " 44%|████▍     | 254/580 [05:44<05:45,  1.06s/it]"
     ]
    },
    {
     "name": "stdout",
     "output_type": "stream",
     "text": [
      "253 (ENG CC) 마크 겨드랑이로 효자손 부순 이유? | 마크, MARK, 엔시티, NCT, 폴로 랄프 로렌 앰버서더, 200, 에스콰이어, ESQUIRE KOREA https://youtu.be/y4Lrc5dWLQY&pp ESQUIRE Korea 폴로 랄프로렌\n"
     ]
    },
    {
     "name": "stderr",
     "output_type": "stream",
     "text": [
      " 44%|████▍     | 255/580 [05:45<05:43,  1.06s/it]"
     ]
    },
    {
     "name": "stdout",
     "output_type": "stream",
     "text": [
      "254 랄프로렌&타임 제품 아닙니다💢 #동대문도매 https://youtu.be/9FLu07WsX-E 미나리닷컴 폴로 랄프로렌\n"
     ]
    },
    {
     "name": "stderr",
     "output_type": "stream",
     "text": [
      " 44%|████▍     | 256/580 [05:46<05:37,  1.04s/it]"
     ]
    },
    {
     "name": "stdout",
     "output_type": "stream",
     "text": [
      "255 🌺폴로꽈배기니트 여성 케이블 스웨터🌺 #fw23 #캐나다구매대행 #폴로랄프로렌 https://youtu.be/poA6UgVW7Ug 빨간단풍구매대행 폴로 랄프로렌\n"
     ]
    },
    {
     "name": "stderr",
     "output_type": "stream",
     "text": [
      " 44%|████▍     | 257/580 [05:47<05:30,  1.02s/it]"
     ]
    },
    {
     "name": "stdout",
     "output_type": "stream",
     "text": [
      "256 올해 여름패션 끝! 폴로 린넨 셔츠 코디법 모아봄❤️‍🔥 #직구 #폴로 #패션 #shorts https://youtu.be/fEEKXqmeSig 해외직구는 뉴욕걸즈 폴로 랄프로렌\n"
     ]
    },
    {
     "name": "stderr",
     "output_type": "stream",
     "text": [
      " 44%|████▍     | 258/580 [05:48<06:14,  1.16s/it]"
     ]
    },
    {
     "name": "stdout",
     "output_type": "stream",
     "text": [
      "257 #랄프로렌 #플로랄원피스 #저지소재 #66  #15.000원 #빈티지 #여성의류 #명풍구제 #중고명품 https://youtu.be/n7D6OS2rYMA 빈티지 편집샵 예쁜옷쟁이 폴로 랄프로렌\n"
     ]
    },
    {
     "name": "stderr",
     "output_type": "stream",
     "text": [
      " 45%|████▍     | 259/580 [05:50<06:13,  1.16s/it]"
     ]
    },
    {
     "name": "stdout",
     "output_type": "stream",
     "text": [
      "258 폴로 랄프로렌 향수 추천 순위 TOP5 https://youtu.be/eM0SzAZN7pM&pp 아이템솔루션 폴로 랄프로렌\n"
     ]
    },
    {
     "name": "stderr",
     "output_type": "stream",
     "text": [
      " 45%|████▍     | 260/580 [05:51<06:23,  1.20s/it]"
     ]
    },
    {
     "name": "stdout",
     "output_type": "stream",
     "text": [
      "259 👕발리 폴로는 짝퉁이야! #shorts https://youtu.be/afJrbZBxAxc 할로필름 HALO FILM 폴로 랄프로렌\n"
     ]
    },
    {
     "name": "stderr",
     "output_type": "stream",
     "text": [
      " 45%|████▌     | 261/580 [05:52<06:16,  1.18s/it]"
     ]
    },
    {
     "name": "stdout",
     "output_type": "stream",
     "text": [
      "260 [ENG] 가로수길 브랜드 니트 추천!💛 | 코스,폴로 랄프로렌,에이랜드 | 직장인 출근룩, 기본템, 데일리룩 추천 https://youtu.be/wvPfZhJw7Ks&pp 유라움 yulaum 폴로 랄프로렌\n"
     ]
    },
    {
     "name": "stderr",
     "output_type": "stream",
     "text": [
      " 45%|████▌     | 262/580 [05:53<06:21,  1.20s/it]"
     ]
    },
    {
     "name": "stdout",
     "output_type": "stream",
     "text": [
      "261 폴로 랄프로렌 신상 코디 #폴로 #에스파 #윈터 #shorts https://youtu.be/Ecpp2zV_3kY 봄봄 폴로 랄프로렌\n"
     ]
    },
    {
     "name": "stderr",
     "output_type": "stream",
     "text": [
      " 45%|████▌     | 263/580 [05:54<06:20,  1.20s/it]"
     ]
    },
    {
     "name": "stdout",
     "output_type": "stream",
     "text": [
      "262 Polo#명품#폴로#폴로랄프로렌 #폴로셔츠#폴로니트#폴로연예인#최정원#김나영#빈지노#김우빈#헐리웃스타일#고급 https://youtu.be/Z-oalf_LkGw 부띠끄 블랙. Boutique black1104 폴로 랄프로렌\n"
     ]
    },
    {
     "name": "stderr",
     "output_type": "stream",
     "text": [
      " 46%|████▌     | 264/580 [05:56<06:14,  1.19s/it]"
     ]
    },
    {
     "name": "stdout",
     "output_type": "stream",
     "text": [
      "263 #폴로랄프로렌#여성코디#캐나다구매대행#빨간단풍구매대행 https://youtu.be/gO91h3gJzfk 빨간단풍구매대행 폴로 랄프로렌\n"
     ]
    },
    {
     "name": "stderr",
     "output_type": "stream",
     "text": [
      " 46%|████▌     | 265/580 [05:57<06:01,  1.15s/it]"
     ]
    },
    {
     "name": "stdout",
     "output_type": "stream",
     "text": [
      "264 #폴로랄프로렌#남성코디#케이블스웨터#캐나다구매대행#빨간단풍구매대행 https://youtu.be/JQUKQczN1Rw 빨간단풍구매대행 폴로 랄프로렌\n"
     ]
    },
    {
     "name": "stderr",
     "output_type": "stream",
     "text": [
      " 46%|████▌     | 266/580 [05:58<05:55,  1.13s/it]"
     ]
    },
    {
     "name": "stdout",
     "output_type": "stream",
     "text": [
      "265 [폴로 랄프로렌 3탄] 폴로 신상을 반값에 구매할 수 있는 방법?! ('보이즈'편) https://youtu.be/klYDZoeRQvk&pp 쇼핑스, 해외라이브 쇼핑 플랫폼 폴로 랄프로렌\n"
     ]
    },
    {
     "name": "stderr",
     "output_type": "stream",
     "text": [
      " 46%|████▌     | 267/580 [05:59<05:49,  1.12s/it]"
     ]
    },
    {
     "name": "stdout",
     "output_type": "stream",
     "text": [
      "266 꾸안꾸 기본티, 폴로 랄프로렌 https://youtu.be/JUAkREurXoM 실시간런던 폴로 랄프로렌\n"
     ]
    },
    {
     "name": "stderr",
     "output_type": "stream",
     "text": [
      " 46%|████▌     | 268/580 [06:00<05:37,  1.08s/it]"
     ]
    },
    {
     "name": "stdout",
     "output_type": "stream",
     "text": [
      "267 2024버전 우리의 화이트셔츠 이렇게 입어보아요 | 화이트셔츠 추천 | 출근룩, 봄룩, 여행룩, 데일리룩, 우아룩 |시엔느 낫띵리튼 랄프로렌폴로 라르고 셀린느 아디다스가젤... https://youtu.be/4bLNQIkG5QI&pp 배사임당BAESAIMDANG 폴로 랄프로렌\n"
     ]
    },
    {
     "name": "stderr",
     "output_type": "stream",
     "text": [
      " 46%|████▋     | 269/580 [06:01<05:33,  1.07s/it]"
     ]
    },
    {
     "name": "stdout",
     "output_type": "stream",
     "text": [
      "268 폴로셔츠는 기본템 꾸안꾸 남방코디 #중년패션코디 #여름코디 https://youtu.be/ZBAFQhzCsGs 럭셔리코드 LUXURY CODE 폴로 랄프로렌\n"
     ]
    },
    {
     "name": "stderr",
     "output_type": "stream",
     "text": [
      " 47%|████▋     | 270/580 [06:02<05:43,  1.11s/it]"
     ]
    },
    {
     "name": "stdout",
     "output_type": "stream",
     "text": [
      "269 최고의 폴로셔츠 브랜드 https://youtu.be/2Fe_R_9pv1g 우리동네컴퓨터가게 폴로 랄프로렌\n"
     ]
    },
    {
     "name": "stderr",
     "output_type": "stream",
     "text": [
      " 47%|████▋     | 271/580 [06:03<05:55,  1.15s/it]"
     ]
    },
    {
     "name": "stdout",
     "output_type": "stream",
     "text": [
      "270 🆗싸다구몰 83번 폴로랄프로렌 95사이즈 가단49cm 판매가13000원 https://youtu.be/9Hwceb9YLvo 싸다구몰 폴로 랄프로렌\n"
     ]
    },
    {
     "name": "stderr",
     "output_type": "stream",
     "text": [
      " 47%|████▋     | 272/580 [06:05<06:48,  1.33s/it]"
     ]
    },
    {
     "name": "stdout",
     "output_type": "stream",
     "text": [
      "271 이것이 폴로 랄프로렌 이다 polo lover https://youtu.be/Ka9kxQllns4 왠친절 폴로 랄프로렌\n"
     ]
    },
    {
     "name": "stderr",
     "output_type": "stream",
     "text": [
      " 47%|████▋     | 273/580 [06:07<07:19,  1.43s/it]"
     ]
    },
    {
     "name": "stdout",
     "output_type": "stream",
     "text": [
      "272 폴로랄프로렌 꽈배기 니트 여성 울 캐시미어 혼방 브이넥 롱 조끼형 원피스 https://youtu.be/KHXGGb4fj20 빨간단풍구매대행 폴로 랄프로렌\n"
     ]
    },
    {
     "name": "stderr",
     "output_type": "stream",
     "text": [
      " 47%|████▋     | 274/580 [06:08<07:35,  1.49s/it]"
     ]
    },
    {
     "name": "stdout",
     "output_type": "stream",
     "text": [
      "273 가을 볼캡 패션 트렌드 뉴욕양키즈 vs 폴로 랄프로렌 스타일링 코디 #shorts #쇼츠 #패션 https://youtu.be/4edOZIdkUKw 페르시 패션 뷰티 트렌드 폴로 랄프로렌\n"
     ]
    },
    {
     "name": "stderr",
     "output_type": "stream",
     "text": [
      " 47%|████▋     | 275/580 [06:10<07:48,  1.54s/it]"
     ]
    },
    {
     "name": "stdout",
     "output_type": "stream",
     "text": [
      "274 캐나다에서 10만원으로 POLO 쇼핑하기🛍️🤑💖 https://youtu.be/atFg4LYUWrY 배긍지 BAE GEUNGJI 폴로 랄프로렌\n"
     ]
    },
    {
     "name": "stderr",
     "output_type": "stream",
     "text": [
      " 48%|████▊     | 276/580 [06:11<07:29,  1.48s/it]"
     ]
    },
    {
     "name": "stdout",
     "output_type": "stream",
     "text": [
      "275 남성폴로셔츠 추천 #올드머니룩 https://youtu.be/pz2B8l6vKwU 쇼핑스, 해외라이브 쇼핑 플랫폼 폴로 랄프로렌\n"
     ]
    },
    {
     "name": "stderr",
     "output_type": "stream",
     "text": [
      " 48%|████▊     | 277/580 [06:13<07:22,  1.46s/it]"
     ]
    },
    {
     "name": "stdout",
     "output_type": "stream",
     "text": [
      "276 폴로 랄프로렌 케이블 니트 착샷! 자세한 후기는 댓글링크 #폴로랄프로렌 #폴로 #폴로니트 #폴로랄프로렌니트 #여성니트 https://youtu.be/EXRx6K3Tk_0 째알라의 패션로그 폴로 랄프로렌\n"
     ]
    },
    {
     "name": "stderr",
     "output_type": "stream",
     "text": [
      " 48%|████▊     | 278/580 [06:15<08:43,  1.73s/it]"
     ]
    },
    {
     "name": "stdout",
     "output_type": "stream",
     "text": [
      "277 폴로로 연말룩 어떤데?🤍❤️ #christmas #ootd #polo #폴로 https://youtu.be/atVS5QO1qwo 만두렁 폴로 랄프로렌\n"
     ]
    },
    {
     "name": "stderr",
     "output_type": "stream",
     "text": [
      " 48%|████▊     | 279/580 [06:16<08:04,  1.61s/it]"
     ]
    },
    {
     "name": "stdout",
     "output_type": "stream",
     "text": [
      "278 ‼️폴로덕후들은 주목‼️ 한국에는 없는 랄뽕카페 ☕️ #shorts #맛집추천 #랄프로렌카페 https://youtu.be/9ji6NXgQeKM 오늘도 김사위 폴로 랄프로렌\n"
     ]
    },
    {
     "name": "stderr",
     "output_type": "stream",
     "text": [
      " 48%|████▊     | 280/580 [06:18<07:28,  1.50s/it]"
     ]
    },
    {
     "name": "stdout",
     "output_type": "stream",
     "text": [
      "279 폴로랄프로렌 코튼 니트 반집업 핫딜🌈 #어썸블레어 https://youtu.be/NChyjZXr8p0 어썸블레어 Awesome Blair 폴로 랄프로렌\n"
     ]
    },
    {
     "name": "stderr",
     "output_type": "stream",
     "text": [
      " 48%|████▊     | 281/580 [06:19<07:11,  1.44s/it]"
     ]
    },
    {
     "name": "stdout",
     "output_type": "stream",
     "text": [
      "280 🌸24SS 트렌드 키워드 ‘프레피룩’ 피케티 랜선쇼핑!! 셀럽들은 벌써 입고 다니는 이번시즌 없으면 안되는 아이템!!폴로티 럭비티 비비안웨스트우드 폴로랄프로렌 아울렛 쇼핑 https://youtu.be/ugvCYfYjMiU&pp 프피프제 폴로 랄프로렌\n"
     ]
    },
    {
     "name": "stderr",
     "output_type": "stream",
     "text": [
      " 49%|████▊     | 282/580 [06:20<07:10,  1.44s/it]"
     ]
    },
    {
     "name": "stdout",
     "output_type": "stream",
     "text": [
      "281 Polo Winter Sale 40% Wertheim Village 독일 아울렛 쇼핑정보 베르트하임 폴로 랄프 로렌 https://youtu.be/K6ajpjOINcc German JiJinhee 독일 지진희 랜선 유럽여행  폴로 랄프로렌\n"
     ]
    },
    {
     "name": "stderr",
     "output_type": "stream",
     "text": [
      " 49%|████▉     | 283/580 [06:22<07:39,  1.55s/it]"
     ]
    },
    {
     "name": "stdout",
     "output_type": "stream",
     "text": [
      "282 sub) 6박7일 Tokyo vlog ep.2 오모테산도 MoMA 폴로 랄프로렌 쇼핑 . 긴자 카페 인생 맛집 장어덮밥 . CDG . 루이비통 카드 지갑 . GU 왈라비 https://youtu.be/5rG_qEqC2zA&pp 주하유 juuhaa 폴로 랄프로렌\n"
     ]
    },
    {
     "name": "stderr",
     "output_type": "stream",
     "text": [
      " 49%|████▉     | 284/580 [06:24<08:01,  1.63s/it]"
     ]
    },
    {
     "name": "stdout",
     "output_type": "stream",
     "text": [
      "283 #미국일상 #폴로 #polo https://youtu.be/Ncd7rLcXvhk 유리제이 YuriJ 폴로 랄프로렌\n"
     ]
    },
    {
     "name": "stderr",
     "output_type": "stream",
     "text": [
      " 49%|████▉     | 285/580 [06:26<08:26,  1.72s/it]"
     ]
    },
    {
     "name": "stdout",
     "output_type": "stream",
     "text": [
      "284 미국 POLO 아울렛 세일 / 폴로 랄프로렌 꽈배기니트 추천, 아울렛 가격 털기 / 올드머니룩, 데일리룩, 꾸안꾸룩✨ Polo Lookbook 미국 쇼핑 브이로그 https://youtu.be/da3EW_r9MuY&pp LetsgoJenny 렛츠고제니  폴로 랄프로렌\n"
     ]
    },
    {
     "name": "stderr",
     "output_type": "stream",
     "text": [
      " 49%|████▉     | 286/580 [06:28<08:54,  1.82s/it]"
     ]
    },
    {
     "name": "stdout",
     "output_type": "stream",
     "text": [
      "285 랄프로렌 매장에서 나는 향기?!💚🧸 폴로 EDT 향수 리뷰 https://youtu.be/u9tbAYXKtnc 미지의세계 MIJI 폴로 랄프로렌\n"
     ]
    },
    {
     "name": "stderr",
     "output_type": "stream",
     "text": [
      " 49%|████▉     | 287/580 [06:30<08:57,  1.83s/it]"
     ]
    },
    {
     "name": "stdout",
     "output_type": "stream",
     "text": [
      "286 #스타벅스노은점 #폴로#랄프로렌#thenorthface#노스페이스퍼플라벨#쿨맥스셔츠#폴로치노#ADIDASxRANSOM#mochasuede#nixonrotolog#supreme https://youtu.be/Zs8YqavA3VI 한광희 아무거나 올리는TV 폴로 랄프로렌\n"
     ]
    },
    {
     "name": "stderr",
     "output_type": "stream",
     "text": [
      " 50%|████▉     | 288/580 [06:32<09:32,  1.96s/it]"
     ]
    },
    {
     "name": "stdout",
     "output_type": "stream",
     "text": [
      "287 [SHAWNPING] 🎠🎠🎠🎠🎠 폴로반집업니트 #shorts https://youtu.be/kwIkEe8GqmA 숀 유미어스 폴로 랄프로렌\n"
     ]
    },
    {
     "name": "stderr",
     "output_type": "stream",
     "text": [
      " 50%|████▉     | 289/580 [06:34<09:50,  2.03s/it]"
     ]
    },
    {
     "name": "stdout",
     "output_type": "stream",
     "text": [
      "288 가장 인기있는 제품 폴로 랄프로렌 카라티 순위 추천 리뷰 https://youtu.be/s9xdQuyvI2Q 하이디쇼핑TV 폴로 랄프로렌\n"
     ]
    },
    {
     "name": "stderr",
     "output_type": "stream",
     "text": [
      " 50%|█████     | 290/580 [06:37<10:31,  2.18s/it]"
     ]
    },
    {
     "name": "stdout",
     "output_type": "stream",
     "text": [
      "289 #폴로랄프로렌#다이아몬드퀼팅#누빔조끼#경량패딩베스트#fw23#여성조끼#캐나다구매대행#빨간단풍구매대행 https://youtu.be/s2XlwqKsjpo 빨간단풍구매대행 폴로 랄프로렌\n"
     ]
    },
    {
     "name": "stderr",
     "output_type": "stream",
     "text": [
      " 50%|█████     | 291/580 [06:39<10:51,  2.26s/it]"
     ]
    },
    {
     "name": "stdout",
     "output_type": "stream",
     "text": [
      "290 🌸폴로랄프로렌반집업 남성 피마 코튼 하프집업 니트 스웨터 6컬러🌸 https://youtu.be/UeVgr1jxhuw 빨간단풍구매대행 폴로 랄프로렌\n"
     ]
    },
    {
     "name": "stderr",
     "output_type": "stream",
     "text": [
      " 50%|█████     | 292/580 [06:42<10:44,  2.24s/it]"
     ]
    },
    {
     "name": "stdout",
     "output_type": "stream",
     "text": [
      "291 자, 봄맞이 쇼핑갑시다 살게 너무 많아서 고민일 수도 있습니다 https://youtu.be/Ij0ArjgXBXA&pp 멋lab [남자교양서] 폴로 랄프로렌\n"
     ]
    },
    {
     "name": "stderr",
     "output_type": "stream",
     "text": [
      " 51%|█████     | 293/580 [06:44<10:54,  2.28s/it]"
     ]
    },
    {
     "name": "stdout",
     "output_type": "stream",
     "text": [
      "292 엠디욱 브이로그. 폴로 랄프로렌, 미우미우 쇼핑, 와인바 사장 일상, 아이폰 15 구경 l 엠디욱의 입을텐데 https://youtu.be/EK6xGwYbOTI&pp 엠디욱 폴로 랄프로렌\n"
     ]
    },
    {
     "name": "stderr",
     "output_type": "stream",
     "text": [
      " 51%|█████     | 294/580 [06:46<11:08,  2.34s/it]"
     ]
    },
    {
     "name": "stdout",
     "output_type": "stream",
     "text": [
      "293 에스파 윈터 인스타그램 손민수템 AESPA WINTER OUTFIT INSTAGRAM POLO RALPH LAUREN https://youtu.be/ndO12FrbrnQ 탑성비 the 손민수 버니 폴로 랄프로렌\n"
     ]
    },
    {
     "name": "stderr",
     "output_type": "stream",
     "text": [
      " 51%|█████     | 295/580 [06:49<11:52,  2.50s/it]"
     ]
    },
    {
     "name": "stdout",
     "output_type": "stream",
     "text": [
      "294 커플 맨투맨 브랜드 TOP 5 추천‼️ https://youtu.be/Je4-zuKsujM 효찌 폴로 랄프로렌\n"
     ]
    },
    {
     "name": "stderr",
     "output_type": "stream",
     "text": [
      " 51%|█████     | 296/580 [06:51<11:08,  2.35s/it]"
     ]
    },
    {
     "name": "stdout",
     "output_type": "stream",
     "text": [
      "295 #스타벅스노은점#stussy#cap#thenorthfacepurplelabel#polo#랄프로렌#dickies874#timberland#thenorthface#supreme https://youtu.be/VjzFhe7V0KE 한광희 아무거나 올리는TV 폴로 랄프로렌\n"
     ]
    },
    {
     "name": "stderr",
     "output_type": "stream",
     "text": [
      " 51%|█████     | 297/580 [06:53<10:05,  2.14s/it]"
     ]
    },
    {
     "name": "stdout",
     "output_type": "stream",
     "text": [
      "296 POLO Ralph Lauren Pima Cotton Cardigan  행사 https://youtu.be/mEcsAL5HhQA andrezin 폴로 랄프로렌\n"
     ]
    },
    {
     "name": "stderr",
     "output_type": "stream",
     "text": [
      " 51%|█████▏    | 298/580 [06:54<09:12,  1.96s/it]"
     ]
    },
    {
     "name": "stdout",
     "output_type": "stream",
     "text": [
      "297 2023 08 31 23:08:08 video폴로랄프로렌 남성 경량 패딩 점퍼 패커블 자켓 NEW 3컬러 FW23 https://youtu.be/czm-J56T8q8&pp 빨간단풍구매대행 폴로 랄프로렌\n"
     ]
    },
    {
     "name": "stderr",
     "output_type": "stream",
     "text": [
      " 52%|█████▏    | 299/580 [06:56<08:38,  1.85s/it]"
     ]
    },
    {
     "name": "stdout",
     "output_type": "stream",
     "text": [
      "298 3040 남자 직장인을 위한 기본 셔츠 추천 Top 5 (폴로, 브룩스 브라더스, 유니클로, 무신사 스탠다드) https://youtu.be/UEiNJUJQXB8&pp 임대리님 남자패션&트렌드 폴로 랄프로렌\n"
     ]
    },
    {
     "name": "stderr",
     "output_type": "stream",
     "text": [
      " 52%|█████▏    | 300/580 [06:58<08:21,  1.79s/it]"
     ]
    },
    {
     "name": "stdout",
     "output_type": "stream",
     "text": [
      "299 [폴로 랄프로렌 4탄] 국내가 15만원, 미국에선 6만원? 나도 미국에서 살래🇺🇸💙 ('남성 상품' 편) https://youtu.be/KS4bpfFb3Ok&pp 쇼핑스, 해외라이브 쇼핑 플랫폼 폴로 랄프로렌\n"
     ]
    },
    {
     "name": "stderr",
     "output_type": "stream",
     "text": [
      " 52%|█████▏    | 301/580 [06:59<08:17,  1.78s/it]"
     ]
    },
    {
     "name": "stdout",
     "output_type": "stream",
     "text": [
      "300 워싱이 완벽한 폴로 청자켓, 올가을 청자켓은 이걸로 겟💙 https://youtu.be/Gf4c6jv7-XA 쇼핑스, 해외라이브 쇼핑 플랫폼 폴로 랄프로렌\n"
     ]
    },
    {
     "name": "stderr",
     "output_type": "stream",
     "text": [
      " 52%|█████▏    | 302/580 [07:01<07:45,  1.68s/it]"
     ]
    },
    {
     "name": "stdout",
     "output_type": "stream",
     "text": [
      "301 폴로 POLO를 둘러싼 의문 https://youtu.be/8qvgL-pYdMo 웨이브매거진 WAVE MAGAZINE 폴로 랄프로렌\n"
     ]
    },
    {
     "name": "stderr",
     "output_type": "stream",
     "text": [
      " 52%|█████▏    | 303/580 [07:03<07:42,  1.67s/it]"
     ]
    },
    {
     "name": "stdout",
     "output_type": "stream",
     "text": [
      "302 크로켓하면 뭐 다? (Feat.폴로) #크로켓 #폴로 #내돈내산 https://youtu.be/nFZ2CShe2SQ 크로켓 - 전세계 커넥팅 쇼핑 폴로 랄프로렌\n"
     ]
    },
    {
     "name": "stderr",
     "output_type": "stream",
     "text": [
      " 52%|█████▏    | 304/580 [07:04<07:55,  1.72s/it]"
     ]
    },
    {
     "name": "stdout",
     "output_type": "stream",
     "text": [
      "303 [폴로 랄프로렌 1탄] 미국 아울렛 '폴로 랄프로렌', 가을 신상부터 인기 아이템까지 전부 모았다!('여성 상품' 편) https://youtu.be/6avbl-HBWLk&pp 쇼핑스, 해외라이브 쇼핑 플랫폼 폴로 랄프로렌\n"
     ]
    },
    {
     "name": "stderr",
     "output_type": "stream",
     "text": [
      " 53%|█████▎    | 305/580 [07:06<07:37,  1.66s/it]"
     ]
    },
    {
     "name": "stdout",
     "output_type": "stream",
     "text": [
      "304 [SMILE😆 028] 츠키 브이로그 with Polo Ralph Lauren 🐰🛍❤ https://youtu.be/9dNVNz9O7_g&pp Billlie 폴로 랄프로렌\n"
     ]
    },
    {
     "name": "stderr",
     "output_type": "stream",
     "text": [
      " 53%|█████▎    | 306/580 [07:07<07:08,  1.56s/it]"
     ]
    },
    {
     "name": "stdout",
     "output_type": "stream",
     "text": [
      "305 Polo Ralph Lauren 스마트스토어 초특가행사중! Andrezin 검색!.! https://youtu.be/tTw6bTL5c2Y andrezin 폴로 랄프로렌\n"
     ]
    },
    {
     "name": "stderr",
     "output_type": "stream",
     "text": [
      " 53%|█████▎    | 307/580 [07:08<06:37,  1.46s/it]"
     ]
    },
    {
     "name": "stdout",
     "output_type": "stream",
     "text": [
      "306 폴로 랄프로렌 털슬리퍼 (Polo Ralph Lauren🤍) 언박싱 📦 방해하는(?) 시츄 강아지 ㅋㅋㅋ https://youtu.be/eZNeHVO2tMY 내 이름은 코코 🐶 폴로 랄프로렌\n"
     ]
    },
    {
     "name": "stderr",
     "output_type": "stream",
     "text": [
      " 53%|█████▎    | 308/580 [07:10<06:45,  1.49s/it]"
     ]
    },
    {
     "name": "stdout",
     "output_type": "stream",
     "text": [
      "307 2023년 가장 인기 있는 폴로랄프로렌 추천 BEST 7 https://youtu.be/1GKNRo_D5wk&pp 이쿼보고카 폴로 랄프로렌\n"
     ]
    },
    {
     "name": "stderr",
     "output_type": "stream",
     "text": [
      " 53%|█████▎    | 309/580 [07:11<06:24,  1.42s/it]"
     ]
    },
    {
     "name": "stdout",
     "output_type": "stream",
     "text": [
      "308 폴로 셔츠, 가디건 안 입어보고 살 때 꿀팁🍯 https://youtu.be/Ztlx2QTaKEA 새부리 폴로 랄프로렌\n"
     ]
    },
    {
     "name": "stderr",
     "output_type": "stream",
     "text": [
      " 53%|█████▎    | 310/580 [07:13<06:28,  1.44s/it]"
     ]
    },
    {
     "name": "stdout",
     "output_type": "stream",
     "text": [
      "309 윈터 폴로 랄프로렌 착붙이다 아니다 #winter #poloralphlauren #aespa https://youtu.be/ED7deDhPHpM 클릭패션 폴로 랄프로렌\n"
     ]
    },
    {
     "name": "stderr",
     "output_type": "stream",
     "text": [
      " 54%|█████▎    | 311/580 [07:14<06:33,  1.46s/it]"
     ]
    },
    {
     "name": "stdout",
     "output_type": "stream",
     "text": [
      "310 [RL] 랄프로렌 ◤맨해튼튜브◢ https://youtu.be/_U6gsFufaSQ 맨해튼튜브 폴로 랄프로렌\n"
     ]
    },
    {
     "name": "stderr",
     "output_type": "stream",
     "text": [
      " 54%|█████▍    | 312/580 [07:16<06:24,  1.43s/it]"
     ]
    },
    {
     "name": "stdout",
     "output_type": "stream",
     "text": [
      "311 [폴로 랄프로렌 4탄] 20만원을 10만원에 구매하는 쇼핑 꿀팁! ('걸즈/모자'편) https://youtu.be/leHYHqhICiE&pp 쇼핑스, 해외라이브 쇼핑 플랫폼 폴로 랄프로렌\n"
     ]
    },
    {
     "name": "stderr",
     "output_type": "stream",
     "text": [
      " 54%|█████▍    | 313/580 [07:17<06:17,  1.42s/it]"
     ]
    },
    {
     "name": "stdout",
     "output_type": "stream",
     "text": [
      "312 #폴로랄프로렌 #반팔니트 #폴로카라티 #폴로니트 #폴로랄프로렌니트 착장 리뷰💖 자세한 리뷰는 프로필 링크 또는 네이버에 째알라 #shorts #fashionshorts https://youtu.be/KwpbF1Q_JGs 째알라의 패션로그 폴로 랄프로렌\n"
     ]
    },
    {
     "name": "stderr",
     "output_type": "stream",
     "text": [
      " 54%|█████▍    | 314/580 [07:18<05:56,  1.34s/it]"
     ]
    },
    {
     "name": "stdout",
     "output_type": "stream",
     "text": [
      "313 #폴로랄프로렌 #복조리가방 #리폼 #셔츠 #바느질 #폴로 #남편 #가방만들기 #업사이클링 https://youtu.be/6t94WeCMCVM 새라새롭한복 폴로 랄프로렌\n"
     ]
    },
    {
     "name": "stderr",
     "output_type": "stream",
     "text": [
      " 54%|█████▍    | 315/580 [07:19<05:46,  1.31s/it]"
     ]
    },
    {
     "name": "stdout",
     "output_type": "stream",
     "text": [
      "314 💖폴로랄프로렌 트러커 빈티지 데님자켓 여자 폴로베어 프린트 코튼 안감 청자켓💖 https://youtu.be/hFKTBoYg9rM 빨간단풍구매대행 폴로 랄프로렌\n"
     ]
    },
    {
     "name": "stderr",
     "output_type": "stream",
     "text": [
      " 54%|█████▍    | 316/580 [07:21<05:38,  1.28s/it]"
     ]
    },
    {
     "name": "stdout",
     "output_type": "stream",
     "text": [
      "315 폴로셔츠 5가지 코디🤍 #폴로셔츠 #폴로셔츠코디 #폴로랄프로렌 #옥스포드셔츠 https://youtu.be/_wanGr0C1M4 쇼망 폴로 랄프로렌\n"
     ]
    },
    {
     "name": "stderr",
     "output_type": "stream",
     "text": [
      " 55%|█████▍    | 317/580 [07:22<05:25,  1.24s/it]"
     ]
    },
    {
     "name": "stdout",
     "output_type": "stream",
     "text": [
      "316 정품 폴로를 이가격에...? #폴로공구 #폴로 #남친룩추천 #남친룩 #남친룩코디 https://youtu.be/Kd7NNBbJYEw 에더트의 옷장쑈 폴로 랄프로렌\n"
     ]
    },
    {
     "name": "stderr",
     "output_type": "stream",
     "text": [
      " 55%|█████▍    | 318/580 [07:23<05:05,  1.17s/it]"
     ]
    },
    {
     "name": "stdout",
     "output_type": "stream",
     "text": [
      "317 [RL] 랄프로렌 ◤맨해튼튜브◢ https://youtu.be/FKjo9ZecL9U 맨해튼튜브 폴로 랄프로렌\n"
     ]
    },
    {
     "name": "stderr",
     "output_type": "stream",
     "text": [
      " 55%|█████▌    | 319/580 [07:24<04:55,  1.13s/it]"
     ]
    },
    {
     "name": "stdout",
     "output_type": "stream",
     "text": [
      "318 [폴로 랄프로렌 2탄] 올 가을 여성 신상품들 뭐가 있을까요?🧥🤎🍂 ('여성 상품'편) https://youtu.be/qebelXIMDuk&pp 쇼핑스, 해외라이브 쇼핑 플랫폼 폴로 랄프로렌\n"
     ]
    },
    {
     "name": "stderr",
     "output_type": "stream",
     "text": [
      " 55%|█████▌    | 320/580 [07:25<04:46,  1.10s/it]"
     ]
    },
    {
     "name": "stdout",
     "output_type": "stream",
     "text": [
      "319 #동대문도매 #동대문신상 #동대문 #랄프로렌 https://youtu.be/ZQ7xLnaoAWs MAMAs마마스 폴로 랄프로렌\n"
     ]
    },
    {
     "name": "stderr",
     "output_type": "stream",
     "text": [
      " 55%|█████▌    | 321/580 [07:26<04:35,  1.06s/it]"
     ]
    },
    {
     "name": "stdout",
     "output_type": "stream",
     "text": [
      "320 #short  #shorts 【남성 반팔 폴로셔츠】 https://youtu.be/D0MHpOT-S4E Tomy 폴로 랄프로렌\n"
     ]
    },
    {
     "name": "stderr",
     "output_type": "stream",
     "text": [
      " 56%|█████▌    | 322/580 [07:27<04:35,  1.07s/it]"
     ]
    },
    {
     "name": "stdout",
     "output_type": "stream",
     "text": [
      "321 폴로 랄프로렌 일주일 코디 Day 5 https://youtu.be/HiiqOQ0mVdA 구메gume 폴로 랄프로렌\n"
     ]
    },
    {
     "name": "stderr",
     "output_type": "stream",
     "text": [
      " 56%|█████▌    | 323/580 [07:28<04:28,  1.05s/it]"
     ]
    },
    {
     "name": "stdout",
     "output_type": "stream",
     "text": [
      "322 폴로 랄프로렌 일주일 코디 Day 6 https://youtu.be/QZcN75fvNrM 구메gume 폴로 랄프로렌\n"
     ]
    },
    {
     "name": "stderr",
     "output_type": "stream",
     "text": [
      " 56%|█████▌    | 324/580 [07:29<04:32,  1.07s/it]"
     ]
    },
    {
     "name": "stdout",
     "output_type": "stream",
     "text": [
      "323 에장애장_ Hublot, Polo Ralph Lauren, Callaway Golf, Taylormade Golf, Mark&lona https://youtu.be/yABw7fByI6A 스타일 조선일보 _ Style Chosun Official 폴로 랄프로렌\n"
     ]
    },
    {
     "name": "stderr",
     "output_type": "stream",
     "text": [
      " 56%|█████▌    | 325/580 [07:30<04:40,  1.10s/it]"
     ]
    },
    {
     "name": "stdout",
     "output_type": "stream",
     "text": [
      "324 미국 폴로 아울렛 대박 득템😍#미국일상#아울렛#쇼핑#키즈#폴로#꿀팁#미국브이로그#polo#kids #outlet #shopping#shortsfeed #fypシ https://youtu.be/8Jr2jqAsPM8 강씨패밀리_Kangsfamily 폴로 랄프로렌\n"
     ]
    },
    {
     "name": "stderr",
     "output_type": "stream",
     "text": [
      " 56%|█████▌    | 326/580 [07:32<05:17,  1.25s/it]"
     ]
    },
    {
     "name": "stdout",
     "output_type": "stream",
     "text": [
      "325 에장애장_Loro Piana, Omega, Polo Ralph Lauren https://youtu.be/4jjJkSMFlNY 스타일 조선일보 _ Style Chosun Official 폴로 랄프로렌\n"
     ]
    },
    {
     "name": "stderr",
     "output_type": "stream",
     "text": [
      " 56%|█████▋    | 327/580 [07:33<05:01,  1.19s/it]"
     ]
    },
    {
     "name": "stdout",
     "output_type": "stream",
     "text": [
      "326 폴로 일주일 봄코디🏇 https://youtu.be/1Tt-qS2nC8E 이아영 폴로 랄프로렌\n"
     ]
    },
    {
     "name": "stderr",
     "output_type": "stream",
     "text": [
      " 57%|█████▋    | 328/580 [07:34<05:05,  1.21s/it]"
     ]
    },
    {
     "name": "stdout",
     "output_type": "stream",
     "text": [
      "327 [Vlog #5] 빈티지 스토어 하우스/ 빈티지 옷/ 다사읍/ 아줌마 데이트/ 폴로 랄프로렌/ 쇼핑 https://youtu.be/AFcbtMO4Ga4&pp 유리다미네 폴로 랄프로렌\n"
     ]
    },
    {
     "name": "stderr",
     "output_type": "stream",
     "text": [
      " 57%|█████▋    | 329/580 [07:35<05:01,  1.20s/it]"
     ]
    },
    {
     "name": "stdout",
     "output_type": "stream",
     "text": [
      "328 다이어트중인패션테러리트 #fashion #weightlossjourney #폴로랄프로렌 #사람들이움직이는게 https://youtu.be/8yejKQU1lI4 미쓰지의 살까기 Miss Jee’s weight loss journey 폴로 랄프로렌\n"
     ]
    },
    {
     "name": "stderr",
     "output_type": "stream",
     "text": [
      " 57%|█████▋    | 330/580 [07:36<04:56,  1.18s/it]"
     ]
    },
    {
     "name": "stdout",
     "output_type": "stream",
     "text": [
      "329 출근길을 화보로 만드는 방법 #polo #ralphlauren #폴로 #랄프로렌 https://youtu.be/sHPHEvaHOfE 롯데홈쇼핑 롯튜브  폴로 랄프로렌\n"
     ]
    },
    {
     "name": "stderr",
     "output_type": "stream",
     "text": [
      " 57%|█████▋    | 331/580 [07:38<04:54,  1.18s/it]"
     ]
    },
    {
     "name": "stdout",
     "output_type": "stream",
     "text": [
      "330 [RL] 랄프로렌 ◤맨해튼튜브◢ https://youtu.be/kjNNBJqPdw0 맨해튼튜브 폴로 랄프로렌\n"
     ]
    },
    {
     "name": "stderr",
     "output_type": "stream",
     "text": [
      " 57%|█████▋    | 332/580 [07:39<04:47,  1.16s/it]"
     ]
    },
    {
     "name": "stdout",
     "output_type": "stream",
     "text": [
      "331 [천안명품편집샵 부오노] 스톤아일랜드 로고패치 폴로 반팔티셔츠 옐로우 남성 폴로 https://youtu.be/X1QHrLPwZMQ 천안명품편집샵 부오노 폴로 랄프로렌\n"
     ]
    },
    {
     "name": "stderr",
     "output_type": "stream",
     "text": [
      " 57%|█████▋    | 333/580 [07:40<04:52,  1.19s/it]"
     ]
    },
    {
     "name": "stdout",
     "output_type": "stream",
     "text": [
      "332 폴로 랄프로렌 일주일 코디 Day 7 https://youtu.be/ZEuh6RilarY 구메gume 폴로 랄프로렌\n"
     ]
    },
    {
     "name": "stderr",
     "output_type": "stream",
     "text": [
      " 58%|█████▊    | 334/580 [07:41<04:59,  1.22s/it]"
     ]
    },
    {
     "name": "stdout",
     "output_type": "stream",
     "text": [
      "333 에스파 윈터 '허리가 돋보이는 봄옷 입은 겨울이' (aespa WINTER)｜폴로 랄프 로렌 출퇴근길 240509 https://youtu.be/f_AP1OwxxFs&pp Spinel CAM 폴로 랄프로렌\n"
     ]
    },
    {
     "name": "stderr",
     "output_type": "stream",
     "text": [
      " 58%|█████▊    | 335/580 [07:42<04:53,  1.20s/it]"
     ]
    },
    {
     "name": "stdout",
     "output_type": "stream",
     "text": [
      "334 #폴로코디 #폴로공구중 28~3/1 무료이벤트도 진행중이니 인스타 타고 놀러오세요 🩷 #폴로니트 #폴로가디건 #폴로랄프로렌 #폴로라운드니트#봄코디#봄신상 https://youtu.be/_lTUL24v__g hyeji 혜지  폴로 랄프로렌\n"
     ]
    },
    {
     "name": "stderr",
     "output_type": "stream",
     "text": [
      " 58%|█████▊    | 336/580 [07:44<04:46,  1.17s/it]"
     ]
    },
    {
     "name": "stdout",
     "output_type": "stream",
     "text": [
      "335 한남동 데이트 Vlog❤️사운즈 한남[ 분지로한남 카페 르상스 폴로랄프로렌한남 오르페오] https://youtu.be/WvAsTfYz2nk&pp 올리비아맘세 폴로 랄프로렌\n"
     ]
    },
    {
     "name": "stderr",
     "output_type": "stream",
     "text": [
      " 58%|█████▊    | 337/580 [07:45<04:49,  1.19s/it]"
     ]
    },
    {
     "name": "stdout",
     "output_type": "stream",
     "text": [
      "336 #shorts POLO  상품들 소개합니다 https://youtu.be/p62dGWMp6TU KARA Life 폴로 랄프로렌\n"
     ]
    },
    {
     "name": "stderr",
     "output_type": "stream",
     "text": [
      " 58%|█████▊    | 338/580 [07:46<04:59,  1.24s/it]"
     ]
    },
    {
     "name": "stdout",
     "output_type": "stream",
     "text": [
      "337 폴로 랄프로렌 남자 린넨 셔츠 4종 모음집👔 | 기본부터 한정판까지 모두 만나보세요 (클래식핏 화이트, 슬림핏, 사이즈 조언) https://youtu.be/wEyA9zHwHLM&pp 임대리님 남자패션&트렌드 폴로 랄프로렌\n"
     ]
    },
    {
     "name": "stderr",
     "output_type": "stream",
     "text": [
      " 58%|█████▊    | 339/580 [07:47<05:05,  1.27s/it]"
     ]
    },
    {
     "name": "stdout",
     "output_type": "stream",
     "text": [
      "338 👔 \"직구는 막고, 가격은 올리고!\" 그래도 없어서 못파는 '폴로'의 성적표 https://youtu.be/U5BWIYoBR48&pp 오늘부터 회계사 폴로 랄프로렌\n"
     ]
    },
    {
     "name": "stderr",
     "output_type": "stream",
     "text": [
      " 59%|█████▊    | 340/580 [07:49<05:30,  1.38s/it]"
     ]
    },
    {
     "name": "stdout",
     "output_type": "stream",
     "text": [
      "339 남자 직장인 반팔 PK티셔츠 코디 (폴로셔츠) https://youtu.be/HKXwHkGsKAM 비캐루키 폴로 랄프로렌\n"
     ]
    },
    {
     "name": "stderr",
     "output_type": "stream",
     "text": [
      " 59%|█████▉    | 341/580 [07:50<05:31,  1.39s/it]"
     ]
    },
    {
     "name": "stdout",
     "output_type": "stream",
     "text": [
      "340 다이어트중인 패션테러리스트 73.8kg#폴로랄프로렌 #fashion #AX https://youtu.be/DlmV767za3A 미쓰지의 살까기 Miss Jee’s weight loss journey 폴로 랄프로렌\n"
     ]
    },
    {
     "name": "stderr",
     "output_type": "stream",
     "text": [
      " 59%|█████▉    | 342/580 [07:52<05:51,  1.48s/it]"
     ]
    },
    {
     "name": "stdout",
     "output_type": "stream",
     "text": [
      "341 폴로 랄프로렌 스웻셋업 괜찮나요? https://youtu.be/Cl23QmLDa0E&pp 헌드레드 폴로 랄프로렌\n"
     ]
    },
    {
     "name": "stderr",
     "output_type": "stream",
     "text": [
      " 59%|█████▉    | 343/580 [07:54<05:44,  1.45s/it]"
     ]
    },
    {
     "name": "stdout",
     "output_type": "stream",
     "text": [
      "342 #랄프스커피 #랄프로렌 랄프스 커피에서 아포카토와 랄프스케이크 한조각! #도쿄여행 #여행브이로그 #도쿄 #여행 #여행유튜브 #일본여행 https://youtu.be/Us8m6E_2Aaw 에드가EDGAR 폴로 랄프로렌\n"
     ]
    },
    {
     "name": "stderr",
     "output_type": "stream",
     "text": [
      " 59%|█████▉    | 344/580 [07:55<05:32,  1.41s/it]"
     ]
    },
    {
     "name": "stdout",
     "output_type": "stream",
     "text": [
      "343 폴로 랄프로렌 바지 비싸다면 묻지말고 보세요. 품질좋고 합리적인 가격대의 근본 레귤러 치노팬츠 5가지 추천 https://youtu.be/SQw3sub6ckY&pp 탈패션 FASHION 폴로 랄프로렌\n"
     ]
    },
    {
     "name": "stderr",
     "output_type": "stream",
     "text": [
      " 59%|█████▉    | 345/580 [07:56<05:21,  1.37s/it]"
     ]
    },
    {
     "name": "stdout",
     "output_type": "stream",
     "text": [
      "344 240319 POLO RALPH LAUREN https://youtu.be/k6o4OcZCDTo Yu Archive 폴로 랄프로렌\n"
     ]
    },
    {
     "name": "stderr",
     "output_type": "stream",
     "text": [
      " 60%|█████▉    | 346/580 [07:57<05:18,  1.36s/it]"
     ]
    },
    {
     "name": "stdout",
     "output_type": "stream",
     "text": [
      "345 오늘이 벌써 입추 🍁 #올드머니 #스타일링팁 https://youtu.be/8CAcBBAaQYY 데일리 suzy 폴로 랄프로렌\n"
     ]
    },
    {
     "name": "stderr",
     "output_type": "stream",
     "text": [
      " 60%|█████▉    | 347/580 [07:59<05:32,  1.43s/it]"
     ]
    },
    {
     "name": "stdout",
     "output_type": "stream",
     "text": [
      "346 2/9 빈티지샵 옷집 신상 업로드 완료 :) #shorts #빈티지샵 #폴로랄프로렌 #저지 #아디다스저지 https://youtu.be/PfXLvH4GjXU 옷;집 폴로 랄프로렌\n"
     ]
    },
    {
     "name": "stderr",
     "output_type": "stream",
     "text": [
      " 60%|██████    | 348/580 [08:00<05:28,  1.41s/it]"
     ]
    },
    {
     "name": "stdout",
     "output_type": "stream",
     "text": [
      "347 2/2 빈티지샵 옷집 신상 업로드 완료 :) #shorts #빈티지쇼핑몰 #폴로셔츠 #폴로랄프로렌셔츠 https://youtu.be/6eewgG7L30Y 옷;집 폴로 랄프로렌\n"
     ]
    },
    {
     "name": "stderr",
     "output_type": "stream",
     "text": [
      " 60%|██████    | 349/580 [08:02<05:30,  1.43s/it]"
     ]
    },
    {
     "name": "stdout",
     "output_type": "stream",
     "text": [
      "348 #폴로 #니트코디 폴로 니트를 활용한 #일주일데일리룩 🐴 https://youtu.be/qe-v7Xr0ayY 유자츄 yujachu 🐣 폴로 랄프로렌\n"
     ]
    },
    {
     "name": "stderr",
     "output_type": "stream",
     "text": [
      " 60%|██████    | 350/580 [08:04<06:00,  1.57s/it]"
     ]
    },
    {
     "name": "stdout",
     "output_type": "stream",
     "text": [
      "349 랄프로렌이 디자인 소스로 사용한 충격적인 사진들 https://youtu.be/Ak2QipqPglA AkizStyle 아키즈스타일 폴로 랄프로렌\n"
     ]
    },
    {
     "name": "stderr",
     "output_type": "stream",
     "text": [
      " 61%|██████    | 351/580 [08:05<05:52,  1.54s/it]"
     ]
    },
    {
     "name": "stdout",
     "output_type": "stream",
     "text": [
      "350 폴로 로고 의미 #브랜드 #브랜드스토리 #브랜딩 #브랜드아이덴티티 #마케팅 #마케팅론  #브랜드마케팅 #브랜드마케터 #랄프로렌 #폴로 #폴로랄프로렌 #bx디자인 #로고디자인 https://youtu.be/39YYjvj13L0 스텔스 폴로 랄프로렌\n"
     ]
    },
    {
     "name": "stderr",
     "output_type": "stream",
     "text": [
      " 61%|██████    | 352/580 [08:07<05:58,  1.57s/it]"
     ]
    },
    {
     "name": "stdout",
     "output_type": "stream",
     "text": [
      "351 비기 우수수수오다가 그침#shorts #폴로랄프로렌 #PaulandGreg https://youtu.be/ekZ8SlXigRA PaulandGreg 폴로 랄프로렌\n"
     ]
    },
    {
     "name": "stderr",
     "output_type": "stream",
     "text": [
      " 61%|██████    | 353/580 [08:08<05:57,  1.57s/it]"
     ]
    },
    {
     "name": "stdout",
     "output_type": "stream",
     "text": [
      "352 1/24 빈티지샵 옷집 신상 업로드 완료 :) #shorts #빈티지샵 #폴로니트 #폴로코디 #폴로랄프로렌 https://youtu.be/effAz3e1-T8 옷;집 폴로 랄프로렌\n"
     ]
    },
    {
     "name": "stderr",
     "output_type": "stream",
     "text": [
      " 61%|██████    | 354/580 [08:10<06:07,  1.63s/it]"
     ]
    },
    {
     "name": "stdout",
     "output_type": "stream",
     "text": [
      "353 DEEPSUN 폴로 긴팔티 20수 남여공용 라운드 긴팔티 C17 https://youtu.be/VOPmxjs2q2g KEEP1007 폴로 랄프로렌\n"
     ]
    },
    {
     "name": "stderr",
     "output_type": "stream",
     "text": [
      " 61%|██████    | 355/580 [08:12<06:02,  1.61s/it]"
     ]
    },
    {
     "name": "stdout",
     "output_type": "stream",
     "text": [
      "354 3/27 빈티지샵 otjip 신상 업로드 완료 :) #shorts #빈티지 #폴로랄프로렌 #클래식룩 https://youtu.be/4_YH07nSiUU 옷;집 폴로 랄프로렌\n"
     ]
    },
    {
     "name": "stderr",
     "output_type": "stream",
     "text": [
      " 61%|██████▏   | 356/580 [08:14<06:25,  1.72s/it]"
     ]
    },
    {
     "name": "stdout",
     "output_type": "stream",
     "text": [
      "355 2/18 빈티지샵 옷집 신상 업로드 완료 :) #shorts #폴로니트 #폴로반집업 #폴로룩 #빈티지쇼핑몰 #빈티지샵 https://youtu.be/L-sDKw7p52k 옷;집 폴로 랄프로렌\n"
     ]
    },
    {
     "name": "stderr",
     "output_type": "stream",
     "text": [
      " 62%|██████▏   | 357/580 [08:16<06:27,  1.74s/it]"
     ]
    },
    {
     "name": "stdout",
     "output_type": "stream",
     "text": [
      "356 🇺🇸미국 블랙프라이데이 쇼핑! 마쥬 산드로 폴로랄프로렌 버버리 콜한 가격 샌프란시스코 프리미엄 아울렛 https://youtu.be/KxzN_26_ZEU&pp 캘리뉴비💓California Newbie 폴로 랄프로렌\n"
     ]
    },
    {
     "name": "stderr",
     "output_type": "stream",
     "text": [
      " 62%|██████▏   | 358/580 [08:17<06:13,  1.68s/it]"
     ]
    },
    {
     "name": "stdout",
     "output_type": "stream",
     "text": [
      "357 폴로 남자니트 여자가 착용한 후기 #polo #knit https://youtu.be/wrOPZT98OPA 서부핫탐 폴로 랄프로렌\n"
     ]
    },
    {
     "name": "stderr",
     "output_type": "stream",
     "text": [
      " 62%|██████▏   | 359/580 [08:19<06:31,  1.77s/it]"
     ]
    },
    {
     "name": "stdout",
     "output_type": "stream",
     "text": [
      "358 일교차가 심하네요 건강유의하죠#shorts #폴로랄프로렌 #PaulandGreg https://youtu.be/hIKEQLb_raU PaulandGreg 폴로 랄프로렌\n"
     ]
    },
    {
     "name": "stderr",
     "output_type": "stream",
     "text": [
      " 62%|██████▏   | 360/580 [08:21<06:14,  1.70s/it]"
     ]
    },
    {
     "name": "stdout",
     "output_type": "stream",
     "text": [
      "359 폴로가디건 10일동안 돌려입기💙                           #폴로 #폴로가디건 #ootd #출근룩 https://youtu.be/2MC5f_bdMGE 요니 yoni 폴로 랄프로렌\n"
     ]
    },
    {
     "name": "stderr",
     "output_type": "stream",
     "text": [
      " 62%|██████▏   | 361/580 [08:22<06:09,  1.69s/it]"
     ]
    },
    {
     "name": "stdout",
     "output_type": "stream",
     "text": [
      "360 한번만 웃어주세요 제발🙏🏻 #도도한 #아기 #꼬꼬 #핵귀염 #폴로 #폴로랄프로렌 https://youtu.be/kneFKJKP2eo Choiggoggo 폴로 랄프로렌\n"
     ]
    },
    {
     "name": "stderr",
     "output_type": "stream",
     "text": [
      " 62%|██████▏   | 362/580 [08:25<06:46,  1.87s/it]"
     ]
    },
    {
     "name": "stdout",
     "output_type": "stream",
     "text": [
      "361 뒤죽박죽 최근 아이템 (카키스,하이투,트위드,Tuewid,폴로랄프로렌,팔러,사르토리아준,팀버랜드) https://youtu.be/9QZlGMrH85g&pp 김원중입니다 폴로 랄프로렌\n"
     ]
    },
    {
     "name": "stderr",
     "output_type": "stream",
     "text": [
      " 63%|██████▎   | 363/580 [08:26<06:44,  1.87s/it]"
     ]
    },
    {
     "name": "stdout",
     "output_type": "stream",
     "text": [
      "362 데일리로 사용하기 좋은 겨울 장갑 폴로 랄프로렌 남성 퀼트 터치 스크린 필드 글로브 https://youtu.be/9t2JnC82gy8&pp 아이템줌-실구매자를 위한 채널 폴로 랄프로렌\n"
     ]
    },
    {
     "name": "stderr",
     "output_type": "stream",
     "text": [
      " 63%|██████▎   | 364/580 [08:28<06:15,  1.74s/it]"
     ]
    },
    {
     "name": "stdout",
     "output_type": "stream",
     "text": [
      "363 니트 살 때 폴로  vs 보세 ☝당신의 선택은? #명품 #폴로랄프로렌 https://youtu.be/cJv8LI0nesk 영앤사치 Young$achi 폴로 랄프로렌\n"
     ]
    },
    {
     "name": "stderr",
     "output_type": "stream",
     "text": [
      " 63%|██████▎   | 365/580 [08:30<06:13,  1.74s/it]"
     ]
    },
    {
     "name": "stdout",
     "output_type": "stream",
     "text": [
      "364 📌폴로니트코디 진작이렇게 입을걸#데일리룩코디 #러브수 #패션코디 #스타일링 #올드머니룩 #클래식룩 #폴로니트 #폴로랄프로렌 https://youtu.be/gim8MNSM8iU 데일리 suzy 폴로 랄프로렌\n"
     ]
    },
    {
     "name": "stderr",
     "output_type": "stream",
     "text": [
      " 63%|██████▎   | 366/580 [08:31<05:59,  1.68s/it]"
     ]
    },
    {
     "name": "stdout",
     "output_type": "stream",
     "text": [
      "365 9개월 아기와 피크닉 w폴로랄프로렌칠드런 https://youtu.be/nrb6sC_nGU8 베리뭄 VERYMOOM 폴로 랄프로렌\n"
     ]
    },
    {
     "name": "stderr",
     "output_type": "stream",
     "text": [
      " 63%|██████▎   | 367/580 [08:33<05:44,  1.62s/it]"
     ]
    },
    {
     "name": "stdout",
     "output_type": "stream",
     "text": [
      "366 \"스트로햇으로 썸머룩 보여주세요!\" https://youtu.be/2TMxStJxYTg AkizStyle 아키즈스타일 폴로 랄프로렌\n"
     ]
    },
    {
     "name": "stderr",
     "output_type": "stream",
     "text": [
      " 63%|██████▎   | 368/580 [08:34<05:38,  1.60s/it]"
     ]
    },
    {
     "name": "stdout",
     "output_type": "stream",
     "text": [
      "367 폴로 랄프로렌 자켓 소매기장줄임 수선 #옷수선#수선#리폼#자켓소매수선#폴로 https://youtu.be/3xXn_Pw-HVU 바지단 폴로 랄프로렌\n"
     ]
    },
    {
     "name": "stderr",
     "output_type": "stream",
     "text": [
      " 64%|██████▎   | 369/580 [08:36<05:19,  1.51s/it]"
     ]
    },
    {
     "name": "stdout",
     "output_type": "stream",
     "text": [
      "368 요즘 핫한 상품 폴로모자정품 상품 순위 top5 추천 리뷰 https://youtu.be/esp4Oq5f4qo 마이템 폴로 랄프로렌\n"
     ]
    },
    {
     "name": "stderr",
     "output_type": "stream",
     "text": [
      " 64%|██████▍   | 370/580 [08:37<05:11,  1.48s/it]"
     ]
    },
    {
     "name": "stdout",
     "output_type": "stream",
     "text": [
      "369 우리나라에서 폴로가 제일 잘어울리는 여자연예인 #shorts https://youtu.be/ch7D1o85OKQ 또보패션 폴로 랄프로렌\n"
     ]
    },
    {
     "name": "stderr",
     "output_type": "stream",
     "text": [
      " 64%|██████▍   | 371/580 [08:38<04:51,  1.40s/it]"
     ]
    },
    {
     "name": "stdout",
     "output_type": "stream",
     "text": [
      "370 무려 9조라고!? 폴로 랄프로렌의 탄생 이야기 EP.1 https://youtu.be/hph9FWcTyf0 1분트렌드 X 1분랭킹 shorts 폴로 랄프로렌\n"
     ]
    },
    {
     "name": "stderr",
     "output_type": "stream",
     "text": [
      " 64%|██████▍   | 372/580 [08:39<04:33,  1.31s/it]"
     ]
    },
    {
     "name": "stdout",
     "output_type": "stream",
     "text": [
      "371 폴로 랄프로렌 반팔 티셔츠 https://youtu.be/aWf7XsfRz_A&pp 우리 집으로 가자(가자홈쇼핑) 폴로 랄프로렌\n"
     ]
    },
    {
     "name": "stderr",
     "output_type": "stream",
     "text": [
      " 64%|██████▍   | 373/580 [08:40<04:22,  1.27s/it]"
     ]
    },
    {
     "name": "stdout",
     "output_type": "stream",
     "text": [
      "372 봄에는 #폴로 필수템이지🤍 https://youtu.be/eXtcmygAIMI 프렌드쉽정 폴로 랄프로렌\n"
     ]
    },
    {
     "name": "stderr",
     "output_type": "stream",
     "text": [
      " 64%|██████▍   | 374/580 [08:42<04:13,  1.23s/it]"
     ]
    },
    {
     "name": "stdout",
     "output_type": "stream",
     "text": [
      "373 가방만들고남은천  #폴로랄프로렌 #남편셔츠 #리폼 #앞치마 #업사이클링  #폴로앞치마 #cotton  #바느질 #미싱 #브라더  #만들기 https://youtu.be/JSHyVfmTd-U 새라새롭한복 폴로 랄프로렌\n"
     ]
    },
    {
     "name": "stderr",
     "output_type": "stream",
     "text": [
      " 65%|██████▍   | 375/580 [08:43<04:04,  1.19s/it]"
     ]
    },
    {
     "name": "stdout",
     "output_type": "stream",
     "text": [
      "374 가성비 인생템 폴로 셔츠 BEST5 추천 리뷰 https://youtu.be/8WBRGD5M7sk 쇼핑정보 폴로 랄프로렌\n"
     ]
    },
    {
     "name": "stderr",
     "output_type": "stream",
     "text": [
      " 65%|██████▍   | 376/580 [08:44<04:06,  1.21s/it]"
     ]
    },
    {
     "name": "stdout",
     "output_type": "stream",
     "text": [
      "375 [아울렛상품] 폴로 케이블 꽈베기니트 코튼 스웨터 네이비 블루 커플니트 710775885001 https://youtu.be/s0Bf6mn-SMk calliny 폴로 랄프로렌\n"
     ]
    },
    {
     "name": "stderr",
     "output_type": "stream",
     "text": [
      " 65%|██████▌   | 377/580 [08:45<04:01,  1.19s/it]"
     ]
    },
    {
     "name": "stdout",
     "output_type": "stream",
     "text": [
      "376 남자 겨울 코트 코디❄️ #아크네스튜디오 #폴로 #폴로랄프로렌 #아디다스 #자라하울 #겨울코디 #코트코디 #shorts #ootd #grwm #dailylook https://youtu.be/zQtCnIkCGaM 혁삼이 HYUK32 폴로 랄프로렌\n"
     ]
    },
    {
     "name": "stderr",
     "output_type": "stream",
     "text": [
      " 65%|██████▌   | 378/580 [08:46<03:49,  1.13s/it]"
     ]
    },
    {
     "name": "stdout",
     "output_type": "stream",
     "text": [
      "377 RALPH LAUREN | Polo Ralph Lauren | Women’s Fall Foundation 2023 https://youtu.be/TZUnCBtG2z8&pp Ralph Lauren 폴로 랄프로렌\n"
     ]
    },
    {
     "name": "stderr",
     "output_type": "stream",
     "text": [
      " 65%|██████▌   | 379/580 [08:47<03:53,  1.16s/it]"
     ]
    },
    {
     "name": "stdout",
     "output_type": "stream",
     "text": [
      "378 폴로 랄프로렌 사이즈 고민 되세요? 드루와 드루와 폴로 랄프로렌 보이즈, 걸즈, 우먼 사이즈 완벽 비교해봤습니다!! https://youtu.be/gvjVFvTSip4&pp Like Dew 폴로 랄프로렌\n"
     ]
    },
    {
     "name": "stderr",
     "output_type": "stream",
     "text": [
      " 66%|██████▌   | 380/580 [08:48<03:53,  1.17s/it]"
     ]
    },
    {
     "name": "stdout",
     "output_type": "stream",
     "text": [
      "379 투플리츠 팬츠로 코디해봤습니다 https://youtu.be/t2lQupnSve0 AkizStyle 아키즈스타일 폴로 랄프로렌\n"
     ]
    },
    {
     "name": "stderr",
     "output_type": "stream",
     "text": [
      " 66%|██████▌   | 381/580 [08:50<03:59,  1.20s/it]"
     ]
    },
    {
     "name": "stdout",
     "output_type": "stream",
     "text": [
      "380 두 사람은 도대체 왜 폴로를 입는가? https://youtu.be/dAfkTH0Ss7k 오늘부터 회계사 폴로 랄프로렌\n"
     ]
    },
    {
     "name": "stderr",
     "output_type": "stream",
     "text": [
      " 66%|██████▌   | 382/580 [08:51<03:58,  1.21s/it]"
     ]
    },
    {
     "name": "stdout",
     "output_type": "stream",
     "text": [
      "381 스타필드 POLO~ 쇼핑 가기 전에 둘러보세요#스타필드#POLO#쇼핑하기 https://youtu.be/GC13gh_IL0s 블링블링맘 폴로 랄프로렌\n"
     ]
    },
    {
     "name": "stderr",
     "output_type": "stream",
     "text": [
      " 66%|██████▌   | 383/580 [08:52<04:04,  1.24s/it]"
     ]
    },
    {
     "name": "stdout",
     "output_type": "stream",
     "text": [
      "382 240116 에스파 윈터 공항패션정보 #폴로랄프로렌 #poloralphlauren #연예인패션 #패션정보 #에스파 #aespa #윈터 #공항패션 #shorts https://youtu.be/pYOebR-uw-o Styliu 스타일리유 폴로 랄프로렌\n"
     ]
    },
    {
     "name": "stderr",
     "output_type": "stream",
     "text": [
      " 66%|██████▌   | 384/580 [08:53<03:58,  1.22s/it]"
     ]
    },
    {
     "name": "stdout",
     "output_type": "stream",
     "text": [
      "383 세계 3위 부자 실화!? 폴로 랄프로렌의 탄생 이야기 EP.4 https://youtu.be/UsHOKfVGjxg 1분트렌드 X 1분랭킹 shorts 폴로 랄프로렌\n"
     ]
    },
    {
     "name": "stderr",
     "output_type": "stream",
     "text": [
      " 66%|██████▋   | 385/580 [08:55<03:59,  1.23s/it]"
     ]
    },
    {
     "name": "stdout",
     "output_type": "stream",
     "text": [
      "384 #폴로랄프로렌 #코디 #케이블니트 #쇼츠 https://youtu.be/ESomGyMR8HE 비욘드패션 폴로 랄프로렌\n"
     ]
    },
    {
     "name": "stderr",
     "output_type": "stream",
     "text": [
      " 67%|██████▋   | 386/580 [08:56<03:48,  1.18s/it]"
     ]
    },
    {
     "name": "stdout",
     "output_type": "stream",
     "text": [
      "385 이천아울렛 아동복 폴로 랄프로렌 크록스 밍크뮤 블루독 뉴발란스키즈 https://youtu.be/uK8rGVH90i0 홍삼친구 폴로 랄프로렌\n"
     ]
    },
    {
     "name": "stderr",
     "output_type": "stream",
     "text": [
      " 67%|██████▋   | 387/580 [08:57<03:42,  1.15s/it]"
     ]
    },
    {
     "name": "stdout",
     "output_type": "stream",
     "text": [
      "386 페이커가 전하는 스포츠맨십의 가치 (Faker's Made-to-Measure With Polo Ralph Lauren) https://youtu.be/evJ-LM81Ysg&pp GQ KOREA 폴로 랄프로렌\n"
     ]
    },
    {
     "name": "stderr",
     "output_type": "stream",
     "text": [
      " 67%|██████▋   | 388/580 [08:58<03:42,  1.16s/it]"
     ]
    },
    {
     "name": "stdout",
     "output_type": "stream",
     "text": [
      "387 153cm의 메종키츠네, 폴로 티셔츠 사이즈 & 코디 팁! https://youtu.be/frbUDqlez38 m ! n i - f i 미니파이 폴로 랄프로렌\n"
     ]
    },
    {
     "name": "stderr",
     "output_type": "stream",
     "text": [
      " 67%|██████▋   | 389/580 [08:59<03:38,  1.15s/it]"
     ]
    },
    {
     "name": "stdout",
     "output_type": "stream",
     "text": [
      "388 정우성 | 𝐑𝐀𝐋𝐏𝐇 𝐋𝐀𝐔𝐑𝐄𝐍 https://youtu.be/3MLTmbtOM-Q Artist Company 폴로 랄프로렌\n"
     ]
    },
    {
     "name": "stderr",
     "output_type": "stream",
     "text": [
      " 67%|██████▋   | 390/580 [09:00<03:34,  1.13s/it]"
     ]
    },
    {
     "name": "stdout",
     "output_type": "stream",
     "text": [
      "389 남자들의 필수 기본템 카라티/니트! 근본부터 가성비까지 대량리뷰 https://youtu.be/tBCstCyhL2U&pp 패션튜브삭형 폴로 랄프로렌\n"
     ]
    },
    {
     "name": "stderr",
     "output_type": "stream",
     "text": [
      " 67%|██████▋   | 391/580 [09:01<03:32,  1.12s/it]"
     ]
    },
    {
     "name": "stdout",
     "output_type": "stream",
     "text": [
      "390 폴로 니트ㅣ올드머니룩ㅣ직장인코디ㅣ봄 데일리룩ㅣ폴로니트 코디 https://youtu.be/ECu8DB5LkzQ 새벽별 폴로 랄프로렌\n"
     ]
    },
    {
     "name": "stderr",
     "output_type": "stream",
     "text": [
      " 68%|██████▊   | 392/580 [09:02<03:27,  1.11s/it]"
     ]
    },
    {
     "name": "stdout",
     "output_type": "stream",
     "text": [
      "391 인간 랄프로렌이라 불리는 진정한 모델 https://youtu.be/VFEEh95jN-0 도래Dorae 폴로 랄프로렌\n"
     ]
    },
    {
     "name": "stderr",
     "output_type": "stream",
     "text": [
      " 68%|██████▊   | 393/580 [09:04<03:32,  1.14s/it]"
     ]
    },
    {
     "name": "stdout",
     "output_type": "stream",
     "text": [
      "392 [폴로 랄프로렌 2탄] 조금만 잘 알아도 핫딜가에 구매할 수 있다!('키즈' 편) https://youtu.be/gb7cBMmO6PI&pp 쇼핑스, 해외라이브 쇼핑 플랫폼 폴로 랄프로렌\n"
     ]
    },
    {
     "name": "stderr",
     "output_type": "stream",
     "text": [
      " 68%|██████▊   | 394/580 [09:05<03:32,  1.14s/it]"
     ]
    },
    {
     "name": "stdout",
     "output_type": "stream",
     "text": [
      "393 [폴로 랄프로렌 1탄] 23FW 가을 신상 니트 다 모았어! ('여성 상품'편) https://youtu.be/cwCE5iDVk9Y&pp 쇼핑스, 해외라이브 쇼핑 플랫폼 폴로 랄프로렌\n"
     ]
    },
    {
     "name": "stderr",
     "output_type": "stream",
     "text": [
      " 68%|██████▊   | 395/580 [09:06<03:28,  1.12s/it]"
     ]
    },
    {
     "name": "stdout",
     "output_type": "stream",
     "text": [
      "394 #폴로 #코듀로이 #자켓 으로 이구역 힙함 정점 찍고온 썰🧡 https://youtu.be/agFU4Glg744 유자츄 yujachu 🐣 폴로 랄프로렌\n"
     ]
    },
    {
     "name": "stderr",
     "output_type": "stream",
     "text": [
      " 68%|██████▊   | 396/580 [09:07<03:28,  1.13s/it]"
     ]
    },
    {
     "name": "stdout",
     "output_type": "stream",
     "text": [
      "395 [Vlog] 일상 브이로그ㅣ폴로랄프로렌 OOTDㅣ신강에서 추석 선물사고 아웃백에서 점심먹기ㅣ북악팔각정 가을산책ㅣ이태원 오띠젤리 리뷰ㅣ아르켓 언박싱ㅣ레몬파운드케이크 만들기ㅣEP.11 https://youtu.be/uXsNdgJjWxg&pp 아이미 ime 폴로 랄프로렌\n"
     ]
    },
    {
     "name": "stderr",
     "output_type": "stream",
     "text": [
      " 68%|██████▊   | 397/580 [09:08<03:35,  1.18s/it]"
     ]
    },
    {
     "name": "stdout",
     "output_type": "stream",
     "text": [
      "396 애정하는 빈티지들 | 리바이스,게스,빈티지스웻셔츠,폴로랄프로렌,슈가케인,자라세일 https://youtu.be/naGEZct4j_w&pp 한재범입니다 폴로 랄프로렌\n"
     ]
    },
    {
     "name": "stderr",
     "output_type": "stream",
     "text": [
      " 69%|██████▊   | 398/580 [09:10<03:39,  1.21s/it]"
     ]
    },
    {
     "name": "stdout",
     "output_type": "stream",
     "text": [
      "397 가을맞이 가디건 / 폴로 걸즈 가디건 M , L 사이즈 6가지 색상 입어보기 / 폴로랄프로렌 공홈 구매대행 https://youtu.be/-ykXmI-Fj8U&pp 선브레드 폴로 랄프로렌\n"
     ]
    },
    {
     "name": "stderr",
     "output_type": "stream",
     "text": [
      " 69%|██████▉   | 399/580 [09:11<03:47,  1.26s/it]"
     ]
    },
    {
     "name": "stdout",
     "output_type": "stream",
     "text": [
      "398 사랑하는 남자와 “폴로 랄프로렌” 화보 찍기#shorts https://youtu.be/VYgjP1uON_4 백란 폴로 랄프로렌\n"
     ]
    },
    {
     "name": "stderr",
     "output_type": "stream",
     "text": [
      " 69%|██████▉   | 400/580 [09:12<03:50,  1.28s/it]"
     ]
    },
    {
     "name": "stdout",
     "output_type": "stream",
     "text": [
      "399 에스파 윈터 폴로 랄프로렌 앰버서더 촬영 https://youtu.be/Km_4YAqioTY k-pop girl groups mylove 폴로 랄프로렌\n"
     ]
    },
    {
     "name": "stderr",
     "output_type": "stream",
     "text": [
      " 69%|██████▉   | 401/580 [09:14<03:55,  1.32s/it]"
     ]
    },
    {
     "name": "stdout",
     "output_type": "stream",
     "text": [
      "400 여자 연예인 폴로 셔츠 스타일링#shorts#poloralphlauren https://youtu.be/WLs3SbKeeOU 언니들의패션 Her Style 폴로 랄프로렌\n"
     ]
    },
    {
     "name": "stderr",
     "output_type": "stream",
     "text": [
      " 69%|██████▉   | 402/580 [09:15<04:07,  1.39s/it]"
     ]
    },
    {
     "name": "stdout",
     "output_type": "stream",
     "text": [
      "401 폴로셔츠로 꾸안꾸룩 선보인 김고은 패션 #shorts https://youtu.be/l1GCYNU_eZM TVREPORT 폴로 랄프로렌\n"
     ]
    },
    {
     "name": "stderr",
     "output_type": "stream",
     "text": [
      " 69%|██████▉   | 403/580 [09:17<04:07,  1.40s/it]"
     ]
    },
    {
     "name": "stdout",
     "output_type": "stream",
     "text": [
      "402 [ENG/마이에센셜] 최초공개! T1 멤버, 너 지큐의 ㄷ도도독! 마음의 양식을 위한 책부터 알 길이 없는 진짜 찐 애장품 (T1, 제우스, 오너, 페이커, 구마유시, 케리아) https://youtu.be/7mq4bVFdp5A&pp GQ KOREA 폴로 랄프로렌\n"
     ]
    },
    {
     "name": "stderr",
     "output_type": "stream",
     "text": [
      " 70%|██████▉   | 404/580 [09:18<04:05,  1.40s/it]"
     ]
    },
    {
     "name": "stdout",
     "output_type": "stream",
     "text": [
      "403 대한민국을 호구잡은 폴로 https://youtu.be/dUB3DjZStq4 오늘부터 회계사 폴로 랄프로렌\n"
     ]
    },
    {
     "name": "stderr",
     "output_type": "stream",
     "text": [
      " 70%|██████▉   | 405/580 [09:19<04:06,  1.41s/it]"
     ]
    },
    {
     "name": "stdout",
     "output_type": "stream",
     "text": [
      "404 첫 사업에 60억을!? 폴로 랄프로렌의 탄생 이야기 EP.2 https://youtu.be/SPGFziHYnhM 1분트렌드 X 1분랭킹 shorts 폴로 랄프로렌\n"
     ]
    },
    {
     "name": "stderr",
     "output_type": "stream",
     "text": [
      " 70%|███████   | 406/580 [09:21<03:52,  1.34s/it]"
     ]
    },
    {
     "name": "stdout",
     "output_type": "stream",
     "text": [
      "405 설 연휴 마카오 여행 브이로그ㅣ마카오 쇼핑 리스트ㅣ마카오 폴로공장ㅣ폴로랄프로렌 브룩스브라더스 쇼핑추천 https://youtu.be/ridtVUIq20c&pp healthy 핼씨 폴로 랄프로렌\n"
     ]
    },
    {
     "name": "stderr",
     "output_type": "stream",
     "text": [
      " 70%|███████   | 407/580 [09:22<03:40,  1.28s/it]"
     ]
    },
    {
     "name": "stdout",
     "output_type": "stream",
     "text": [
      "406 [더비로그]폴로 랄프로렌 큐 🩵•polo ralp lauren Q•서일코 하울•팝마트 산리오 랜덤깡•서울 일러스트코리아•스티커 마스킹테이프•키스컷 테이프•일상 브이로그•vlog https://youtu.be/_MhbdK_0qLM&pp 레디셋큐 폴로 랄프로렌\n"
     ]
    },
    {
     "name": "stderr",
     "output_type": "stream",
     "text": [
      " 70%|███████   | 408/580 [09:24<04:11,  1.46s/it]"
     ]
    },
    {
     "name": "stdout",
     "output_type": "stream",
     "text": [
      "407 이래서 직접 입어봐야 😎 feat. 구찌 반팔 폴로 카라 티셔츠 https://youtu.be/IPoS08nPLDU 실시간런던 폴로 랄프로렌\n"
     ]
    },
    {
     "name": "stderr",
     "output_type": "stream",
     "text": [
      " 71%|███████   | 409/580 [09:25<04:00,  1.41s/it]"
     ]
    },
    {
     "name": "stdout",
     "output_type": "stream",
     "text": [
      "408 인간 폴로 그 잡채 https://youtu.be/pE8QkO2PMSs Issue Playlist 잇플리 폴로 랄프로렌\n"
     ]
    },
    {
     "name": "stderr",
     "output_type": "stream",
     "text": [
      " 71%|███████   | 410/580 [09:26<03:51,  1.36s/it]"
     ]
    },
    {
     "name": "stdout",
     "output_type": "stream",
     "text": [
      "409 158cm 46kg 폴로가디건 코디 🍂 #가을룩북 https://youtu.be/rkmLhuEl9QQ 쏭윤songyoon 폴로 랄프로렌\n"
     ]
    },
    {
     "name": "stderr",
     "output_type": "stream",
     "text": [
      " 71%|███████   | 411/580 [09:27<03:44,  1.33s/it]"
     ]
    },
    {
     "name": "stdout",
     "output_type": "stream",
     "text": [
      "410 리즈 갱신했다는 크리스탈 폴로 여신룩 #shorts https://youtu.be/RCICI_iF6nc 선라이즈 직구 스타일 폴로 랄프로렌\n"
     ]
    },
    {
     "name": "stderr",
     "output_type": "stream",
     "text": [
      " 71%|███████   | 412/580 [09:29<03:36,  1.29s/it]"
     ]
    },
    {
     "name": "stdout",
     "output_type": "stream",
     "text": [
      "411 폴로 행사에서 연예인들 앞에서 옷자랑 하는 페이커 #t1 #faker #페이커 #폴로랄프로렌 #몬스타엑스 #박보영 #피식대학 #류준열 https://youtu.be/o8CmRVPJeNw 백아 폴로 랄프로렌\n"
     ]
    },
    {
     "name": "stderr",
     "output_type": "stream",
     "text": [
      " 71%|███████   | 413/580 [09:30<03:37,  1.30s/it]"
     ]
    },
    {
     "name": "stdout",
     "output_type": "stream",
     "text": [
      "412 크리스탈의 매력적인 여름 데님 베스트 패션 공개 #크리스탈 #정수정 #폴로 #폴로랄프로렌 #데님 #데님베스트 #데님조끼 #여름코디 #쇼츠 #릴스 #틱톡 #유튜브 #구독 https://youtu.be/f3SXIS3-POY 패션의정석 폴로 랄프로렌\n"
     ]
    },
    {
     "name": "stderr",
     "output_type": "stream",
     "text": [
      " 71%|███████▏  | 414/580 [09:31<03:33,  1.29s/it]"
     ]
    },
    {
     "name": "stdout",
     "output_type": "stream",
     "text": [
      "413 폴로카라티 입고 비엔나 만들기 #shorts #폴로 #폴로랄프로렌 #아인슈페너 #수유카페 #개인카페브이로그 https://youtu.be/0uPD-7Fbl7I 성현이의 개인적인카페 폴로 랄프로렌\n"
     ]
    },
    {
     "name": "stderr",
     "output_type": "stream",
     "text": [
      " 72%|███████▏  | 415/580 [09:33<03:33,  1.30s/it]"
     ]
    },
    {
     "name": "stdout",
     "output_type": "stream",
     "text": [
      "414 티셔츠 하나로 80조!? 폴로 랄프로렌의 탄생 이야기 EP.3 https://youtu.be/WTPUd8NcTEo 1분트렌드 X 1분랭킹 shorts 폴로 랄프로렌\n"
     ]
    },
    {
     "name": "stderr",
     "output_type": "stream",
     "text": [
      " 72%|███████▏  | 416/580 [09:34<03:53,  1.43s/it]"
     ]
    },
    {
     "name": "stdout",
     "output_type": "stream",
     "text": [
      "415 에스파 윈터 폴로 랄프로렌 앰버서더 촬영 https://youtu.be/osxQVCpFKZg k-pop girl groups mylove 폴로 랄프로렌\n"
     ]
    },
    {
     "name": "stderr",
     "output_type": "stream",
     "text": [
      " 72%|███████▏  | 417/580 [09:36<03:56,  1.45s/it]"
     ]
    },
    {
     "name": "stdout",
     "output_type": "stream",
     "text": [
      "416 폴로 랄프로렌 리셀로 2배 비싸게 파는 법 https://youtu.be/bHRSrwUg4Ik&pp 헬프맨 폴로 랄프로렌\n"
     ]
    },
    {
     "name": "stderr",
     "output_type": "stream",
     "text": [
      " 72%|███████▏  | 418/580 [09:37<04:03,  1.50s/it]"
     ]
    },
    {
     "name": "stdout",
     "output_type": "stream",
     "text": [
      "417 오늘의 브랜드 ‘랄프로렌’ #폴로 #패션 https://youtu.be/D2hv2Bbaclc&pp 오늘의 브랜드 폴로 랄프로렌\n"
     ]
    },
    {
     "name": "stderr",
     "output_type": "stream",
     "text": [
      " 72%|███████▏  | 419/580 [09:39<04:11,  1.56s/it]"
     ]
    },
    {
     "name": "stdout",
     "output_type": "stream",
     "text": [
      "418  입히고 싶은 남자 수영복 브랜드 추천 ♥️☺️대박 꿀팁등장! 수영복 소재랑 운동복 소재가 같다고? 🏊‍♂️🩳🩲🤿 #오아스 #스투시 #랄프로렌 #POLO #세러데이뉴욕시티 https://youtu.be/F8u3X-ftymY 마찌안나 폴로 랄프로렌\n"
     ]
    },
    {
     "name": "stderr",
     "output_type": "stream",
     "text": [
      " 72%|███████▏  | 420/580 [09:41<04:15,  1.60s/it]"
     ]
    },
    {
     "name": "stdout",
     "output_type": "stream",
     "text": [
      "419 폴로 반팔티로 일주일 커플룩 코디하기 #커플룩 #폴로 https://youtu.be/7Zu1ajgcjdE 크로켓 - 전세계 커넥팅 쇼핑 폴로 랄프로렌\n"
     ]
    },
    {
     "name": "stderr",
     "output_type": "stream",
     "text": [
      " 73%|███████▎  | 421/580 [09:42<04:06,  1.55s/it]"
     ]
    },
    {
     "name": "stdout",
     "output_type": "stream",
     "text": [
      "420 네이비 블루 폴로 케이블 니트 코디 모음 1편 #폴로랄프로렌 #케이블니트 #코디 https://youtu.be/zMlkU_KFOqo 비욘드패션 폴로 랄프로렌\n"
     ]
    },
    {
     "name": "stderr",
     "output_type": "stream",
     "text": [
      " 73%|███████▎  | 422/580 [09:44<04:07,  1.57s/it]"
     ]
    },
    {
     "name": "stdout",
     "output_type": "stream",
     "text": [
      "421 편안하고 우아한 올드머니 코디 폴로셔츠 스타일링 #중년패션코디 #중년코디#패션#여름패션 https://youtu.be/GiTmHA3ejo8 오오.예(오래오래 예쁘게) 폴로 랄프로렌\n"
     ]
    },
    {
     "name": "stderr",
     "output_type": "stream",
     "text": [
      " 73%|███████▎  | 423/580 [09:46<04:14,  1.62s/it]"
     ]
    },
    {
     "name": "stdout",
     "output_type": "stream",
     "text": [
      "422 랄프로렌 폴로 70% + 20%, 라코스테 맨투맨 7.2만원. 아미 빅하트 가디건 28만원, 버버리 스카프 17.4만원, 우영미 백로고 맨투맨 관부가세안, 바이레도, 딥티크 향수 https://youtu.be/38wTmkdP5sI&pp 직구정보통 폴로 랄프로렌\n"
     ]
    },
    {
     "name": "stderr",
     "output_type": "stream",
     "text": [
      " 73%|███████▎  | 424/580 [09:47<04:09,  1.60s/it]"
     ]
    },
    {
     "name": "stdout",
     "output_type": "stream",
     "text": [
      "423 vlog. 쇼핑 하울 ( 벤시몽 | 드파운드 | 파타고니아 | 세인트제임스 | 폴로랄프로렌 | 위드아웃썸머 |  무인양품) https://youtu.be/sjlJIrFghk4&pp 비타희VITAHEE 폴로 랄프로렌\n"
     ]
    },
    {
     "name": "stderr",
     "output_type": "stream",
     "text": [
      " 73%|███████▎  | 425/580 [09:49<04:22,  1.69s/it]"
     ]
    },
    {
     "name": "stdout",
     "output_type": "stream",
     "text": [
      "424 #마리가간다 '폴로 랄프 로렌' 행사 현장에 참석한 aespa 윈터, THE BOYZ 큐, 배우 전소니 그리고 NCT 마크, Billlie 츠키, 배우 홍경 https://youtu.be/Yd4j1RLY9SM Marie Claire Korea 폴로 랄프로렌\n"
     ]
    },
    {
     "name": "stderr",
     "output_type": "stream",
     "text": [
      " 73%|███████▎  | 426/580 [09:51<04:29,  1.75s/it]"
     ]
    },
    {
     "name": "stdout",
     "output_type": "stream",
     "text": [
      "425 눈물의 여왕 홍해인 블루 셋업, 따라해볼만한데? #shorts https://youtu.be/9tDv2xfu3UE soldout_솔드아웃 폴로 랄프로렌\n"
     ]
    },
    {
     "name": "stderr",
     "output_type": "stream",
     "text": [
      " 74%|███████▎  | 427/580 [09:53<04:42,  1.84s/it]"
     ]
    },
    {
     "name": "stdout",
     "output_type": "stream",
     "text": [
      "426 화이트 옥스포드 셔츠는 어디서 사야 됩니까? https://youtu.be/KXo26n-OBA0&pp 헌드레드 폴로 랄프로렌\n"
     ]
    },
    {
     "name": "stderr",
     "output_type": "stream",
     "text": [
      " 74%|███████▍  | 428/580 [09:55<04:35,  1.81s/it]"
     ]
    },
    {
     "name": "stdout",
     "output_type": "stream",
     "text": [
      "427 폴로 랄프로렌 자켓 소매기장줄임 수선 https://youtu.be/n2jfSuvjOPA&pp 바지단 폴로 랄프로렌\n"
     ]
    },
    {
     "name": "stderr",
     "output_type": "stream",
     "text": [
      " 74%|███████▍  | 429/580 [09:56<04:29,  1.79s/it]"
     ]
    },
    {
     "name": "stdout",
     "output_type": "stream",
     "text": [
      "428 70% 세일 모음 - 랄프로렌 폴로, 스톤 맨투맨 25만원, 아미 빅하트 가디건, 톰브라운, 뉴발996v2 9.8만원, 아크테릭스 베타 자켓, 아디다스 X 웨일스보너, 폴스미스 https://youtu.be/-1CZWyT8y1A&pp 직구정보통 폴로 랄프로렌\n"
     ]
    },
    {
     "name": "stderr",
     "output_type": "stream",
     "text": [
      " 74%|███████▍  | 430/580 [09:58<04:15,  1.70s/it]"
     ]
    },
    {
     "name": "stdout",
     "output_type": "stream",
     "text": [
      "429 배우 이제훈 동영상(233) : 2016 폴로 랄프로렌 가로수길 스토어1주년 행사/2018 SBS 연기대상 번외+Fan Cam https://youtu.be/xc273qWnh6w&pp 제훈앓이~♡ 폴로 랄프로렌\n"
     ]
    },
    {
     "name": "stderr",
     "output_type": "stream",
     "text": [
      " 74%|███████▍  | 431/580 [10:00<04:15,  1.71s/it]"
     ]
    },
    {
     "name": "stdout",
     "output_type": "stream",
     "text": [
      "430 티원 폴로 행사 참여했던 썰 푸는 윤두준 #윤두준 #페이커 #faker #t1 #폴로랄프로렌 https://youtu.be/fzOAu69rbBk 백아 폴로 랄프로렌\n"
     ]
    },
    {
     "name": "stderr",
     "output_type": "stream",
     "text": [
      " 74%|███████▍  | 432/580 [10:01<04:04,  1.65s/it]"
     ]
    },
    {
     "name": "stdout",
     "output_type": "stream",
     "text": [
      "431 #ODs​#올리브드랩서비스​#폴로​#랄프로렌​#POLO​#RALPHLAUREN​#니들스​#NEEDLES​#NIKE​#나이키​#에어쿠키니​#RRL#모스콧#더블알엘#떠블알엘#데일리룩 https://youtu.be/WmOxcHEBnT0 꼬도리WORLD 폴로 랄프로렌\n"
     ]
    },
    {
     "name": "stderr",
     "output_type": "stream",
     "text": [
      " 75%|███████▍  | 433/580 [10:03<03:56,  1.61s/it]"
     ]
    },
    {
     "name": "stdout",
     "output_type": "stream",
     "text": [
      "432 #랄프로렌 의 신간 '랄프 로렌: 어 웨이 오브 리빙' 론칭 이벤트에 참석한 배우 #이진욱 , 작가 #전은경 과 #조승연 의 모습을 영상으로 만나 보세요! https://youtu.be/_BYTeRMEUJA SINGLES KOREA 싱글즈 매거진 폴로 랄프로렌\n"
     ]
    },
    {
     "name": "stderr",
     "output_type": "stream",
     "text": [
      " 75%|███████▍  | 434/580 [10:04<04:01,  1.66s/it]"
     ]
    },
    {
     "name": "stdout",
     "output_type": "stream",
     "text": [
      "433 [카이] 핫 하다 못해 불타던 전설의 랄프로렌카이❤️‍🔥 170928 Polo Ralph Lauren 플래그십 스토어 오픈 2주년 GRAZIA TV KAI Cut https://youtu.be/_0n92bKmuqk ONLYKAI 폴로 랄프로렌\n"
     ]
    },
    {
     "name": "stderr",
     "output_type": "stream",
     "text": [
      " 75%|███████▌  | 435/580 [10:06<03:51,  1.59s/it]"
     ]
    },
    {
     "name": "stdout",
     "output_type": "stream",
     "text": [
      "434 열애 인정 후 첫 스케줄 소화한 류준열 #shorts #류준열 #랄프로렌 https://youtu.be/RPwBgXqb6eg 발빠패 폴로 랄프로렌\n"
     ]
    },
    {
     "name": "stderr",
     "output_type": "stream",
     "text": [
      " 75%|███████▌  | 436/580 [10:08<03:51,  1.60s/it]"
     ]
    },
    {
     "name": "stdout",
     "output_type": "stream",
     "text": [
      "435 23도 출근룩 , 폴로 원피스 꺼내입기 🩵 https://youtu.be/o4dAo-qetpU 이기리 폴로 랄프로렌\n"
     ]
    },
    {
     "name": "stderr",
     "output_type": "stream",
     "text": [
      " 75%|███████▌  | 437/580 [10:09<03:41,  1.55s/it]"
     ]
    },
    {
     "name": "stdout",
     "output_type": "stream",
     "text": [
      "436 #스타벅스노은점 #gooseberrylay&co#뉴스보이캡#폴로#랄프로렌#conversexcommedesgarcons##nixonrotolog#thenorthface#supreme https://youtu.be/JALPwR5gjaM 한광희 아무거나 올리는TV 폴로 랄프로렌\n"
     ]
    },
    {
     "name": "stderr",
     "output_type": "stream",
     "text": [
      " 76%|███████▌  | 438/580 [10:10<03:31,  1.49s/it]"
     ]
    },
    {
     "name": "stdout",
     "output_type": "stream",
     "text": [
      "437 핫하고 잘팔리는 제품 폴로 데님셔츠 TOP5 추천 https://youtu.be/EJseaNOa_Hc 희먹 폴로 랄프로렌\n"
     ]
    },
    {
     "name": "stderr",
     "output_type": "stream",
     "text": [
      " 76%|███████▌  | 439/580 [10:12<03:20,  1.42s/it]"
     ]
    },
    {
     "name": "stdout",
     "output_type": "stream",
     "text": [
      "438 Ralph Lauren Polo Red EDT Review 🔥  Polo Red First Impressions https://youtu.be/aAOQv499t-o&pp CurlyFragrance 폴로 랄프로렌\n"
     ]
    },
    {
     "name": "stderr",
     "output_type": "stream",
     "text": [
      " 76%|███████▌  | 440/580 [10:13<03:09,  1.35s/it]"
     ]
    },
    {
     "name": "stdout",
     "output_type": "stream",
     "text": [
      "439 스트라이프 폴로셔츠와 시어서커 자켓 활용 여름 남자 출근룩 https://youtu.be/96gZBiZXyw4 비캐루키 폴로 랄프로렌\n"
     ]
    },
    {
     "name": "stderr",
     "output_type": "stream",
     "text": [
      " 76%|███████▌  | 441/580 [10:14<03:00,  1.30s/it]"
     ]
    },
    {
     "name": "stdout",
     "output_type": "stream",
     "text": [
      "440 폴로후드집업 추천 판매순위 Top10 || 가격 평점 후기 비교 https://youtu.be/4xjVGHXmiTA&pp 어바웃쇼핑 폴로 랄프로렌\n"
     ]
    },
    {
     "name": "stderr",
     "output_type": "stream",
     "text": [
      " 76%|███████▌  | 442/580 [10:15<02:58,  1.29s/it]"
     ]
    },
    {
     "name": "stdout",
     "output_type": "stream",
     "text": [
      "441 Aespa Winter as official ambassador for 'Polo Ralph Lauren' 🧸#aespa #에스파 #WINTER #윈터#PoloRalphLauren https://youtu.be/Ni5cj-sv4lI D4RKBLUU'S ARMAGEDDON 폴로 랄프로렌\n"
     ]
    },
    {
     "name": "stderr",
     "output_type": "stream",
     "text": [
      " 76%|███████▋  | 443/580 [10:16<02:48,  1.23s/it]"
     ]
    },
    {
     "name": "stdout",
     "output_type": "stream",
     "text": [
      "442 [RL] 폴로 랄프로렌 ◤맨해튼튜브◢ https://youtu.be/nMwScHb_9B8 맨해튼튜브 폴로 랄프로렌\n"
     ]
    },
    {
     "name": "stderr",
     "output_type": "stream",
     "text": [
      " 77%|███████▋  | 444/580 [10:17<02:43,  1.20s/it]"
     ]
    },
    {
     "name": "stdout",
     "output_type": "stream",
     "text": [
      "443 70's Polo Western Ralph Lauren type2 blanket denim jacket M95 구매 문의 인스타 𝐃𝐌. https://youtu.be/bY5_WjGkMOo PoloRalphCode 폴로 랄프로렌\n"
     ]
    },
    {
     "name": "stderr",
     "output_type": "stream",
     "text": [
      " 77%|███████▋  | 445/580 [10:19<02:47,  1.24s/it]"
     ]
    },
    {
     "name": "stdout",
     "output_type": "stream",
     "text": [
      "444 [RU미국주식] 패션하면 유럽? 스케일 남다른 미국 패션시장도 빠질 수 없지! #Shorts https://youtu.be/QnT6QXwlE18 유안타증권 - Yuantakorea 폴로 랄프로렌\n"
     ]
    },
    {
     "name": "stderr",
     "output_type": "stream",
     "text": [
      " 77%|███████▋  | 446/580 [10:20<02:57,  1.32s/it]"
     ]
    },
    {
     "name": "stdout",
     "output_type": "stream",
     "text": [
      "445 [한글자막] 폴로랄프로렌 X 노벨브라이트 어쿠스틱 라이브 live 모음집  / ポロ ラルフ ローレン×Novelbright - スペシャルライブ full ver https://youtu.be/Dev2ujZa7e4&pp 진상(ジンさん) 폴로 랄프로렌\n"
     ]
    },
    {
     "name": "stderr",
     "output_type": "stream",
     "text": [
      " 77%|███████▋  | 447/580 [10:22<03:05,  1.40s/it]"
     ]
    },
    {
     "name": "stdout",
     "output_type": "stream",
     "text": [
      "446 I♥️Red #ootd #폴로랄프로렌 #레드 #歌ってみた https://youtu.be/ubzI8HzDhrM 비이니 binie 폴로 랄프로렌\n"
     ]
    },
    {
     "name": "stderr",
     "output_type": "stream",
     "text": [
      " 77%|███████▋  | 448/580 [10:23<02:47,  1.27s/it]"
     ]
    },
    {
     "name": "stdout",
     "output_type": "stream",
     "text": [
      "447 7월 먹부림 V-Log. 송현아/폴로랄프로렌/츄러스/팔백집/미나리삼겹살/마제소바/더라움/순우블랙/갓잇 https://youtu.be/_U7NDtwT_ec&pp 은태기 폴로 랄프로렌\n"
     ]
    },
    {
     "name": "stderr",
     "output_type": "stream",
     "text": [
      " 77%|███████▋  | 449/580 [10:24<02:37,  1.20s/it]"
     ]
    },
    {
     "name": "stdout",
     "output_type": "stream",
     "text": [
      "448 우울한토요일출근룩 #30대패션 #40대패션  #폴로 #폴로랄프로렌 #반스 https://youtu.be/0-RWguPfnRs 비비드하네 폴로 랄프로렌\n"
     ]
    },
    {
     "name": "stderr",
     "output_type": "stream",
     "text": [
      " 78%|███████▊  | 450/580 [10:25<02:32,  1.17s/it]"
     ]
    },
    {
     "name": "stdout",
     "output_type": "stream",
     "text": [
      "449 무조건 빠지는 연예인 식단 보틀 샐러드 w 폴로 랄프로렌 - 데라세르나 https://youtu.be/IZXUD92f_Ik&pp 데라세르나 de la Serna 폴로 랄프로렌\n"
     ]
    },
    {
     "name": "stderr",
     "output_type": "stream",
     "text": [
      " 78%|███████▊  | 451/580 [10:26<02:30,  1.16s/it]"
     ]
    },
    {
     "name": "stdout",
     "output_type": "stream",
     "text": [
      "450 에스파 윈터 공항패션정보는? #shorts https://youtu.be/_9z3_7ffVU0 스타라인 폴로 랄프로렌\n"
     ]
    },
    {
     "name": "stderr",
     "output_type": "stream",
     "text": [
      " 78%|███████▊  | 452/580 [10:27<02:26,  1.14s/it]"
     ]
    },
    {
     "name": "stdout",
     "output_type": "stream",
     "text": [
      "451 해피 Snowy:D vlog☃️｜한남동 뼈찜 맛집｜사운즈 한남 폴로랄프로렌 쇼핑하기｜연남동 프렌치토스트 원정대!｜연말연시는 고기와 함께🥩 https://youtu.be/XdsJeGSLeZE&pp 희소HEESO 폴로 랄프로렌\n"
     ]
    },
    {
     "name": "stderr",
     "output_type": "stream",
     "text": [
      " 78%|███████▊  | 453/580 [10:28<02:17,  1.08s/it]"
     ]
    },
    {
     "name": "stdout",
     "output_type": "stream",
     "text": [
      "452 #랄프로렌 https://youtu.be/2Am-lXBcKeU 소소한일상 폴로 랄프로렌\n"
     ]
    },
    {
     "name": "stderr",
     "output_type": "stream",
     "text": [
      " 78%|███████▊  | 454/580 [10:29<02:15,  1.08s/it]"
     ]
    },
    {
     "name": "stdout",
     "output_type": "stream",
     "text": [
      "453 ( ͡•. •͡. ) ∿ ෆ 🚪#MARK #폴로랄프로렌 #NCT #NCT127 #NCTDREAM#MARKxPoloRalphLauren#PoloRalphLaurenxMARK https://youtu.be/GNeDimqphxk 해문 폴로 랄프로렌\n"
     ]
    },
    {
     "name": "stderr",
     "output_type": "stream",
     "text": [
      " 78%|███████▊  | 455/580 [10:30<02:09,  1.04s/it]"
     ]
    },
    {
     "name": "stdout",
     "output_type": "stream",
     "text": [
      "454 싱가포르 랄프로렌 MBS #안효섭 #랄프로렌 https://youtu.be/CoS9YsAXxto 폴짝_ 횹둥이 폴로 랄프로렌\n"
     ]
    },
    {
     "name": "stderr",
     "output_type": "stream",
     "text": [
      " 79%|███████▊  | 456/580 [10:31<02:06,  1.02s/it]"
     ]
    },
    {
     "name": "stdout",
     "output_type": "stream",
     "text": [
      "455 Polo Ralph Lauren Woodbury Outlets New York on 10.31.2023 / 우드버리 아울렛 2023.10.31일 https://youtu.be/zeUBg--z6x0&pp New York Blue Parasol Tour 폴로 랄프로렌\n"
     ]
    },
    {
     "name": "stderr",
     "output_type": "stream",
     "text": [
      " 79%|███████▉  | 457/580 [10:32<02:07,  1.03s/it]"
     ]
    },
    {
     "name": "stdout",
     "output_type": "stream",
     "text": [
      "456 에스파 윈터의 랄프로렌 공항룩❄ https://youtu.be/iHgagfvHAxk 패션선도부 폴로 랄프로렌\n"
     ]
    },
    {
     "name": "stderr",
     "output_type": "stream",
     "text": [
      " 79%|███████▉  | 458/580 [10:34<02:14,  1.10s/it]"
     ]
    },
    {
     "name": "stdout",
     "output_type": "stream",
     "text": [
      "457 옷입기전 기억할 패션명언 #스타일 코코샤넬 패션 랄프로렌 칼 라거펠트 https://youtu.be/lHtfGcFtFBU 나다운 스타일을 만드는_최지혜TV 폴로 랄프로렌\n"
     ]
    },
    {
     "name": "stderr",
     "output_type": "stream",
     "text": [
      " 79%|███████▉  | 459/580 [10:35<02:14,  1.11s/it]"
     ]
    },
    {
     "name": "stdout",
     "output_type": "stream",
     "text": [
      "458 Ralph Lauren Polo 67 https://youtu.be/Zivfiabn2kM&pp Andrés Perfume-Man 폴로 랄프로렌\n"
     ]
    },
    {
     "name": "stderr",
     "output_type": "stream",
     "text": [
      " 79%|███████▉  | 460/580 [10:36<02:14,  1.12s/it]"
     ]
    },
    {
     "name": "stdout",
     "output_type": "stream",
     "text": [
      "459 인도네시아 공항에서 POLO 쇼핑 #전북현대B #jeonbukhyundaib https://youtu.be/Wsr-ogUc-0c Jeonbuk Hyundai Motors 전북현대모터스 폴로 랄프로렌\n"
     ]
    },
    {
     "name": "stderr",
     "output_type": "stream",
     "text": [
      " 79%|███████▉  | 461/580 [10:37<02:15,  1.14s/it]"
     ]
    },
    {
     "name": "stdout",
     "output_type": "stream",
     "text": [
      "460 밴쿠버 브이로그｜캐나다 10년차의 워홀신청🥲, 폴로 랄프로렌 피마코튼 가디건, 재택하고 틈틈이 외식하는 일상, KawaiiCon https://youtu.be/jhKvOAiwn9A&pp 리휘 leehui 폴로 랄프로렌\n"
     ]
    },
    {
     "name": "stderr",
     "output_type": "stream",
     "text": [
      " 80%|███████▉  | 462/580 [10:38<02:14,  1.14s/it]"
     ]
    },
    {
     "name": "stdout",
     "output_type": "stream",
     "text": [
      "461 6명의 아티스와 함께한 라코스테 폴로셔츠 https://youtu.be/tD1tbFG0ZI0 First Magazine 폴로 랄프로렌\n"
     ]
    },
    {
     "name": "stderr",
     "output_type": "stream",
     "text": [
      " 80%|███████▉  | 463/580 [10:39<02:10,  1.11s/it]"
     ]
    },
    {
     "name": "stdout",
     "output_type": "stream",
     "text": [
      "462 RALPH LAUREN | Ralph Lauren Collection Fall / Holiday 2024 Runway Show https://youtu.be/rxcOWlFIBhI&pp Ralph Lauren 폴로 랄프로렌\n"
     ]
    },
    {
     "name": "stderr",
     "output_type": "stream",
     "text": [
      " 80%|████████  | 464/580 [10:40<02:09,  1.12s/it]"
     ]
    },
    {
     "name": "stdout",
     "output_type": "stream",
     "text": [
      "463 넘어질뻔한 츠키 240509 폴로 랄프 로렌 #billlie #tsuki https://youtu.be/HfsAUGWac4M Spinel CAM 폴로 랄프로렌\n"
     ]
    },
    {
     "name": "stderr",
     "output_type": "stream",
     "text": [
      " 80%|████████  | 465/580 [10:41<02:07,  1.11s/it]"
     ]
    },
    {
     "name": "stdout",
     "output_type": "stream",
     "text": [
      "464 vlog* 직장인 일상/직장인 데일리룩/폴로 랄프로렌 돌려입기/개망한 오코노미야끼/살인자의 쇼핑몰/중화요리 팔공/웡카/다신샵 쇼핑/요거트맨/직장인 출근룩/직장인 브이로그 https://youtu.be/knGM68Ggyqo&pp 하윤시 hayoonsee 폴로 랄프로렌\n"
     ]
    },
    {
     "name": "stderr",
     "output_type": "stream",
     "text": [
      " 80%|████████  | 466/580 [10:43<02:11,  1.15s/it]"
     ]
    },
    {
     "name": "stdout",
     "output_type": "stream",
     "text": [
      "465 [29CM] CHOICE : 열다섯 번째 선택, 황석희 | 당신은 취향까지 몇 CM 왔나요? https://youtu.be/0wlUD8cIQNE 29CM이십구센티미터 폴로 랄프로렌\n"
     ]
    },
    {
     "name": "stderr",
     "output_type": "stream",
     "text": [
      " 81%|████████  | 467/580 [10:44<02:09,  1.15s/it]"
     ]
    },
    {
     "name": "stdout",
     "output_type": "stream",
     "text": [
      "466 폴로 랄프로렌 볼캡 착용한 셀럽들 패션 #켄달제너 #테일러스위프트 #제니퍼로렌스 https://youtu.be/xGnVlO58LX0 작년에 뭐 입었지 폴로 랄프로렌\n"
     ]
    },
    {
     "name": "stderr",
     "output_type": "stream",
     "text": [
      " 81%|████████  | 468/580 [10:45<02:07,  1.14s/it]"
     ]
    },
    {
     "name": "stdout",
     "output_type": "stream",
     "text": [
      "467 미국 상류층 패션의 브랜드의 시작은 무엇일까? 정답은 댓글로 https://youtu.be/vy3DaD4FzCY 뉴대표 폴로 랄프로렌\n"
     ]
    },
    {
     "name": "stderr",
     "output_type": "stream",
     "text": [
      " 81%|████████  | 469/580 [10:46<02:06,  1.14s/it]"
     ]
    },
    {
     "name": "stdout",
     "output_type": "stream",
     "text": [
      "468 윈터 어떤 스타일도 찰떡 소화  랄프로렌 엠버서더 촬영현장 https://youtu.be/01-A_2VtE0U 쇼츠트코 폴로 랄프로렌\n"
     ]
    },
    {
     "name": "stderr",
     "output_type": "stream",
     "text": [
      " 81%|████████  | 470/580 [10:47<02:09,  1.18s/it]"
     ]
    },
    {
     "name": "stdout",
     "output_type": "stream",
     "text": [
      "469 올 여름 시즌은 폴로 랄프 로렌을 입은 마크, 홍경 그리고 전소니처럼! https://youtu.be/a-tMJ7MaCj8 Harper's BAZAAR Korea 폴로 랄프로렌\n"
     ]
    },
    {
     "name": "stderr",
     "output_type": "stream",
     "text": [
      " 81%|████████  | 471/580 [10:48<02:08,  1.18s/it]"
     ]
    },
    {
     "name": "stdout",
     "output_type": "stream",
     "text": [
      "470 [신혼vlog]🇨🇦밴쿠버 일상 조각조각: 새로 면접보고 합격, 폴로 랄프로렌 블프세일, 일하고 독서하고 꽁냥대는 신혼 일상 https://youtu.be/c7d-aJHyDw8&pp 룽룽부부 폴로 랄프로렌\n"
     ]
    },
    {
     "name": "stderr",
     "output_type": "stream",
     "text": [
      " 81%|████████▏ | 472/580 [10:50<02:14,  1.25s/it]"
     ]
    },
    {
     "name": "stdout",
     "output_type": "stream",
     "text": [
      "471 구마유시와 박보영 드디어 만났는데 또 만날 가능성 있다고? 쵸비의 솔직한 고백..\"페이커 플레이 보면서 많은 생각을 했다\" 롤이슈 붐바야 https://youtu.be/2C9uP_WrAMk&pp 붐바야 폴로 랄프로렌\n"
     ]
    },
    {
     "name": "stderr",
     "output_type": "stream",
     "text": [
      " 82%|████████▏ | 473/580 [10:51<02:25,  1.36s/it]"
     ]
    },
    {
     "name": "stdout",
     "output_type": "stream",
     "text": [
      "472 인위적인 x 자연스럽게 눈커지는 데일리 화장법& polo fashion #쇼츠 #makeup #short #polo #styling https://youtu.be/GHKf1ehZ0uE 주비 Jb 폴로 랄프로렌\n"
     ]
    },
    {
     "name": "stderr",
     "output_type": "stream",
     "text": [
      " 82%|████████▏ | 474/580 [10:53<02:29,  1.41s/it]"
     ]
    },
    {
     "name": "stdout",
     "output_type": "stream",
     "text": [
      "473 연말 선물 1순위 목도리 & 머플러!🎁 인기 브랜드 13개 제품 소재, 착용감 꼼꼼 리뷰✨ ( 아크네 / 폴로 / 아페쎄 / 세인트제임스 / 마리떼 ) https://youtu.be/EkJVp1gf3PI&pp 송타민 songtamin 폴로 랄프로렌\n"
     ]
    },
    {
     "name": "stderr",
     "output_type": "stream",
     "text": [
      " 82%|████████▏ | 475/580 [10:55<02:48,  1.61s/it]"
     ]
    },
    {
     "name": "stdout",
     "output_type": "stream",
     "text": [
      "474 2탄!! 가을맞이 니트, 가디건 / 폴로 우먼, 걸즈, 보이즈 입어보기 / 폴로랄프로렌 공홈 구매대행 https://youtu.be/I0Vz52mTfLM&pp 선브레드 폴로 랄프로렌\n"
     ]
    },
    {
     "name": "stderr",
     "output_type": "stream",
     "text": [
      " 82%|████████▏ | 476/580 [10:57<02:49,  1.63s/it]"
     ]
    },
    {
     "name": "stdout",
     "output_type": "stream",
     "text": [
      "475 포근하고 이쁜 니트 찾으시나요? #shorts #shopping https://youtu.be/kVq-8aNL7bc 아재트 폴로 랄프로렌\n"
     ]
    },
    {
     "name": "stderr",
     "output_type": "stream",
     "text": [
      " 82%|████████▏ | 477/580 [10:59<02:56,  1.72s/it]"
     ]
    },
    {
     "name": "stdout",
     "output_type": "stream",
     "text": [
      "476 열애 공개 많이 힘들었나? 살도 빠져보이는 #류준열 #한소희 #열애설 #랄프로렌 #포토타임 #shorts https://youtu.be/WaqX42rMUM4 티브이데일리 폴로 랄프로렌\n"
     ]
    },
    {
     "name": "stderr",
     "output_type": "stream",
     "text": [
      " 82%|████████▏ | 478/580 [11:00<02:40,  1.57s/it]"
     ]
    },
    {
     "name": "stdout",
     "output_type": "stream",
     "text": [
      "477 vlog🫧 48시간 단식, 폴로 랄프로렌, 데이트, 하울, 새벽기상, 미라클모닝, 식습관, 영어공부, 독서, 필사, 스피킹맥스 https://youtu.be/8_IjOc9QDnE&pp 시화일기 sihwa's journal 폴로 랄프로렌\n"
     ]
    },
    {
     "name": "stderr",
     "output_type": "stream",
     "text": [
      " 83%|████████▎ | 479/580 [11:02<02:39,  1.58s/it]"
     ]
    },
    {
     "name": "stdout",
     "output_type": "stream",
     "text": [
      "478 폴로 가디건 귀엽지 https://youtu.be/TwND4aAwlhY 이쁜이짤 폴로 랄프로렌\n"
     ]
    },
    {
     "name": "stderr",
     "output_type": "stream",
     "text": [
      " 83%|████████▎ | 480/580 [11:03<02:33,  1.54s/it]"
     ]
    },
    {
     "name": "stdout",
     "output_type": "stream",
     "text": [
      "479 아이앱스튜디오, 칼하트, 폴로 후드집업 사이즈팁 및 후기 리뷰 https://youtu.be/Det6IuN6dp0&pp 형캉 폴로 랄프로렌\n"
     ]
    },
    {
     "name": "stderr",
     "output_type": "stream",
     "text": [
      " 83%|████████▎ | 481/580 [11:05<02:36,  1.58s/it]"
     ]
    },
    {
     "name": "stdout",
     "output_type": "stream",
     "text": [
      "480 지금, 이 순간 영원히 기록될 T1의 여름 T1 X POLO RALPH LAUREN (티원, FAKER, ZEUS, ONER, GUMAYUSI, KERIA,폴로 랄프 로렌) https://youtu.be/xbTIUETEhUM&pp GQ KOREA 폴로 랄프로렌\n"
     ]
    },
    {
     "name": "stderr",
     "output_type": "stream",
     "text": [
      " 83%|████████▎ | 482/580 [11:06<02:41,  1.64s/it]"
     ]
    },
    {
     "name": "stdout",
     "output_type": "stream",
     "text": [
      "481 Unique & Best Polo Fishing Video (Part-46) #shorts #fishing_shorts #polo https://youtu.be/0CazxM03tzo Unbelievable Fishing 폴로 랄프로렌\n"
     ]
    },
    {
     "name": "stderr",
     "output_type": "stream",
     "text": [
      " 83%|████████▎ | 483/580 [11:08<02:32,  1.57s/it]"
     ]
    },
    {
     "name": "stdout",
     "output_type": "stream",
     "text": [
      "482 vlog* 직장인 브이로그/인스타로 번따?당한?썰?/다이어트 밟으실 수수수수퍼노바/먹기만 하는 브이로그/부추무침/랩노쉬단백쿠키/마르디 메크르디/폴로 랄프로렌/직장인 데일리룩 https://youtu.be/EyTnAv-pfRQ&pp 하윤시 hayoonsee 폴로 랄프로렌\n"
     ]
    },
    {
     "name": "stderr",
     "output_type": "stream",
     "text": [
      " 83%|████████▎ | 484/580 [11:10<02:38,  1.65s/it]"
     ]
    },
    {
     "name": "stdout",
     "output_type": "stream",
     "text": [
      "483 Best Boat Fishing Video By Polo #shorts #boatfishing #shortvideo #fish https://youtu.be/Le5A8xXk-5o Unbelievable Fishing 폴로 랄프로렌\n"
     ]
    },
    {
     "name": "stderr",
     "output_type": "stream",
     "text": [
      " 84%|████████▎ | 485/580 [11:11<02:41,  1.70s/it]"
     ]
    },
    {
     "name": "stdout",
     "output_type": "stream",
     "text": [
      "484 Best Boat Fishing Video By Polo #shorts #boatfishing #shortvideo #fish https://youtu.be/2zZ4WqLLw0s Unbelievable Fishing 폴로 랄프로렌\n"
     ]
    },
    {
     "name": "stderr",
     "output_type": "stream",
     "text": [
      " 84%|████████▍ | 486/580 [11:13<02:36,  1.67s/it]"
     ]
    },
    {
     "name": "stdout",
     "output_type": "stream",
     "text": [
      "485 Top Fragrances For Couples! Be the BEST smelling couple with these fragrances 👌 https://youtu.be/s6GhsG4H2PE Rotten Rebel 폴로 랄프로렌\n"
     ]
    },
    {
     "name": "stderr",
     "output_type": "stream",
     "text": [
      " 84%|████████▍ | 487/580 [11:15<02:30,  1.62s/it]"
     ]
    },
    {
     "name": "stdout",
     "output_type": "stream",
     "text": [
      "486 😱 Unique Boys Catch Fish With Bamboo Tools Polo(Part-94) #shorts #polo_fishing #shortvideo #fish https://youtu.be/QEoYHfCy_wU Unbelievable Fishing 폴로 랄프로렌\n"
     ]
    },
    {
     "name": "stderr",
     "output_type": "stream",
     "text": [
      " 84%|████████▍ | 488/580 [11:16<02:32,  1.66s/it]"
     ]
    },
    {
     "name": "stdout",
     "output_type": "stream",
     "text": [
      "487 😱 Unique Boys Catch Fish With Bamboo Tools Polo(Part-179) #shorts #polo_fishing #shortvideo #fish https://youtu.be/xbliqmxHayQ Unbelievable Fishing 폴로 랄프로렌\n"
     ]
    },
    {
     "name": "stderr",
     "output_type": "stream",
     "text": [
      " 84%|████████▍ | 489/580 [11:18<02:26,  1.61s/it]"
     ]
    },
    {
     "name": "stdout",
     "output_type": "stream",
     "text": [
      "488 [ENG] T1 카페에 갔습니다. 카페가 열린건 아니고 카페에서 T1 생각했습니다. 사실 커피도 안마셨습니다. 그냥 T1 상태입니다. (페이커, 제우스, 오너, 구마유시, 케리아) https://youtu.be/8KBJZZAMf0c&pp GQ KOREA 폴로 랄프로렌\n"
     ]
    },
    {
     "name": "stderr",
     "output_type": "stream",
     "text": [
      " 84%|████████▍ | 490/580 [11:20<02:38,  1.77s/it]"
     ]
    },
    {
     "name": "stdout",
     "output_type": "stream",
     "text": [
      "489 Unique & Best Polo Fishing Video (Part-28) #unbelivable_fishing #shorts #polo https://youtu.be/8sF5Ck3dOrQ Unbelievable Fishing 폴로 랄프로렌\n"
     ]
    },
    {
     "name": "stderr",
     "output_type": "stream",
     "text": [
      " 85%|████████▍ | 491/580 [11:23<03:02,  2.06s/it]"
     ]
    },
    {
     "name": "stdout",
     "output_type": "stream",
     "text": [
      "490 😱 Unique Boys Catch Fish With Bamboo Tools Polo(Part-66) #shorts #polo_fishing #shortvideo #fish https://youtu.be/gq15ILJwokk Unbelievable Fishing 폴로 랄프로렌\n"
     ]
    },
    {
     "name": "stderr",
     "output_type": "stream",
     "text": [
      " 85%|████████▍ | 492/580 [11:24<02:52,  1.96s/it]"
     ]
    },
    {
     "name": "stdout",
     "output_type": "stream",
     "text": [
      "491 😱 Unique Boys Catch Fish With Bamboo Tools Polo(Part-27) #shorts #polo_fishing #shortvideo #fish https://youtu.be/_F5JUNTOouU Unbelievable Fishing 폴로 랄프로렌\n"
     ]
    },
    {
     "name": "stderr",
     "output_type": "stream",
     "text": [
      " 85%|████████▌ | 493/580 [11:26<02:35,  1.79s/it]"
     ]
    },
    {
     "name": "stdout",
     "output_type": "stream",
     "text": [
      "492 😱 Unique Boys Catch Fish With Bamboo Tools Polo(Part-85) #shorts #polo_fishing #shortvideo #fish https://youtu.be/hd9GCEs2PNk Unbelievable Fishing 폴로 랄프로렌\n"
     ]
    },
    {
     "name": "stderr",
     "output_type": "stream",
     "text": [
      " 85%|████████▌ | 494/580 [11:27<02:30,  1.75s/it]"
     ]
    },
    {
     "name": "stdout",
     "output_type": "stream",
     "text": [
      "493 😱 Unique Boys Catch Fish With Bamboo Tools Polo(Part-90) #shorts #polo_fishing #shortvideo #fish https://youtu.be/6c7BQ93cU1E Unbelievable Fishing 폴로 랄프로렌\n"
     ]
    },
    {
     "name": "stderr",
     "output_type": "stream",
     "text": [
      " 85%|████████▌ | 495/580 [11:29<02:27,  1.74s/it]"
     ]
    },
    {
     "name": "stdout",
     "output_type": "stream",
     "text": [
      "494 😱 Unique Boys Catch Fish With Bamboo Tools Polo(Part-92) #shorts #polo_fishing #shortvideo #fish https://youtu.be/dn0-mPz2du0 Unbelievable Fishing 폴로 랄프로렌\n"
     ]
    },
    {
     "name": "stderr",
     "output_type": "stream",
     "text": [
      " 86%|████████▌ | 496/580 [11:31<02:19,  1.66s/it]"
     ]
    },
    {
     "name": "stdout",
     "output_type": "stream",
     "text": [
      "495 😱 Unique Boys Catch Fish With Bamboo Tools Polo(Part-78) #shorts #polo_fishing #shortvideo #fish https://youtu.be/Tis3BMBjzms Unbelievable Fishing 폴로 랄프로렌\n"
     ]
    },
    {
     "name": "stderr",
     "output_type": "stream",
     "text": [
      " 86%|████████▌ | 497/580 [11:32<02:18,  1.66s/it]"
     ]
    },
    {
     "name": "stdout",
     "output_type": "stream",
     "text": [
      "496 😲Best Boat Fishing Video By Polo #shorts #shortsfeed #shortvideo #fish https://youtu.be/Ny_2PVeCBTU Unbelievable Fishing 폴로 랄프로렌\n"
     ]
    },
    {
     "name": "stderr",
     "output_type": "stream",
     "text": [
      " 86%|████████▌ | 498/580 [11:34<02:12,  1.61s/it]"
     ]
    },
    {
     "name": "stdout",
     "output_type": "stream",
     "text": [
      "497 😲Best Boat Fishing Video By Polo #shorts #boatfishing #shortvideo #polo_fishing #fish https://youtu.be/nbakNi-MXJo Unbelievable Fishing 폴로 랄프로렌\n"
     ]
    },
    {
     "name": "stderr",
     "output_type": "stream",
     "text": [
      " 86%|████████▌ | 499/580 [11:36<02:16,  1.68s/it]"
     ]
    },
    {
     "name": "stdout",
     "output_type": "stream",
     "text": [
      "498 🌻 Best Boat Fishing Video By Polo #shorts #boatfishing #shortvideo #fish https://youtu.be/-bbcajG-1YU Unbelievable Fishing 폴로 랄프로렌\n"
     ]
    },
    {
     "name": "stderr",
     "output_type": "stream",
     "text": [
      " 86%|████████▌ | 500/580 [11:37<02:12,  1.66s/it]"
     ]
    },
    {
     "name": "stdout",
     "output_type": "stream",
     "text": [
      "499 😲Best Boat Fishing Video By Polo #shorts #boatfishing #shortvideo #fish https://youtu.be/ovDx6w5wlRU Unbelievable Fishing 폴로 랄프로렌\n"
     ]
    },
    {
     "name": "stderr",
     "output_type": "stream",
     "text": [
      " 86%|████████▋ | 501/580 [11:39<02:06,  1.60s/it]"
     ]
    },
    {
     "name": "stdout",
     "output_type": "stream",
     "text": [
      "500 🌻 Best Boat Fishing Video By Polo #shorts #boatfishing #shortvideo #fish https://youtu.be/2C9xZoFSP5U Unbelievable Fishing 폴로 랄프로렌\n"
     ]
    },
    {
     "name": "stderr",
     "output_type": "stream",
     "text": [
      " 87%|████████▋ | 502/580 [11:40<01:59,  1.53s/it]"
     ]
    },
    {
     "name": "stdout",
     "output_type": "stream",
     "text": [
      "501 😱 Unique Boys Catch Fish With Bamboo Tools Polo(Part-55) #shorts #polo_fishing #shortvideo #fish https://youtu.be/Sc_mPbScv88 Unbelievable Fishing 폴로 랄프로렌\n"
     ]
    },
    {
     "name": "stderr",
     "output_type": "stream",
     "text": [
      " 87%|████████▋ | 503/580 [11:42<01:56,  1.51s/it]"
     ]
    },
    {
     "name": "stdout",
     "output_type": "stream",
     "text": [
      "502 😱 Unique Boys Catch Fish With Bamboo Tools Polo(Part-40) #shorts #polo_fishing #shortvideo #fish https://youtu.be/wjiHV_0Vlpo Unbelievable Fishing 폴로 랄프로렌\n"
     ]
    },
    {
     "name": "stderr",
     "output_type": "stream",
     "text": [
      " 87%|████████▋ | 504/580 [11:43<01:51,  1.47s/it]"
     ]
    },
    {
     "name": "stdout",
     "output_type": "stream",
     "text": [
      "503 😲Best Boat Fishing Video By Polo #shorts #boatfishing #shortvideo #polo_fishing #fish https://youtu.be/SjhZs0IpLAM Unbelievable Fishing 폴로 랄프로렌\n"
     ]
    },
    {
     "name": "stderr",
     "output_type": "stream",
     "text": [
      " 87%|████████▋ | 505/580 [11:44<01:46,  1.42s/it]"
     ]
    },
    {
     "name": "stdout",
     "output_type": "stream",
     "text": [
      "504 😲Best Boat Fishing Video By Polo #shorts #boatfishing #shortvideo #polo_fishing #fish https://youtu.be/oDuThKp9Dbw Unbelievable Fishing 폴로 랄프로렌\n"
     ]
    },
    {
     "name": "stderr",
     "output_type": "stream",
     "text": [
      " 87%|████████▋ | 506/580 [11:46<01:47,  1.45s/it]"
     ]
    },
    {
     "name": "stdout",
     "output_type": "stream",
     "text": [
      "505 😲Best Boat Fishing Video By Polo #shorts #boatfishing #shortvideo #polo_fishing #fish https://youtu.be/QRdjZWL9PEI Unbelievable Fishing 폴로 랄프로렌\n"
     ]
    },
    {
     "name": "stderr",
     "output_type": "stream",
     "text": [
      " 87%|████████▋ | 507/580 [11:47<01:42,  1.41s/it]"
     ]
    },
    {
     "name": "stdout",
     "output_type": "stream",
     "text": [
      "506 😱 Unique Boys Catch Fish With Bamboo Tools Polo(Part-201) #shorts #polo_fishing #shortvideo #fish https://youtu.be/dqK-6pG5X3w Unbelievable Fishing 폴로 랄프로렌\n"
     ]
    },
    {
     "name": "stderr",
     "output_type": "stream",
     "text": [
      " 88%|████████▊ | 508/580 [11:48<01:39,  1.38s/it]"
     ]
    },
    {
     "name": "stdout",
     "output_type": "stream",
     "text": [
      "507 😲Best Boat Fishing Video By Polo #shorts #boatfishing #shortvideo #polo_fishing #fish https://youtu.be/aD4lsQf5zm0 Unbelievable Fishing 폴로 랄프로렌\n"
     ]
    },
    {
     "name": "stderr",
     "output_type": "stream",
     "text": [
      " 88%|████████▊ | 509/580 [11:50<01:38,  1.39s/it]"
     ]
    },
    {
     "name": "stdout",
     "output_type": "stream",
     "text": [
      "508 😲Best Boat Fishing Video By Polo #shorts #boatfishing #shortvideo #polo_fishing #fish https://youtu.be/HZipUHxzQV8 Unbelievable Fishing 폴로 랄프로렌\n"
     ]
    },
    {
     "name": "stderr",
     "output_type": "stream",
     "text": [
      " 88%|████████▊ | 510/580 [11:51<01:37,  1.39s/it]"
     ]
    },
    {
     "name": "stdout",
     "output_type": "stream",
     "text": [
      "509 😲Best Boat Fishing Video By Polo #shorts #boatfishing #shortvideo #polo_fishing #fish https://youtu.be/zROiQCe3v-o Unbelievable Fishing 폴로 랄프로렌\n"
     ]
    },
    {
     "name": "stderr",
     "output_type": "stream",
     "text": [
      " 88%|████████▊ | 511/580 [11:52<01:33,  1.36s/it]"
     ]
    },
    {
     "name": "stdout",
     "output_type": "stream",
     "text": [
      "510 Unique & Best Polo Fishing Video (Part-72) #shorts #fishing_shorts #polo https://youtu.be/J-clfT5fXJQ Unbelievable Fishing 폴로 랄프로렌\n"
     ]
    },
    {
     "name": "stderr",
     "output_type": "stream",
     "text": [
      " 88%|████████▊ | 512/580 [11:54<01:37,  1.43s/it]"
     ]
    },
    {
     "name": "stdout",
     "output_type": "stream",
     "text": [
      "511 😱 Unique Boys Catch Fish With Bamboo Tools Polo(Part-223) #shorts #polo_fishing #shortvideo #fish https://youtu.be/mb8RdQnE1JA Unbelievable Fishing 폴로 랄프로렌\n"
     ]
    },
    {
     "name": "stderr",
     "output_type": "stream",
     "text": [
      " 88%|████████▊ | 513/580 [11:55<01:28,  1.32s/it]"
     ]
    },
    {
     "name": "stdout",
     "output_type": "stream",
     "text": [
      "512 Best Boat Fishing Video By Polo #shorts #boatfishing #shortvideo #fish https://youtu.be/oqeQ1EAYLDc Unbelievable Fishing 폴로 랄프로렌\n"
     ]
    },
    {
     "name": "stderr",
     "output_type": "stream",
     "text": [
      " 89%|████████▊ | 514/580 [11:56<01:21,  1.24s/it]"
     ]
    },
    {
     "name": "stdout",
     "output_type": "stream",
     "text": [
      "513 😱 Unique Boys Catch Fish With Bamboo Tools Polo(Part-164) #shorts #polo_fishing #shortvideo #fish https://youtu.be/Z5m0krmuLKI Unbelievable Fishing 폴로 랄프로렌\n"
     ]
    },
    {
     "name": "stderr",
     "output_type": "stream",
     "text": [
      " 89%|████████▉ | 515/580 [11:57<01:20,  1.24s/it]"
     ]
    },
    {
     "name": "stdout",
     "output_type": "stream",
     "text": [
      "514 😱 Unique Boys Catch Fish With Bamboo Tools Polo(Part-123) #shorts #polo_fishing #shortsvideo #fish https://youtu.be/R0ClbkZpA4g Unbelievable Fishing 폴로 랄프로렌\n"
     ]
    },
    {
     "name": "stderr",
     "output_type": "stream",
     "text": [
      " 89%|████████▉ | 516/580 [11:58<01:15,  1.17s/it]"
     ]
    },
    {
     "name": "stdout",
     "output_type": "stream",
     "text": [
      "515 Unique & Best Polo Fishing Video (Part-65) #shorts #fishing_shorts #polo #shortsfeed https://youtu.be/0BfopBj-ji8 Unbelievable Fishing 폴로 랄프로렌\n"
     ]
    },
    {
     "name": "stderr",
     "output_type": "stream",
     "text": [
      " 89%|████████▉ | 517/580 [12:00<01:13,  1.17s/it]"
     ]
    },
    {
     "name": "stdout",
     "output_type": "stream",
     "text": [
      "516 Amazing Teta Fishing Video (Part-11) #shorts #shortvideo #shortsfeed #fish https://youtu.be/THXSor1rpK4 Unbelievable Fishing 폴로 랄프로렌\n"
     ]
    },
    {
     "name": "stderr",
     "output_type": "stream",
     "text": [
      " 89%|████████▉ | 518/580 [12:01<01:13,  1.18s/it]"
     ]
    },
    {
     "name": "stdout",
     "output_type": "stream",
     "text": [
      "517 Best Boat Fishing Video By Polo #shorts #boatfishing #shortvideo #fish https://youtu.be/jZ661bOmVzM Unbelievable Fishing 폴로 랄프로렌\n"
     ]
    },
    {
     "name": "stderr",
     "output_type": "stream",
     "text": [
      " 89%|████████▉ | 519/580 [12:02<01:10,  1.16s/it]"
     ]
    },
    {
     "name": "stdout",
     "output_type": "stream",
     "text": [
      "518 Unique & Best Polo Fishing Video (Part-43) #shorts #fishing https://youtu.be/1aEvDjB3hic Unbelievable Fishing 폴로 랄프로렌\n"
     ]
    },
    {
     "name": "stderr",
     "output_type": "stream",
     "text": [
      " 90%|████████▉ | 520/580 [12:03<01:07,  1.13s/it]"
     ]
    },
    {
     "name": "stdout",
     "output_type": "stream",
     "text": [
      "519 Best Polo Fishing Method #shorts #polo #shortsfeed https://youtu.be/adWEyhSabpY Unbelievable Fishing 폴로 랄프로렌\n"
     ]
    },
    {
     "name": "stderr",
     "output_type": "stream",
     "text": [
      " 90%|████████▉ | 521/580 [12:04<01:08,  1.15s/it]"
     ]
    },
    {
     "name": "stdout",
     "output_type": "stream",
     "text": [
      "520 Best Boat Fishing Video By Polo #shorts #boatfishing #shortvideo #fish https://youtu.be/x3_Bp3pMLAM Unbelievable Fishing 폴로 랄프로렌\n"
     ]
    },
    {
     "name": "stderr",
     "output_type": "stream",
     "text": [
      " 90%|█████████ | 522/580 [12:05<01:06,  1.15s/it]"
     ]
    },
    {
     "name": "stdout",
     "output_type": "stream",
     "text": [
      "521 폴로 랄프로렌을 수집한다면? https://youtu.be/AOGoEiVcJT0 수박 겉핥기 폴로 랄프로렌\n"
     ]
    },
    {
     "name": "stderr",
     "output_type": "stream",
     "text": [
      " 90%|█████████ | 523/580 [12:06<01:03,  1.11s/it]"
     ]
    },
    {
     "name": "stdout",
     "output_type": "stream",
     "text": [
      "522 Unique & Best Polo Fishing Video (Part-38) #unbelivable_fishing #shorts #polo https://youtu.be/8Kb_S__gtrE Unbelievable Fishing 폴로 랄프로렌\n"
     ]
    },
    {
     "name": "stderr",
     "output_type": "stream",
     "text": [
      " 90%|█████████ | 524/580 [12:07<01:01,  1.10s/it]"
     ]
    },
    {
     "name": "stdout",
     "output_type": "stream",
     "text": [
      "523 Unique & Best Polo Fishing Video (Part-26) #unbelivable_fishing #shorts #polo https://youtu.be/cCx-ycXHe-0 Unbelievable Fishing 폴로 랄프로렌\n"
     ]
    },
    {
     "name": "stderr",
     "output_type": "stream",
     "text": [
      " 91%|█████████ | 525/580 [12:09<01:04,  1.17s/it]"
     ]
    },
    {
     "name": "stdout",
     "output_type": "stream",
     "text": [
      "524 Unique & Best Polo Fishing Video (Part-32) #unbelivable_fishing #shorts #polo https://youtu.be/yqL27cEqKXE Unbelievable Fishing 폴로 랄프로렌\n"
     ]
    },
    {
     "name": "stderr",
     "output_type": "stream",
     "text": [
      " 91%|█████████ | 526/580 [12:10<01:04,  1.19s/it]"
     ]
    },
    {
     "name": "stdout",
     "output_type": "stream",
     "text": [
      "525 Unique & Best Polo Fishing Video (Part-29) #unbelivable_fishing #shorts #polo https://youtu.be/dehafFfB9Ow Unbelievable Fishing 폴로 랄프로렌\n"
     ]
    },
    {
     "name": "stderr",
     "output_type": "stream",
     "text": [
      " 91%|█████████ | 527/580 [12:11<01:03,  1.20s/it]"
     ]
    },
    {
     "name": "stdout",
     "output_type": "stream",
     "text": [
      "526 Unique & Best Polo Fishing Video (Part-44) #shorts #fishing https://youtu.be/VlDxl4QBxeE Unbelievable Fishing 폴로 랄프로렌\n"
     ]
    },
    {
     "name": "stderr",
     "output_type": "stream",
     "text": [
      " 91%|█████████ | 528/580 [12:12<01:03,  1.21s/it]"
     ]
    },
    {
     "name": "stdout",
     "output_type": "stream",
     "text": [
      "527 😲Best Boat Fishing Video By Polo #shorts #boatfishing #shortvideo #fish https://youtu.be/CJ1zQfAKpRA Unbelievable Fishing 폴로 랄프로렌\n"
     ]
    },
    {
     "name": "stderr",
     "output_type": "stream",
     "text": [
      " 91%|█████████ | 529/580 [12:14<01:00,  1.19s/it]"
     ]
    },
    {
     "name": "stdout",
     "output_type": "stream",
     "text": [
      "528 😲Best Boat Fishing Video By Polo #shorts #boatfishing #shortvideo #polo_fishing #fish https://youtu.be/JUJLpE7udfQ Unbelievable Fishing 폴로 랄프로렌\n"
     ]
    },
    {
     "name": "stderr",
     "output_type": "stream",
     "text": [
      " 91%|█████████▏| 530/580 [12:15<01:03,  1.27s/it]"
     ]
    },
    {
     "name": "stdout",
     "output_type": "stream",
     "text": [
      "529 😲Best Boat Fishing Video By Polo #shorts #boatfishing #shortvideo #fish https://youtu.be/38Bx9WO-cO0 Unbelievable Fishing 폴로 랄프로렌\n"
     ]
    },
    {
     "name": "stderr",
     "output_type": "stream",
     "text": [
      " 92%|█████████▏| 531/580 [12:16<01:00,  1.23s/it]"
     ]
    },
    {
     "name": "stdout",
     "output_type": "stream",
     "text": [
      "530 Unique & Best Polo Fishing Video (Part-55) #shorts #fishing_shorts #polo #shortsfeed https://youtu.be/VH7x1fG8rGI Unbelievable Fishing 폴로 랄프로렌\n"
     ]
    },
    {
     "name": "stderr",
     "output_type": "stream",
     "text": [
      " 92%|█████████▏| 532/580 [12:17<00:56,  1.18s/it]"
     ]
    },
    {
     "name": "stdout",
     "output_type": "stream",
     "text": [
      "531 Unique & Best Polo Fishing Video (Part-58) #shorts #fishing_shorts #polo shortsfeed https://youtu.be/sxY5r-v477o Unbelievable Fishing 폴로 랄프로렌\n"
     ]
    },
    {
     "name": "stderr",
     "output_type": "stream",
     "text": [
      " 92%|█████████▏| 533/580 [12:19<00:56,  1.21s/it]"
     ]
    },
    {
     "name": "stdout",
     "output_type": "stream",
     "text": [
      "532 Unique & Best Polo Fishing Video (Part-60) #shorts#fishing_shorts #polo#shortsfeed#popular_fishing https://youtu.be/AgaNJruVhbw Unbelievable Fishing 폴로 랄프로렌\n"
     ]
    },
    {
     "name": "stderr",
     "output_type": "stream",
     "text": [
      " 92%|█████████▏| 534/580 [12:20<01:03,  1.37s/it]"
     ]
    },
    {
     "name": "stdout",
     "output_type": "stream",
     "text": [
      "533 Unique & Best Polo Fishing Video (Part-59) #shorts#fishing_shorts #polo#shortsfeed#popular_fishing https://youtu.be/YfIuD09OY20 Unbelievable Fishing 폴로 랄프로렌\n"
     ]
    },
    {
     "name": "stderr",
     "output_type": "stream",
     "text": [
      " 92%|█████████▏| 535/580 [12:22<01:10,  1.56s/it]"
     ]
    },
    {
     "name": "stdout",
     "output_type": "stream",
     "text": [
      "534 😱 Unique Boys Catch Fish With Bamboo Tools Polo(Part-33) #shorts #polo_fishing #shortvideo #fish https://youtu.be/eFwc9JUrHig Unbelievable Fishing 폴로 랄프로렌\n"
     ]
    },
    {
     "name": "stderr",
     "output_type": "stream",
     "text": [
      " 92%|█████████▏| 536/580 [12:23<01:03,  1.43s/it]"
     ]
    },
    {
     "name": "stdout",
     "output_type": "stream",
     "text": [
      "535 😱 Unique Boys Catch Fish With Bamboo Tools Polo(Part-61) #shorts #polo_fishing #shortvideo #fish https://youtu.be/Mbs5ZhmK2XI Unbelievable Fishing 폴로 랄프로렌\n"
     ]
    },
    {
     "name": "stderr",
     "output_type": "stream",
     "text": [
      " 93%|█████████▎| 537/580 [12:25<00:58,  1.37s/it]"
     ]
    },
    {
     "name": "stdout",
     "output_type": "stream",
     "text": [
      "536 Unique & Best Polo Fishing Video (Part-69) #shorts #fishing_shorts #polo https://youtu.be/_pyBmvMmEXo Unbelievable Fishing 폴로 랄프로렌\n"
     ]
    },
    {
     "name": "stderr",
     "output_type": "stream",
     "text": [
      " 93%|█████████▎| 538/580 [12:26<00:55,  1.32s/it]"
     ]
    },
    {
     "name": "stdout",
     "output_type": "stream",
     "text": [
      "537 🌻 Best Boat Fishing Video By Polo #shorts #boatfishing #shortvideo #fish https://youtu.be/8NYgJ-mEGL8 Unbelievable Fishing 폴로 랄프로렌\n"
     ]
    },
    {
     "name": "stderr",
     "output_type": "stream",
     "text": [
      " 93%|█████████▎| 539/580 [12:27<00:53,  1.30s/it]"
     ]
    },
    {
     "name": "stdout",
     "output_type": "stream",
     "text": [
      "538 Best Boat Fishing Video By Polo #shorts #boatfishing #shortvideo #fish https://youtu.be/jxAGS5ZXwyY Unbelievable Fishing 폴로 랄프로렌\n"
     ]
    },
    {
     "name": "stderr",
     "output_type": "stream",
     "text": [
      " 93%|█████████▎| 540/580 [12:28<00:51,  1.29s/it]"
     ]
    },
    {
     "name": "stdout",
     "output_type": "stream",
     "text": [
      "539 😲Best Boat Fishing Video By Polo #shorts #boatfishing #shortvideo #fish https://youtu.be/-T2_CjSgFXU Unbelievable Fishing 폴로 랄프로렌\n"
     ]
    },
    {
     "name": "stderr",
     "output_type": "stream",
     "text": [
      " 93%|█████████▎| 541/580 [12:30<00:51,  1.32s/it]"
     ]
    },
    {
     "name": "stdout",
     "output_type": "stream",
     "text": [
      "540 Best Boat Fishing Video By Polo #shorts #boatfishing #shortvideo #fish https://youtu.be/BpB4tVM30Fw Unbelievable Fishing 폴로 랄프로렌\n"
     ]
    },
    {
     "name": "stderr",
     "output_type": "stream",
     "text": [
      " 93%|█████████▎| 542/580 [12:31<00:49,  1.31s/it]"
     ]
    },
    {
     "name": "stdout",
     "output_type": "stream",
     "text": [
      "541 Unique & Best Polo Fishing Video (Part-49) #shorts #fishing_shorts #polo https://youtu.be/FatBghmZYME Unbelievable Fishing 폴로 랄프로렌\n"
     ]
    },
    {
     "name": "stderr",
     "output_type": "stream",
     "text": [
      " 94%|█████████▎| 543/580 [12:32<00:48,  1.30s/it]"
     ]
    },
    {
     "name": "stdout",
     "output_type": "stream",
     "text": [
      "542 😱 Unique Boys Catch Fish With Bamboo Tools Polo(Part-6) #shorts #polo_fishing #shortvideo #fish https://youtu.be/hLA0gh9u-cc Unbelievable Fishing 폴로 랄프로렌\n"
     ]
    },
    {
     "name": "stderr",
     "output_type": "stream",
     "text": [
      " 94%|█████████▍| 544/580 [12:34<00:47,  1.33s/it]"
     ]
    },
    {
     "name": "stdout",
     "output_type": "stream",
     "text": [
      "543 😱 Unique Boys Catch Fish With Bamboo Tools Polo(Part-72) #shorts #polo_fishing #shortvideo #fish https://youtu.be/iwyct7ZlhpM Unbelievable Fishing 폴로 랄프로렌\n"
     ]
    },
    {
     "name": "stderr",
     "output_type": "stream",
     "text": [
      " 94%|█████████▍| 545/580 [12:35<00:49,  1.42s/it]"
     ]
    },
    {
     "name": "stdout",
     "output_type": "stream",
     "text": [
      "544 😲Best Boat Fishing Video By Polo #shorts #boatfishing #shortvideo #polo_fishing #fish https://youtu.be/I_s_KS1JWaI Unbelievable Fishing 폴로 랄프로렌\n"
     ]
    },
    {
     "name": "stderr",
     "output_type": "stream",
     "text": [
      " 94%|█████████▍| 546/580 [12:37<00:50,  1.49s/it]"
     ]
    },
    {
     "name": "stdout",
     "output_type": "stream",
     "text": [
      "545 😱 Unique Boys Catch Fish With Bamboo Tools Polo(Part-205) #shorts #polo_fishing #shortvideo #fish https://youtu.be/2piBpWi32tM Unbelievable Fishing 폴로 랄프로렌\n"
     ]
    },
    {
     "name": "stderr",
     "output_type": "stream",
     "text": [
      " 94%|█████████▍| 547/580 [12:38<00:48,  1.48s/it]"
     ]
    },
    {
     "name": "stdout",
     "output_type": "stream",
     "text": [
      "546 😱 Unique Boys Catch Fish With Bamboo Tools Polo(Part-153) #shorts #polo_fishing #shortvideo #fish https://youtu.be/sX8N5-pQwaA Unbelievable Fishing 폴로 랄프로렌\n"
     ]
    },
    {
     "name": "stderr",
     "output_type": "stream",
     "text": [
      " 94%|█████████▍| 548/580 [12:40<00:46,  1.44s/it]"
     ]
    },
    {
     "name": "stdout",
     "output_type": "stream",
     "text": [
      "547 Best Boat Fishing Video By Polo #shorts #boatfishing #shortvideo #fish https://youtu.be/-9nyjls_wn0 Unbelievable Fishing 폴로 랄프로렌\n"
     ]
    },
    {
     "name": "stderr",
     "output_type": "stream",
     "text": [
      " 95%|█████████▍| 549/580 [12:41<00:45,  1.47s/it]"
     ]
    },
    {
     "name": "stdout",
     "output_type": "stream",
     "text": [
      "548 Unique & Best Polo Fishing Video (Part-101) #shorts #polo #fishing_shorts https://youtu.be/oRMB4nkvDPM Unbelievable Fishing 폴로 랄프로렌\n"
     ]
    },
    {
     "name": "stderr",
     "output_type": "stream",
     "text": [
      " 95%|█████████▍| 550/580 [12:43<00:44,  1.48s/it]"
     ]
    },
    {
     "name": "stdout",
     "output_type": "stream",
     "text": [
      "549 😱 Unique Boys Catch Fish With Bamboo Tools Polo(Part-95) #shorts #polo_fishing #shortvideo #fish https://youtu.be/epBagEosGr4 Unbelievable Fishing 폴로 랄프로렌\n"
     ]
    },
    {
     "name": "stderr",
     "output_type": "stream",
     "text": [
      " 95%|█████████▌| 551/580 [12:45<00:44,  1.52s/it]"
     ]
    },
    {
     "name": "stdout",
     "output_type": "stream",
     "text": [
      "550 Unique & Best Polo Fishing Video (Part-92) #shorts #fishing_shorts #polo https://youtu.be/MUdmJKCTy0I Unbelievable Fishing 폴로 랄프로렌\n"
     ]
    },
    {
     "name": "stderr",
     "output_type": "stream",
     "text": [
      " 95%|█████████▌| 552/580 [12:46<00:43,  1.54s/it]"
     ]
    },
    {
     "name": "stdout",
     "output_type": "stream",
     "text": [
      "551 Unique & Best Polo Fishing Video (Part-81) #shorts #fishing_shorts #polo https://youtu.be/DZxcCaM5lyg Unbelievable Fishing 폴로 랄프로렌\n"
     ]
    },
    {
     "name": "stderr",
     "output_type": "stream",
     "text": [
      " 95%|█████████▌| 553/580 [12:48<00:41,  1.55s/it]"
     ]
    },
    {
     "name": "stdout",
     "output_type": "stream",
     "text": [
      "552 💗에스파(AESPA) - 윈터 인스타 사복 패션정보 💗 #aespa #polo #폴로랄프로렌 #에스파 #에스파윈터 #윈터 #패션 #패션트렌드 #fashion https://youtu.be/OV85R1DvvNM stylefashion_report 폴로 랄프로렌\n"
     ]
    },
    {
     "name": "stderr",
     "output_type": "stream",
     "text": [
      " 96%|█████████▌| 554/580 [12:49<00:41,  1.61s/it]"
     ]
    },
    {
     "name": "stdout",
     "output_type": "stream",
     "text": [
      "553 😱 Unique Boys Catch Fish With Bamboo Tools Polo(Part-87) #shorts #polo_fishing #shortvideo #fish https://youtu.be/AAil5GHaNbw Unbelievable Fishing 폴로 랄프로렌\n"
     ]
    },
    {
     "name": "stderr",
     "output_type": "stream",
     "text": [
      " 96%|█████████▌| 555/580 [12:51<00:43,  1.73s/it]"
     ]
    },
    {
     "name": "stdout",
     "output_type": "stream",
     "text": [
      "554 😱 Unique Boys Catch Fish With Bamboo Tools Polo(Part-231) #shorts #polo_fishing #shortvideo #fish https://youtu.be/jvYWniQ3pCU Unbelievable Fishing 폴로 랄프로렌\n"
     ]
    },
    {
     "name": "stderr",
     "output_type": "stream",
     "text": [
      " 96%|█████████▌| 556/580 [12:53<00:42,  1.79s/it]"
     ]
    },
    {
     "name": "stdout",
     "output_type": "stream",
     "text": [
      "555 😱 Unique Boys Catch Fish With Bamboo Tools Polo(Part-37) #shorts #polo_fishing #shortvideo #fish https://youtu.be/Giw-4PeA22I Unbelievable Fishing 폴로 랄프로렌\n"
     ]
    },
    {
     "name": "stderr",
     "output_type": "stream",
     "text": [
      " 96%|█████████▌| 557/580 [12:55<00:41,  1.79s/it]"
     ]
    },
    {
     "name": "stdout",
     "output_type": "stream",
     "text": [
      "556 😱 Unique Boys Catch Fish With Bamboo Tools Polo(Part-68) #shorts #polo_fishing #shortvideo #fish https://youtu.be/TFV-NZVD_Tc Unbelievable Fishing 폴로 랄프로렌\n"
     ]
    },
    {
     "name": "stderr",
     "output_type": "stream",
     "text": [
      " 96%|█████████▌| 558/580 [12:57<00:38,  1.75s/it]"
     ]
    },
    {
     "name": "stdout",
     "output_type": "stream",
     "text": [
      "557 Really Amazing Boat Fishing Video By Polo #shorts #fishing_shorts #boatfishing https://youtu.be/AuEaLo29jt8 Unbelievable Fishing 폴로 랄프로렌\n"
     ]
    },
    {
     "name": "stderr",
     "output_type": "stream",
     "text": [
      " 96%|█████████▋| 559/580 [12:58<00:35,  1.69s/it]"
     ]
    },
    {
     "name": "stdout",
     "output_type": "stream",
     "text": [
      "558 😲Best Boat Fishing Video By Polo #shorts #boatfishing #shortvideo #polo_fishing #fish https://youtu.be/OpQlF8vaXo0 Unbelievable Fishing 폴로 랄프로렌\n"
     ]
    },
    {
     "name": "stderr",
     "output_type": "stream",
     "text": [
      " 97%|█████████▋| 560/580 [13:00<00:34,  1.73s/it]"
     ]
    },
    {
     "name": "stdout",
     "output_type": "stream",
     "text": [
      "559 😱 Unique Boys Catch Fish With Bamboo Tools Polo(Part-45) #shorts #polo_fishing #shortvideo #fish https://youtu.be/j5t5m--_Qsc Unbelievable Fishing 폴로 랄프로렌\n"
     ]
    },
    {
     "name": "stderr",
     "output_type": "stream",
     "text": [
      " 97%|█████████▋| 561/580 [13:02<00:32,  1.69s/it]"
     ]
    },
    {
     "name": "stdout",
     "output_type": "stream",
     "text": [
      "560 🌻 Best Boat Fishing Video By Polo #shorts #boatfishing #shortvideo #fish https://youtu.be/rqalGzCEbTs Unbelievable Fishing 폴로 랄프로렌\n"
     ]
    },
    {
     "name": "stderr",
     "output_type": "stream",
     "text": [
      " 97%|█████████▋| 562/580 [13:04<00:32,  1.79s/it]"
     ]
    },
    {
     "name": "stdout",
     "output_type": "stream",
     "text": [
      "561 😲Best Boat Fishing Video By Polo #shorts #boatfishing #shortvideo #polo_fishing #fish https://youtu.be/CCMXrfdOopY Unbelievable Fishing 폴로 랄프로렌\n"
     ]
    },
    {
     "name": "stderr",
     "output_type": "stream",
     "text": [
      " 97%|█████████▋| 563/580 [13:05<00:29,  1.75s/it]"
     ]
    },
    {
     "name": "stdout",
     "output_type": "stream",
     "text": [
      "562 😲Best Boat Fishing Video By Polo #shorts #boatfishing #shortvideo #fish https://youtu.be/gWJ_swH75Ds Unbelievable Fishing 폴로 랄프로렌\n"
     ]
    },
    {
     "name": "stderr",
     "output_type": "stream",
     "text": [
      " 97%|█████████▋| 564/580 [13:07<00:28,  1.76s/it]"
     ]
    },
    {
     "name": "stdout",
     "output_type": "stream",
     "text": [
      "563 😲Best Boat Fishing Video By Polo #shorts #boatfishing #shortvideo #polo_fishing #fish https://youtu.be/_mamk5KAnJU Unbelievable Fishing 폴로 랄프로렌\n"
     ]
    },
    {
     "name": "stderr",
     "output_type": "stream",
     "text": [
      " 97%|█████████▋| 565/580 [13:09<00:24,  1.66s/it]"
     ]
    },
    {
     "name": "stdout",
     "output_type": "stream",
     "text": [
      "564 😲Best Boat Fishing Video By Polo #shorts #boatfishing #shortvideo #fish https://youtu.be/yypBx3v1TSQ Unbelievable Fishing 폴로 랄프로렌\n"
     ]
    },
    {
     "name": "stderr",
     "output_type": "stream",
     "text": [
      " 98%|█████████▊| 566/580 [13:10<00:22,  1.62s/it]"
     ]
    },
    {
     "name": "stdout",
     "output_type": "stream",
     "text": [
      "565 😱 Unique Boys Catch Fish With Bamboo Tools Polo(Part-11) #shorts #polo_fishing #shortvideo #fish https://youtu.be/L-1fu3LpfNk Unbelievable Fishing 폴로 랄프로렌\n"
     ]
    },
    {
     "name": "stderr",
     "output_type": "stream",
     "text": [
      " 98%|█████████▊| 567/580 [13:12<00:20,  1.54s/it]"
     ]
    },
    {
     "name": "stdout",
     "output_type": "stream",
     "text": [
      "566 😱 Unique Boys Catch Fish With Bamboo Tools Polo(Part-15) #shorts #polo_fishing #shortvideo #fish https://youtu.be/5Ps1n8uBlXc Unbelievable Fishing 폴로 랄프로렌\n"
     ]
    },
    {
     "name": "stderr",
     "output_type": "stream",
     "text": [
      " 98%|█████████▊| 568/580 [13:13<00:17,  1.48s/it]"
     ]
    },
    {
     "name": "stdout",
     "output_type": "stream",
     "text": [
      "567 😱 Unique Boys Catch Fish With Bamboo Tools Polo(Part-190) #shorts #polo_fishing #shortvideo #fish https://youtu.be/CyB7WAIQ6iw Unbelievable Fishing 폴로 랄프로렌\n"
     ]
    },
    {
     "name": "stderr",
     "output_type": "stream",
     "text": [
      " 98%|█████████▊| 569/580 [13:14<00:16,  1.47s/it]"
     ]
    },
    {
     "name": "stdout",
     "output_type": "stream",
     "text": [
      "568 😱 Unique Boys Catch Fish With Bamboo Tools Polo(Part-225) #shorts #polo_fishing #shortvideo #fish https://youtu.be/lwIHXcWwoZc Unbelievable Fishing 폴로 랄프로렌\n"
     ]
    },
    {
     "name": "stderr",
     "output_type": "stream",
     "text": [
      " 98%|█████████▊| 570/580 [13:15<00:13,  1.35s/it]"
     ]
    },
    {
     "name": "stdout",
     "output_type": "stream",
     "text": [
      "569 😱 Unique Boys Catch Fish With Bamboo Tools Polo(Part-154) #shorts #polo_fishing #shortvideo #fish https://youtu.be/EPFakBqTH0s Unbelievable Fishing 폴로 랄프로렌\n"
     ]
    },
    {
     "name": "stderr",
     "output_type": "stream",
     "text": [
      " 98%|█████████▊| 571/580 [13:17<00:11,  1.32s/it]"
     ]
    },
    {
     "name": "stdout",
     "output_type": "stream",
     "text": [
      "570 😱 Unique Boys Catch Fish With Bamboo Tools Polo(Part-224) #shorts #polo_fishing #shortvideo #fish https://youtu.be/7RA5TCzR9ok Unbelievable Fishing 폴로 랄프로렌\n"
     ]
    },
    {
     "name": "stderr",
     "output_type": "stream",
     "text": [
      " 99%|█████████▊| 572/580 [13:18<00:10,  1.29s/it]"
     ]
    },
    {
     "name": "stdout",
     "output_type": "stream",
     "text": [
      "571 😱 Unique Boys Catch Fish With Bamboo Tools Polo(Part-162) #shorts #polo_fishing #shortvideo #fish https://youtu.be/aA7ZxRTPico Unbelievable Fishing 폴로 랄프로렌\n"
     ]
    },
    {
     "name": "stderr",
     "output_type": "stream",
     "text": [
      " 99%|█████████▉| 573/580 [13:19<00:09,  1.30s/it]"
     ]
    },
    {
     "name": "stdout",
     "output_type": "stream",
     "text": [
      "572 😱 Unique Boys Catch Fish With Bamboo Tools Polo(Part-131) #shorts #polo_fishing #shortvideo #fish https://youtu.be/vaMjKZKHIfg Unbelievable Fishing 폴로 랄프로렌\n"
     ]
    },
    {
     "name": "stderr",
     "output_type": "stream",
     "text": [
      " 99%|█████████▉| 574/580 [13:21<00:09,  1.58s/it]"
     ]
    },
    {
     "name": "stdout",
     "output_type": "stream",
     "text": [
      "573 😲Best Boat Fishing Video By Polo #shorts #boatfishing #shortvideo #polo_fishing #fish https://youtu.be/OAc77uN6j50 Unbelievable Fishing 폴로 랄프로렌\n"
     ]
    },
    {
     "name": "stderr",
     "output_type": "stream",
     "text": [
      " 99%|█████████▉| 575/580 [13:23<00:07,  1.43s/it]"
     ]
    },
    {
     "name": "stdout",
     "output_type": "stream",
     "text": [
      "574 하늘보다 푸른 여름 날의 순간! | T1 X 폴로 랄프 로렌 & 지큐 코리아 https://youtu.be/Tlh6X9IoTio T1 Shorts 폴로 랄프로렌\n"
     ]
    },
    {
     "name": "stderr",
     "output_type": "stream",
     "text": [
      " 99%|█████████▉| 576/580 [13:24<00:05,  1.31s/it]"
     ]
    },
    {
     "name": "stdout",
     "output_type": "stream",
     "text": [
      "575 고급진 심플룩엔 역시 폴로 랄프로렌 https://youtu.be/Cm8NHAov-j0 실시간런던 폴로 랄프로렌\n"
     ]
    },
    {
     "name": "stderr",
     "output_type": "stream",
     "text": [
      " 99%|█████████▉| 577/580 [13:25<00:03,  1.28s/it]"
     ]
    },
    {
     "name": "stdout",
     "output_type": "stream",
     "text": [
      "576 🏇 폴로 여성 여름 상의(S,M,L) 티셔츠 니트 #종달맘공구 #폴로랄프로렌 https://youtu.be/MKRRSMoGzaM 🌈책육아 종달맘🐥 폴로 랄프로렌\n"
     ]
    },
    {
     "name": "stderr",
     "output_type": "stream",
     "text": [
      "100%|█████████▉| 578/580 [13:26<00:02,  1.21s/it]"
     ]
    },
    {
     "name": "stdout",
     "output_type": "stream",
     "text": [
      "577 엥? 오늘은 뭐가 많다잉? 랄프로렌 폴로 세일, 뉴발 991 21만원, 피오갓 에센셜 후드 5.1만원, 메종키츠네 가디건 관부가세안, 젤리캣, 폴스미스, 아르켓 https://youtu.be/N6eRXvCaLVY&pp 직구정보통 폴로 랄프로렌\n"
     ]
    },
    {
     "name": "stderr",
     "output_type": "stream",
     "text": [
      "100%|█████████▉| 579/580 [13:27<00:01,  1.19s/it]"
     ]
    },
    {
     "name": "stdout",
     "output_type": "stream",
     "text": [
      "578 세계 최고 부자 디자이너의 MBTI는? https://youtu.be/FnzyUi-GBgI 디자인소리 폴로 랄프로렌\n"
     ]
    },
    {
     "name": "stderr",
     "output_type": "stream",
     "text": [
      "100%|██████████| 580/580 [13:28<00:00,  1.39s/it]"
     ]
    },
    {
     "name": "stdout",
     "output_type": "stream",
     "text": [
      "579 ☀️summer haul ✷여름 좀 부탁해 item✷  인생블라우스,기본티추천,여름향기템,장마대비헌터,여름긴팔,-3kg스커트(폴로셔츠,글로니,헌터,이솝~) https://youtu.be/gKbV5rsPg18&pp daaawon다원 폴로 랄프로렌\n"
     ]
    },
    {
     "name": "stderr",
     "output_type": "stream",
     "text": [
      "\n"
     ]
    }
   ],
   "source": [
    "# # 크롬 드라이버 옵션 설정 : 지정하면 크롬 아예 안보임\n",
    "# chrome_options = webdriver.ChromeOptions()\n",
    "# chrome_options.add_argument('--headless')\n",
    "# chrome_options.add_argument(\"--disable-gpu\")\n",
    "# chrome_options.add_argument('--no-sandbox')\n",
    "# chrome_options.add_argument('--disable-dev-shm-usage')\n",
    "#driver = webdriver.Chrome() # 크롬 옵션 지정 시 options=chrome_options 추가\n",
    "\n",
    "# 영상 크롤링\n",
    "title_list = []\n",
    "video_list = []\n",
    "channel_list = []\n",
    "keyword_list = []\n",
    "include_list = ['폴로', '폴로 랄프로렌']\n",
    "\n",
    "for k in range(len(include_list)) :\n",
    "    try :\n",
    "        search_keyword = include_list[k]\n",
    "        url = 'https://www.youtube.com/results?search_query='+search_keyword\n",
    "        my_driver.get(url)\n",
    "        \n",
    "        time.sleep(2)\n",
    "\n",
    "        my_driver.find_element(By.CSS_SELECTOR,\n",
    "                               '#filter-button > ytd-button-renderer > yt-button-shape > button > yt-touch-feedback-shape > div > div.yt-spec-touch-feedback-shape__fill').click()\n",
    "        time.sleep(2)\n",
    "        \n",
    "        my_driver.find_element(By.XPATH,\n",
    "                               '/html/body/ytd-app/ytd-popup-container/tp-yt-paper-dialog/ytd-search-filter-options-dialog-renderer/div[2]/ytd-search-filter-group-renderer[1]/ytd-search-filter-renderer[5]/a').click()\n",
    "        time.sleep(2)\n",
    "    \n",
    "        # try :\n",
    "        #     upload_date.find_elements(By.ID,'endpoint')[3].click()\n",
    "        #     time.sleep(2)\n",
    "        # except :\n",
    "        #     my_driver.quit()\n",
    "        #     continue\n",
    "\n",
    "        last_height = my_driver.execute_script(\"return document.documentElement.scrollHeight\")\n",
    "\n",
    "        while True:\n",
    "            my_driver.execute_script(\"window.scrollTo(0, document.documentElement.scrollHeight);\")\n",
    "            time.sleep(1)\n",
    "\n",
    "            new_height = my_driver.execute_script(\"return document.documentElement.scrollHeight\")\n",
    "            if new_height == last_height:\n",
    "                break\n",
    "\n",
    "            last_height = new_height\n",
    "\n",
    "        pageString = my_driver.page_source\n",
    "        soup = BeautifulSoup(pageString, features='html.parser')\n",
    "\n",
    "        for i in tqdm(range(len(soup.find_all('ytd-video-renderer',{'class':'style-scope ytd-item-section-renderer'})))): \n",
    "        #soup.find_all('ytd-video-meta-block', 'style-scope ytd-video-renderer byline-separated'))):\n",
    "\n",
    "            title = soup.find_all('a',{'id':'video-title'})[i].text.split('\\n')[2]\n",
    "            title_list.append(title)\n",
    "\n",
    "            if 'shorts' in soup.find_all('a',{'id':'video-title'})[i].get('href'):\n",
    "                video = 'https://youtu.be/'+ soup.find_all('a',{'id':'video-title'})[i].get('href').split('/')[2]\n",
    "                video_list.append(video)\n",
    "\n",
    "            else :\n",
    "                video = 'https://youtu.be/'+ soup.find_all('a',{'id':'video-title'})[i].get('href').split('=')[1]\n",
    "                video_list.append(video)\n",
    "\n",
    "            channel = soup.find_all('yt-formatted-string',{'class':'style-scope ytd-channel-name'})[i].text\n",
    "            channel_list.append(channel)\n",
    "\n",
    "            keyword = include_list[k]\n",
    "            keyword_list.append(keyword)\n",
    "\n",
    "            print(i, title, video, channel, keyword)\n",
    "            \n",
    "    except :\n",
    "        print('오류')\n",
    "        \n",
    "driver.quit()"
   ]
  },
  {
   "cell_type": "code",
   "execution_count": 3,
   "metadata": {},
   "outputs": [
    {
     "data": {
      "text/html": [
       "<div>\n",
       "<style scoped>\n",
       "    .dataframe tbody tr th:only-of-type {\n",
       "        vertical-align: middle;\n",
       "    }\n",
       "\n",
       "    .dataframe tbody tr th {\n",
       "        vertical-align: top;\n",
       "    }\n",
       "\n",
       "    .dataframe thead th {\n",
       "        text-align: right;\n",
       "    }\n",
       "</style>\n",
       "<table border=\"1\" class=\"dataframe\">\n",
       "  <thead>\n",
       "    <tr style=\"text-align: right;\">\n",
       "      <th></th>\n",
       "      <th>제목</th>\n",
       "      <th>비디오 URL</th>\n",
       "      <th>채널</th>\n",
       "      <th>키워드</th>\n",
       "    </tr>\n",
       "  </thead>\n",
       "  <tbody>\n",
       "    <tr>\n",
       "      <th>0</th>\n",
       "      <td>지금, 이 순간 영원히 기록될 T1의 여름 T1 X POLO RALPH LAUREN...</td>\n",
       "      <td>https://youtu.be/xbTIUETEhUM&amp;pp</td>\n",
       "      <td>GQ KOREA</td>\n",
       "      <td>폴로</td>\n",
       "    </tr>\n",
       "    <tr>\n",
       "      <th>1</th>\n",
       "      <td>[하와이Vlog] 폴로 160만원 질렀습니다 👚 폴로저렴하게사는법 | 와이켈레 아울...</td>\n",
       "      <td>https://youtu.be/XbKEj4JVmOc&amp;pp</td>\n",
       "      <td>뉴미 NewMi</td>\n",
       "      <td>폴로</td>\n",
       "    </tr>\n",
       "    <tr>\n",
       "      <th>2</th>\n",
       "      <td>[ENG] T1 카페에 갔습니다. 카페가 열린건 아니고 카페에서 T1 생각했습니다....</td>\n",
       "      <td>https://youtu.be/8KBJZZAMf0c&amp;pp</td>\n",
       "      <td>GQ KOREA</td>\n",
       "      <td>폴로</td>\n",
       "    </tr>\n",
       "    <tr>\n",
       "      <th>3</th>\n",
       "      <td>폴로 랄프로렌 가품 확실한 구별법 (폴로 정품 짭 판별)</td>\n",
       "      <td>https://youtu.be/fDS8aEif31M&amp;pp</td>\n",
       "      <td>b급TV</td>\n",
       "      <td>폴로</td>\n",
       "    </tr>\n",
       "    <tr>\n",
       "      <th>4</th>\n",
       "      <td>마트에서 파는 폴로 랄프로렌 정품 가품 확인 (나이키, POLO, 타미... 모두 ...</td>\n",
       "      <td>https://youtu.be/PBTlgVTuQVs&amp;pp</td>\n",
       "      <td>b급TV</td>\n",
       "      <td>폴로</td>\n",
       "    </tr>\n",
       "    <tr>\n",
       "      <th>...</th>\n",
       "      <td>...</td>\n",
       "      <td>...</td>\n",
       "      <td>...</td>\n",
       "      <td>...</td>\n",
       "    </tr>\n",
       "    <tr>\n",
       "      <th>988</th>\n",
       "      <td>고급진 심플룩엔 역시 폴로 랄프로렌</td>\n",
       "      <td>https://youtu.be/Cm8NHAov-j0</td>\n",
       "      <td>실시간런던</td>\n",
       "      <td>폴로 랄프로렌</td>\n",
       "    </tr>\n",
       "    <tr>\n",
       "      <th>989</th>\n",
       "      <td>🏇 폴로 여성 여름 상의(S,M,L) 티셔츠 니트 #종달맘공구 #폴로랄프로렌</td>\n",
       "      <td>https://youtu.be/MKRRSMoGzaM</td>\n",
       "      <td>🌈책육아 종달맘🐥</td>\n",
       "      <td>폴로 랄프로렌</td>\n",
       "    </tr>\n",
       "    <tr>\n",
       "      <th>990</th>\n",
       "      <td>엥? 오늘은 뭐가 많다잉? 랄프로렌 폴로 세일, 뉴발 991 21만원, 피오갓 에센...</td>\n",
       "      <td>https://youtu.be/N6eRXvCaLVY&amp;pp</td>\n",
       "      <td>직구정보통</td>\n",
       "      <td>폴로 랄프로렌</td>\n",
       "    </tr>\n",
       "    <tr>\n",
       "      <th>991</th>\n",
       "      <td>세계 최고 부자 디자이너의 MBTI는?</td>\n",
       "      <td>https://youtu.be/FnzyUi-GBgI</td>\n",
       "      <td>디자인소리</td>\n",
       "      <td>폴로 랄프로렌</td>\n",
       "    </tr>\n",
       "    <tr>\n",
       "      <th>992</th>\n",
       "      <td>☀️summer haul ✷여름 좀 부탁해 item✷  인생블라우스,기본티추천,여름...</td>\n",
       "      <td>https://youtu.be/gKbV5rsPg18&amp;pp</td>\n",
       "      <td>daaawon다원</td>\n",
       "      <td>폴로 랄프로렌</td>\n",
       "    </tr>\n",
       "  </tbody>\n",
       "</table>\n",
       "<p>993 rows × 4 columns</p>\n",
       "</div>"
      ],
      "text/plain": [
       "                                                    제목  \\\n",
       "0    지금, 이 순간 영원히 기록될 T1의 여름 T1 X POLO RALPH LAUREN...   \n",
       "1    [하와이Vlog] 폴로 160만원 질렀습니다 👚 폴로저렴하게사는법 | 와이켈레 아울...   \n",
       "2    [ENG] T1 카페에 갔습니다. 카페가 열린건 아니고 카페에서 T1 생각했습니다....   \n",
       "3                      폴로 랄프로렌 가품 확실한 구별법 (폴로 정품 짭 판별)   \n",
       "4    마트에서 파는 폴로 랄프로렌 정품 가품 확인 (나이키, POLO, 타미... 모두 ...   \n",
       "..                                                 ...   \n",
       "988                                고급진 심플룩엔 역시 폴로 랄프로렌   \n",
       "989         🏇 폴로 여성 여름 상의(S,M,L) 티셔츠 니트 #종달맘공구 #폴로랄프로렌   \n",
       "990  엥? 오늘은 뭐가 많다잉? 랄프로렌 폴로 세일, 뉴발 991 21만원, 피오갓 에센...   \n",
       "991                              세계 최고 부자 디자이너의 MBTI는?   \n",
       "992  ☀️summer haul ✷여름 좀 부탁해 item✷  인생블라우스,기본티추천,여름...   \n",
       "\n",
       "                             비디오 URL         채널      키워드  \n",
       "0    https://youtu.be/xbTIUETEhUM&pp   GQ KOREA       폴로  \n",
       "1    https://youtu.be/XbKEj4JVmOc&pp   뉴미 NewMi       폴로  \n",
       "2    https://youtu.be/8KBJZZAMf0c&pp   GQ KOREA       폴로  \n",
       "3    https://youtu.be/fDS8aEif31M&pp       b급TV       폴로  \n",
       "4    https://youtu.be/PBTlgVTuQVs&pp       b급TV       폴로  \n",
       "..                               ...        ...      ...  \n",
       "988     https://youtu.be/Cm8NHAov-j0      실시간런던  폴로 랄프로렌  \n",
       "989     https://youtu.be/MKRRSMoGzaM  🌈책육아 종달맘🐥  폴로 랄프로렌  \n",
       "990  https://youtu.be/N6eRXvCaLVY&pp      직구정보통  폴로 랄프로렌  \n",
       "991     https://youtu.be/FnzyUi-GBgI      디자인소리  폴로 랄프로렌  \n",
       "992  https://youtu.be/gKbV5rsPg18&pp  daaawon다원  폴로 랄프로렌  \n",
       "\n",
       "[993 rows x 4 columns]"
      ]
     },
     "execution_count": 3,
     "metadata": {},
     "output_type": "execute_result"
    }
   ],
   "source": [
    "# 데이터프레임으로 저장\n",
    "data = {\n",
    "    '제목': title_list,\n",
    "    '비디오 URL': video_list,\n",
    "    '채널': channel_list,\n",
    "    '키워드': keyword_list,\n",
    "}\n",
    "\n",
    "crawling_1 = pd.DataFrame(data)\n",
    "crawling_1"
   ]
  },
  {
   "cell_type": "code",
   "execution_count": 4,
   "metadata": {},
   "outputs": [],
   "source": [
    "crawling_1.to_csv('크롤링 시도.csv', encoding='utf-8-sig')"
   ]
  },
  {
   "cell_type": "code",
   "execution_count": 13,
   "metadata": {},
   "outputs": [],
   "source": [
    "# # 영상 유료광고 배너 유무 & 더보기란 크롤링 필요하면\n",
    "\n",
    "# driver = webdriver.Chrome()\n",
    "\n",
    "# title_list = []\n",
    "# channel_list = []\n",
    "# channel_id_list = []\n",
    "# date_list = []\n",
    "# view_list = []\n",
    "# sub_list = []\n",
    "# ad_banner_list = []\n",
    "# description_list = []\n",
    "\n",
    "# for i in tqdm(range(len(video_list))):\n",
    "#     driver.get(video_list[i])\n",
    "#     time.sleep(3)\n",
    "    \n",
    "#     page_source = driver.page_source\n",
    "#     soup = BeautifulSoup(page_source, 'html.parser')\n",
    "    \n",
    "#     # 제목\n",
    "#     try:\n",
    "#         title = soup.find_all('yt-formatted-string', attrs={'class': 'ytd-watch-metadata'})[0].text\n",
    "#     except:\n",
    "#         title = '제목 크롤링 오류'\n",
    "#         continue\n",
    "#     title_list.append(title)\n",
    "    \n",
    "#     # 채널명\n",
    "#     try:\n",
    "#         channel = soup.find_all('yt-formatted-string', {'id': 'text'})[0].text\n",
    "#     except:\n",
    "#         channel = '채널명 크롤링 오류'\n",
    "#         continue\n",
    "#     channel_list.append(channel)\n",
    "    \n",
    "#     # 채널ID\n",
    "#     try:\n",
    "#         channel_id = str(soup).split(',\"channelId\":\"')[1].split('\",\"')[0]\n",
    "#     except:\n",
    "#         channel_id = '채널ID 크롤링 오류'\n",
    "#         continue\n",
    "#     channel_id_list.append(channel_id)\n",
    "    \n",
    "#     # 업로드 일자\n",
    "#     try:\n",
    "#         date = soup.find('tp-yt-paper-tooltip', class_='style-scope ytd-watch-metadata').text.split('조회수')[1].strip().split('•')[1].strip()\n",
    "#     except:\n",
    "#         date = '업로드 일자 크롤링 오류'\n",
    "#         continue\n",
    "#     date_list.append(date)\n",
    "    \n",
    "#     # 조회수\n",
    "#     try:\n",
    "#         view = soup.find('tp-yt-paper-tooltip', class_='style-scope ytd-watch-metadata').text.split('조회수')[1].strip().split('회')[0].strip()\n",
    "#     except:\n",
    "#         view = '조회수 크롤링 오류'\n",
    "#         continue\n",
    "#     view_list.append(view)\n",
    "    \n",
    "#     # 구독자 수\n",
    "#     try:\n",
    "#         sub = soup.find('yt-formatted-string', {'id': 'owner-sub-count'}).text.split('구독자')[1].strip().split('명')[0].strip()\n",
    "#     except:\n",
    "#         sub = '구독자 수 크롤링 오류'\n",
    "#         continue\n",
    "#     sub_list.append(sub)\n",
    "    \n",
    "#     # 유료 광고 영상 배너 확인\n",
    "#     ad_banner_exists = False\n",
    "#     try:\n",
    "#         ad_banner = soup.find_all('div', class_='ytp-paid-content-overlay')\n",
    "#         ad_banner_exists = True\n",
    "#     except:\n",
    "#         pass\n",
    "\n",
    "#     if ad_banner_exists:\n",
    "#         ad_banner = \"T\"\n",
    "#     else:\n",
    "#         ad_banner = \"F\"\n",
    "#     ad_banner_list.append(ad_banner)\n",
    "    \n",
    "#     # 더보기란 상세 내용\n",
    "#     try:\n",
    "#         description = soup.find_all('span', {'class': 'yt-core-attributed-string yt-core-attributed-string--white-space-pre-wrap'})[2].text\n",
    "#     except:\n",
    "#         description = '더보기 크롤링 오류'\n",
    "#     description_list.append(description)\n",
    "    \n",
    "#     print(i, video_list[i], title, channel, channel_id, date, view, sub, ad_banner, description)\n",
    "\n",
    "# driver.quit()"
   ]
  },
  {
   "cell_type": "code",
   "execution_count": 14,
   "metadata": {},
   "outputs": [],
   "source": [
    "# # 제대로 크롤링 되는지 확인하기 위한 코드\n",
    "# soup\n",
    "\n",
    "# # 업로드 일자 확인\n",
    "# soup.find('tp-yt-paper-tooltip', class_='style-scope ytd-watch-metadata').text.split('조회수')[1].strip().split('•')[1].strip()\n",
    "\n",
    "# # 조회수 확인\n",
    "# soup.find('tp-yt-paper-tooltip', class_='style-scope ytd-watch-metadata').text.split('조회수')[1].strip().split('회')[0].strip()\n",
    "\n",
    "# # 구독자 수 확인\n",
    "#soup.find_all('yt-formatted-string', {'id' : 'owner-sub-count'}).text.split('구독자')[1].strip().split('명')[0].strip()\n",
    "\n",
    "# # 채널명 확인\n",
    "# soup.find_all('yt-formatted-string',{'id':'text'})[0].text\n",
    "\n",
    "# # 제목 확인\n",
    "# soup.find_all('yt-formatted-string',attrs={'class' : 'ytd-watch-metadata'})[0].text\n",
    "\n",
    "# # 더보기란 상세내용 확인\n",
    "# soup.find_all('span',{'class' : 'yt-core-attributed-string yt-core-attributed-string--white-space-pre-wrap'})[2].text"
   ]
  },
  {
   "cell_type": "code",
   "execution_count": 15,
   "metadata": {},
   "outputs": [],
   "source": [
    "# data_2 = {\n",
    "#           '제목': title_list,\n",
    "#           '채널': channel_list,\n",
    "#           '채널ID': channel_id_list,\n",
    "#           '업로드 일자': date_list,\n",
    "#           '조회수': view_list,\n",
    "#           '구독자 수': sub_list,\n",
    "#           '유료광고 배너': ad_banner_list,\n",
    "#           '더보기란': description_list,\n",
    "# }\n",
    "\n",
    "# crawling_2 = pd.DataFrame(data_2)\n",
    "# crawling_2"
   ]
  },
  {
   "cell_type": "code",
   "execution_count": 16,
   "metadata": {},
   "outputs": [],
   "source": [
    "# # 구독자 수 계산\n",
    "# crawling_2_copy = crawling_2\n",
    "\n",
    "# for i in range(len(crawling_2_copy)):\n",
    "#     if '천' in str(crawling_2_copy['구독자 수'][i]): # 1,000\n",
    "#         k_num = int(float(crawling_2_copy['구독자 수'][i].replace('천',''))*1000)\n",
    "#         crawling_2_copy.loc[i, '구독자 수'] = format(k_num)\n",
    "#     elif '만' in str(crawling_2_copy['구독자 수'][i]): # 10,000\n",
    "#         m_num = int(float(crawling_2_copy['구독자 수'][i].replace('만',''))*10000)\n",
    "#         crawling_2_copy.loc[i, '구독자 수'] = format(m_num)\n",
    "\n",
    "# crawling_2_copy"
   ]
  },
  {
   "cell_type": "code",
   "execution_count": 17,
   "metadata": {},
   "outputs": [],
   "source": [
    "# # crawling_1 & crawling_2_copy : 영상 url & 키워드 매칭\n",
    "# merged_df = crawling_2.merge(crawling_1[['제목', '비디오 URL', '키워드']], on='제목', how='left')\n",
    "# merged_df"
   ]
  },
  {
   "cell_type": "code",
   "execution_count": 18,
   "metadata": {},
   "outputs": [],
   "source": [
    "# # 유료광고 배너 T & 더보기란\n",
    "# filtered_df = merged_df[merged_df['유료광고 배너'] == 'T']\n",
    "# filtered_df = merged_df[~merged_df['더보기란'].str.contains('광고를 포함하지 않습니다|광고를 포함하고 있지 않습니다')]\n",
    "# filtered_df"
   ]
  },
  {
   "cell_type": "code",
   "execution_count": 9,
   "metadata": {},
   "outputs": [],
   "source": [
    "# # 결과 구글 시트에 저장\n",
    "# gc = pygsheets.authorize(service_account_file='creds.json')\n",
    "# sheetname= '크롤링 시도'\n",
    "# sh = gc.open(sheetname)\n",
    "\n",
    "# # 오류 발생 시, worksheet의 행 수 늘려서 재실행\n",
    "# wks = sh.worksheet_by_title('광고 시장')\n",
    "# wks.set_dataframe(, 'A1', index=False)"
   ]
  }
 ],
 "metadata": {
  "kernelspec": {
   "display_name": "Python 3 (ipykernel)",
   "language": "python",
   "name": "python3"
  },
  "language_info": {
   "codemirror_mode": {
    "name": "ipython",
    "version": 3
   },
   "file_extension": ".py",
   "mimetype": "text/x-python",
   "name": "python",
   "nbconvert_exporter": "python",
   "pygments_lexer": "ipython3",
   "version": "3.11.2"
  }
 },
 "nbformat": 4,
 "nbformat_minor": 2
}
