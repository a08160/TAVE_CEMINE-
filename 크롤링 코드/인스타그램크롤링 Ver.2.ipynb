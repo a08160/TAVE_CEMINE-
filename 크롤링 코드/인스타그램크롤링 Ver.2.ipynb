{
 "cells": [
  {
   "cell_type": "markdown",
   "metadata": {},
   "source": [
    "# 인스타그램 해시태그 크롤링\n",
    "## 필요한 라이브러리 import"
   ]
  },
  {
   "cell_type": "code",
   "execution_count": 1,
   "metadata": {},
   "outputs": [],
   "source": [
    "#%pip install selenium\n",
    "#%pip install webdriver_manager\n",
    "#%pip install lxml\n",
    "#%pip install openpyxl\n",
    "from selenium import webdriver\n",
    "from selenium.webdriver.chrome.service import Service\n",
    "from selenium.webdriver.common.by import By\n",
    "from selenium.webdriver.support.ui import WebDriverWait\n",
    "from selenium.webdriver.support import expected_conditions as EC\n",
    "from selenium.common.exceptions import TimeoutException\n",
    "from webdriver_manager.chrome import ChromeDriverManager\n",
    "from bs4 import BeautifulSoup\n",
    "import pandas as pd\n",
    "import time\n",
    "from datetime import datetime"
   ]
  },
  {
   "cell_type": "markdown",
   "metadata": {},
   "source": [
    "## 해시태그 url 변수 저장"
   ]
  },
  {
   "cell_type": "code",
   "execution_count": 9,
   "metadata": {},
   "outputs": [],
   "source": [
    "# 해시태그 검색하여 url 변수에 저장\n",
    "def Search_hashtag(keyword):\n",
    "    url = \"https://www.instagram.com/explore/tags/\" + str(keyword)\n",
    "    return url"
   ]
  },
  {
   "cell_type": "markdown",
   "metadata": {},
   "source": [
    "## 열린 페이지에서 첫 번째 게시물 클릭"
   ]
  },
  {
   "cell_type": "code",
   "execution_count": 3,
   "metadata": {},
   "outputs": [],
   "source": [
    "def select_first(driver):\n",
    "  try:\n",
    "    first_post = WebDriverWait(driver, 10).until(\n",
    "      EC.presence_of_element_located((By.CSS_SELECTOR, 'a[href^=\"/p/\"]'))\n",
    "    )\n",
    "    first_post.click()\n",
    "  except Exception as e:\n",
    "    print(\"첫 번째 게시물 선택 오류: {e}\")\n",
    "    \n",
    "  #first = driver.find_element(By.CSS_SELECTOR, \"div._aagw\")\n",
    "  #time.sleep(3)"
   ]
  },
  {
   "cell_type": "markdown",
   "metadata": {},
   "source": [
    "## 첫 게시물 클릭 후 다음 게시물 클릭"
   ]
  },
  {
   "cell_type": "code",
   "execution_count": 4,
   "metadata": {},
   "outputs": [],
   "source": [
    "def move_next_post(driver):\n",
    "    try:\n",
    "        next_button = WebDriverWait(driver, 10).until(\n",
    "            EC.element_to_be_clickable((By.CSS_SELECTOR, \"._abl-\"))\n",
    "        )\n",
    "        next_button.click()\n",
    "    except Exception as e:\n",
    "        print(f\"다음 게시물로 이동 오류: {e}\")\n",
    "    # right = driver.find_element(By.CSS_SELECTOR, \"div._aaqg._aaqh\")\n",
    "    # time.sleep(3)"
   ]
  },
  {
   "cell_type": "markdown",
   "metadata": {},
   "source": [
    "## 크롤링 함수"
   ]
  },
  {
   "cell_type": "code",
   "execution_count": 12,
   "metadata": {},
   "outputs": [],
   "source": [
    "# 이미지 저장\n",
    "def img_save(link, index):\n",
    "    try:\n",
    "        wait = WebDriverWait(driver, 10)\n",
    "        img_elements = wait.until(EC.presence_of_all_elements_located((By.CSS_SELECTOR, '.x5yr21d.xu96u03.x10l6tqk.x13vifvy.x87ps6o.xh8yej3')))\n",
    "    \n",
    "        # 첫 번째 이미지 요소만 저장\n",
    "        if len(img_elements) > 0:\n",
    "            img_element = img_elements[index]\n",
    "            img_url = img_element.get_attribute('src')\n",
    "        \n",
    "            # img_url 값 확인\n",
    "            print(f\"이미지 URL: {img_url}\")\n",
    "        \n",
    "        return img_url\n",
    "    except Exception as e:\n",
    "        print(f\"이미지 저장 오류: {e}\")\n",
    "    return None\n",
    "\n",
    "# 함수 정의: 이미지, 링크 가져오기\n",
    "def collect_links(driver, index):\n",
    "    try:\n",
    "        soup = BeautifulSoup(driver.page_source, 'html.parser')\n",
    "        link_elements = soup.select('a[href^=\"/p/\"]')\n",
    "        links = ['https://www.instagram.com' + link['href'] for link in link_elements[:index]]\n",
    "        return links\n",
    "    except Exception as e:\n",
    "        print(f\"링크 수집 오류: {e}\")\n",
    "        return []\n",
    "\n",
    "def get_content(driver, index):\n",
    "    try:\n",
    "        html = driver.page_source\n",
    "        soup = BeautifulSoup(html, 'lxml')\n",
    "    \n",
    "        # 링크 수집\n",
    "        links = collect_links(driver, index + 1)  # 인덱스를 +1로 수정하여 원하는 수만큼 링크를 수집\n",
    "        print(\"수집된 링크: \")\n",
    "        print(links)\n",
    "    \n",
    "        if links:\n",
    "            # 이미지 저장\n",
    "            img_url = img_save(driver, index)\n",
    "            data = {\"img_url\": img_url, \"link\": links[index]}  # 링크 인덱스를 index로 수정\n",
    "            return data\n",
    "    except Exception as e:\n",
    "        print(f\"내용 수집 오류: {e}\")\n",
    "    return None"
   ]
  },
  {
   "cell_type": "markdown",
   "metadata": {},
   "source": [
    "## 로그인 함수"
   ]
  },
  {
   "cell_type": "code",
   "execution_count": 6,
   "metadata": {},
   "outputs": [],
   "source": [
    "def login_instagram(driver, username, password):\n",
    "    try:\n",
    "        username_input = WebDriverWait(driver, 10).until(\n",
    "            EC.presence_of_element_located((By.CSS_SELECTOR, \"input[name='username']\"))\n",
    "        )\n",
    "        username_input.send_keys(username)\n",
    "\n",
    "        password_input = WebDriverWait(driver, 10).until(\n",
    "            EC.presence_of_element_located((By.CSS_SELECTOR, \"input[name='password']\"))\n",
    "        )\n",
    "        password_input.send_keys(password)\n",
    "\n",
    "        login_button = WebDriverWait(driver, 10).until(\n",
    "            EC.element_to_be_clickable((By.CSS_SELECTOR, \"button[type='submit']\"))\n",
    "        )\n",
    "        login_button.click()\n",
    "        return True\n",
    "    except Exception as e:\n",
    "        print(f\"로그인 오류: {e}\")\n",
    "        return False\n"
   ]
  },
  {
   "cell_type": "markdown",
   "metadata": {},
   "source": [
    "## 크롤링 시작"
   ]
  },
  {
   "cell_type": "code",
   "execution_count": 13,
   "metadata": {
    "scrolled": true
   },
   "outputs": [
    {
     "name": "stdout",
     "output_type": "stream",
     "text": [
      "해시태그 마뗑킴코디에 대한 검색 결과 페이지 열기\n",
      "1/3 번째 게시물 수집 중...\n",
      "수집된 링크: \n",
      "['https://www.instagram.com/p/CmV7mwtBMSb/']\n",
      "이미지 URL: https://scontent-ssn1-1.cdninstagram.com/v/t51.29350-15/320597180_543318427719482_3722890516506060633_n.jpg?stp=dst-jpg_e35&efg=eyJ2ZW5jb2RlX3RhZyI6ImltYWdlX3VybGdlbi4xMzc2eDc3NC5zZHIuZjI5MzUwIn0&_nc_ht=scontent-ssn1-1.cdninstagram.com&_nc_cat=102&_nc_ohc=MJa_VlVDpKoQ7kNvgHGBPYg&edm=ALQROFkBAAAA&ccb=7-5&ig_cache_key=Mjk5NjU2MzI2OTY1MDkyNTg1NA%3D%3D.2-ccb7-5&oh=00_AYAuU66kux-w4RV5h2TYNriKEXBdvTr4jhphvUqHLR_Npg&oe=66722025&_nc_sid=fc8dfb\n",
      "2/3 번째 게시물 수집 중...\n",
      "수집된 링크: \n",
      "['https://www.instagram.com/p/CmV7mwtBMSb/', 'https://www.instagram.com/p/C7OyNSAPfJB/']\n",
      "이미지 URL: https://scontent-ssn1-1.cdninstagram.com/v/t51.29350-15/445117187_1437462806888811_7791906540257023493_n.jpg?stp=dst-jpg_e35&efg=eyJ2ZW5jb2RlX3RhZyI6ImltYWdlX3VybGdlbi4xNDQweDE4MDAuc2RyLmYyOTM1MCJ9&_nc_ht=scontent-ssn1-1.cdninstagram.com&_nc_cat=103&_nc_ohc=M_nrvfp4BjwQ7kNvgFqJTYw&edm=ALQROFkBAAAA&ccb=7-5&ig_cache_key=MzM3Mjg1Mzk3MzUzMzc0MDA3Ng%3D%3D.2-ccb7-5&oh=00_AYBE3yEaYvdyFkIrovjUcUvujokapwZkf3KG7XcNBgAa7w&oe=66722C4F&_nc_sid=fc8dfb\n",
      "3/3 번째 게시물 수집 중...\n",
      "수집된 링크: \n",
      "['https://www.instagram.com/p/CmV7mwtBMSb/', 'https://www.instagram.com/p/C7OyNSAPfJB/', 'https://www.instagram.com/p/C8Jjq_kPEYN/']\n",
      "이미지 URL: https://scontent-ssn1-1.cdninstagram.com/v/t39.30808-6/448301491_17879789895082963_8804744432251141359_n.jpg?stp=dst-jpg_e35&efg=eyJ2ZW5jb2RlX3RhZyI6ImltYWdlX3VybGdlbi4xNDQweDE2NDUuc2RyLmYzMDgwOCJ9&_nc_ht=scontent-ssn1-1.cdninstagram.com&_nc_cat=107&_nc_ohc=1LsQVeOxedoQ7kNvgHzK5MK&edm=AGyKU4gAAAAA&ccb=7-5&ig_cache_key=MzM4OTM5NzA3NTQ5NzAyMzU1MQ%3D%3D.2-ccb7-5&oh=00_AYBPkvOTedT_e5M3YgxL9HV6qG5ESLV-teDRmNNsi4c8YQ&oe=667216AC&_nc_sid=2011ad\n",
      "[{'img_url': 'https://scontent-ssn1-1.cdninstagram.com/v/t51.29350-15/320597180_543318427719482_3722890516506060633_n.jpg?stp=dst-jpg_e35&efg=eyJ2ZW5jb2RlX3RhZyI6ImltYWdlX3VybGdlbi4xMzc2eDc3NC5zZHIuZjI5MzUwIn0&_nc_ht=scontent-ssn1-1.cdninstagram.com&_nc_cat=102&_nc_ohc=MJa_VlVDpKoQ7kNvgHGBPYg&edm=ALQROFkBAAAA&ccb=7-5&ig_cache_key=Mjk5NjU2MzI2OTY1MDkyNTg1NA%3D%3D.2-ccb7-5&oh=00_AYAuU66kux-w4RV5h2TYNriKEXBdvTr4jhphvUqHLR_Npg&oe=66722025&_nc_sid=fc8dfb', 'link': 'https://www.instagram.com/p/CmV7mwtBMSb/'}, {'img_url': 'https://scontent-ssn1-1.cdninstagram.com/v/t51.29350-15/445117187_1437462806888811_7791906540257023493_n.jpg?stp=dst-jpg_e35&efg=eyJ2ZW5jb2RlX3RhZyI6ImltYWdlX3VybGdlbi4xNDQweDE4MDAuc2RyLmYyOTM1MCJ9&_nc_ht=scontent-ssn1-1.cdninstagram.com&_nc_cat=103&_nc_ohc=M_nrvfp4BjwQ7kNvgFqJTYw&edm=ALQROFkBAAAA&ccb=7-5&ig_cache_key=MzM3Mjg1Mzk3MzUzMzc0MDA3Ng%3D%3D.2-ccb7-5&oh=00_AYBE3yEaYvdyFkIrovjUcUvujokapwZkf3KG7XcNBgAa7w&oe=66722C4F&_nc_sid=fc8dfb', 'link': 'https://www.instagram.com/p/C7OyNSAPfJB/'}, {'img_url': 'https://scontent-ssn1-1.cdninstagram.com/v/t39.30808-6/448301491_17879789895082963_8804744432251141359_n.jpg?stp=dst-jpg_e35&efg=eyJ2ZW5jb2RlX3RhZyI6ImltYWdlX3VybGdlbi4xNDQweDE2NDUuc2RyLmYzMDgwOCJ9&_nc_ht=scontent-ssn1-1.cdninstagram.com&_nc_cat=107&_nc_ohc=1LsQVeOxedoQ7kNvgHzK5MK&edm=AGyKU4gAAAAA&ccb=7-5&ig_cache_key=MzM4OTM5NzA3NTQ5NzAyMzU1MQ%3D%3D.2-ccb7-5&oh=00_AYBPkvOTedT_e5M3YgxL9HV6qG5ESLV-teDRmNNsi4c8YQ&oe=667216AC&_nc_sid=2011ad', 'link': 'https://www.instagram.com/p/C8Jjq_kPEYN/'}]\n"
     ]
    }
   ],
   "source": [
    "## 크롬 브라우저 열기\n",
    "try:\n",
    "    service = Service(ChromeDriverManager().install())\n",
    "    options = webdriver.ChromeOptions()\n",
    "    driver = webdriver.Chrome(service=service, options=options)\n",
    "    driver.implicitly_wait(10)\n",
    "    driver.get('https://www.instagram.com')\n",
    "except Exception as e:\n",
    "    print(f\"웹드라이버 초기화 오류: {e}\")\n",
    "    raise\n",
    "\n",
    "time.sleep(3)\n",
    "\n",
    "#인스타그램 로그인\n",
    "username = 'semlng'\n",
    "password = 'wkdtpals2wmrkt!'\n",
    "if not login_instagram(driver, username, password):\n",
    "    driver.quit()\n",
    "    raise Exception(\"로그인 실패\")\n",
    "\n",
    "time.sleep(5)\n",
    "\n",
    "# 해시태그 검색\n",
    "word = \"마뗑킴코디\"\n",
    "url = Search_hashtag(word)\n",
    "\n",
    "results = []\n",
    "\n",
    "# 검색 결과 페이지 열기\n",
    "print(f\"해시태그 {word}에 대한 검색 결과 페이지 열기\")\n",
    "driver.get(url)\n",
    "time.sleep(10)\n",
    "\n",
    "# 첫 번째 게시물 클릭\n",
    "select_first(driver)\n",
    "\n",
    "# 데이터 수집 시작\n",
    "results = []\n",
    "# 수집할 게시물의 수\n",
    "target = 3\n",
    "for i in range(target):\n",
    "    print(f\"{i+1}/{target} 번째 게시물 수집 중...\")\n",
    "    try:\n",
    "        data = get_content(driver, i)\n",
    "        if data:\n",
    "            results.append(data)\n",
    "        move_next_post(driver)\n",
    "    except Exception as e:\n",
    "        print(f\"게시물 수집 오류 : {e}\")\n",
    "        move_next_post(driver)\n",
    "    time.sleep(5)\n",
    "    \n",
    "print(results)\n",
    "\n",
    "# 결과를 데이터프레임으로 저장\n",
    "date = datetime.today().strftime('%Y-%m-%d')\n",
    "results_df = pd.DataFrame(results)\n",
    "\n",
    "# CSV 파일로 저장\n",
    "results_df.to_csv('마뗑킴코디.csv', index=False)\n",
    "\n",
    "# WebDriver 종료\n",
    "driver.quit()"
   ]
  }
 ],
 "metadata": {
  "kernelspec": {
   "display_name": "programmers",
   "language": "python",
   "name": "programmers"
  },
  "language_info": {
   "codemirror_mode": {
    "name": "ipython",
    "version": 3
   },
   "file_extension": ".py",
   "mimetype": "text/x-python",
   "name": "python",
   "nbconvert_exporter": "python",
   "pygments_lexer": "ipython3",
   "version": "3.10.4"
  },
  "toc": {
   "base_numbering": 1,
   "nav_menu": {},
   "number_sections": true,
   "sideBar": true,
   "skip_h1_title": false,
   "title_cell": "Table of Contents",
   "title_sidebar": "Contents",
   "toc_cell": false,
   "toc_position": {},
   "toc_section_display": true,
   "toc_window_display": false
  }
 },
 "nbformat": 4,
 "nbformat_minor": 2
}
