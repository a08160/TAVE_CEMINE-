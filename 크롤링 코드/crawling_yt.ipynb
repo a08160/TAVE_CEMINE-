{
 "cells": [
  {
   "cell_type": "code",
   "execution_count": 1,
   "metadata": {},
   "outputs": [
    {
     "data": {
      "text/plain": [
       "'c:\\\\Users\\\\dpfls\\\\OneDrive - 숙명여자대학교\\\\바탕 화면\\\\Yerin\\\\Activity\\\\2024\\\\TAVE\\\\후반기 프로젝트'"
      ]
     },
     "execution_count": 1,
     "metadata": {},
     "output_type": "execute_result"
    }
   ],
   "source": [
    "from selenium import webdriver\n",
    "import time\n",
    "from bs4 import BeautifulSoup\n",
    "from selenium.webdriver import ActionChains\n",
    "from selenium.webdriver.common.keys import Keys\n",
    "import math\n",
    "import pandas as pd\n",
    "import numpy as np\n",
    "from tqdm import tqdm\n",
    "import os\n",
    "from selenium.webdriver.common.by import By\n",
    "import json\n",
    "import pygsheets\n",
    "from google.oauth2 import service_account\n",
    "import platform\n",
    "import datetime\n",
    "from dateutil.relativedelta import relativedelta\n",
    "import sys\n",
    "from selenium.webdriver.chrome.service import Service as ChromeService\n",
    "from webdriver_manager.chrome import ChromeDriverManager\n",
    "\n",
    "class MyChromeDriver(webdriver.Chrome):\n",
    "\n",
    "    def __init__(self, headless=False, maximize=True):\n",
    "\n",
    "        options = webdriver.ChromeOptions()\n",
    "        if headless:\n",
    "            options.add_argument('--headless')\n",
    "\n",
    "        webdriver.Chrome.__init__(self, service=ChromeService(ChromeDriverManager().install()), options=options)\n",
    "\n",
    "        if maximize:\n",
    "            self.maximize_window()\n",
    "\n",
    "driver = webdriver.Chrome(service=ChromeService(ChromeDriverManager().install()))\n",
    "\n",
    "if driver is None:\n",
    "        my_driver = MyChromeDriver()\n",
    "        time.sleep(10)\n",
    "else:\n",
    "    my_driver = driver\n",
    "\n",
    "os.getcwd()"
   ]
  },
  {
   "cell_type": "code",
   "execution_count": 2,
   "metadata": {},
   "outputs": [
    {
     "name": "stderr",
     "output_type": "stream",
     "text": [
      "  0%|          | 1/526 [00:00<08:34,  1.02it/s]"
     ]
    },
    {
     "name": "stdout",
     "output_type": "stream",
     "text": [
      "0 https://youtu.be/WFahF9s5aK4&pp 폴로\n"
     ]
    },
    {
     "name": "stderr",
     "output_type": "stream",
     "text": [
      "  0%|          | 2/526 [00:01<08:44,  1.00s/it]"
     ]
    },
    {
     "name": "stdout",
     "output_type": "stream",
     "text": [
      "1 https://youtu.be/xbTIUETEhUM&pp 폴로\n"
     ]
    },
    {
     "name": "stderr",
     "output_type": "stream",
     "text": [
      "  1%|          | 3/526 [00:02<08:06,  1.08it/s]"
     ]
    },
    {
     "name": "stdout",
     "output_type": "stream",
     "text": [
      "2 https://youtu.be/XbKEj4JVmOc&pp 폴로\n"
     ]
    },
    {
     "name": "stderr",
     "output_type": "stream",
     "text": [
      "  1%|          | 4/526 [00:03<08:09,  1.07it/s]"
     ]
    },
    {
     "name": "stdout",
     "output_type": "stream",
     "text": [
      "3 https://youtu.be/ZXdhLzzbvHo&pp 폴로\n"
     ]
    },
    {
     "name": "stderr",
     "output_type": "stream",
     "text": [
      "  1%|          | 5/526 [00:04<08:12,  1.06it/s]"
     ]
    },
    {
     "name": "stdout",
     "output_type": "stream",
     "text": [
      "4 https://youtu.be/PBTlgVTuQVs&pp 폴로\n"
     ]
    },
    {
     "name": "stderr",
     "output_type": "stream",
     "text": [
      "  1%|          | 6/526 [00:05<07:46,  1.11it/s]"
     ]
    },
    {
     "name": "stdout",
     "output_type": "stream",
     "text": [
      "5 https://youtu.be/CSkfVqxF71I&pp 폴로\n"
     ]
    },
    {
     "name": "stderr",
     "output_type": "stream",
     "text": [
      "  1%|▏         | 7/526 [00:06<07:44,  1.12it/s]"
     ]
    },
    {
     "name": "stdout",
     "output_type": "stream",
     "text": [
      "6 https://youtu.be/EljrY8SRJZ4&pp 폴로\n"
     ]
    },
    {
     "name": "stderr",
     "output_type": "stream",
     "text": [
      "  2%|▏         | 8/526 [00:07<07:14,  1.19it/s]"
     ]
    },
    {
     "name": "stdout",
     "output_type": "stream",
     "text": [
      "7 https://youtu.be/i7WmGPuw-Bc&pp 폴로\n"
     ]
    },
    {
     "name": "stderr",
     "output_type": "stream",
     "text": [
      "  2%|▏         | 10/526 [00:09<09:03,  1.05s/it]"
     ]
    },
    {
     "name": "stdout",
     "output_type": "stream",
     "text": [
      "9 https://youtu.be/fDS8aEif31M&pp 폴로\n"
     ]
    },
    {
     "name": "stderr",
     "output_type": "stream",
     "text": [
      "  2%|▏         | 13/526 [00:13<11:29,  1.34s/it]"
     ]
    },
    {
     "name": "stdout",
     "output_type": "stream",
     "text": [
      "12 https://youtu.be/yMwlT1k7pGU&pp 폴로\n"
     ]
    },
    {
     "name": "stderr",
     "output_type": "stream",
     "text": [
      "  3%|▎         | 14/526 [00:15<13:03,  1.53s/it]"
     ]
    },
    {
     "name": "stdout",
     "output_type": "stream",
     "text": [
      "13 https://youtu.be/etqor2iEz6o&pp 폴로\n"
     ]
    },
    {
     "name": "stderr",
     "output_type": "stream",
     "text": [
      "  3%|▎         | 15/526 [00:18<15:27,  1.81s/it]"
     ]
    },
    {
     "name": "stdout",
     "output_type": "stream",
     "text": [
      "14 https://youtu.be/VsnmzIsDoTg&pp 폴로\n"
     ]
    },
    {
     "name": "stderr",
     "output_type": "stream",
     "text": [
      "  3%|▎         | 16/526 [00:19<15:17,  1.80s/it]"
     ]
    },
    {
     "name": "stdout",
     "output_type": "stream",
     "text": [
      "15 https://youtu.be/XZ6SbLdshrc&pp 폴로\n"
     ]
    },
    {
     "name": "stderr",
     "output_type": "stream",
     "text": [
      "  3%|▎         | 17/526 [00:21<15:20,  1.81s/it]"
     ]
    },
    {
     "name": "stdout",
     "output_type": "stream",
     "text": [
      "16 https://youtu.be/v1wbKRSBLtQ&pp 폴로\n"
     ]
    },
    {
     "name": "stderr",
     "output_type": "stream",
     "text": [
      "  3%|▎         | 18/526 [00:23<15:55,  1.88s/it]"
     ]
    },
    {
     "name": "stdout",
     "output_type": "stream",
     "text": [
      "17 https://youtu.be/5rYScVX4sAU&pp 폴로\n"
     ]
    },
    {
     "name": "stderr",
     "output_type": "stream",
     "text": [
      "  4%|▍         | 20/526 [00:25<12:57,  1.54s/it]"
     ]
    },
    {
     "name": "stdout",
     "output_type": "stream",
     "text": [
      "19 https://youtu.be/dXo-V5sqqeA&pp 폴로\n"
     ]
    },
    {
     "name": "stderr",
     "output_type": "stream",
     "text": [
      "  4%|▍         | 21/526 [00:26<11:09,  1.33s/it]"
     ]
    },
    {
     "name": "stdout",
     "output_type": "stream",
     "text": [
      "20 https://youtu.be/R3DSR21MXCk&t 폴로\n"
     ]
    },
    {
     "name": "stderr",
     "output_type": "stream",
     "text": [
      "  4%|▍         | 22/526 [00:27<09:57,  1.18s/it]"
     ]
    },
    {
     "name": "stdout",
     "output_type": "stream",
     "text": [
      "21 https://youtu.be/Jgrhnd0yWao&pp 폴로\n"
     ]
    },
    {
     "name": "stderr",
     "output_type": "stream",
     "text": [
      "  4%|▍         | 23/526 [00:28<08:57,  1.07s/it]"
     ]
    },
    {
     "name": "stdout",
     "output_type": "stream",
     "text": [
      "22 https://youtu.be/tBCstCyhL2U&t 폴로\n"
     ]
    },
    {
     "name": "stderr",
     "output_type": "stream",
     "text": [
      "  5%|▍         | 25/526 [00:30<08:08,  1.03it/s]"
     ]
    },
    {
     "name": "stdout",
     "output_type": "stream",
     "text": [
      "24 https://youtu.be/g3MHneshvLk&pp 폴로\n"
     ]
    },
    {
     "name": "stderr",
     "output_type": "stream",
     "text": [
      "  5%|▍         | 26/526 [00:31<09:06,  1.09s/it]"
     ]
    },
    {
     "name": "stdout",
     "output_type": "stream",
     "text": [
      "25 https://youtu.be/Kjibw8coOCI&pp 폴로\n"
     ]
    },
    {
     "name": "stderr",
     "output_type": "stream",
     "text": [
      "  5%|▌         | 27/526 [00:32<08:46,  1.05s/it]"
     ]
    },
    {
     "name": "stdout",
     "output_type": "stream",
     "text": [
      "26 https://youtu.be/Izlr37KVDqk&pp 폴로\n"
     ]
    },
    {
     "name": "stderr",
     "output_type": "stream",
     "text": [
      "  5%|▌         | 28/526 [00:33<08:14,  1.01it/s]"
     ]
    },
    {
     "name": "stdout",
     "output_type": "stream",
     "text": [
      "27 https://youtu.be/2RF59jvQZrQ&pp 폴로\n"
     ]
    },
    {
     "name": "stderr",
     "output_type": "stream",
     "text": [
      "  6%|▌         | 29/526 [00:34<08:05,  1.02it/s]"
     ]
    },
    {
     "name": "stdout",
     "output_type": "stream",
     "text": [
      "28 https://youtu.be/wppW7VZb8vw&pp 폴로\n"
     ]
    },
    {
     "name": "stderr",
     "output_type": "stream",
     "text": [
      "  6%|▌         | 30/526 [00:35<08:13,  1.00it/s]"
     ]
    },
    {
     "name": "stdout",
     "output_type": "stream",
     "text": [
      "29 https://youtu.be/KZaYoL1UyZ8&pp 폴로\n"
     ]
    },
    {
     "name": "stderr",
     "output_type": "stream",
     "text": [
      "  6%|▌         | 31/526 [00:36<08:11,  1.01it/s]"
     ]
    },
    {
     "name": "stdout",
     "output_type": "stream",
     "text": [
      "30 https://youtu.be/wIBeLl9xINY&pp 폴로\n"
     ]
    },
    {
     "name": "stderr",
     "output_type": "stream",
     "text": [
      "  6%|▋         | 34/526 [00:37<06:00,  1.37it/s]"
     ]
    },
    {
     "name": "stdout",
     "output_type": "stream",
     "text": [
      "33 https://youtu.be/0AoEK2kbR-k&pp 폴로\n"
     ]
    },
    {
     "name": "stderr",
     "output_type": "stream",
     "text": [
      "  7%|▋         | 35/526 [00:39<06:54,  1.18it/s]"
     ]
    },
    {
     "name": "stdout",
     "output_type": "stream",
     "text": [
      "34 https://youtu.be/gO4nbMYCiJI&pp 폴로\n"
     ]
    },
    {
     "name": "stderr",
     "output_type": "stream",
     "text": [
      "  7%|▋         | 37/526 [00:40<06:39,  1.22it/s]"
     ]
    },
    {
     "name": "stdout",
     "output_type": "stream",
     "text": [
      "36 https://youtu.be/rdDMpWMvzdY&pp 폴로\n"
     ]
    },
    {
     "name": "stderr",
     "output_type": "stream",
     "text": [
      "  7%|▋         | 38/526 [00:41<08:05,  1.00it/s]"
     ]
    },
    {
     "name": "stdout",
     "output_type": "stream",
     "text": [
      "37 https://youtu.be/jz8Ts08O2lc&pp 폴로\n"
     ]
    },
    {
     "name": "stderr",
     "output_type": "stream",
     "text": [
      "  8%|▊         | 42/526 [00:45<08:00,  1.01it/s]"
     ]
    },
    {
     "name": "stdout",
     "output_type": "stream",
     "text": [
      "41 https://youtu.be/axpUW6fWrTI&pp 폴로\n"
     ]
    },
    {
     "name": "stderr",
     "output_type": "stream",
     "text": [
      "  8%|▊         | 43/526 [00:46<09:22,  1.16s/it]"
     ]
    },
    {
     "name": "stdout",
     "output_type": "stream",
     "text": [
      "42 https://youtu.be/Q8ueMKkflwQ&pp 폴로\n"
     ]
    },
    {
     "name": "stderr",
     "output_type": "stream",
     "text": [
      "  9%|▉         | 47/526 [00:50<07:30,  1.06it/s]"
     ]
    },
    {
     "name": "stdout",
     "output_type": "stream",
     "text": [
      "46 https://youtu.be/TuK456zrbeo&pp 폴로\n"
     ]
    },
    {
     "name": "stderr",
     "output_type": "stream",
     "text": [
      "  9%|▉         | 48/526 [00:51<08:04,  1.01s/it]"
     ]
    },
    {
     "name": "stdout",
     "output_type": "stream",
     "text": [
      "47 https://youtu.be/Cx1iD-KNJSU&pp 폴로\n"
     ]
    },
    {
     "name": "stderr",
     "output_type": "stream",
     "text": [
      "  9%|▉         | 49/526 [00:52<08:03,  1.01s/it]"
     ]
    },
    {
     "name": "stdout",
     "output_type": "stream",
     "text": [
      "48 https://youtu.be/7mdTxJtFsXE&pp 폴로\n"
     ]
    },
    {
     "name": "stderr",
     "output_type": "stream",
     "text": [
      " 10%|█         | 53/526 [00:54<05:37,  1.40it/s]"
     ]
    },
    {
     "name": "stdout",
     "output_type": "stream",
     "text": [
      "52 https://youtu.be/MCi5cFeQ71w&pp 폴로\n"
     ]
    },
    {
     "name": "stderr",
     "output_type": "stream",
     "text": [
      " 10%|█         | 54/526 [00:55<06:25,  1.22it/s]"
     ]
    },
    {
     "name": "stdout",
     "output_type": "stream",
     "text": [
      "53 https://youtu.be/d7hGZ8ZSdig&pp 폴로\n"
     ]
    },
    {
     "name": "stderr",
     "output_type": "stream",
     "text": [
      " 11%|█         | 56/526 [00:58<08:42,  1.11s/it]"
     ]
    },
    {
     "name": "stdout",
     "output_type": "stream",
     "text": [
      "55 https://youtu.be/UAu83zsxmiA&pp 폴로\n"
     ]
    },
    {
     "name": "stderr",
     "output_type": "stream",
     "text": [
      " 11%|█         | 57/526 [01:00<11:10,  1.43s/it]"
     ]
    },
    {
     "name": "stdout",
     "output_type": "stream",
     "text": [
      "56 https://youtu.be/WlDIGBxFxeY&pp 폴로\n"
     ]
    },
    {
     "name": "stderr",
     "output_type": "stream",
     "text": [
      " 11%|█         | 58/526 [01:02<13:10,  1.69s/it]"
     ]
    },
    {
     "name": "stdout",
     "output_type": "stream",
     "text": [
      "57 https://youtu.be/y0ml6O7_1Io&pp 폴로\n"
     ]
    },
    {
     "name": "stderr",
     "output_type": "stream",
     "text": [
      " 11%|█         | 59/526 [01:03<12:27,  1.60s/it]"
     ]
    },
    {
     "name": "stdout",
     "output_type": "stream",
     "text": [
      "58 https://youtu.be/7W3g9WVe7JY&t 폴로\n"
     ]
    },
    {
     "name": "stderr",
     "output_type": "stream",
     "text": [
      " 12%|█▏        | 63/526 [01:05<05:53,  1.31it/s]"
     ]
    },
    {
     "name": "stdout",
     "output_type": "stream",
     "text": [
      "62 https://youtu.be/FUnO4UJGQsE&pp 폴로\n"
     ]
    },
    {
     "name": "stderr",
     "output_type": "stream",
     "text": [
      " 12%|█▏        | 64/526 [01:06<05:48,  1.33it/s]"
     ]
    },
    {
     "name": "stdout",
     "output_type": "stream",
     "text": [
      "63 https://youtu.be/wppW7VZb8vw&pp 폴로\n"
     ]
    },
    {
     "name": "stderr",
     "output_type": "stream",
     "text": [
      " 12%|█▏        | 65/526 [01:07<06:02,  1.27it/s]"
     ]
    },
    {
     "name": "stdout",
     "output_type": "stream",
     "text": [
      "64 https://youtu.be/ViCGkivcTGY&pp 폴로\n"
     ]
    },
    {
     "name": "stderr",
     "output_type": "stream",
     "text": [
      " 13%|█▎        | 66/526 [01:08<06:51,  1.12it/s]"
     ]
    },
    {
     "name": "stdout",
     "output_type": "stream",
     "text": [
      "65 https://youtu.be/aCRismumI-Y&pp 폴로\n"
     ]
    },
    {
     "name": "stderr",
     "output_type": "stream",
     "text": [
      " 13%|█▎        | 70/526 [01:10<04:34,  1.66it/s]"
     ]
    },
    {
     "name": "stdout",
     "output_type": "stream",
     "text": [
      "69 https://youtu.be/iuFsHQM2l5U&pp 폴로\n"
     ]
    },
    {
     "name": "stderr",
     "output_type": "stream",
     "text": [
      " 13%|█▎        | 71/526 [01:11<04:51,  1.56it/s]"
     ]
    },
    {
     "name": "stdout",
     "output_type": "stream",
     "text": [
      "70 https://youtu.be/iHQgr208-LY&pp 폴로\n"
     ]
    },
    {
     "name": "stderr",
     "output_type": "stream",
     "text": [
      " 14%|█▎        | 72/526 [01:11<04:57,  1.52it/s]"
     ]
    },
    {
     "name": "stdout",
     "output_type": "stream",
     "text": [
      "71 https://youtu.be/qdEqBaxkfRA&pp 폴로\n"
     ]
    },
    {
     "name": "stderr",
     "output_type": "stream",
     "text": [
      " 14%|█▍        | 74/526 [01:13<05:33,  1.36it/s]"
     ]
    },
    {
     "name": "stdout",
     "output_type": "stream",
     "text": [
      "73 https://youtu.be/kw0r8R1FQlM&pp 폴로\n"
     ]
    },
    {
     "name": "stderr",
     "output_type": "stream",
     "text": [
      " 15%|█▍        | 78/526 [01:17<07:24,  1.01it/s]"
     ]
    },
    {
     "name": "stdout",
     "output_type": "stream",
     "text": [
      "78 https://youtu.be/Izlr37KVDqk&pp 폴로\n"
     ]
    },
    {
     "name": "stderr",
     "output_type": "stream",
     "text": [
      "\n",
      "  0%|          | 1/323 [00:00<02:19,  2.32it/s]"
     ]
    },
    {
     "name": "stdout",
     "output_type": "stream",
     "text": [
      "0 https://youtu.be/xbTIUETEhUM&pp 폴로 랄프로렌\n"
     ]
    },
    {
     "name": "stderr",
     "output_type": "stream",
     "text": [
      "  1%|          | 2/323 [00:00<02:33,  2.10it/s]"
     ]
    },
    {
     "name": "stdout",
     "output_type": "stream",
     "text": [
      "1 https://youtu.be/PBTlgVTuQVs&pp 폴로 랄프로렌\n"
     ]
    },
    {
     "name": "stderr",
     "output_type": "stream",
     "text": [
      "  1%|          | 3/323 [00:01<02:23,  2.23it/s]"
     ]
    },
    {
     "name": "stdout",
     "output_type": "stream",
     "text": [
      "2 https://youtu.be/i7WmGPuw-Bc&pp 폴로 랄프로렌\n"
     ]
    },
    {
     "name": "stderr",
     "output_type": "stream",
     "text": [
      "  1%|          | 4/323 [00:02<03:26,  1.55it/s]"
     ]
    },
    {
     "name": "stdout",
     "output_type": "stream",
     "text": [
      "3 https://youtu.be/fDS8aEif31M&pp 폴로 랄프로렌\n"
     ]
    },
    {
     "name": "stderr",
     "output_type": "stream",
     "text": [
      "  2%|▏         | 8/323 [00:05<04:24,  1.19it/s]"
     ]
    },
    {
     "name": "stdout",
     "output_type": "stream",
     "text": [
      "7 https://youtu.be/Jgrhnd0yWao&t 폴로 랄프로렌\n"
     ]
    },
    {
     "name": "stderr",
     "output_type": "stream",
     "text": [
      "  5%|▍         | 15/323 [00:10<05:00,  1.02it/s]"
     ]
    },
    {
     "name": "stdout",
     "output_type": "stream",
     "text": [
      "14 https://youtu.be/etqor2iEz6o&pp 폴로 랄프로렌\n"
     ]
    },
    {
     "name": "stderr",
     "output_type": "stream",
     "text": [
      "  5%|▍         | 16/323 [00:11<05:09,  1.01s/it]"
     ]
    },
    {
     "name": "stdout",
     "output_type": "stream",
     "text": [
      "15 https://youtu.be/2o8lXD-zO7E&pp 폴로 랄프로렌\n"
     ]
    },
    {
     "name": "stderr",
     "output_type": "stream",
     "text": [
      "  8%|▊         | 25/323 [00:17<04:06,  1.21it/s]"
     ]
    },
    {
     "name": "stdout",
     "output_type": "stream",
     "text": [
      "24 https://youtu.be/DIPWFV6X1WE&pp 폴로 랄프로렌\n"
     ]
    },
    {
     "name": "stderr",
     "output_type": "stream",
     "text": [
      "  8%|▊         | 26/323 [00:19<04:49,  1.03it/s]"
     ]
    },
    {
     "name": "stdout",
     "output_type": "stream",
     "text": [
      "25 https://youtu.be/gO4nbMYCiJI&pp 폴로 랄프로렌\n"
     ]
    },
    {
     "name": "stderr",
     "output_type": "stream",
     "text": [
      " 10%|▉         | 31/323 [00:23<05:01,  1.03s/it]"
     ]
    },
    {
     "name": "stdout",
     "output_type": "stream",
     "text": [
      "30 https://youtu.be/VsnmzIsDoTg&pp 폴로 랄프로렌\n"
     ]
    },
    {
     "name": "stderr",
     "output_type": "stream",
     "text": [
      " 10%|█         | 33/323 [00:25<04:19,  1.12it/s]"
     ]
    },
    {
     "name": "stdout",
     "output_type": "stream",
     "text": [
      "32 https://youtu.be/EljrY8SRJZ4&pp 폴로 랄프로렌\n"
     ]
    },
    {
     "name": "stderr",
     "output_type": "stream",
     "text": [
      " 11%|█▏        | 37/323 [00:27<03:35,  1.32it/s]"
     ]
    },
    {
     "name": "stdout",
     "output_type": "stream",
     "text": [
      "36 https://youtu.be/AbNBdnpuHGY&pp 폴로 랄프로렌\n"
     ]
    },
    {
     "name": "stderr",
     "output_type": "stream",
     "text": [
      " 13%|█▎        | 41/323 [00:31<05:39,  1.20s/it]"
     ]
    },
    {
     "name": "stdout",
     "output_type": "stream",
     "text": [
      "40 https://youtu.be/5WJg_YVsgtM&pp 폴로 랄프로렌\n"
     ]
    },
    {
     "name": "stderr",
     "output_type": "stream",
     "text": [
      " 13%|█▎        | 42/323 [00:33<06:44,  1.44s/it]"
     ]
    },
    {
     "name": "stdout",
     "output_type": "stream",
     "text": [
      "41 https://youtu.be/dogyJM2Z1Hc&pp 폴로 랄프로렌\n"
     ]
    },
    {
     "name": "stderr",
     "output_type": "stream",
     "text": [
      " 13%|█▎        | 43/323 [00:34<06:17,  1.35s/it]"
     ]
    },
    {
     "name": "stdout",
     "output_type": "stream",
     "text": [
      "42 https://youtu.be/JdhBdgJRsGI&pp 폴로 랄프로렌\n"
     ]
    },
    {
     "name": "stderr",
     "output_type": "stream",
     "text": [
      " 14%|█▍        | 46/323 [00:37<04:33,  1.01it/s]"
     ]
    },
    {
     "name": "stdout",
     "output_type": "stream",
     "text": [
      "45 https://youtu.be/EOyXXMcZH5o&pp 폴로 랄프로렌\n"
     ]
    },
    {
     "name": "stderr",
     "output_type": "stream",
     "text": [
      " 15%|█▍        | 47/323 [00:38<04:21,  1.05it/s]"
     ]
    },
    {
     "name": "stdout",
     "output_type": "stream",
     "text": [
      "46 https://youtu.be/ZBkId2wBUns&pp 폴로 랄프로렌\n"
     ]
    },
    {
     "name": "stderr",
     "output_type": "stream",
     "text": [
      " 17%|█▋        | 56/323 [00:41<02:17,  1.95it/s]"
     ]
    },
    {
     "name": "stdout",
     "output_type": "stream",
     "text": [
      "55 https://youtu.be/8mL8VE8YUlo&pp 폴로 랄프로렌\n"
     ]
    },
    {
     "name": "stderr",
     "output_type": "stream",
     "text": [
      " 19%|█▉        | 62/323 [00:45<02:56,  1.48it/s]"
     ]
    },
    {
     "name": "stdout",
     "output_type": "stream",
     "text": [
      "61 https://youtu.be/CSkfVqxF71I&pp 폴로 랄프로렌\n"
     ]
    },
    {
     "name": "stderr",
     "output_type": "stream",
     "text": [
      " 20%|█▉        | 63/323 [00:46<03:18,  1.31it/s]"
     ]
    },
    {
     "name": "stdout",
     "output_type": "stream",
     "text": [
      "62 https://youtu.be/g3MHneshvLk&pp 폴로 랄프로렌\n"
     ]
    },
    {
     "name": "stderr",
     "output_type": "stream",
     "text": [
      " 20%|█▉        | 64/323 [00:47<03:08,  1.37it/s]"
     ]
    },
    {
     "name": "stdout",
     "output_type": "stream",
     "text": [
      "63 https://youtu.be/y0ml6O7_1Io&pp 폴로 랄프로렌\n"
     ]
    },
    {
     "name": "stderr",
     "output_type": "stream",
     "text": [
      " 20%|██        | 66/323 [00:48<02:43,  1.57it/s]"
     ]
    },
    {
     "name": "stdout",
     "output_type": "stream",
     "text": [
      "65 https://youtu.be/tDe0-4qSUVI&pp 폴로 랄프로렌\n"
     ]
    },
    {
     "name": "stderr",
     "output_type": "stream",
     "text": [
      " 21%|██        | 68/323 [00:49<02:38,  1.61it/s]"
     ]
    },
    {
     "name": "stdout",
     "output_type": "stream",
     "text": [
      "67 https://youtu.be/9My4YJ0HabM&pp 폴로 랄프로렌\n"
     ]
    },
    {
     "name": "stderr",
     "output_type": "stream",
     "text": [
      " 22%|██▏       | 70/323 [00:50<02:22,  1.77it/s]"
     ]
    },
    {
     "name": "stdout",
     "output_type": "stream",
     "text": [
      "69 https://youtu.be/0AoEK2kbR-k&pp 폴로 랄프로렌\n"
     ]
    },
    {
     "name": "stderr",
     "output_type": "stream",
     "text": [
      " 23%|██▎       | 73/323 [00:52<03:00,  1.38it/s]"
     ]
    },
    {
     "name": "stdout",
     "output_type": "stream",
     "text": [
      "72 https://youtu.be/hfdmuSFQdR0&pp 폴로 랄프로렌\n"
     ]
    },
    {
     "name": "stderr",
     "output_type": "stream",
     "text": [
      " 24%|██▍       | 77/323 [00:55<02:54,  1.41it/s]"
     ]
    },
    {
     "name": "stdout",
     "output_type": "stream",
     "text": [
      "76 https://youtu.be/Ek2XInBnprg&pp 폴로 랄프로렌\n"
     ]
    },
    {
     "name": "stderr",
     "output_type": "stream",
     "text": [
      " 25%|██▍       | 80/323 [00:58<03:42,  1.09it/s]"
     ]
    },
    {
     "name": "stdout",
     "output_type": "stream",
     "text": [
      "79 https://youtu.be/ednJ6Tg7LuM&pp 폴로 랄프로렌\n"
     ]
    },
    {
     "name": "stderr",
     "output_type": "stream",
     "text": [
      " 26%|██▋       | 85/323 [01:00<02:24,  1.64it/s]"
     ]
    },
    {
     "name": "stdout",
     "output_type": "stream",
     "text": [
      "84 https://youtu.be/tP69_ZOEndM&pp 폴로 랄프로렌\n"
     ]
    },
    {
     "name": "stderr",
     "output_type": "stream",
     "text": [
      " 28%|██▊       | 92/323 [01:04<02:27,  1.56it/s]"
     ]
    },
    {
     "name": "stdout",
     "output_type": "stream",
     "text": [
      "91 https://youtu.be/kjT-dSFa1SA&pp 폴로 랄프로렌\n"
     ]
    },
    {
     "name": "stderr",
     "output_type": "stream",
     "text": [
      " 30%|██▉       | 96/323 [01:07<02:44,  1.38it/s]"
     ]
    },
    {
     "name": "stdout",
     "output_type": "stream",
     "text": [
      "95 https://youtu.be/0AqvmNsiNXc&pp 폴로 랄프로렌\n"
     ]
    },
    {
     "name": "stderr",
     "output_type": "stream",
     "text": [
      " 31%|███       | 99/323 [01:09<02:25,  1.54it/s]"
     ]
    },
    {
     "name": "stdout",
     "output_type": "stream",
     "text": [
      "98 https://youtu.be/da3EW_r9MuY&pp 폴로 랄프로렌\n"
     ]
    },
    {
     "name": "stderr",
     "output_type": "stream",
     "text": [
      " 32%|███▏      | 102/323 [01:11<02:55,  1.26it/s]"
     ]
    },
    {
     "name": "stdout",
     "output_type": "stream",
     "text": [
      "101 https://youtu.be/MvgYCKpzGIY&pp 폴로 랄프로렌\n"
     ]
    },
    {
     "name": "stderr",
     "output_type": "stream",
     "text": [
      " 33%|███▎      | 108/323 [01:13<01:54,  1.87it/s]"
     ]
    },
    {
     "name": "stdout",
     "output_type": "stream",
     "text": [
      "107 https://youtu.be/jz8Ts08O2lc&pp 폴로 랄프로렌\n"
     ]
    },
    {
     "name": "stderr",
     "output_type": "stream",
     "text": [
      " 34%|███▎      | 109/323 [01:14<02:03,  1.73it/s]"
     ]
    },
    {
     "name": "stdout",
     "output_type": "stream",
     "text": [
      "108 https://youtu.be/ZxKSzt_yCPU&pp 폴로 랄프로렌\n"
     ]
    },
    {
     "name": "stderr",
     "output_type": "stream",
     "text": [
      " 34%|███▍      | 110/323 [01:15<02:06,  1.68it/s]"
     ]
    },
    {
     "name": "stdout",
     "output_type": "stream",
     "text": [
      "109 https://youtu.be/Lzsqhawoqys&pp 폴로 랄프로렌\n"
     ]
    },
    {
     "name": "stderr",
     "output_type": "stream",
     "text": [
      " 35%|███▍      | 112/323 [01:16<02:27,  1.43it/s]"
     ]
    },
    {
     "name": "stdout",
     "output_type": "stream",
     "text": [
      "111 https://youtu.be/S3R4Pk3FrkI&pp 폴로 랄프로렌\n"
     ]
    },
    {
     "name": "stderr",
     "output_type": "stream",
     "text": [
      " 36%|███▌      | 115/323 [01:17<01:39,  2.10it/s]"
     ]
    },
    {
     "name": "stdout",
     "output_type": "stream",
     "text": [
      "114 https://youtu.be/cfBf3Ff3DaI&pp 폴로 랄프로렌\n"
     ]
    },
    {
     "name": "stderr",
     "output_type": "stream",
     "text": [
      " 36%|███▌      | 116/323 [01:18<01:36,  2.14it/s]"
     ]
    },
    {
     "name": "stdout",
     "output_type": "stream",
     "text": [
      "115 https://youtu.be/D3atKQxi4uk&pp 폴로 랄프로렌\n"
     ]
    },
    {
     "name": "stderr",
     "output_type": "stream",
     "text": [
      " 37%|███▋      | 119/323 [01:19<01:15,  2.69it/s]"
     ]
    },
    {
     "name": "stdout",
     "output_type": "stream",
     "text": [
      "118 https://youtu.be/0KMTb0tWhkk&pp 폴로 랄프로렌\n"
     ]
    },
    {
     "name": "stderr",
     "output_type": "stream",
     "text": [
      " 38%|███▊      | 122/323 [01:20<01:44,  1.92it/s]"
     ]
    },
    {
     "name": "stdout",
     "output_type": "stream",
     "text": [
      "121 https://youtu.be/kw0r8R1FQlM&pp 폴로 랄프로렌\n"
     ]
    },
    {
     "name": "stderr",
     "output_type": "stream",
     "text": [
      " 38%|███▊      | 124/323 [01:21<01:43,  1.92it/s]"
     ]
    },
    {
     "name": "stdout",
     "output_type": "stream",
     "text": [
      "123 https://youtu.be/bney8Cs4tkY&pp 폴로 랄프로렌\n"
     ]
    },
    {
     "name": "stderr",
     "output_type": "stream",
     "text": [
      " 44%|████▍     | 143/323 [01:29<01:12,  2.49it/s]"
     ]
    },
    {
     "name": "stdout",
     "output_type": "stream",
     "text": [
      "142 https://youtu.be/_mOIk4zNzdU&pp 폴로 랄프로렌\n"
     ]
    },
    {
     "name": "stderr",
     "output_type": "stream",
     "text": [
      " 46%|████▌     | 148/323 [01:31<00:56,  3.07it/s]"
     ]
    },
    {
     "name": "stdout",
     "output_type": "stream",
     "text": [
      "146 https://youtu.be/1GKNRo_D5wk&pp 폴로 랄프로렌\n"
     ]
    },
    {
     "name": "stderr",
     "output_type": "stream",
     "text": [
      " 47%|████▋     | 152/323 [01:34<02:16,  1.25it/s]"
     ]
    },
    {
     "name": "stdout",
     "output_type": "stream",
     "text": [
      "151 https://youtu.be/-5w2WoU2M6E&pp 폴로 랄프로렌\n"
     ]
    },
    {
     "name": "stderr",
     "output_type": "stream",
     "text": [
      " 48%|████▊     | 155/323 [01:36<02:20,  1.20it/s]"
     ]
    },
    {
     "name": "stdout",
     "output_type": "stream",
     "text": [
      "154 https://youtu.be/S3R4Pk3FrkI&pp 폴로 랄프로렌\n"
     ]
    },
    {
     "name": "stderr",
     "output_type": "stream",
     "text": [
      " 49%|████▊     | 157/323 [01:38<02:15,  1.23it/s]"
     ]
    },
    {
     "name": "stdout",
     "output_type": "stream",
     "text": [
      "156 https://youtu.be/uCbvxOzA0qg&pp 폴로 랄프로렌\n"
     ]
    },
    {
     "name": "stderr",
     "output_type": "stream",
     "text": [
      " 52%|█████▏    | 169/323 [01:44<02:21,  1.09it/s]"
     ]
    },
    {
     "name": "stdout",
     "output_type": "stream",
     "text": [
      "168 https://youtu.be/uo07fRXrvZM&pp 폴로 랄프로렌\n"
     ]
    },
    {
     "name": "stderr",
     "output_type": "stream",
     "text": [
      " 53%|█████▎    | 172/323 [01:46<01:51,  1.35it/s]"
     ]
    },
    {
     "name": "stdout",
     "output_type": "stream",
     "text": [
      "171 https://youtu.be/fu-2OwisJhU&pp 폴로 랄프로렌\n"
     ]
    },
    {
     "name": "stderr",
     "output_type": "stream",
     "text": [
      " 56%|█████▌    | 181/323 [01:51<01:36,  1.47it/s]"
     ]
    },
    {
     "name": "stdout",
     "output_type": "stream",
     "text": [
      "180 https://youtu.be/y8JDW7GeiWA&pp 폴로 랄프로렌\n"
     ]
    },
    {
     "name": "stderr",
     "output_type": "stream",
     "text": [
      " 56%|█████▌    | 181/323 [01:53<01:28,  1.60it/s]"
     ]
    },
    {
     "name": "stdout",
     "output_type": "stream",
     "text": [
      "181 https://youtu.be/tfJjb12oLcY&pp 폴로 랄프로렌\n"
     ]
    },
    {
     "name": "stderr",
     "output_type": "stream",
     "text": [
      "\n",
      "  0%|          | 1/401 [00:01<09:56,  1.49s/it]"
     ]
    },
    {
     "name": "stdout",
     "output_type": "stream",
     "text": [
      "0 https://youtu.be/HR2oPpDGcNk&pp 아디다스\n"
     ]
    },
    {
     "name": "stderr",
     "output_type": "stream",
     "text": [
      "  1%|          | 5/401 [00:04<05:13,  1.26it/s]"
     ]
    },
    {
     "name": "stdout",
     "output_type": "stream",
     "text": [
      "4 https://youtu.be/17bJ0q7KyJE&pp 아디다스\n"
     ]
    },
    {
     "name": "stderr",
     "output_type": "stream",
     "text": [
      "  1%|▏         | 6/401 [00:05<05:59,  1.10it/s]"
     ]
    },
    {
     "name": "stdout",
     "output_type": "stream",
     "text": [
      "5 https://youtu.be/COz8wv9U9B0&pp 아디다스\n"
     ]
    },
    {
     "name": "stderr",
     "output_type": "stream",
     "text": [
      "  2%|▏         | 7/401 [00:06<06:01,  1.09it/s]"
     ]
    },
    {
     "name": "stdout",
     "output_type": "stream",
     "text": [
      "6 https://youtu.be/elB4hnVtv8c&pp 아디다스\n"
     ]
    },
    {
     "name": "stderr",
     "output_type": "stream",
     "text": [
      "  2%|▏         | 9/401 [00:07<04:52,  1.34it/s]"
     ]
    },
    {
     "name": "stdout",
     "output_type": "stream",
     "text": [
      "8 https://youtu.be/IIPl0ndBB8w&pp 아디다스\n"
     ]
    },
    {
     "name": "stderr",
     "output_type": "stream",
     "text": [
      "  3%|▎         | 11/401 [00:09<05:02,  1.29it/s]"
     ]
    },
    {
     "name": "stdout",
     "output_type": "stream",
     "text": [
      "10 https://youtu.be/D-tHKIKykko&pp 아디다스\n"
     ]
    },
    {
     "name": "stderr",
     "output_type": "stream",
     "text": [
      "  3%|▎         | 13/401 [00:10<04:31,  1.43it/s]"
     ]
    },
    {
     "name": "stdout",
     "output_type": "stream",
     "text": [
      "12 https://youtu.be/KxBI0w1nf_Y&pp 아디다스\n"
     ]
    },
    {
     "name": "stderr",
     "output_type": "stream",
     "text": [
      "  3%|▎         | 14/401 [00:11<04:43,  1.37it/s]"
     ]
    },
    {
     "name": "stdout",
     "output_type": "stream",
     "text": [
      "13 https://youtu.be/RaW5zjnGMAE&pp 아디다스\n"
     ]
    },
    {
     "name": "stderr",
     "output_type": "stream",
     "text": [
      "  4%|▎         | 15/401 [00:11<04:59,  1.29it/s]"
     ]
    },
    {
     "name": "stdout",
     "output_type": "stream",
     "text": [
      "14 https://youtu.be/dhiTSfpnrhQ&t 아디다스\n"
     ]
    },
    {
     "name": "stderr",
     "output_type": "stream",
     "text": [
      "  4%|▍         | 16/401 [00:13<05:32,  1.16it/s]"
     ]
    },
    {
     "name": "stdout",
     "output_type": "stream",
     "text": [
      "15 https://youtu.be/1ZmAP5FqfjM&pp 아디다스\n"
     ]
    },
    {
     "name": "stderr",
     "output_type": "stream",
     "text": [
      "  4%|▍         | 17/401 [00:14<06:20,  1.01it/s]"
     ]
    },
    {
     "name": "stdout",
     "output_type": "stream",
     "text": [
      "16 https://youtu.be/4ejk7orL194&pp 아디다스\n"
     ]
    },
    {
     "name": "stderr",
     "output_type": "stream",
     "text": [
      "  4%|▍         | 18/401 [00:15<07:15,  1.14s/it]"
     ]
    },
    {
     "name": "stdout",
     "output_type": "stream",
     "text": [
      "17 https://youtu.be/UG0To9X7ceM&pp 아디다스\n"
     ]
    },
    {
     "name": "stderr",
     "output_type": "stream",
     "text": [
      "  5%|▍         | 19/401 [00:16<06:39,  1.05s/it]"
     ]
    },
    {
     "name": "stdout",
     "output_type": "stream",
     "text": [
      "18 https://youtu.be/QDp6sf9lak8&pp 아디다스\n"
     ]
    },
    {
     "name": "stderr",
     "output_type": "stream",
     "text": [
      "  5%|▌         | 21/401 [00:18<07:03,  1.12s/it]"
     ]
    },
    {
     "name": "stdout",
     "output_type": "stream",
     "text": [
      "20 https://youtu.be/xa75-gff1Wg&pp 아디다스\n"
     ]
    },
    {
     "name": "stderr",
     "output_type": "stream",
     "text": [
      "  6%|▌         | 23/401 [00:20<06:08,  1.03it/s]"
     ]
    },
    {
     "name": "stdout",
     "output_type": "stream",
     "text": [
      "22 https://youtu.be/V0uVmZmQpwA&pp 아디다스\n"
     ]
    },
    {
     "name": "stderr",
     "output_type": "stream",
     "text": [
      "  6%|▌         | 24/401 [00:21<05:43,  1.10it/s]"
     ]
    },
    {
     "name": "stdout",
     "output_type": "stream",
     "text": [
      "23 https://youtu.be/KNdpSWzH9NU&pp 아디다스\n"
     ]
    },
    {
     "name": "stderr",
     "output_type": "stream",
     "text": [
      "  6%|▌         | 25/401 [00:22<05:52,  1.07it/s]"
     ]
    },
    {
     "name": "stdout",
     "output_type": "stream",
     "text": [
      "24 https://youtu.be/-ukyFQMR_4k&pp 아디다스\n"
     ]
    },
    {
     "name": "stderr",
     "output_type": "stream",
     "text": [
      "  6%|▋         | 26/401 [00:23<06:32,  1.05s/it]"
     ]
    },
    {
     "name": "stdout",
     "output_type": "stream",
     "text": [
      "25 https://youtu.be/RaW5zjnGMAE&pp 아디다스\n"
     ]
    },
    {
     "name": "stderr",
     "output_type": "stream",
     "text": [
      "  7%|▋         | 27/401 [00:25<09:19,  1.49s/it]"
     ]
    },
    {
     "name": "stdout",
     "output_type": "stream",
     "text": [
      "26 https://youtu.be/9QhTdBpVW6E&t 아디다스\n"
     ]
    },
    {
     "name": "stderr",
     "output_type": "stream",
     "text": [
      "  7%|▋         | 30/401 [00:28<06:40,  1.08s/it]"
     ]
    },
    {
     "name": "stdout",
     "output_type": "stream",
     "text": [
      "29 https://youtu.be/7gKSI0x1ZVY&pp 아디다스\n"
     ]
    },
    {
     "name": "stderr",
     "output_type": "stream",
     "text": [
      "  8%|▊         | 32/401 [00:30<05:51,  1.05it/s]"
     ]
    },
    {
     "name": "stdout",
     "output_type": "stream",
     "text": [
      "31 https://youtu.be/h-YQnBdIBIc&pp 아디다스\n"
     ]
    },
    {
     "name": "stderr",
     "output_type": "stream",
     "text": [
      "  9%|▊         | 35/401 [00:31<04:12,  1.45it/s]"
     ]
    },
    {
     "name": "stdout",
     "output_type": "stream",
     "text": [
      "34 https://youtu.be/-oo0qR8caiw&pp 아디다스\n"
     ]
    },
    {
     "name": "stderr",
     "output_type": "stream",
     "text": [
      "  9%|▉         | 37/401 [00:33<05:05,  1.19it/s]"
     ]
    },
    {
     "name": "stdout",
     "output_type": "stream",
     "text": [
      "36 https://youtu.be/j2IFjbM0Lp0&pp 아디다스\n"
     ]
    },
    {
     "name": "stderr",
     "output_type": "stream",
     "text": [
      "  9%|▉         | 38/401 [00:34<05:56,  1.02it/s]"
     ]
    },
    {
     "name": "stdout",
     "output_type": "stream",
     "text": [
      "37 https://youtu.be/M2T0Pyfmml8&pp 아디다스\n"
     ]
    },
    {
     "name": "stderr",
     "output_type": "stream",
     "text": [
      " 10%|▉         | 40/401 [00:36<06:19,  1.05s/it]"
     ]
    },
    {
     "name": "stdout",
     "output_type": "stream",
     "text": [
      "39 https://youtu.be/OwpQ3Yby2Wo&pp 아디다스\n"
     ]
    },
    {
     "name": "stderr",
     "output_type": "stream",
     "text": [
      " 10%|█         | 41/401 [00:38<06:42,  1.12s/it]"
     ]
    },
    {
     "name": "stdout",
     "output_type": "stream",
     "text": [
      "40 https://youtu.be/vbTcDCOZneE&pp 아디다스\n"
     ]
    },
    {
     "name": "stderr",
     "output_type": "stream",
     "text": [
      " 10%|█         | 42/401 [00:39<06:28,  1.08s/it]"
     ]
    },
    {
     "name": "stdout",
     "output_type": "stream",
     "text": [
      "41 https://youtu.be/lyb5IDOjqA0&pp 아디다스\n"
     ]
    },
    {
     "name": "stderr",
     "output_type": "stream",
     "text": [
      " 11%|█         | 45/401 [00:40<04:28,  1.32it/s]"
     ]
    },
    {
     "name": "stdout",
     "output_type": "stream",
     "text": [
      "44 https://youtu.be/VVLukgG7HGg&t 아디다스\n"
     ]
    },
    {
     "name": "stderr",
     "output_type": "stream",
     "text": [
      " 12%|█▏        | 50/401 [00:44<04:31,  1.29it/s]"
     ]
    },
    {
     "name": "stdout",
     "output_type": "stream",
     "text": [
      "49 https://youtu.be/U3KIERgu7hA&pp 아디다스\n"
     ]
    },
    {
     "name": "stderr",
     "output_type": "stream",
     "text": [
      " 13%|█▎        | 53/401 [00:47<06:40,  1.15s/it]"
     ]
    },
    {
     "name": "stdout",
     "output_type": "stream",
     "text": [
      "52 https://youtu.be/JVfxw-IFVt4&pp 아디다스\n"
     ]
    },
    {
     "name": "stderr",
     "output_type": "stream",
     "text": [
      " 13%|█▎        | 54/401 [00:48<06:44,  1.16s/it]"
     ]
    },
    {
     "name": "stdout",
     "output_type": "stream",
     "text": [
      "53 https://youtu.be/8t0YcNM0eS4&pp 아디다스\n"
     ]
    },
    {
     "name": "stderr",
     "output_type": "stream",
     "text": [
      " 14%|█▎        | 55/401 [00:50<06:59,  1.21s/it]"
     ]
    },
    {
     "name": "stdout",
     "output_type": "stream",
     "text": [
      "54 https://youtu.be/5mq7y1E8jEY&pp 아디다스\n"
     ]
    },
    {
     "name": "stderr",
     "output_type": "stream",
     "text": [
      " 14%|█▍        | 57/401 [00:51<06:08,  1.07s/it]"
     ]
    },
    {
     "name": "stdout",
     "output_type": "stream",
     "text": [
      "56 https://youtu.be/6tzHNvjMHoM&pp 아디다스\n"
     ]
    },
    {
     "name": "stderr",
     "output_type": "stream",
     "text": [
      " 14%|█▍        | 58/401 [00:53<06:18,  1.10s/it]"
     ]
    },
    {
     "name": "stdout",
     "output_type": "stream",
     "text": [
      "57 https://youtu.be/7jpBJqyQ0eY&pp 아디다스\n"
     ]
    },
    {
     "name": "stderr",
     "output_type": "stream",
     "text": [
      " 15%|█▍        | 59/401 [00:53<05:55,  1.04s/it]"
     ]
    },
    {
     "name": "stdout",
     "output_type": "stream",
     "text": [
      "58 https://youtu.be/VqSaetJ9u_4&pp 아디다스\n"
     ]
    },
    {
     "name": "stderr",
     "output_type": "stream",
     "text": [
      " 16%|█▌        | 63/401 [00:57<06:24,  1.14s/it]"
     ]
    },
    {
     "name": "stdout",
     "output_type": "stream",
     "text": [
      "62 https://youtu.be/HxiakaffUqI&pp 아디다스\n"
     ]
    },
    {
     "name": "stderr",
     "output_type": "stream",
     "text": [
      " 16%|█▌        | 65/401 [01:00<06:23,  1.14s/it]"
     ]
    },
    {
     "name": "stdout",
     "output_type": "stream",
     "text": [
      "64 https://youtu.be/dvwFCaTlyA4&pp 아디다스\n"
     ]
    },
    {
     "name": "stderr",
     "output_type": "stream",
     "text": [
      " 16%|█▋        | 66/401 [01:01<06:42,  1.20s/it]"
     ]
    },
    {
     "name": "stdout",
     "output_type": "stream",
     "text": [
      "65 https://youtu.be/cbNjEfhBY1o&pp 아디다스\n"
     ]
    },
    {
     "name": "stderr",
     "output_type": "stream",
     "text": [
      " 19%|█▊        | 75/401 [01:08<05:08,  1.06it/s]"
     ]
    },
    {
     "name": "stdout",
     "output_type": "stream",
     "text": [
      "74 https://youtu.be/Qy_qvD62Z6g&pp 아디다스\n"
     ]
    },
    {
     "name": "stderr",
     "output_type": "stream",
     "text": [
      " 19%|█▉        | 77/401 [01:10<04:25,  1.22it/s]"
     ]
    },
    {
     "name": "stdout",
     "output_type": "stream",
     "text": [
      "76 https://youtu.be/OG4xFONb6pk&pp 아디다스\n"
     ]
    },
    {
     "name": "stderr",
     "output_type": "stream",
     "text": [
      " 19%|█▉        | 78/401 [01:11<04:53,  1.10it/s]"
     ]
    },
    {
     "name": "stdout",
     "output_type": "stream",
     "text": [
      "77 https://youtu.be/UQfqBEfJs3A&pp 아디다스\n"
     ]
    },
    {
     "name": "stderr",
     "output_type": "stream",
     "text": [
      " 20%|█▉        | 79/401 [01:12<04:50,  1.11it/s]"
     ]
    },
    {
     "name": "stdout",
     "output_type": "stream",
     "text": [
      "78 https://youtu.be/-qVqA4exHkM&pp 아디다스\n"
     ]
    },
    {
     "name": "stderr",
     "output_type": "stream",
     "text": [
      " 20%|██        | 82/401 [01:13<03:30,  1.52it/s]"
     ]
    },
    {
     "name": "stdout",
     "output_type": "stream",
     "text": [
      "81 https://youtu.be/7FadwxyvqmA&t 아디다스\n"
     ]
    },
    {
     "name": "stderr",
     "output_type": "stream",
     "text": [
      " 21%|██        | 83/401 [01:14<03:56,  1.35it/s]"
     ]
    },
    {
     "name": "stdout",
     "output_type": "stream",
     "text": [
      "82 https://youtu.be/Ih0DZZTfuQw&pp 아디다스\n"
     ]
    },
    {
     "name": "stderr",
     "output_type": "stream",
     "text": [
      " 21%|██        | 84/401 [01:16<06:41,  1.27s/it]"
     ]
    },
    {
     "name": "stdout",
     "output_type": "stream",
     "text": [
      "83 https://youtu.be/rDIB5NnRQW8&t 아디다스\n"
     ]
    },
    {
     "name": "stderr",
     "output_type": "stream",
     "text": [
      " 21%|██        | 85/401 [01:18<06:56,  1.32s/it]"
     ]
    },
    {
     "name": "stdout",
     "output_type": "stream",
     "text": [
      "84 https://youtu.be/byoVDNLsraw&pp 아디다스\n"
     ]
    },
    {
     "name": "stderr",
     "output_type": "stream",
     "text": [
      " 22%|██▏       | 89/401 [01:20<04:04,  1.27it/s]"
     ]
    },
    {
     "name": "stdout",
     "output_type": "stream",
     "text": [
      "88 https://youtu.be/sKy2zoncek8&pp 아디다스\n"
     ]
    },
    {
     "name": "stderr",
     "output_type": "stream",
     "text": [
      " 23%|██▎       | 91/401 [01:23<05:09,  1.00it/s]"
     ]
    },
    {
     "name": "stdout",
     "output_type": "stream",
     "text": [
      "90 https://youtu.be/5mq7y1E8jEY&pp 아디다스\n"
     ]
    },
    {
     "name": "stderr",
     "output_type": "stream",
     "text": [
      " 24%|██▎       | 95/401 [01:26<04:37,  1.10it/s]"
     ]
    },
    {
     "name": "stdout",
     "output_type": "stream",
     "text": [
      "94 https://youtu.be/6tzHNvjMHoM&pp 아디다스\n"
     ]
    },
    {
     "name": "stderr",
     "output_type": "stream",
     "text": [
      " 24%|██▍       | 96/401 [01:28<04:40,  1.09it/s]"
     ]
    },
    {
     "name": "stdout",
     "output_type": "stream",
     "text": [
      "96 https://youtu.be/_wI7FTBUTl0&pp 아디다스\n"
     ]
    },
    {
     "name": "stderr",
     "output_type": "stream",
     "text": [
      "\n",
      "  0%|          | 1/486 [00:01<08:23,  1.04s/it]"
     ]
    },
    {
     "name": "stdout",
     "output_type": "stream",
     "text": [
      "0 https://youtu.be/6Wa16ZT-KB0&t 마뗑킴\n"
     ]
    },
    {
     "name": "stderr",
     "output_type": "stream",
     "text": [
      "  0%|          | 2/486 [00:01<07:36,  1.06it/s]"
     ]
    },
    {
     "name": "stdout",
     "output_type": "stream",
     "text": [
      "1 https://youtu.be/rzCE6ezCYBw&pp 마뗑킴\n"
     ]
    },
    {
     "name": "stderr",
     "output_type": "stream",
     "text": [
      "  1%|          | 3/486 [00:02<07:06,  1.13it/s]"
     ]
    },
    {
     "name": "stdout",
     "output_type": "stream",
     "text": [
      "2 https://youtu.be/JsEo1A46728&pp 마뗑킴\n"
     ]
    },
    {
     "name": "stderr",
     "output_type": "stream",
     "text": [
      "  1%|          | 6/486 [00:05<07:10,  1.12it/s]"
     ]
    },
    {
     "name": "stdout",
     "output_type": "stream",
     "text": [
      "5 https://youtu.be/IjZVpEX3XJw&pp 마뗑킴\n"
     ]
    },
    {
     "name": "stderr",
     "output_type": "stream",
     "text": [
      "  2%|▏         | 8/486 [00:06<06:46,  1.18it/s]"
     ]
    },
    {
     "name": "stdout",
     "output_type": "stream",
     "text": [
      "7 https://youtu.be/68Dnv_N251I&pp 마뗑킴\n"
     ]
    },
    {
     "name": "stderr",
     "output_type": "stream",
     "text": [
      "  2%|▏         | 9/486 [00:07<07:13,  1.10it/s]"
     ]
    },
    {
     "name": "stdout",
     "output_type": "stream",
     "text": [
      "8 https://youtu.be/yEaPOYAs8m0&pp 마뗑킴\n"
     ]
    },
    {
     "name": "stderr",
     "output_type": "stream",
     "text": [
      "  2%|▏         | 10/486 [00:08<07:45,  1.02it/s]"
     ]
    },
    {
     "name": "stdout",
     "output_type": "stream",
     "text": [
      "9 https://youtu.be/-0TArh73H8c&pp 마뗑킴\n"
     ]
    },
    {
     "name": "stderr",
     "output_type": "stream",
     "text": [
      "  2%|▏         | 12/486 [00:10<06:57,  1.13it/s]"
     ]
    },
    {
     "name": "stdout",
     "output_type": "stream",
     "text": [
      "11 https://youtu.be/hSS1vIRXNbw&pp 마뗑킴\n"
     ]
    },
    {
     "name": "stderr",
     "output_type": "stream",
     "text": [
      "  3%|▎         | 16/486 [00:13<07:30,  1.04it/s]"
     ]
    },
    {
     "name": "stdout",
     "output_type": "stream",
     "text": [
      "15 https://youtu.be/qkNpwsl2D7A&pp 마뗑킴\n"
     ]
    },
    {
     "name": "stderr",
     "output_type": "stream",
     "text": [
      "  4%|▍         | 21/486 [00:17<06:12,  1.25it/s]"
     ]
    },
    {
     "name": "stdout",
     "output_type": "stream",
     "text": [
      "20 https://youtu.be/MVdfVgJW8Ow&pp 마뗑킴\n"
     ]
    },
    {
     "name": "stderr",
     "output_type": "stream",
     "text": [
      "  5%|▍         | 24/486 [00:19<06:21,  1.21it/s]"
     ]
    },
    {
     "name": "stdout",
     "output_type": "stream",
     "text": [
      "23 https://youtu.be/SduCSM6RdqU&pp 마뗑킴\n"
     ]
    },
    {
     "name": "stderr",
     "output_type": "stream",
     "text": [
      "  5%|▌         | 25/486 [00:21<09:06,  1.19s/it]"
     ]
    },
    {
     "name": "stdout",
     "output_type": "stream",
     "text": [
      "24 https://youtu.be/CTk9_VFdQIc&pp 마뗑킴\n"
     ]
    },
    {
     "name": "stderr",
     "output_type": "stream",
     "text": [
      "  6%|▌         | 27/486 [00:23<07:47,  1.02s/it]"
     ]
    },
    {
     "name": "stdout",
     "output_type": "stream",
     "text": [
      "26 https://youtu.be/DryhmXPhj60&pp 마뗑킴\n"
     ]
    },
    {
     "name": "stderr",
     "output_type": "stream",
     "text": [
      "  7%|▋         | 36/486 [00:27<04:03,  1.85it/s]"
     ]
    },
    {
     "name": "stdout",
     "output_type": "stream",
     "text": [
      "35 https://youtu.be/HTwqTergcb8&pp 마뗑킴\n"
     ]
    },
    {
     "name": "stderr",
     "output_type": "stream",
     "text": [
      "  8%|▊         | 37/486 [00:28<04:26,  1.68it/s]"
     ]
    },
    {
     "name": "stdout",
     "output_type": "stream",
     "text": [
      "36 https://youtu.be/Dn2EvQRKNSA&pp 마뗑킴\n"
     ]
    },
    {
     "name": "stderr",
     "output_type": "stream",
     "text": [
      "  8%|▊         | 38/486 [00:29<06:21,  1.17it/s]"
     ]
    },
    {
     "name": "stdout",
     "output_type": "stream",
     "text": [
      "37 https://youtu.be/gMbQkhHVsWs&pp 마뗑킴\n"
     ]
    },
    {
     "name": "stderr",
     "output_type": "stream",
     "text": [
      "  8%|▊         | 39/486 [00:32<10:27,  1.40s/it]"
     ]
    },
    {
     "name": "stdout",
     "output_type": "stream",
     "text": [
      "38 https://youtu.be/5Ne0H77uj-U&pp 마뗑킴\n"
     ]
    },
    {
     "name": "stderr",
     "output_type": "stream",
     "text": [
      "  8%|▊         | 41/486 [00:33<07:52,  1.06s/it]"
     ]
    },
    {
     "name": "stdout",
     "output_type": "stream",
     "text": [
      "40 https://youtu.be/tVwoUzdqcpc&pp 마뗑킴\n"
     ]
    },
    {
     "name": "stderr",
     "output_type": "stream",
     "text": [
      "  9%|▉         | 43/486 [00:34<06:08,  1.20it/s]"
     ]
    },
    {
     "name": "stdout",
     "output_type": "stream",
     "text": [
      "42 https://youtu.be/QkuiX2htnkI&t 마뗑킴\n"
     ]
    },
    {
     "name": "stderr",
     "output_type": "stream",
     "text": [
      "  9%|▉         | 44/486 [00:35<06:19,  1.16it/s]"
     ]
    },
    {
     "name": "stdout",
     "output_type": "stream",
     "text": [
      "43 https://youtu.be/Im8qupISTXI&pp 마뗑킴\n"
     ]
    },
    {
     "name": "stderr",
     "output_type": "stream",
     "text": [
      "  9%|▉         | 46/486 [00:36<05:26,  1.35it/s]"
     ]
    },
    {
     "name": "stdout",
     "output_type": "stream",
     "text": [
      "45 https://youtu.be/gS9Ige0yYso&pp 마뗑킴\n"
     ]
    },
    {
     "name": "stderr",
     "output_type": "stream",
     "text": [
      " 10%|▉         | 48/486 [00:38<04:46,  1.53it/s]"
     ]
    },
    {
     "name": "stdout",
     "output_type": "stream",
     "text": [
      "47 https://youtu.be/xF_Qo6gS0-8&pp 마뗑킴\n"
     ]
    },
    {
     "name": "stderr",
     "output_type": "stream",
     "text": [
      " 11%|█         | 52/486 [00:39<04:01,  1.80it/s]"
     ]
    },
    {
     "name": "stdout",
     "output_type": "stream",
     "text": [
      "51 https://youtu.be/9r1MGddT9T8&pp 마뗑킴\n"
     ]
    },
    {
     "name": "stderr",
     "output_type": "stream",
     "text": [
      " 11%|█         | 54/486 [00:40<04:05,  1.76it/s]"
     ]
    },
    {
     "name": "stdout",
     "output_type": "stream",
     "text": [
      "53 https://youtu.be/pTSNo593Q78&pp 마뗑킴\n"
     ]
    },
    {
     "name": "stderr",
     "output_type": "stream",
     "text": [
      " 12%|█▏        | 59/486 [00:43<03:59,  1.78it/s]"
     ]
    },
    {
     "name": "stdout",
     "output_type": "stream",
     "text": [
      "58 https://youtu.be/qjqZPS0SAYs&pp 마뗑킴\n"
     ]
    },
    {
     "name": "stderr",
     "output_type": "stream",
     "text": [
      " 14%|█▍        | 69/486 [00:47<03:19,  2.09it/s]"
     ]
    },
    {
     "name": "stdout",
     "output_type": "stream",
     "text": [
      "68 https://youtu.be/HTwqTergcb8&pp 마뗑킴\n"
     ]
    },
    {
     "name": "stderr",
     "output_type": "stream",
     "text": [
      " 15%|█▍        | 72/486 [00:49<03:55,  1.76it/s]"
     ]
    },
    {
     "name": "stdout",
     "output_type": "stream",
     "text": [
      "71 https://youtu.be/jqdxycccRMM&pp 마뗑킴\n"
     ]
    },
    {
     "name": "stderr",
     "output_type": "stream",
     "text": [
      " 16%|█▋        | 80/486 [00:56<07:15,  1.07s/it]"
     ]
    },
    {
     "name": "stdout",
     "output_type": "stream",
     "text": [
      "79 https://youtu.be/HBa3SA5oGC8&pp 마뗑킴\n"
     ]
    },
    {
     "name": "stderr",
     "output_type": "stream",
     "text": [
      " 17%|█▋        | 82/486 [00:59<08:11,  1.22s/it]"
     ]
    },
    {
     "name": "stdout",
     "output_type": "stream",
     "text": [
      "81 https://youtu.be/nM7cOxDv4G0&pp 마뗑킴\n"
     ]
    },
    {
     "name": "stderr",
     "output_type": "stream",
     "text": [
      " 19%|█▉        | 92/486 [01:07<06:16,  1.05it/s]"
     ]
    },
    {
     "name": "stdout",
     "output_type": "stream",
     "text": [
      "91 https://youtu.be/lMqY9bcPuQg&pp 마뗑킴\n"
     ]
    },
    {
     "name": "stderr",
     "output_type": "stream",
     "text": [
      " 20%|█▉        | 96/486 [01:10<05:54,  1.10it/s]"
     ]
    },
    {
     "name": "stdout",
     "output_type": "stream",
     "text": [
      "95 https://youtu.be/_NxanGzCP-A&pp 마뗑킴\n"
     ]
    },
    {
     "name": "stderr",
     "output_type": "stream",
     "text": [
      " 20%|██        | 99/486 [01:14<07:18,  1.13s/it]"
     ]
    },
    {
     "name": "stdout",
     "output_type": "stream",
     "text": [
      "98 https://youtu.be/_HwAmtp7Vak&pp 마뗑킴\n"
     ]
    },
    {
     "name": "stderr",
     "output_type": "stream",
     "text": [
      " 21%|██        | 100/486 [01:16<08:39,  1.35s/it]"
     ]
    },
    {
     "name": "stdout",
     "output_type": "stream",
     "text": [
      "99 https://youtu.be/UABRKvKjGYk&t 마뗑킴\n"
     ]
    },
    {
     "name": "stderr",
     "output_type": "stream",
     "text": [
      " 21%|██▏       | 104/486 [01:20<07:47,  1.22s/it]"
     ]
    },
    {
     "name": "stdout",
     "output_type": "stream",
     "text": [
      "103 https://youtu.be/W8bs_jVBpcg&pp 마뗑킴\n"
     ]
    },
    {
     "name": "stderr",
     "output_type": "stream",
     "text": [
      " 22%|██▏       | 106/486 [01:22<07:10,  1.13s/it]"
     ]
    },
    {
     "name": "stdout",
     "output_type": "stream",
     "text": [
      "105 https://youtu.be/tPh6V-DxCAQ&pp 마뗑킴\n"
     ]
    },
    {
     "name": "stderr",
     "output_type": "stream",
     "text": [
      " 22%|██▏       | 108/486 [01:24<07:08,  1.13s/it]"
     ]
    },
    {
     "name": "stdout",
     "output_type": "stream",
     "text": [
      "107 https://youtu.be/jG_lgnKsIBw&pp 마뗑킴\n"
     ]
    },
    {
     "name": "stderr",
     "output_type": "stream",
     "text": [
      " 22%|██▏       | 109/486 [01:26<07:46,  1.24s/it]"
     ]
    },
    {
     "name": "stdout",
     "output_type": "stream",
     "text": [
      "108 https://youtu.be/xSGoZgDeqDA&pp 마뗑킴\n"
     ]
    },
    {
     "name": "stderr",
     "output_type": "stream",
     "text": [
      " 25%|██▍       | 121/486 [01:32<03:17,  1.85it/s]"
     ]
    },
    {
     "name": "stdout",
     "output_type": "stream",
     "text": [
      "120 https://youtu.be/5NN9AKlx8nE&pp 마뗑킴\n"
     ]
    },
    {
     "name": "stderr",
     "output_type": "stream",
     "text": [
      " 25%|██▌       | 123/486 [01:33<04:01,  1.51it/s]"
     ]
    },
    {
     "name": "stdout",
     "output_type": "stream",
     "text": [
      "122 https://youtu.be/sTyRxac7Lmc&pp 마뗑킴\n"
     ]
    },
    {
     "name": "stderr",
     "output_type": "stream",
     "text": [
      " 26%|██▌       | 127/486 [01:36<04:00,  1.49it/s]"
     ]
    },
    {
     "name": "stdout",
     "output_type": "stream",
     "text": [
      "126 https://youtu.be/9KEos-AfwnE&pp 마뗑킴\n"
     ]
    },
    {
     "name": "stderr",
     "output_type": "stream",
     "text": [
      " 27%|██▋       | 129/486 [01:37<03:51,  1.55it/s]"
     ]
    },
    {
     "name": "stdout",
     "output_type": "stream",
     "text": [
      "128 https://youtu.be/BLOodUou0YA&pp 마뗑킴\n"
     ]
    },
    {
     "name": "stderr",
     "output_type": "stream",
     "text": [
      " 27%|██▋       | 132/486 [01:38<03:35,  1.65it/s]"
     ]
    },
    {
     "name": "stdout",
     "output_type": "stream",
     "text": [
      "131 https://youtu.be/6ZcUzvSafks&pp 마뗑킴\n"
     ]
    },
    {
     "name": "stderr",
     "output_type": "stream",
     "text": [
      " 27%|██▋       | 133/486 [01:39<03:57,  1.48it/s]"
     ]
    },
    {
     "name": "stdout",
     "output_type": "stream",
     "text": [
      "132 https://youtu.be/-HSHG6hG06k&pp 마뗑킴\n"
     ]
    },
    {
     "name": "stderr",
     "output_type": "stream",
     "text": [
      " 28%|██▊       | 134/486 [01:40<04:19,  1.36it/s]"
     ]
    },
    {
     "name": "stdout",
     "output_type": "stream",
     "text": [
      "133 https://youtu.be/D1l7LuC6560&pp 마뗑킴\n"
     ]
    },
    {
     "name": "stderr",
     "output_type": "stream",
     "text": [
      " 28%|██▊       | 137/486 [01:42<04:02,  1.44it/s]"
     ]
    },
    {
     "name": "stdout",
     "output_type": "stream",
     "text": [
      "136 https://youtu.be/hh415xnL_Jg&pp 마뗑킴\n"
     ]
    },
    {
     "name": "stderr",
     "output_type": "stream",
     "text": [
      " 28%|██▊       | 138/486 [01:43<04:15,  1.36it/s]"
     ]
    },
    {
     "name": "stdout",
     "output_type": "stream",
     "text": [
      "137 https://youtu.be/ETVfRoFBvXs&pp 마뗑킴\n"
     ]
    },
    {
     "name": "stderr",
     "output_type": "stream",
     "text": [
      " 29%|██▊       | 139/486 [01:44<04:29,  1.29it/s]"
     ]
    },
    {
     "name": "stdout",
     "output_type": "stream",
     "text": [
      "138 https://youtu.be/J4rlfq30nvI&pp 마뗑킴\n"
     ]
    },
    {
     "name": "stderr",
     "output_type": "stream",
     "text": [
      " 29%|██▉       | 140/486 [01:45<04:41,  1.23it/s]"
     ]
    },
    {
     "name": "stdout",
     "output_type": "stream",
     "text": [
      "139 https://youtu.be/sW7mEfmUYM4&pp 마뗑킴\n"
     ]
    },
    {
     "name": "stderr",
     "output_type": "stream",
     "text": [
      " 30%|██▉       | 145/486 [01:47<03:20,  1.70it/s]"
     ]
    },
    {
     "name": "stdout",
     "output_type": "stream",
     "text": [
      "144 https://youtu.be/gNOmq8MZhrk&pp 마뗑킴\n"
     ]
    },
    {
     "name": "stderr",
     "output_type": "stream",
     "text": [
      " 30%|███       | 147/486 [01:49<04:11,  1.35it/s]"
     ]
    },
    {
     "name": "stdout",
     "output_type": "stream",
     "text": [
      "147 https://youtu.be/fM4f6rvu_mg&pp 마뗑킴\n"
     ]
    },
    {
     "name": "stderr",
     "output_type": "stream",
     "text": [
      "\n"
     ]
    }
   ],
   "source": [
    "# # 크롬 드라이버 옵션 설정 : 지정하면 크롬 아예 안보임\n",
    "# chrome_options = webdriver.ChromeOptions()\n",
    "# chrome_options.add_argument('--headless')\n",
    "# chrome_options.add_argument(\"--disable-gpu\")\n",
    "# chrome_options.add_argument('--no-sandbox')\n",
    "# chrome_options.add_argument('--disable-dev-shm-usage')\n",
    "#driver = webdriver.Chrome() # 크롬 옵션 지정 시 options=chrome_options 추가\n",
    "\n",
    "video_list = []\n",
    "include_list = ['폴로', '폴로 랄프로렌', '아디다스', '마뗑킴']\n",
    "\n",
    "for k in range(len(include_list)):\n",
    "    \n",
    "    try:\n",
    "        search_keyword = include_list[k]\n",
    "        url = 'https://www.youtube.com/results?search_query='+search_keyword\n",
    "        my_driver.get(url)\n",
    "        \n",
    "        time.sleep(2)\n",
    "\n",
    "        my_driver.find_element(By.CSS_SELECTOR,\n",
    "                                '#filter-button > ytd-button-renderer > yt-button-shape > button > yt-touch-feedback-shape > div > div.yt-spec-touch-feedback-shape__fill').click()\n",
    "        time.sleep(2)\n",
    "        \n",
    "        # 올해로 필터링\n",
    "        my_driver.find_element(By.XPATH, '/html/body/ytd-app/ytd-popup-container/tp-yt-paper-dialog/ytd-search-filter-options-dialog-renderer/div[2]/ytd-search-filter-group-renderer[1]/ytd-search-filter-renderer[5]/a').click()\n",
    "        time.sleep(2)\n",
    "\n",
    "        last_height = my_driver.execute_script(\"return document.documentElement.scrollHeight\")\n",
    "\n",
    "        while True:\n",
    "            my_driver.execute_script(\"window.scrollTo(0, document.documentElement.scrollHeight);\")\n",
    "            time.sleep(1)\n",
    "\n",
    "            new_height = my_driver.execute_script(\"return document.documentElement.scrollHeight\")\n",
    "            if new_height == last_height:\n",
    "                break\n",
    "\n",
    "            last_height = new_height\n",
    "\n",
    "        pageString = my_driver.page_source\n",
    "        soup = BeautifulSoup(pageString, features='html.parser')\n",
    "\n",
    "        video_count = 0\n",
    "        for i in tqdm(range(len(soup.find_all('ytd-video-renderer',{'class':'style-scope ytd-item-section-renderer'})))): \n",
    "        #soup.find_all('ytd-video-meta-block', 'style-scope ytd-video-renderer byline-separated'))):\n",
    "\n",
    "            # 쇼츠\n",
    "            if 'shorts' in soup.find_all('a',{'id':'video-title'})[i].get('href'):\n",
    "                #video = 'https://youtu.be/'+ soup.find_all('a',{'id':'video-title'})[i].get('href').split('/')[2]\n",
    "                #video_list.append(video)\n",
    "                continue\n",
    "            \n",
    "            # 롱폼\n",
    "            else :\n",
    "                video = 'https://youtu.be/'+ soup.find_all('a',{'id':'video-title'})[i].get('href').split('=')[1]\n",
    "                video_list.append(video)\n",
    "                video_count += 1\n",
    "\n",
    "            print(i, video, search_keyword)\n",
    "\n",
    "            if video_count >= 50:\n",
    "                break\n",
    "\n",
    "    except:\n",
    "        print('오류')\n",
    "        \n",
    "driver.quit()"
   ]
  },
  {
   "cell_type": "code",
   "execution_count": 3,
   "metadata": {},
   "outputs": [
    {
     "data": {
      "text/plain": [
       "200"
      ]
     },
     "execution_count": 3,
     "metadata": {},
     "output_type": "execute_result"
    }
   ],
   "source": [
    "len(video_list)"
   ]
  },
  {
   "cell_type": "code",
   "execution_count": 14,
   "metadata": {},
   "outputs": [],
   "source": [
    "video_data = {\n",
    "    \"thumbnail\": [],\n",
    "    \"title\": [],\n",
    "    \"channel\": [],\n",
    "    \"channel_id\": [],\n",
    "    \"date\": [],\n",
    "    \"view\": [],\n",
    "    \"sub\": []\n",
    "}\n",
    "\n",
    "def scrape_videos(video_list):\n",
    "    for i in tqdm(range(len(video_list))):\n",
    "        driver.get(video_list[i])\n",
    "        time.sleep(3)\n",
    "\n",
    "        page_source = driver.page_source\n",
    "        soup = BeautifulSoup(page_source, 'html.parser')\n",
    "\n",
    "        # 썸네일 링크\n",
    "        try:\n",
    "            thumbnail = 'https://img.youtube.com/vi/' + video_list[i].split('youtu.be/')[1].replace('&pp', '') + '/sddefault.jpg'\n",
    "        except:\n",
    "            thumbnail = '썸네일 크롤링 오류'\n",
    "        video_data[\"thumbnail\"].append(thumbnail)\n",
    "        \n",
    "        # 제목\n",
    "        try:\n",
    "            title = soup.find_all('yt-formatted-string', attrs={'class': 'ytd-watch-metadata'})[0].text\n",
    "        except:\n",
    "            title = '제목 크롤링 오류'\n",
    "        video_data[\"title\"].append(title)\n",
    "        \n",
    "        # 채널명\n",
    "        try:\n",
    "            channel = soup.find_all('yt-formatted-string', {'id': 'text'})[0].text\n",
    "        except:\n",
    "            channel = '채널명 크롤링 오류'\n",
    "        video_data[\"channel\"].append(channel)\n",
    "        \n",
    "        # 채널ID\n",
    "        try:\n",
    "            channel_id = str(soup).split(',\"channelId\":\"')[1].split('\",\"')[0]\n",
    "        except:\n",
    "            channel_id = '채널ID 크롤링 오류'\n",
    "        video_data[\"channel_id\"].append(channel_id)\n",
    "        \n",
    "        # 업로드 일자 : 수정 필요 \n",
    "        try:\n",
    "            date = soup.find_all('yt-formatted-string', attrs={'class': 'style-scope ytd-video-primary-info-renderer'})[1].text\n",
    "        except:\n",
    "            date = '업로드 일자 크롤링 오류'\n",
    "        video_data[\"date\"].append(date)\n",
    "        \n",
    "        # 조회수\n",
    "        try:\n",
    "            view = soup.find('yt-formatted-string', {'id': 'info'}).text.split('조회수')[1].strip().split('회')[0].strip()\n",
    "        except:\n",
    "            view = '조회수 크롤링 오류'\n",
    "        video_data[\"view\"].append(view)\n",
    "        \n",
    "        # 구독자 수\n",
    "        try:\n",
    "            sub = soup.find_all('yt-formatted-string', {'id': 'owner-sub-count'})[0].text.split('구독자')[1].strip()\n",
    "        except:\n",
    "            sub = '구독자 수 크롤링 오류'\n",
    "        video_data[\"sub\"].append(sub)\n",
    "        \n",
    "        print(i, video_list[i], thumbnail, title, channel, channel_id, date, view, sub)"
   ]
  },
  {
   "cell_type": "code",
   "execution_count": 15,
   "metadata": {},
   "outputs": [
    {
     "name": "stderr",
     "output_type": "stream",
     "text": [
      "  2%|▏         | 1/50 [00:15<12:47, 15.67s/it]"
     ]
    },
    {
     "name": "stdout",
     "output_type": "stream",
     "text": [
      "0 https://youtu.be/WFahF9s5aK4&pp https://img.youtube.com/vi/WFahF9s5aK4/sddefault.jpg 폴로 지겨운거 압니다. [라코스테 이야기] 포트배드Fashion Magazine UCWRDpplrYog3AVXAFwnbdjQ 2024. 6. 8. 1만 2.16만명\n"
     ]
    },
    {
     "name": "stderr",
     "output_type": "stream",
     "text": [
      "  4%|▍         | 2/50 [00:28<11:17, 14.12s/it]"
     ]
    },
    {
     "name": "stdout",
     "output_type": "stream",
     "text": [
      "1 https://youtu.be/xbTIUETEhUM&pp https://img.youtube.com/vi/xbTIUETEhUM/sddefault.jpg 지금, 이 순간 영원히 기록될 T1의 여름 T1 X POLO RALPH LAUREN (티원, FAKER, ZEUS, ONER, GUMAYUSI, KERIA,폴로 랄프 로렌) GQ KOREA UC7QX2YavsZmS7Se3ZKOsCLQ 2024. 5. 30. 3.8만 45.3만명\n"
     ]
    },
    {
     "name": "stderr",
     "output_type": "stream",
     "text": [
      "  6%|▌         | 3/50 [00:38<09:38, 12.32s/it]"
     ]
    },
    {
     "name": "stdout",
     "output_type": "stream",
     "text": [
      "2 https://youtu.be/XbKEj4JVmOc&pp https://img.youtube.com/vi/XbKEj4JVmOc/sddefault.jpg [하와이Vlog] 폴로 160만원 질렀습니다 👚 폴로저렴하게사는법 | 와이켈레 아울렛 | 전세계 매장 가능 | 폴로쿠폰 | 하와이 쇼핑하울 | 폴로하울 | 폴로추천상품  UC9_KJcD9gK1lZirJdH7rdww 최초 공개: 2023. 11. 8. 1.1만 869명\n"
     ]
    },
    {
     "name": "stderr",
     "output_type": "stream",
     "text": [
      "  8%|▊         | 4/50 [00:48<08:42, 11.35s/it]"
     ]
    },
    {
     "name": "stdout",
     "output_type": "stream",
     "text": [
      "3 https://youtu.be/ZXdhLzzbvHo&pp https://img.youtube.com/vi/ZXdhLzzbvHo/sddefault.jpg '여름 내내 입기 좋은' 폴로셔츠 & 버뮤다팬츠 추천 호호시 UCTdMHmzV9J5gihbNrnuqEvA 2024. 6. 7. 1.1만 15.3만명\n"
     ]
    },
    {
     "name": "stderr",
     "output_type": "stream",
     "text": [
      " 10%|█         | 5/50 [00:58<08:09, 10.88s/it]"
     ]
    },
    {
     "name": "stdout",
     "output_type": "stream",
     "text": [
      "4 https://youtu.be/PBTlgVTuQVs&pp https://img.youtube.com/vi/PBTlgVTuQVs/sddefault.jpg 마트에서 파는 폴로 랄프로렌 정품 가품 확인 (나이키, POLO, 타미... 모두 정품일까?) b급TV UCrvhkEt3YDJ4D2Cav6BhcxA 2023. 12. 17. 1.4만 3.53만명\n"
     ]
    },
    {
     "name": "stderr",
     "output_type": "stream",
     "text": [
      " 12%|█▏        | 6/50 [01:06<07:13,  9.85s/it]"
     ]
    },
    {
     "name": "stdout",
     "output_type": "stream",
     "text": [
      "5 https://youtu.be/CSkfVqxF71I&pp https://img.youtube.com/vi/CSkfVqxF71I/sddefault.jpg 여기도 가품이야? 폴로는 왜 이렇게 가품이 많을까? 헬프맨 UChOCmROp3jzyMFbTeqZOiFg 2024. 1. 26. 6.6천 2.31만명\n"
     ]
    },
    {
     "name": "stderr",
     "output_type": "stream",
     "text": [
      " 14%|█▍        | 7/50 [01:14<06:31,  9.09s/it]"
     ]
    },
    {
     "name": "stdout",
     "output_type": "stream",
     "text": [
      "6 https://youtu.be/EljrY8SRJZ4&pp https://img.youtube.com/vi/EljrY8SRJZ4/sddefault.jpg [ENG CC] 👕이것의 원조는 XXX이 아니다⁉️ | 폴로 셔츠 탄생 비하인드 썰👄 슈스스TV UC5W3wHMAkp6b_8HrhReP5aQ 2024. 5. 23. 3.4만 52만명\n"
     ]
    },
    {
     "name": "stderr",
     "output_type": "stream",
     "text": [
      " 16%|█▌        | 8/50 [01:21<06:00,  8.58s/it]"
     ]
    },
    {
     "name": "stdout",
     "output_type": "stream",
     "text": [
      "7 https://youtu.be/i7WmGPuw-Bc&pp https://img.youtube.com/vi/i7WmGPuw-Bc/sddefault.jpg 천년만년 입는 폴로 아이템. 폴로에서 이거는 필수템! 셔츠 위주 추천 배사임당BAESAIMDANG UC9HqGIG0Bj8yB77dUJ-Eoxw 2024. 4. 21. 4.6만 6.06만명\n"
     ]
    },
    {
     "name": "stderr",
     "output_type": "stream",
     "text": [
      " 18%|█▊        | 9/50 [01:29<05:42,  8.36s/it]"
     ]
    },
    {
     "name": "stdout",
     "output_type": "stream",
     "text": [
      "8 https://youtu.be/fDS8aEif31M&pp https://img.youtube.com/vi/fDS8aEif31M/sddefault.jpg 폴로 랄프로렌 가품 확실한 구별법 (폴로 정품 짭 판별) b급TV UCrvhkEt3YDJ4D2Cav6BhcxA 2024. 1. 10. 1.4만 3.53만명\n"
     ]
    },
    {
     "name": "stderr",
     "output_type": "stream",
     "text": [
      " 20%|██        | 10/50 [01:37<05:32,  8.31s/it]"
     ]
    },
    {
     "name": "stdout",
     "output_type": "stream",
     "text": [
      "9 https://youtu.be/yMwlT1k7pGU&pp https://img.youtube.com/vi/yMwlT1k7pGU/sddefault.jpg 폴로, 유니클로 없습니다. 진짜 입을만한 반팔 셔츠는 따로 있습니다. Gonzo Tv UC_J0aurzzUe7YmsEhan0KVA 2024. 6. 14. 1만 10.8만명\n"
     ]
    },
    {
     "name": "stderr",
     "output_type": "stream",
     "text": [
      " 22%|██▏       | 11/50 [01:45<05:14,  8.07s/it]"
     ]
    },
    {
     "name": "stdout",
     "output_type": "stream",
     "text": [
      "10 https://youtu.be/etqor2iEz6o&pp https://img.youtube.com/vi/etqor2iEz6o/sddefault.jpg 우리가 폴로에 진심인 \"진짜\" 이유 오늘부터 회계사 UClhPqabyOHBxJzMkQ7k-pxg 2024. 1. 24. 1만 5.54만명\n"
     ]
    },
    {
     "name": "stderr",
     "output_type": "stream",
     "text": [
      " 24%|██▍       | 12/50 [01:55<05:30,  8.70s/it]"
     ]
    },
    {
     "name": "stdout",
     "output_type": "stream",
     "text": [
      "11 https://youtu.be/VsnmzIsDoTg&pp https://img.youtube.com/vi/VsnmzIsDoTg/sddefault.jpg [small talk long walk #325] 폴로 랄프로렌 블루라벨을 수집한다면?! 수박 겉핥기 UCrYRihqBAdmjlJMa1wV2Xcw 2024. 5. 15. 1.4천 7천명\n"
     ]
    },
    {
     "name": "stderr",
     "output_type": "stream",
     "text": [
      " 26%|██▌       | 13/50 [02:03<05:12,  8.44s/it]"
     ]
    },
    {
     "name": "stdout",
     "output_type": "stream",
     "text": [
      "12 https://youtu.be/XZ6SbLdshrc&pp https://img.youtube.com/vi/XZ6SbLdshrc/sddefault.jpg 결국 한 벌 더 샀다. 폴로 린넨셔츠 임대리님 남자패션&트렌드 UCZCcPrDDB629XQpaMFhsyfg 2024. 5. 24. 1.5천 3.7천명\n"
     ]
    },
    {
     "name": "stderr",
     "output_type": "stream",
     "text": [
      " 28%|██▊       | 14/50 [02:13<05:19,  8.88s/it]"
     ]
    },
    {
     "name": "stdout",
     "output_type": "stream",
     "text": [
      "13 https://youtu.be/v1wbKRSBLtQ&pp https://img.youtube.com/vi/v1wbKRSBLtQ/sddefault.jpg 폴로 셔츠 핏 종류와 모델 추천, 스타일링 팁 그리고 역사 feat. 여름 패션 필수템 용훈남ㅣ슬기로운 의생활 UCpFT5Iq8E8uSRorpCarDG4g 2024. 6. 9. 8.5천 5.18천명\n"
     ]
    },
    {
     "name": "stderr",
     "output_type": "stream",
     "text": [
      " 30%|███       | 15/50 [02:20<04:59,  8.56s/it]"
     ]
    },
    {
     "name": "stdout",
     "output_type": "stream",
     "text": [
      "14 https://youtu.be/5rYScVX4sAU&pp https://img.youtube.com/vi/5rYScVX4sAU/sddefault.jpg 😎 제가 찐추천하는 반팔티 8장 소개합니다! (*광고없음) | 기본 브랜드 티셔츠.. 폴로,가니, 스투시, 나이키 등등.... 러브솔 UCy3Dp6QP6bQiB7dwsBZEgwQ 2024. 6. 16. 8,650 11.7만명\n"
     ]
    },
    {
     "name": "stderr",
     "output_type": "stream",
     "text": [
      " 32%|███▏      | 16/50 [02:28<04:45,  8.39s/it]"
     ]
    },
    {
     "name": "stdout",
     "output_type": "stream",
     "text": [
      "15 https://youtu.be/dXo-V5sqqeA&pp https://img.youtube.com/vi/dXo-V5sqqeA/sddefault.jpg 이번주 폴로만 입기 가능[셔츠 l 반바지 l 치노팬츠 l 블루종 l 스웨이드자켓 l 반팔셔츠] 보통남자들의 옷장 UCuc4IJ2Sw5PZgzyJjFY9vNQ 2023. 8. 15. 8.1천 4.12만명\n"
     ]
    },
    {
     "name": "stderr",
     "output_type": "stream",
     "text": [
      " 34%|███▍      | 17/50 [02:40<05:04,  9.23s/it]"
     ]
    },
    {
     "name": "stdout",
     "output_type": "stream",
     "text": [
      "16 https://youtu.be/R3DSR21MXCk&t https://img.youtube.com/vi/R3DSR21MXCk&t/sddefault.jpg 👖워크웨어 끝판왕! RRL 희귀템 싹다 입어 보았습니다!(RRL, 랄프로렌 세컨 핸즈샵)테이스터 션  Taster Shawn UCT_2f_yrfXE_-P0gUXkzhWw 2024. 3. 5. 6만 1.96만명\n"
     ]
    },
    {
     "name": "stderr",
     "output_type": "stream",
     "text": [
      " 36%|███▌      | 18/50 [02:50<05:04,  9.50s/it]"
     ]
    },
    {
     "name": "stdout",
     "output_type": "stream",
     "text": [
      "17 https://youtu.be/Jgrhnd0yWao&pp https://img.youtube.com/vi/Jgrhnd0yWao/sddefault.jpg 올드머니 필수 브랜드들🧐 : 금수저 스타일? 폴로, 드파운드, bau by bride and you, 하나보, 미우미우 등 유리아YuRia UC00DJ04oplqj4IUUB5vSwZw 2023. 6. 23. 34만 24.5만명\n"
     ]
    },
    {
     "name": "stderr",
     "output_type": "stream",
     "text": [
      " 38%|███▊      | 19/50 [02:54<04:10,  8.07s/it]"
     ]
    },
    {
     "name": "stdout",
     "output_type": "stream",
     "text": [
      "18 https://youtu.be/tBCstCyhL2U&t https://img.youtube.com/vi/tBCstCyhL2U&t/sddefault.jpg 제목 크롤링 오류 채널명 크롤링 오류 UCJdZej-O_M69bB4M6aiiLcw 업로드 일자 크롤링 오류 조회수 크롤링 오류 구독자 수 크롤링 오류\n"
     ]
    },
    {
     "name": "stderr",
     "output_type": "stream",
     "text": [
      " 40%|████      | 20/50 [03:05<04:27,  8.91s/it]"
     ]
    },
    {
     "name": "stdout",
     "output_type": "stream",
     "text": [
      "19 https://youtu.be/g3MHneshvLk&pp https://img.youtube.com/vi/g3MHneshvLk/sddefault.jpg 폴로 정가품을 구별하는 가장 간단한 방법 포트배드Fashion Magazine UCWRDpplrYog3AVXAFwnbdjQ 2023. 8. 28. 2.1만 2.16만명\n"
     ]
    },
    {
     "name": "stderr",
     "output_type": "stream",
     "text": [
      " 42%|████▏     | 21/50 [03:12<03:59,  8.26s/it]"
     ]
    },
    {
     "name": "stdout",
     "output_type": "stream",
     "text": [
      "20 https://youtu.be/Kjibw8coOCI&pp https://img.youtube.com/vi/Kjibw8coOCI/sddefault.jpg 🇺🇸 미국 폴로 최신가격 (23년 9월) 남자의류-  미국 아울렛 쇼핑 / 현지 가격은 얼마나 할까? POLO OUTLET 캘리킴 CaliKim UCVRFZAzXvE_hfETVbKB3ooQ 2023. 9. 19. 7.7천 2.78천명\n"
     ]
    },
    {
     "name": "stderr",
     "output_type": "stream",
     "text": [
      " 44%|████▍     | 22/50 [03:20<03:50,  8.25s/it]"
     ]
    },
    {
     "name": "stdout",
     "output_type": "stream",
     "text": [
      "21 https://youtu.be/Izlr37KVDqk&pp https://img.youtube.com/vi/Izlr37KVDqk/sddefault.jpg 폭스바겐 폴로 Volkswagen Polo 인제스피디움 [트랙주행] 이민재 고갯마루 Summit Corsa Gruppo UC4ulpGYm1cZvLOu68YN30XA 2024. 5. 22. 6천 2.9만명\n"
     ]
    },
    {
     "name": "stderr",
     "output_type": "stream",
     "text": [
      " 46%|████▌     | 23/50 [03:28<03:34,  7.95s/it]"
     ]
    },
    {
     "name": "stdout",
     "output_type": "stream",
     "text": [
      "22 https://youtu.be/2RF59jvQZrQ&pp https://img.youtube.com/vi/2RF59jvQZrQ/sddefault.jpg [COVER HIGHLIGHTS] 폴로 랄프 로렌과 윈터의 첫 만남. 봄이니까. DAZED KOREA UCNM1fP42FFhNkHngPMCiljw 2024. 2. 24. 1.1만 12.4만명\n"
     ]
    },
    {
     "name": "stderr",
     "output_type": "stream",
     "text": [
      " 48%|████▊     | 24/50 [03:35<03:26,  7.92s/it]"
     ]
    },
    {
     "name": "stdout",
     "output_type": "stream",
     "text": [
      "23 https://youtu.be/wppW7VZb8vw&pp https://img.youtube.com/vi/wppW7VZb8vw/sddefault.jpg 중고차 [구해줘카즈] 무시할 수 없는 소형차! 폭스바겐 폴로! 여성 구독자님 첫차구매 출고후기! 중고차 구해줘카즈 UCCRqjkldNAmheMKC7GinZfQ 2024. 6. 16. 697 1.28만명\n"
     ]
    },
    {
     "name": "stderr",
     "output_type": "stream",
     "text": [
      " 50%|█████     | 25/50 [03:45<03:30,  8.42s/it]"
     ]
    },
    {
     "name": "stdout",
     "output_type": "stream",
     "text": [
      "24 https://youtu.be/KZaYoL1UyZ8&pp https://img.youtube.com/vi/KZaYoL1UyZ8/sddefault.jpg [어바웃 뉴욕] 블랙프라이데이 오픈런 실제로 가보니 / 미국 폴로와 한국 폴로 가격 비교 / 블랙프라이데이의 유래 / 연말 소비의 가늠자 블프 매경 월가월부 UCIipmgxpUxDmPP-ma3Ahvbw 2023. 11. 28. 9.3천 28.4만명\n"
     ]
    },
    {
     "name": "stderr",
     "output_type": "stream",
     "text": [
      " 52%|█████▏    | 26/50 [03:55<03:31,  8.80s/it]"
     ]
    },
    {
     "name": "stdout",
     "output_type": "stream",
     "text": [
      "25 https://youtu.be/wIBeLl9xINY&pp https://img.youtube.com/vi/wIBeLl9xINY/sddefault.jpg 아직도 폴로셔츠 입으세요? 지금 사면 5년 뒤에도 입을 수 있는  셔츠 브랜드 5가지 추천 Gonzo Tv UC_J0aurzzUe7YmsEhan0KVA 2023. 8. 20. 54만 10.8만명\n"
     ]
    },
    {
     "name": "stderr",
     "output_type": "stream",
     "text": [
      " 54%|█████▍    | 27/50 [04:04<03:25,  8.96s/it]"
     ]
    },
    {
     "name": "stdout",
     "output_type": "stream",
     "text": [
      "26 https://youtu.be/0AoEK2kbR-k&pp https://img.youtube.com/vi/0AoEK2kbR-k/sddefault.jpg 🎯SNS에서 자꾸 물어봐서 가져왔다. 최근 자주 사용하는 여름 패션 아이템 12가지 | 아식스, 포터, 노스페이스, 폴로 랄프로렌, 리바이스, 지샥 오늘의 주우재 UCw-kXdzxMdMdLNI0ZlFFbmA 2023. 7. 21. 64만 114만명\n"
     ]
    },
    {
     "name": "stderr",
     "output_type": "stream",
     "text": [
      " 56%|█████▌    | 28/50 [04:13<03:19,  9.06s/it]"
     ]
    },
    {
     "name": "stdout",
     "output_type": "stream",
     "text": [
      "27 https://youtu.be/gO4nbMYCiJI&pp https://img.youtube.com/vi/gO4nbMYCiJI/sddefault.jpg 🇺🇸 미국 폴로 최신가격 (23년 9월) 여자의류-  미국 아울렛 쇼핑 / 가격은 얼마나 저렴할까? POLO OUTLET 캘리킴 CaliKim UCVRFZAzXvE_hfETVbKB3ooQ 2023. 9. 22. 5.8천 2.78천명\n"
     ]
    },
    {
     "name": "stderr",
     "output_type": "stream",
     "text": [
      " 58%|█████▊    | 29/50 [04:23<03:11,  9.10s/it]"
     ]
    },
    {
     "name": "stdout",
     "output_type": "stream",
     "text": [
      "28 https://youtu.be/rdDMpWMvzdY&pp https://img.youtube.com/vi/rdDMpWMvzdY/sddefault.jpg 남자들은 이런 폴로 셔츠를 한 번 입지 않으면 여자들이 당신을 얼마나 좋아하는지 영원히 모릅니다! AAAAzzzzzzhh807 UCR3VAeOaRNk-z4Jm1qBjHGg 2024. 5. 15. 58만 5천명\n"
     ]
    },
    {
     "name": "stderr",
     "output_type": "stream",
     "text": [
      " 60%|██████    | 30/50 [04:34<03:14,  9.74s/it]"
     ]
    },
    {
     "name": "stdout",
     "output_type": "stream",
     "text": [
      "29 https://youtu.be/jz8Ts08O2lc&pp https://img.youtube.com/vi/jz8Ts08O2lc/sddefault.jpg 랄프로렌 폴로 미국 공홈 세일 언박싱😃🛍 허니스킨 UC-7WL4zuKJLrzOIWaeLq8cg 2024. 5. 13. 745 388명\n"
     ]
    },
    {
     "name": "stderr",
     "output_type": "stream",
     "text": [
      " 62%|██████▏   | 31/50 [04:39<02:39,  8.41s/it]"
     ]
    },
    {
     "name": "stdout",
     "output_type": "stream",
     "text": [
      "30 https://youtu.be/axpUW6fWrTI&pp https://img.youtube.com/vi/axpUW6fWrTI/sddefault.jpg 제목 크롤링 오류 채널명 크롤링 오류 UCJSBa7exUxGA3ZNoWEEx4lw 업로드 일자 크롤링 오류 조회수 크롤링 오류 구독자 수 크롤링 오류\n"
     ]
    },
    {
     "name": "stderr",
     "output_type": "stream",
     "text": [
      " 64%|██████▍   | 32/50 [04:47<02:29,  8.30s/it]"
     ]
    },
    {
     "name": "stdout",
     "output_type": "stream",
     "text": [
      "31 https://youtu.be/Q8ueMKkflwQ&pp https://img.youtube.com/vi/Q8ueMKkflwQ/sddefault.jpg 신나는 하와이 와이켈레 아울렛쇼핑 (폴로, 코치, 타미, 켈빈) 신혼여행 좋아~~ 끼리코 UCsYdvHJJVWMjmcxYXDsldiA 2023. 12. 20. 7천 9명\n"
     ]
    },
    {
     "name": "stderr",
     "output_type": "stream",
     "text": [
      " 66%|██████▌   | 33/50 [04:54<02:15,  7.98s/it]"
     ]
    },
    {
     "name": "stdout",
     "output_type": "stream",
     "text": [
      "32 https://youtu.be/TuK456zrbeo&pp https://img.youtube.com/vi/TuK456zrbeo/sddefault.jpg 평범한 폴로셔츠가 지겹다면 임대리님 남자패션&트렌드 UCZCcPrDDB629XQpaMFhsyfg 2024. 5. 11. 2.7천 3.7천명\n"
     ]
    },
    {
     "name": "stderr",
     "output_type": "stream",
     "text": [
      " 68%|██████▊   | 34/50 [05:02<02:04,  7.75s/it]"
     ]
    },
    {
     "name": "stdout",
     "output_type": "stream",
     "text": [
      "33 https://youtu.be/Cx1iD-KNJSU&pp https://img.youtube.com/vi/Cx1iD-KNJSU/sddefault.jpg 폴로니트 추천 판매순위 Top10 || 가격 평점 후기 비교 별이 빛나는 쇼핑 UCxv3BPfqB1L5h_4gOXb-PVw 2023. 6. 21. 55 2.36천명\n"
     ]
    },
    {
     "name": "stderr",
     "output_type": "stream",
     "text": [
      " 70%|███████   | 35/50 [05:11<02:05,  8.36s/it]"
     ]
    },
    {
     "name": "stdout",
     "output_type": "stream",
     "text": [
      "34 https://youtu.be/7mdTxJtFsXE&pp https://img.youtube.com/vi/7mdTxJtFsXE/sddefault.jpg 🍃 2023 가디건 추천 기준 | 메종키츠네, 폴로, 아쎄르 사이즈 팁까지 러브솔 UCy3Dp6QP6bQiB7dwsBZEgwQ 2023. 11. 1. 5.1만 11.7만명\n"
     ]
    },
    {
     "name": "stderr",
     "output_type": "stream",
     "text": [
      " 72%|███████▏  | 36/50 [05:19<01:53,  8.12s/it]"
     ]
    },
    {
     "name": "stdout",
     "output_type": "stream",
     "text": [
      "35 https://youtu.be/MCi5cFeQ71w&pp https://img.youtube.com/vi/MCi5cFeQ71w/sddefault.jpg 룰루레몬 에볼루션 폴로 행복한프로그래머 UCxAq-CNMY97WxMQll91rKgg 2023. 6. 27. 64 94명\n"
     ]
    },
    {
     "name": "stderr",
     "output_type": "stream",
     "text": [
      " 74%|███████▍  | 37/50 [05:28<01:50,  8.49s/it]"
     ]
    },
    {
     "name": "stdout",
     "output_type": "stream",
     "text": [
      "36 https://youtu.be/d7hGZ8ZSdig&pp https://img.youtube.com/vi/d7hGZ8ZSdig/sddefault.jpg 폴로반팔티셔츠 추천 판매순위 Top10 || 가격 평점 후기 비교 슬기로운 쇼핑생활 UCuqaqo0setu9zqMr5KHmGSQ 2023. 6. 17. 104 4.28천명\n"
     ]
    },
    {
     "name": "stderr",
     "output_type": "stream",
     "text": [
      " 76%|███████▌  | 38/50 [05:36<01:40,  8.37s/it]"
     ]
    },
    {
     "name": "stdout",
     "output_type": "stream",
     "text": [
      "37 https://youtu.be/UAu83zsxmiA&pp https://img.youtube.com/vi/UAu83zsxmiA/sddefault.jpg 폴로린넨셔츠 추천 판매순위 Top10 || 가격 평점 후기 비교 별이 빛나는 쇼핑 UCxv3BPfqB1L5h_4gOXb-PVw 2023. 6. 23. 56 2.36천명\n"
     ]
    },
    {
     "name": "stderr",
     "output_type": "stream",
     "text": [
      " 78%|███████▊  | 39/50 [05:44<01:29,  8.18s/it]"
     ]
    },
    {
     "name": "stdout",
     "output_type": "stream",
     "text": [
      "38 https://youtu.be/WlDIGBxFxeY&pp https://img.youtube.com/vi/WlDIGBxFxeY/sddefault.jpg vlog_  자라에서 올드머니룩 따라잡기, 구찌 니트 하울, 폴로 여주아울렛, 독감 걸리고 탕후루 먹는 일상, 쇼핑브이로그 엘라벨라블라 EllaBellaBlah UCvpbKZ0Rrb6yDLAHbhhNC-Q 2023. 9. 16. 2.7만 1.04만명\n"
     ]
    },
    {
     "name": "stderr",
     "output_type": "stream",
     "text": [
      " 80%|████████  | 40/50 [05:52<01:20,  8.08s/it]"
     ]
    },
    {
     "name": "stdout",
     "output_type": "stream",
     "text": [
      "39 https://youtu.be/y0ml6O7_1Io&pp https://img.youtube.com/vi/y0ml6O7_1Io/sddefault.jpg 가을하면 폴로, 폴로하면 가을 아니겠어요?🤎ㅣ폴로 가을 룩북🍁🍂(feat.쉽겟)ㅣ폴로 니트ㅣ폴로 가디건ㅣ폴로 셔츠ㅣ패션하울ㅣ타오바오 하울📦 소이진 UCXHN8unWyGmUmqeHosG69Fg 2023. 8. 27. 1.8만 2.06천명\n"
     ]
    },
    {
     "name": "stderr",
     "output_type": "stream",
     "text": [
      " 82%|████████▏ | 41/50 [06:00<01:12,  8.09s/it]"
     ]
    },
    {
     "name": "stdout",
     "output_type": "stream",
     "text": [
      "40 https://youtu.be/7W3g9WVe7JY&t https://img.youtube.com/vi/7W3g9WVe7JY&t/sddefault.jpg 유행은 반복되고, 2024년에는 이게 다시 유행합니다. 2024 S/S 패션 트렌드 정리 Mid Style 미드스타일 UCt13DPmDZtlHhXca9aa8_ZQ 2024. 1. 1. 10만 9.08만명\n"
     ]
    },
    {
     "name": "stderr",
     "output_type": "stream",
     "text": [
      " 84%|████████▍ | 42/50 [06:08<01:04,  8.06s/it]"
     ]
    },
    {
     "name": "stdout",
     "output_type": "stream",
     "text": [
      "41 https://youtu.be/FUnO4UJGQsE&pp https://img.youtube.com/vi/FUnO4UJGQsE/sddefault.jpg [Vlog] 뉴욕 우드버리 아울렛에서 반값으로 탕진잼💸 | 폴로60%할인| 최신 아이템들 | 버버리 | 아크네 | 마르지엘라 듄턱Dunetuck UCX6KDPJcL3olhDgApzLVaew 2024. 1. 10. 1.7만 74명\n"
     ]
    },
    {
     "name": "stderr",
     "output_type": "stream",
     "text": [
      " 86%|████████▌ | 43/50 [06:17<00:57,  8.28s/it]"
     ]
    },
    {
     "name": "stdout",
     "output_type": "stream",
     "text": [
      "42 https://youtu.be/wppW7VZb8vw&pp https://img.youtube.com/vi/wppW7VZb8vw/sddefault.jpg 중고차 [구해줘카즈] 무시할 수 없는 소형차! 폭스바겐 폴로! 여성 구독자님 첫차구매 출고후기! 중고차 구해줘카즈 UCCRqjkldNAmheMKC7GinZfQ 2024. 6. 16. 711 1.28만명\n"
     ]
    },
    {
     "name": "stderr",
     "output_type": "stream",
     "text": [
      " 88%|████████▊ | 44/50 [06:24<00:48,  8.03s/it]"
     ]
    },
    {
     "name": "stdout",
     "output_type": "stream",
     "text": [
      "43 https://youtu.be/ViCGkivcTGY&pp https://img.youtube.com/vi/ViCGkivcTGY/sddefault.jpg 폴로가디건 추천 판매순위 Top10 || 가격 평점 후기 비교 코코티비 UCc_JZODO1HZPcQvzy8lt2sw 2023. 7. 10. 219 3.97천명\n"
     ]
    },
    {
     "name": "stderr",
     "output_type": "stream",
     "text": [
      " 90%|█████████ | 45/50 [06:32<00:39,  7.94s/it]"
     ]
    },
    {
     "name": "stdout",
     "output_type": "stream",
     "text": [
      "44 https://youtu.be/aCRismumI-Y&pp https://img.youtube.com/vi/aCRismumI-Y/sddefault.jpg 폴로볼캡 추천 판매순위 Top10 || 가격 평점 후기 비교 슬기로운 쇼핑생활 UCuqaqo0setu9zqMr5KHmGSQ 2023. 7. 6. 225 4.28천명\n"
     ]
    },
    {
     "name": "stderr",
     "output_type": "stream",
     "text": [
      " 92%|█████████▏| 46/50 [06:41<00:32,  8.14s/it]"
     ]
    },
    {
     "name": "stdout",
     "output_type": "stream",
     "text": [
      "45 https://youtu.be/iuFsHQM2l5U&pp https://img.youtube.com/vi/iuFsHQM2l5U/sddefault.jpg 가위바위보 진사람 타투 박기 (Feat. 폴로다레드, 민우킴) 류정란 UCb9ZiLXCBFTUvA9xIhK7B2A 2024. 2. 26. 3.4만 25.4만명\n"
     ]
    },
    {
     "name": "stderr",
     "output_type": "stream",
     "text": [
      " 94%|█████████▍| 47/50 [06:50<00:25,  8.45s/it]"
     ]
    },
    {
     "name": "stdout",
     "output_type": "stream",
     "text": [
      "46 https://youtu.be/iHQgr208-LY&pp https://img.youtube.com/vi/iHQgr208-LY/sddefault.jpg 폴로바람막이 추천 판매순위 Top10 || 가격 평점 후기 비교 어바웃쇼핑 UC6Ve4mB8Cvi3F4rlt3w4gaw 2023. 6. 20. 65 3.59천명\n"
     ]
    },
    {
     "name": "stderr",
     "output_type": "stream",
     "text": [
      " 96%|█████████▌| 48/50 [06:57<00:16,  8.11s/it]"
     ]
    },
    {
     "name": "stdout",
     "output_type": "stream",
     "text": [
      "47 https://youtu.be/qdEqBaxkfRA&pp https://img.youtube.com/vi/qdEqBaxkfRA/sddefault.jpg 제목 크롤링 오류 채널명 크롤링 오류 UCxv3BPfqB1L5h_4gOXb-PVw 업로드 일자 크롤링 오류 조회수 크롤링 오류 구독자 수 크롤링 오류\n"
     ]
    },
    {
     "name": "stderr",
     "output_type": "stream",
     "text": [
      " 98%|█████████▊| 49/50 [07:09<00:09,  9.15s/it]"
     ]
    },
    {
     "name": "stdout",
     "output_type": "stream",
     "text": [
      "48 https://youtu.be/kw0r8R1FQlM&pp https://img.youtube.com/vi/kw0r8R1FQlM/sddefault.jpg 폴로랄프로렌반팔 추천 판매순위 Top10 || 가격 평점 후기 비교 어바웃쇼핑 UC6Ve4mB8Cvi3F4rlt3w4gaw 2023. 6. 20. 64 3.59천명\n"
     ]
    },
    {
     "name": "stderr",
     "output_type": "stream",
     "text": [
      "100%|██████████| 50/50 [07:15<00:00,  8.70s/it]\n"
     ]
    },
    {
     "name": "stdout",
     "output_type": "stream",
     "text": [
      "49 https://youtu.be/Izlr37KVDqk&pp https://img.youtube.com/vi/Izlr37KVDqk/sddefault.jpg 제목 크롤링 오류 채널명 크롤링 오류 UC4ulpGYm1cZvLOu68YN30XA 업로드 일자 크롤링 오류 조회수 크롤링 오류 구독자 수 크롤링 오류\n"
     ]
    },
    {
     "name": "stderr",
     "output_type": "stream",
     "text": [
      "  2%|▏         | 1/50 [00:08<06:39,  8.15s/it]"
     ]
    },
    {
     "name": "stdout",
     "output_type": "stream",
     "text": [
      "0 https://youtu.be/xbTIUETEhUM&pp https://img.youtube.com/vi/xbTIUETEhUM/sddefault.jpg 지금, 이 순간 영원히 기록될 T1의 여름 T1 X POLO RALPH LAUREN (티원, FAKER, ZEUS, ONER, GUMAYUSI, KERIA,폴로 랄프 로렌) GQ KOREA UC7QX2YavsZmS7Se3ZKOsCLQ 2024. 5. 30. 3.8만 45.3만명\n"
     ]
    },
    {
     "name": "stderr",
     "output_type": "stream",
     "text": [
      "  4%|▍         | 2/50 [00:12<04:54,  6.14s/it]"
     ]
    },
    {
     "name": "stdout",
     "output_type": "stream",
     "text": [
      "1 https://youtu.be/PBTlgVTuQVs&pp https://img.youtube.com/vi/PBTlgVTuQVs/sddefault.jpg 제목 크롤링 오류 채널명 크롤링 오류 UCrvhkEt3YDJ4D2Cav6BhcxA 업로드 일자 크롤링 오류 조회수 크롤링 오류 구독자 수 크롤링 오류\n"
     ]
    },
    {
     "name": "stderr",
     "output_type": "stream",
     "text": [
      "  6%|▌         | 3/50 [00:22<06:02,  7.71s/it]"
     ]
    },
    {
     "name": "stdout",
     "output_type": "stream",
     "text": [
      "2 https://youtu.be/i7WmGPuw-Bc&pp https://img.youtube.com/vi/i7WmGPuw-Bc/sddefault.jpg 천년만년 입는 폴로 아이템. 폴로에서 이거는 필수템! 셔츠 위주 추천 배사임당BAESAIMDANG UC9HqGIG0Bj8yB77dUJ-Eoxw 2024. 4. 21. 4.6만 6.06만명\n"
     ]
    },
    {
     "name": "stderr",
     "output_type": "stream",
     "text": [
      "  8%|▊         | 4/50 [00:27<05:04,  6.61s/it]"
     ]
    },
    {
     "name": "stdout",
     "output_type": "stream",
     "text": [
      "3 https://youtu.be/fDS8aEif31M&pp https://img.youtube.com/vi/fDS8aEif31M/sddefault.jpg 제목 크롤링 오류 채널명 크롤링 오류 UCrvhkEt3YDJ4D2Cav6BhcxA 업로드 일자 크롤링 오류 조회수 크롤링 오류 구독자 수 크롤링 오류\n"
     ]
    },
    {
     "name": "stderr",
     "output_type": "stream",
     "text": [
      " 10%|█         | 5/50 [00:37<05:51,  7.81s/it]"
     ]
    },
    {
     "name": "stdout",
     "output_type": "stream",
     "text": [
      "4 https://youtu.be/Jgrhnd0yWao&t https://img.youtube.com/vi/Jgrhnd0yWao&t/sddefault.jpg 올드머니 필수 브랜드들🧐 : 금수저 스타일? 폴로, 드파운드, bau by bride and you, 하나보, 미우미우 등 유리아YuRia UC00DJ04oplqj4IUUB5vSwZw 2023. 6. 23. 34만 24.5만명\n"
     ]
    },
    {
     "name": "stderr",
     "output_type": "stream",
     "text": [
      " 12%|█▏        | 6/50 [00:46<05:58,  8.15s/it]"
     ]
    },
    {
     "name": "stdout",
     "output_type": "stream",
     "text": [
      "5 https://youtu.be/etqor2iEz6o&pp https://img.youtube.com/vi/etqor2iEz6o/sddefault.jpg 우리가 폴로에 진심인 \"진짜\" 이유 오늘부터 회계사 UClhPqabyOHBxJzMkQ7k-pxg 2024. 1. 24. 1만 5.54만명\n"
     ]
    },
    {
     "name": "stderr",
     "output_type": "stream",
     "text": [
      " 14%|█▍        | 7/50 [00:51<05:11,  7.23s/it]"
     ]
    },
    {
     "name": "stdout",
     "output_type": "stream",
     "text": [
      "6 https://youtu.be/2o8lXD-zO7E&pp https://img.youtube.com/vi/2o8lXD-zO7E/sddefault.jpg 제목 크롤링 오류 채널명 크롤링 오류 UCVJ9ot42o1X9cTkOdTyJxQw 업로드 일자 크롤링 오류 조회수 크롤링 오류 구독자 수 크롤링 오류\n"
     ]
    },
    {
     "name": "stderr",
     "output_type": "stream",
     "text": [
      " 16%|█▌        | 8/50 [00:59<05:07,  7.33s/it]"
     ]
    },
    {
     "name": "stdout",
     "output_type": "stream",
     "text": [
      "7 https://youtu.be/DIPWFV6X1WE&pp https://img.youtube.com/vi/DIPWFV6X1WE/sddefault.jpg '랄프 로렌 퍼플 라벨' 한 눈에 알아보는 핵심 요약 강의! 2024 S/S Ralph Lauren Purple  label 박스까남 UCSNzqGjYZCe4MN7Yb2grqyA 2024. 4. 5. 2.1만 18.7만명\n"
     ]
    },
    {
     "name": "stderr",
     "output_type": "stream",
     "text": [
      " 18%|█▊        | 9/50 [01:08<05:26,  7.96s/it]"
     ]
    },
    {
     "name": "stdout",
     "output_type": "stream",
     "text": [
      "8 https://youtu.be/gO4nbMYCiJI&pp https://img.youtube.com/vi/gO4nbMYCiJI/sddefault.jpg 🇺🇸 미국 폴로 최신가격 (23년 9월) 여자의류-  미국 아울렛 쇼핑 / 가격은 얼마나 저렴할까? POLO OUTLET 캘리킴 CaliKim UCVRFZAzXvE_hfETVbKB3ooQ 2023. 9. 22. 5.8천 2.78천명\n"
     ]
    },
    {
     "name": "stderr",
     "output_type": "stream",
     "text": [
      " 20%|██        | 10/50 [01:17<05:27,  8.18s/it]"
     ]
    },
    {
     "name": "stdout",
     "output_type": "stream",
     "text": [
      "9 https://youtu.be/VsnmzIsDoTg&pp https://img.youtube.com/vi/VsnmzIsDoTg/sddefault.jpg [small talk long walk #325] 폴로 랄프로렌 블루라벨을 수집한다면?! 수박 겉핥기 UCrYRihqBAdmjlJMa1wV2Xcw 2024. 5. 15. 1.4천 7천명\n"
     ]
    },
    {
     "name": "stderr",
     "output_type": "stream",
     "text": [
      " 22%|██▏       | 11/50 [01:25<05:19,  8.19s/it]"
     ]
    },
    {
     "name": "stdout",
     "output_type": "stream",
     "text": [
      "10 https://youtu.be/EljrY8SRJZ4&pp https://img.youtube.com/vi/EljrY8SRJZ4/sddefault.jpg [ENG CC] 👕이것의 원조는 XXX이 아니다⁉️ | 폴로 셔츠 탄생 비하인드 썰👄 슈스스TV UC5W3wHMAkp6b_8HrhReP5aQ 2024. 5. 23. 3.4만 52만명\n"
     ]
    },
    {
     "name": "stderr",
     "output_type": "stream",
     "text": [
      " 24%|██▍       | 12/50 [01:35<05:30,  8.71s/it]"
     ]
    },
    {
     "name": "stdout",
     "output_type": "stream",
     "text": [
      "11 https://youtu.be/AbNBdnpuHGY&pp https://img.youtube.com/vi/AbNBdnpuHGY/sddefault.jpg [Haul] 폴로가 가장싼 미국아울렛🤭 73만원 할인이라니!!!! 💸(feat. 블랙프라이데이/ 캐시미어니트 / 꽈배기니트/ 모자) 이지로그 Eazzy_log UCpWFsmesIi0P4FYGaWHeEsw 2023. 12. 17. 5.4천 75명\n"
     ]
    },
    {
     "name": "stderr",
     "output_type": "stream",
     "text": [
      " 26%|██▌       | 13/50 [01:44<05:25,  8.80s/it]"
     ]
    },
    {
     "name": "stdout",
     "output_type": "stream",
     "text": [
      "12 https://youtu.be/5WJg_YVsgtM&pp https://img.youtube.com/vi/5WJg_YVsgtM/sddefault.jpg 폴로 랄프로렌 VIP 쇼룸에 초대 받았습니다. 까남이 픽한 2021 S/S 랄프로렌 잇템은? ㅣ랄프로렌 ㅣ폴로 ㅣ RRL ㅣ박스까남 박스까남 UCSNzqGjYZCe4MN7Yb2grqyA 2021. 3. 19. 10만 18.7만명\n"
     ]
    },
    {
     "name": "stderr",
     "output_type": "stream",
     "text": [
      " 28%|██▊       | 14/50 [01:53<05:26,  9.07s/it]"
     ]
    },
    {
     "name": "stdout",
     "output_type": "stream",
     "text": [
      "13 https://youtu.be/dogyJM2Z1Hc&pp https://img.youtube.com/vi/dogyJM2Z1Hc/sddefault.jpg 이 영상을 보시면 폴로를 사지 않을지도 모릅니다 【폴로를 대체할 브랜드가 있을까?】 ‎폴로 랄프로렌, Polo Ralph Lauren 몬스터쏭 UCUie7_JlZeM0QGzJQHsR_xQ 2021. 6. 18. 15만 1.96만명\n"
     ]
    },
    {
     "name": "stderr",
     "output_type": "stream",
     "text": [
      " 30%|███       | 15/50 [02:01<05:04,  8.69s/it]"
     ]
    },
    {
     "name": "stdout",
     "output_type": "stream",
     "text": [
      "14 https://youtu.be/JdhBdgJRsGI&pp https://img.youtube.com/vi/JdhBdgJRsGI/sddefault.jpg 6가지 폴로 입어보기 ㅣ 10대부터 60대까지 예쁘게 입을 수 있는 POLOㅣ세일템도 있어요!ㅣ위라라ㅣ길트프리ㅣ르셀로나ㅣ나이키ㅣ줌보메로 보라보나borabona UCbzgulnbFWP7pTdQAB8ksdw 2023. 5. 20. 1.3만 4.35만명\n"
     ]
    },
    {
     "name": "stderr",
     "output_type": "stream",
     "text": [
      " 32%|███▏      | 16/50 [02:09<04:49,  8.53s/it]"
     ]
    },
    {
     "name": "stdout",
     "output_type": "stream",
     "text": [
      "15 https://youtu.be/EOyXXMcZH5o&pp https://img.youtube.com/vi/EOyXXMcZH5o/sddefault.jpg 사람들이 폴로 랄프로렌에 열광하는 이유 탈패션 FASHION UCvz69hskxi36eFq0rzUj_PA 2022. 6. 18. 1.3만 6.6만명\n"
     ]
    },
    {
     "name": "stderr",
     "output_type": "stream",
     "text": [
      " 34%|███▍      | 17/50 [02:18<04:45,  8.64s/it]"
     ]
    },
    {
     "name": "stdout",
     "output_type": "stream",
     "text": [
      "16 https://youtu.be/ZBkId2wBUns&pp https://img.youtube.com/vi/ZBkId2wBUns/sddefault.jpg 폴로 하울 4탄☔️ㅣ여주 프리미엄 아울렛ㅣ최대 60% 할인⁉️ㅣ50만원 쇼핑🫠ㅣ폴로 셔츠ㅣ폴로 카라티ㅣ라코스테 카라티 소이진 UCXHN8unWyGmUmqeHosG69Fg 2023. 7. 14. 9.5천 2.06천명\n"
     ]
    },
    {
     "name": "stderr",
     "output_type": "stream",
     "text": [
      " 36%|███▌      | 18/50 [02:26<04:31,  8.49s/it]"
     ]
    },
    {
     "name": "stdout",
     "output_type": "stream",
     "text": [
      "17 https://youtu.be/8mL8VE8YUlo&pp https://img.youtube.com/vi/8mL8VE8YUlo/sddefault.jpg 2024년 판매랭킹 상위품목 추천 ★   폴로 랄프로렌 가디건   오늘의 인기추천   BEST   ㅣ추천템ㅣ생활 꿀템ㅣ HotShop UCCpoo34Tn3KjTRP_HjhXfPQ 2024. 4. 21. 18 11명\n"
     ]
    },
    {
     "name": "stderr",
     "output_type": "stream",
     "text": [
      " 38%|███▊      | 19/50 [02:34<04:14,  8.20s/it]"
     ]
    },
    {
     "name": "stdout",
     "output_type": "stream",
     "text": [
      "18 https://youtu.be/CSkfVqxF71I&pp https://img.youtube.com/vi/CSkfVqxF71I/sddefault.jpg 여기도 가품이야? 폴로는 왜 이렇게 가품이 많을까? 헬프맨 UChOCmROp3jzyMFbTeqZOiFg 2024. 1. 26. 6.6천 2.31만명\n"
     ]
    },
    {
     "name": "stderr",
     "output_type": "stream",
     "text": [
      " 40%|████      | 20/50 [02:42<04:03,  8.11s/it]"
     ]
    },
    {
     "name": "stdout",
     "output_type": "stream",
     "text": [
      "19 https://youtu.be/g3MHneshvLk&pp https://img.youtube.com/vi/g3MHneshvLk/sddefault.jpg 폴로 정가품을 구별하는 가장 간단한 방법 포트배드Fashion Magazine UCWRDpplrYog3AVXAFwnbdjQ 2023. 8. 28. 2.1만 2.16만명\n"
     ]
    },
    {
     "name": "stderr",
     "output_type": "stream",
     "text": [
      " 42%|████▏     | 21/50 [02:52<04:10,  8.65s/it]"
     ]
    },
    {
     "name": "stdout",
     "output_type": "stream",
     "text": [
      "20 https://youtu.be/y0ml6O7_1Io&pp https://img.youtube.com/vi/y0ml6O7_1Io/sddefault.jpg 가을하면 폴로, 폴로하면 가을 아니겠어요?🤎ㅣ폴로 가을 룩북🍁🍂(feat.쉽겟)ㅣ폴로 니트ㅣ폴로 가디건ㅣ폴로 셔츠ㅣ패션하울ㅣ타오바오 하울📦 소이진 UCXHN8unWyGmUmqeHosG69Fg 2023. 8. 27. 1.8만 2.06천명\n"
     ]
    },
    {
     "name": "stderr",
     "output_type": "stream",
     "text": [
      " 44%|████▍     | 22/50 [03:01<04:10,  8.94s/it]"
     ]
    },
    {
     "name": "stdout",
     "output_type": "stream",
     "text": [
      "21 https://youtu.be/tDe0-4qSUVI&pp https://img.youtube.com/vi/tDe0-4qSUVI/sddefault.jpg [폴로 랄프로렌 3탄] 폴로 가격 논란? 같은 디자인인데 가격이 2배 차이 난다고?!('키즈' 편) 쇼핑스, 해외라이브 쇼핑 플랫폼 UCkKnqmwcg2R0FC9nlJeUGWw 2023. 9. 22. 1.6천 2.68천명\n"
     ]
    },
    {
     "name": "stderr",
     "output_type": "stream",
     "text": [
      " 46%|████▌     | 23/50 [03:09<03:49,  8.50s/it]"
     ]
    },
    {
     "name": "stdout",
     "output_type": "stream",
     "text": [
      "22 https://youtu.be/9My4YJ0HabM&pp https://img.youtube.com/vi/9My4YJ0HabM/sddefault.jpg OTJIP OOTD / 여성 44~55 size  / 폴로랄프로렌 셔츠 원피스 코디 옷;집 UCrxNH4IvWAhAWZK_T2tE_ZQ 2023. 8. 16. 53 6명\n"
     ]
    },
    {
     "name": "stderr",
     "output_type": "stream",
     "text": [
      " 48%|████▊     | 24/50 [03:17<03:36,  8.33s/it]"
     ]
    },
    {
     "name": "stdout",
     "output_type": "stream",
     "text": [
      "23 https://youtu.be/0AoEK2kbR-k&pp https://img.youtube.com/vi/0AoEK2kbR-k/sddefault.jpg 🎯SNS에서 자꾸 물어봐서 가져왔다. 최근 자주 사용하는 여름 패션 아이템 12가지 | 아식스, 포터, 노스페이스, 폴로 랄프로렌, 리바이스, 지샥 오늘의 주우재 UCw-kXdzxMdMdLNI0ZlFFbmA 2023. 7. 21. 64만 114만명\n"
     ]
    },
    {
     "name": "stderr",
     "output_type": "stream",
     "text": [
      " 50%|█████     | 25/50 [03:24<03:17,  7.89s/it]"
     ]
    },
    {
     "name": "stdout",
     "output_type": "stream",
     "text": [
      "24 https://youtu.be/hfdmuSFQdR0&pp https://img.youtube.com/vi/hfdmuSFQdR0/sddefault.jpg 제목 크롤링 오류 채널명 크롤링 오류 UCzYB6YA5f-Tc7GQcIese7pg 업로드 일자 크롤링 오류 조회수 크롤링 오류 구독자 수 크롤링 오류\n"
     ]
    },
    {
     "name": "stderr",
     "output_type": "stream",
     "text": [
      " 52%|█████▏    | 26/50 [03:32<03:16,  8.18s/it]"
     ]
    },
    {
     "name": "stdout",
     "output_type": "stream",
     "text": [
      "25 https://youtu.be/Ek2XInBnprg&pp https://img.youtube.com/vi/Ek2XInBnprg/sddefault.jpg 폴로랄프로렌 추천 판매순위 Top10 || 가격 평점 후기 비교 무무튜브 UCVfRQsabxpSyydS3A3hKTZQ 2023. 6. 21. 25 147명\n"
     ]
    },
    {
     "name": "stderr",
     "output_type": "stream",
     "text": [
      " 54%|█████▍    | 27/50 [03:37<02:42,  7.07s/it]"
     ]
    },
    {
     "name": "stdout",
     "output_type": "stream",
     "text": [
      "26 https://youtu.be/ednJ6Tg7LuM&pp https://img.youtube.com/vi/ednJ6Tg7LuM/sddefault.jpg 제목 크롤링 오류 채널명 크롤링 오류 UC7QX2YavsZmS7Se3ZKOsCLQ 업로드 일자 크롤링 오류 조회수 크롤링 오류 구독자 수 크롤링 오류\n"
     ]
    },
    {
     "name": "stderr",
     "output_type": "stream",
     "text": [
      " 56%|█████▌    | 28/50 [03:46<02:50,  7.74s/it]"
     ]
    },
    {
     "name": "stdout",
     "output_type": "stream",
     "text": [
      "27 https://youtu.be/tP69_ZOEndM&pp https://img.youtube.com/vi/tP69_ZOEndM/sddefault.jpg 어린이날 쿠키박스×폴로 랄프로렌×선물 라비틀쿠키 UCRzVF6QP_u0AGS8TQK3P1zg 2024. 4. 11. 66 50명\n"
     ]
    },
    {
     "name": "stderr",
     "output_type": "stream",
     "text": [
      " 58%|█████▊    | 29/50 [03:54<02:45,  7.87s/it]"
     ]
    },
    {
     "name": "stdout",
     "output_type": "stream",
     "text": [
      "28 https://youtu.be/kjT-dSFa1SA&pp https://img.youtube.com/vi/kjT-dSFa1SA/sddefault.jpg 폴로랄프로렌_과제_광고영상_22461082이유정 이유정 UCWN_frNHU2rre4vj6JsBpEw 2024. 4. 16. 24 구독자 수 크롤링 오류\n"
     ]
    },
    {
     "name": "stderr",
     "output_type": "stream",
     "text": [
      " 60%|██████    | 30/50 [04:02<02:35,  7.77s/it]"
     ]
    },
    {
     "name": "stdout",
     "output_type": "stream",
     "text": [
      "29 https://youtu.be/0AqvmNsiNXc&pp https://img.youtube.com/vi/0AqvmNsiNXc/sddefault.jpg 폴로랄프로렌가디건 추천 판매순위 Top10 || 가격 평점 후기 비교 무무튜브 UCVfRQsabxpSyydS3A3hKTZQ 2023. 6. 21. 69 147명\n"
     ]
    },
    {
     "name": "stderr",
     "output_type": "stream",
     "text": [
      " 62%|██████▏   | 31/50 [04:10<02:29,  7.89s/it]"
     ]
    },
    {
     "name": "stdout",
     "output_type": "stream",
     "text": [
      "30 https://youtu.be/da3EW_r9MuY&pp https://img.youtube.com/vi/da3EW_r9MuY/sddefault.jpg 미국 POLO 아울렛 세일 / 폴로 랄프로렌 꽈배기니트 추천, 아울렛 가격 털기 / 올드머니룩, 데일리룩, 꾸안꾸룩✨ Polo Lookbook 미국 쇼핑 브이로그 LetsgoJenny 렛츠고제니  UCyhaQzZv9B82e8lrhEcSJXg 2023. 11. 6. 1.5천 1.88천명\n"
     ]
    },
    {
     "name": "stderr",
     "output_type": "stream",
     "text": [
      " 64%|██████▍   | 32/50 [04:18<02:20,  7.80s/it]"
     ]
    },
    {
     "name": "stdout",
     "output_type": "stream",
     "text": [
      "31 https://youtu.be/MvgYCKpzGIY&pp https://img.youtube.com/vi/MvgYCKpzGIY/sddefault.jpg 폴로랄프로렌반팔 추천 판매순위 Top10 || 가격 평점 후기 비교 별이 빛나는 쇼핑 UCxv3BPfqB1L5h_4gOXb-PVw 2023. 6. 18. 44 2.36천명\n"
     ]
    },
    {
     "name": "stderr",
     "output_type": "stream",
     "text": [
      " 66%|██████▌   | 33/50 [04:27<02:21,  8.34s/it]"
     ]
    },
    {
     "name": "stdout",
     "output_type": "stream",
     "text": [
      "32 https://youtu.be/jz8Ts08O2lc&pp https://img.youtube.com/vi/jz8Ts08O2lc/sddefault.jpg 랄프로렌 폴로 미국 공홈 세일 언박싱😃🛍 허니스킨 UC-7WL4zuKJLrzOIWaeLq8cg 2024. 5. 13. 745 388명\n"
     ]
    },
    {
     "name": "stderr",
     "output_type": "stream",
     "text": [
      " 68%|██████▊   | 34/50 [04:37<02:17,  8.62s/it]"
     ]
    },
    {
     "name": "stdout",
     "output_type": "stream",
     "text": [
      "33 https://youtu.be/ZxKSzt_yCPU&pp https://img.youtube.com/vi/ZxKSzt_yCPU/sddefault.jpg 올해 가장 잘 팔린   폴로 랄프로렌 가디건   오늘의 인기추천   BEST  ㅣ내돈내산ㅣ생활 꿀템ㅣ 품절각 UCRFJU8wv53gGnce7Ncytbjg 2024. 3. 26. 30 56명\n"
     ]
    },
    {
     "name": "stderr",
     "output_type": "stream",
     "text": [
      " 70%|███████   | 35/50 [04:45<02:09,  8.64s/it]"
     ]
    },
    {
     "name": "stdout",
     "output_type": "stream",
     "text": [
      "34 https://youtu.be/Lzsqhawoqys&pp https://img.youtube.com/vi/Lzsqhawoqys/sddefault.jpg 폴로랄프로렌 꽈배기 브이넥 니트티 여자 긴팔 스웨터 12컬러 FW23 빨간단풍구매대행 UCsYkOszJIO8dHCGnPT1RqoQ 2023. 9. 19. 74 15명\n"
     ]
    },
    {
     "name": "stderr",
     "output_type": "stream",
     "text": [
      " 72%|███████▏  | 36/50 [04:53<01:55,  8.26s/it]"
     ]
    },
    {
     "name": "stdout",
     "output_type": "stream",
     "text": [
      "35 https://youtu.be/S3R4Pk3FrkI&pp https://img.youtube.com/vi/S3R4Pk3FrkI/sddefault.jpg 폴로니트 공구 정품일까? 해외직구, 아울렛 매장템과 비교 (165cm S사이즈) #폴로 리뷰하는 묘대리 UCqiYDhH7fs18whd09ekhrKg 2023. 10. 24. 3.8만 2.82만명\n"
     ]
    },
    {
     "name": "stderr",
     "output_type": "stream",
     "text": [
      " 74%|███████▍  | 37/50 [05:02<01:52,  8.62s/it]"
     ]
    },
    {
     "name": "stdout",
     "output_type": "stream",
     "text": [
      "36 https://youtu.be/cfBf3Ff3DaI&pp https://img.youtube.com/vi/cfBf3Ff3DaI/sddefault.jpg 내가 찾던 폴로랄프로렌!! 가격 평점 리뷰 후기 총정리! 재밌는 영상 UCeIGjWQdkG12UyQeypJX7ZQ 2023. 9. 24. 20 2.83천명\n"
     ]
    },
    {
     "name": "stderr",
     "output_type": "stream",
     "text": [
      " 76%|███████▌  | 38/50 [05:09<01:38,  8.17s/it]"
     ]
    },
    {
     "name": "stdout",
     "output_type": "stream",
     "text": [
      "37 https://youtu.be/D3atKQxi4uk&pp https://img.youtube.com/vi/D3atKQxi4uk/sddefault.jpg 폴로 랄프로렌가디건 추천 판매순위 Top10 || 가격 평점 후기 비교 슬기로운 쇼핑생활 UCuqaqo0setu9zqMr5KHmGSQ 2023. 11. 26. 41 4.28천명\n"
     ]
    },
    {
     "name": "stderr",
     "output_type": "stream",
     "text": [
      " 78%|███████▊  | 39/50 [05:16<01:26,  7.90s/it]"
     ]
    },
    {
     "name": "stdout",
     "output_type": "stream",
     "text": [
      "38 https://youtu.be/0KMTb0tWhkk&pp https://img.youtube.com/vi/0KMTb0tWhkk/sddefault.jpg 폴로 랄프로렌 반팔티 여성  211506471 통기성 테스트 주식회사 조아무역 JoaTrade UCkZCfCQ4kFJf3ABI4UR1w9A 2023. 8. 18. 92 212명\n"
     ]
    },
    {
     "name": "stderr",
     "output_type": "stream",
     "text": [
      " 80%|████████  | 40/50 [05:25<01:20,  8.00s/it]"
     ]
    },
    {
     "name": "stdout",
     "output_type": "stream",
     "text": [
      "39 https://youtu.be/kw0r8R1FQlM&pp https://img.youtube.com/vi/kw0r8R1FQlM/sddefault.jpg 폴로랄프로렌반팔 추천 판매순위 Top10 || 가격 평점 후기 비교 어바웃쇼핑 UC6Ve4mB8Cvi3F4rlt3w4gaw 2023. 6. 20. 64 3.59천명\n"
     ]
    },
    {
     "name": "stderr",
     "output_type": "stream",
     "text": [
      " 82%|████████▏ | 41/50 [05:33<01:11,  7.96s/it]"
     ]
    },
    {
     "name": "stdout",
     "output_type": "stream",
     "text": [
      "40 https://youtu.be/bney8Cs4tkY&pp https://img.youtube.com/vi/bney8Cs4tkY/sddefault.jpg 마크와 폴로 랄프 로렌이 완성한 귀여움의 앙상블ㅣ마크, NCT, 폴로랄프로렌, 에스콰이어, ESQUIRE KOREA ESQUIRE Korea UCilp2H6r1B-MsTtPT6d48cQ 2023. 9. 16. 6.4만 32.5만명\n"
     ]
    },
    {
     "name": "stderr",
     "output_type": "stream",
     "text": [
      " 84%|████████▍ | 42/50 [05:41<01:04,  8.10s/it]"
     ]
    },
    {
     "name": "stdout",
     "output_type": "stream",
     "text": [
      "41 https://youtu.be/_mOIk4zNzdU&pp https://img.youtube.com/vi/_mOIk4zNzdU/sddefault.jpg ARENA X POLO RALPH LAUREN | #류준열 아레나옴므플러스 UCFg6o2kwW5U2Cg8MRs5cWEw 2023. 10. 28. 7.6천 3.9만명\n"
     ]
    },
    {
     "name": "stderr",
     "output_type": "stream",
     "text": [
      " 86%|████████▌ | 43/50 [05:51<01:00,  8.69s/it]"
     ]
    },
    {
     "name": "stdout",
     "output_type": "stream",
     "text": [
      "42 https://youtu.be/1GKNRo_D5wk&pp https://img.youtube.com/vi/1GKNRo_D5wk/sddefault.jpg 2023년 가장 인기 있는 폴로랄프로렌 추천 BEST 7 이쿼보고카 UCebhSqtaVqOUgfypH8UGBzA 2023. 10. 15. 24 406명\n"
     ]
    },
    {
     "name": "stderr",
     "output_type": "stream",
     "text": [
      " 88%|████████▊ | 44/50 [06:00<00:52,  8.73s/it]"
     ]
    },
    {
     "name": "stdout",
     "output_type": "stream",
     "text": [
      "43 https://youtu.be/-5w2WoU2M6E&pp https://img.youtube.com/vi/-5w2WoU2M6E/sddefault.jpg 폴로랄프로렌 판매순위 인기 TOP10 추천 / 할인정보 / 가격 / 후기 / 가성비 Third review UCJdGzTbyoLz4SfDPkEDOQCg 2023. 11. 27. 11 73명\n"
     ]
    },
    {
     "name": "stderr",
     "output_type": "stream",
     "text": [
      " 90%|█████████ | 45/50 [06:10<00:45,  9.02s/it]"
     ]
    },
    {
     "name": "stdout",
     "output_type": "stream",
     "text": [
      "44 https://youtu.be/S3R4Pk3FrkI&pp https://img.youtube.com/vi/S3R4Pk3FrkI/sddefault.jpg 폴로니트 공구 정품일까? 해외직구, 아울렛 매장템과 비교 (165cm S사이즈) #폴로 리뷰하는 묘대리 UCqiYDhH7fs18whd09ekhrKg 2023. 10. 24. 3.8만 2.82만명\n"
     ]
    },
    {
     "name": "stderr",
     "output_type": "stream",
     "text": [
      " 92%|█████████▏| 46/50 [06:15<00:31,  7.84s/it]"
     ]
    },
    {
     "name": "stdout",
     "output_type": "stream",
     "text": [
      "45 https://youtu.be/uCbvxOzA0qg&pp https://img.youtube.com/vi/uCbvxOzA0qg/sddefault.jpg 제목 크롤링 오류 채널명 크롤링 오류 UCG19Ad2PnhcACLG77CYuD5A 업로드 일자 크롤링 오류 조회수 크롤링 오류 구독자 수 크롤링 오류\n"
     ]
    },
    {
     "name": "stderr",
     "output_type": "stream",
     "text": [
      " 94%|█████████▍| 47/50 [06:25<00:25,  8.53s/it]"
     ]
    },
    {
     "name": "stdout",
     "output_type": "stream",
     "text": [
      "46 https://youtu.be/uo07fRXrvZM&pp https://img.youtube.com/vi/uo07fRXrvZM/sddefault.jpg 2024년 사람들이 많이 찾는 폴로랄프로렌 추천 TOP 10 이쿼보고카 UCebhSqtaVqOUgfypH8UGBzA 2024. 2. 14. 17 406명\n"
     ]
    },
    {
     "name": "stderr",
     "output_type": "stream",
     "text": [
      " 96%|█████████▌| 48/50 [06:30<00:15,  7.63s/it]"
     ]
    },
    {
     "name": "stdout",
     "output_type": "stream",
     "text": [
      "47 https://youtu.be/fu-2OwisJhU&pp https://img.youtube.com/vi/fu-2OwisJhU/sddefault.jpg 제목 크롤링 오류 채널명 크롤링 오류 UCu5SjU_5a_A_fldEWXZP4Ow 업로드 일자 크롤링 오류 조회수 크롤링 오류 구독자 수 크롤링 오류\n"
     ]
    },
    {
     "name": "stderr",
     "output_type": "stream",
     "text": [
      " 98%|█████████▊| 49/50 [06:40<00:08,  8.16s/it]"
     ]
    },
    {
     "name": "stdout",
     "output_type": "stream",
     "text": [
      "48 https://youtu.be/y8JDW7GeiWA&pp https://img.youtube.com/vi/y8JDW7GeiWA/sddefault.jpg 자칭 폴로랄프로렌 전문가가 선택한 사람들이 많이 찾는 폴로랄프로렌 추천 TOP 10 !! 이쿼보고카 UCebhSqtaVqOUgfypH8UGBzA 2024. 3. 30. 16 406명\n"
     ]
    },
    {
     "name": "stderr",
     "output_type": "stream",
     "text": [
      "100%|██████████| 50/50 [06:49<00:00,  8.19s/it]"
     ]
    },
    {
     "name": "stdout",
     "output_type": "stream",
     "text": [
      "49 https://youtu.be/tfJjb12oLcY&pp https://img.youtube.com/vi/tfJjb12oLcY/sddefault.jpg 폴로 랄프로렌보다 근본에 싸고 좋습니다. 명품 치노팬츠 추천 제발 혼자보세요. 탈패션 FASHION UCvz69hskxi36eFq0rzUj_PA 2023. 7. 12. 9.5만 6.6만명\n"
     ]
    },
    {
     "name": "stderr",
     "output_type": "stream",
     "text": [
      "\n"
     ]
    }
   ],
   "source": [
    "driver = webdriver.Chrome()\n",
    "\n",
    "video_list_1 = video_list[:50]\n",
    "video_list_2 = video_list[50:100]\n",
    "video_list_3 = video_list[100:150]\n",
    "video_list_4 = video_list[150:]\n",
    "\n",
    "scrape_videos(video_list_1)\n",
    "scrape_videos(video_list_2)\n",
    "\n",
    "driver.quit()"
   ]
  },
  {
   "cell_type": "code",
   "execution_count": 16,
   "metadata": {},
   "outputs": [
    {
     "name": "stderr",
     "output_type": "stream",
     "text": [
      "  2%|▏         | 1/50 [00:14<11:40, 14.29s/it]"
     ]
    },
    {
     "name": "stdout",
     "output_type": "stream",
     "text": [
      "0 https://youtu.be/HR2oPpDGcNk&pp https://img.youtube.com/vi/HR2oPpDGcNk/sddefault.jpg 아디다스 트랙팬츠 예쁘게 코디하기!코디천재들의 코디제안💕돌아온 아디다스 간지나게 입어봐요! 프피프제 UCqRHrXiHEkmeaPWs5QDX7HQ 2024. 5. 16. 8.4천 3.19천명\n"
     ]
    },
    {
     "name": "stderr",
     "output_type": "stream",
     "text": [
      "  4%|▍         | 2/50 [00:30<12:18, 15.38s/it]"
     ]
    },
    {
     "name": "stdout",
     "output_type": "stream",
     "text": [
      "1 https://youtu.be/17bJ0q7KyJE&pp https://img.youtube.com/vi/17bJ0q7KyJE/sddefault.jpg 🫢 \"지금 사면 늦나요?!\" | 맥시멀리스트의 아디다스 삼바,가젤,토바코 등등! 리뷰+비교+추천 러브솔 UCy3Dp6QP6bQiB7dwsBZEgwQ 2024. 2. 18. 16만 11.7만명\n"
     ]
    },
    {
     "name": "stderr",
     "output_type": "stream",
     "text": [
      "  6%|▌         | 3/50 [00:43<11:17, 14.42s/it]"
     ]
    },
    {
     "name": "stdout",
     "output_type": "stream",
     "text": [
      "2 https://youtu.be/COz8wv9U9B0&pp https://img.youtube.com/vi/COz8wv9U9B0/sddefault.jpg vlog) 요즘 쇼핑한 것들로 봄 데일리룩 브이로그🌷바쁘다 바빠 행사주간 비아플레인 팝업, 오페라스포트, 모노하 쇼룸 | 최애 버거🍔 도넛🍩 아디다스 트랙팬츠 쇼핑하울 묵화mookwa UCgoF9YEH3vw4qi_Q3ECYi9A 2024. 5. 12. 4.1만 4.76만명\n"
     ]
    },
    {
     "name": "stderr",
     "output_type": "stream",
     "text": [
      "  8%|▊         | 4/50 [00:58<11:09, 14.55s/it]"
     ]
    },
    {
     "name": "stdout",
     "output_type": "stream",
     "text": [
      "3 https://youtu.be/elB4hnVtv8c&pp https://img.youtube.com/vi/elB4hnVtv8c/sddefault.jpg 나는 아디다스에서 뭘 신어야 할까? (ft.가젤, 슈퍼스타, 삼바, 캠퍼스) 페플TV UCeRItOFMPO3TBKK7lp9vcdQ 2023. 9. 1. 5.6만 5.27만명\n"
     ]
    },
    {
     "name": "stderr",
     "output_type": "stream",
     "text": [
      " 10%|█         | 5/50 [01:11<10:27, 13.94s/it]"
     ]
    },
    {
     "name": "stdout",
     "output_type": "stream",
     "text": [
      "4 https://youtu.be/IIPl0ndBB8w&pp https://img.youtube.com/vi/IIPl0ndBB8w/sddefault.jpg 아디다스 운동화 샀어요 그라다스 IE9044 한결_YT UCQAdlQ9cl1hmHMthc4WAhag 2024. 6. 14. 263 439명\n"
     ]
    },
    {
     "name": "stderr",
     "output_type": "stream",
     "text": [
      " 12%|█▏        | 6/50 [01:21<09:16, 12.65s/it]"
     ]
    },
    {
     "name": "stdout",
     "output_type": "stream",
     "text": [
      "5 https://youtu.be/D-tHKIKykko&pp https://img.youtube.com/vi/D-tHKIKykko/sddefault.jpg 아디다스의 자책골 WLDO UCijBTYEiKT1OJO54C6PnRqw 2024. 5. 15. 16만 46.6만명\n"
     ]
    },
    {
     "name": "stderr",
     "output_type": "stream",
     "text": [
      " 14%|█▍        | 7/50 [01:35<09:20, 13.03s/it]"
     ]
    },
    {
     "name": "stdout",
     "output_type": "stream",
     "text": [
      "6 https://youtu.be/KxBI0w1nf_Y&pp https://img.youtube.com/vi/KxBI0w1nf_Y/sddefault.jpg 2023년 제품 선호도가 좋은! 아디다스운동화! 베스트 TOP10! 가격 평점 리뷰 후기 총정리!! 리뷰달인! UCB7bN6hy56H-nEMTH9DtUNg 2023. 6. 19. 2.7천 6.47천명\n"
     ]
    },
    {
     "name": "stderr",
     "output_type": "stream",
     "text": [
      " 16%|█▌        | 8/50 [01:46<08:47, 12.57s/it]"
     ]
    },
    {
     "name": "stdout",
     "output_type": "stream",
     "text": [
      "7 https://youtu.be/RaW5zjnGMAE&pp https://img.youtube.com/vi/RaW5zjnGMAE/sddefault.jpg 👟아디다스가 작정하고 만든 역대 가장 가볍고 가장 비싼 1회용 러닝화 애슬레틱 라이프 Athletic Life UCM9MPGAGS-StU5swPiZHnHg 2023. 10. 4. 64만 10.5만명\n"
     ]
    },
    {
     "name": "stderr",
     "output_type": "stream",
     "text": [
      " 18%|█▊        | 9/50 [02:05<09:48, 14.35s/it]"
     ]
    },
    {
     "name": "stdout",
     "output_type": "stream",
     "text": [
      "8 https://youtu.be/dhiTSfpnrhQ&t https://img.youtube.com/vi/dhiTSfpnrhQ&t/sddefault.jpg HAUL ✯ 6월 여름 내돈내산 쇼핑하울 🛒 여행지에서 돌려입기 좋은 아이템 19가지 ✶༄ ‧₊˚ YUZU 유즈 UCkthQXGzGcLw5oW2KWTM4dg 2024. 6. 5. 6.7만 18.9만명\n"
     ]
    },
    {
     "name": "stderr",
     "output_type": "stream",
     "text": [
      " 20%|██        | 10/50 [02:15<08:49, 13.25s/it]"
     ]
    },
    {
     "name": "stdout",
     "output_type": "stream",
     "text": [
      "9 https://youtu.be/1ZmAP5FqfjM&pp https://img.youtube.com/vi/1ZmAP5FqfjM/sddefault.jpg 지금 제일 핫한 아디다스 트랙팬츠 기장별 스타일링! Bella 우영 UCi8bsCsN-kZtfqpW4Gd405Q 2024. 6. 14. 7.3천 1.35만명\n"
     ]
    },
    {
     "name": "stderr",
     "output_type": "stream",
     "text": [
      " 22%|██▏       | 11/50 [02:26<08:01, 12.36s/it]"
     ]
    },
    {
     "name": "stdout",
     "output_type": "stream",
     "text": [
      "10 https://youtu.be/4ejk7orL194&pp https://img.youtube.com/vi/4ejk7orL194/sddefault.jpg 아디다스 회장의 난잡한 가족사 팩트체크 책트폭행 UC6fHsw10ln9iFNdv4e2LGww 2023. 9. 9. 32만 14.8만명\n"
     ]
    },
    {
     "name": "stderr",
     "output_type": "stream",
     "text": [
      " 24%|██▍       | 12/50 [02:36<07:25, 11.73s/it]"
     ]
    },
    {
     "name": "stdout",
     "output_type": "stream",
     "text": [
      "11 https://youtu.be/UG0To9X7ceM&pp https://img.youtube.com/vi/UG0To9X7ceM/sddefault.jpg 러시아 사람들은 왜 이렇게 아디다스를 좋아할까? [스포츠 탐탐 : 29편] / 스브스뉴스 스브스뉴스 SUBUSUNEWS UCQabORQKQRHP-iUqe-xIFvg 2024. 5. 16. 15만 104만명\n"
     ]
    },
    {
     "name": "stderr",
     "output_type": "stream",
     "text": [
      " 26%|██▌       | 13/50 [02:43<06:16, 10.17s/it]"
     ]
    },
    {
     "name": "stdout",
     "output_type": "stream",
     "text": [
      "12 https://youtu.be/QDp6sf9lak8&pp https://img.youtube.com/vi/QDp6sf9lak8/sddefault.jpg 제목 크롤링 오류 채널명 크롤링 오류 UCZSQpNkiVSfAv_vwrEMdolQ 업로드 일자 크롤링 오류 조회수 크롤링 오류 구독자 수 크롤링 오류\n"
     ]
    },
    {
     "name": "stderr",
     "output_type": "stream",
     "text": [
      " 28%|██▊       | 14/50 [02:55<06:24, 10.69s/it]"
     ]
    },
    {
     "name": "stdout",
     "output_type": "stream",
     "text": [
      "13 https://youtu.be/xa75-gff1Wg&pp https://img.youtube.com/vi/xa75-gff1Wg/sddefault.jpg 6분만에 알아보는 아디다스에 대한 14가지 사실 / 아디다스랑 퓨마는 형제다! / 아디다스가 명품 브랜드랑 협업하는 이유? / 삼선 쓰레빠의 탄생비화? 앤드류의 5분 대백과사전 UCglNtEJO31sjAsEDGXJWYfg 2023. 1. 16. 5.3천 19.9만명\n"
     ]
    },
    {
     "name": "stderr",
     "output_type": "stream",
     "text": [
      " 30%|███       | 15/50 [03:06<06:19, 10.84s/it]"
     ]
    },
    {
     "name": "stdout",
     "output_type": "stream",
     "text": [
      "14 https://youtu.be/V0uVmZmQpwA&pp https://img.youtube.com/vi/V0uVmZmQpwA/sddefault.jpg UA All Day, UA All Night Under Armour UCsjmH-FH4KbZMR3_AT8egWQ 2024. 4. 29. 4.6만 28.9만명\n"
     ]
    },
    {
     "name": "stderr",
     "output_type": "stream",
     "text": [
      " 32%|███▏      | 16/50 [03:15<05:52, 10.36s/it]"
     ]
    },
    {
     "name": "stdout",
     "output_type": "stream",
     "text": [
      "15 https://youtu.be/KNdpSWzH9NU&pp https://img.youtube.com/vi/KNdpSWzH9NU/sddefault.jpg Reebok - Classic Leather Preserve The Past Reebok UCLhK4_HF-LEtBC71LYL2Z4g 2023. 1. 25. 11만 16.7만명\n"
     ]
    },
    {
     "name": "stderr",
     "output_type": "stream",
     "text": [
      " 34%|███▍      | 17/50 [03:26<05:52, 10.69s/it]"
     ]
    },
    {
     "name": "stdout",
     "output_type": "stream",
     "text": [
      "16 https://youtu.be/-ukyFQMR_4k&pp https://img.youtube.com/vi/-ukyFQMR_4k/sddefault.jpg ASICS Running | METASPEED™ PARIS Series | Move your mind with ASICS ASICS UCcmYRPv2dNVkSWgCp_5M7yA 2024. 5. 23. 1.5천 3.97만명\n"
     ]
    },
    {
     "name": "stderr",
     "output_type": "stream",
     "text": [
      " 36%|███▌      | 18/50 [03:38<05:46, 10.83s/it]"
     ]
    },
    {
     "name": "stdout",
     "output_type": "stream",
     "text": [
      "17 https://youtu.be/RaW5zjnGMAE&pp https://img.youtube.com/vi/RaW5zjnGMAE/sddefault.jpg 👟아디다스가 작정하고 만든 역대 가장 가볍고 가장 비싼 1회용 러닝화 애슬레틱 라이프 Athletic Life UCM9MPGAGS-StU5swPiZHnHg 2023. 10. 4. 64만 10.5만명\n"
     ]
    },
    {
     "name": "stderr",
     "output_type": "stream",
     "text": [
      " 38%|███▊      | 19/50 [03:47<05:21, 10.36s/it]"
     ]
    },
    {
     "name": "stdout",
     "output_type": "stream",
     "text": [
      "18 https://youtu.be/9QhTdBpVW6E&t https://img.youtube.com/vi/9QhTdBpVW6E&t/sddefault.jpg 패션하울 ✴ 4월 봄 내돈내산 18가지 🛒 니들needle UCHlpg27bXgmU_lfDd7hHxyA 2024. 4. 19. 8.9만 6.17만명\n"
     ]
    },
    {
     "name": "stderr",
     "output_type": "stream",
     "text": [
      " 40%|████      | 20/50 [03:57<05:12, 10.42s/it]"
     ]
    },
    {
     "name": "stdout",
     "output_type": "stream",
     "text": [
      "19 https://youtu.be/7gKSI0x1ZVY&pp https://img.youtube.com/vi/7gKSI0x1ZVY/sddefault.jpg \"인기 상품은 전부 온라인에...\" 남은 건 빚 뿐이라는 아디다스 일반 매장 점주들의 눈물 | 추적60분 KBS 231117 방송 KBS 추적60분 UCy-6oZwPwrR_W-zYnqLD8dg 2023. 11. 27. 368만 61.6만명\n"
     ]
    },
    {
     "name": "stderr",
     "output_type": "stream",
     "text": [
      " 42%|████▏     | 21/50 [04:07<04:57, 10.27s/it]"
     ]
    },
    {
     "name": "stdout",
     "output_type": "stream",
     "text": [
      "20 https://youtu.be/h-YQnBdIBIc&pp https://img.youtube.com/vi/h-YQnBdIBIc/sddefault.jpg ENG) [이랫배] 일주일동안 아디다스 져지 돌려입기🕶●𖦹 늦봄-초여름 일주일코디 간절기 데일리룩 OOTDVLOG What I wear in a week 배배자매-BaeBae vlog UCXe53j9Mq0rAWmbIzOMF9fw 2024. 5. 19. 5.3만 48만명\n"
     ]
    },
    {
     "name": "stderr",
     "output_type": "stream",
     "text": [
      " 44%|████▍     | 22/50 [04:18<04:53, 10.47s/it]"
     ]
    },
    {
     "name": "stdout",
     "output_type": "stream",
     "text": [
      "21 https://youtu.be/-oo0qR8caiw&pp https://img.youtube.com/vi/-oo0qR8caiw/sddefault.jpg 홀란드가 아디다스를 거절한 이유 축모 Total Football UCCQuPBBpNTU8hc6njH6LwjQ 2024. 4. 26. 6.9만 2.88천명\n"
     ]
    },
    {
     "name": "stderr",
     "output_type": "stream",
     "text": [
      " 46%|████▌     | 23/50 [04:28<04:40, 10.38s/it]"
     ]
    },
    {
     "name": "stdout",
     "output_type": "stream",
     "text": [
      "22 https://youtu.be/j2IFjbM0Lp0&pp https://img.youtube.com/vi/j2IFjbM0Lp0/sddefault.jpg 77년 만에 이별하는 아디다스와 독일 축구｜크랩 크랩 KLAB UCoxT1kQSLq564FwpK473w-g 2024. 4. 1. 18만 57.4만명\n"
     ]
    },
    {
     "name": "stderr",
     "output_type": "stream",
     "text": [
      " 48%|████▊     | 24/50 [04:38<04:26, 10.23s/it]"
     ]
    },
    {
     "name": "stdout",
     "output_type": "stream",
     "text": [
      "23 https://youtu.be/M2T0Pyfmml8&pp https://img.youtube.com/vi/M2T0Pyfmml8/sddefault.jpg 흔들리는 나이키, 폭락하는 아디다스 슈카월드 UCsJ6RuBiTVWRX156FVbeaGg 2024. 4. 26. 96만 325만명\n"
     ]
    },
    {
     "name": "stderr",
     "output_type": "stream",
     "text": [
      " 50%|█████     | 25/50 [04:48<04:11, 10.04s/it]"
     ]
    },
    {
     "name": "stdout",
     "output_type": "stream",
     "text": [
      "24 https://youtu.be/OwpQ3Yby2Wo&pp https://img.youtube.com/vi/OwpQ3Yby2Wo/sddefault.jpg 나이키/뉴발란스/아디다스/살로몬/혼스비 매일 신는 최애 운동화는?! 레이디제인 lady Jane UCN5TxY0WwQM8xUl2daYzgFA 2024. 3. 29. 10만 7.37만명\n"
     ]
    },
    {
     "name": "stderr",
     "output_type": "stream",
     "text": [
      " 52%|█████▏    | 26/50 [04:57<03:54,  9.75s/it]"
     ]
    },
    {
     "name": "stdout",
     "output_type": "stream",
     "text": [
      "25 https://youtu.be/vbTcDCOZneE&pp https://img.youtube.com/vi/vbTcDCOZneE/sddefault.jpg 'TURN UP MOVEMENT' 스포츠 브랜드 아디다스 FWD-02 SPORT 블루투스 이어폰 30s 캠페인 영상(feat. Sasha) SOVICO AV UCRL8UKLmf5FKpL7YeLqtEIg 2023. 6. 27. 1.8만 380명\n"
     ]
    },
    {
     "name": "stderr",
     "output_type": "stream",
     "text": [
      " 54%|█████▍    | 27/50 [05:06<03:38,  9.51s/it]"
     ]
    },
    {
     "name": "stdout",
     "output_type": "stream",
     "text": [
      "26 https://youtu.be/lyb5IDOjqA0&pp https://img.youtube.com/vi/lyb5IDOjqA0/sddefault.jpg 또래보다 젊어 보이는 여성들은 올해 이 운동화를 신습니다. 나이보다 어려 보이는 여성들의 운동화는 뭐가 달랐을까...?  | 2024 운동화 트렌드 미드라이프 GML UCSzolyQzJ-ogUIfKUBy4VEw 2023. 12. 18. 12만 5.48만명\n"
     ]
    },
    {
     "name": "stderr",
     "output_type": "stream",
     "text": [
      " 56%|█████▌    | 28/50 [05:15<03:26,  9.40s/it]"
     ]
    },
    {
     "name": "stdout",
     "output_type": "stream",
     "text": [
      "27 https://youtu.be/VVLukgG7HGg&t https://img.youtube.com/vi/VVLukgG7HGg&t/sddefault.jpg 💜2024년 여자운동화 추천! 트렌드!! 뜨는 운동화까지 싹 정리해봄. Bora Claire (보라끌레르) UCSrRZH9QT6li5PIAv0r_6QA 2024. 1. 30. 55만 69.8만명\n"
     ]
    },
    {
     "name": "stderr",
     "output_type": "stream",
     "text": [
      " 58%|█████▊    | 29/50 [05:26<03:25,  9.77s/it]"
     ]
    },
    {
     "name": "stdout",
     "output_type": "stream",
     "text": [
      "28 https://youtu.be/U3KIERgu7hA&pp https://img.youtube.com/vi/U3KIERgu7hA/sddefault.jpg 아디다스키즈풋살화 추천 판매순위 Top10 || 가격 평점 후기 비교 코코티비 UCc_JZODO1HZPcQvzy8lt2sw 2023. 7. 4. 250 3.97천명\n"
     ]
    },
    {
     "name": "stderr",
     "output_type": "stream",
     "text": [
      " 60%|██████    | 30/50 [05:34<03:08,  9.41s/it]"
     ]
    },
    {
     "name": "stdout",
     "output_type": "stream",
     "text": [
      "29 https://youtu.be/JVfxw-IFVt4&pp https://img.youtube.com/vi/JVfxw-IFVt4/sddefault.jpg 아디다스아노락 추천 판매순위 Top10 || 가격 평점 후기 비교 쇼핑헬퍼 UCE0P8Mm8dOqQJCiUqklGjEQ 2023. 6. 22. 272 1.99만명\n"
     ]
    },
    {
     "name": "stderr",
     "output_type": "stream",
     "text": [
      " 62%|██████▏   | 31/50 [05:43<02:54,  9.17s/it]"
     ]
    },
    {
     "name": "stdout",
     "output_type": "stream",
     "text": [
      "30 https://youtu.be/8t0YcNM0eS4&pp https://img.youtube.com/vi/8t0YcNM0eS4/sddefault.jpg 그 시절, 우리가 사랑했던 아디다스 져지 | 베켄바우어, 파이어버드 잼준의 패션 일기 UC-xm6lqB59qh13MkxetXD9w 2024. 3. 5. 2.6만 367명\n"
     ]
    },
    {
     "name": "stderr",
     "output_type": "stream",
     "text": [
      " 64%|██████▍   | 32/50 [05:53<02:51,  9.51s/it]"
     ]
    },
    {
     "name": "stdout",
     "output_type": "stream",
     "text": [
      "31 https://youtu.be/5mq7y1E8jEY&pp https://img.youtube.com/vi/5mq7y1E8jEY/sddefault.jpg 👟요즘, OO운동화가 뜨는 이유❓️'옷잘알'들은 미리 쟁이는 여름운동화 7 추천 Bora Claire (보라끌레르) UCSrRZH9QT6li5PIAv0r_6QA 2024. 5. 25. 18만 69.8만명\n"
     ]
    },
    {
     "name": "stderr",
     "output_type": "stream",
     "text": [
      " 66%|██████▌   | 33/50 [06:08<03:07, 11.00s/it]"
     ]
    },
    {
     "name": "stdout",
     "output_type": "stream",
     "text": [
      "32 https://youtu.be/6tzHNvjMHoM&pp https://img.youtube.com/vi/6tzHNvjMHoM/sddefault.jpg 🍃 고르고 고른 바람막이 9가지 추천 & 리뷰 | 나이키,아디다스,아크테릭스, 뉴발란스...등등 나의 최애 바람막이는? 러브솔 UCy3Dp6QP6bQiB7dwsBZEgwQ 2024. 4. 21. 13만 11.7만명\n"
     ]
    },
    {
     "name": "stderr",
     "output_type": "stream",
     "text": [
      " 68%|██████▊   | 34/50 [06:14<02:35,  9.70s/it]"
     ]
    },
    {
     "name": "stdout",
     "output_type": "stream",
     "text": [
      "33 https://youtu.be/7jpBJqyQ0eY&pp https://img.youtube.com/vi/7jpBJqyQ0eY/sddefault.jpg 제목 크롤링 오류 채널명 크롤링 오류 UC6Ve4mB8Cvi3F4rlt3w4gaw 업로드 일자 크롤링 오류 조회수 크롤링 오류 구독자 수 크롤링 오류\n"
     ]
    },
    {
     "name": "stderr",
     "output_type": "stream",
     "text": [
      " 70%|███████   | 35/50 [06:26<02:34, 10.31s/it]"
     ]
    },
    {
     "name": "stdout",
     "output_type": "stream",
     "text": [
      "34 https://youtu.be/VqSaetJ9u_4&pp https://img.youtube.com/vi/VqSaetJ9u_4/sddefault.jpg 리셀가 오르기전에 사야됩니다! 지금 가장 주목받고있는 스니커즈 아디다스 스페지알 [운동화 트렌드] 모도의옷방 UCVBFd4ItGBDC_sgxB4alYVQ 2024. 3. 10. 2.5만 9.96천명\n"
     ]
    },
    {
     "name": "stderr",
     "output_type": "stream",
     "text": [
      " 72%|███████▏  | 36/50 [06:36<02:20, 10.06s/it]"
     ]
    },
    {
     "name": "stdout",
     "output_type": "stream",
     "text": [
      "35 https://youtu.be/HxiakaffUqI&pp https://img.youtube.com/vi/HxiakaffUqI/sddefault.jpg 아디다스모자 추천 판매순위 Top10 || 가격 평점 후기 비교 하나쇼핑 UCIqwrRdpysk_KqW1zgfALGQ 2023. 7. 5. 406 4.51천명\n"
     ]
    },
    {
     "name": "stderr",
     "output_type": "stream",
     "text": [
      " 74%|███████▍  | 37/50 [06:44<02:03,  9.51s/it]"
     ]
    },
    {
     "name": "stdout",
     "output_type": "stream",
     "text": [
      "36 https://youtu.be/dvwFCaTlyA4&pp https://img.youtube.com/vi/dvwFCaTlyA4/sddefault.jpg [EP.06] 2024 마원의 신발장 정리! 아디다스 신발정리! feat. 초보자용 러닝화 추천 마원tv [MasterWonTV] UCcrn_rpYK0ElkREHbpN1KFg 2024. 6. 15. 1.2천 8.64천명\n"
     ]
    },
    {
     "name": "stderr",
     "output_type": "stream",
     "text": [
      " 76%|███████▌  | 38/50 [06:55<01:59,  9.95s/it]"
     ]
    },
    {
     "name": "stdout",
     "output_type": "stream",
     "text": [
      "37 https://youtu.be/cbNjEfhBY1o&pp https://img.youtube.com/vi/cbNjEfhBY1o/sddefault.jpg 아디다스트레이닝바지 추천 판매순위 Top10 || 가격 평점 후기 비교 어바웃쇼핑 UC6Ve4mB8Cvi3F4rlt3w4gaw 2023. 6. 18. 117 3.59천명\n"
     ]
    },
    {
     "name": "stderr",
     "output_type": "stream",
     "text": [
      " 78%|███████▊  | 39/50 [07:04<01:48,  9.85s/it]"
     ]
    },
    {
     "name": "stdout",
     "output_type": "stream",
     "text": [
      "38 https://youtu.be/Qy_qvD62Z6g&pp https://img.youtube.com/vi/Qy_qvD62Z6g/sddefault.jpg 🇯🇵도쿄 구석구석 쇼핑 꿀팁 대방출🛍️ |삼바 사시려면 아디다스 말고 'OO매장'으로 가세요! | 슈프림, 꼼데가르송, 아디다스 삼바, 쿠로미, 에르메스 주워너비 UCr0mrjrjT2h6SH8tFIqBF8w 2023. 6. 28. 763 459명\n"
     ]
    },
    {
     "name": "stderr",
     "output_type": "stream",
     "text": [
      " 80%|████████  | 40/50 [07:13<01:34,  9.47s/it]"
     ]
    },
    {
     "name": "stdout",
     "output_type": "stream",
     "text": [
      "39 https://youtu.be/OG4xFONb6pk&pp https://img.youtube.com/vi/OG4xFONb6pk/sddefault.jpg 2024 요즘 뜨는 운동화 모음! 다양한 코디팁까지! / 아디다스, 삼바, 가젤, 스페지알, 오니츠카 타이거 / adidas, samba, gazelle, spezial 마이 모멘또 my momento UCBtmRin-fYPy2qQPixbQIKg 2024. 1. 24. 12만 8.18만명\n"
     ]
    },
    {
     "name": "stderr",
     "output_type": "stream",
     "text": [
      " 82%|████████▏ | 41/50 [07:21<01:20,  8.91s/it]"
     ]
    },
    {
     "name": "stdout",
     "output_type": "stream",
     "text": [
      "40 https://youtu.be/UQfqBEfJs3A&pp https://img.youtube.com/vi/UQfqBEfJs3A/sddefault.jpg 아디다스버킷햇 추천 판매순위 Top10 || 가격 평점 후기 비교 하나쇼핑 UCIqwrRdpysk_KqW1zgfALGQ 2023. 7. 5. 310 4.51천명\n"
     ]
    },
    {
     "name": "stderr",
     "output_type": "stream",
     "text": [
      " 84%|████████▍ | 42/50 [07:29<01:09,  8.72s/it]"
     ]
    },
    {
     "name": "stdout",
     "output_type": "stream",
     "text": [
      "41 https://youtu.be/-qVqA4exHkM&pp https://img.youtube.com/vi/-qVqA4exHkM/sddefault.jpg 2023년 가장많이팔리는 아디다스키즈운동화 제품 추천순위 TOP10 실속쇼핑 UCO6nulU6Ynd49wME4r21OjA 2023. 6. 26. 77 1.16천명\n"
     ]
    },
    {
     "name": "stderr",
     "output_type": "stream",
     "text": [
      " 86%|████████▌ | 43/50 [07:41<01:07,  9.68s/it]"
     ]
    },
    {
     "name": "stdout",
     "output_type": "stream",
     "text": [
      "42 https://youtu.be/7FadwxyvqmA&t https://img.youtube.com/vi/7FadwxyvqmA&t/sddefault.jpg 👟친절한 우재씨가 봄 신발 골라드립니다  | 살까요? 말까요? 신발 잡화 편 오늘의 주우재 UCw-kXdzxMdMdLNI0ZlFFbmA 2024. 3. 29. 64만 114만명\n"
     ]
    },
    {
     "name": "stderr",
     "output_type": "stream",
     "text": [
      " 88%|████████▊ | 44/50 [07:51<00:58,  9.79s/it]"
     ]
    },
    {
     "name": "stdout",
     "output_type": "stream",
     "text": [
      "43 https://youtu.be/Ih0DZZTfuQw&pp https://img.youtube.com/vi/Ih0DZZTfuQw/sddefault.jpg 독일 국민 기업 아디다스가 독일을 잃어버린 이유 날리지식 UC4t8p3RRMwWMCOmOgkPItZg 2024. 5. 3. 4.6만 3.2천명\n"
     ]
    },
    {
     "name": "stderr",
     "output_type": "stream",
     "text": [
      " 90%|█████████ | 45/50 [08:00<00:48,  9.63s/it]"
     ]
    },
    {
     "name": "stdout",
     "output_type": "stream",
     "text": [
      "44 https://youtu.be/rDIB5NnRQW8&t https://img.youtube.com/vi/rDIB5NnRQW8&t/sddefault.jpg 삼바, 살로몬 말고✔️ 현시점! 가~장 핫한 2024 데일리 운동화 TOP 5👟 AliceFunk 앨리스펑크 UCcRTcy_GuofiJLPLMlVcGxw 2024. 4. 16. 33만 75.3만명\n"
     ]
    },
    {
     "name": "stderr",
     "output_type": "stream",
     "text": [
      " 92%|█████████▏| 46/50 [08:09<00:37,  9.38s/it]"
     ]
    },
    {
     "name": "stdout",
     "output_type": "stream",
     "text": [
      "45 https://youtu.be/byoVDNLsraw&pp https://img.youtube.com/vi/byoVDNLsraw/sddefault.jpg 아디다스 타쿠미센9 리뷰/ 프로3와 차이점? 안은태 UCu4f7WgQ6uFo55NUtxx_a7g 2023. 6. 27. 1.3만 4.86천명\n"
     ]
    },
    {
     "name": "stderr",
     "output_type": "stream",
     "text": [
      " 94%|█████████▍| 47/50 [08:15<00:25,  8.40s/it]"
     ]
    },
    {
     "name": "stdout",
     "output_type": "stream",
     "text": [
      "46 https://youtu.be/sKy2zoncek8&pp https://img.youtube.com/vi/sKy2zoncek8/sddefault.jpg 제목 크롤링 오류 채널명 크롤링 오류 UCIntmEEb1_AnAms6gYxZVuw 업로드 일자 크롤링 오류 조회수 크롤링 오류 구독자 수 크롤링 오류\n"
     ]
    },
    {
     "name": "stderr",
     "output_type": "stream",
     "text": [
      " 96%|█████████▌| 48/50 [08:25<00:17,  8.87s/it]"
     ]
    },
    {
     "name": "stdout",
     "output_type": "stream",
     "text": [
      "47 https://youtu.be/5mq7y1E8jEY&pp https://img.youtube.com/vi/5mq7y1E8jEY/sddefault.jpg 👟요즘, OO운동화가 뜨는 이유❓️'옷잘알'들은 미리 쟁이는 여름운동화 7 추천 Bora Claire (보라끌레르) UCSrRZH9QT6li5PIAv0r_6QA 2024. 5. 25. 18만 69.8만명\n"
     ]
    },
    {
     "name": "stderr",
     "output_type": "stream",
     "text": [
      " 98%|█████████▊| 49/50 [08:34<00:09,  9.08s/it]"
     ]
    },
    {
     "name": "stdout",
     "output_type": "stream",
     "text": [
      "48 https://youtu.be/6tzHNvjMHoM&pp https://img.youtube.com/vi/6tzHNvjMHoM/sddefault.jpg 🍃 고르고 고른 바람막이 9가지 추천 & 리뷰 | 나이키,아디다스,아크테릭스, 뉴발란스...등등 나의 최애 바람막이는? 러브솔 UCy3Dp6QP6bQiB7dwsBZEgwQ 2024. 4. 21. 13만 11.7만명\n"
     ]
    },
    {
     "name": "stderr",
     "output_type": "stream",
     "text": [
      "100%|██████████| 50/50 [08:45<00:00, 10.51s/it]\n"
     ]
    },
    {
     "name": "stdout",
     "output_type": "stream",
     "text": [
      "49 https://youtu.be/_wI7FTBUTl0&pp https://img.youtube.com/vi/_wI7FTBUTl0/sddefault.jpg 아디다스삼바OG 추천 판매순위 Top10 || 가격 평점 후기 비교 쇼핑헬퍼 UCE0P8Mm8dOqQJCiUqklGjEQ 2023. 7. 9. 684 1.99만명\n"
     ]
    },
    {
     "name": "stderr",
     "output_type": "stream",
     "text": [
      "  2%|▏         | 1/50 [00:13<10:39, 13.05s/it]"
     ]
    },
    {
     "name": "stdout",
     "output_type": "stream",
     "text": [
      "0 https://youtu.be/6Wa16ZT-KB0&t https://img.youtube.com/vi/6Wa16ZT-KB0&t/sddefault.jpg UNBOXING📦 여름맞이 내돈내산 택배 언박싱🎀 위시템 청산했ㄷ ㅏ.. 💸 | 올리브영 하울, 여름 패션 하울, 존예 여름 블라우스, 리본 슬링백, 여름 보부상 가방, 쿠팡 하울 MINDELI민델리 UCNcstCjc7E85wttJMn7OD9Q 2024. 6. 8. 1.8만 2.46만명\n"
     ]
    },
    {
     "name": "stderr",
     "output_type": "stream",
     "text": [
      "  4%|▍         | 2/50 [00:21<08:22, 10.47s/it]"
     ]
    },
    {
     "name": "stdout",
     "output_type": "stream",
     "text": [
      "1 https://youtu.be/rzCE6ezCYBw&pp https://img.youtube.com/vi/rzCE6ezCYBw/sddefault.jpg [VISION] 마뗑킴: 보는 순간, 몰입되는 존재감편 Vision Holdings UCOyPH8iV4Aslw00vHH8O2XA 2023. 12. 15. 2.3천 294명\n"
     ]
    },
    {
     "name": "stderr",
     "output_type": "stream",
     "text": [
      "  6%|▌         | 3/50 [00:29<07:11,  9.19s/it]"
     ]
    },
    {
     "name": "stdout",
     "output_type": "stream",
     "text": [
      "2 https://youtu.be/JsEo1A46728&pp https://img.youtube.com/vi/JsEo1A46728/sddefault.jpg 김다인 마뗑킴 대표 - 패션학개론 | Y캠퍼스 23년 1학기 전공강의 Y 스튜디오 UCsRejGuyGCSUVGKC0wo55ig 2023. 7. 13. 926 1.09만명\n"
     ]
    },
    {
     "name": "stderr",
     "output_type": "stream",
     "text": [
      "  8%|▊         | 4/50 [00:40<07:37,  9.95s/it]"
     ]
    },
    {
     "name": "stdout",
     "output_type": "stream",
     "text": [
      "3 https://youtu.be/IjZVpEX3XJw&pp https://img.youtube.com/vi/IjZVpEX3XJw/sddefault.jpg 마리떼+마뗑킴+마르디=???, 이 브랜드 좀... 심하네.. 까디 인사이트 UChgudP6xPrXWTZQQE3Z5bLg 2024. 2. 3. 1.1천 6.17천명\n"
     ]
    },
    {
     "name": "stderr",
     "output_type": "stream",
     "text": [
      " 10%|█         | 5/50 [00:55<08:56, 11.91s/it]"
     ]
    },
    {
     "name": "stdout",
     "output_type": "stream",
     "text": [
      "4 https://youtu.be/68Dnv_N251I&pp https://img.youtube.com/vi/68Dnv_N251I/sddefault.jpg MZ들이 사랑하는 브랜드 마뗑킴 브랜드 소개!✔️골격별 마뗑킴 패션아이템 추천😎 바이허의 팽대표 UCO99S8ZmPfoSIEpXIWJwOjA 2024. 1. 14. 4.7천 4.08만명\n"
     ]
    },
    {
     "name": "stderr",
     "output_type": "stream",
     "text": [
      " 12%|█▏        | 6/50 [01:12<09:53, 13.48s/it]"
     ]
    },
    {
     "name": "stdout",
     "output_type": "stream",
     "text": [
      "5 https://youtu.be/yEaPOYAs8m0&pp https://img.youtube.com/vi/yEaPOYAs8m0/sddefault.jpg 아..😭진심 잘샀다💓 요즘 핫한 보부상백부터, 존예 미니백까지 직장인&대학생 가방하울 BEST7 (ft.노트북가방, 갓성비가방등)ㅣ인보라INBORA상 INBORA인보라 UCUrCIBJ3ScRAOLgPElscZqA 2024. 5. 22. 7만 47.3만명\n"
     ]
    },
    {
     "name": "stderr",
     "output_type": "stream",
     "text": [
      " 14%|█▍        | 7/50 [01:27<10:00, 13.97s/it]"
     ]
    },
    {
     "name": "stdout",
     "output_type": "stream",
     "text": [
      "6 https://youtu.be/-0TArh73H8c&pp https://img.youtube.com/vi/-0TArh73H8c/sddefault.jpg 👜 보부상 친구랑 왓츠인마이백 | 꿀템 꽤 많음(아마도••) 세린_SERIN UCsI-s5XWzzQxcO4egxn-2tg 2024. 5. 27. 1.6만 6.72천명\n"
     ]
    },
    {
     "name": "stderr",
     "output_type": "stream",
     "text": [
      " 16%|█▌        | 8/50 [01:42<09:59, 14.26s/it]"
     ]
    },
    {
     "name": "stdout",
     "output_type": "stream",
     "text": [
      "7 https://youtu.be/hSS1vIRXNbw&pp https://img.youtube.com/vi/hSS1vIRXNbw/sddefault.jpg 아울렛에 마뗑킴이 있다고? / 옵스큐라 / 헤칭룸 / 유스 차우차우 UCtfnYEgnExfnc63kGk7tBFQ 2024. 2. 29. 2.7천 734명\n"
     ]
    },
    {
     "name": "stderr",
     "output_type": "stream",
     "text": [
      " 18%|█▊        | 9/50 [01:48<08:05, 11.85s/it]"
     ]
    },
    {
     "name": "stdout",
     "output_type": "stream",
     "text": [
      "8 https://youtu.be/qkNpwsl2D7A&pp https://img.youtube.com/vi/qkNpwsl2D7A/sddefault.jpg 제목 크롤링 오류 채널명 크롤링 오류 UCpoM3OZG9FnH4eyHeVlC9JA 업로드 일자 크롤링 오류 조회수 크롤링 오류 구독자 수 크롤링 오류\n"
     ]
    },
    {
     "name": "stderr",
     "output_type": "stream",
     "text": [
      " 20%|██        | 10/50 [02:07<09:23, 14.09s/it]"
     ]
    },
    {
     "name": "stdout",
     "output_type": "stream",
     "text": [
      "9 https://youtu.be/MVdfVgJW8Ow&pp https://img.youtube.com/vi/MVdfVgJW8Ow/sddefault.jpg 내돈내산 하울🌷예뻐서 눈돌아가는 17가지 봄옷 언박싱 & 같이 입어보아요,,🫢 (존예레더자켓, 봄원피스, 리본셔츠) 지안씨JIANSSI UCOrOHFBWXwInC1-nycKzX-g 2024. 2. 28. 12만 25.7만명\n"
     ]
    },
    {
     "name": "stderr",
     "output_type": "stream",
     "text": [
      " 22%|██▏       | 11/50 [02:16<08:09, 12.54s/it]"
     ]
    },
    {
     "name": "stdout",
     "output_type": "stream",
     "text": [
      "10 https://youtu.be/SduCSM6RdqU&pp https://img.youtube.com/vi/SduCSM6RdqU/sddefault.jpg [패토리] MZ를 사로잡고 2년 만에 500억 매출, '마뗑킴(MATIN KIM)' 패션 브랜드 김다인 대표 스토리 프로멀 UClexyT3Cph6aNDgxa5-Ts6g 2023. 7. 23. 1.2천 4.49천명\n"
     ]
    },
    {
     "name": "stderr",
     "output_type": "stream",
     "text": [
      " 24%|██▍       | 12/50 [02:23<06:41, 10.57s/it]"
     ]
    },
    {
     "name": "stdout",
     "output_type": "stream",
     "text": [
      "11 https://youtu.be/CTk9_VFdQIc&pp https://img.youtube.com/vi/CTk9_VFdQIc/sddefault.jpg 제목 크롤링 오류 채널명 크롤링 오류 UCOaooYdrBuum5L5Dh2qCv2A 업로드 일자 크롤링 오류 조회수 크롤링 오류 구독자 수 크롤링 오류\n"
     ]
    },
    {
     "name": "stderr",
     "output_type": "stream",
     "text": [
      " 26%|██▌       | 13/50 [02:37<07:14, 11.73s/it]"
     ]
    },
    {
     "name": "stdout",
     "output_type": "stream",
     "text": [
      "12 https://youtu.be/DryhmXPhj60&pp https://img.youtube.com/vi/DryhmXPhj60/sddefault.jpg 내돈내산 봄맞이 쇼핑리스트📦ㅣ신상 명품백, 바시티 자켓, 기본 티셔츠, 치마바지, 스니커즈, 볼캡, 귀욤키링, 슬림핏 팬츠, 제작 쥬얼리 레이디제인 lady Jane UCN5TxY0WwQM8xUl2daYzgFA 2024. 3. 1. 10만 7.37만명\n"
     ]
    },
    {
     "name": "stderr",
     "output_type": "stream",
     "text": [
      " 28%|██▊       | 14/50 [02:42<05:51,  9.77s/it]"
     ]
    },
    {
     "name": "stdout",
     "output_type": "stream",
     "text": [
      "13 https://youtu.be/HTwqTergcb8&pp https://img.youtube.com/vi/HTwqTergcb8/sddefault.jpg 제목 크롤링 오류 채널명 크롤링 오류 UCrN_QOb0VxLlGeAbLLDxnhw 업로드 일자 크롤링 오류 조회수 크롤링 오류 구독자 수 크롤링 오류\n"
     ]
    },
    {
     "name": "stderr",
     "output_type": "stream",
     "text": [
      " 30%|███       | 15/50 [02:51<05:33,  9.54s/it]"
     ]
    },
    {
     "name": "stdout",
     "output_type": "stream",
     "text": [
      "14 https://youtu.be/Dn2EvQRKNSA&pp https://img.youtube.com/vi/Dn2EvQRKNSA/sddefault.jpg 본격 해체 리뷰! 가장 핫한 가방 무신사 1위 마뗑킴, 가방제작자가 해체해봤습니다. 사부작트 UCgHdX41sc25RKj8Ek8RP4OQ 2024. 2. 26. 6천 1.24천명\n"
     ]
    },
    {
     "name": "stderr",
     "output_type": "stream",
     "text": [
      " 32%|███▏      | 16/50 [02:59<05:04,  8.96s/it]"
     ]
    },
    {
     "name": "stdout",
     "output_type": "stream",
     "text": [
      "15 https://youtu.be/gMbQkhHVsWs&pp https://img.youtube.com/vi/gMbQkhHVsWs/sddefault.jpg 뗑며들다.. 마뗑킴이 MZ세대에게 가장 사랑받는 패션 브랜드가 된 이유 김도연 UC65POKmQ9pincDXPxt4jVrQ 2023. 10. 4. 140 구독자 수 크롤링 오류\n"
     ]
    },
    {
     "name": "stderr",
     "output_type": "stream",
     "text": [
      " 34%|███▍      | 17/50 [03:08<04:57,  9.02s/it]"
     ]
    },
    {
     "name": "stdout",
     "output_type": "stream",
     "text": [
      "16 https://youtu.be/5Ne0H77uj-U&pp https://img.youtube.com/vi/5Ne0H77uj-U/sddefault.jpg 성수vlog / 성수하면 팝업, 로에베 여름향수 추천💙마뗑킴 카드지갑, 앤더슨씨&세터 팝업, 더바넷 언박싱까지! 다쿵_Dacoong UC_UI69vOQp34IZRMrLqtd6g 2024. 6. 2. 361 2.89천명\n"
     ]
    },
    {
     "name": "stderr",
     "output_type": "stream",
     "text": [
      " 36%|███▌      | 18/50 [03:18<05:00,  9.38s/it]"
     ]
    },
    {
     "name": "stdout",
     "output_type": "stream",
     "text": [
      "17 https://youtu.be/tVwoUzdqcpc&pp https://img.youtube.com/vi/tVwoUzdqcpc/sddefault.jpg 우리 언니 눈에 광기 좀 보세여👀 쇼핑에 진심인 언니와 그런 언니가 버거운 잉뿌삐 동생의 쇼핑 브이로그🛍️💚 ㅣ마리떼•마뗑킴•셀린느•젠틀몬스터•피어 패션애완쏭 UCX4P0iYaQx8YueLcn6o63Ew 2023. 6. 29. 1.7만 4.85만명\n"
     ]
    },
    {
     "name": "stderr",
     "output_type": "stream",
     "text": [
      " 38%|███▊      | 19/50 [03:29<05:03,  9.78s/it]"
     ]
    },
    {
     "name": "stdout",
     "output_type": "stream",
     "text": [
      "18 https://youtu.be/QkuiX2htnkI&t https://img.youtube.com/vi/QkuiX2htnkI&t/sddefault.jpg 💚 여름템은 지금 사야 품절이 되지 않는다 | 5월의 택배_ 러브솔 UCy3Dp6QP6bQiB7dwsBZEgwQ 2024. 5. 26. 7.7만 11.7만명\n"
     ]
    },
    {
     "name": "stderr",
     "output_type": "stream",
     "text": [
      " 40%|████      | 20/50 [03:38<04:43,  9.43s/it]"
     ]
    },
    {
     "name": "stdout",
     "output_type": "stream",
     "text": [
      "19 https://youtu.be/Im8qupISTXI&pp https://img.youtube.com/vi/Im8qupISTXI/sddefault.jpg [Casetify 매장 방문기] 타임빌라스 수원｜ 케이스티파이 ｜ 마뗑킴｜ 마이멜로디｜ 도라에몽｜ 국립중앙박물관 콜라보 상이 UCZIM1JmPezxp2QLw19DEKUQ 2024. 6. 11. 114 8명\n"
     ]
    },
    {
     "name": "stderr",
     "output_type": "stream",
     "text": [
      " 42%|████▏     | 21/50 [03:47<04:32,  9.39s/it]"
     ]
    },
    {
     "name": "stdout",
     "output_type": "stream",
     "text": [
      "20 https://youtu.be/gS9Ige0yYso&pp https://img.youtube.com/vi/gS9Ige0yYso/sddefault.jpg 마뗑킴미니백 추천 판매순위 Top10 || 가격 평점 후기 비교 별이 빛나는 쇼핑 UCxv3BPfqB1L5h_4gOXb-PVw 2024. 3. 4. 15 2.36천명\n"
     ]
    },
    {
     "name": "stderr",
     "output_type": "stream",
     "text": [
      " 44%|████▍     | 22/50 [03:56<04:23,  9.41s/it]"
     ]
    },
    {
     "name": "stdout",
     "output_type": "stream",
     "text": [
      "21 https://youtu.be/xF_Qo6gS0-8&pp https://img.youtube.com/vi/xF_Qo6gS0-8/sddefault.jpg N년째 착용〰️브랜드 반팔 티셔츠 모음zip.🍉 구매전 핏감 확인하세요•메종키츠네,아페쎄,마뗑킴,마리떼,폴로 주미니 jumini UC3NfAk5D8DcR7_VfGHHS9tw 2024. 5. 17. 2.6만 7.11만명\n"
     ]
    },
    {
     "name": "stderr",
     "output_type": "stream",
     "text": [
      " 46%|████▌     | 23/50 [04:04<04:02,  8.98s/it]"
     ]
    },
    {
     "name": "stdout",
     "output_type": "stream",
     "text": [
      "22 https://youtu.be/9r1MGddT9T8&pp https://img.youtube.com/vi/9r1MGddT9T8/sddefault.jpg 마뗑킴미니백 추천 판매순위 Top10 || 가격 평점 후기 비교 하나쇼핑 UCIqwrRdpysk_KqW1zgfALGQ 2024. 3. 3. 45 4.51천명\n"
     ]
    },
    {
     "name": "stderr",
     "output_type": "stream",
     "text": [
      " 48%|████▊     | 24/50 [04:15<04:10,  9.62s/it]"
     ]
    },
    {
     "name": "stdout",
     "output_type": "stream",
     "text": [
      "23 https://youtu.be/pTSNo593Q78&pp https://img.youtube.com/vi/pTSNo593Q78/sddefault.jpg 마뗑킴의 23 프리폴 컬렉션, 노스탤직 시티즌 MUSINSA UCQ_b2Ju4zGHIp22dS7CmCgA 2023. 9. 4. 2천 1.03만명\n"
     ]
    },
    {
     "name": "stderr",
     "output_type": "stream",
     "text": [
      " 50%|█████     | 25/50 [04:24<03:50,  9.23s/it]"
     ]
    },
    {
     "name": "stdout",
     "output_type": "stream",
     "text": [
      "24 https://youtu.be/qjqZPS0SAYs&pp https://img.youtube.com/vi/qjqZPS0SAYs/sddefault.jpg 요새 핫🔥한 키링 모음집 : 모남희, 젤리캣, 코지모지, 마지셔우드, 마뗑킴, 카리나 손민수 키링까지? 유리아YuRia UC00DJ04oplqj4IUUB5vSwZw 최초 공개: 2023. 7. 8. 26만 24.5만명\n"
     ]
    },
    {
     "name": "stderr",
     "output_type": "stream",
     "text": [
      " 52%|█████▏    | 26/50 [04:32<03:38,  9.09s/it]"
     ]
    },
    {
     "name": "stdout",
     "output_type": "stream",
     "text": [
      "25 https://youtu.be/HTwqTergcb8&pp https://img.youtube.com/vi/HTwqTergcb8/sddefault.jpg vlog | 성수동 쇼룸 투어 | 마뗑킴, 아비에무아, 아카이브앱크, 루에브르, 엠프티 다녀왔어요 ! | 성수동 데이트 | 성수동 쇼핑 스팟 | 성수동 핫플레이스 | 데일리룩 오로라이프 ohrolife UCrN_QOb0VxLlGeAbLLDxnhw 2024. 3. 29. 1.8천 251명\n"
     ]
    },
    {
     "name": "stderr",
     "output_type": "stream",
     "text": [
      " 54%|█████▍    | 27/50 [04:43<03:36,  9.40s/it]"
     ]
    },
    {
     "name": "stdout",
     "output_type": "stream",
     "text": [
      "26 https://youtu.be/jqdxycccRMM&pp https://img.youtube.com/vi/jqdxycccRMM/sddefault.jpg martin kim 마뗑킴 프로모션 ddannbee UCsbsdmNJd_TrJlhxZt0Am8Q 2024. 6. 11. 13 1명\n"
     ]
    },
    {
     "name": "stderr",
     "output_type": "stream",
     "text": [
      " 56%|█████▌    | 28/50 [04:51<03:19,  9.09s/it]"
     ]
    },
    {
     "name": "stdout",
     "output_type": "stream",
     "text": [
      "27 https://youtu.be/HBa3SA5oGC8&pp https://img.youtube.com/vi/HBa3SA5oGC8/sddefault.jpg ⊰✿봄맞이 브랜드 신상털기~🛍️💗 위시리스트 가득가득..📦 ㅣ옷부터 가방, 모자까지!🧢ㅣ 마뗑킴, 시눈, 시엔느, 비터셀즈, 그로브까지ㅣ디자이너 브랜드 봄 하울ㅣ쁨이 쁨이bbeume UCNGDUa6e3zHJQqV0wkxYa6w 2024. 3. 26. 2.8만 6.12만명\n"
     ]
    },
    {
     "name": "stderr",
     "output_type": "stream",
     "text": [
      " 58%|█████▊    | 29/50 [04:56<02:43,  7.78s/it]"
     ]
    },
    {
     "name": "stdout",
     "output_type": "stream",
     "text": [
      "28 https://youtu.be/nM7cOxDv4G0&pp https://img.youtube.com/vi/nM7cOxDv4G0/sddefault.jpg 제목 크롤링 오류 채널명 크롤링 오류 UCY2YdDn7zXtRbNR0fJ9V_YQ 업로드 일자 크롤링 오류 조회수 크롤링 오류 구독자 수 크롤링 오류\n"
     ]
    },
    {
     "name": "stderr",
     "output_type": "stream",
     "text": [
      " 60%|██████    | 30/50 [05:05<02:46,  8.32s/it]"
     ]
    },
    {
     "name": "stdout",
     "output_type": "stream",
     "text": [
      "29 https://youtu.be/lMqY9bcPuQg&pp https://img.youtube.com/vi/lMqY9bcPuQg/sddefault.jpg ASMR [마뗑킴] STUD MINI QUILTING BUCKET BAG IN BLACK 언박싱 #asmr mullyha 뮬리하 UCgwtYEVSy4tewFEe2J-sVOg 2024. 1. 20. 1천 62명\n"
     ]
    },
    {
     "name": "stderr",
     "output_type": "stream",
     "text": [
      " 62%|██████▏   | 31/50 [05:14<02:37,  8.31s/it]"
     ]
    },
    {
     "name": "stdout",
     "output_type": "stream",
     "text": [
      "30 https://youtu.be/_NxanGzCP-A&pp https://img.youtube.com/vi/_NxanGzCP-A/sddefault.jpg Vlog. 실업급여 끝나고 이직 성공👏🏻 회사에 제 방이 생겼어요♥️ | COS 구름백, 마뗑킴 키링 언박싱 | 카페인부산 | 아르마니 틴트 | 소찌소진SOZZZY UCcMQlurkK2k96vKJp5T13kw 2023. 9. 3. 178 1.83천명\n"
     ]
    },
    {
     "name": "stderr",
     "output_type": "stream",
     "text": [
      " 64%|██████▍   | 32/50 [05:25<02:44,  9.12s/it]"
     ]
    },
    {
     "name": "stdout",
     "output_type": "stream",
     "text": [
      "31 https://youtu.be/_HwAmtp7Vak&pp https://img.youtube.com/vi/_HwAmtp7Vak/sddefault.jpg 이게 왜 1등...?🤔 패션 플랫폼별 BEST 1위 가방 내돈내산 솔직리뷰👜 자라, 코스 SPA브랜드까지! 에이프롬 ÁFROM UCb3RcfZTXh4_ZMZy-sLaLPw 2023. 6. 24. 8만 39.2만명\n"
     ]
    },
    {
     "name": "stderr",
     "output_type": "stream",
     "text": [
      " 66%|██████▌   | 33/50 [05:33<02:34,  9.06s/it]"
     ]
    },
    {
     "name": "stdout",
     "output_type": "stream",
     "text": [
      "32 https://youtu.be/UABRKvKjGYk&t https://img.youtube.com/vi/UABRKvKjGYk&t/sddefault.jpg 지금 딱 입기좋은~✴︎ 봄맞이 간절기 패션 아이템 9가지🧵🧦🎒 (+구독자 이벤트🎁)ㅣ안경부터 비니, 카드지갑, 운동화, 머플러, 가방까지..🎒ㅣ개강룩 새내기 코디 룩북ㅣ쁨이 쁨이bbeume UCNGDUa6e3zHJQqV0wkxYa6w 2024. 2. 21. 6만 6.12만명\n"
     ]
    },
    {
     "name": "stderr",
     "output_type": "stream",
     "text": [
      " 68%|██████▊   | 34/50 [05:44<02:32,  9.55s/it]"
     ]
    },
    {
     "name": "stdout",
     "output_type": "stream",
     "text": [
      "33 https://youtu.be/W8bs_jVBpcg&pp https://img.youtube.com/vi/W8bs_jVBpcg/sddefault.jpg 일본 젊은이에게 한국이 이 정도? 한국인 닮자고 줄까지 서는 상황! 트루코리아 UC1JCH4jlrhrPWGVMaqqPmKw 2024. 3. 8. 3.3만 1.55만명\n"
     ]
    },
    {
     "name": "stderr",
     "output_type": "stream",
     "text": [
      " 70%|███████   | 35/50 [05:54<02:23,  9.56s/it]"
     ]
    },
    {
     "name": "stdout",
     "output_type": "stream",
     "text": [
      "34 https://youtu.be/tPh6V-DxCAQ&pp https://img.youtube.com/vi/tPh6V-DxCAQ/sddefault.jpg 엄청 유행이었는데 어느새 정점찍고 슬슬 지고 있는 패션 📉 옆집언니 최실장 stylist unnie UCzYB6YA5f-Tc7GQcIese7pg 2023. 11. 22. 123만 93.5만명\n"
     ]
    },
    {
     "name": "stderr",
     "output_type": "stream",
     "text": [
      " 72%|███████▏  | 36/50 [06:02<02:10,  9.30s/it]"
     ]
    },
    {
     "name": "stdout",
     "output_type": "stream",
     "text": [
      "35 https://youtu.be/jG_lgnKsIBw&pp https://img.youtube.com/vi/jG_lgnKsIBw/sddefault.jpg Spring 4Lookbook🌱지금부터 딱 준비해야 할 꾸안꾸 봄 옷 쇼핑하기! with.29CM🤍레더자켓부터 플리츠 롱스커트까지🫧핫한 디자이너 브랜드 좋은 가격에 득템하기 la sagesse지혜 UCZcoFBcFybo6QP5QMDOpVaw 2024. 2. 3. 8.5만 15.6만명\n"
     ]
    },
    {
     "name": "stderr",
     "output_type": "stream",
     "text": [
      " 74%|███████▍  | 37/50 [06:13<02:04,  9.61s/it]"
     ]
    },
    {
     "name": "stdout",
     "output_type": "stream",
     "text": [
      "36 https://youtu.be/xSGoZgDeqDA&pp https://img.youtube.com/vi/xSGoZgDeqDA/sddefault.jpg 나의 최애 데일리백 소개..*🤍 3~20만 원대 귀여운 가방 하울🧳 보부상 가방 추천 | 포터 ・ 마가렛호웰 ・ 낫띵리튼 ・ 마뗑킴 M!NJOO UCczzEZsSEZ9vDFR4iDLNt2g 2024. 1. 20. 3.9천 1.98천명\n"
     ]
    },
    {
     "name": "stderr",
     "output_type": "stream",
     "text": [
      " 76%|███████▌  | 38/50 [06:17<01:36,  8.04s/it]"
     ]
    },
    {
     "name": "stdout",
     "output_type": "stream",
     "text": [
      "37 https://youtu.be/5NN9AKlx8nE&pp https://img.youtube.com/vi/5NN9AKlx8nE/sddefault.jpg 제목 크롤링 오류 채널명 크롤링 오류 UCrcn9XpaNhBCKcq20vc5d_A 업로드 일자 크롤링 오류 조회수 크롤링 오류 구독자 수 크롤링 오류\n"
     ]
    },
    {
     "name": "stderr",
     "output_type": "stream",
     "text": [
      " 78%|███████▊  | 39/50 [06:28<01:38,  8.94s/it]"
     ]
    },
    {
     "name": "stdout",
     "output_type": "stream",
     "text": [
      "38 https://youtu.be/sTyRxac7Lmc&pp https://img.youtube.com/vi/sTyRxac7Lmc/sddefault.jpg 마뗑킴 가방 언박싱 💰(BIG COATING TOTE BAG IN)/ 인천 핫플 티쏘 베이커리 카페 🥐-티쏘 카페/ 짱구 극장판 리뷰🍿 /먹고 노는 나는야 베짱이가 꿈이야 🫠💚 서맨두 UC-z6EUbJV8TQcRzuU7i404A 2023. 7. 3. 235 61명\n"
     ]
    },
    {
     "name": "stderr",
     "output_type": "stream",
     "text": [
      " 80%|████████  | 40/50 [06:35<01:23,  8.38s/it]"
     ]
    },
    {
     "name": "stdout",
     "output_type": "stream",
     "text": [
      "39 https://youtu.be/9KEos-AfwnE&pp https://img.youtube.com/vi/9KEos-AfwnE/sddefault.jpg [ 일상 브이로그 ]| 소소한 생일파티 🎂( 마뗑킴 지갑, 드래곤 디퓨전 언박싱)| 한강 피크닉 | 행궁동 즐기기 | 중랑 장미축제🌹 리히비 rihibi UCbptIWPmHFDmX8tORaL3b3w 2024. 6. 4. 46 934명\n"
     ]
    },
    {
     "name": "stderr",
     "output_type": "stream",
     "text": [
      " 82%|████████▏ | 41/50 [06:45<01:19,  8.85s/it]"
     ]
    },
    {
     "name": "stdout",
     "output_type": "stream",
     "text": [
      "40 https://youtu.be/BLOodUou0YA&pp https://img.youtube.com/vi/BLOodUou0YA/sddefault.jpg 브이로그 | #직장인출근룩, 데일리룩, 검정자켓추천 | 마뗑킴 가방, 꼼데가르송 가디건 | 신혼집 인테리어, #까사미아 캄포슬림, 이사 브이로그 | 후쿠오카 여행, 맛집투어 안로그 Anlog UC3NGp4Cx1bAWbcVeuFNyvYg 2024. 5. 19. 2천 1.85천명\n"
     ]
    },
    {
     "name": "stderr",
     "output_type": "stream",
     "text": [
      " 84%|████████▍ | 42/50 [06:53<01:08,  8.56s/it]"
     ]
    },
    {
     "name": "stdout",
     "output_type": "stream",
     "text": [
      "41 https://youtu.be/6ZcUzvSafks&pp https://img.youtube.com/vi/6ZcUzvSafks/sddefault.jpg 전완근 펌핑을 돕는 아이폰15 프로맥스 화이트 언박싱 + 케이스티파이 마뗑킴, 슈피겐 케이스 | IPHONE15 PRO MAX White 노말이 UChhQpACu5nIh7jKy2x2do2w 2023. 12. 3. 6.7천 2.4만명\n"
     ]
    },
    {
     "name": "stderr",
     "output_type": "stream",
     "text": [
      " 86%|████████▌ | 43/50 [07:01<00:57,  8.24s/it]"
     ]
    },
    {
     "name": "stdout",
     "output_type": "stream",
     "text": [
      "42 https://youtu.be/-HSHG6hG06k&pp https://img.youtube.com/vi/-HSHG6hG06k/sddefault.jpg vlog 닭가슴살 처돌이 직장인 점심 도시락 브이로그 🍱 | 마뗑킴 블로퍼 언박싱 | 영화 바비 🩷 | 이삿짐 정리 끝낸 자취 일상 유도록youdorok UCAnD-5BOp9Q4sxfVUS7odYw 2023. 8. 6. 715 1.11천명\n"
     ]
    },
    {
     "name": "stderr",
     "output_type": "stream",
     "text": [
      " 88%|████████▊ | 44/50 [07:08<00:48,  8.05s/it]"
     ]
    },
    {
     "name": "stdout",
     "output_type": "stream",
     "text": [
      "43 https://youtu.be/D1l7LuC6560&pp https://img.youtube.com/vi/D1l7LuC6560/sddefault.jpg 마뗑킴 마틴킴 토끼키링 레어템 지수 UCsA29Gmlom-E_gf9I4VForg 2023. 10. 16. 80 구독자 수 크롤링 오류\n"
     ]
    },
    {
     "name": "stderr",
     "output_type": "stream",
     "text": [
      " 90%|█████████ | 45/50 [07:17<00:40,  8.18s/it]"
     ]
    },
    {
     "name": "stdout",
     "output_type": "stream",
     "text": [
      "44 https://youtu.be/hh415xnL_Jg&pp https://img.youtube.com/vi/hh415xnL_Jg/sddefault.jpg [TALK] 쓰리잡 직장인 왓츠인마이백 👜 | 보부상 가방 추천 | 마땡킴 밍서 UC_-4DnGjcac8wO3HmgNxFcA 2023. 8. 20. 6.9천 1.8만명\n"
     ]
    },
    {
     "name": "stderr",
     "output_type": "stream",
     "text": [
      " 92%|█████████▏| 46/50 [07:25<00:32,  8.20s/it]"
     ]
    },
    {
     "name": "stdout",
     "output_type": "stream",
     "text": [
      "45 https://youtu.be/ETVfRoFBvXs&pp https://img.youtube.com/vi/ETVfRoFBvXs/sddefault.jpg 올해 가장 잘 팔린   마뗑킴가디건   오늘의 인기추천   BEST  ㅣ추천템ㅣ생활 꿀템ㅣ 리뷰닷컴 UCqxVqWEH9-xkA7ANaTE5Dhg 2024. 6. 4. 7 1.7천명\n"
     ]
    },
    {
     "name": "stderr",
     "output_type": "stream",
     "text": [
      " 94%|█████████▍| 47/50 [07:34<00:25,  8.42s/it]"
     ]
    },
    {
     "name": "stdout",
     "output_type": "stream",
     "text": [
      "46 https://youtu.be/J4rlfq30nvI&pp https://img.youtube.com/vi/J4rlfq30nvI/sddefault.jpg ˚✧₊Winter Diaries 겨울일기(어그,마뗑킴 패딩,쓰리타임즈,수지반팔,수아레 니트,모던하우스, 김장)⁎⁺˳✧༚ sse UCa7AV7SlvCbj319FwLkw7Bg 2023. 11. 27. 615 18명\n"
     ]
    },
    {
     "name": "stderr",
     "output_type": "stream",
     "text": [
      " 96%|█████████▌| 48/50 [07:42<00:16,  8.44s/it]"
     ]
    },
    {
     "name": "stdout",
     "output_type": "stream",
     "text": [
      "47 https://youtu.be/sW7mEfmUYM4&pp https://img.youtube.com/vi/sW7mEfmUYM4/sddefault.jpg 10만원대 데일리 만능백 추천ㅣ마뗑킴VS 가니(GANNI)ㅣ#제니백 ㅣ누가 누가 더 예쁠까?!☺️ 쪼슈라이프 JJOCHOULIFE UCVJ9ot42o1X9cTkOdTyJxQw 2024. 1. 7. 6.4천 2.03천명\n"
     ]
    },
    {
     "name": "stderr",
     "output_type": "stream",
     "text": [
      " 98%|█████████▊| 49/50 [07:53<00:09,  9.18s/it]"
     ]
    },
    {
     "name": "stdout",
     "output_type": "stream",
     "text": [
      "48 https://youtu.be/gNOmq8MZhrk&pp https://img.youtube.com/vi/gNOmq8MZhrk/sddefault.jpg 요즘 산 것들 언박싱 🛍 까르띠에 시계•마르헨제이백•마뗑킴•젠틀몬스터•하트퍼센트•등드름케어•괄사•AEAE MIYUT미윳 UCzjXBk6GY0wHt_iXAvKaaVA 2023. 10. 15. 3.2만 25.9만명\n"
     ]
    },
    {
     "name": "stderr",
     "output_type": "stream",
     "text": [
      "100%|██████████| 50/50 [08:02<00:00,  9.65s/it]"
     ]
    },
    {
     "name": "stdout",
     "output_type": "stream",
     "text": [
      "49 https://youtu.be/fM4f6rvu_mg&pp https://img.youtube.com/vi/fM4f6rvu_mg/sddefault.jpg 키링이..10만원?🧸1분만에 매진되는 핫한 키링들 사봄(모남희,마지셔우드,마뗑킴,코지모지,지브리파크 굿즈까지)| 샨토끼 샨토끼 UCQHb4hhZ6PVkhNHttzlQmVw 2023. 8. 12. 1.2만 29만명\n"
     ]
    },
    {
     "name": "stderr",
     "output_type": "stream",
     "text": [
      "\n"
     ]
    }
   ],
   "source": [
    "driver = webdriver.Chrome()\n",
    "\n",
    "scrape_videos(video_list_3)\n",
    "scrape_videos(video_list_4)\n",
    "\n",
    "driver.quit()"
   ]
  },
  {
   "cell_type": "code",
   "execution_count": 14,
   "metadata": {},
   "outputs": [],
   "source": [
    "# # 제대로 크롤링 되는지 확인하기 위한 코드\n",
    "# soup\n",
    "\n",
    "# # 업로드 일자 확인\n",
    "# soup.find('tp-yt-paper-tooltip', class_='style-scope ytd-watch-metadata').text.split('조회수')[1].strip().split('•')[1].strip()\n",
    "\n",
    "# # 조회수 확인\n",
    "# soup.find('tp-yt-paper-tooltip', class_='style-scope ytd-watch-metadata').text.split('조회수')[1].strip().split('회')[0].strip()\n",
    "\n",
    "# # 구독자 수 확인\n",
    "#soup.find_all('yt-formatted-string', {'id' : 'owner-sub-count'}).text.split('구독자')[1].strip().split('명')[0].strip()\n",
    "\n",
    "# # 채널명 확인\n",
    "# soup.find_all('yt-formatted-string',{'id':'text'})[0].text\n",
    "\n",
    "# # 제목 확인\n",
    "# soup.find_all('yt-formatted-string',attrs={'class' : 'ytd-watch-metadata'})[0].text\n",
    "\n",
    "# # 더보기란 상세내용 확인\n",
    "# soup.find_all('span',{'class' : 'yt-core-attributed-string yt-core-attributed-string--white-space-pre-wrap'})[2].text"
   ]
  },
  {
   "cell_type": "code",
   "execution_count": 28,
   "metadata": {},
   "outputs": [
    {
     "data": {
      "text/plain": [
       "200"
      ]
     },
     "execution_count": 28,
     "metadata": {},
     "output_type": "execute_result"
    }
   ],
   "source": [
    "# len(video_data['thumbnail'])\n",
    "# len(video_data['title'])\n",
    "# len(video_data['channel'])\n",
    "# len(video_data['channel_id'])\n",
    "# len(video_data['date'])\n",
    "# len(video_data['view'])\n",
    "len(video_data['sub'])"
   ]
  },
  {
   "cell_type": "code",
   "execution_count": 31,
   "metadata": {},
   "outputs": [
    {
     "data": {
      "text/plain": [
       "['https://youtu.be/WFahF9s5aK4&pp',\n",
       " 'https://youtu.be/xbTIUETEhUM&pp',\n",
       " 'https://youtu.be/XbKEj4JVmOc&pp',\n",
       " 'https://youtu.be/ZXdhLzzbvHo&pp',\n",
       " 'https://youtu.be/PBTlgVTuQVs&pp',\n",
       " 'https://youtu.be/CSkfVqxF71I&pp',\n",
       " 'https://youtu.be/EljrY8SRJZ4&pp',\n",
       " 'https://youtu.be/i7WmGPuw-Bc&pp',\n",
       " 'https://youtu.be/fDS8aEif31M&pp',\n",
       " 'https://youtu.be/yMwlT1k7pGU&pp',\n",
       " 'https://youtu.be/etqor2iEz6o&pp',\n",
       " 'https://youtu.be/VsnmzIsDoTg&pp',\n",
       " 'https://youtu.be/XZ6SbLdshrc&pp',\n",
       " 'https://youtu.be/v1wbKRSBLtQ&pp',\n",
       " 'https://youtu.be/5rYScVX4sAU&pp',\n",
       " 'https://youtu.be/dXo-V5sqqeA&pp',\n",
       " 'https://youtu.be/R3DSR21MXCk&t',\n",
       " 'https://youtu.be/Jgrhnd0yWao&pp',\n",
       " 'https://youtu.be/tBCstCyhL2U&t',\n",
       " 'https://youtu.be/g3MHneshvLk&pp',\n",
       " 'https://youtu.be/Kjibw8coOCI&pp',\n",
       " 'https://youtu.be/Izlr37KVDqk&pp',\n",
       " 'https://youtu.be/2RF59jvQZrQ&pp',\n",
       " 'https://youtu.be/wppW7VZb8vw&pp',\n",
       " 'https://youtu.be/KZaYoL1UyZ8&pp',\n",
       " 'https://youtu.be/wIBeLl9xINY&pp',\n",
       " 'https://youtu.be/0AoEK2kbR-k&pp',\n",
       " 'https://youtu.be/gO4nbMYCiJI&pp',\n",
       " 'https://youtu.be/rdDMpWMvzdY&pp',\n",
       " 'https://youtu.be/jz8Ts08O2lc&pp',\n",
       " 'https://youtu.be/axpUW6fWrTI&pp',\n",
       " 'https://youtu.be/Q8ueMKkflwQ&pp',\n",
       " 'https://youtu.be/TuK456zrbeo&pp',\n",
       " 'https://youtu.be/Cx1iD-KNJSU&pp',\n",
       " 'https://youtu.be/7mdTxJtFsXE&pp',\n",
       " 'https://youtu.be/MCi5cFeQ71w&pp',\n",
       " 'https://youtu.be/d7hGZ8ZSdig&pp',\n",
       " 'https://youtu.be/UAu83zsxmiA&pp',\n",
       " 'https://youtu.be/WlDIGBxFxeY&pp',\n",
       " 'https://youtu.be/y0ml6O7_1Io&pp',\n",
       " 'https://youtu.be/7W3g9WVe7JY&t',\n",
       " 'https://youtu.be/FUnO4UJGQsE&pp',\n",
       " 'https://youtu.be/wppW7VZb8vw&pp',\n",
       " 'https://youtu.be/ViCGkivcTGY&pp',\n",
       " 'https://youtu.be/aCRismumI-Y&pp',\n",
       " 'https://youtu.be/iuFsHQM2l5U&pp',\n",
       " 'https://youtu.be/iHQgr208-LY&pp',\n",
       " 'https://youtu.be/qdEqBaxkfRA&pp',\n",
       " 'https://youtu.be/kw0r8R1FQlM&pp',\n",
       " 'https://youtu.be/Izlr37KVDqk&pp',\n",
       " 'https://youtu.be/xbTIUETEhUM&pp',\n",
       " 'https://youtu.be/PBTlgVTuQVs&pp',\n",
       " 'https://youtu.be/i7WmGPuw-Bc&pp',\n",
       " 'https://youtu.be/fDS8aEif31M&pp',\n",
       " 'https://youtu.be/Jgrhnd0yWao&t',\n",
       " 'https://youtu.be/etqor2iEz6o&pp',\n",
       " 'https://youtu.be/2o8lXD-zO7E&pp',\n",
       " 'https://youtu.be/DIPWFV6X1WE&pp',\n",
       " 'https://youtu.be/gO4nbMYCiJI&pp',\n",
       " 'https://youtu.be/VsnmzIsDoTg&pp',\n",
       " 'https://youtu.be/EljrY8SRJZ4&pp',\n",
       " 'https://youtu.be/AbNBdnpuHGY&pp',\n",
       " 'https://youtu.be/5WJg_YVsgtM&pp',\n",
       " 'https://youtu.be/dogyJM2Z1Hc&pp',\n",
       " 'https://youtu.be/JdhBdgJRsGI&pp',\n",
       " 'https://youtu.be/EOyXXMcZH5o&pp',\n",
       " 'https://youtu.be/ZBkId2wBUns&pp',\n",
       " 'https://youtu.be/8mL8VE8YUlo&pp',\n",
       " 'https://youtu.be/CSkfVqxF71I&pp',\n",
       " 'https://youtu.be/g3MHneshvLk&pp',\n",
       " 'https://youtu.be/y0ml6O7_1Io&pp',\n",
       " 'https://youtu.be/tDe0-4qSUVI&pp',\n",
       " 'https://youtu.be/9My4YJ0HabM&pp',\n",
       " 'https://youtu.be/0AoEK2kbR-k&pp',\n",
       " 'https://youtu.be/hfdmuSFQdR0&pp',\n",
       " 'https://youtu.be/Ek2XInBnprg&pp',\n",
       " 'https://youtu.be/ednJ6Tg7LuM&pp',\n",
       " 'https://youtu.be/tP69_ZOEndM&pp',\n",
       " 'https://youtu.be/kjT-dSFa1SA&pp',\n",
       " 'https://youtu.be/0AqvmNsiNXc&pp',\n",
       " 'https://youtu.be/da3EW_r9MuY&pp',\n",
       " 'https://youtu.be/MvgYCKpzGIY&pp',\n",
       " 'https://youtu.be/jz8Ts08O2lc&pp',\n",
       " 'https://youtu.be/ZxKSzt_yCPU&pp',\n",
       " 'https://youtu.be/Lzsqhawoqys&pp',\n",
       " 'https://youtu.be/S3R4Pk3FrkI&pp',\n",
       " 'https://youtu.be/cfBf3Ff3DaI&pp',\n",
       " 'https://youtu.be/D3atKQxi4uk&pp',\n",
       " 'https://youtu.be/0KMTb0tWhkk&pp',\n",
       " 'https://youtu.be/kw0r8R1FQlM&pp',\n",
       " 'https://youtu.be/bney8Cs4tkY&pp',\n",
       " 'https://youtu.be/_mOIk4zNzdU&pp',\n",
       " 'https://youtu.be/1GKNRo_D5wk&pp',\n",
       " 'https://youtu.be/-5w2WoU2M6E&pp',\n",
       " 'https://youtu.be/S3R4Pk3FrkI&pp',\n",
       " 'https://youtu.be/uCbvxOzA0qg&pp',\n",
       " 'https://youtu.be/uo07fRXrvZM&pp',\n",
       " 'https://youtu.be/fu-2OwisJhU&pp',\n",
       " 'https://youtu.be/y8JDW7GeiWA&pp',\n",
       " 'https://youtu.be/tfJjb12oLcY&pp',\n",
       " 'https://youtu.be/HR2oPpDGcNk&pp',\n",
       " 'https://youtu.be/17bJ0q7KyJE&pp',\n",
       " 'https://youtu.be/COz8wv9U9B0&pp',\n",
       " 'https://youtu.be/elB4hnVtv8c&pp',\n",
       " 'https://youtu.be/IIPl0ndBB8w&pp',\n",
       " 'https://youtu.be/D-tHKIKykko&pp',\n",
       " 'https://youtu.be/KxBI0w1nf_Y&pp',\n",
       " 'https://youtu.be/RaW5zjnGMAE&pp',\n",
       " 'https://youtu.be/dhiTSfpnrhQ&t',\n",
       " 'https://youtu.be/1ZmAP5FqfjM&pp',\n",
       " 'https://youtu.be/4ejk7orL194&pp',\n",
       " 'https://youtu.be/UG0To9X7ceM&pp',\n",
       " 'https://youtu.be/QDp6sf9lak8&pp',\n",
       " 'https://youtu.be/xa75-gff1Wg&pp',\n",
       " 'https://youtu.be/V0uVmZmQpwA&pp',\n",
       " 'https://youtu.be/KNdpSWzH9NU&pp',\n",
       " 'https://youtu.be/-ukyFQMR_4k&pp',\n",
       " 'https://youtu.be/RaW5zjnGMAE&pp',\n",
       " 'https://youtu.be/9QhTdBpVW6E&t',\n",
       " 'https://youtu.be/7gKSI0x1ZVY&pp',\n",
       " 'https://youtu.be/h-YQnBdIBIc&pp',\n",
       " 'https://youtu.be/-oo0qR8caiw&pp',\n",
       " 'https://youtu.be/j2IFjbM0Lp0&pp',\n",
       " 'https://youtu.be/M2T0Pyfmml8&pp',\n",
       " 'https://youtu.be/OwpQ3Yby2Wo&pp',\n",
       " 'https://youtu.be/vbTcDCOZneE&pp',\n",
       " 'https://youtu.be/lyb5IDOjqA0&pp',\n",
       " 'https://youtu.be/VVLukgG7HGg&t',\n",
       " 'https://youtu.be/U3KIERgu7hA&pp',\n",
       " 'https://youtu.be/JVfxw-IFVt4&pp',\n",
       " 'https://youtu.be/8t0YcNM0eS4&pp',\n",
       " 'https://youtu.be/5mq7y1E8jEY&pp',\n",
       " 'https://youtu.be/6tzHNvjMHoM&pp',\n",
       " 'https://youtu.be/7jpBJqyQ0eY&pp',\n",
       " 'https://youtu.be/VqSaetJ9u_4&pp',\n",
       " 'https://youtu.be/HxiakaffUqI&pp',\n",
       " 'https://youtu.be/dvwFCaTlyA4&pp',\n",
       " 'https://youtu.be/cbNjEfhBY1o&pp',\n",
       " 'https://youtu.be/Qy_qvD62Z6g&pp',\n",
       " 'https://youtu.be/OG4xFONb6pk&pp',\n",
       " 'https://youtu.be/UQfqBEfJs3A&pp',\n",
       " 'https://youtu.be/-qVqA4exHkM&pp',\n",
       " 'https://youtu.be/7FadwxyvqmA&t',\n",
       " 'https://youtu.be/Ih0DZZTfuQw&pp',\n",
       " 'https://youtu.be/rDIB5NnRQW8&t',\n",
       " 'https://youtu.be/byoVDNLsraw&pp',\n",
       " 'https://youtu.be/sKy2zoncek8&pp',\n",
       " 'https://youtu.be/5mq7y1E8jEY&pp',\n",
       " 'https://youtu.be/6tzHNvjMHoM&pp',\n",
       " 'https://youtu.be/_wI7FTBUTl0&pp',\n",
       " 'https://youtu.be/6Wa16ZT-KB0&t',\n",
       " 'https://youtu.be/rzCE6ezCYBw&pp',\n",
       " 'https://youtu.be/JsEo1A46728&pp',\n",
       " 'https://youtu.be/IjZVpEX3XJw&pp',\n",
       " 'https://youtu.be/68Dnv_N251I&pp',\n",
       " 'https://youtu.be/yEaPOYAs8m0&pp',\n",
       " 'https://youtu.be/-0TArh73H8c&pp',\n",
       " 'https://youtu.be/hSS1vIRXNbw&pp',\n",
       " 'https://youtu.be/qkNpwsl2D7A&pp',\n",
       " 'https://youtu.be/MVdfVgJW8Ow&pp',\n",
       " 'https://youtu.be/SduCSM6RdqU&pp',\n",
       " 'https://youtu.be/CTk9_VFdQIc&pp',\n",
       " 'https://youtu.be/DryhmXPhj60&pp',\n",
       " 'https://youtu.be/HTwqTergcb8&pp',\n",
       " 'https://youtu.be/Dn2EvQRKNSA&pp',\n",
       " 'https://youtu.be/gMbQkhHVsWs&pp',\n",
       " 'https://youtu.be/5Ne0H77uj-U&pp',\n",
       " 'https://youtu.be/tVwoUzdqcpc&pp',\n",
       " 'https://youtu.be/QkuiX2htnkI&t',\n",
       " 'https://youtu.be/Im8qupISTXI&pp',\n",
       " 'https://youtu.be/gS9Ige0yYso&pp',\n",
       " 'https://youtu.be/xF_Qo6gS0-8&pp',\n",
       " 'https://youtu.be/9r1MGddT9T8&pp',\n",
       " 'https://youtu.be/pTSNo593Q78&pp',\n",
       " 'https://youtu.be/qjqZPS0SAYs&pp',\n",
       " 'https://youtu.be/HTwqTergcb8&pp',\n",
       " 'https://youtu.be/jqdxycccRMM&pp',\n",
       " 'https://youtu.be/HBa3SA5oGC8&pp',\n",
       " 'https://youtu.be/nM7cOxDv4G0&pp',\n",
       " 'https://youtu.be/lMqY9bcPuQg&pp',\n",
       " 'https://youtu.be/_NxanGzCP-A&pp',\n",
       " 'https://youtu.be/_HwAmtp7Vak&pp',\n",
       " 'https://youtu.be/UABRKvKjGYk&t',\n",
       " 'https://youtu.be/W8bs_jVBpcg&pp',\n",
       " 'https://youtu.be/tPh6V-DxCAQ&pp',\n",
       " 'https://youtu.be/jG_lgnKsIBw&pp',\n",
       " 'https://youtu.be/xSGoZgDeqDA&pp',\n",
       " 'https://youtu.be/5NN9AKlx8nE&pp',\n",
       " 'https://youtu.be/sTyRxac7Lmc&pp',\n",
       " 'https://youtu.be/9KEos-AfwnE&pp',\n",
       " 'https://youtu.be/BLOodUou0YA&pp',\n",
       " 'https://youtu.be/6ZcUzvSafks&pp',\n",
       " 'https://youtu.be/-HSHG6hG06k&pp',\n",
       " 'https://youtu.be/D1l7LuC6560&pp',\n",
       " 'https://youtu.be/hh415xnL_Jg&pp',\n",
       " 'https://youtu.be/ETVfRoFBvXs&pp',\n",
       " 'https://youtu.be/J4rlfq30nvI&pp',\n",
       " 'https://youtu.be/sW7mEfmUYM4&pp',\n",
       " 'https://youtu.be/gNOmq8MZhrk&pp',\n",
       " 'https://youtu.be/fM4f6rvu_mg&pp']"
      ]
     },
     "execution_count": 31,
     "metadata": {},
     "output_type": "execute_result"
    }
   ],
   "source": [
    "video_list"
   ]
  },
  {
   "cell_type": "code",
   "execution_count": 33,
   "metadata": {},
   "outputs": [
    {
     "data": {
      "text/html": [
       "<div>\n",
       "<style scoped>\n",
       "    .dataframe tbody tr th:only-of-type {\n",
       "        vertical-align: middle;\n",
       "    }\n",
       "\n",
       "    .dataframe tbody tr th {\n",
       "        vertical-align: top;\n",
       "    }\n",
       "\n",
       "    .dataframe thead th {\n",
       "        text-align: right;\n",
       "    }\n",
       "</style>\n",
       "<table border=\"1\" class=\"dataframe\">\n",
       "  <thead>\n",
       "    <tr style=\"text-align: right;\">\n",
       "      <th></th>\n",
       "      <th>thumbnail</th>\n",
       "      <th>title</th>\n",
       "      <th>channel</th>\n",
       "      <th>channel_id</th>\n",
       "      <th>date</th>\n",
       "      <th>view</th>\n",
       "      <th>sub</th>\n",
       "      <th>video url</th>\n",
       "    </tr>\n",
       "  </thead>\n",
       "  <tbody>\n",
       "    <tr>\n",
       "      <th>0</th>\n",
       "      <td>https://img.youtube.com/vi/WFahF9s5aK4/sddefau...</td>\n",
       "      <td>폴로 지겨운거 압니다. [라코스테 이야기]</td>\n",
       "      <td>포트배드Fashion Magazine</td>\n",
       "      <td>UCWRDpplrYog3AVXAFwnbdjQ</td>\n",
       "      <td>2024. 6. 8.</td>\n",
       "      <td>1만</td>\n",
       "      <td>2.16만명</td>\n",
       "      <td>https://youtu.be/WFahF9s5aK4&amp;pp</td>\n",
       "    </tr>\n",
       "    <tr>\n",
       "      <th>1</th>\n",
       "      <td>https://img.youtube.com/vi/xbTIUETEhUM/sddefau...</td>\n",
       "      <td>지금, 이 순간 영원히 기록될 T1의 여름 T1 X POLO RALPH LAUREN...</td>\n",
       "      <td>GQ KOREA</td>\n",
       "      <td>UC7QX2YavsZmS7Se3ZKOsCLQ</td>\n",
       "      <td>2024. 5. 30.</td>\n",
       "      <td>3.8만</td>\n",
       "      <td>45.3만명</td>\n",
       "      <td>https://youtu.be/xbTIUETEhUM&amp;pp</td>\n",
       "    </tr>\n",
       "    <tr>\n",
       "      <th>2</th>\n",
       "      <td>https://img.youtube.com/vi/XbKEj4JVmOc/sddefau...</td>\n",
       "      <td>[하와이Vlog] 폴로 160만원 질렀습니다 👚 폴로저렴하게사는법 | 와이켈레 아울...</td>\n",
       "      <td></td>\n",
       "      <td>UC9_KJcD9gK1lZirJdH7rdww</td>\n",
       "      <td>최초 공개: 2023. 11. 8.</td>\n",
       "      <td>1.1만</td>\n",
       "      <td>869명</td>\n",
       "      <td>https://youtu.be/XbKEj4JVmOc&amp;pp</td>\n",
       "    </tr>\n",
       "    <tr>\n",
       "      <th>3</th>\n",
       "      <td>https://img.youtube.com/vi/ZXdhLzzbvHo/sddefau...</td>\n",
       "      <td>'여름 내내 입기 좋은' 폴로셔츠 &amp; 버뮤다팬츠 추천</td>\n",
       "      <td>호호시</td>\n",
       "      <td>UCTdMHmzV9J5gihbNrnuqEvA</td>\n",
       "      <td>2024. 6. 7.</td>\n",
       "      <td>1.1만</td>\n",
       "      <td>15.3만명</td>\n",
       "      <td>https://youtu.be/ZXdhLzzbvHo&amp;pp</td>\n",
       "    </tr>\n",
       "    <tr>\n",
       "      <th>4</th>\n",
       "      <td>https://img.youtube.com/vi/PBTlgVTuQVs/sddefau...</td>\n",
       "      <td>마트에서 파는 폴로 랄프로렌 정품 가품 확인 (나이키, POLO, 타미... 모두 ...</td>\n",
       "      <td>b급TV</td>\n",
       "      <td>UCrvhkEt3YDJ4D2Cav6BhcxA</td>\n",
       "      <td>2023. 12. 17.</td>\n",
       "      <td>1.4만</td>\n",
       "      <td>3.53만명</td>\n",
       "      <td>https://youtu.be/PBTlgVTuQVs&amp;pp</td>\n",
       "    </tr>\n",
       "    <tr>\n",
       "      <th>...</th>\n",
       "      <td>...</td>\n",
       "      <td>...</td>\n",
       "      <td>...</td>\n",
       "      <td>...</td>\n",
       "      <td>...</td>\n",
       "      <td>...</td>\n",
       "      <td>...</td>\n",
       "      <td>...</td>\n",
       "    </tr>\n",
       "    <tr>\n",
       "      <th>195</th>\n",
       "      <td>https://img.youtube.com/vi/ETVfRoFBvXs/sddefau...</td>\n",
       "      <td>올해 가장 잘 팔린   마뗑킴가디건   오늘의 인기추천   BEST  ㅣ추천템ㅣ생활...</td>\n",
       "      <td>리뷰닷컴</td>\n",
       "      <td>UCqxVqWEH9-xkA7ANaTE5Dhg</td>\n",
       "      <td>2024. 6. 4.</td>\n",
       "      <td>7</td>\n",
       "      <td>1.7천명</td>\n",
       "      <td>https://youtu.be/ETVfRoFBvXs&amp;pp</td>\n",
       "    </tr>\n",
       "    <tr>\n",
       "      <th>196</th>\n",
       "      <td>https://img.youtube.com/vi/J4rlfq30nvI/sddefau...</td>\n",
       "      <td>˚✧₊Winter Diaries 겨울일기(어그,마뗑킴 패딩,쓰리타임즈,수지반팔,수아...</td>\n",
       "      <td>sse</td>\n",
       "      <td>UCa7AV7SlvCbj319FwLkw7Bg</td>\n",
       "      <td>2023. 11. 27.</td>\n",
       "      <td>615</td>\n",
       "      <td>18명</td>\n",
       "      <td>https://youtu.be/J4rlfq30nvI&amp;pp</td>\n",
       "    </tr>\n",
       "    <tr>\n",
       "      <th>197</th>\n",
       "      <td>https://img.youtube.com/vi/sW7mEfmUYM4/sddefau...</td>\n",
       "      <td>10만원대 데일리 만능백 추천ㅣ마뗑킴VS 가니(GANNI)ㅣ#제니백 ㅣ누가 누가 더...</td>\n",
       "      <td>쪼슈라이프 JJOCHOULIFE</td>\n",
       "      <td>UCVJ9ot42o1X9cTkOdTyJxQw</td>\n",
       "      <td>2024. 1. 7.</td>\n",
       "      <td>6.4천</td>\n",
       "      <td>2.03천명</td>\n",
       "      <td>https://youtu.be/sW7mEfmUYM4&amp;pp</td>\n",
       "    </tr>\n",
       "    <tr>\n",
       "      <th>198</th>\n",
       "      <td>https://img.youtube.com/vi/gNOmq8MZhrk/sddefau...</td>\n",
       "      <td>요즘 산 것들 언박싱 🛍 까르띠에 시계•마르헨제이백•마뗑킴•젠틀몬스터•하트퍼센트•등...</td>\n",
       "      <td>MIYUT미윳</td>\n",
       "      <td>UCzjXBk6GY0wHt_iXAvKaaVA</td>\n",
       "      <td>2023. 10. 15.</td>\n",
       "      <td>3.2만</td>\n",
       "      <td>25.9만명</td>\n",
       "      <td>https://youtu.be/gNOmq8MZhrk&amp;pp</td>\n",
       "    </tr>\n",
       "    <tr>\n",
       "      <th>199</th>\n",
       "      <td>https://img.youtube.com/vi/fM4f6rvu_mg/sddefau...</td>\n",
       "      <td>키링이..10만원?🧸1분만에 매진되는 핫한 키링들 사봄(모남희,마지셔우드,마뗑킴,코...</td>\n",
       "      <td>샨토끼</td>\n",
       "      <td>UCQHb4hhZ6PVkhNHttzlQmVw</td>\n",
       "      <td>2023. 8. 12.</td>\n",
       "      <td>1.2만</td>\n",
       "      <td>29만명</td>\n",
       "      <td>https://youtu.be/fM4f6rvu_mg&amp;pp</td>\n",
       "    </tr>\n",
       "  </tbody>\n",
       "</table>\n",
       "<p>200 rows × 8 columns</p>\n",
       "</div>"
      ],
      "text/plain": [
       "                                             thumbnail  \\\n",
       "0    https://img.youtube.com/vi/WFahF9s5aK4/sddefau...   \n",
       "1    https://img.youtube.com/vi/xbTIUETEhUM/sddefau...   \n",
       "2    https://img.youtube.com/vi/XbKEj4JVmOc/sddefau...   \n",
       "3    https://img.youtube.com/vi/ZXdhLzzbvHo/sddefau...   \n",
       "4    https://img.youtube.com/vi/PBTlgVTuQVs/sddefau...   \n",
       "..                                                 ...   \n",
       "195  https://img.youtube.com/vi/ETVfRoFBvXs/sddefau...   \n",
       "196  https://img.youtube.com/vi/J4rlfq30nvI/sddefau...   \n",
       "197  https://img.youtube.com/vi/sW7mEfmUYM4/sddefau...   \n",
       "198  https://img.youtube.com/vi/gNOmq8MZhrk/sddefau...   \n",
       "199  https://img.youtube.com/vi/fM4f6rvu_mg/sddefau...   \n",
       "\n",
       "                                                 title               channel  \\\n",
       "0                              폴로 지겨운거 압니다. [라코스테 이야기]  포트배드Fashion Magazine   \n",
       "1    지금, 이 순간 영원히 기록될 T1의 여름 T1 X POLO RALPH LAUREN...              GQ KOREA   \n",
       "2    [하와이Vlog] 폴로 160만원 질렀습니다 👚 폴로저렴하게사는법 | 와이켈레 아울...                         \n",
       "3                        '여름 내내 입기 좋은' 폴로셔츠 & 버뮤다팬츠 추천                   호호시   \n",
       "4    마트에서 파는 폴로 랄프로렌 정품 가품 확인 (나이키, POLO, 타미... 모두 ...                  b급TV   \n",
       "..                                                 ...                   ...   \n",
       "195  올해 가장 잘 팔린   마뗑킴가디건   오늘의 인기추천   BEST  ㅣ추천템ㅣ생활...                  리뷰닷컴   \n",
       "196  ˚✧₊Winter Diaries 겨울일기(어그,마뗑킴 패딩,쓰리타임즈,수지반팔,수아...                   sse   \n",
       "197  10만원대 데일리 만능백 추천ㅣ마뗑킴VS 가니(GANNI)ㅣ#제니백 ㅣ누가 누가 더...     쪼슈라이프 JJOCHOULIFE   \n",
       "198  요즘 산 것들 언박싱 🛍 까르띠에 시계•마르헨제이백•마뗑킴•젠틀몬스터•하트퍼센트•등...               MIYUT미윳   \n",
       "199  키링이..10만원?🧸1분만에 매진되는 핫한 키링들 사봄(모남희,마지셔우드,마뗑킴,코...                   샨토끼   \n",
       "\n",
       "                   channel_id                 date  view     sub  \\\n",
       "0    UCWRDpplrYog3AVXAFwnbdjQ          2024. 6. 8.    1만  2.16만명   \n",
       "1    UC7QX2YavsZmS7Se3ZKOsCLQ         2024. 5. 30.  3.8만  45.3만명   \n",
       "2    UC9_KJcD9gK1lZirJdH7rdww  최초 공개: 2023. 11. 8.  1.1만    869명   \n",
       "3    UCTdMHmzV9J5gihbNrnuqEvA          2024. 6. 7.  1.1만  15.3만명   \n",
       "4    UCrvhkEt3YDJ4D2Cav6BhcxA        2023. 12. 17.  1.4만  3.53만명   \n",
       "..                        ...                  ...   ...     ...   \n",
       "195  UCqxVqWEH9-xkA7ANaTE5Dhg          2024. 6. 4.     7   1.7천명   \n",
       "196  UCa7AV7SlvCbj319FwLkw7Bg        2023. 11. 27.   615     18명   \n",
       "197  UCVJ9ot42o1X9cTkOdTyJxQw          2024. 1. 7.  6.4천  2.03천명   \n",
       "198  UCzjXBk6GY0wHt_iXAvKaaVA        2023. 10. 15.  3.2만  25.9만명   \n",
       "199  UCQHb4hhZ6PVkhNHttzlQmVw         2023. 8. 12.  1.2만    29만명   \n",
       "\n",
       "                           video url  \n",
       "0    https://youtu.be/WFahF9s5aK4&pp  \n",
       "1    https://youtu.be/xbTIUETEhUM&pp  \n",
       "2    https://youtu.be/XbKEj4JVmOc&pp  \n",
       "3    https://youtu.be/ZXdhLzzbvHo&pp  \n",
       "4    https://youtu.be/PBTlgVTuQVs&pp  \n",
       "..                               ...  \n",
       "195  https://youtu.be/ETVfRoFBvXs&pp  \n",
       "196  https://youtu.be/J4rlfq30nvI&pp  \n",
       "197  https://youtu.be/sW7mEfmUYM4&pp  \n",
       "198  https://youtu.be/gNOmq8MZhrk&pp  \n",
       "199  https://youtu.be/fM4f6rvu_mg&pp  \n",
       "\n",
       "[200 rows x 8 columns]"
      ]
     },
     "execution_count": 33,
     "metadata": {},
     "output_type": "execute_result"
    }
   ],
   "source": [
    "yt_data = pd.DataFrame(video_data)\n",
    "yt_data['video url'] = video_list\n",
    "yt_data"
   ]
  },
  {
   "cell_type": "code",
   "execution_count": 35,
   "metadata": {},
   "outputs": [
    {
     "data": {
      "text/html": [
       "<div>\n",
       "<style scoped>\n",
       "    .dataframe tbody tr th:only-of-type {\n",
       "        vertical-align: middle;\n",
       "    }\n",
       "\n",
       "    .dataframe tbody tr th {\n",
       "        vertical-align: top;\n",
       "    }\n",
       "\n",
       "    .dataframe thead th {\n",
       "        text-align: right;\n",
       "    }\n",
       "</style>\n",
       "<table border=\"1\" class=\"dataframe\">\n",
       "  <thead>\n",
       "    <tr style=\"text-align: right;\">\n",
       "      <th></th>\n",
       "      <th>thumbnail</th>\n",
       "      <th>title</th>\n",
       "      <th>channel</th>\n",
       "      <th>channel_id</th>\n",
       "      <th>date</th>\n",
       "      <th>view</th>\n",
       "      <th>sub</th>\n",
       "      <th>video url</th>\n",
       "    </tr>\n",
       "  </thead>\n",
       "  <tbody>\n",
       "    <tr>\n",
       "      <th>0</th>\n",
       "      <td>https://img.youtube.com/vi/WFahF9s5aK4/sddefau...</td>\n",
       "      <td>폴로 지겨운거 압니다. [라코스테 이야기]</td>\n",
       "      <td>포트배드Fashion Magazine</td>\n",
       "      <td>UCWRDpplrYog3AVXAFwnbdjQ</td>\n",
       "      <td>2024. 6. 8.</td>\n",
       "      <td>10000</td>\n",
       "      <td>2.16만명</td>\n",
       "      <td>https://youtu.be/WFahF9s5aK4&amp;pp</td>\n",
       "    </tr>\n",
       "    <tr>\n",
       "      <th>1</th>\n",
       "      <td>https://img.youtube.com/vi/xbTIUETEhUM/sddefau...</td>\n",
       "      <td>지금, 이 순간 영원히 기록될 T1의 여름 T1 X POLO RALPH LAUREN...</td>\n",
       "      <td>GQ KOREA</td>\n",
       "      <td>UC7QX2YavsZmS7Se3ZKOsCLQ</td>\n",
       "      <td>2024. 5. 30.</td>\n",
       "      <td>38000</td>\n",
       "      <td>45.3만명</td>\n",
       "      <td>https://youtu.be/xbTIUETEhUM&amp;pp</td>\n",
       "    </tr>\n",
       "    <tr>\n",
       "      <th>2</th>\n",
       "      <td>https://img.youtube.com/vi/XbKEj4JVmOc/sddefau...</td>\n",
       "      <td>[하와이Vlog] 폴로 160만원 질렀습니다 👚 폴로저렴하게사는법 | 와이켈레 아울...</td>\n",
       "      <td></td>\n",
       "      <td>UC9_KJcD9gK1lZirJdH7rdww</td>\n",
       "      <td>최초 공개: 2023. 11. 8.</td>\n",
       "      <td>11000</td>\n",
       "      <td>869명</td>\n",
       "      <td>https://youtu.be/XbKEj4JVmOc&amp;pp</td>\n",
       "    </tr>\n",
       "    <tr>\n",
       "      <th>3</th>\n",
       "      <td>https://img.youtube.com/vi/ZXdhLzzbvHo/sddefau...</td>\n",
       "      <td>'여름 내내 입기 좋은' 폴로셔츠 &amp; 버뮤다팬츠 추천</td>\n",
       "      <td>호호시</td>\n",
       "      <td>UCTdMHmzV9J5gihbNrnuqEvA</td>\n",
       "      <td>2024. 6. 7.</td>\n",
       "      <td>11000</td>\n",
       "      <td>15.3만명</td>\n",
       "      <td>https://youtu.be/ZXdhLzzbvHo&amp;pp</td>\n",
       "    </tr>\n",
       "    <tr>\n",
       "      <th>4</th>\n",
       "      <td>https://img.youtube.com/vi/PBTlgVTuQVs/sddefau...</td>\n",
       "      <td>마트에서 파는 폴로 랄프로렌 정품 가품 확인 (나이키, POLO, 타미... 모두 ...</td>\n",
       "      <td>b급TV</td>\n",
       "      <td>UCrvhkEt3YDJ4D2Cav6BhcxA</td>\n",
       "      <td>2023. 12. 17.</td>\n",
       "      <td>14000</td>\n",
       "      <td>3.53만명</td>\n",
       "      <td>https://youtu.be/PBTlgVTuQVs&amp;pp</td>\n",
       "    </tr>\n",
       "    <tr>\n",
       "      <th>...</th>\n",
       "      <td>...</td>\n",
       "      <td>...</td>\n",
       "      <td>...</td>\n",
       "      <td>...</td>\n",
       "      <td>...</td>\n",
       "      <td>...</td>\n",
       "      <td>...</td>\n",
       "      <td>...</td>\n",
       "    </tr>\n",
       "    <tr>\n",
       "      <th>195</th>\n",
       "      <td>https://img.youtube.com/vi/ETVfRoFBvXs/sddefau...</td>\n",
       "      <td>올해 가장 잘 팔린   마뗑킴가디건   오늘의 인기추천   BEST  ㅣ추천템ㅣ생활...</td>\n",
       "      <td>리뷰닷컴</td>\n",
       "      <td>UCqxVqWEH9-xkA7ANaTE5Dhg</td>\n",
       "      <td>2024. 6. 4.</td>\n",
       "      <td>7</td>\n",
       "      <td>1.7천명</td>\n",
       "      <td>https://youtu.be/ETVfRoFBvXs&amp;pp</td>\n",
       "    </tr>\n",
       "    <tr>\n",
       "      <th>196</th>\n",
       "      <td>https://img.youtube.com/vi/J4rlfq30nvI/sddefau...</td>\n",
       "      <td>˚✧₊Winter Diaries 겨울일기(어그,마뗑킴 패딩,쓰리타임즈,수지반팔,수아...</td>\n",
       "      <td>sse</td>\n",
       "      <td>UCa7AV7SlvCbj319FwLkw7Bg</td>\n",
       "      <td>2023. 11. 27.</td>\n",
       "      <td>615</td>\n",
       "      <td>18명</td>\n",
       "      <td>https://youtu.be/J4rlfq30nvI&amp;pp</td>\n",
       "    </tr>\n",
       "    <tr>\n",
       "      <th>197</th>\n",
       "      <td>https://img.youtube.com/vi/sW7mEfmUYM4/sddefau...</td>\n",
       "      <td>10만원대 데일리 만능백 추천ㅣ마뗑킴VS 가니(GANNI)ㅣ#제니백 ㅣ누가 누가 더...</td>\n",
       "      <td>쪼슈라이프 JJOCHOULIFE</td>\n",
       "      <td>UCVJ9ot42o1X9cTkOdTyJxQw</td>\n",
       "      <td>2024. 1. 7.</td>\n",
       "      <td>6400</td>\n",
       "      <td>2.03천명</td>\n",
       "      <td>https://youtu.be/sW7mEfmUYM4&amp;pp</td>\n",
       "    </tr>\n",
       "    <tr>\n",
       "      <th>198</th>\n",
       "      <td>https://img.youtube.com/vi/gNOmq8MZhrk/sddefau...</td>\n",
       "      <td>요즘 산 것들 언박싱 🛍 까르띠에 시계•마르헨제이백•마뗑킴•젠틀몬스터•하트퍼센트•등...</td>\n",
       "      <td>MIYUT미윳</td>\n",
       "      <td>UCzjXBk6GY0wHt_iXAvKaaVA</td>\n",
       "      <td>2023. 10. 15.</td>\n",
       "      <td>32000</td>\n",
       "      <td>25.9만명</td>\n",
       "      <td>https://youtu.be/gNOmq8MZhrk&amp;pp</td>\n",
       "    </tr>\n",
       "    <tr>\n",
       "      <th>199</th>\n",
       "      <td>https://img.youtube.com/vi/fM4f6rvu_mg/sddefau...</td>\n",
       "      <td>키링이..10만원?🧸1분만에 매진되는 핫한 키링들 사봄(모남희,마지셔우드,마뗑킴,코...</td>\n",
       "      <td>샨토끼</td>\n",
       "      <td>UCQHb4hhZ6PVkhNHttzlQmVw</td>\n",
       "      <td>2023. 8. 12.</td>\n",
       "      <td>12000</td>\n",
       "      <td>29만명</td>\n",
       "      <td>https://youtu.be/fM4f6rvu_mg&amp;pp</td>\n",
       "    </tr>\n",
       "  </tbody>\n",
       "</table>\n",
       "<p>200 rows × 8 columns</p>\n",
       "</div>"
      ],
      "text/plain": [
       "                                             thumbnail  \\\n",
       "0    https://img.youtube.com/vi/WFahF9s5aK4/sddefau...   \n",
       "1    https://img.youtube.com/vi/xbTIUETEhUM/sddefau...   \n",
       "2    https://img.youtube.com/vi/XbKEj4JVmOc/sddefau...   \n",
       "3    https://img.youtube.com/vi/ZXdhLzzbvHo/sddefau...   \n",
       "4    https://img.youtube.com/vi/PBTlgVTuQVs/sddefau...   \n",
       "..                                                 ...   \n",
       "195  https://img.youtube.com/vi/ETVfRoFBvXs/sddefau...   \n",
       "196  https://img.youtube.com/vi/J4rlfq30nvI/sddefau...   \n",
       "197  https://img.youtube.com/vi/sW7mEfmUYM4/sddefau...   \n",
       "198  https://img.youtube.com/vi/gNOmq8MZhrk/sddefau...   \n",
       "199  https://img.youtube.com/vi/fM4f6rvu_mg/sddefau...   \n",
       "\n",
       "                                                 title               channel  \\\n",
       "0                              폴로 지겨운거 압니다. [라코스테 이야기]  포트배드Fashion Magazine   \n",
       "1    지금, 이 순간 영원히 기록될 T1의 여름 T1 X POLO RALPH LAUREN...              GQ KOREA   \n",
       "2    [하와이Vlog] 폴로 160만원 질렀습니다 👚 폴로저렴하게사는법 | 와이켈레 아울...                         \n",
       "3                        '여름 내내 입기 좋은' 폴로셔츠 & 버뮤다팬츠 추천                   호호시   \n",
       "4    마트에서 파는 폴로 랄프로렌 정품 가품 확인 (나이키, POLO, 타미... 모두 ...                  b급TV   \n",
       "..                                                 ...                   ...   \n",
       "195  올해 가장 잘 팔린   마뗑킴가디건   오늘의 인기추천   BEST  ㅣ추천템ㅣ생활...                  리뷰닷컴   \n",
       "196  ˚✧₊Winter Diaries 겨울일기(어그,마뗑킴 패딩,쓰리타임즈,수지반팔,수아...                   sse   \n",
       "197  10만원대 데일리 만능백 추천ㅣ마뗑킴VS 가니(GANNI)ㅣ#제니백 ㅣ누가 누가 더...     쪼슈라이프 JJOCHOULIFE   \n",
       "198  요즘 산 것들 언박싱 🛍 까르띠에 시계•마르헨제이백•마뗑킴•젠틀몬스터•하트퍼센트•등...               MIYUT미윳   \n",
       "199  키링이..10만원?🧸1분만에 매진되는 핫한 키링들 사봄(모남희,마지셔우드,마뗑킴,코...                   샨토끼   \n",
       "\n",
       "                   channel_id                 date   view     sub  \\\n",
       "0    UCWRDpplrYog3AVXAFwnbdjQ          2024. 6. 8.  10000  2.16만명   \n",
       "1    UC7QX2YavsZmS7Se3ZKOsCLQ         2024. 5. 30.  38000  45.3만명   \n",
       "2    UC9_KJcD9gK1lZirJdH7rdww  최초 공개: 2023. 11. 8.  11000    869명   \n",
       "3    UCTdMHmzV9J5gihbNrnuqEvA          2024. 6. 7.  11000  15.3만명   \n",
       "4    UCrvhkEt3YDJ4D2Cav6BhcxA        2023. 12. 17.  14000  3.53만명   \n",
       "..                        ...                  ...    ...     ...   \n",
       "195  UCqxVqWEH9-xkA7ANaTE5Dhg          2024. 6. 4.      7   1.7천명   \n",
       "196  UCa7AV7SlvCbj319FwLkw7Bg        2023. 11. 27.    615     18명   \n",
       "197  UCVJ9ot42o1X9cTkOdTyJxQw          2024. 1. 7.   6400  2.03천명   \n",
       "198  UCzjXBk6GY0wHt_iXAvKaaVA        2023. 10. 15.  32000  25.9만명   \n",
       "199  UCQHb4hhZ6PVkhNHttzlQmVw         2023. 8. 12.  12000    29만명   \n",
       "\n",
       "                           video url  \n",
       "0    https://youtu.be/WFahF9s5aK4&pp  \n",
       "1    https://youtu.be/xbTIUETEhUM&pp  \n",
       "2    https://youtu.be/XbKEj4JVmOc&pp  \n",
       "3    https://youtu.be/ZXdhLzzbvHo&pp  \n",
       "4    https://youtu.be/PBTlgVTuQVs&pp  \n",
       "..                               ...  \n",
       "195  https://youtu.be/ETVfRoFBvXs&pp  \n",
       "196  https://youtu.be/J4rlfq30nvI&pp  \n",
       "197  https://youtu.be/sW7mEfmUYM4&pp  \n",
       "198  https://youtu.be/gNOmq8MZhrk&pp  \n",
       "199  https://youtu.be/fM4f6rvu_mg&pp  \n",
       "\n",
       "[200 rows x 8 columns]"
      ]
     },
     "execution_count": 35,
     "metadata": {},
     "output_type": "execute_result"
    }
   ],
   "source": [
    "# 조회수 계산\n",
    "yt_data_copy = yt_data\n",
    "\n",
    "for i in range(len(yt_data_copy)):\n",
    "    if '천' in str(yt_data_copy['view'][i]): # 1,000\n",
    "        k_num = int(float(yt_data_copy['view'][i].replace('천',''))*1000)\n",
    "        yt_data_copy.loc[i, 'view'] = format(k_num)\n",
    "    elif '만' in str(yt_data_copy['view'][i]): # 10,000\n",
    "        m_num = int(float(yt_data_copy['view'][i].replace('만',''))*10000)\n",
    "        yt_data_copy.loc[i, 'view'] = format(m_num)\n",
    "\n",
    "yt_data_copy"
   ]
  },
  {
   "cell_type": "code",
   "execution_count": 36,
   "metadata": {},
   "outputs": [
    {
     "data": {
      "text/html": [
       "<div>\n",
       "<style scoped>\n",
       "    .dataframe tbody tr th:only-of-type {\n",
       "        vertical-align: middle;\n",
       "    }\n",
       "\n",
       "    .dataframe tbody tr th {\n",
       "        vertical-align: top;\n",
       "    }\n",
       "\n",
       "    .dataframe thead th {\n",
       "        text-align: right;\n",
       "    }\n",
       "</style>\n",
       "<table border=\"1\" class=\"dataframe\">\n",
       "  <thead>\n",
       "    <tr style=\"text-align: right;\">\n",
       "      <th></th>\n",
       "      <th>thumbnail</th>\n",
       "      <th>title</th>\n",
       "      <th>channel</th>\n",
       "      <th>channel_id</th>\n",
       "      <th>date</th>\n",
       "      <th>view</th>\n",
       "      <th>sub</th>\n",
       "      <th>video url</th>\n",
       "    </tr>\n",
       "  </thead>\n",
       "  <tbody>\n",
       "    <tr>\n",
       "      <th>0</th>\n",
       "      <td>https://img.youtube.com/vi/WFahF9s5aK4/sddefau...</td>\n",
       "      <td>폴로 지겨운거 압니다. [라코스테 이야기]</td>\n",
       "      <td>포트배드Fashion Magazine</td>\n",
       "      <td>UCWRDpplrYog3AVXAFwnbdjQ</td>\n",
       "      <td>2024. 6. 8.</td>\n",
       "      <td>10000</td>\n",
       "      <td>21600</td>\n",
       "      <td>https://youtu.be/WFahF9s5aK4&amp;pp</td>\n",
       "    </tr>\n",
       "    <tr>\n",
       "      <th>1</th>\n",
       "      <td>https://img.youtube.com/vi/xbTIUETEhUM/sddefau...</td>\n",
       "      <td>지금, 이 순간 영원히 기록될 T1의 여름 T1 X POLO RALPH LAUREN...</td>\n",
       "      <td>GQ KOREA</td>\n",
       "      <td>UC7QX2YavsZmS7Se3ZKOsCLQ</td>\n",
       "      <td>2024. 5. 30.</td>\n",
       "      <td>38000</td>\n",
       "      <td>453000</td>\n",
       "      <td>https://youtu.be/xbTIUETEhUM&amp;pp</td>\n",
       "    </tr>\n",
       "    <tr>\n",
       "      <th>2</th>\n",
       "      <td>https://img.youtube.com/vi/XbKEj4JVmOc/sddefau...</td>\n",
       "      <td>[하와이Vlog] 폴로 160만원 질렀습니다 👚 폴로저렴하게사는법 | 와이켈레 아울...</td>\n",
       "      <td></td>\n",
       "      <td>UC9_KJcD9gK1lZirJdH7rdww</td>\n",
       "      <td>최초 공개: 2023. 11. 8.</td>\n",
       "      <td>11000</td>\n",
       "      <td>869명</td>\n",
       "      <td>https://youtu.be/XbKEj4JVmOc&amp;pp</td>\n",
       "    </tr>\n",
       "    <tr>\n",
       "      <th>3</th>\n",
       "      <td>https://img.youtube.com/vi/ZXdhLzzbvHo/sddefau...</td>\n",
       "      <td>'여름 내내 입기 좋은' 폴로셔츠 &amp; 버뮤다팬츠 추천</td>\n",
       "      <td>호호시</td>\n",
       "      <td>UCTdMHmzV9J5gihbNrnuqEvA</td>\n",
       "      <td>2024. 6. 7.</td>\n",
       "      <td>11000</td>\n",
       "      <td>153000</td>\n",
       "      <td>https://youtu.be/ZXdhLzzbvHo&amp;pp</td>\n",
       "    </tr>\n",
       "    <tr>\n",
       "      <th>4</th>\n",
       "      <td>https://img.youtube.com/vi/PBTlgVTuQVs/sddefau...</td>\n",
       "      <td>마트에서 파는 폴로 랄프로렌 정품 가품 확인 (나이키, POLO, 타미... 모두 ...</td>\n",
       "      <td>b급TV</td>\n",
       "      <td>UCrvhkEt3YDJ4D2Cav6BhcxA</td>\n",
       "      <td>2023. 12. 17.</td>\n",
       "      <td>14000</td>\n",
       "      <td>35300</td>\n",
       "      <td>https://youtu.be/PBTlgVTuQVs&amp;pp</td>\n",
       "    </tr>\n",
       "    <tr>\n",
       "      <th>...</th>\n",
       "      <td>...</td>\n",
       "      <td>...</td>\n",
       "      <td>...</td>\n",
       "      <td>...</td>\n",
       "      <td>...</td>\n",
       "      <td>...</td>\n",
       "      <td>...</td>\n",
       "      <td>...</td>\n",
       "    </tr>\n",
       "    <tr>\n",
       "      <th>195</th>\n",
       "      <td>https://img.youtube.com/vi/ETVfRoFBvXs/sddefau...</td>\n",
       "      <td>올해 가장 잘 팔린   마뗑킴가디건   오늘의 인기추천   BEST  ㅣ추천템ㅣ생활...</td>\n",
       "      <td>리뷰닷컴</td>\n",
       "      <td>UCqxVqWEH9-xkA7ANaTE5Dhg</td>\n",
       "      <td>2024. 6. 4.</td>\n",
       "      <td>7</td>\n",
       "      <td>1700</td>\n",
       "      <td>https://youtu.be/ETVfRoFBvXs&amp;pp</td>\n",
       "    </tr>\n",
       "    <tr>\n",
       "      <th>196</th>\n",
       "      <td>https://img.youtube.com/vi/J4rlfq30nvI/sddefau...</td>\n",
       "      <td>˚✧₊Winter Diaries 겨울일기(어그,마뗑킴 패딩,쓰리타임즈,수지반팔,수아...</td>\n",
       "      <td>sse</td>\n",
       "      <td>UCa7AV7SlvCbj319FwLkw7Bg</td>\n",
       "      <td>2023. 11. 27.</td>\n",
       "      <td>615</td>\n",
       "      <td>18명</td>\n",
       "      <td>https://youtu.be/J4rlfq30nvI&amp;pp</td>\n",
       "    </tr>\n",
       "    <tr>\n",
       "      <th>197</th>\n",
       "      <td>https://img.youtube.com/vi/sW7mEfmUYM4/sddefau...</td>\n",
       "      <td>10만원대 데일리 만능백 추천ㅣ마뗑킴VS 가니(GANNI)ㅣ#제니백 ㅣ누가 누가 더...</td>\n",
       "      <td>쪼슈라이프 JJOCHOULIFE</td>\n",
       "      <td>UCVJ9ot42o1X9cTkOdTyJxQw</td>\n",
       "      <td>2024. 1. 7.</td>\n",
       "      <td>6400</td>\n",
       "      <td>2029</td>\n",
       "      <td>https://youtu.be/sW7mEfmUYM4&amp;pp</td>\n",
       "    </tr>\n",
       "    <tr>\n",
       "      <th>198</th>\n",
       "      <td>https://img.youtube.com/vi/gNOmq8MZhrk/sddefau...</td>\n",
       "      <td>요즘 산 것들 언박싱 🛍 까르띠에 시계•마르헨제이백•마뗑킴•젠틀몬스터•하트퍼센트•등...</td>\n",
       "      <td>MIYUT미윳</td>\n",
       "      <td>UCzjXBk6GY0wHt_iXAvKaaVA</td>\n",
       "      <td>2023. 10. 15.</td>\n",
       "      <td>32000</td>\n",
       "      <td>259000</td>\n",
       "      <td>https://youtu.be/gNOmq8MZhrk&amp;pp</td>\n",
       "    </tr>\n",
       "    <tr>\n",
       "      <th>199</th>\n",
       "      <td>https://img.youtube.com/vi/fM4f6rvu_mg/sddefau...</td>\n",
       "      <td>키링이..10만원?🧸1분만에 매진되는 핫한 키링들 사봄(모남희,마지셔우드,마뗑킴,코...</td>\n",
       "      <td>샨토끼</td>\n",
       "      <td>UCQHb4hhZ6PVkhNHttzlQmVw</td>\n",
       "      <td>2023. 8. 12.</td>\n",
       "      <td>12000</td>\n",
       "      <td>290000</td>\n",
       "      <td>https://youtu.be/fM4f6rvu_mg&amp;pp</td>\n",
       "    </tr>\n",
       "  </tbody>\n",
       "</table>\n",
       "<p>200 rows × 8 columns</p>\n",
       "</div>"
      ],
      "text/plain": [
       "                                             thumbnail  \\\n",
       "0    https://img.youtube.com/vi/WFahF9s5aK4/sddefau...   \n",
       "1    https://img.youtube.com/vi/xbTIUETEhUM/sddefau...   \n",
       "2    https://img.youtube.com/vi/XbKEj4JVmOc/sddefau...   \n",
       "3    https://img.youtube.com/vi/ZXdhLzzbvHo/sddefau...   \n",
       "4    https://img.youtube.com/vi/PBTlgVTuQVs/sddefau...   \n",
       "..                                                 ...   \n",
       "195  https://img.youtube.com/vi/ETVfRoFBvXs/sddefau...   \n",
       "196  https://img.youtube.com/vi/J4rlfq30nvI/sddefau...   \n",
       "197  https://img.youtube.com/vi/sW7mEfmUYM4/sddefau...   \n",
       "198  https://img.youtube.com/vi/gNOmq8MZhrk/sddefau...   \n",
       "199  https://img.youtube.com/vi/fM4f6rvu_mg/sddefau...   \n",
       "\n",
       "                                                 title               channel  \\\n",
       "0                              폴로 지겨운거 압니다. [라코스테 이야기]  포트배드Fashion Magazine   \n",
       "1    지금, 이 순간 영원히 기록될 T1의 여름 T1 X POLO RALPH LAUREN...              GQ KOREA   \n",
       "2    [하와이Vlog] 폴로 160만원 질렀습니다 👚 폴로저렴하게사는법 | 와이켈레 아울...                         \n",
       "3                        '여름 내내 입기 좋은' 폴로셔츠 & 버뮤다팬츠 추천                   호호시   \n",
       "4    마트에서 파는 폴로 랄프로렌 정품 가품 확인 (나이키, POLO, 타미... 모두 ...                  b급TV   \n",
       "..                                                 ...                   ...   \n",
       "195  올해 가장 잘 팔린   마뗑킴가디건   오늘의 인기추천   BEST  ㅣ추천템ㅣ생활...                  리뷰닷컴   \n",
       "196  ˚✧₊Winter Diaries 겨울일기(어그,마뗑킴 패딩,쓰리타임즈,수지반팔,수아...                   sse   \n",
       "197  10만원대 데일리 만능백 추천ㅣ마뗑킴VS 가니(GANNI)ㅣ#제니백 ㅣ누가 누가 더...     쪼슈라이프 JJOCHOULIFE   \n",
       "198  요즘 산 것들 언박싱 🛍 까르띠에 시계•마르헨제이백•마뗑킴•젠틀몬스터•하트퍼센트•등...               MIYUT미윳   \n",
       "199  키링이..10만원?🧸1분만에 매진되는 핫한 키링들 사봄(모남희,마지셔우드,마뗑킴,코...                   샨토끼   \n",
       "\n",
       "                   channel_id                 date   view     sub  \\\n",
       "0    UCWRDpplrYog3AVXAFwnbdjQ          2024. 6. 8.  10000   21600   \n",
       "1    UC7QX2YavsZmS7Se3ZKOsCLQ         2024. 5. 30.  38000  453000   \n",
       "2    UC9_KJcD9gK1lZirJdH7rdww  최초 공개: 2023. 11. 8.  11000    869명   \n",
       "3    UCTdMHmzV9J5gihbNrnuqEvA          2024. 6. 7.  11000  153000   \n",
       "4    UCrvhkEt3YDJ4D2Cav6BhcxA        2023. 12. 17.  14000   35300   \n",
       "..                        ...                  ...    ...     ...   \n",
       "195  UCqxVqWEH9-xkA7ANaTE5Dhg          2024. 6. 4.      7    1700   \n",
       "196  UCa7AV7SlvCbj319FwLkw7Bg        2023. 11. 27.    615     18명   \n",
       "197  UCVJ9ot42o1X9cTkOdTyJxQw          2024. 1. 7.   6400    2029   \n",
       "198  UCzjXBk6GY0wHt_iXAvKaaVA        2023. 10. 15.  32000  259000   \n",
       "199  UCQHb4hhZ6PVkhNHttzlQmVw         2023. 8. 12.  12000  290000   \n",
       "\n",
       "                           video url  \n",
       "0    https://youtu.be/WFahF9s5aK4&pp  \n",
       "1    https://youtu.be/xbTIUETEhUM&pp  \n",
       "2    https://youtu.be/XbKEj4JVmOc&pp  \n",
       "3    https://youtu.be/ZXdhLzzbvHo&pp  \n",
       "4    https://youtu.be/PBTlgVTuQVs&pp  \n",
       "..                               ...  \n",
       "195  https://youtu.be/ETVfRoFBvXs&pp  \n",
       "196  https://youtu.be/J4rlfq30nvI&pp  \n",
       "197  https://youtu.be/sW7mEfmUYM4&pp  \n",
       "198  https://youtu.be/gNOmq8MZhrk&pp  \n",
       "199  https://youtu.be/fM4f6rvu_mg&pp  \n",
       "\n",
       "[200 rows x 8 columns]"
      ]
     },
     "execution_count": 36,
     "metadata": {},
     "output_type": "execute_result"
    }
   ],
   "source": [
    "# 구독자 수 계산\n",
    "for i in range(len(yt_data_copy)):\n",
    "    if '천' in str(yt_data_copy['sub'][i]): # 1,000\n",
    "        k_num = int(float(yt_data_copy['sub'][i].replace('천명',''))*1000)\n",
    "        yt_data_copy.loc[i, 'sub'] = format(k_num)\n",
    "    elif '만' in str(yt_data_copy['sub'][i]): # 10,000\n",
    "        m_num = int(float(yt_data_copy['sub'][i].replace('만명',''))*10000)\n",
    "        yt_data_copy.loc[i, 'sub'] = format(m_num)\n",
    "\n",
    "yt_data_copy"
   ]
  },
  {
   "cell_type": "code",
   "execution_count": 37,
   "metadata": {},
   "outputs": [
    {
     "data": {
      "text/html": [
       "<div>\n",
       "<style scoped>\n",
       "    .dataframe tbody tr th:only-of-type {\n",
       "        vertical-align: middle;\n",
       "    }\n",
       "\n",
       "    .dataframe tbody tr th {\n",
       "        vertical-align: top;\n",
       "    }\n",
       "\n",
       "    .dataframe thead th {\n",
       "        text-align: right;\n",
       "    }\n",
       "</style>\n",
       "<table border=\"1\" class=\"dataframe\">\n",
       "  <thead>\n",
       "    <tr style=\"text-align: right;\">\n",
       "      <th></th>\n",
       "      <th>thumbnail</th>\n",
       "      <th>title</th>\n",
       "      <th>channel</th>\n",
       "      <th>channel_id</th>\n",
       "      <th>date</th>\n",
       "      <th>view</th>\n",
       "      <th>sub</th>\n",
       "      <th>video url</th>\n",
       "    </tr>\n",
       "  </thead>\n",
       "  <tbody>\n",
       "    <tr>\n",
       "      <th>42</th>\n",
       "      <td>https://img.youtube.com/vi/wppW7VZb8vw/sddefau...</td>\n",
       "      <td>중고차 [구해줘카즈] 무시할 수 없는 소형차! 폭스바겐 폴로! 여성 구독자님 첫차구...</td>\n",
       "      <td>중고차 구해줘카즈</td>\n",
       "      <td>UCCRqjkldNAmheMKC7GinZfQ</td>\n",
       "      <td>2024. 6. 16.</td>\n",
       "      <td>711</td>\n",
       "      <td>12800</td>\n",
       "      <td>https://youtu.be/wppW7VZb8vw&amp;pp</td>\n",
       "    </tr>\n",
       "    <tr>\n",
       "      <th>49</th>\n",
       "      <td>https://img.youtube.com/vi/Izlr37KVDqk/sddefau...</td>\n",
       "      <td>제목 크롤링 오류</td>\n",
       "      <td>채널명 크롤링 오류</td>\n",
       "      <td>UC4ulpGYm1cZvLOu68YN30XA</td>\n",
       "      <td>업로드 일자 크롤링 오류</td>\n",
       "      <td>조회수 크롤링 오류</td>\n",
       "      <td>구독자 수 크롤링 오류</td>\n",
       "      <td>https://youtu.be/Izlr37KVDqk&amp;pp</td>\n",
       "    </tr>\n",
       "    <tr>\n",
       "      <th>50</th>\n",
       "      <td>https://img.youtube.com/vi/xbTIUETEhUM/sddefau...</td>\n",
       "      <td>지금, 이 순간 영원히 기록될 T1의 여름 T1 X POLO RALPH LAUREN...</td>\n",
       "      <td>GQ KOREA</td>\n",
       "      <td>UC7QX2YavsZmS7Se3ZKOsCLQ</td>\n",
       "      <td>2024. 5. 30.</td>\n",
       "      <td>38000</td>\n",
       "      <td>453000</td>\n",
       "      <td>https://youtu.be/xbTIUETEhUM&amp;pp</td>\n",
       "    </tr>\n",
       "    <tr>\n",
       "      <th>51</th>\n",
       "      <td>https://img.youtube.com/vi/PBTlgVTuQVs/sddefau...</td>\n",
       "      <td>제목 크롤링 오류</td>\n",
       "      <td>채널명 크롤링 오류</td>\n",
       "      <td>UCrvhkEt3YDJ4D2Cav6BhcxA</td>\n",
       "      <td>업로드 일자 크롤링 오류</td>\n",
       "      <td>조회수 크롤링 오류</td>\n",
       "      <td>구독자 수 크롤링 오류</td>\n",
       "      <td>https://youtu.be/PBTlgVTuQVs&amp;pp</td>\n",
       "    </tr>\n",
       "    <tr>\n",
       "      <th>52</th>\n",
       "      <td>https://img.youtube.com/vi/i7WmGPuw-Bc/sddefau...</td>\n",
       "      <td>천년만년 입는 폴로 아이템. 폴로에서 이거는 필수템! 셔츠 위주 추천</td>\n",
       "      <td>배사임당BAESAIMDANG</td>\n",
       "      <td>UC9HqGIG0Bj8yB77dUJ-Eoxw</td>\n",
       "      <td>2024. 4. 21.</td>\n",
       "      <td>46000</td>\n",
       "      <td>60599</td>\n",
       "      <td>https://youtu.be/i7WmGPuw-Bc&amp;pp</td>\n",
       "    </tr>\n",
       "    <tr>\n",
       "      <th>53</th>\n",
       "      <td>https://img.youtube.com/vi/fDS8aEif31M/sddefau...</td>\n",
       "      <td>제목 크롤링 오류</td>\n",
       "      <td>채널명 크롤링 오류</td>\n",
       "      <td>UCrvhkEt3YDJ4D2Cav6BhcxA</td>\n",
       "      <td>업로드 일자 크롤링 오류</td>\n",
       "      <td>조회수 크롤링 오류</td>\n",
       "      <td>구독자 수 크롤링 오류</td>\n",
       "      <td>https://youtu.be/fDS8aEif31M&amp;pp</td>\n",
       "    </tr>\n",
       "    <tr>\n",
       "      <th>55</th>\n",
       "      <td>https://img.youtube.com/vi/etqor2iEz6o/sddefau...</td>\n",
       "      <td>우리가 폴로에 진심인 \"진짜\" 이유</td>\n",
       "      <td>오늘부터 회계사</td>\n",
       "      <td>UClhPqabyOHBxJzMkQ7k-pxg</td>\n",
       "      <td>2024. 1. 24.</td>\n",
       "      <td>10000</td>\n",
       "      <td>55400</td>\n",
       "      <td>https://youtu.be/etqor2iEz6o&amp;pp</td>\n",
       "    </tr>\n",
       "    <tr>\n",
       "      <th>58</th>\n",
       "      <td>https://img.youtube.com/vi/gO4nbMYCiJI/sddefau...</td>\n",
       "      <td>🇺🇸 미국 폴로 최신가격 (23년 9월) 여자의류-  미국 아울렛 쇼핑 / 가격은 ...</td>\n",
       "      <td>캘리킴 CaliKim</td>\n",
       "      <td>UCVRFZAzXvE_hfETVbKB3ooQ</td>\n",
       "      <td>2023. 9. 22.</td>\n",
       "      <td>5800</td>\n",
       "      <td>2780</td>\n",
       "      <td>https://youtu.be/gO4nbMYCiJI&amp;pp</td>\n",
       "    </tr>\n",
       "    <tr>\n",
       "      <th>59</th>\n",
       "      <td>https://img.youtube.com/vi/VsnmzIsDoTg/sddefau...</td>\n",
       "      <td>[small talk long walk #325] 폴로 랄프로렌 블루라벨을 수집한다면?!</td>\n",
       "      <td>수박 겉핥기</td>\n",
       "      <td>UCrYRihqBAdmjlJMa1wV2Xcw</td>\n",
       "      <td>2024. 5. 15.</td>\n",
       "      <td>1400</td>\n",
       "      <td>7000</td>\n",
       "      <td>https://youtu.be/VsnmzIsDoTg&amp;pp</td>\n",
       "    </tr>\n",
       "    <tr>\n",
       "      <th>60</th>\n",
       "      <td>https://img.youtube.com/vi/EljrY8SRJZ4/sddefau...</td>\n",
       "      <td>[ENG CC] 👕이것의 원조는 XXX이 아니다⁉️ | 폴로 셔츠 탄생 비하인드 썰👄</td>\n",
       "      <td>슈스스TV</td>\n",
       "      <td>UC5W3wHMAkp6b_8HrhReP5aQ</td>\n",
       "      <td>2024. 5. 23.</td>\n",
       "      <td>34000</td>\n",
       "      <td>520000</td>\n",
       "      <td>https://youtu.be/EljrY8SRJZ4&amp;pp</td>\n",
       "    </tr>\n",
       "    <tr>\n",
       "      <th>68</th>\n",
       "      <td>https://img.youtube.com/vi/CSkfVqxF71I/sddefau...</td>\n",
       "      <td>여기도 가품이야? 폴로는 왜 이렇게 가품이 많을까?</td>\n",
       "      <td>헬프맨</td>\n",
       "      <td>UChOCmROp3jzyMFbTeqZOiFg</td>\n",
       "      <td>2024. 1. 26.</td>\n",
       "      <td>6600</td>\n",
       "      <td>23100</td>\n",
       "      <td>https://youtu.be/CSkfVqxF71I&amp;pp</td>\n",
       "    </tr>\n",
       "    <tr>\n",
       "      <th>69</th>\n",
       "      <td>https://img.youtube.com/vi/g3MHneshvLk/sddefau...</td>\n",
       "      <td>폴로 정가품을 구별하는 가장 간단한 방법</td>\n",
       "      <td>포트배드Fashion Magazine</td>\n",
       "      <td>UCWRDpplrYog3AVXAFwnbdjQ</td>\n",
       "      <td>2023. 8. 28.</td>\n",
       "      <td>21000</td>\n",
       "      <td>21600</td>\n",
       "      <td>https://youtu.be/g3MHneshvLk&amp;pp</td>\n",
       "    </tr>\n",
       "    <tr>\n",
       "      <th>70</th>\n",
       "      <td>https://img.youtube.com/vi/y0ml6O7_1Io/sddefau...</td>\n",
       "      <td>가을하면 폴로, 폴로하면 가을 아니겠어요?🤎ㅣ폴로 가을 룩북🍁🍂(feat.쉽겟)ㅣ폴...</td>\n",
       "      <td>소이진</td>\n",
       "      <td>UCXHN8unWyGmUmqeHosG69Fg</td>\n",
       "      <td>2023. 8. 27.</td>\n",
       "      <td>18000</td>\n",
       "      <td>2060</td>\n",
       "      <td>https://youtu.be/y0ml6O7_1Io&amp;pp</td>\n",
       "    </tr>\n",
       "    <tr>\n",
       "      <th>73</th>\n",
       "      <td>https://img.youtube.com/vi/0AoEK2kbR-k/sddefau...</td>\n",
       "      <td>🎯SNS에서 자꾸 물어봐서 가져왔다. 최근 자주 사용하는 여름 패션 아이템 12가지...</td>\n",
       "      <td>오늘의 주우재</td>\n",
       "      <td>UCw-kXdzxMdMdLNI0ZlFFbmA</td>\n",
       "      <td>2023. 7. 21.</td>\n",
       "      <td>640000</td>\n",
       "      <td>1140000</td>\n",
       "      <td>https://youtu.be/0AoEK2kbR-k&amp;pp</td>\n",
       "    </tr>\n",
       "    <tr>\n",
       "      <th>82</th>\n",
       "      <td>https://img.youtube.com/vi/jz8Ts08O2lc/sddefau...</td>\n",
       "      <td>랄프로렌 폴로 미국 공홈 세일 언박싱😃🛍</td>\n",
       "      <td>허니스킨</td>\n",
       "      <td>UC-7WL4zuKJLrzOIWaeLq8cg</td>\n",
       "      <td>2024. 5. 13.</td>\n",
       "      <td>745</td>\n",
       "      <td>388명</td>\n",
       "      <td>https://youtu.be/jz8Ts08O2lc&amp;pp</td>\n",
       "    </tr>\n",
       "    <tr>\n",
       "      <th>89</th>\n",
       "      <td>https://img.youtube.com/vi/kw0r8R1FQlM/sddefau...</td>\n",
       "      <td>폴로랄프로렌반팔 추천 판매순위 Top10 || 가격 평점 후기 비교</td>\n",
       "      <td>어바웃쇼핑</td>\n",
       "      <td>UC6Ve4mB8Cvi3F4rlt3w4gaw</td>\n",
       "      <td>2023. 6. 20.</td>\n",
       "      <td>64</td>\n",
       "      <td>3590</td>\n",
       "      <td>https://youtu.be/kw0r8R1FQlM&amp;pp</td>\n",
       "    </tr>\n",
       "    <tr>\n",
       "      <th>94</th>\n",
       "      <td>https://img.youtube.com/vi/S3R4Pk3FrkI/sddefau...</td>\n",
       "      <td>폴로니트 공구 정품일까? 해외직구, 아울렛 매장템과 비교 (165cm S사이즈) #폴로</td>\n",
       "      <td>리뷰하는 묘대리</td>\n",
       "      <td>UCqiYDhH7fs18whd09ekhrKg</td>\n",
       "      <td>2023. 10. 24.</td>\n",
       "      <td>38000</td>\n",
       "      <td>28200</td>\n",
       "      <td>https://youtu.be/S3R4Pk3FrkI&amp;pp</td>\n",
       "    </tr>\n",
       "    <tr>\n",
       "      <th>117</th>\n",
       "      <td>https://img.youtube.com/vi/RaW5zjnGMAE/sddefau...</td>\n",
       "      <td>👟아디다스가 작정하고 만든 역대 가장 가볍고 가장 비싼 1회용 러닝화</td>\n",
       "      <td>애슬레틱 라이프 Athletic Life</td>\n",
       "      <td>UCM9MPGAGS-StU5swPiZHnHg</td>\n",
       "      <td>2023. 10. 4.</td>\n",
       "      <td>640000</td>\n",
       "      <td>105000</td>\n",
       "      <td>https://youtu.be/RaW5zjnGMAE&amp;pp</td>\n",
       "    </tr>\n",
       "    <tr>\n",
       "      <th>147</th>\n",
       "      <td>https://img.youtube.com/vi/5mq7y1E8jEY/sddefau...</td>\n",
       "      <td>👟요즘, OO운동화가 뜨는 이유❓️'옷잘알'들은 미리 쟁이는 여름운동화 7 추천</td>\n",
       "      <td>Bora Claire (보라끌레르)</td>\n",
       "      <td>UCSrRZH9QT6li5PIAv0r_6QA</td>\n",
       "      <td>2024. 5. 25.</td>\n",
       "      <td>180000</td>\n",
       "      <td>698000</td>\n",
       "      <td>https://youtu.be/5mq7y1E8jEY&amp;pp</td>\n",
       "    </tr>\n",
       "    <tr>\n",
       "      <th>148</th>\n",
       "      <td>https://img.youtube.com/vi/6tzHNvjMHoM/sddefau...</td>\n",
       "      <td>🍃 고르고 고른 바람막이 9가지 추천 &amp; 리뷰 | 나이키,아디다스,아크테릭스, 뉴발...</td>\n",
       "      <td>러브솔</td>\n",
       "      <td>UCy3Dp6QP6bQiB7dwsBZEgwQ</td>\n",
       "      <td>2024. 4. 21.</td>\n",
       "      <td>130000</td>\n",
       "      <td>117000</td>\n",
       "      <td>https://youtu.be/6tzHNvjMHoM&amp;pp</td>\n",
       "    </tr>\n",
       "    <tr>\n",
       "      <th>175</th>\n",
       "      <td>https://img.youtube.com/vi/HTwqTergcb8/sddefau...</td>\n",
       "      <td>vlog | 성수동 쇼룸 투어 | 마뗑킴, 아비에무아, 아카이브앱크, 루에브르, 엠...</td>\n",
       "      <td>오로라이프 ohrolife</td>\n",
       "      <td>UCrN_QOb0VxLlGeAbLLDxnhw</td>\n",
       "      <td>2024. 3. 29.</td>\n",
       "      <td>1800</td>\n",
       "      <td>251명</td>\n",
       "      <td>https://youtu.be/HTwqTergcb8&amp;pp</td>\n",
       "    </tr>\n",
       "  </tbody>\n",
       "</table>\n",
       "</div>"
      ],
      "text/plain": [
       "                                             thumbnail  \\\n",
       "42   https://img.youtube.com/vi/wppW7VZb8vw/sddefau...   \n",
       "49   https://img.youtube.com/vi/Izlr37KVDqk/sddefau...   \n",
       "50   https://img.youtube.com/vi/xbTIUETEhUM/sddefau...   \n",
       "51   https://img.youtube.com/vi/PBTlgVTuQVs/sddefau...   \n",
       "52   https://img.youtube.com/vi/i7WmGPuw-Bc/sddefau...   \n",
       "53   https://img.youtube.com/vi/fDS8aEif31M/sddefau...   \n",
       "55   https://img.youtube.com/vi/etqor2iEz6o/sddefau...   \n",
       "58   https://img.youtube.com/vi/gO4nbMYCiJI/sddefau...   \n",
       "59   https://img.youtube.com/vi/VsnmzIsDoTg/sddefau...   \n",
       "60   https://img.youtube.com/vi/EljrY8SRJZ4/sddefau...   \n",
       "68   https://img.youtube.com/vi/CSkfVqxF71I/sddefau...   \n",
       "69   https://img.youtube.com/vi/g3MHneshvLk/sddefau...   \n",
       "70   https://img.youtube.com/vi/y0ml6O7_1Io/sddefau...   \n",
       "73   https://img.youtube.com/vi/0AoEK2kbR-k/sddefau...   \n",
       "82   https://img.youtube.com/vi/jz8Ts08O2lc/sddefau...   \n",
       "89   https://img.youtube.com/vi/kw0r8R1FQlM/sddefau...   \n",
       "94   https://img.youtube.com/vi/S3R4Pk3FrkI/sddefau...   \n",
       "117  https://img.youtube.com/vi/RaW5zjnGMAE/sddefau...   \n",
       "147  https://img.youtube.com/vi/5mq7y1E8jEY/sddefau...   \n",
       "148  https://img.youtube.com/vi/6tzHNvjMHoM/sddefau...   \n",
       "175  https://img.youtube.com/vi/HTwqTergcb8/sddefau...   \n",
       "\n",
       "                                                 title  \\\n",
       "42   중고차 [구해줘카즈] 무시할 수 없는 소형차! 폭스바겐 폴로! 여성 구독자님 첫차구...   \n",
       "49                                           제목 크롤링 오류   \n",
       "50   지금, 이 순간 영원히 기록될 T1의 여름 T1 X POLO RALPH LAUREN...   \n",
       "51                                           제목 크롤링 오류   \n",
       "52              천년만년 입는 폴로 아이템. 폴로에서 이거는 필수템! 셔츠 위주 추천   \n",
       "53                                           제목 크롤링 오류   \n",
       "55                                 우리가 폴로에 진심인 \"진짜\" 이유   \n",
       "58   🇺🇸 미국 폴로 최신가격 (23년 9월) 여자의류-  미국 아울렛 쇼핑 / 가격은 ...   \n",
       "59   [small talk long walk #325] 폴로 랄프로렌 블루라벨을 수집한다면?!   \n",
       "60     [ENG CC] 👕이것의 원조는 XXX이 아니다⁉️ | 폴로 셔츠 탄생 비하인드 썰👄   \n",
       "68                        여기도 가품이야? 폴로는 왜 이렇게 가품이 많을까?   \n",
       "69                              폴로 정가품을 구별하는 가장 간단한 방법   \n",
       "70   가을하면 폴로, 폴로하면 가을 아니겠어요?🤎ㅣ폴로 가을 룩북🍁🍂(feat.쉽겟)ㅣ폴...   \n",
       "73   🎯SNS에서 자꾸 물어봐서 가져왔다. 최근 자주 사용하는 여름 패션 아이템 12가지...   \n",
       "82                              랄프로렌 폴로 미국 공홈 세일 언박싱😃🛍   \n",
       "89               폴로랄프로렌반팔 추천 판매순위 Top10 || 가격 평점 후기 비교   \n",
       "94    폴로니트 공구 정품일까? 해외직구, 아울렛 매장템과 비교 (165cm S사이즈) #폴로   \n",
       "117             👟아디다스가 작정하고 만든 역대 가장 가볍고 가장 비싼 1회용 러닝화   \n",
       "147       👟요즘, OO운동화가 뜨는 이유❓️'옷잘알'들은 미리 쟁이는 여름운동화 7 추천   \n",
       "148  🍃 고르고 고른 바람막이 9가지 추천 & 리뷰 | 나이키,아디다스,아크테릭스, 뉴발...   \n",
       "175  vlog | 성수동 쇼룸 투어 | 마뗑킴, 아비에무아, 아카이브앱크, 루에브르, 엠...   \n",
       "\n",
       "                    channel                channel_id           date  \\\n",
       "42                중고차 구해줘카즈  UCCRqjkldNAmheMKC7GinZfQ   2024. 6. 16.   \n",
       "49               채널명 크롤링 오류  UC4ulpGYm1cZvLOu68YN30XA  업로드 일자 크롤링 오류   \n",
       "50                 GQ KOREA  UC7QX2YavsZmS7Se3ZKOsCLQ   2024. 5. 30.   \n",
       "51               채널명 크롤링 오류  UCrvhkEt3YDJ4D2Cav6BhcxA  업로드 일자 크롤링 오류   \n",
       "52          배사임당BAESAIMDANG  UC9HqGIG0Bj8yB77dUJ-Eoxw   2024. 4. 21.   \n",
       "53               채널명 크롤링 오류  UCrvhkEt3YDJ4D2Cav6BhcxA  업로드 일자 크롤링 오류   \n",
       "55                 오늘부터 회계사  UClhPqabyOHBxJzMkQ7k-pxg   2024. 1. 24.   \n",
       "58              캘리킴 CaliKim  UCVRFZAzXvE_hfETVbKB3ooQ   2023. 9. 22.   \n",
       "59                   수박 겉핥기  UCrYRihqBAdmjlJMa1wV2Xcw   2024. 5. 15.   \n",
       "60                    슈스스TV  UC5W3wHMAkp6b_8HrhReP5aQ   2024. 5. 23.   \n",
       "68                      헬프맨  UChOCmROp3jzyMFbTeqZOiFg   2024. 1. 26.   \n",
       "69     포트배드Fashion Magazine  UCWRDpplrYog3AVXAFwnbdjQ   2023. 8. 28.   \n",
       "70                      소이진  UCXHN8unWyGmUmqeHosG69Fg   2023. 8. 27.   \n",
       "73                  오늘의 주우재  UCw-kXdzxMdMdLNI0ZlFFbmA   2023. 7. 21.   \n",
       "82                     허니스킨  UC-7WL4zuKJLrzOIWaeLq8cg   2024. 5. 13.   \n",
       "89                    어바웃쇼핑  UC6Ve4mB8Cvi3F4rlt3w4gaw   2023. 6. 20.   \n",
       "94                 리뷰하는 묘대리  UCqiYDhH7fs18whd09ekhrKg  2023. 10. 24.   \n",
       "117  애슬레틱 라이프 Athletic Life  UCM9MPGAGS-StU5swPiZHnHg   2023. 10. 4.   \n",
       "147     Bora Claire (보라끌레르)  UCSrRZH9QT6li5PIAv0r_6QA   2024. 5. 25.   \n",
       "148                     러브솔  UCy3Dp6QP6bQiB7dwsBZEgwQ   2024. 4. 21.   \n",
       "175          오로라이프 ohrolife  UCrN_QOb0VxLlGeAbLLDxnhw   2024. 3. 29.   \n",
       "\n",
       "           view           sub                        video url  \n",
       "42          711         12800  https://youtu.be/wppW7VZb8vw&pp  \n",
       "49   조회수 크롤링 오류  구독자 수 크롤링 오류  https://youtu.be/Izlr37KVDqk&pp  \n",
       "50        38000        453000  https://youtu.be/xbTIUETEhUM&pp  \n",
       "51   조회수 크롤링 오류  구독자 수 크롤링 오류  https://youtu.be/PBTlgVTuQVs&pp  \n",
       "52        46000         60599  https://youtu.be/i7WmGPuw-Bc&pp  \n",
       "53   조회수 크롤링 오류  구독자 수 크롤링 오류  https://youtu.be/fDS8aEif31M&pp  \n",
       "55        10000         55400  https://youtu.be/etqor2iEz6o&pp  \n",
       "58         5800          2780  https://youtu.be/gO4nbMYCiJI&pp  \n",
       "59         1400          7000  https://youtu.be/VsnmzIsDoTg&pp  \n",
       "60        34000        520000  https://youtu.be/EljrY8SRJZ4&pp  \n",
       "68         6600         23100  https://youtu.be/CSkfVqxF71I&pp  \n",
       "69        21000         21600  https://youtu.be/g3MHneshvLk&pp  \n",
       "70        18000          2060  https://youtu.be/y0ml6O7_1Io&pp  \n",
       "73       640000       1140000  https://youtu.be/0AoEK2kbR-k&pp  \n",
       "82          745          388명  https://youtu.be/jz8Ts08O2lc&pp  \n",
       "89           64          3590  https://youtu.be/kw0r8R1FQlM&pp  \n",
       "94        38000         28200  https://youtu.be/S3R4Pk3FrkI&pp  \n",
       "117      640000        105000  https://youtu.be/RaW5zjnGMAE&pp  \n",
       "147      180000        698000  https://youtu.be/5mq7y1E8jEY&pp  \n",
       "148      130000        117000  https://youtu.be/6tzHNvjMHoM&pp  \n",
       "175        1800          251명  https://youtu.be/HTwqTergcb8&pp  "
      ]
     },
     "execution_count": 37,
     "metadata": {},
     "output_type": "execute_result"
    }
   ],
   "source": [
    "# 중복되는 url 확인\n",
    "du = yt_data_copy[yt_data_copy.duplicated('video url')]\n",
    "du"
   ]
  },
  {
   "cell_type": "code",
   "execution_count": 38,
   "metadata": {},
   "outputs": [
    {
     "data": {
      "text/html": [
       "<div>\n",
       "<style scoped>\n",
       "    .dataframe tbody tr th:only-of-type {\n",
       "        vertical-align: middle;\n",
       "    }\n",
       "\n",
       "    .dataframe tbody tr th {\n",
       "        vertical-align: top;\n",
       "    }\n",
       "\n",
       "    .dataframe thead th {\n",
       "        text-align: right;\n",
       "    }\n",
       "</style>\n",
       "<table border=\"1\" class=\"dataframe\">\n",
       "  <thead>\n",
       "    <tr style=\"text-align: right;\">\n",
       "      <th></th>\n",
       "      <th>thumbnail</th>\n",
       "      <th>title</th>\n",
       "      <th>channel</th>\n",
       "      <th>channel_id</th>\n",
       "      <th>date</th>\n",
       "      <th>view</th>\n",
       "      <th>sub</th>\n",
       "      <th>video url</th>\n",
       "    </tr>\n",
       "  </thead>\n",
       "  <tbody>\n",
       "    <tr>\n",
       "      <th>0</th>\n",
       "      <td>https://img.youtube.com/vi/WFahF9s5aK4/sddefau...</td>\n",
       "      <td>폴로 지겨운거 압니다. [라코스테 이야기]</td>\n",
       "      <td>포트배드Fashion Magazine</td>\n",
       "      <td>UCWRDpplrYog3AVXAFwnbdjQ</td>\n",
       "      <td>2024. 6. 8.</td>\n",
       "      <td>10000</td>\n",
       "      <td>21600</td>\n",
       "      <td>https://youtu.be/WFahF9s5aK4&amp;pp</td>\n",
       "    </tr>\n",
       "    <tr>\n",
       "      <th>1</th>\n",
       "      <td>https://img.youtube.com/vi/xbTIUETEhUM/sddefau...</td>\n",
       "      <td>지금, 이 순간 영원히 기록될 T1의 여름 T1 X POLO RALPH LAUREN...</td>\n",
       "      <td>GQ KOREA</td>\n",
       "      <td>UC7QX2YavsZmS7Se3ZKOsCLQ</td>\n",
       "      <td>2024. 5. 30.</td>\n",
       "      <td>38000</td>\n",
       "      <td>453000</td>\n",
       "      <td>https://youtu.be/xbTIUETEhUM&amp;pp</td>\n",
       "    </tr>\n",
       "    <tr>\n",
       "      <th>2</th>\n",
       "      <td>https://img.youtube.com/vi/XbKEj4JVmOc/sddefau...</td>\n",
       "      <td>[하와이Vlog] 폴로 160만원 질렀습니다 👚 폴로저렴하게사는법 | 와이켈레 아울...</td>\n",
       "      <td></td>\n",
       "      <td>UC9_KJcD9gK1lZirJdH7rdww</td>\n",
       "      <td>최초 공개: 2023. 11. 8.</td>\n",
       "      <td>11000</td>\n",
       "      <td>869명</td>\n",
       "      <td>https://youtu.be/XbKEj4JVmOc&amp;pp</td>\n",
       "    </tr>\n",
       "    <tr>\n",
       "      <th>3</th>\n",
       "      <td>https://img.youtube.com/vi/ZXdhLzzbvHo/sddefau...</td>\n",
       "      <td>'여름 내내 입기 좋은' 폴로셔츠 &amp; 버뮤다팬츠 추천</td>\n",
       "      <td>호호시</td>\n",
       "      <td>UCTdMHmzV9J5gihbNrnuqEvA</td>\n",
       "      <td>2024. 6. 7.</td>\n",
       "      <td>11000</td>\n",
       "      <td>153000</td>\n",
       "      <td>https://youtu.be/ZXdhLzzbvHo&amp;pp</td>\n",
       "    </tr>\n",
       "    <tr>\n",
       "      <th>4</th>\n",
       "      <td>https://img.youtube.com/vi/PBTlgVTuQVs/sddefau...</td>\n",
       "      <td>마트에서 파는 폴로 랄프로렌 정품 가품 확인 (나이키, POLO, 타미... 모두 ...</td>\n",
       "      <td>b급TV</td>\n",
       "      <td>UCrvhkEt3YDJ4D2Cav6BhcxA</td>\n",
       "      <td>2023. 12. 17.</td>\n",
       "      <td>14000</td>\n",
       "      <td>35300</td>\n",
       "      <td>https://youtu.be/PBTlgVTuQVs&amp;pp</td>\n",
       "    </tr>\n",
       "    <tr>\n",
       "      <th>...</th>\n",
       "      <td>...</td>\n",
       "      <td>...</td>\n",
       "      <td>...</td>\n",
       "      <td>...</td>\n",
       "      <td>...</td>\n",
       "      <td>...</td>\n",
       "      <td>...</td>\n",
       "      <td>...</td>\n",
       "    </tr>\n",
       "    <tr>\n",
       "      <th>195</th>\n",
       "      <td>https://img.youtube.com/vi/ETVfRoFBvXs/sddefau...</td>\n",
       "      <td>올해 가장 잘 팔린   마뗑킴가디건   오늘의 인기추천   BEST  ㅣ추천템ㅣ생활...</td>\n",
       "      <td>리뷰닷컴</td>\n",
       "      <td>UCqxVqWEH9-xkA7ANaTE5Dhg</td>\n",
       "      <td>2024. 6. 4.</td>\n",
       "      <td>7</td>\n",
       "      <td>1700</td>\n",
       "      <td>https://youtu.be/ETVfRoFBvXs&amp;pp</td>\n",
       "    </tr>\n",
       "    <tr>\n",
       "      <th>196</th>\n",
       "      <td>https://img.youtube.com/vi/J4rlfq30nvI/sddefau...</td>\n",
       "      <td>˚✧₊Winter Diaries 겨울일기(어그,마뗑킴 패딩,쓰리타임즈,수지반팔,수아...</td>\n",
       "      <td>sse</td>\n",
       "      <td>UCa7AV7SlvCbj319FwLkw7Bg</td>\n",
       "      <td>2023. 11. 27.</td>\n",
       "      <td>615</td>\n",
       "      <td>18명</td>\n",
       "      <td>https://youtu.be/J4rlfq30nvI&amp;pp</td>\n",
       "    </tr>\n",
       "    <tr>\n",
       "      <th>197</th>\n",
       "      <td>https://img.youtube.com/vi/sW7mEfmUYM4/sddefau...</td>\n",
       "      <td>10만원대 데일리 만능백 추천ㅣ마뗑킴VS 가니(GANNI)ㅣ#제니백 ㅣ누가 누가 더...</td>\n",
       "      <td>쪼슈라이프 JJOCHOULIFE</td>\n",
       "      <td>UCVJ9ot42o1X9cTkOdTyJxQw</td>\n",
       "      <td>2024. 1. 7.</td>\n",
       "      <td>6400</td>\n",
       "      <td>2029</td>\n",
       "      <td>https://youtu.be/sW7mEfmUYM4&amp;pp</td>\n",
       "    </tr>\n",
       "    <tr>\n",
       "      <th>198</th>\n",
       "      <td>https://img.youtube.com/vi/gNOmq8MZhrk/sddefau...</td>\n",
       "      <td>요즘 산 것들 언박싱 🛍 까르띠에 시계•마르헨제이백•마뗑킴•젠틀몬스터•하트퍼센트•등...</td>\n",
       "      <td>MIYUT미윳</td>\n",
       "      <td>UCzjXBk6GY0wHt_iXAvKaaVA</td>\n",
       "      <td>2023. 10. 15.</td>\n",
       "      <td>32000</td>\n",
       "      <td>259000</td>\n",
       "      <td>https://youtu.be/gNOmq8MZhrk&amp;pp</td>\n",
       "    </tr>\n",
       "    <tr>\n",
       "      <th>199</th>\n",
       "      <td>https://img.youtube.com/vi/fM4f6rvu_mg/sddefau...</td>\n",
       "      <td>키링이..10만원?🧸1분만에 매진되는 핫한 키링들 사봄(모남희,마지셔우드,마뗑킴,코...</td>\n",
       "      <td>샨토끼</td>\n",
       "      <td>UCQHb4hhZ6PVkhNHttzlQmVw</td>\n",
       "      <td>2023. 8. 12.</td>\n",
       "      <td>12000</td>\n",
       "      <td>290000</td>\n",
       "      <td>https://youtu.be/fM4f6rvu_mg&amp;pp</td>\n",
       "    </tr>\n",
       "  </tbody>\n",
       "</table>\n",
       "<p>179 rows × 8 columns</p>\n",
       "</div>"
      ],
      "text/plain": [
       "                                             thumbnail  \\\n",
       "0    https://img.youtube.com/vi/WFahF9s5aK4/sddefau...   \n",
       "1    https://img.youtube.com/vi/xbTIUETEhUM/sddefau...   \n",
       "2    https://img.youtube.com/vi/XbKEj4JVmOc/sddefau...   \n",
       "3    https://img.youtube.com/vi/ZXdhLzzbvHo/sddefau...   \n",
       "4    https://img.youtube.com/vi/PBTlgVTuQVs/sddefau...   \n",
       "..                                                 ...   \n",
       "195  https://img.youtube.com/vi/ETVfRoFBvXs/sddefau...   \n",
       "196  https://img.youtube.com/vi/J4rlfq30nvI/sddefau...   \n",
       "197  https://img.youtube.com/vi/sW7mEfmUYM4/sddefau...   \n",
       "198  https://img.youtube.com/vi/gNOmq8MZhrk/sddefau...   \n",
       "199  https://img.youtube.com/vi/fM4f6rvu_mg/sddefau...   \n",
       "\n",
       "                                                 title               channel  \\\n",
       "0                              폴로 지겨운거 압니다. [라코스테 이야기]  포트배드Fashion Magazine   \n",
       "1    지금, 이 순간 영원히 기록될 T1의 여름 T1 X POLO RALPH LAUREN...              GQ KOREA   \n",
       "2    [하와이Vlog] 폴로 160만원 질렀습니다 👚 폴로저렴하게사는법 | 와이켈레 아울...                         \n",
       "3                        '여름 내내 입기 좋은' 폴로셔츠 & 버뮤다팬츠 추천                   호호시   \n",
       "4    마트에서 파는 폴로 랄프로렌 정품 가품 확인 (나이키, POLO, 타미... 모두 ...                  b급TV   \n",
       "..                                                 ...                   ...   \n",
       "195  올해 가장 잘 팔린   마뗑킴가디건   오늘의 인기추천   BEST  ㅣ추천템ㅣ생활...                  리뷰닷컴   \n",
       "196  ˚✧₊Winter Diaries 겨울일기(어그,마뗑킴 패딩,쓰리타임즈,수지반팔,수아...                   sse   \n",
       "197  10만원대 데일리 만능백 추천ㅣ마뗑킴VS 가니(GANNI)ㅣ#제니백 ㅣ누가 누가 더...     쪼슈라이프 JJOCHOULIFE   \n",
       "198  요즘 산 것들 언박싱 🛍 까르띠에 시계•마르헨제이백•마뗑킴•젠틀몬스터•하트퍼센트•등...               MIYUT미윳   \n",
       "199  키링이..10만원?🧸1분만에 매진되는 핫한 키링들 사봄(모남희,마지셔우드,마뗑킴,코...                   샨토끼   \n",
       "\n",
       "                   channel_id                 date   view     sub  \\\n",
       "0    UCWRDpplrYog3AVXAFwnbdjQ          2024. 6. 8.  10000   21600   \n",
       "1    UC7QX2YavsZmS7Se3ZKOsCLQ         2024. 5. 30.  38000  453000   \n",
       "2    UC9_KJcD9gK1lZirJdH7rdww  최초 공개: 2023. 11. 8.  11000    869명   \n",
       "3    UCTdMHmzV9J5gihbNrnuqEvA          2024. 6. 7.  11000  153000   \n",
       "4    UCrvhkEt3YDJ4D2Cav6BhcxA        2023. 12. 17.  14000   35300   \n",
       "..                        ...                  ...    ...     ...   \n",
       "195  UCqxVqWEH9-xkA7ANaTE5Dhg          2024. 6. 4.      7    1700   \n",
       "196  UCa7AV7SlvCbj319FwLkw7Bg        2023. 11. 27.    615     18명   \n",
       "197  UCVJ9ot42o1X9cTkOdTyJxQw          2024. 1. 7.   6400    2029   \n",
       "198  UCzjXBk6GY0wHt_iXAvKaaVA        2023. 10. 15.  32000  259000   \n",
       "199  UCQHb4hhZ6PVkhNHttzlQmVw         2023. 8. 12.  12000  290000   \n",
       "\n",
       "                           video url  \n",
       "0    https://youtu.be/WFahF9s5aK4&pp  \n",
       "1    https://youtu.be/xbTIUETEhUM&pp  \n",
       "2    https://youtu.be/XbKEj4JVmOc&pp  \n",
       "3    https://youtu.be/ZXdhLzzbvHo&pp  \n",
       "4    https://youtu.be/PBTlgVTuQVs&pp  \n",
       "..                               ...  \n",
       "195  https://youtu.be/ETVfRoFBvXs&pp  \n",
       "196  https://youtu.be/J4rlfq30nvI&pp  \n",
       "197  https://youtu.be/sW7mEfmUYM4&pp  \n",
       "198  https://youtu.be/gNOmq8MZhrk&pp  \n",
       "199  https://youtu.be/fM4f6rvu_mg&pp  \n",
       "\n",
       "[179 rows x 8 columns]"
      ]
     },
     "execution_count": 38,
     "metadata": {},
     "output_type": "execute_result"
    }
   ],
   "source": [
    "# 중복되는 url 삭제\n",
    "yt_data_fin = yt_data_copy.drop_duplicates('video url')\n",
    "yt_data_fin"
   ]
  },
  {
   "cell_type": "code",
   "execution_count": 9,
   "metadata": {},
   "outputs": [],
   "source": [
    "# # 결과 구글 시트에 저장\n",
    "# gc = pygsheets.authorize(service_account_file='creds.json')\n",
    "# sheetname= '크롤링 시도'\n",
    "# sh = gc.open(sheetname)\n",
    "\n",
    "# # 오류 발생 시, worksheet의 행 수 늘려서 재실행\n",
    "# wks = sh.worksheet_by_title('광고 시장')\n",
    "# wks.set_dataframe(, 'A1', index=False)"
   ]
  },
  {
   "cell_type": "code",
   "execution_count": 39,
   "metadata": {},
   "outputs": [],
   "source": [
    "yt_data_fin.to_csv('크롤링 시도.csv', encoding='utf-8-sig')"
   ]
  }
 ],
 "metadata": {
  "kernelspec": {
   "display_name": "Python 3 (ipykernel)",
   "language": "python",
   "name": "python3"
  },
  "language_info": {
   "codemirror_mode": {
    "name": "ipython",
    "version": 3
   },
   "file_extension": ".py",
   "mimetype": "text/x-python",
   "name": "python",
   "nbconvert_exporter": "python",
   "pygments_lexer": "ipython3",
   "version": "3.11.2"
  }
 },
 "nbformat": 4,
 "nbformat_minor": 2
}
